{
 "cells": [
  {
   "cell_type": "markdown",
   "metadata": {},
   "source": [
    "## Computer Games Market Research"
   ]
  },
  {
   "cell_type": "markdown",
   "metadata": {},
   "source": [
    "**Project Description**\n",
    "\n",
    "In the course of this study, we will analyze data on sales of computer games collected from open sources\n",
    "\n",
    "**The purpose of the study**\n",
    "\n",
    "Identify patterns that determine the success of a computer game\n",
    "\n",
    "**The essence of the study**\n",
    "\n",
    "To analyze the data, the results of which will help to build a strategy for promoting the store in the computer games market\n",
    "\n",
    "**Research objectives**\n",
    "\n",
    "Perform preprocessing of the initial data - fill in the gaps, work out anomalies and analyze the resulting data array to answer the questions posed in the purpose of the study\n",
    "\n",
    "**Initial data**\n",
    "\n",
    "For the study, a table is presented that includes about 16.5 thousand records of game sales. The table includes information about the name, platform, ratings, evaluation and sales statistics in different regions.\n",
    "\n",
    "**This study will be divided into several parts**\n",
    "\n",
    "Part 1. [Data overview](#Data-overview)\n",
    "\n",
    "Part 2. [Data preprocessing](#Data-preprocessing)\n",
    "\n",
    "1. [name](#name)\n",
    "2. [platform](#platform)\n",
    "3. [year_of_release](#year_of_release)\n",
    "4. [genre](#genre)\n",
    "5. [scores](#scores)\n",
    "6. [Total sales](#Total-sales)\n",
    "\n",
    "Part 3. [Research data analysis](#Research-data-analysis)\n",
    "1. [How many games have been released over the years](#How-many-games-have-been-released-over-the-years)\n",
    "2. [Sales by platform](#Sales-by-platform)\n",
    "3. [Which platforms are leading in sales, are they growing or falling?](#Which-platforms-are-leading-in-sales,-are-they-growing-or-falling?)\n",
    "4. [Boxplot by global game sales by platform](#Boxplot-by-global-game-sales-by-platform)\n",
    "5. [How do user reviews and critics affect sales within one popular platform](#How-do-user-reviews-and-critics-affect-sales-within-one-popular-platform)\n",
    "6. [Correlate the findings with the sales of games on other platforms](#Correlate-the-findings-with-the-sales-of-games-on-other-platforms)\n",
    "7. [General distribution of games by genre](#General-distribution-of-games-by-genre)\n",
    "\n",
    "Part 4. [Portrait of the user of each region](#Portrait-of-the-user-of-each-region)\n",
    "1. [Most popular platforms](#Most-popular-platforms)\n",
    " 1.1 [North America](#North-America)\n",
    " 1.2 [Europe](#Europe)\n",
    " 1.3 [Japan](#Japan)\n",
    "2. [Most popular genres](#Most-popular-genres)\n",
    " 2.1 [North America](#North-America)\n",
    " 2.2 [Europe](#Europe)\n",
    " 2.3 [Japan](#Japan)\n",
    "3. [The impact of the ESRB rating on sales in a particular region](#The-impact-of-the-ESRB-rating-on-sales-in-a-particular-region)\n",
    " 3.1 [North America](#North-America)\n",
    " 3.2 [Europe](#Europe)\n",
    " 3.3 [Japan](#Japan)\n",
    "\n",
    "Part 5. [Hypothesis testing](#Hypothesis-testing)\n",
    "1. [The average user ratings of the Xbox One and PC platforms are the same](#The-average-user-ratings-of-the-Xbox-One-and-PC-platforms-are-the-same)\n",
    "2. [Average user ratings of Action and Sports genres are different](#Average-user-ratings-of-Action-and-Sports-genres-are-different)\n",
    "\n",
    "Part 6. [General conclusion](#General-conclusion)"
   ]
  },
  {
   "cell_type": "markdown",
   "metadata": {},
   "source": [
    "### Data overview"
   ]
  },
  {
   "cell_type": "code",
   "execution_count": 1,
   "metadata": {},
   "outputs": [
    {
     "data": {
      "text/html": [
       "<div>\n",
       "<style scoped>\n",
       "    .dataframe tbody tr th:only-of-type {\n",
       "        vertical-align: middle;\n",
       "    }\n",
       "\n",
       "    .dataframe tbody tr th {\n",
       "        vertical-align: top;\n",
       "    }\n",
       "\n",
       "    .dataframe thead th {\n",
       "        text-align: right;\n",
       "    }\n",
       "</style>\n",
       "<table border=\"1\" class=\"dataframe\">\n",
       "  <thead>\n",
       "    <tr style=\"text-align: right;\">\n",
       "      <th></th>\n",
       "      <th>Name</th>\n",
       "      <th>Platform</th>\n",
       "      <th>Year_of_Release</th>\n",
       "      <th>Genre</th>\n",
       "      <th>NA_sales</th>\n",
       "      <th>EU_sales</th>\n",
       "      <th>JP_sales</th>\n",
       "      <th>Other_sales</th>\n",
       "      <th>Critic_Score</th>\n",
       "      <th>User_Score</th>\n",
       "      <th>Rating</th>\n",
       "    </tr>\n",
       "  </thead>\n",
       "  <tbody>\n",
       "    <tr>\n",
       "      <th>0</th>\n",
       "      <td>Wii Sports</td>\n",
       "      <td>Wii</td>\n",
       "      <td>2006.0</td>\n",
       "      <td>Sports</td>\n",
       "      <td>41.36</td>\n",
       "      <td>28.96</td>\n",
       "      <td>3.77</td>\n",
       "      <td>8.45</td>\n",
       "      <td>76.0</td>\n",
       "      <td>8</td>\n",
       "      <td>E</td>\n",
       "    </tr>\n",
       "    <tr>\n",
       "      <th>1</th>\n",
       "      <td>Super Mario Bros.</td>\n",
       "      <td>NES</td>\n",
       "      <td>1985.0</td>\n",
       "      <td>Platform</td>\n",
       "      <td>29.08</td>\n",
       "      <td>3.58</td>\n",
       "      <td>6.81</td>\n",
       "      <td>0.77</td>\n",
       "      <td>NaN</td>\n",
       "      <td>NaN</td>\n",
       "      <td>NaN</td>\n",
       "    </tr>\n",
       "    <tr>\n",
       "      <th>2</th>\n",
       "      <td>Mario Kart Wii</td>\n",
       "      <td>Wii</td>\n",
       "      <td>2008.0</td>\n",
       "      <td>Racing</td>\n",
       "      <td>15.68</td>\n",
       "      <td>12.76</td>\n",
       "      <td>3.79</td>\n",
       "      <td>3.29</td>\n",
       "      <td>82.0</td>\n",
       "      <td>8.3</td>\n",
       "      <td>E</td>\n",
       "    </tr>\n",
       "    <tr>\n",
       "      <th>3</th>\n",
       "      <td>Wii Sports Resort</td>\n",
       "      <td>Wii</td>\n",
       "      <td>2009.0</td>\n",
       "      <td>Sports</td>\n",
       "      <td>15.61</td>\n",
       "      <td>10.93</td>\n",
       "      <td>3.28</td>\n",
       "      <td>2.95</td>\n",
       "      <td>80.0</td>\n",
       "      <td>8</td>\n",
       "      <td>E</td>\n",
       "    </tr>\n",
       "    <tr>\n",
       "      <th>4</th>\n",
       "      <td>Pokemon Red/Pokemon Blue</td>\n",
       "      <td>GB</td>\n",
       "      <td>1996.0</td>\n",
       "      <td>Role-Playing</td>\n",
       "      <td>11.27</td>\n",
       "      <td>8.89</td>\n",
       "      <td>10.22</td>\n",
       "      <td>1.0</td>\n",
       "      <td>NaN</td>\n",
       "      <td>NaN</td>\n",
       "      <td>NaN</td>\n",
       "    </tr>\n",
       "    <tr>\n",
       "      <th>...</th>\n",
       "      <td>...</td>\n",
       "      <td>...</td>\n",
       "      <td>...</td>\n",
       "      <td>...</td>\n",
       "      <td>...</td>\n",
       "      <td>...</td>\n",
       "      <td>...</td>\n",
       "      <td>...</td>\n",
       "      <td>...</td>\n",
       "      <td>...</td>\n",
       "      <td>...</td>\n",
       "    </tr>\n",
       "    <tr>\n",
       "      <th>16710</th>\n",
       "      <td>Samurai Warriors: Sanada Maru</td>\n",
       "      <td>PS3</td>\n",
       "      <td>2016.0</td>\n",
       "      <td>Action</td>\n",
       "      <td>0.0</td>\n",
       "      <td>0.0</td>\n",
       "      <td>0.01</td>\n",
       "      <td>0.0</td>\n",
       "      <td>NaN</td>\n",
       "      <td>NaN</td>\n",
       "      <td>NaN</td>\n",
       "    </tr>\n",
       "    <tr>\n",
       "      <th>16711</th>\n",
       "      <td>LMA Manager 2007</td>\n",
       "      <td>X360</td>\n",
       "      <td>2006.0</td>\n",
       "      <td>Sports</td>\n",
       "      <td>0.0</td>\n",
       "      <td>0.01</td>\n",
       "      <td>0.0</td>\n",
       "      <td>0.0</td>\n",
       "      <td>NaN</td>\n",
       "      <td>NaN</td>\n",
       "      <td>NaN</td>\n",
       "    </tr>\n",
       "    <tr>\n",
       "      <th>16712</th>\n",
       "      <td>Haitaka no Psychedelica</td>\n",
       "      <td>PSV</td>\n",
       "      <td>2016.0</td>\n",
       "      <td>Adventure</td>\n",
       "      <td>0.0</td>\n",
       "      <td>0.0</td>\n",
       "      <td>0.01</td>\n",
       "      <td>0.0</td>\n",
       "      <td>NaN</td>\n",
       "      <td>NaN</td>\n",
       "      <td>NaN</td>\n",
       "    </tr>\n",
       "    <tr>\n",
       "      <th>16713</th>\n",
       "      <td>Spirits &amp; Spells</td>\n",
       "      <td>GBA</td>\n",
       "      <td>2003.0</td>\n",
       "      <td>Platform</td>\n",
       "      <td>0.01</td>\n",
       "      <td>0.0</td>\n",
       "      <td>0.0</td>\n",
       "      <td>0.0</td>\n",
       "      <td>NaN</td>\n",
       "      <td>NaN</td>\n",
       "      <td>NaN</td>\n",
       "    </tr>\n",
       "    <tr>\n",
       "      <th>16714</th>\n",
       "      <td>Winning Post 8 2016</td>\n",
       "      <td>PSV</td>\n",
       "      <td>2016.0</td>\n",
       "      <td>Simulation</td>\n",
       "      <td>0.0</td>\n",
       "      <td>0.0</td>\n",
       "      <td>0.01</td>\n",
       "      <td>0.0</td>\n",
       "      <td>NaN</td>\n",
       "      <td>NaN</td>\n",
       "      <td>NaN</td>\n",
       "    </tr>\n",
       "  </tbody>\n",
       "</table>\n",
       "<p>16715 rows × 11 columns</p>\n",
       "</div>"
      ],
      "text/plain": [
       "                                Name Platform Year_of_Release         Genre  \\\n",
       "0                         Wii Sports      Wii          2006.0        Sports   \n",
       "1                  Super Mario Bros.      NES          1985.0      Platform   \n",
       "2                     Mario Kart Wii      Wii          2008.0        Racing   \n",
       "3                  Wii Sports Resort      Wii          2009.0        Sports   \n",
       "4           Pokemon Red/Pokemon Blue       GB          1996.0  Role-Playing   \n",
       "...                              ...      ...             ...           ...   \n",
       "16710  Samurai Warriors: Sanada Maru      PS3          2016.0        Action   \n",
       "16711               LMA Manager 2007     X360          2006.0        Sports   \n",
       "16712        Haitaka no Psychedelica      PSV          2016.0     Adventure   \n",
       "16713               Spirits & Spells      GBA          2003.0      Platform   \n",
       "16714            Winning Post 8 2016      PSV          2016.0    Simulation   \n",
       "\n",
       "      NA_sales EU_sales JP_sales Other_sales Critic_Score User_Score Rating  \n",
       "0        41.36    28.96     3.77        8.45         76.0          8      E  \n",
       "1        29.08     3.58     6.81        0.77          NaN        NaN    NaN  \n",
       "2        15.68    12.76     3.79        3.29         82.0        8.3      E  \n",
       "3        15.61    10.93     3.28        2.95         80.0          8      E  \n",
       "4        11.27     8.89    10.22         1.0          NaN        NaN    NaN  \n",
       "...        ...      ...      ...         ...          ...        ...    ...  \n",
       "16710      0.0      0.0     0.01         0.0          NaN        NaN    NaN  \n",
       "16711      0.0     0.01      0.0         0.0          NaN        NaN    NaN  \n",
       "16712      0.0      0.0     0.01         0.0          NaN        NaN    NaN  \n",
       "16713     0.01      0.0      0.0         0.0          NaN        NaN    NaN  \n",
       "16714      0.0      0.0     0.01         0.0          NaN        NaN    NaN  \n",
       "\n",
       "[16715 rows x 11 columns]"
      ]
     },
     "execution_count": 1,
     "metadata": {},
     "output_type": "execute_result"
    }
   ],
   "source": [
    "import pandas as pd\n",
    "import matplotlib as plt\n",
    "import numpy as np\n",
    "import matplotlib.pyplot as plt\n",
    "import seaborn as sns\n",
    "from scipy import stats as st\n",
    "import warnings\n",
    "warnings.filterwarnings('ignore')\n",
    "\n",
    "try:\n",
    "    data = pd.read_csv('D:/Документы/LinkedIn/6 Сборный Проект — 1/games.csv', decimal = ',')  # Local path\n",
    "except:\n",
    "    data = pd.read_csv('/datasets/games.csv', decimal = ',')\n",
    "data"
   ]
  },
  {
   "cell_type": "code",
   "execution_count": 2,
   "metadata": {},
   "outputs": [
    {
     "name": "stdout",
     "output_type": "stream",
     "text": [
      "<class 'pandas.core.frame.DataFrame'>\n",
      "RangeIndex: 16715 entries, 0 to 16714\n",
      "Data columns (total 11 columns):\n",
      " #   Column           Non-Null Count  Dtype \n",
      "---  ------           --------------  ----- \n",
      " 0   Name             16713 non-null  object\n",
      " 1   Platform         16715 non-null  object\n",
      " 2   Year_of_Release  16446 non-null  object\n",
      " 3   Genre            16713 non-null  object\n",
      " 4   NA_sales         16715 non-null  object\n",
      " 5   EU_sales         16715 non-null  object\n",
      " 6   JP_sales         16715 non-null  object\n",
      " 7   Other_sales      16715 non-null  object\n",
      " 8   Critic_Score     8137 non-null   object\n",
      " 9   User_Score       10014 non-null  object\n",
      " 10  Rating           9949 non-null   object\n",
      "dtypes: object(11)\n",
      "memory usage: 1.4+ MB\n"
     ]
    }
   ],
   "source": [
    "data.info()"
   ]
  },
  {
   "cell_type": "markdown",
   "metadata": {},
   "source": [
    "As part of a general overview of the data, the first thing that can be noticed is that the data type is not appropriate and there are omissions in different columns. Somewhere more, somewhere less. At the same time, in general, the information, i.e. the number of rows in the table is enough to build hypotheses."
   ]
  },
  {
   "cell_type": "markdown",
   "metadata": {},
   "source": [
    "### Data preprocessing"
   ]
  },
  {
   "cell_type": "markdown",
   "metadata": {},
   "source": [
    "As part of the data preprocessing, we will go through each column separately. Let's look at the gaps, let's match the data type, let's look at rare and out-of-place values. But first of all, let's fix the general problem of the table - the names of columns. Let's bring them to the lower case. Additionally, as part of the general processing, we will check the table for obvious duplicates, so that we do not return to this issue later."
   ]
  },
  {
   "cell_type": "code",
   "execution_count": 3,
   "metadata": {},
   "outputs": [
    {
     "data": {
      "text/plain": [
       "Index(['name', 'platform', 'year_of_release', 'genre', 'na_sales', 'eu_sales',\n",
       "       'jp_sales', 'other_sales', 'critic_score', 'user_score', 'rating'],\n",
       "      dtype='object')"
      ]
     },
     "metadata": {},
     "output_type": "display_data"
    },
    {
     "data": {
      "text/plain": [
       "0"
      ]
     },
     "execution_count": 3,
     "metadata": {},
     "output_type": "execute_result"
    }
   ],
   "source": [
    "data.rename(mapper=str.lower, axis=1, inplace=True)\n",
    "display(data.columns)\n",
    "data.duplicated().sum()"
   ]
  },
  {
   "cell_type": "markdown",
   "metadata": {},
   "source": [
    "The column names have been corrected, there are no duplicates, we can proceed to processing each one separately"
   ]
  },
  {
   "cell_type": "markdown",
   "metadata": {},
   "source": [
    "#### name"
   ]
  },
  {
   "cell_type": "markdown",
   "metadata": {},
   "source": [
    "There are 2 missing values in the name column. There is no way to restore them, so it will be easier to exclude them, since 2 values will not affect the overall picture in any way."
   ]
  },
  {
   "cell_type": "code",
   "execution_count": 4,
   "metadata": {},
   "outputs": [],
   "source": [
    "data = data.query('name==name')"
   ]
  },
  {
   "cell_type": "markdown",
   "metadata": {},
   "source": [
    "There is nothing more to correct in this column, we move on to the next one."
   ]
  },
  {
   "cell_type": "markdown",
   "metadata": {},
   "source": [
    "#### platform"
   ]
  },
  {
   "cell_type": "markdown",
   "metadata": {},
   "source": [
    "There are no missing values and the data type is correct. Let's check for implicit duplicates"
   ]
  },
  {
   "cell_type": "code",
   "execution_count": 5,
   "metadata": {},
   "outputs": [
    {
     "data": {
      "text/plain": [
       "array(['Wii', 'NES', 'GB', 'DS', 'X360', 'PS3', 'PS2', 'SNES', 'GBA',\n",
       "       'PS4', '3DS', 'N64', 'PS', 'XB', 'PC', '2600', 'PSP', 'XOne',\n",
       "       'WiiU', 'GC', 'GEN', 'DC', 'PSV', 'SAT', 'SCD', 'WS', 'NG', 'TG16',\n",
       "       '3DO', 'GG', 'PCFX'], dtype=object)"
      ]
     },
     "execution_count": 5,
     "metadata": {},
     "output_type": "execute_result"
    }
   ],
   "source": [
    "data['platform'].unique()"
   ]
  },
  {
   "cell_type": "markdown",
   "metadata": {},
   "source": [
    "No duplicates have been identified, we can move on."
   ]
  },
  {
   "cell_type": "markdown",
   "metadata": {},
   "source": [
    "#### year_of_release"
   ]
  },
  {
   "cell_type": "markdown",
   "metadata": {},
   "source": [
    "There are already about 250 missing values in the column. Too much volume to put down the years manually, finding the year of release of the game on the Internet. But, at the same time, it is still not so large a volume as to greatly affect the final result (about 1.5%). Let's look at the rows with the missing year and if there are no other columns to which values can be linked, delete the rows."
   ]
  },
  {
   "cell_type": "code",
   "execution_count": 6,
   "metadata": {},
   "outputs": [
    {
     "data": {
      "text/html": [
       "<div>\n",
       "<style scoped>\n",
       "    .dataframe tbody tr th:only-of-type {\n",
       "        vertical-align: middle;\n",
       "    }\n",
       "\n",
       "    .dataframe tbody tr th {\n",
       "        vertical-align: top;\n",
       "    }\n",
       "\n",
       "    .dataframe thead th {\n",
       "        text-align: right;\n",
       "    }\n",
       "</style>\n",
       "<table border=\"1\" class=\"dataframe\">\n",
       "  <thead>\n",
       "    <tr style=\"text-align: right;\">\n",
       "      <th></th>\n",
       "      <th>name</th>\n",
       "      <th>platform</th>\n",
       "      <th>year_of_release</th>\n",
       "      <th>genre</th>\n",
       "      <th>na_sales</th>\n",
       "      <th>eu_sales</th>\n",
       "      <th>jp_sales</th>\n",
       "      <th>other_sales</th>\n",
       "      <th>critic_score</th>\n",
       "      <th>user_score</th>\n",
       "      <th>rating</th>\n",
       "    </tr>\n",
       "  </thead>\n",
       "  <tbody>\n",
       "    <tr>\n",
       "      <th>183</th>\n",
       "      <td>Madden NFL 2004</td>\n",
       "      <td>PS2</td>\n",
       "      <td>NaN</td>\n",
       "      <td>Sports</td>\n",
       "      <td>4.26</td>\n",
       "      <td>0.26</td>\n",
       "      <td>0.01</td>\n",
       "      <td>0.71</td>\n",
       "      <td>94.0</td>\n",
       "      <td>8.5</td>\n",
       "      <td>E</td>\n",
       "    </tr>\n",
       "    <tr>\n",
       "      <th>377</th>\n",
       "      <td>FIFA Soccer 2004</td>\n",
       "      <td>PS2</td>\n",
       "      <td>NaN</td>\n",
       "      <td>Sports</td>\n",
       "      <td>0.59</td>\n",
       "      <td>2.36</td>\n",
       "      <td>0.04</td>\n",
       "      <td>0.51</td>\n",
       "      <td>84.0</td>\n",
       "      <td>6.4</td>\n",
       "      <td>E</td>\n",
       "    </tr>\n",
       "    <tr>\n",
       "      <th>456</th>\n",
       "      <td>LEGO Batman: The Videogame</td>\n",
       "      <td>Wii</td>\n",
       "      <td>NaN</td>\n",
       "      <td>Action</td>\n",
       "      <td>1.8</td>\n",
       "      <td>0.97</td>\n",
       "      <td>0.0</td>\n",
       "      <td>0.29</td>\n",
       "      <td>74.0</td>\n",
       "      <td>7.9</td>\n",
       "      <td>E10+</td>\n",
       "    </tr>\n",
       "    <tr>\n",
       "      <th>475</th>\n",
       "      <td>wwe Smackdown vs. Raw 2006</td>\n",
       "      <td>PS2</td>\n",
       "      <td>NaN</td>\n",
       "      <td>Fighting</td>\n",
       "      <td>1.57</td>\n",
       "      <td>1.02</td>\n",
       "      <td>0.0</td>\n",
       "      <td>0.41</td>\n",
       "      <td>NaN</td>\n",
       "      <td>NaN</td>\n",
       "      <td>NaN</td>\n",
       "    </tr>\n",
       "    <tr>\n",
       "      <th>609</th>\n",
       "      <td>Space Invaders</td>\n",
       "      <td>2600</td>\n",
       "      <td>NaN</td>\n",
       "      <td>Shooter</td>\n",
       "      <td>2.36</td>\n",
       "      <td>0.14</td>\n",
       "      <td>0.0</td>\n",
       "      <td>0.03</td>\n",
       "      <td>NaN</td>\n",
       "      <td>NaN</td>\n",
       "      <td>NaN</td>\n",
       "    </tr>\n",
       "    <tr>\n",
       "      <th>...</th>\n",
       "      <td>...</td>\n",
       "      <td>...</td>\n",
       "      <td>...</td>\n",
       "      <td>...</td>\n",
       "      <td>...</td>\n",
       "      <td>...</td>\n",
       "      <td>...</td>\n",
       "      <td>...</td>\n",
       "      <td>...</td>\n",
       "      <td>...</td>\n",
       "      <td>...</td>\n",
       "    </tr>\n",
       "    <tr>\n",
       "      <th>16373</th>\n",
       "      <td>PDC World Championship Darts 2008</td>\n",
       "      <td>PSP</td>\n",
       "      <td>NaN</td>\n",
       "      <td>Sports</td>\n",
       "      <td>0.01</td>\n",
       "      <td>0.0</td>\n",
       "      <td>0.0</td>\n",
       "      <td>0.0</td>\n",
       "      <td>43.0</td>\n",
       "      <td>tbd</td>\n",
       "      <td>E10+</td>\n",
       "    </tr>\n",
       "    <tr>\n",
       "      <th>16405</th>\n",
       "      <td>Freaky Flyers</td>\n",
       "      <td>GC</td>\n",
       "      <td>NaN</td>\n",
       "      <td>Racing</td>\n",
       "      <td>0.01</td>\n",
       "      <td>0.0</td>\n",
       "      <td>0.0</td>\n",
       "      <td>0.0</td>\n",
       "      <td>69.0</td>\n",
       "      <td>6.5</td>\n",
       "      <td>T</td>\n",
       "    </tr>\n",
       "    <tr>\n",
       "      <th>16448</th>\n",
       "      <td>Inversion</td>\n",
       "      <td>PC</td>\n",
       "      <td>NaN</td>\n",
       "      <td>Shooter</td>\n",
       "      <td>0.01</td>\n",
       "      <td>0.0</td>\n",
       "      <td>0.0</td>\n",
       "      <td>0.0</td>\n",
       "      <td>59.0</td>\n",
       "      <td>6.7</td>\n",
       "      <td>M</td>\n",
       "    </tr>\n",
       "    <tr>\n",
       "      <th>16458</th>\n",
       "      <td>Hakuouki: Shinsengumi Kitan</td>\n",
       "      <td>PS3</td>\n",
       "      <td>NaN</td>\n",
       "      <td>Adventure</td>\n",
       "      <td>0.01</td>\n",
       "      <td>0.0</td>\n",
       "      <td>0.0</td>\n",
       "      <td>0.0</td>\n",
       "      <td>NaN</td>\n",
       "      <td>NaN</td>\n",
       "      <td>NaN</td>\n",
       "    </tr>\n",
       "    <tr>\n",
       "      <th>16522</th>\n",
       "      <td>Virtua Quest</td>\n",
       "      <td>GC</td>\n",
       "      <td>NaN</td>\n",
       "      <td>Role-Playing</td>\n",
       "      <td>0.01</td>\n",
       "      <td>0.0</td>\n",
       "      <td>0.0</td>\n",
       "      <td>0.0</td>\n",
       "      <td>55.0</td>\n",
       "      <td>5.5</td>\n",
       "      <td>T</td>\n",
       "    </tr>\n",
       "  </tbody>\n",
       "</table>\n",
       "<p>269 rows × 11 columns</p>\n",
       "</div>"
      ],
      "text/plain": [
       "                                    name platform year_of_release  \\\n",
       "183                      Madden NFL 2004      PS2             NaN   \n",
       "377                     FIFA Soccer 2004      PS2             NaN   \n",
       "456           LEGO Batman: The Videogame      Wii             NaN   \n",
       "475           wwe Smackdown vs. Raw 2006      PS2             NaN   \n",
       "609                       Space Invaders     2600             NaN   \n",
       "...                                  ...      ...             ...   \n",
       "16373  PDC World Championship Darts 2008      PSP             NaN   \n",
       "16405                      Freaky Flyers       GC             NaN   \n",
       "16448                          Inversion       PC             NaN   \n",
       "16458        Hakuouki: Shinsengumi Kitan      PS3             NaN   \n",
       "16522                       Virtua Quest       GC             NaN   \n",
       "\n",
       "              genre na_sales eu_sales jp_sales other_sales critic_score  \\\n",
       "183          Sports     4.26     0.26     0.01        0.71         94.0   \n",
       "377          Sports     0.59     2.36     0.04        0.51         84.0   \n",
       "456          Action      1.8     0.97      0.0        0.29         74.0   \n",
       "475        Fighting     1.57     1.02      0.0        0.41          NaN   \n",
       "609         Shooter     2.36     0.14      0.0        0.03          NaN   \n",
       "...             ...      ...      ...      ...         ...          ...   \n",
       "16373        Sports     0.01      0.0      0.0         0.0         43.0   \n",
       "16405        Racing     0.01      0.0      0.0         0.0         69.0   \n",
       "16448       Shooter     0.01      0.0      0.0         0.0         59.0   \n",
       "16458     Adventure     0.01      0.0      0.0         0.0          NaN   \n",
       "16522  Role-Playing     0.01      0.0      0.0         0.0         55.0   \n",
       "\n",
       "      user_score rating  \n",
       "183          8.5      E  \n",
       "377          6.4      E  \n",
       "456          7.9   E10+  \n",
       "475          NaN    NaN  \n",
       "609          NaN    NaN  \n",
       "...          ...    ...  \n",
       "16373        tbd   E10+  \n",
       "16405        6.5      T  \n",
       "16448        6.7      M  \n",
       "16458        NaN    NaN  \n",
       "16522        5.5      T  \n",
       "\n",
       "[269 rows x 11 columns]"
      ]
     },
     "execution_count": 6,
     "metadata": {},
     "output_type": "execute_result"
    }
   ],
   "source": [
    "data.query('year_of_release != year_of_release')"
   ]
  },
  {
   "cell_type": "markdown",
   "metadata": {},
   "source": [
    "The list includes games whose year is indicated in the name. And some of them are popular. We will not look through all the name lines, but will select only those games that have sold more than a million copies in any of the regions. For the code to work correctly, we will assign the corresponding float type to the sales values. There are no missing values there."
   ]
  },
  {
   "cell_type": "code",
   "execution_count": 7,
   "metadata": {
    "scrolled": true
   },
   "outputs": [],
   "source": [
    "data['na_sales'] = data['na_sales'].astype('float')\n",
    "data['eu_sales'] = data['eu_sales'].astype('float')\n",
    "data['jp_sales'] = data['jp_sales'].astype('float')\n",
    "data['other_sales'] = data['other_sales'].astype('float')\n",
    "million_sales = data.query('(year_of_release != year_of_release) and (na_sales > 1 or eu_sales > 1 or jp_sales > 1 or other_sales > 1)')"
   ]
  },
  {
   "cell_type": "code",
   "execution_count": 8,
   "metadata": {},
   "outputs": [
    {
     "data": {
      "text/html": [
       "<div>\n",
       "<style scoped>\n",
       "    .dataframe tbody tr th:only-of-type {\n",
       "        vertical-align: middle;\n",
       "    }\n",
       "\n",
       "    .dataframe tbody tr th {\n",
       "        vertical-align: top;\n",
       "    }\n",
       "\n",
       "    .dataframe thead th {\n",
       "        text-align: right;\n",
       "    }\n",
       "</style>\n",
       "<table border=\"1\" class=\"dataframe\">\n",
       "  <thead>\n",
       "    <tr style=\"text-align: right;\">\n",
       "      <th></th>\n",
       "      <th>name</th>\n",
       "      <th>platform</th>\n",
       "      <th>year_of_release</th>\n",
       "      <th>genre</th>\n",
       "      <th>na_sales</th>\n",
       "      <th>eu_sales</th>\n",
       "      <th>jp_sales</th>\n",
       "      <th>other_sales</th>\n",
       "      <th>critic_score</th>\n",
       "      <th>user_score</th>\n",
       "      <th>rating</th>\n",
       "    </tr>\n",
       "  </thead>\n",
       "  <tbody>\n",
       "    <tr>\n",
       "      <th>183</th>\n",
       "      <td>Madden NFL 2004</td>\n",
       "      <td>PS2</td>\n",
       "      <td>NaN</td>\n",
       "      <td>Sports</td>\n",
       "      <td>4.26</td>\n",
       "      <td>0.26</td>\n",
       "      <td>0.01</td>\n",
       "      <td>0.71</td>\n",
       "      <td>94.0</td>\n",
       "      <td>8.5</td>\n",
       "      <td>E</td>\n",
       "    </tr>\n",
       "    <tr>\n",
       "      <th>377</th>\n",
       "      <td>FIFA Soccer 2004</td>\n",
       "      <td>PS2</td>\n",
       "      <td>NaN</td>\n",
       "      <td>Sports</td>\n",
       "      <td>0.59</td>\n",
       "      <td>2.36</td>\n",
       "      <td>0.04</td>\n",
       "      <td>0.51</td>\n",
       "      <td>84.0</td>\n",
       "      <td>6.4</td>\n",
       "      <td>E</td>\n",
       "    </tr>\n",
       "    <tr>\n",
       "      <th>456</th>\n",
       "      <td>LEGO Batman: The Videogame</td>\n",
       "      <td>Wii</td>\n",
       "      <td>NaN</td>\n",
       "      <td>Action</td>\n",
       "      <td>1.80</td>\n",
       "      <td>0.97</td>\n",
       "      <td>0.00</td>\n",
       "      <td>0.29</td>\n",
       "      <td>74.0</td>\n",
       "      <td>7.9</td>\n",
       "      <td>E10+</td>\n",
       "    </tr>\n",
       "    <tr>\n",
       "      <th>475</th>\n",
       "      <td>wwe Smackdown vs. Raw 2006</td>\n",
       "      <td>PS2</td>\n",
       "      <td>NaN</td>\n",
       "      <td>Fighting</td>\n",
       "      <td>1.57</td>\n",
       "      <td>1.02</td>\n",
       "      <td>0.00</td>\n",
       "      <td>0.41</td>\n",
       "      <td>NaN</td>\n",
       "      <td>NaN</td>\n",
       "      <td>NaN</td>\n",
       "    </tr>\n",
       "    <tr>\n",
       "      <th>609</th>\n",
       "      <td>Space Invaders</td>\n",
       "      <td>2600</td>\n",
       "      <td>NaN</td>\n",
       "      <td>Shooter</td>\n",
       "      <td>2.36</td>\n",
       "      <td>0.14</td>\n",
       "      <td>0.00</td>\n",
       "      <td>0.03</td>\n",
       "      <td>NaN</td>\n",
       "      <td>NaN</td>\n",
       "      <td>NaN</td>\n",
       "    </tr>\n",
       "    <tr>\n",
       "      <th>627</th>\n",
       "      <td>Rock Band</td>\n",
       "      <td>X360</td>\n",
       "      <td>NaN</td>\n",
       "      <td>Misc</td>\n",
       "      <td>1.93</td>\n",
       "      <td>0.33</td>\n",
       "      <td>0.00</td>\n",
       "      <td>0.21</td>\n",
       "      <td>92.0</td>\n",
       "      <td>8.2</td>\n",
       "      <td>T</td>\n",
       "    </tr>\n",
       "    <tr>\n",
       "      <th>657</th>\n",
       "      <td>Frogger's Adventures: Temple of the Frog</td>\n",
       "      <td>GBA</td>\n",
       "      <td>NaN</td>\n",
       "      <td>Adventure</td>\n",
       "      <td>2.15</td>\n",
       "      <td>0.18</td>\n",
       "      <td>0.00</td>\n",
       "      <td>0.07</td>\n",
       "      <td>73.0</td>\n",
       "      <td>tbd</td>\n",
       "      <td>E</td>\n",
       "    </tr>\n",
       "    <tr>\n",
       "      <th>678</th>\n",
       "      <td>LEGO Indiana Jones: The Original Adventures</td>\n",
       "      <td>Wii</td>\n",
       "      <td>NaN</td>\n",
       "      <td>Action</td>\n",
       "      <td>1.51</td>\n",
       "      <td>0.61</td>\n",
       "      <td>0.00</td>\n",
       "      <td>0.21</td>\n",
       "      <td>78.0</td>\n",
       "      <td>6.6</td>\n",
       "      <td>E10+</td>\n",
       "    </tr>\n",
       "    <tr>\n",
       "      <th>719</th>\n",
       "      <td>Call of Duty 3</td>\n",
       "      <td>Wii</td>\n",
       "      <td>NaN</td>\n",
       "      <td>Shooter</td>\n",
       "      <td>1.17</td>\n",
       "      <td>0.84</td>\n",
       "      <td>0.00</td>\n",
       "      <td>0.23</td>\n",
       "      <td>69.0</td>\n",
       "      <td>6.7</td>\n",
       "      <td>T</td>\n",
       "    </tr>\n",
       "    <tr>\n",
       "      <th>805</th>\n",
       "      <td>Rock Band</td>\n",
       "      <td>Wii</td>\n",
       "      <td>NaN</td>\n",
       "      <td>Misc</td>\n",
       "      <td>1.33</td>\n",
       "      <td>0.56</td>\n",
       "      <td>0.00</td>\n",
       "      <td>0.20</td>\n",
       "      <td>80.0</td>\n",
       "      <td>6.3</td>\n",
       "      <td>T</td>\n",
       "    </tr>\n",
       "    <tr>\n",
       "      <th>1506</th>\n",
       "      <td>Adventure</td>\n",
       "      <td>2600</td>\n",
       "      <td>NaN</td>\n",
       "      <td>Adventure</td>\n",
       "      <td>1.21</td>\n",
       "      <td>0.08</td>\n",
       "      <td>0.00</td>\n",
       "      <td>0.01</td>\n",
       "      <td>NaN</td>\n",
       "      <td>NaN</td>\n",
       "      <td>NaN</td>\n",
       "    </tr>\n",
       "    <tr>\n",
       "      <th>1585</th>\n",
       "      <td>Combat</td>\n",
       "      <td>2600</td>\n",
       "      <td>NaN</td>\n",
       "      <td>Action</td>\n",
       "      <td>1.17</td>\n",
       "      <td>0.07</td>\n",
       "      <td>0.00</td>\n",
       "      <td>0.01</td>\n",
       "      <td>NaN</td>\n",
       "      <td>NaN</td>\n",
       "      <td>NaN</td>\n",
       "    </tr>\n",
       "  </tbody>\n",
       "</table>\n",
       "</div>"
      ],
      "text/plain": [
       "                                             name platform year_of_release  \\\n",
       "183                               Madden NFL 2004      PS2             NaN   \n",
       "377                              FIFA Soccer 2004      PS2             NaN   \n",
       "456                    LEGO Batman: The Videogame      Wii             NaN   \n",
       "475                    wwe Smackdown vs. Raw 2006      PS2             NaN   \n",
       "609                                Space Invaders     2600             NaN   \n",
       "627                                     Rock Band     X360             NaN   \n",
       "657      Frogger's Adventures: Temple of the Frog      GBA             NaN   \n",
       "678   LEGO Indiana Jones: The Original Adventures      Wii             NaN   \n",
       "719                                Call of Duty 3      Wii             NaN   \n",
       "805                                     Rock Band      Wii             NaN   \n",
       "1506                                    Adventure     2600             NaN   \n",
       "1585                                       Combat     2600             NaN   \n",
       "\n",
       "          genre  na_sales  eu_sales  jp_sales  other_sales critic_score  \\\n",
       "183      Sports      4.26      0.26      0.01         0.71         94.0   \n",
       "377      Sports      0.59      2.36      0.04         0.51         84.0   \n",
       "456      Action      1.80      0.97      0.00         0.29         74.0   \n",
       "475    Fighting      1.57      1.02      0.00         0.41          NaN   \n",
       "609     Shooter      2.36      0.14      0.00         0.03          NaN   \n",
       "627        Misc      1.93      0.33      0.00         0.21         92.0   \n",
       "657   Adventure      2.15      0.18      0.00         0.07         73.0   \n",
       "678      Action      1.51      0.61      0.00         0.21         78.0   \n",
       "719     Shooter      1.17      0.84      0.00         0.23         69.0   \n",
       "805        Misc      1.33      0.56      0.00         0.20         80.0   \n",
       "1506  Adventure      1.21      0.08      0.00         0.01          NaN   \n",
       "1585     Action      1.17      0.07      0.00         0.01          NaN   \n",
       "\n",
       "     user_score rating  \n",
       "183         8.5      E  \n",
       "377         6.4      E  \n",
       "456         7.9   E10+  \n",
       "475         NaN    NaN  \n",
       "609         NaN    NaN  \n",
       "627         8.2      T  \n",
       "657         tbd      E  \n",
       "678         6.6   E10+  \n",
       "719         6.7      T  \n",
       "805         6.3      T  \n",
       "1506        NaN    NaN  \n",
       "1585        NaN    NaN  "
      ]
     },
     "execution_count": 8,
     "metadata": {},
     "output_type": "execute_result"
    }
   ],
   "source": [
    "million_sales"
   ]
  },
  {
   "cell_type": "markdown",
   "metadata": {},
   "source": [
    "The list of games was selected. There were a little more than 10 of them. Manually find the release years of these games and write the corresponding values to the year_list variable and insert the values from it into data"
   ]
  },
  {
   "cell_type": "code",
   "execution_count": 9,
   "metadata": {},
   "outputs": [],
   "source": [
    "year_list = [2003, 2003, 2012, 2006, 1978, 2007, 2001, 2008, 2006, 2007, 1980, 1977]\n",
    "index_list = million_sales.index"
   ]
  },
  {
   "cell_type": "code",
   "execution_count": 10,
   "metadata": {},
   "outputs": [],
   "source": [
    "for i in range(0, 12):\n",
    "    data.loc[index_list[i], 'year_of_release'] = year_list[i]"
   ]
  },
  {
   "cell_type": "code",
   "execution_count": 11,
   "metadata": {
    "scrolled": true
   },
   "outputs": [
    {
     "data": {
      "text/html": [
       "<div>\n",
       "<style scoped>\n",
       "    .dataframe tbody tr th:only-of-type {\n",
       "        vertical-align: middle;\n",
       "    }\n",
       "\n",
       "    .dataframe tbody tr th {\n",
       "        vertical-align: top;\n",
       "    }\n",
       "\n",
       "    .dataframe thead th {\n",
       "        text-align: right;\n",
       "    }\n",
       "</style>\n",
       "<table border=\"1\" class=\"dataframe\">\n",
       "  <thead>\n",
       "    <tr style=\"text-align: right;\">\n",
       "      <th></th>\n",
       "      <th>name</th>\n",
       "      <th>platform</th>\n",
       "      <th>year_of_release</th>\n",
       "      <th>genre</th>\n",
       "      <th>na_sales</th>\n",
       "      <th>eu_sales</th>\n",
       "      <th>jp_sales</th>\n",
       "      <th>other_sales</th>\n",
       "      <th>critic_score</th>\n",
       "      <th>user_score</th>\n",
       "      <th>rating</th>\n",
       "    </tr>\n",
       "  </thead>\n",
       "  <tbody>\n",
       "  </tbody>\n",
       "</table>\n",
       "</div>"
      ],
      "text/plain": [
       "Empty DataFrame\n",
       "Columns: [name, platform, year_of_release, genre, na_sales, eu_sales, jp_sales, other_sales, critic_score, user_score, rating]\n",
       "Index: []"
      ]
     },
     "execution_count": 11,
     "metadata": {},
     "output_type": "execute_result"
    }
   ],
   "source": [
    "data.query('(year_of_release != year_of_release) and (na_sales > 1 or eu_sales > 1 or jp_sales > 1 or other_sales > 1)')"
   ]
  },
  {
   "cell_type": "markdown",
   "metadata": {},
   "source": [
    "We will delete the remaining rows with nan values, we will not assign the date type, since this does not make sense in our study."
   ]
  },
  {
   "cell_type": "code",
   "execution_count": 12,
   "metadata": {},
   "outputs": [],
   "source": [
    "data = data.query('year_of_release == year_of_release')\n",
    "data['year_of_release'] = data['year_of_release'].astype('float').astype('int')     "
   ]
  },
  {
   "cell_type": "markdown",
   "metadata": {},
   "source": [
    "Let's take a look at info() to the dataframe again"
   ]
  },
  {
   "cell_type": "code",
   "execution_count": 13,
   "metadata": {},
   "outputs": [
    {
     "name": "stdout",
     "output_type": "stream",
     "text": [
      "<class 'pandas.core.frame.DataFrame'>\n",
      "Int64Index: 16456 entries, 0 to 16714\n",
      "Data columns (total 11 columns):\n",
      " #   Column           Non-Null Count  Dtype  \n",
      "---  ------           --------------  -----  \n",
      " 0   name             16456 non-null  object \n",
      " 1   platform         16456 non-null  object \n",
      " 2   year_of_release  16456 non-null  int32  \n",
      " 3   genre            16456 non-null  object \n",
      " 4   na_sales         16456 non-null  float64\n",
      " 5   eu_sales         16456 non-null  float64\n",
      " 6   jp_sales         16456 non-null  float64\n",
      " 7   other_sales      16456 non-null  float64\n",
      " 8   critic_score     7991 non-null   object \n",
      " 9   user_score       9847 non-null   object \n",
      " 10  rating           9776 non-null   object \n",
      "dtypes: float64(4), int32(1), object(6)\n",
      "memory usage: 1.4+ MB\n"
     ]
    }
   ],
   "source": [
    "data.info()"
   ]
  },
  {
   "cell_type": "markdown",
   "metadata": {},
   "source": [
    "#### genre"
   ]
  },
  {
   "cell_type": "markdown",
   "metadata": {},
   "source": [
    "In the genre column, let's try to find implicit duplicates:"
   ]
  },
  {
   "cell_type": "code",
   "execution_count": 14,
   "metadata": {},
   "outputs": [
    {
     "data": {
      "text/plain": [
       "array(['Sports', 'Platform', 'Racing', 'Role-Playing', 'Puzzle', 'Misc',\n",
       "       'Shooter', 'Simulation', 'Action', 'Fighting', 'Adventure',\n",
       "       'Strategy'], dtype=object)"
      ]
     },
     "execution_count": 14,
     "metadata": {},
     "output_type": "execute_result"
    }
   ],
   "source": [
    "data['genre'].unique()"
   ]
  },
  {
   "cell_type": "markdown",
   "metadata": {},
   "source": [
    "There are no duplicates, no other problems either. Let's move on to the ratings."
   ]
  },
  {
   "cell_type": "markdown",
   "metadata": {},
   "source": [
    "#### scores"
   ]
  },
  {
   "cell_type": "markdown",
   "metadata": {},
   "source": [
    "In the rating columns, almost half of the values are missing. It is impossible to fill them in or delete them without harming the final assessment. Therefore, we will leave these columns with omissions, but we will process the type and some values"
   ]
  },
  {
   "cell_type": "markdown",
   "metadata": {},
   "source": [
    "At the beginning of the column with the critics' rating. There are no drop-down values here, so we'll just translate it to float."
   ]
  },
  {
   "cell_type": "code",
   "execution_count": 15,
   "metadata": {},
   "outputs": [],
   "source": [
    "data['critic_score'] = data['critic_score'].astype('float')"
   ]
  },
  {
   "cell_type": "markdown",
   "metadata": {},
   "source": [
    "Next - user score. There is one interesting value here - tbd. Most likely, this is \"to be done\", i.e. something that will need to be done. Most likely, this means the Postpone button when the user is asked to rate the game. In fact, postponing is without evaluation, so it is most logical to put Nan values in tbd"
   ]
  },
  {
   "cell_type": "code",
   "execution_count": 16,
   "metadata": {},
   "outputs": [],
   "source": [
    "data['user_score'] = data['user_score'].replace('tbd', np.NaN).astype('float')"
   ]
  },
  {
   "cell_type": "markdown",
   "metadata": {},
   "source": [
    "The last column is the rating. Ratings are different. Let's look at the unique values."
   ]
  },
  {
   "cell_type": "code",
   "execution_count": 17,
   "metadata": {},
   "outputs": [
    {
     "data": {
      "text/plain": [
       "array(['E', nan, 'M', 'T', 'E10+', 'K-A', 'AO', 'EC', 'RP'], dtype=object)"
      ]
     },
     "execution_count": 17,
     "metadata": {},
     "output_type": "execute_result"
    }
   ],
   "source": [
    "data['rating'].unique()"
   ]
  },
  {
   "cell_type": "markdown",
   "metadata": {},
   "source": [
    "Among other ratings, the list contains a designation that is no longer used by K-A (Kids-to-Adults). Today it is an E rating. Let's bring everything to the current format. Also, instead of Nan, we will indicate \"without rating\""
   ]
  },
  {
   "cell_type": "code",
   "execution_count": 18,
   "metadata": {},
   "outputs": [],
   "source": [
    "data['rating'] = data['rating'].replace('K-A', 'E')\n",
    "data['rating'] = data['rating'].replace(np.NaN, 'без рейтинга')"
   ]
  },
  {
   "cell_type": "markdown",
   "metadata": {},
   "source": [
    "#### Total sales"
   ]
  },
  {
   "cell_type": "markdown",
   "metadata": {},
   "source": [
    "Let's record the total sales in all regions in a separate column"
   ]
  },
  {
   "cell_type": "code",
   "execution_count": 19,
   "metadata": {},
   "outputs": [],
   "source": [
    "data['sum_sales'] = data['na_sales'] + data['eu_sales'] + data['jp_sales'] + data['other_sales']"
   ]
  },
  {
   "cell_type": "markdown",
   "metadata": {},
   "source": [
    "This completes the preprocessing. Finally, we will output info and proceed to the research data analysis"
   ]
  },
  {
   "cell_type": "code",
   "execution_count": 20,
   "metadata": {},
   "outputs": [
    {
     "name": "stdout",
     "output_type": "stream",
     "text": [
      "<class 'pandas.core.frame.DataFrame'>\n",
      "Int64Index: 16456 entries, 0 to 16714\n",
      "Data columns (total 12 columns):\n",
      " #   Column           Non-Null Count  Dtype  \n",
      "---  ------           --------------  -----  \n",
      " 0   name             16456 non-null  object \n",
      " 1   platform         16456 non-null  object \n",
      " 2   year_of_release  16456 non-null  int32  \n",
      " 3   genre            16456 non-null  object \n",
      " 4   na_sales         16456 non-null  float64\n",
      " 5   eu_sales         16456 non-null  float64\n",
      " 6   jp_sales         16456 non-null  float64\n",
      " 7   other_sales      16456 non-null  float64\n",
      " 8   critic_score     7991 non-null   float64\n",
      " 9   user_score       7470 non-null   float64\n",
      " 10  rating           16456 non-null  object \n",
      " 11  sum_sales        16456 non-null  float64\n",
      "dtypes: float64(7), int32(1), object(4)\n",
      "memory usage: 1.6+ MB\n"
     ]
    }
   ],
   "source": [
    "data.info()"
   ]
  },
  {
   "cell_type": "markdown",
   "metadata": {},
   "source": [
    "### Research data analysis"
   ]
  },
  {
   "cell_type": "markdown",
   "metadata": {},
   "source": [
    "#### How many games have been released over the years"
   ]
  },
  {
   "cell_type": "markdown",
   "metadata": {},
   "source": [
    "Let's see how many games were released over all the years shown in the table"
   ]
  },
  {
   "cell_type": "code",
   "execution_count": 21,
   "metadata": {},
   "outputs": [
    {
     "data": {
      "image/png": "[encoded data removed]",
      "text/plain": [
       "<Figure size 432x288 with 1 Axes>"
      ]
     },
     "metadata": {
      "needs_background": "light"
     },
     "output_type": "display_data"
    }
   ],
   "source": [
    "data_good_years = data.pivot_table(index='year_of_release', values='name', aggfunc='count')\n",
    "data_good_years.plot(grid=True, title='games_per_year', ylabel='quantity');"
   ]
  },
  {
   "cell_type": "markdown",
   "metadata": {},
   "source": [
    "The issue for all periods is certainly not important to us. At the same time, two interesting points are visible - around 1995, a sharp increase in the release of games began, and after a peak in 2008, the release began to gradually decrease and stabilized in 2012-2013. Since we are building a model for 2017, it would be strange not to take into account recent years. At the same time, considering the 80s for planning activities in 2017 is also strange. Therefore, we will leave for further consideration the data starting from 1995."
   ]
  },
  {
   "cell_type": "markdown",
   "metadata": {},
   "source": [
    "#### Sales by platform"
   ]
  },
  {
   "cell_type": "markdown",
   "metadata": {},
   "source": [
    "How sales by platform have changed. Select the platforms with the highest total sales and build a distribution by year. For what characteristic period of time do new platforms appear and old ones disappear?"
   ]
  },
  {
   "cell_type": "markdown",
   "metadata": {},
   "source": [
    "Let's choose the 10 best-selling platforms"
   ]
  },
  {
   "cell_type": "code",
   "execution_count": 22,
   "metadata": {},
   "outputs": [
    {
     "data": {
      "text/plain": [
       "<AxesSubplot:xlabel='year_of_release'>"
      ]
     },
     "execution_count": 22,
     "metadata": {},
     "output_type": "execute_result"
    },
    {
     "data": {
      "image/png": "[encoded data removed]",
      "text/plain": [
       "<Figure size 1080x576 with 1 Axes>"
      ]
     },
     "metadata": {
      "needs_background": "light"
     },
     "output_type": "display_data"
    }
   ],
   "source": [
    "top_platform_list = data.groupby('platform')['sum_sales'].sum().sort_values(ascending=False).head(10).index\n",
    "top_platform_data = data.loc[data['platform'].isin(top_platform_list)]\n",
    "top_platform_data.groupby(['platform', 'year_of_release'])['sum_sales'].sum().unstack('platform').plot(grid=True, figsize=(15, 8))"
   ]
  },
  {
   "cell_type": "markdown",
   "metadata": {},
   "source": [
    "It is impossible to say for sure that different platforms have characteristic behavior in the market. Some platform takes longer to enter the market, but lasts longer, which achieves maximum sales at the end of its release, some at the beginning. In addition, at the time of data construction, there was not a single platform that would show growth. The typical lifetime of the platform is about 5-7 years, depending on its popularity"
   ]
  },
  {
   "cell_type": "markdown",
   "metadata": {},
   "source": [
    "#### Which platforms are leading in sales, are they growing or falling?"
   ]
  },
  {
   "cell_type": "markdown",
   "metadata": {},
   "source": [
    "Taking into account the latest schedule, the actual period of trouble is still considered from 2011, when modern platforms began to appear. Let's select the corresponding data values and look at the graph more closely"
   ]
  },
  {
   "cell_type": "code",
   "execution_count": 23,
   "metadata": {},
   "outputs": [],
   "source": [
    "normal_year_data = data.query('year_of_release >= 2014')"
   ]
  },
  {
   "cell_type": "code",
   "execution_count": 24,
   "metadata": {},
   "outputs": [
    {
     "data": {
      "text/html": [
       "<div>\n",
       "<style scoped>\n",
       "    .dataframe tbody tr th:only-of-type {\n",
       "        vertical-align: middle;\n",
       "    }\n",
       "\n",
       "    .dataframe tbody tr th {\n",
       "        vertical-align: top;\n",
       "    }\n",
       "\n",
       "    .dataframe thead th {\n",
       "        text-align: right;\n",
       "    }\n",
       "</style>\n",
       "<table border=\"1\" class=\"dataframe\">\n",
       "  <thead>\n",
       "    <tr style=\"text-align: right;\">\n",
       "      <th>platform</th>\n",
       "      <th>3DS</th>\n",
       "      <th>PC</th>\n",
       "      <th>PS3</th>\n",
       "      <th>PS4</th>\n",
       "      <th>PSP</th>\n",
       "      <th>PSV</th>\n",
       "      <th>Wii</th>\n",
       "      <th>WiiU</th>\n",
       "      <th>X360</th>\n",
       "      <th>XOne</th>\n",
       "    </tr>\n",
       "    <tr>\n",
       "      <th>year_of_release</th>\n",
       "      <th></th>\n",
       "      <th></th>\n",
       "      <th></th>\n",
       "      <th></th>\n",
       "      <th></th>\n",
       "      <th></th>\n",
       "      <th></th>\n",
       "      <th></th>\n",
       "      <th></th>\n",
       "      <th></th>\n",
       "    </tr>\n",
       "  </thead>\n",
       "  <tbody>\n",
       "    <tr>\n",
       "      <th>2014</th>\n",
       "      <td>43.76</td>\n",
       "      <td>13.28</td>\n",
       "      <td>47.76</td>\n",
       "      <td>100.00</td>\n",
       "      <td>0.24</td>\n",
       "      <td>11.90</td>\n",
       "      <td>3.75</td>\n",
       "      <td>22.03</td>\n",
       "      <td>34.74</td>\n",
       "      <td>54.07</td>\n",
       "    </tr>\n",
       "    <tr>\n",
       "      <th>2015</th>\n",
       "      <td>27.78</td>\n",
       "      <td>8.52</td>\n",
       "      <td>16.82</td>\n",
       "      <td>118.90</td>\n",
       "      <td>0.12</td>\n",
       "      <td>6.25</td>\n",
       "      <td>1.14</td>\n",
       "      <td>16.35</td>\n",
       "      <td>11.96</td>\n",
       "      <td>60.14</td>\n",
       "    </tr>\n",
       "    <tr>\n",
       "      <th>2016</th>\n",
       "      <td>15.14</td>\n",
       "      <td>5.25</td>\n",
       "      <td>3.60</td>\n",
       "      <td>69.25</td>\n",
       "      <td>NaN</td>\n",
       "      <td>4.25</td>\n",
       "      <td>0.18</td>\n",
       "      <td>4.60</td>\n",
       "      <td>1.52</td>\n",
       "      <td>26.15</td>\n",
       "    </tr>\n",
       "  </tbody>\n",
       "</table>\n",
       "</div>"
      ],
      "text/plain": [
       "platform           3DS     PC    PS3     PS4   PSP    PSV   Wii   WiiU   X360  \\\n",
       "year_of_release                                                                 \n",
       "2014             43.76  13.28  47.76  100.00  0.24  11.90  3.75  22.03  34.74   \n",
       "2015             27.78   8.52  16.82  118.90  0.12   6.25  1.14  16.35  11.96   \n",
       "2016             15.14   5.25   3.60   69.25   NaN   4.25  0.18   4.60   1.52   \n",
       "\n",
       "platform          XOne  \n",
       "year_of_release         \n",
       "2014             54.07  \n",
       "2015             60.14  \n",
       "2016             26.15  "
      ]
     },
     "execution_count": 24,
     "metadata": {},
     "output_type": "execute_result"
    },
    {
     "data": {
      "image/png": "[encoded data removed]",
      "text/plain": [
       "<Figure size 1080x576 with 1 Axes>"
      ]
     },
     "metadata": {
      "needs_background": "light"
     },
     "output_type": "display_data"
    }
   ],
   "source": [
    "actual_data = normal_year_data.groupby(['platform', 'year_of_release'])['sum_sales'].sum().unstack('platform')\n",
    "actual_data.plot(grid=True, figsize=(15, 8))\n",
    "actual_data"
   ]
  },
  {
   "cell_type": "markdown",
   "metadata": {},
   "source": [
    "The graph shows that there are top 3 platforms and the rest. To have a comparison base, we will limit the list of top-5 platforms by sales"
   ]
  },
  {
   "cell_type": "code",
   "execution_count": 25,
   "metadata": {},
   "outputs": [
    {
     "data": {
      "text/html": [
       "<div>\n",
       "<style scoped>\n",
       "    .dataframe tbody tr th:only-of-type {\n",
       "        vertical-align: middle;\n",
       "    }\n",
       "\n",
       "    .dataframe tbody tr th {\n",
       "        vertical-align: top;\n",
       "    }\n",
       "\n",
       "    .dataframe thead th {\n",
       "        text-align: right;\n",
       "    }\n",
       "</style>\n",
       "<table border=\"1\" class=\"dataframe\">\n",
       "  <thead>\n",
       "    <tr style=\"text-align: right;\">\n",
       "      <th>platform</th>\n",
       "      <th>PS4</th>\n",
       "      <th>XOne</th>\n",
       "      <th>3DS</th>\n",
       "      <th>PS3</th>\n",
       "      <th>X360</th>\n",
       "    </tr>\n",
       "    <tr>\n",
       "      <th>year_of_release</th>\n",
       "      <th></th>\n",
       "      <th></th>\n",
       "      <th></th>\n",
       "      <th></th>\n",
       "      <th></th>\n",
       "    </tr>\n",
       "  </thead>\n",
       "  <tbody>\n",
       "    <tr>\n",
       "      <th>2014</th>\n",
       "      <td>100.00</td>\n",
       "      <td>54.07</td>\n",
       "      <td>43.76</td>\n",
       "      <td>47.76</td>\n",
       "      <td>34.74</td>\n",
       "    </tr>\n",
       "    <tr>\n",
       "      <th>2015</th>\n",
       "      <td>118.90</td>\n",
       "      <td>60.14</td>\n",
       "      <td>27.78</td>\n",
       "      <td>16.82</td>\n",
       "      <td>11.96</td>\n",
       "    </tr>\n",
       "    <tr>\n",
       "      <th>2016</th>\n",
       "      <td>69.25</td>\n",
       "      <td>26.15</td>\n",
       "      <td>15.14</td>\n",
       "      <td>3.60</td>\n",
       "      <td>1.52</td>\n",
       "    </tr>\n",
       "  </tbody>\n",
       "</table>\n",
       "</div>"
      ],
      "text/plain": [
       "platform            PS4   XOne    3DS    PS3   X360\n",
       "year_of_release                                    \n",
       "2014             100.00  54.07  43.76  47.76  34.74\n",
       "2015             118.90  60.14  27.78  16.82  11.96\n",
       "2016              69.25  26.15  15.14   3.60   1.52"
      ]
     },
     "execution_count": 25,
     "metadata": {},
     "output_type": "execute_result"
    }
   ],
   "source": [
    "top_sales_platforms_last_years = normal_year_data.groupby(['platform'])['sum_sales'].agg(['sum']).sort_values(by='sum',ascending = False).head(5)\n",
    "actual_data = actual_data[top_sales_platforms_last_years.index]\n",
    "actual_data"
   ]
  },
  {
   "cell_type": "markdown",
   "metadata": {},
   "source": [
    "In this format, the leading platforms of the last 5 years are much better visible."
   ]
  },
  {
   "cell_type": "markdown",
   "metadata": {},
   "source": [
    "#### Boxplot by global game sales by platform"
   ]
  },
  {
   "cell_type": "code",
   "execution_count": 26,
   "metadata": {},
   "outputs": [
    {
     "data": {
      "image/png": "[encoded data removed]",
      "text/plain": [
       "<Figure size 1080x720 with 1 Axes>"
      ]
     },
     "metadata": {
      "needs_background": "light"
     },
     "output_type": "display_data"
    }
   ],
   "source": [
    "plt.figure(figsize=(15, 10))\n",
    "sns.boxplot(data=data.query('year_of_release > 2014'), y='sum_sales', x='platform')\n",
    "plt.grid(True)"
   ]
  },
  {
   "cell_type": "markdown",
   "metadata": {},
   "source": [
    "Strong deviations are visible on the Boxplot, especially on the most popular platforms - PS4, XBox one and Nintendo. Their presence can be explained by the fact that the number of games released on these platforms is large, but there are not so many popular ones. But if the game becomes really popular, then its sales are considered millions and it is not quite correct to compare it with the main array. Let's limit sum_sales to two million and look at the graph again"
   ]
  },
  {
   "cell_type": "code",
   "execution_count": 27,
   "metadata": {},
   "outputs": [
    {
     "data": {
      "image/png": "[encoded data removed]",
      "text/plain": [
       "<Figure size 1080x720 with 1 Axes>"
      ]
     },
     "metadata": {
      "needs_background": "light"
     },
     "output_type": "display_data"
    }
   ],
   "source": [
    "plt.figure(figsize=(15, 10))\n",
    "sns.boxplot(data=data.query('year_of_release > 2014 and sum_sales < 2'), y='sum_sales', x='platform')\n",
    "plt.grid(True)"
   ]
  },
  {
   "cell_type": "markdown",
   "metadata": {},
   "source": [
    "If the maximum amount is limited, the deviations are still preserved. This confirms what we wrote about in the last paragraph - the game market is extremely heterogeneous. There is a very big difference between the top games and the main mass."
   ]
  },
  {
   "cell_type": "markdown",
   "metadata": {},
   "source": [
    "#### How do user reviews and critics affect sales within one popular platform"
   ]
  },
  {
   "cell_type": "markdown",
   "metadata": {},
   "source": [
    "For example, let's take the most popular platform of recent years - ps4"
   ]
  },
  {
   "cell_type": "code",
   "execution_count": 28,
   "metadata": {},
   "outputs": [
    {
     "data": {
      "text/plain": [
       "<AxesSubplot:title={'center':'critic_score'}, xlabel='critic_score', ylabel='sum_sales'>"
      ]
     },
     "metadata": {},
     "output_type": "display_data"
    },
    {
     "data": {
      "text/plain": [
       "<AxesSubplot:title={'center':'user_score'}, xlabel='user_score', ylabel='sum_sales'>"
      ]
     },
     "metadata": {},
     "output_type": "display_data"
    },
    {
     "name": "stdout",
     "output_type": "stream",
     "text": [
      "Correlation of sales with user ratings: -0.03195711020455643\n",
      "Correlation of sales with critics ratings: 0.40656790206178123\n"
     ]
    },
    {
     "data": {
      "image/png": "[encoded data removed]",
      "text/plain": [
       "<Figure size 432x288 with 1 Axes>"
      ]
     },
     "metadata": {
      "needs_background": "light"
     },
     "output_type": "display_data"
    },
    {
     "data": {
      "image/png": "[encoded data removed]",
      "text/plain": [
       "<Figure size 432x288 with 1 Axes>"
      ]
     },
     "metadata": {
      "needs_background": "light"
     },
     "output_type": "display_data"
    }
   ],
   "source": [
    "corr_data = data[data['platform'] == 'PS4'][['platform', 'critic_score', 'user_score', 'sum_sales']]\n",
    "display(corr_data.plot(kind='scatter', x='critic_score', y='sum_sales', title='critic_score'))\n",
    "display(corr_data.plot(kind='scatter', x='user_score', y='sum_sales', title='user_score'))\n",
    "print('Correlation of sales with user ratings:', corr_data['sum_sales'].corr(corr_data['user_score']))\n",
    "print('Correlation of sales with critics ratings:', corr_data['sum_sales'].corr(corr_data['critic_score']))"
   ]
  },
  {
   "cell_type": "markdown",
   "metadata": {},
   "source": [
    "As shown by the Pearson correlation coefficient and which is also clearly visible on the scatter diagram, the sales of the game practically do not depend on user ratings. Critics' assessment also does not greatly affect sales, but there is still a certain dependence."
   ]
  },
  {
   "cell_type": "markdown",
   "metadata": {},
   "source": [
    "#### Correlate the findings with the sales of games on other platforms"
   ]
  },
  {
   "cell_type": "markdown",
   "metadata": {},
   "source": [
    "Let's look at other popular platforms from the actual_data list. First, let's update core_data."
   ]
  },
  {
   "cell_type": "code",
   "execution_count": 29,
   "metadata": {},
   "outputs": [],
   "source": [
    "corr_data = data.query('platform in @actual_data.columns')[['platform', 'critic_score', 'user_score', 'sum_sales']]"
   ]
  },
  {
   "cell_type": "code",
   "execution_count": 56,
   "metadata": {},
   "outputs": [
    {
     "name": "stdout",
     "output_type": "stream",
     "text": [
      "PS4 Correlation of sales with critics ratings: 0.40656790206178123\n",
      "XOne Correlation of sales with critics ratings: 0.41699832800840153\n",
      "3DS Correlation of sales with critics ratings: 0.34873973059848334\n",
      "PS3 Correlation of sales with critics ratings: 0.43275895789971397\n",
      "X360 Correlation of sales with critics ratings: 0.39361252144375686\n"
     ]
    },
    {
     "data": {
      "image/png": "[encoded data removed]",
      "text/plain": [
       "<Figure size 432x288 with 1 Axes>"
      ]
     },
     "metadata": {
      "needs_background": "light"
     },
     "output_type": "display_data"
    },
    {
     "data": {
      "image/png": "[encoded data removed]",
      "text/plain": [
       "<Figure size 432x288 with 1 Axes>"
      ]
     },
     "metadata": {
      "needs_background": "light"
     },
     "output_type": "display_data"
    },
    {
     "data": {
      "image/png": "[encoded data removed]",
      "text/plain": [
       "<Figure size 432x288 with 1 Axes>"
      ]
     },
     "metadata": {
      "needs_background": "light"
     },
     "output_type": "display_data"
    },
    {
     "data": {
      "image/png": "[encoded data removed]",
      "text/plain": [
       "<Figure size 432x288 with 1 Axes>"
      ]
     },
     "metadata": {
      "needs_background": "light"
     },
     "output_type": "display_data"
    },
    {
     "data": {
      "image/png": "[encoded data removed]",
      "text/plain": [
       "<Figure size 432x288 with 1 Axes>"
      ]
     },
     "metadata": {
      "needs_background": "light"
     },
     "output_type": "display_data"
    }
   ],
   "source": [
    "for i in range(0, 5):\n",
    "    corr_data[corr_data['platform'] == actual_data.columns[i]].plot(\n",
    "        kind='scatter', x='critic_score', y='sum_sales', title=actual_data.columns[i])\n",
    "    print(actual_data.columns[i], 'Correlation of sales with critics ratings:', corr_data[corr_data['platform'] == actual_data.columns[i]]['sum_sales'].corr(\n",
    "        corr_data[corr_data['platform'] == actual_data.columns[i]]['critic_score']))"
   ]
  },
  {
   "cell_type": "markdown",
   "metadata": {},
   "source": [
    "On other platforms, the situation is similar to PS4. The correlation is about 0.4. Let's see the players' scores"
   ]
  },
  {
   "cell_type": "code",
   "execution_count": 58,
   "metadata": {},
   "outputs": [
    {
     "name": "stdout",
     "output_type": "stream",
     "text": [
      "PS4 Correlation of sales with users ratings: -0.03195711020455643\n",
      "XOne Correlation of sales with users ratings: -0.06892505328279418\n",
      "3DS Correlation of sales with users ratings: 0.22207843643390884\n",
      "PS3 Correlation of sales with users ratings: 0.12841562938563023\n",
      "X360 Correlation of sales with users ratings: 0.11502281947723501\n"
     ]
    },
    {
     "data": {
      "image/png": "[encoded data removed]",
      "text/plain": [
       "<Figure size 432x288 with 1 Axes>"
      ]
     },
     "metadata": {
      "needs_background": "light"
     },
     "output_type": "display_data"
    },
    {
     "data": {
      "image/png": "[encoded data removed]",
      "text/plain": [
       "<Figure size 432x288 with 1 Axes>"
      ]
     },
     "metadata": {
      "needs_background": "light"
     },
     "output_type": "display_data"
    },
    {
     "data": {
      "image/png": "[encoded data removed]",
      "text/plain": [
       "<Figure size 432x288 with 1 Axes>"
      ]
     },
     "metadata": {
      "needs_background": "light"
     },
     "output_type": "display_data"
    },
    {
     "data": {
      "image/png": "[encoded data removed]",
      "text/plain": [
       "<Figure size 432x288 with 1 Axes>"
      ]
     },
     "metadata": {
      "needs_background": "light"
     },
     "output_type": "display_data"
    },
    {
     "data": {
      "image/png": "[encoded data removed]",
      "text/plain": [
       "<Figure size 432x288 with 1 Axes>"
      ]
     },
     "metadata": {
      "needs_background": "light"
     },
     "output_type": "display_data"
    }
   ],
   "source": [
    "for i in range(0, 5):\n",
    "    corr_data[corr_data['platform'] == actual_data.columns[i]].plot(\n",
    "        kind='scatter', x='user_score', y='sum_sales', title=actual_data.columns[i])\n",
    "    print(actual_data.columns[i], 'Correlation of sales with users ratings:', corr_data[corr_data['platform'] == actual_data.columns[i]]['sum_sales'].corr(\n",
    "        corr_data[corr_data['platform'] == actual_data.columns[i]]['user_score']))"
   ]
  },
  {
   "cell_type": "markdown",
   "metadata": {},
   "source": [
    "In general, the situation is similar. User evaluation has little effect on sales. The only platform on which ratings have any effect is nintendo"
   ]
  },
  {
   "cell_type": "markdown",
   "metadata": {},
   "source": [
    "#### General distribution of games by genre"
   ]
  },
  {
   "cell_type": "code",
   "execution_count": 32,
   "metadata": {},
   "outputs": [
    {
     "data": {
      "text/plain": [
       "genre\n",
       "Action          1723.16\n",
       "Sports          1318.41\n",
       "Shooter         1046.13\n",
       "Role-Playing     931.08\n",
       "Platform         825.55\n",
       "Misc             794.85\n",
       "Racing           723.49\n",
       "Fighting         445.66\n",
       "Simulation       387.96\n",
       "Puzzle           239.89\n",
       "Adventure        237.03\n",
       "Strategy         172.57\n",
       "Name: sum_sales, dtype: float64"
      ]
     },
     "metadata": {},
     "output_type": "display_data"
    },
    {
     "data": {
      "text/plain": [
       "count      12.000000\n",
       "mean      737.148333\n",
       "std       474.583551\n",
       "min       172.570000\n",
       "25%       350.942500\n",
       "50%       759.170000\n",
       "75%       959.842500\n",
       "max      1723.160000\n",
       "Name: sum_sales, dtype: float64"
      ]
     },
     "metadata": {},
     "output_type": "display_data"
    }
   ],
   "source": [
    "display(data.groupby('genre')['sum_sales'].sum().sort_values(ascending=False))\n",
    "display(data.groupby('genre')['sum_sales'].sum().describe())"
   ]
  },
  {
   "cell_type": "markdown",
   "metadata": {},
   "source": [
    "В списке явно выделяются игры в жанре action. Также популярны спортивные игры и шутеры. Наименее же популярны игры в жанрах страгтегии, паззлов, приключений"
   ]
  },
  {
   "cell_type": "code",
   "execution_count": 33,
   "metadata": {},
   "outputs": [
    {
     "data": {
      "text/plain": [
       "genre\n",
       "Platform        0.940262\n",
       "Shooter         0.805955\n",
       "Role-Playing    0.628683\n",
       "Racing          0.590122\n",
       "Sports          0.571235\n",
       "Fighting        0.531814\n",
       "Action          0.520592\n",
       "Misc            0.461317\n",
       "Simulation      0.452695\n",
       "Puzzle          0.421599\n",
       "Strategy        0.256419\n",
       "Adventure       0.183035\n",
       "Name: sum_sales, dtype: float64"
      ]
     },
     "metadata": {},
     "output_type": "display_data"
    },
    {
     "data": {
      "text/plain": [
       "count    12.000000\n",
       "mean      0.530311\n",
       "std       0.208302\n",
       "min       0.183035\n",
       "25%       0.444921\n",
       "50%       0.526203\n",
       "75%       0.599763\n",
       "max       0.940262\n",
       "Name: sum_sales, dtype: float64"
      ]
     },
     "metadata": {},
     "output_type": "display_data"
    }
   ],
   "source": [
    "display(data.groupby('genre')['sum_sales'].mean().sort_values(ascending=False))\n",
    "display(data.groupby('genre')['sum_sales'].mean().describe())"
   ]
  },
  {
   "cell_type": "markdown",
   "metadata": {},
   "source": [
    "If we count on the average, then the value of the Action indicator is greatly sagging. If by total sales this genre was in the lead, then by average it was already in the middle of the rating. Also unusual is a sharp rise in the rating of games of the Platform genre. Let's look at these genres in more detail and try to explain the nature of such metamorphoses"
   ]
  },
  {
   "cell_type": "code",
   "execution_count": 34,
   "metadata": {},
   "outputs": [
    {
     "data": {
      "text/plain": [
       "count    3310.000000\n",
       "mean        0.520592\n",
       "std         1.154693\n",
       "min         0.010000\n",
       "25%         0.070000\n",
       "50%         0.190000\n",
       "75%         0.490000\n",
       "max        21.050000\n",
       "Name: sum_sales, dtype: float64"
      ]
     },
     "metadata": {},
     "output_type": "display_data"
    },
    {
     "data": {
      "text/plain": [
       "count    878.000000\n",
       "mean       0.940262\n",
       "std        2.587816\n",
       "min        0.010000\n",
       "25%        0.090000\n",
       "50%        0.270000\n",
       "75%        0.805000\n",
       "max       40.240000\n",
       "Name: sum_sales, dtype: float64"
      ]
     },
     "metadata": {},
     "output_type": "display_data"
    }
   ],
   "source": [
    "display(data.query('genre == \"Action\"')['sum_sales'].describe())\n",
    "display(data.query('genre == \"Platform\"')['sum_sales'].describe())"
   ]
  },
  {
   "cell_type": "markdown",
   "metadata": {},
   "source": [
    "Apparently, a high place in the first rating (in terms of total sales) for Action genre games gave a large number of these games. Indeed, finding the average sales allowed us to smooth out the picture and see additional genres that can provide high sales."
   ]
  },
  {
   "cell_type": "markdown",
   "metadata": {},
   "source": [
    "### Portrait of the user of each region"
   ]
  },
  {
   "cell_type": "markdown",
   "metadata": {},
   "source": [
    "#### Most popular platforms"
   ]
  },
  {
   "cell_type": "markdown",
   "metadata": {},
   "source": [
    "Declaring a function to build pie chart and plot"
   ]
  },
  {
   "cell_type": "code",
   "execution_count": 35,
   "metadata": {},
   "outputs": [],
   "source": [
    "def pie_chart(column, region_sales):\n",
    "    region_column = normal_year_data.groupby([column])[region_sales].sum().sort_values(ascending=False)\n",
    "    display(region_column)\n",
    "    region_column.plot(grid=True, kind='pie')"
   ]
  },
  {
   "cell_type": "code",
   "execution_count": 62,
   "metadata": {},
   "outputs": [],
   "source": [
    "def column_plot_year_dependence(column, region_sales):\n",
    "    region_column = normal_year_data.groupby([column, 'year_of_release'])[region_sales].sum().unstack(column)\n",
    "    region_top_column_last_years = normal_year_data.groupby([column])[region_sales].agg(['sum']).sort_values(by='sum',ascending = False).head(5)\n",
    "    region_column = region_column[region_top_column_last_years.index]\n",
    "    display(region_column)\n",
    "    region_column.plot(grid=True)"
   ]
  },
  {
   "cell_type": "markdown",
   "metadata": {},
   "source": [
    "##### North America"
   ]
  },
  {
   "cell_type": "markdown",
   "metadata": {},
   "source": [
    "Let's look at the most popular platforms in North America for the period since 2011, which we previously designated as directly related to the present."
   ]
  },
  {
   "cell_type": "code",
   "execution_count": 64,
   "metadata": {},
   "outputs": [
    {
     "data": {
      "text/html": [
       "<div>\n",
       "<style scoped>\n",
       "    .dataframe tbody tr th:only-of-type {\n",
       "        vertical-align: middle;\n",
       "    }\n",
       "\n",
       "    .dataframe tbody tr th {\n",
       "        vertical-align: top;\n",
       "    }\n",
       "\n",
       "    .dataframe thead th {\n",
       "        text-align: right;\n",
       "    }\n",
       "</style>\n",
       "<table border=\"1\" class=\"dataframe\">\n",
       "  <thead>\n",
       "    <tr style=\"text-align: right;\">\n",
       "      <th>platform</th>\n",
       "      <th>PS4</th>\n",
       "      <th>XOne</th>\n",
       "      <th>X360</th>\n",
       "      <th>3DS</th>\n",
       "      <th>PS3</th>\n",
       "    </tr>\n",
       "    <tr>\n",
       "      <th>year_of_release</th>\n",
       "      <th></th>\n",
       "      <th></th>\n",
       "      <th></th>\n",
       "      <th></th>\n",
       "      <th></th>\n",
       "    </tr>\n",
       "  </thead>\n",
       "  <tbody>\n",
       "    <tr>\n",
       "      <th>2014</th>\n",
       "      <td>34.75</td>\n",
       "      <td>30.97</td>\n",
       "      <td>20.25</td>\n",
       "      <td>12.33</td>\n",
       "      <td>16.39</td>\n",
       "    </tr>\n",
       "    <tr>\n",
       "      <th>2015</th>\n",
       "      <td>42.37</td>\n",
       "      <td>36.03</td>\n",
       "      <td>7.36</td>\n",
       "      <td>6.17</td>\n",
       "      <td>4.99</td>\n",
       "    </tr>\n",
       "    <tr>\n",
       "      <th>2016</th>\n",
       "      <td>21.49</td>\n",
       "      <td>14.27</td>\n",
       "      <td>0.69</td>\n",
       "      <td>4.14</td>\n",
       "      <td>0.67</td>\n",
       "    </tr>\n",
       "  </tbody>\n",
       "</table>\n",
       "</div>"
      ],
      "text/plain": [
       "platform           PS4   XOne   X360    3DS    PS3\n",
       "year_of_release                                   \n",
       "2014             34.75  30.97  20.25  12.33  16.39\n",
       "2015             42.37  36.03   7.36   6.17   4.99\n",
       "2016             21.49  14.27   0.69   4.14   0.67"
      ]
     },
     "metadata": {},
     "output_type": "display_data"
    },
    {
     "data": {
      "image/png": "[encoded data removed]",
      "text/plain": [
       "<Figure size 432x288 with 1 Axes>"
      ]
     },
     "metadata": {
      "needs_background": "light"
     },
     "output_type": "display_data"
    }
   ],
   "source": [
    "column_plot_year_dependence('platform', 'na_sales')"
   ]
  },
  {
   "cell_type": "code",
   "execution_count": 37,
   "metadata": {},
   "outputs": [
    {
     "data": {
      "text/plain": [
       "platform\n",
       "PS4     98.61\n",
       "XOne    81.27\n",
       "X360    28.30\n",
       "3DS     22.64\n",
       "PS3     22.05\n",
       "WiiU    19.36\n",
       "PC       7.23\n",
       "PSV      2.52\n",
       "Wii      2.08\n",
       "PSP      0.00\n",
       "Name: na_sales, dtype: float64"
      ]
     },
     "metadata": {},
     "output_type": "display_data"
    },
    {
     "data": {
      "image/png": "[encoded data removed]",
      "text/plain": [
       "<Figure size 432x288 with 1 Axes>"
      ]
     },
     "metadata": {},
     "output_type": "display_data"
    }
   ],
   "source": [
    "pie_chart('platform', 'na_sales')"
   ]
  },
  {
   "cell_type": "markdown",
   "metadata": {},
   "source": [
    "Xbox has a slightly larger share in the North American market. Xbox is produced by the American company Microsoft, so this state of affairs is understandable. It is also worth noting that, unlike the general sales statistics, Nintendo is almost not sold in North America."
   ]
  },
  {
   "cell_type": "markdown",
   "metadata": {},
   "source": [
    "##### Europe"
   ]
  },
  {
   "cell_type": "code",
   "execution_count": 65,
   "metadata": {},
   "outputs": [
    {
     "data": {
      "text/html": [
       "<div>\n",
       "<style scoped>\n",
       "    .dataframe tbody tr th:only-of-type {\n",
       "        vertical-align: middle;\n",
       "    }\n",
       "\n",
       "    .dataframe tbody tr th {\n",
       "        vertical-align: top;\n",
       "    }\n",
       "\n",
       "    .dataframe thead th {\n",
       "        text-align: right;\n",
       "    }\n",
       "</style>\n",
       "<table border=\"1\" class=\"dataframe\">\n",
       "  <thead>\n",
       "    <tr style=\"text-align: right;\">\n",
       "      <th>platform</th>\n",
       "      <th>PS4</th>\n",
       "      <th>XOne</th>\n",
       "      <th>PS3</th>\n",
       "      <th>PC</th>\n",
       "      <th>3DS</th>\n",
       "    </tr>\n",
       "    <tr>\n",
       "      <th>year_of_release</th>\n",
       "      <th></th>\n",
       "      <th></th>\n",
       "      <th></th>\n",
       "      <th></th>\n",
       "      <th></th>\n",
       "    </tr>\n",
       "  </thead>\n",
       "  <tbody>\n",
       "    <tr>\n",
       "      <th>2014</th>\n",
       "      <td>46.50</td>\n",
       "      <td>18.15</td>\n",
       "      <td>18.24</td>\n",
       "      <td>8.87</td>\n",
       "      <td>8.73</td>\n",
       "    </tr>\n",
       "    <tr>\n",
       "      <th>2015</th>\n",
       "      <td>51.76</td>\n",
       "      <td>18.47</td>\n",
       "      <td>6.04</td>\n",
       "      <td>5.57</td>\n",
       "      <td>5.06</td>\n",
       "    </tr>\n",
       "    <tr>\n",
       "      <th>2016</th>\n",
       "      <td>31.78</td>\n",
       "      <td>9.63</td>\n",
       "      <td>1.26</td>\n",
       "      <td>3.53</td>\n",
       "      <td>2.33</td>\n",
       "    </tr>\n",
       "  </tbody>\n",
       "</table>\n",
       "</div>"
      ],
      "text/plain": [
       "platform           PS4   XOne    PS3    PC   3DS\n",
       "year_of_release                                 \n",
       "2014             46.50  18.15  18.24  8.87  8.73\n",
       "2015             51.76  18.47   6.04  5.57  5.06\n",
       "2016             31.78   9.63   1.26  3.53  2.33"
      ]
     },
     "metadata": {},
     "output_type": "display_data"
    },
    {
     "data": {
      "image/png": "[encoded data removed]",
      "text/plain": [
       "<Figure size 432x288 with 1 Axes>"
      ]
     },
     "metadata": {
      "needs_background": "light"
     },
     "output_type": "display_data"
    }
   ],
   "source": [
    "column_plot_year_dependence('platform', 'eu_sales')"
   ]
  },
  {
   "cell_type": "code",
   "execution_count": 39,
   "metadata": {},
   "outputs": [
    {
     "data": {
      "text/plain": [
       "platform\n",
       "PS4     130.04\n",
       "XOne     46.25\n",
       "PS3      25.54\n",
       "PC       17.97\n",
       "3DS      16.12\n",
       "X360     15.49\n",
       "WiiU     13.15\n",
       "PSV       3.53\n",
       "Wii       2.59\n",
       "PSP       0.00\n",
       "Name: eu_sales, dtype: float64"
      ]
     },
     "metadata": {},
     "output_type": "display_data"
    },
    {
     "data": {
      "image/png": "[encoded data removed]",
      "text/plain": [
       "<Figure size 432x288 with 1 Axes>"
      ]
     },
     "metadata": {},
     "output_type": "display_data"
    }
   ],
   "source": [
    "pie_chart('platform', 'eu_sales')"
   ]
  },
  {
   "cell_type": "markdown",
   "metadata": {},
   "source": [
    "Almost half of the market is occupied by PS4"
   ]
  },
  {
   "cell_type": "markdown",
   "metadata": {},
   "source": [
    "##### Japan"
   ]
  },
  {
   "cell_type": "code",
   "execution_count": 66,
   "metadata": {},
   "outputs": [
    {
     "data": {
      "text/html": [
       "<div>\n",
       "<style scoped>\n",
       "    .dataframe tbody tr th:only-of-type {\n",
       "        vertical-align: middle;\n",
       "    }\n",
       "\n",
       "    .dataframe tbody tr th {\n",
       "        vertical-align: top;\n",
       "    }\n",
       "\n",
       "    .dataframe thead th {\n",
       "        text-align: right;\n",
       "    }\n",
       "</style>\n",
       "<table border=\"1\" class=\"dataframe\">\n",
       "  <thead>\n",
       "    <tr style=\"text-align: right;\">\n",
       "      <th>platform</th>\n",
       "      <th>3DS</th>\n",
       "      <th>PS4</th>\n",
       "      <th>PSV</th>\n",
       "      <th>PS3</th>\n",
       "      <th>WiiU</th>\n",
       "    </tr>\n",
       "    <tr>\n",
       "      <th>year_of_release</th>\n",
       "      <th></th>\n",
       "      <th></th>\n",
       "      <th></th>\n",
       "      <th></th>\n",
       "      <th></th>\n",
       "    </tr>\n",
       "  </thead>\n",
       "  <tbody>\n",
       "    <tr>\n",
       "      <th>2014</th>\n",
       "      <td>20.69</td>\n",
       "      <td>2.97</td>\n",
       "      <td>6.13</td>\n",
       "      <td>6.25</td>\n",
       "      <td>3.19</td>\n",
       "    </tr>\n",
       "    <tr>\n",
       "      <th>2015</th>\n",
       "      <td>15.52</td>\n",
       "      <td>6.31</td>\n",
       "      <td>4.85</td>\n",
       "      <td>3.67</td>\n",
       "      <td>3.45</td>\n",
       "    </tr>\n",
       "    <tr>\n",
       "      <th>2016</th>\n",
       "      <td>8.03</td>\n",
       "      <td>5.74</td>\n",
       "      <td>3.56</td>\n",
       "      <td>1.30</td>\n",
       "      <td>0.67</td>\n",
       "    </tr>\n",
       "  </tbody>\n",
       "</table>\n",
       "</div>"
      ],
      "text/plain": [
       "platform           3DS   PS4   PSV   PS3  WiiU\n",
       "year_of_release                               \n",
       "2014             20.69  2.97  6.13  6.25  3.19\n",
       "2015             15.52  6.31  4.85  3.67  3.45\n",
       "2016              8.03  5.74  3.56  1.30  0.67"
      ]
     },
     "metadata": {},
     "output_type": "display_data"
    },
    {
     "data": {
      "image/png": "[encoded data removed]",
      "text/plain": [
       "<Figure size 432x288 with 1 Axes>"
      ]
     },
     "metadata": {
      "needs_background": "light"
     },
     "output_type": "display_data"
    }
   ],
   "source": [
    "column_plot_year_dependence('platform', 'jp_sales')"
   ]
  },
  {
   "cell_type": "code",
   "execution_count": 41,
   "metadata": {},
   "outputs": [
    {
     "data": {
      "text/plain": [
       "platform\n",
       "3DS     44.24\n",
       "PS4     15.02\n",
       "PSV     14.54\n",
       "PS3     11.22\n",
       "WiiU     7.31\n",
       "PSP      0.36\n",
       "XOne     0.32\n",
       "X360     0.08\n",
       "PC       0.00\n",
       "Wii      0.00\n",
       "Name: jp_sales, dtype: float64"
      ]
     },
     "metadata": {},
     "output_type": "display_data"
    },
    {
     "data": {
      "image/png": "[encoded data removed]",
      "text/plain": [
       "<Figure size 432x288 with 1 Axes>"
      ]
     },
     "metadata": {},
     "output_type": "display_data"
    }
   ],
   "source": [
    "pie_chart('platform', 'jp_sales')"
   ]
  },
  {
   "cell_type": "markdown",
   "metadata": {},
   "source": [
    "In Japan, they prefer their own manufacturer and in different forms. Only in Japan, the most popular platform is Nintendo. In addition, various PS formats are popular. But there is no XBox at all."
   ]
  },
  {
   "cell_type": "markdown",
   "metadata": {},
   "source": [
    "#### Most popular genres"
   ]
  },
  {
   "cell_type": "markdown",
   "metadata": {},
   "source": [
    "##### North America"
   ]
  },
  {
   "cell_type": "code",
   "execution_count": 67,
   "metadata": {},
   "outputs": [
    {
     "data": {
      "text/html": [
       "<div>\n",
       "<style scoped>\n",
       "    .dataframe tbody tr th:only-of-type {\n",
       "        vertical-align: middle;\n",
       "    }\n",
       "\n",
       "    .dataframe tbody tr th {\n",
       "        vertical-align: top;\n",
       "    }\n",
       "\n",
       "    .dataframe thead th {\n",
       "        text-align: right;\n",
       "    }\n",
       "</style>\n",
       "<table border=\"1\" class=\"dataframe\">\n",
       "  <thead>\n",
       "    <tr style=\"text-align: right;\">\n",
       "      <th>genre</th>\n",
       "      <th>Shooter</th>\n",
       "      <th>Action</th>\n",
       "      <th>Sports</th>\n",
       "      <th>Role-Playing</th>\n",
       "      <th>Misc</th>\n",
       "    </tr>\n",
       "    <tr>\n",
       "      <th>year_of_release</th>\n",
       "      <th></th>\n",
       "      <th></th>\n",
       "      <th></th>\n",
       "      <th></th>\n",
       "      <th></th>\n",
       "    </tr>\n",
       "  </thead>\n",
       "  <tbody>\n",
       "    <tr>\n",
       "      <th>2014</th>\n",
       "      <td>30.84</td>\n",
       "      <td>38.85</td>\n",
       "      <td>19.82</td>\n",
       "      <td>13.65</td>\n",
       "      <td>9.47</td>\n",
       "    </tr>\n",
       "    <tr>\n",
       "      <th>2015</th>\n",
       "      <td>31.94</td>\n",
       "      <td>24.39</td>\n",
       "      <td>18.77</td>\n",
       "      <td>13.93</td>\n",
       "      <td>4.82</td>\n",
       "    </tr>\n",
       "    <tr>\n",
       "      <th>2016</th>\n",
       "      <td>16.24</td>\n",
       "      <td>9.29</td>\n",
       "      <td>7.54</td>\n",
       "      <td>5.89</td>\n",
       "      <td>0.76</td>\n",
       "    </tr>\n",
       "  </tbody>\n",
       "</table>\n",
       "</div>"
      ],
      "text/plain": [
       "genre            Shooter  Action  Sports  Role-Playing  Misc\n",
       "year_of_release                                             \n",
       "2014               30.84   38.85   19.82         13.65  9.47\n",
       "2015               31.94   24.39   18.77         13.93  4.82\n",
       "2016               16.24    9.29    7.54          5.89  0.76"
      ]
     },
     "metadata": {},
     "output_type": "display_data"
    },
    {
     "data": {
      "image/png": "[encoded data removed]",
      "text/plain": [
       "<Figure size 432x288 with 1 Axes>"
      ]
     },
     "metadata": {
      "needs_background": "light"
     },
     "output_type": "display_data"
    }
   ],
   "source": [
    "column_plot_year_dependence('genre', 'na_sales')"
   ]
  },
  {
   "cell_type": "code",
   "execution_count": 43,
   "metadata": {},
   "outputs": [
    {
     "data": {
      "text/plain": [
       "genre\n",
       "Shooter         79.02\n",
       "Action          72.53\n",
       "Sports          46.13\n",
       "Role-Playing    33.47\n",
       "Misc            15.05\n",
       "Fighting        12.43\n",
       "Racing           8.74\n",
       "Platform         6.79\n",
       "Adventure        5.64\n",
       "Simulation       2.63\n",
       "Strategy         0.98\n",
       "Puzzle           0.65\n",
       "Name: na_sales, dtype: float64"
      ]
     },
     "metadata": {},
     "output_type": "display_data"
    },
    {
     "data": {
      "image/png": "[encoded data removed]",
      "text/plain": [
       "<Figure size 432x288 with 1 Axes>"
      ]
     },
     "metadata": {},
     "output_type": "display_data"
    }
   ],
   "source": [
    "pie_chart('genre', 'na_sales')"
   ]
  },
  {
   "cell_type": "markdown",
   "metadata": {},
   "source": [
    "In North America, the most popular games are shooter, action, sports and RPG genres"
   ]
  },
  {
   "cell_type": "markdown",
   "metadata": {},
   "source": [
    "##### Europe"
   ]
  },
  {
   "cell_type": "code",
   "execution_count": 68,
   "metadata": {},
   "outputs": [
    {
     "data": {
      "text/html": [
       "<div>\n",
       "<style scoped>\n",
       "    .dataframe tbody tr th:only-of-type {\n",
       "        vertical-align: middle;\n",
       "    }\n",
       "\n",
       "    .dataframe tbody tr th {\n",
       "        vertical-align: top;\n",
       "    }\n",
       "\n",
       "    .dataframe thead th {\n",
       "        text-align: right;\n",
       "    }\n",
       "</style>\n",
       "<table border=\"1\" class=\"dataframe\">\n",
       "  <thead>\n",
       "    <tr style=\"text-align: right;\">\n",
       "      <th>genre</th>\n",
       "      <th>Action</th>\n",
       "      <th>Shooter</th>\n",
       "      <th>Sports</th>\n",
       "      <th>Role-Playing</th>\n",
       "      <th>Racing</th>\n",
       "    </tr>\n",
       "    <tr>\n",
       "      <th>year_of_release</th>\n",
       "      <th></th>\n",
       "      <th></th>\n",
       "      <th></th>\n",
       "      <th></th>\n",
       "      <th></th>\n",
       "    </tr>\n",
       "  </thead>\n",
       "  <tbody>\n",
       "    <tr>\n",
       "      <th>2014</th>\n",
       "      <td>39.86</td>\n",
       "      <td>25.24</td>\n",
       "      <td>17.91</td>\n",
       "      <td>10.96</td>\n",
       "      <td>7.61</td>\n",
       "    </tr>\n",
       "    <tr>\n",
       "      <th>2015</th>\n",
       "      <td>24.14</td>\n",
       "      <td>24.38</td>\n",
       "      <td>15.81</td>\n",
       "      <td>12.93</td>\n",
       "      <td>4.75</td>\n",
       "    </tr>\n",
       "    <tr>\n",
       "      <th>2016</th>\n",
       "      <td>10.68</td>\n",
       "      <td>15.90</td>\n",
       "      <td>12.01</td>\n",
       "      <td>4.28</td>\n",
       "      <td>1.77</td>\n",
       "    </tr>\n",
       "  </tbody>\n",
       "</table>\n",
       "</div>"
      ],
      "text/plain": [
       "genre            Action  Shooter  Sports  Role-Playing  Racing\n",
       "year_of_release                                               \n",
       "2014              39.86    25.24   17.91         10.96    7.61\n",
       "2015              24.14    24.38   15.81         12.93    4.75\n",
       "2016              10.68    15.90   12.01          4.28    1.77"
      ]
     },
     "metadata": {},
     "output_type": "display_data"
    },
    {
     "data": {
      "image/png": "[encoded data removed]",
      "text/plain": [
       "<Figure size 432x288 with 1 Axes>"
      ]
     },
     "metadata": {
      "needs_background": "light"
     },
     "output_type": "display_data"
    }
   ],
   "source": [
    "column_plot_year_dependence('genre', 'eu_sales')"
   ]
  },
  {
   "cell_type": "code",
   "execution_count": 45,
   "metadata": {},
   "outputs": [
    {
     "data": {
      "text/plain": [
       "genre\n",
       "Action          74.68\n",
       "Shooter         65.52\n",
       "Sports          45.73\n",
       "Role-Playing    28.17\n",
       "Racing          14.13\n",
       "Misc            12.86\n",
       "Simulation       7.30\n",
       "Platform         6.80\n",
       "Fighting         6.69\n",
       "Adventure        6.49\n",
       "Strategy         1.79\n",
       "Puzzle           0.52\n",
       "Name: eu_sales, dtype: float64"
      ]
     },
     "metadata": {},
     "output_type": "display_data"
    },
    {
     "data": {
      "image/png": "[encoded data removed]",
      "text/plain": [
       "<Figure size 432x288 with 1 Axes>"
      ]
     },
     "metadata": {},
     "output_type": "display_data"
    }
   ],
   "source": [
    "pie_chart('genre', 'eu_sales')"
   ]
  },
  {
   "cell_type": "markdown",
   "metadata": {},
   "source": [
    "European preferences almost coincide with North American ones. Only the shares differ, but they are not much"
   ]
  },
  {
   "cell_type": "markdown",
   "metadata": {},
   "source": [
    "##### Japan"
   ]
  },
  {
   "cell_type": "code",
   "execution_count": 69,
   "metadata": {},
   "outputs": [
    {
     "data": {
      "text/html": [
       "<div>\n",
       "<style scoped>\n",
       "    .dataframe tbody tr th:only-of-type {\n",
       "        vertical-align: middle;\n",
       "    }\n",
       "\n",
       "    .dataframe tbody tr th {\n",
       "        vertical-align: top;\n",
       "    }\n",
       "\n",
       "    .dataframe thead th {\n",
       "        text-align: right;\n",
       "    }\n",
       "</style>\n",
       "<table border=\"1\" class=\"dataframe\">\n",
       "  <thead>\n",
       "    <tr style=\"text-align: right;\">\n",
       "      <th>genre</th>\n",
       "      <th>Role-Playing</th>\n",
       "      <th>Action</th>\n",
       "      <th>Fighting</th>\n",
       "      <th>Misc</th>\n",
       "      <th>Shooter</th>\n",
       "    </tr>\n",
       "    <tr>\n",
       "      <th>year_of_release</th>\n",
       "      <th></th>\n",
       "      <th></th>\n",
       "      <th></th>\n",
       "      <th></th>\n",
       "      <th></th>\n",
       "    </tr>\n",
       "  </thead>\n",
       "  <tbody>\n",
       "    <tr>\n",
       "      <th>2014</th>\n",
       "      <td>17.75</td>\n",
       "      <td>6.53</td>\n",
       "      <td>4.83</td>\n",
       "      <td>2.42</td>\n",
       "      <td>1.08</td>\n",
       "    </tr>\n",
       "    <tr>\n",
       "      <th>2015</th>\n",
       "      <td>6.80</td>\n",
       "      <td>15.98</td>\n",
       "      <td>0.79</td>\n",
       "      <td>2.15</td>\n",
       "      <td>2.73</td>\n",
       "    </tr>\n",
       "    <tr>\n",
       "      <th>2016</th>\n",
       "      <td>6.61</td>\n",
       "      <td>7.07</td>\n",
       "      <td>0.75</td>\n",
       "      <td>1.04</td>\n",
       "      <td>1.06</td>\n",
       "    </tr>\n",
       "  </tbody>\n",
       "</table>\n",
       "</div>"
      ],
      "text/plain": [
       "genre            Role-Playing  Action  Fighting  Misc  Shooter\n",
       "year_of_release                                               \n",
       "2014                    17.75    6.53      4.83  2.42     1.08\n",
       "2015                     6.80   15.98      0.79  2.15     2.73\n",
       "2016                     6.61    7.07      0.75  1.04     1.06"
      ]
     },
     "metadata": {},
     "output_type": "display_data"
    },
    {
     "data": {
      "image/png": "[encoded data removed]",
      "text/plain": [
       "<Figure size 432x288 with 1 Axes>"
      ]
     },
     "metadata": {
      "needs_background": "light"
     },
     "output_type": "display_data"
    }
   ],
   "source": [
    "column_plot_year_dependence('genre', 'jp_sales')"
   ]
  },
  {
   "cell_type": "code",
   "execution_count": 47,
   "metadata": {},
   "outputs": [
    {
     "data": {
      "text/plain": [
       "genre\n",
       "Role-Playing    31.16\n",
       "Action          29.58\n",
       "Fighting         6.37\n",
       "Misc             5.61\n",
       "Shooter          4.87\n",
       "Adventure        3.60\n",
       "Sports           3.26\n",
       "Platform         2.69\n",
       "Simulation       2.31\n",
       "Racing           1.76\n",
       "Strategy         0.95\n",
       "Puzzle           0.93\n",
       "Name: jp_sales, dtype: float64"
      ]
     },
     "metadata": {},
     "output_type": "display_data"
    },
    {
     "data": {
      "image/png": "[encoded data removed]",
      "text/plain": [
       "<Figure size 432x288 with 1 Axes>"
      ]
     },
     "metadata": {},
     "output_type": "display_data"
    }
   ],
   "source": [
    "pie_chart('genre', 'jp_sales')"
   ]
  },
  {
   "cell_type": "markdown",
   "metadata": {},
   "source": [
    "As it often happens, things are different in Japan. The most popular genres are only two - RPG and action."
   ]
  },
  {
   "cell_type": "markdown",
   "metadata": {},
   "source": [
    "#### The impact of the ESRB rating on sales in a particular region"
   ]
  },
  {
   "cell_type": "markdown",
   "metadata": {},
   "source": [
    "##### North America"
   ]
  },
  {
   "cell_type": "code",
   "execution_count": 48,
   "metadata": {},
   "outputs": [
    {
     "data": {
      "text/plain": [
       "rating\n",
       "M               96.42\n",
       "без рейтинга    64.72\n",
       "E               50.74\n",
       "T               38.95\n",
       "E10+            33.23\n",
       "Name: na_sales, dtype: float64"
      ]
     },
     "metadata": {},
     "output_type": "display_data"
    },
    {
     "data": {
      "text/plain": [
       "<AxesSubplot:ylabel='na_sales'>"
      ]
     },
     "execution_count": 48,
     "metadata": {},
     "output_type": "execute_result"
    },
    {
     "data": {
      "image/png": "[encoded data removed]",
      "text/plain": [
       "<Figure size 432x288 with 1 Axes>"
      ]
     },
     "metadata": {},
     "output_type": "display_data"
    }
   ],
   "source": [
    "na_rating = normal_year_data.groupby(['rating'])['na_sales'].sum().sort_values(ascending=False)\n",
    "display(na_rating)\n",
    "na_rating.plot(grid=True, kind='pie')"
   ]
  },
  {
   "cell_type": "markdown",
   "metadata": {},
   "source": [
    "In the North American region, M-rated games are best sold, that is, for people over 17 years old. This may indicate that the audience of computer games in the region is quite mature."
   ]
  },
  {
   "cell_type": "markdown",
   "metadata": {},
   "source": [
    "##### Europe"
   ]
  },
  {
   "cell_type": "code",
   "execution_count": 49,
   "metadata": {},
   "outputs": [
    {
     "data": {
      "text/plain": [
       "rating\n",
       "M               93.44\n",
       "без рейтинга    58.95\n",
       "E               58.06\n",
       "T               34.07\n",
       "E10+            26.16\n",
       "Name: eu_sales, dtype: float64"
      ]
     },
     "metadata": {},
     "output_type": "display_data"
    },
    {
     "data": {
      "text/plain": [
       "<AxesSubplot:ylabel='eu_sales'>"
      ]
     },
     "execution_count": 49,
     "metadata": {},
     "output_type": "execute_result"
    },
    {
     "data": {
      "image/png": "[encoded data removed]",
      "text/plain": [
       "<Figure size 432x288 with 1 Axes>"
      ]
     },
     "metadata": {},
     "output_type": "display_data"
    }
   ],
   "source": [
    "eu_rating = normal_year_data.groupby(['rating'])['eu_sales'].sum().sort_values(ascending=False)\n",
    "display(eu_rating)\n",
    "eu_rating.plot(grid=True, kind='pie')"
   ]
  },
  {
   "cell_type": "markdown",
   "metadata": {},
   "source": [
    "Similar situation in Europe"
   ]
  },
  {
   "cell_type": "markdown",
   "metadata": {},
   "source": [
    "##### Japan"
   ]
  },
  {
   "cell_type": "code",
   "execution_count": 50,
   "metadata": {},
   "outputs": [
    {
     "data": {
      "text/plain": [
       "rating\n",
       "без рейтинга    56.90\n",
       "T               14.78\n",
       "E                8.94\n",
       "M                8.01\n",
       "E10+             4.46\n",
       "Name: jp_sales, dtype: float64"
      ]
     },
     "metadata": {},
     "output_type": "display_data"
    },
    {
     "data": {
      "text/plain": [
       "<AxesSubplot:ylabel='jp_sales'>"
      ]
     },
     "execution_count": 50,
     "metadata": {},
     "output_type": "execute_result"
    },
    {
     "data": {
      "image/png": "[encoded data removed]",
      "text/plain": [
       "<Figure size 432x288 with 1 Axes>"
      ]
     },
     "metadata": {},
     "output_type": "display_data"
    }
   ],
   "source": [
    "jp_rating = normal_year_data.groupby(['rating'])['jp_sales'].sum().sort_values(ascending=False)\n",
    "display(jp_rating)\n",
    "jp_rating.plot(kind='pie', grid=True)"
   ]
  },
  {
   "cell_type": "markdown",
   "metadata": {},
   "source": [
    "But in Japan, the situation is different - the most popular games without a rating. Perhaps this is due to local legislation, that for games produced for the local market, assigning a rating is not a mandatory parameter"
   ]
  },
  {
   "cell_type": "markdown",
   "metadata": {},
   "source": [
    "### Hypothesis testing"
   ]
  },
  {
   "cell_type": "markdown",
   "metadata": {},
   "source": [
    "#### The average user ratings of the Xbox One and PC platforms are the same"
   ]
  },
  {
   "cell_type": "markdown",
   "metadata": {},
   "source": [
    "Zero theory - The average user ratings of the Xbox One and PC platforms are the same. <br>\n",
    "An alternative theory is that the average user ratings of the Xbox One and PC platforms differ.<br>\n",
    "To consider hypotheses, we choose a method for comparing general aggregates. There are not so many values, so it will be more accurate to consider them as a whole.\n",
    "In order not to get a Nan value as a result, we exclude all zero user_score values from the dataframe"
   ]
  },
  {
   "cell_type": "code",
   "execution_count": 53,
   "metadata": {},
   "outputs": [],
   "source": [
    "not_nan_user_score = normal_year_data.query('user_score == user_score')"
   ]
  },
  {
   "cell_type": "code",
   "execution_count": 70,
   "metadata": {},
   "outputs": [
    {
     "name": "stdout",
     "output_type": "stream",
     "text": [
      "p-value: 0.11601398086668832\n",
      "Do not reject the null hypothesis\n"
     ]
    }
   ],
   "source": [
    "results = st.ttest_ind(not_nan_user_score.loc[not_nan_user_score.platform == 'XOne', 'user_score'],\n",
    "                      not_nan_user_score.loc[not_nan_user_score.platform == 'PC', 'user_score'], equal_var = False)\n",
    "alpha = .05\n",
    "\n",
    "print('p-value:', results.pvalue)\n",
    "\n",
    "\n",
    "if (results.pvalue < alpha):\n",
    "    print(\"Reject the null hypothesis\")\n",
    "else:\n",
    "    print(\"Do not reject the null hypothesis\")\n"
   ]
  },
  {
   "cell_type": "markdown",
   "metadata": {},
   "source": [
    "#### Average user ratings of Action and Sports genres are different"
   ]
  },
  {
   "cell_type": "markdown",
   "metadata": {},
   "source": [
    "Here, similarly to the previous paragraph, we will consider general aggregates. <br>\n",
    "Zero Theory - average user ratings of Action and Sports genres differ <br>\n",
    "Alternative theory - average user ratings of Action and Sports genres are the same"
   ]
  },
  {
   "cell_type": "code",
   "execution_count": 60,
   "metadata": {},
   "outputs": [
    {
     "name": "stdout",
     "output_type": "stream",
     "text": [
      "p-value: 1.1825550382644557e-14\n",
      "Do not reject the null hypothesis\n"
     ]
    }
   ],
   "source": [
    "results = st.ttest_ind(not_nan_user_score.loc[not_nan_user_score.genre == 'Action', 'user_score'],\n",
    "                      not_nan_user_score.loc[not_nan_user_score.genre == 'Sports', 'user_score'], equal_var = False)\n",
    "alpha = .05\n",
    "\n",
    "print('p-value:', results.pvalue)\n",
    "\n",
    "\n",
    "if (results.pvalue > alpha):\n",
    "    print(\"Reject the null hypothesis\")\n",
    "else:\n",
    "    print(\"Do not reject the null hypothesis\")"
   ]
  },
  {
   "cell_type": "markdown",
   "metadata": {},
   "source": [
    "### General conclusion"
   ]
  },
  {
   "cell_type": "markdown",
   "metadata": {},
   "source": [
    "As part of the project, we examined a set of data and statistics on sales of computer games in different regions, collected from open sources. Based on the results of the study, the following conclusions can be drawn: <br>\n",
    "1) Age rating and user ratings do not affect sales <br>\n",
    "2) It is necessary to focus sales on just a few platforms - PS and PC for everyone, XBox for the North American market and Nintendo for Japan <br>\n",
    "3) In general, the sales market in the regions under consideration is declining. In recent years, the decline has slowed down, but so far it says nothing about the trend reversal in the near future <br>\n",
    "4) Working with critics is important, as their ratings have an impact on the sales of a particular game <br>\n",
    "5) When developing a strategy for the implementation of computer games, it is necessary to take into account regional genre specifics."
   ]
  }
 ],
 "metadata": {
  "ExecuteTimeLog": [
   {
    "duration": 575,
    "start_time": "2022-10-13T21:08:45.857Z"
   },
   {
    "duration": 64,
    "start_time": "2022-10-13T21:08:54.844Z"
   },
   {
    "duration": 112,
    "start_time": "2022-10-13T21:09:04.784Z"
   },
   {
    "duration": 16,
    "start_time": "2022-10-13T21:09:55.453Z"
   },
   {
    "duration": 50,
    "start_time": "2022-10-13T21:10:21.039Z"
   },
   {
    "duration": 345,
    "start_time": "2022-10-13T21:10:57.862Z"
   },
   {
    "duration": 4,
    "start_time": "2022-10-13T21:24:26.983Z"
   },
   {
    "duration": 18,
    "start_time": "2022-10-13T21:24:43.515Z"
   },
   {
    "duration": 12,
    "start_time": "2022-10-13T21:25:04.483Z"
   },
   {
    "duration": 5,
    "start_time": "2022-10-13T21:25:50.904Z"
   },
   {
    "duration": 21,
    "start_time": "2022-10-13T21:29:56.733Z"
   },
   {
    "duration": 13,
    "start_time": "2022-10-13T21:30:03.625Z"
   },
   {
    "duration": 20,
    "start_time": "2022-10-13T21:30:16.326Z"
   },
   {
    "duration": 9,
    "start_time": "2022-10-13T21:30:22.687Z"
   },
   {
    "duration": 21,
    "start_time": "2022-10-13T21:30:31.541Z"
   },
   {
    "duration": 10,
    "start_time": "2022-10-13T21:31:40.785Z"
   },
   {
    "duration": 22,
    "start_time": "2022-10-13T21:31:55.589Z"
   },
   {
    "duration": 18,
    "start_time": "2022-10-13T21:32:01.030Z"
   },
   {
    "duration": 20,
    "start_time": "2022-10-13T21:32:08.420Z"
   },
   {
    "duration": 24,
    "start_time": "2022-10-13T21:34:10.199Z"
   },
   {
    "duration": 565,
    "start_time": "2022-10-13T21:34:39.721Z"
   },
   {
    "duration": 15,
    "start_time": "2022-10-13T21:34:40.288Z"
   },
   {
    "duration": 25,
    "start_time": "2022-10-13T21:34:40.305Z"
   },
   {
    "duration": 30,
    "start_time": "2022-10-13T21:34:40.331Z"
   },
   {
    "duration": 15,
    "start_time": "2022-10-13T21:34:40.362Z"
   },
   {
    "duration": 6,
    "start_time": "2022-10-13T21:40:49.919Z"
   },
   {
    "duration": 21,
    "start_time": "2022-10-13T21:46:54.963Z"
   },
   {
    "duration": 18,
    "start_time": "2022-10-13T21:47:09.616Z"
   },
   {
    "duration": 6,
    "start_time": "2022-10-13T22:02:50.157Z"
   },
   {
    "duration": 10,
    "start_time": "2022-10-13T22:03:00.787Z"
   },
   {
    "duration": 12,
    "start_time": "2022-10-13T22:03:48.382Z"
   },
   {
    "duration": 537,
    "start_time": "2022-10-13T22:08:02.992Z"
   },
   {
    "duration": 9,
    "start_time": "2022-10-13T22:20:00.493Z"
   },
   {
    "duration": 42,
    "start_time": "2022-10-13T22:23:39.243Z"
   },
   {
    "duration": 26,
    "start_time": "2022-10-13T22:25:14.530Z"
   },
   {
    "duration": 17,
    "start_time": "2022-10-13T22:31:42.234Z"
   },
   {
    "duration": 21,
    "start_time": "2022-10-13T22:31:55.039Z"
   },
   {
    "duration": 12,
    "start_time": "2022-10-13T22:33:28.994Z"
   },
   {
    "duration": 4,
    "start_time": "2022-10-13T22:33:48.825Z"
   },
   {
    "duration": 4,
    "start_time": "2022-10-13T22:34:25.902Z"
   },
   {
    "duration": 15,
    "start_time": "2022-10-13T22:34:55.194Z"
   },
   {
    "duration": 4,
    "start_time": "2022-10-13T22:39:39.554Z"
   },
   {
    "duration": 7,
    "start_time": "2022-10-13T22:43:07.930Z"
   },
   {
    "duration": 6,
    "start_time": "2022-10-13T22:47:18.688Z"
   },
   {
    "duration": 7,
    "start_time": "2022-10-13T22:47:52.874Z"
   },
   {
    "duration": 4,
    "start_time": "2022-10-13T22:48:04.918Z"
   },
   {
    "duration": 9,
    "start_time": "2022-10-13T22:48:35.786Z"
   },
   {
    "duration": 4,
    "start_time": "2022-10-13T22:49:08.088Z"
   },
   {
    "duration": 17,
    "start_time": "2022-10-13T22:49:46.415Z"
   },
   {
    "duration": 9,
    "start_time": "2022-10-13T22:50:01.829Z"
   },
   {
    "duration": 13,
    "start_time": "2022-10-13T22:50:02.923Z"
   },
   {
    "duration": 535,
    "start_time": "2022-10-13T22:52:54.665Z"
   },
   {
    "duration": 17,
    "start_time": "2022-10-13T22:52:55.201Z"
   },
   {
    "duration": 33,
    "start_time": "2022-10-13T22:52:55.220Z"
   },
   {
    "duration": 11,
    "start_time": "2022-10-13T22:52:55.256Z"
   },
   {
    "duration": 18,
    "start_time": "2022-10-13T22:52:55.269Z"
   },
   {
    "duration": 40,
    "start_time": "2022-10-13T22:52:55.288Z"
   },
   {
    "duration": 63,
    "start_time": "2022-10-13T22:52:55.330Z"
   },
   {
    "duration": 15,
    "start_time": "2022-10-13T22:52:55.395Z"
   },
   {
    "duration": 27,
    "start_time": "2022-10-13T22:52:55.411Z"
   },
   {
    "duration": 21,
    "start_time": "2022-10-13T22:52:55.440Z"
   },
   {
    "duration": 19,
    "start_time": "2022-10-13T22:52:55.463Z"
   },
   {
    "duration": 19,
    "start_time": "2022-10-13T22:54:21.750Z"
   },
   {
    "duration": 500,
    "start_time": "2022-10-13T22:55:00.404Z"
   },
   {
    "duration": 17,
    "start_time": "2022-10-13T22:55:00.906Z"
   },
   {
    "duration": 47,
    "start_time": "2022-10-13T22:55:00.925Z"
   },
   {
    "duration": 11,
    "start_time": "2022-10-13T22:55:00.974Z"
   },
   {
    "duration": 18,
    "start_time": "2022-10-13T22:55:00.986Z"
   },
   {
    "duration": 23,
    "start_time": "2022-10-13T22:55:01.006Z"
   },
   {
    "duration": 78,
    "start_time": "2022-10-13T22:55:01.030Z"
   },
   {
    "duration": 16,
    "start_time": "2022-10-13T22:55:01.109Z"
   },
   {
    "duration": 20,
    "start_time": "2022-10-13T22:55:01.126Z"
   },
   {
    "duration": 23,
    "start_time": "2022-10-13T22:55:01.148Z"
   },
   {
    "duration": 13,
    "start_time": "2022-10-13T22:55:01.173Z"
   },
   {
    "duration": 24,
    "start_time": "2022-10-13T22:55:01.188Z"
   },
   {
    "duration": 430,
    "start_time": "2022-10-13T22:57:45.979Z"
   },
   {
    "duration": 527,
    "start_time": "2022-10-13T22:57:57.155Z"
   },
   {
    "duration": 16,
    "start_time": "2022-10-13T22:57:57.684Z"
   },
   {
    "duration": 27,
    "start_time": "2022-10-13T22:57:57.701Z"
   },
   {
    "duration": 9,
    "start_time": "2022-10-13T22:57:57.730Z"
   },
   {
    "duration": 16,
    "start_time": "2022-10-13T22:57:57.740Z"
   },
   {
    "duration": 19,
    "start_time": "2022-10-13T22:57:57.757Z"
   },
   {
    "duration": 76,
    "start_time": "2022-10-13T22:57:57.778Z"
   },
   {
    "duration": 17,
    "start_time": "2022-10-13T22:57:57.856Z"
   },
   {
    "duration": 8,
    "start_time": "2022-10-13T22:57:57.875Z"
   },
   {
    "duration": 11,
    "start_time": "2022-10-13T22:57:57.884Z"
   },
   {
    "duration": 12,
    "start_time": "2022-10-13T22:57:57.896Z"
   },
   {
    "duration": 451,
    "start_time": "2022-10-13T22:57:57.909Z"
   },
   {
    "duration": 543,
    "start_time": "2022-10-13T22:58:23.757Z"
   },
   {
    "duration": 15,
    "start_time": "2022-10-13T22:58:24.302Z"
   },
   {
    "duration": 25,
    "start_time": "2022-10-13T22:58:24.318Z"
   },
   {
    "duration": 18,
    "start_time": "2022-10-13T22:58:24.344Z"
   },
   {
    "duration": 9,
    "start_time": "2022-10-13T22:58:24.364Z"
   },
   {
    "duration": 20,
    "start_time": "2022-10-13T22:58:24.375Z"
   },
   {
    "duration": 87,
    "start_time": "2022-10-13T22:58:24.396Z"
   },
   {
    "duration": 16,
    "start_time": "2022-10-13T22:58:24.485Z"
   },
   {
    "duration": 9,
    "start_time": "2022-10-13T22:58:24.502Z"
   },
   {
    "duration": 12,
    "start_time": "2022-10-13T22:58:24.512Z"
   },
   {
    "duration": 29,
    "start_time": "2022-10-13T22:58:24.525Z"
   },
   {
    "duration": 21,
    "start_time": "2022-10-13T22:58:24.556Z"
   },
   {
    "duration": 1268,
    "start_time": "2022-10-13T23:03:17.632Z"
   },
   {
    "duration": 194,
    "start_time": "2022-10-13T23:04:00.634Z"
   },
   {
    "duration": 511,
    "start_time": "2022-10-13T23:04:32.686Z"
   },
   {
    "duration": 17,
    "start_time": "2022-10-13T23:04:33.199Z"
   },
   {
    "duration": 37,
    "start_time": "2022-10-13T23:04:33.217Z"
   },
   {
    "duration": 11,
    "start_time": "2022-10-13T23:04:33.256Z"
   },
   {
    "duration": 6,
    "start_time": "2022-10-13T23:04:33.269Z"
   },
   {
    "duration": 21,
    "start_time": "2022-10-13T23:04:33.276Z"
   },
   {
    "duration": 102,
    "start_time": "2022-10-13T23:04:33.299Z"
   },
   {
    "duration": 16,
    "start_time": "2022-10-13T23:04:33.403Z"
   },
   {
    "duration": 5,
    "start_time": "2022-10-13T23:04:33.421Z"
   },
   {
    "duration": 30,
    "start_time": "2022-10-13T23:04:33.428Z"
   },
   {
    "duration": 14,
    "start_time": "2022-10-13T23:04:33.460Z"
   },
   {
    "duration": 276,
    "start_time": "2022-10-13T23:04:33.476Z"
   },
   {
    "duration": 14,
    "start_time": "2022-10-13T23:06:48.760Z"
   },
   {
    "duration": 26,
    "start_time": "2022-10-13T23:07:11.385Z"
   },
   {
    "duration": 6,
    "start_time": "2022-10-13T23:11:51.693Z"
   },
   {
    "duration": 210,
    "start_time": "2022-10-13T23:19:46.792Z"
   },
   {
    "duration": 192,
    "start_time": "2022-10-13T23:19:54.654Z"
   },
   {
    "duration": 5,
    "start_time": "2022-10-13T23:20:02.771Z"
   },
   {
    "duration": 14,
    "start_time": "2022-10-13T23:20:13.941Z"
   },
   {
    "duration": 13,
    "start_time": "2022-10-13T23:20:28.443Z"
   },
   {
    "duration": 4,
    "start_time": "2022-10-13T23:20:45.526Z"
   },
   {
    "duration": 8,
    "start_time": "2022-10-13T23:25:04.521Z"
   },
   {
    "duration": 8,
    "start_time": "2022-10-13T23:25:13.201Z"
   },
   {
    "duration": 606,
    "start_time": "2022-10-13T23:25:36.156Z"
   },
   {
    "duration": 16,
    "start_time": "2022-10-13T23:25:36.764Z"
   },
   {
    "duration": 26,
    "start_time": "2022-10-13T23:25:36.782Z"
   },
   {
    "duration": 10,
    "start_time": "2022-10-13T23:25:36.811Z"
   },
   {
    "duration": 32,
    "start_time": "2022-10-13T23:25:36.822Z"
   },
   {
    "duration": 20,
    "start_time": "2022-10-13T23:25:36.856Z"
   },
   {
    "duration": 84,
    "start_time": "2022-10-13T23:25:36.878Z"
   },
   {
    "duration": 17,
    "start_time": "2022-10-13T23:25:36.964Z"
   },
   {
    "duration": 6,
    "start_time": "2022-10-13T23:25:36.983Z"
   },
   {
    "duration": 11,
    "start_time": "2022-10-13T23:25:36.991Z"
   },
   {
    "duration": 13,
    "start_time": "2022-10-13T23:25:37.004Z"
   },
   {
    "duration": 55,
    "start_time": "2022-10-13T23:25:37.019Z"
   },
   {
    "duration": 6,
    "start_time": "2022-10-13T23:25:37.075Z"
   },
   {
    "duration": 8,
    "start_time": "2022-10-13T23:25:37.082Z"
   },
   {
    "duration": 10,
    "start_time": "2022-10-13T23:25:37.092Z"
   },
   {
    "duration": 6,
    "start_time": "2022-10-13T23:26:00.777Z"
   },
   {
    "duration": 878,
    "start_time": "2022-10-13T23:26:48.619Z"
   },
   {
    "duration": 26,
    "start_time": "2022-10-13T23:27:25.036Z"
   },
   {
    "duration": 5,
    "start_time": "2022-10-13T23:27:36.193Z"
   },
   {
    "duration": 12,
    "start_time": "2022-10-13T23:27:38.208Z"
   },
   {
    "duration": 7,
    "start_time": "2022-10-13T23:27:51.960Z"
   },
   {
    "duration": 14,
    "start_time": "2022-10-13T23:27:52.900Z"
   },
   {
    "duration": 14,
    "start_time": "2022-10-13T23:28:06.234Z"
   },
   {
    "duration": 5,
    "start_time": "2022-10-13T23:29:16.785Z"
   },
   {
    "duration": 6,
    "start_time": "2022-10-13T23:29:23.209Z"
   },
   {
    "duration": 5,
    "start_time": "2022-10-13T23:29:34.748Z"
   },
   {
    "duration": 5,
    "start_time": "2022-10-13T23:29:42.452Z"
   },
   {
    "duration": 8,
    "start_time": "2022-10-13T23:36:44.666Z"
   },
   {
    "duration": 4,
    "start_time": "2022-10-13T23:36:54.793Z"
   },
   {
    "duration": 54,
    "start_time": "2022-10-13T23:38:04.551Z"
   },
   {
    "duration": 8,
    "start_time": "2022-10-13T23:39:02.851Z"
   },
   {
    "duration": 5,
    "start_time": "2022-10-13T23:39:50.199Z"
   },
   {
    "duration": 15,
    "start_time": "2022-10-13T23:40:49.560Z"
   },
   {
    "duration": 40,
    "start_time": "2022-10-14T00:11:34.407Z"
   },
   {
    "duration": 8,
    "start_time": "2022-10-14T00:11:49.977Z"
   },
   {
    "duration": 24,
    "start_time": "2022-10-14T00:11:55.107Z"
   },
   {
    "duration": 19,
    "start_time": "2022-10-14T00:12:57.986Z"
   },
   {
    "duration": 559,
    "start_time": "2022-10-14T00:13:13.857Z"
   },
   {
    "duration": 16,
    "start_time": "2022-10-14T00:13:14.419Z"
   },
   {
    "duration": 24,
    "start_time": "2022-10-14T00:13:14.436Z"
   },
   {
    "duration": 9,
    "start_time": "2022-10-14T00:13:14.462Z"
   },
   {
    "duration": 4,
    "start_time": "2022-10-14T00:13:14.473Z"
   },
   {
    "duration": 25,
    "start_time": "2022-10-14T00:13:14.479Z"
   },
   {
    "duration": 91,
    "start_time": "2022-10-14T00:13:14.506Z"
   },
   {
    "duration": 15,
    "start_time": "2022-10-14T00:13:14.599Z"
   },
   {
    "duration": 4,
    "start_time": "2022-10-14T00:13:14.616Z"
   },
   {
    "duration": 11,
    "start_time": "2022-10-14T00:13:14.623Z"
   },
   {
    "duration": 15,
    "start_time": "2022-10-14T00:13:14.653Z"
   },
   {
    "duration": 87,
    "start_time": "2022-10-14T00:13:14.670Z"
   },
   {
    "duration": 0,
    "start_time": "2022-10-14T00:13:14.759Z"
   },
   {
    "duration": 0,
    "start_time": "2022-10-14T00:13:14.760Z"
   },
   {
    "duration": 0,
    "start_time": "2022-10-14T00:13:14.761Z"
   },
   {
    "duration": 0,
    "start_time": "2022-10-14T00:13:14.762Z"
   },
   {
    "duration": 0,
    "start_time": "2022-10-14T00:13:14.763Z"
   },
   {
    "duration": 0,
    "start_time": "2022-10-14T00:13:14.763Z"
   },
   {
    "duration": 0,
    "start_time": "2022-10-14T00:13:14.765Z"
   },
   {
    "duration": 0,
    "start_time": "2022-10-14T00:13:14.765Z"
   },
   {
    "duration": 0,
    "start_time": "2022-10-14T00:13:14.766Z"
   },
   {
    "duration": 16,
    "start_time": "2022-10-14T00:14:08.857Z"
   },
   {
    "duration": 527,
    "start_time": "2022-10-14T00:16:08.306Z"
   },
   {
    "duration": 17,
    "start_time": "2022-10-14T00:16:08.835Z"
   },
   {
    "duration": 54,
    "start_time": "2022-10-14T00:16:08.854Z"
   },
   {
    "duration": 10,
    "start_time": "2022-10-14T00:16:08.911Z"
   },
   {
    "duration": 11,
    "start_time": "2022-10-14T00:16:08.923Z"
   },
   {
    "duration": 27,
    "start_time": "2022-10-14T00:16:08.936Z"
   },
   {
    "duration": 77,
    "start_time": "2022-10-14T00:16:08.965Z"
   },
   {
    "duration": 22,
    "start_time": "2022-10-14T00:16:09.044Z"
   },
   {
    "duration": 9,
    "start_time": "2022-10-14T00:16:09.067Z"
   },
   {
    "duration": 16,
    "start_time": "2022-10-14T00:16:09.079Z"
   },
   {
    "duration": 13,
    "start_time": "2022-10-14T00:16:09.096Z"
   },
   {
    "duration": 307,
    "start_time": "2022-10-14T00:16:09.111Z"
   },
   {
    "duration": 0,
    "start_time": "2022-10-14T00:16:09.420Z"
   },
   {
    "duration": 0,
    "start_time": "2022-10-14T00:16:09.421Z"
   },
   {
    "duration": 1,
    "start_time": "2022-10-14T00:16:09.422Z"
   },
   {
    "duration": 0,
    "start_time": "2022-10-14T00:16:09.424Z"
   },
   {
    "duration": 0,
    "start_time": "2022-10-14T00:16:09.425Z"
   },
   {
    "duration": 0,
    "start_time": "2022-10-14T00:16:09.426Z"
   },
   {
    "duration": 0,
    "start_time": "2022-10-14T00:16:09.427Z"
   },
   {
    "duration": 0,
    "start_time": "2022-10-14T00:16:09.428Z"
   },
   {
    "duration": 0,
    "start_time": "2022-10-14T00:16:09.429Z"
   },
   {
    "duration": 23,
    "start_time": "2022-10-14T00:16:44.431Z"
   },
   {
    "duration": 539,
    "start_time": "2022-10-14T00:18:17.064Z"
   },
   {
    "duration": 16,
    "start_time": "2022-10-14T00:18:17.605Z"
   },
   {
    "duration": 44,
    "start_time": "2022-10-14T00:18:17.623Z"
   },
   {
    "duration": 10,
    "start_time": "2022-10-14T00:18:17.669Z"
   },
   {
    "duration": 5,
    "start_time": "2022-10-14T00:18:17.681Z"
   },
   {
    "duration": 20,
    "start_time": "2022-10-14T00:18:17.687Z"
   },
   {
    "duration": 90,
    "start_time": "2022-10-14T00:18:17.709Z"
   },
   {
    "duration": 17,
    "start_time": "2022-10-14T00:18:17.801Z"
   },
   {
    "duration": 5,
    "start_time": "2022-10-14T00:18:17.819Z"
   },
   {
    "duration": 27,
    "start_time": "2022-10-14T00:18:17.827Z"
   },
   {
    "duration": 14,
    "start_time": "2022-10-14T00:18:17.856Z"
   },
   {
    "duration": 22,
    "start_time": "2022-10-14T00:18:17.872Z"
   },
   {
    "duration": 12,
    "start_time": "2022-10-14T00:18:17.895Z"
   },
   {
    "duration": 5,
    "start_time": "2022-10-14T00:18:17.909Z"
   },
   {
    "duration": 40,
    "start_time": "2022-10-14T00:18:17.915Z"
   },
   {
    "duration": 6,
    "start_time": "2022-10-14T00:18:17.957Z"
   },
   {
    "duration": 9,
    "start_time": "2022-10-14T00:18:17.965Z"
   },
   {
    "duration": 5,
    "start_time": "2022-10-14T00:18:17.976Z"
   },
   {
    "duration": 8,
    "start_time": "2022-10-14T00:18:17.982Z"
   },
   {
    "duration": 13,
    "start_time": "2022-10-14T00:18:17.992Z"
   },
   {
    "duration": 25,
    "start_time": "2022-10-14T00:18:18.007Z"
   },
   {
    "duration": 51,
    "start_time": "2022-10-14T00:18:18.034Z"
   },
   {
    "duration": 553,
    "start_time": "2022-10-14T00:18:30.754Z"
   },
   {
    "duration": 16,
    "start_time": "2022-10-14T00:18:31.309Z"
   },
   {
    "duration": 50,
    "start_time": "2022-10-14T00:18:31.327Z"
   },
   {
    "duration": 13,
    "start_time": "2022-10-14T00:18:31.379Z"
   },
   {
    "duration": 22,
    "start_time": "2022-10-14T00:18:31.394Z"
   },
   {
    "duration": 44,
    "start_time": "2022-10-14T00:18:31.418Z"
   },
   {
    "duration": 92,
    "start_time": "2022-10-14T00:18:31.465Z"
   },
   {
    "duration": 15,
    "start_time": "2022-10-14T00:18:31.559Z"
   },
   {
    "duration": 25,
    "start_time": "2022-10-14T00:18:31.576Z"
   },
   {
    "duration": 18,
    "start_time": "2022-10-14T00:18:31.603Z"
   },
   {
    "duration": 24,
    "start_time": "2022-10-14T00:18:31.622Z"
   },
   {
    "duration": 20,
    "start_time": "2022-10-14T00:18:31.647Z"
   },
   {
    "duration": 23,
    "start_time": "2022-10-14T00:18:31.669Z"
   },
   {
    "duration": 20,
    "start_time": "2022-10-14T00:18:31.694Z"
   },
   {
    "duration": 30,
    "start_time": "2022-10-14T00:18:31.716Z"
   },
   {
    "duration": 36,
    "start_time": "2022-10-14T00:18:31.748Z"
   },
   {
    "duration": 24,
    "start_time": "2022-10-14T00:18:31.786Z"
   },
   {
    "duration": 16,
    "start_time": "2022-10-14T00:18:31.812Z"
   },
   {
    "duration": 48,
    "start_time": "2022-10-14T00:18:31.829Z"
   },
   {
    "duration": 17,
    "start_time": "2022-10-14T00:18:31.879Z"
   },
   {
    "duration": 21,
    "start_time": "2022-10-14T00:18:31.897Z"
   },
   {
    "duration": 36,
    "start_time": "2022-10-14T00:18:31.919Z"
   },
   {
    "duration": 537,
    "start_time": "2022-10-14T00:20:17.991Z"
   },
   {
    "duration": 17,
    "start_time": "2022-10-14T00:20:18.530Z"
   },
   {
    "duration": 24,
    "start_time": "2022-10-14T00:20:18.549Z"
   },
   {
    "duration": 10,
    "start_time": "2022-10-14T00:20:18.576Z"
   },
   {
    "duration": 6,
    "start_time": "2022-10-14T00:20:18.587Z"
   },
   {
    "duration": 20,
    "start_time": "2022-10-14T00:20:18.594Z"
   },
   {
    "duration": 97,
    "start_time": "2022-10-14T00:20:18.616Z"
   },
   {
    "duration": 16,
    "start_time": "2022-10-14T00:20:18.714Z"
   },
   {
    "duration": 4,
    "start_time": "2022-10-14T00:20:18.732Z"
   },
   {
    "duration": 8,
    "start_time": "2022-10-14T00:20:18.753Z"
   },
   {
    "duration": 14,
    "start_time": "2022-10-14T00:20:18.763Z"
   },
   {
    "duration": 10,
    "start_time": "2022-10-14T00:20:18.779Z"
   },
   {
    "duration": 14,
    "start_time": "2022-10-14T00:20:18.790Z"
   },
   {
    "duration": 6,
    "start_time": "2022-10-14T00:20:18.805Z"
   },
   {
    "duration": 6,
    "start_time": "2022-10-14T00:20:18.812Z"
   },
   {
    "duration": 37,
    "start_time": "2022-10-14T00:20:18.819Z"
   },
   {
    "duration": 5,
    "start_time": "2022-10-14T00:20:18.858Z"
   },
   {
    "duration": 6,
    "start_time": "2022-10-14T00:20:18.865Z"
   },
   {
    "duration": 7,
    "start_time": "2022-10-14T00:20:18.872Z"
   },
   {
    "duration": 20,
    "start_time": "2022-10-14T00:20:18.880Z"
   },
   {
    "duration": 23,
    "start_time": "2022-10-14T00:20:18.901Z"
   },
   {
    "duration": 57,
    "start_time": "2022-10-14T00:20:18.925Z"
   },
   {
    "duration": 14,
    "start_time": "2022-10-14T00:20:33.204Z"
   },
   {
    "duration": 58,
    "start_time": "2022-10-14T00:25:10.378Z"
   },
   {
    "duration": 280,
    "start_time": "2022-10-14T00:25:24.806Z"
   },
   {
    "duration": 159,
    "start_time": "2022-10-14T00:26:40.360Z"
   },
   {
    "duration": 165,
    "start_time": "2022-10-14T00:28:34.972Z"
   },
   {
    "duration": 155,
    "start_time": "2022-10-14T00:28:52.765Z"
   },
   {
    "duration": 245,
    "start_time": "2022-10-14T00:31:34.811Z"
   },
   {
    "duration": 177,
    "start_time": "2022-10-14T00:32:06.852Z"
   },
   {
    "duration": 179,
    "start_time": "2022-10-14T00:32:16.201Z"
   },
   {
    "duration": 28,
    "start_time": "2022-10-14T00:32:47.937Z"
   },
   {
    "duration": 416,
    "start_time": "2022-10-14T00:33:41.874Z"
   },
   {
    "duration": 166,
    "start_time": "2022-10-14T00:34:26.317Z"
   },
   {
    "duration": 16,
    "start_time": "2022-10-14T00:34:33.784Z"
   },
   {
    "duration": 75,
    "start_time": "2022-10-14T00:36:22.182Z"
   },
   {
    "duration": 15,
    "start_time": "2022-10-14T00:36:36.150Z"
   },
   {
    "duration": 15,
    "start_time": "2022-10-14T00:36:52.535Z"
   },
   {
    "duration": 15,
    "start_time": "2022-10-14T00:37:05.704Z"
   },
   {
    "duration": 15,
    "start_time": "2022-10-14T00:37:14.426Z"
   },
   {
    "duration": 16,
    "start_time": "2022-10-14T00:38:25.720Z"
   },
   {
    "duration": 52,
    "start_time": "2022-10-14T00:40:19.085Z"
   },
   {
    "duration": 28,
    "start_time": "2022-10-14T00:40:26.118Z"
   },
   {
    "duration": 3238,
    "start_time": "2022-10-14T00:40:47.998Z"
   },
   {
    "duration": 21,
    "start_time": "2022-10-14T00:41:07.444Z"
   },
   {
    "duration": 24,
    "start_time": "2022-10-14T00:41:57.535Z"
   },
   {
    "duration": 8,
    "start_time": "2022-10-14T00:42:38.415Z"
   },
   {
    "duration": 4,
    "start_time": "2022-10-14T00:44:08.661Z"
   },
   {
    "duration": 10,
    "start_time": "2022-10-14T00:44:18.129Z"
   },
   {
    "duration": 5,
    "start_time": "2022-10-14T00:44:31.681Z"
   },
   {
    "duration": 154,
    "start_time": "2022-10-14T00:51:42.274Z"
   },
   {
    "duration": 145,
    "start_time": "2022-10-14T00:51:49.967Z"
   },
   {
    "duration": 178,
    "start_time": "2022-10-14T00:55:11.641Z"
   },
   {
    "duration": 154,
    "start_time": "2022-10-14T00:57:22.076Z"
   },
   {
    "duration": 463,
    "start_time": "2022-10-14T01:00:59.344Z"
   },
   {
    "duration": 12,
    "start_time": "2022-10-14T01:01:51.571Z"
   },
   {
    "duration": 694,
    "start_time": "2022-10-14T01:02:02.286Z"
   },
   {
    "duration": 18,
    "start_time": "2022-10-14T01:02:02.982Z"
   },
   {
    "duration": 44,
    "start_time": "2022-10-14T01:02:03.002Z"
   },
   {
    "duration": 11,
    "start_time": "2022-10-14T01:02:03.048Z"
   },
   {
    "duration": 6,
    "start_time": "2022-10-14T01:02:03.061Z"
   },
   {
    "duration": 45,
    "start_time": "2022-10-14T01:02:03.068Z"
   },
   {
    "duration": 35,
    "start_time": "2022-10-14T01:02:03.114Z"
   },
   {
    "duration": 22,
    "start_time": "2022-10-14T01:02:03.150Z"
   },
   {
    "duration": 29,
    "start_time": "2022-10-14T01:02:03.173Z"
   },
   {
    "duration": 18,
    "start_time": "2022-10-14T01:02:03.204Z"
   },
   {
    "duration": 29,
    "start_time": "2022-10-14T01:02:03.223Z"
   },
   {
    "duration": 25,
    "start_time": "2022-10-14T01:02:03.254Z"
   },
   {
    "duration": 25,
    "start_time": "2022-10-14T01:02:03.280Z"
   },
   {
    "duration": 21,
    "start_time": "2022-10-14T01:02:03.306Z"
   },
   {
    "duration": 17,
    "start_time": "2022-10-14T01:02:03.329Z"
   },
   {
    "duration": 15,
    "start_time": "2022-10-14T01:02:03.348Z"
   },
   {
    "duration": 23,
    "start_time": "2022-10-14T01:02:03.365Z"
   },
   {
    "duration": 8,
    "start_time": "2022-10-14T01:02:03.390Z"
   },
   {
    "duration": 8,
    "start_time": "2022-10-14T01:02:03.400Z"
   },
   {
    "duration": 15,
    "start_time": "2022-10-14T01:02:03.409Z"
   },
   {
    "duration": 177,
    "start_time": "2022-10-14T01:02:03.426Z"
   },
   {
    "duration": 81,
    "start_time": "2022-10-14T01:02:03.604Z"
   },
   {
    "duration": 0,
    "start_time": "2022-10-14T01:02:03.687Z"
   },
   {
    "duration": 23,
    "start_time": "2022-10-14T01:02:25.950Z"
   },
   {
    "duration": 10,
    "start_time": "2022-10-14T01:02:32.507Z"
   },
   {
    "duration": 32,
    "start_time": "2022-10-14T01:03:31.429Z"
   },
   {
    "duration": 223,
    "start_time": "2022-10-14T01:04:24.931Z"
   },
   {
    "duration": 125,
    "start_time": "2022-10-14T01:04:46.856Z"
   },
   {
    "duration": 11,
    "start_time": "2022-10-14T01:04:55.783Z"
   },
   {
    "duration": 14,
    "start_time": "2022-10-14T01:05:23.719Z"
   },
   {
    "duration": 11,
    "start_time": "2022-10-14T01:05:33.402Z"
   },
   {
    "duration": 17,
    "start_time": "2022-10-14T01:09:03.625Z"
   },
   {
    "duration": 10,
    "start_time": "2022-10-14T01:10:06.231Z"
   },
   {
    "duration": 17,
    "start_time": "2022-10-14T01:10:16.377Z"
   },
   {
    "duration": 20,
    "start_time": "2022-10-14T01:10:27.332Z"
   },
   {
    "duration": 17,
    "start_time": "2022-10-14T01:10:53.532Z"
   },
   {
    "duration": 120,
    "start_time": "2022-10-14T01:10:59.801Z"
   },
   {
    "duration": 186,
    "start_time": "2022-10-14T01:12:10.221Z"
   },
   {
    "duration": 138,
    "start_time": "2022-10-14T01:13:05.951Z"
   },
   {
    "duration": 58,
    "start_time": "2022-10-14T01:13:10.834Z"
   },
   {
    "duration": 16,
    "start_time": "2022-10-14T01:13:14.376Z"
   },
   {
    "duration": 16,
    "start_time": "2022-10-14T01:13:29.055Z"
   },
   {
    "duration": 16,
    "start_time": "2022-10-14T01:13:40.034Z"
   },
   {
    "duration": 73,
    "start_time": "2022-10-14T01:15:01.072Z"
   },
   {
    "duration": 75,
    "start_time": "2022-10-14T01:15:09.439Z"
   },
   {
    "duration": 11,
    "start_time": "2022-10-14T01:15:17.760Z"
   },
   {
    "duration": 10,
    "start_time": "2022-10-14T01:15:34.572Z"
   },
   {
    "duration": 18,
    "start_time": "2022-10-14T01:15:37.815Z"
   },
   {
    "duration": 15,
    "start_time": "2022-10-14T01:16:05.653Z"
   },
   {
    "duration": 14,
    "start_time": "2022-10-14T01:16:34.398Z"
   },
   {
    "duration": 31,
    "start_time": "2022-10-14T01:18:20.115Z"
   },
   {
    "duration": 26,
    "start_time": "2022-10-14T01:18:45.820Z"
   },
   {
    "duration": 15,
    "start_time": "2022-10-14T01:19:37.181Z"
   },
   {
    "duration": 251,
    "start_time": "2022-10-14T01:20:49.359Z"
   },
   {
    "duration": 173,
    "start_time": "2022-10-14T01:21:18.071Z"
   },
   {
    "duration": 151,
    "start_time": "2022-10-14T01:21:39.598Z"
   },
   {
    "duration": 133,
    "start_time": "2022-10-14T01:22:40.096Z"
   },
   {
    "duration": 15,
    "start_time": "2022-10-14T01:24:59.950Z"
   },
   {
    "duration": 16,
    "start_time": "2022-10-14T01:27:27.613Z"
   },
   {
    "duration": 2114,
    "start_time": "2022-10-14T01:28:34.465Z"
   },
   {
    "duration": 5002,
    "start_time": "2022-10-14T01:29:04.513Z"
   },
   {
    "duration": 2343,
    "start_time": "2022-10-14T01:29:51.749Z"
   },
   {
    "duration": 120,
    "start_time": "2022-10-14T01:32:56.141Z"
   },
   {
    "duration": 700,
    "start_time": "2022-10-14T01:34:06.699Z"
   },
   {
    "duration": 17,
    "start_time": "2022-10-14T01:34:07.401Z"
   },
   {
    "duration": 37,
    "start_time": "2022-10-14T01:34:07.420Z"
   },
   {
    "duration": 7,
    "start_time": "2022-10-14T01:34:07.459Z"
   },
   {
    "duration": 7,
    "start_time": "2022-10-14T01:34:07.468Z"
   },
   {
    "duration": 19,
    "start_time": "2022-10-14T01:34:07.476Z"
   },
   {
    "duration": 23,
    "start_time": "2022-10-14T01:34:07.497Z"
   },
   {
    "duration": 43,
    "start_time": "2022-10-14T01:34:07.522Z"
   },
   {
    "duration": 5,
    "start_time": "2022-10-14T01:34:07.567Z"
   },
   {
    "duration": 11,
    "start_time": "2022-10-14T01:34:07.574Z"
   },
   {
    "duration": 12,
    "start_time": "2022-10-14T01:34:07.587Z"
   },
   {
    "duration": 14,
    "start_time": "2022-10-14T01:34:07.601Z"
   },
   {
    "duration": 41,
    "start_time": "2022-10-14T01:34:07.616Z"
   },
   {
    "duration": 4,
    "start_time": "2022-10-14T01:34:07.659Z"
   },
   {
    "duration": 8,
    "start_time": "2022-10-14T01:34:07.665Z"
   },
   {
    "duration": 9,
    "start_time": "2022-10-14T01:34:07.675Z"
   },
   {
    "duration": 16,
    "start_time": "2022-10-14T01:34:07.686Z"
   },
   {
    "duration": 14,
    "start_time": "2022-10-14T01:34:07.703Z"
   },
   {
    "duration": 8,
    "start_time": "2022-10-14T01:34:07.719Z"
   },
   {
    "duration": 19,
    "start_time": "2022-10-14T01:34:07.729Z"
   },
   {
    "duration": 178,
    "start_time": "2022-10-14T01:34:07.749Z"
   },
   {
    "duration": 25,
    "start_time": "2022-10-14T01:34:07.929Z"
   },
   {
    "duration": 14,
    "start_time": "2022-10-14T01:34:07.956Z"
   },
   {
    "duration": 64,
    "start_time": "2022-10-14T01:34:07.971Z"
   },
   {
    "duration": 0,
    "start_time": "2022-10-14T01:34:08.037Z"
   },
   {
    "duration": 1507,
    "start_time": "2022-10-14T01:34:13.093Z"
   },
   {
    "duration": 67,
    "start_time": "2022-10-14T01:35:10.297Z"
   },
   {
    "duration": 8,
    "start_time": "2022-10-14T01:35:17.600Z"
   },
   {
    "duration": 544,
    "start_time": "2022-10-14T01:35:28.111Z"
   },
   {
    "duration": 637,
    "start_time": "2022-10-14T01:35:42.836Z"
   },
   {
    "duration": 9,
    "start_time": "2022-10-14T01:36:33.561Z"
   },
   {
    "duration": 20314,
    "start_time": "2022-10-14T01:36:42.035Z"
   },
   {
    "duration": 553,
    "start_time": "2022-10-14T01:37:34.757Z"
   },
   {
    "duration": 239,
    "start_time": "2022-10-14T01:38:03.789Z"
   },
   {
    "duration": 539,
    "start_time": "2022-10-14T01:38:26.485Z"
   },
   {
    "duration": 541,
    "start_time": "2022-10-14T01:38:46.161Z"
   },
   {
    "duration": 14,
    "start_time": "2022-10-14T01:39:05.895Z"
   },
   {
    "duration": 686,
    "start_time": "2022-10-14T01:39:38.611Z"
   },
   {
    "duration": 162,
    "start_time": "2022-10-14T01:40:03.262Z"
   },
   {
    "duration": 5,
    "start_time": "2022-10-14T01:40:34.422Z"
   },
   {
    "duration": 5,
    "start_time": "2022-10-14T01:40:44.069Z"
   },
   {
    "duration": 19,
    "start_time": "2022-10-14T01:41:35.481Z"
   },
   {
    "duration": 26,
    "start_time": "2022-10-14T01:41:53.674Z"
   },
   {
    "duration": 17,
    "start_time": "2022-10-14T01:43:37.429Z"
   },
   {
    "duration": 300,
    "start_time": "2022-10-14T01:46:46.557Z"
   },
   {
    "duration": 292,
    "start_time": "2022-10-14T01:47:22.072Z"
   },
   {
    "duration": 51,
    "start_time": "2022-10-14T01:49:50.814Z"
   },
   {
    "duration": 810,
    "start_time": "2022-10-14T01:50:06.515Z"
   },
   {
    "duration": 7,
    "start_time": "2022-10-14T01:50:37.238Z"
   },
   {
    "duration": 13,
    "start_time": "2022-10-14T01:51:28.806Z"
   },
   {
    "duration": 226,
    "start_time": "2022-10-14T01:51:37.199Z"
   },
   {
    "duration": 14,
    "start_time": "2022-10-14T01:51:58.065Z"
   },
   {
    "duration": 142,
    "start_time": "2022-10-14T01:52:48.552Z"
   },
   {
    "duration": 117,
    "start_time": "2022-10-14T01:53:13.646Z"
   },
   {
    "duration": 83,
    "start_time": "2022-10-14T01:53:26.208Z"
   },
   {
    "duration": 710,
    "start_time": "2022-10-14T01:53:51.461Z"
   },
   {
    "duration": 807,
    "start_time": "2022-10-14T01:54:15.398Z"
   },
   {
    "duration": 144,
    "start_time": "2022-10-14T01:54:36.849Z"
   },
   {
    "duration": 140,
    "start_time": "2022-10-14T01:55:04.135Z"
   },
   {
    "duration": 132,
    "start_time": "2022-10-14T01:55:26.293Z"
   },
   {
    "duration": 43,
    "start_time": "2022-10-14T01:56:52.069Z"
   },
   {
    "duration": 135,
    "start_time": "2022-10-14T01:57:15.047Z"
   },
   {
    "duration": 133,
    "start_time": "2022-10-14T01:57:39.626Z"
   },
   {
    "duration": 672,
    "start_time": "2022-10-14T01:58:55.685Z"
   },
   {
    "duration": 15,
    "start_time": "2022-10-14T01:58:56.359Z"
   },
   {
    "duration": 24,
    "start_time": "2022-10-14T01:58:56.376Z"
   },
   {
    "duration": 8,
    "start_time": "2022-10-14T01:58:56.402Z"
   },
   {
    "duration": 8,
    "start_time": "2022-10-14T01:58:56.411Z"
   },
   {
    "duration": 37,
    "start_time": "2022-10-14T01:58:56.421Z"
   },
   {
    "duration": 27,
    "start_time": "2022-10-14T01:58:56.460Z"
   },
   {
    "duration": 16,
    "start_time": "2022-10-14T01:58:56.488Z"
   },
   {
    "duration": 5,
    "start_time": "2022-10-14T01:58:56.505Z"
   },
   {
    "duration": 12,
    "start_time": "2022-10-14T01:58:56.512Z"
   },
   {
    "duration": 36,
    "start_time": "2022-10-14T01:58:56.525Z"
   },
   {
    "duration": 9,
    "start_time": "2022-10-14T01:58:56.563Z"
   },
   {
    "duration": 17,
    "start_time": "2022-10-14T01:58:56.574Z"
   },
   {
    "duration": 5,
    "start_time": "2022-10-14T01:58:56.592Z"
   },
   {
    "duration": 10,
    "start_time": "2022-10-14T01:58:56.599Z"
   },
   {
    "duration": 8,
    "start_time": "2022-10-14T01:58:56.610Z"
   },
   {
    "duration": 10,
    "start_time": "2022-10-14T01:58:56.619Z"
   },
   {
    "duration": 23,
    "start_time": "2022-10-14T01:58:56.631Z"
   },
   {
    "duration": 11,
    "start_time": "2022-10-14T01:58:56.656Z"
   },
   {
    "duration": 16,
    "start_time": "2022-10-14T01:58:56.669Z"
   },
   {
    "duration": 177,
    "start_time": "2022-10-14T01:58:56.687Z"
   },
   {
    "duration": 139,
    "start_time": "2022-10-14T01:58:56.865Z"
   },
   {
    "duration": 996,
    "start_time": "2022-10-14T02:01:24.925Z"
   },
   {
    "duration": 12,
    "start_time": "2022-10-14T02:01:33.654Z"
   },
   {
    "duration": 17,
    "start_time": "2022-10-14T02:01:41.643Z"
   },
   {
    "duration": 27,
    "start_time": "2022-10-14T02:02:13.146Z"
   },
   {
    "duration": 141,
    "start_time": "2022-10-14T02:02:43.904Z"
   },
   {
    "duration": 4,
    "start_time": "2022-10-14T02:02:59.118Z"
   },
   {
    "duration": 5,
    "start_time": "2022-10-14T02:04:01.683Z"
   },
   {
    "duration": 9,
    "start_time": "2022-10-14T02:04:45.809Z"
   },
   {
    "duration": 9,
    "start_time": "2022-10-14T02:04:52.759Z"
   },
   {
    "duration": 48,
    "start_time": "2022-10-14T02:05:10.870Z"
   },
   {
    "duration": 26,
    "start_time": "2022-10-14T02:06:15.583Z"
   },
   {
    "duration": 15,
    "start_time": "2022-10-14T02:06:44.637Z"
   },
   {
    "duration": 17,
    "start_time": "2022-10-14T02:06:59.695Z"
   },
   {
    "duration": 140,
    "start_time": "2022-10-14T02:07:13.505Z"
   },
   {
    "duration": 9,
    "start_time": "2022-10-14T02:07:46.182Z"
   },
   {
    "duration": 1362,
    "start_time": "2022-10-14T02:08:15.125Z"
   },
   {
    "duration": 1421,
    "start_time": "2022-10-14T02:08:31.335Z"
   },
   {
    "duration": 1424,
    "start_time": "2022-10-14T02:09:09.619Z"
   },
   {
    "duration": 522,
    "start_time": "2022-10-14T02:21:54.303Z"
   },
   {
    "duration": 42,
    "start_time": "2022-10-14T02:23:32.339Z"
   },
   {
    "duration": 39,
    "start_time": "2022-10-14T02:23:40.046Z"
   },
   {
    "duration": 83,
    "start_time": "2022-10-14T02:24:36.412Z"
   },
   {
    "duration": 727,
    "start_time": "2022-10-14T02:24:49.711Z"
   },
   {
    "duration": 31,
    "start_time": "2022-10-14T02:24:50.439Z"
   },
   {
    "duration": 29,
    "start_time": "2022-10-14T02:24:50.472Z"
   },
   {
    "duration": 16,
    "start_time": "2022-10-14T02:24:50.503Z"
   },
   {
    "duration": 22,
    "start_time": "2022-10-14T02:24:50.521Z"
   },
   {
    "duration": 42,
    "start_time": "2022-10-14T02:24:50.545Z"
   },
   {
    "duration": 32,
    "start_time": "2022-10-14T02:24:50.589Z"
   },
   {
    "duration": 17,
    "start_time": "2022-10-14T02:24:50.623Z"
   },
   {
    "duration": 35,
    "start_time": "2022-10-14T02:24:50.642Z"
   },
   {
    "duration": 21,
    "start_time": "2022-10-14T02:24:50.680Z"
   },
   {
    "duration": 24,
    "start_time": "2022-10-14T02:24:50.703Z"
   },
   {
    "duration": 23,
    "start_time": "2022-10-14T02:24:50.729Z"
   },
   {
    "duration": 27,
    "start_time": "2022-10-14T02:24:50.760Z"
   },
   {
    "duration": 7,
    "start_time": "2022-10-14T02:24:50.789Z"
   },
   {
    "duration": 8,
    "start_time": "2022-10-14T02:24:50.798Z"
   },
   {
    "duration": 20,
    "start_time": "2022-10-14T02:24:50.808Z"
   },
   {
    "duration": 15,
    "start_time": "2022-10-14T02:24:50.829Z"
   },
   {
    "duration": 22,
    "start_time": "2022-10-14T02:24:50.846Z"
   },
   {
    "duration": 19,
    "start_time": "2022-10-14T02:24:50.869Z"
   },
   {
    "duration": 37,
    "start_time": "2022-10-14T02:24:50.889Z"
   },
   {
    "duration": 192,
    "start_time": "2022-10-14T02:24:50.928Z"
   },
   {
    "duration": 59,
    "start_time": "2022-10-14T02:24:51.123Z"
   },
   {
    "duration": 0,
    "start_time": "2022-10-14T02:24:51.185Z"
   },
   {
    "duration": 0,
    "start_time": "2022-10-14T02:24:51.186Z"
   },
   {
    "duration": 42,
    "start_time": "2022-10-14T02:25:05.296Z"
   },
   {
    "duration": 857,
    "start_time": "2022-10-14T02:25:28.592Z"
   },
   {
    "duration": 15,
    "start_time": "2022-10-14T02:25:42.675Z"
   },
   {
    "duration": 919,
    "start_time": "2022-10-14T02:26:46.960Z"
   },
   {
    "duration": 3101,
    "start_time": "2022-10-14T02:26:54.023Z"
   },
   {
    "duration": 21,
    "start_time": "2022-10-14T02:27:12.033Z"
   },
   {
    "duration": 9,
    "start_time": "2022-10-14T02:28:24.540Z"
   },
   {
    "duration": 12,
    "start_time": "2022-10-14T02:29:50.041Z"
   },
   {
    "duration": 191,
    "start_time": "2022-10-14T02:30:01.671Z"
   },
   {
    "duration": 54,
    "start_time": "2022-10-14T02:30:30.836Z"
   },
   {
    "duration": 9,
    "start_time": "2022-10-14T02:30:55.026Z"
   },
   {
    "duration": 533,
    "start_time": "2022-10-14T02:31:01.948Z"
   },
   {
    "duration": 8,
    "start_time": "2022-10-14T02:33:20.019Z"
   },
   {
    "duration": 9,
    "start_time": "2022-10-14T02:33:33.777Z"
   },
   {
    "duration": 8,
    "start_time": "2022-10-14T02:33:39.751Z"
   },
   {
    "duration": 14,
    "start_time": "2022-10-14T02:33:57.229Z"
   },
   {
    "duration": 9,
    "start_time": "2022-10-14T02:34:01.228Z"
   },
   {
    "duration": 8,
    "start_time": "2022-10-14T02:34:14.002Z"
   },
   {
    "duration": 8,
    "start_time": "2022-10-14T02:34:21.001Z"
   },
   {
    "duration": 14,
    "start_time": "2022-10-14T02:35:19.636Z"
   },
   {
    "duration": 12,
    "start_time": "2022-10-14T02:35:37.120Z"
   },
   {
    "duration": 13,
    "start_time": "2022-10-14T02:35:41.693Z"
   },
   {
    "duration": 14,
    "start_time": "2022-10-14T02:35:47.530Z"
   },
   {
    "duration": 7,
    "start_time": "2022-10-14T02:36:07.799Z"
   },
   {
    "duration": 4,
    "start_time": "2022-10-14T02:39:24.573Z"
   },
   {
    "duration": 5,
    "start_time": "2022-10-14T02:39:30.239Z"
   },
   {
    "duration": 11,
    "start_time": "2022-10-14T02:40:01.218Z"
   },
   {
    "duration": 751,
    "start_time": "2022-10-14T02:41:17.871Z"
   },
   {
    "duration": 33,
    "start_time": "2022-10-14T02:43:59.151Z"
   },
   {
    "duration": 34,
    "start_time": "2022-10-14T02:44:25.449Z"
   },
   {
    "duration": 10,
    "start_time": "2022-10-14T02:46:02.554Z"
   },
   {
    "duration": 27,
    "start_time": "2022-10-14T02:46:40.218Z"
   },
   {
    "duration": 9,
    "start_time": "2022-10-14T02:46:45.514Z"
   },
   {
    "duration": 317,
    "start_time": "2022-10-14T02:46:51.757Z"
   },
   {
    "duration": 258,
    "start_time": "2022-10-14T02:48:07.017Z"
   },
   {
    "duration": 288,
    "start_time": "2022-10-14T02:49:41.288Z"
   },
   {
    "duration": 730,
    "start_time": "2022-10-14T02:49:52.801Z"
   },
   {
    "duration": 19,
    "start_time": "2022-10-14T02:49:53.534Z"
   },
   {
    "duration": 62,
    "start_time": "2022-10-14T02:49:53.555Z"
   },
   {
    "duration": 10,
    "start_time": "2022-10-14T02:49:53.619Z"
   },
   {
    "duration": 11,
    "start_time": "2022-10-14T02:49:53.632Z"
   },
   {
    "duration": 32,
    "start_time": "2022-10-14T02:49:53.645Z"
   },
   {
    "duration": 45,
    "start_time": "2022-10-14T02:49:53.679Z"
   },
   {
    "duration": 20,
    "start_time": "2022-10-14T02:49:53.726Z"
   },
   {
    "duration": 14,
    "start_time": "2022-10-14T02:49:53.748Z"
   },
   {
    "duration": 17,
    "start_time": "2022-10-14T02:49:53.764Z"
   },
   {
    "duration": 21,
    "start_time": "2022-10-14T02:49:53.783Z"
   },
   {
    "duration": 21,
    "start_time": "2022-10-14T02:49:53.805Z"
   },
   {
    "duration": 27,
    "start_time": "2022-10-14T02:49:53.828Z"
   },
   {
    "duration": 16,
    "start_time": "2022-10-14T02:49:53.859Z"
   },
   {
    "duration": 15,
    "start_time": "2022-10-14T02:49:53.877Z"
   },
   {
    "duration": 30,
    "start_time": "2022-10-14T02:49:53.894Z"
   },
   {
    "duration": 29,
    "start_time": "2022-10-14T02:49:53.926Z"
   },
   {
    "duration": 24,
    "start_time": "2022-10-14T02:49:53.957Z"
   },
   {
    "duration": 24,
    "start_time": "2022-10-14T02:49:53.984Z"
   },
   {
    "duration": 46,
    "start_time": "2022-10-14T02:49:54.010Z"
   },
   {
    "duration": 230,
    "start_time": "2022-10-14T02:49:54.058Z"
   },
   {
    "duration": 264,
    "start_time": "2022-10-14T02:49:54.289Z"
   },
   {
    "duration": 319,
    "start_time": "2022-10-14T02:50:28.098Z"
   },
   {
    "duration": 289,
    "start_time": "2022-10-14T02:50:35.071Z"
   },
   {
    "duration": 327,
    "start_time": "2022-10-14T02:50:41.976Z"
   },
   {
    "duration": 36,
    "start_time": "2022-10-14T02:54:54.682Z"
   },
   {
    "duration": 7,
    "start_time": "2022-10-14T02:55:10.294Z"
   },
   {
    "duration": 50,
    "start_time": "2022-10-14T15:10:13.172Z"
   },
   {
    "duration": 1098,
    "start_time": "2022-10-14T15:10:20.413Z"
   },
   {
    "duration": 18,
    "start_time": "2022-10-14T15:10:21.513Z"
   },
   {
    "duration": 35,
    "start_time": "2022-10-14T15:10:21.533Z"
   },
   {
    "duration": 9,
    "start_time": "2022-10-14T15:10:21.571Z"
   },
   {
    "duration": 16,
    "start_time": "2022-10-14T15:10:21.582Z"
   },
   {
    "duration": 20,
    "start_time": "2022-10-14T15:10:21.600Z"
   },
   {
    "duration": 41,
    "start_time": "2022-10-14T15:10:21.623Z"
   },
   {
    "duration": 43,
    "start_time": "2022-10-14T15:10:21.666Z"
   },
   {
    "duration": 4,
    "start_time": "2022-10-14T15:10:21.711Z"
   },
   {
    "duration": 14,
    "start_time": "2022-10-14T15:10:21.718Z"
   },
   {
    "duration": 16,
    "start_time": "2022-10-14T15:10:21.734Z"
   },
   {
    "duration": 11,
    "start_time": "2022-10-14T15:10:21.751Z"
   },
   {
    "duration": 40,
    "start_time": "2022-10-14T15:10:21.764Z"
   },
   {
    "duration": 6,
    "start_time": "2022-10-14T15:10:21.806Z"
   },
   {
    "duration": 12,
    "start_time": "2022-10-14T15:10:21.813Z"
   },
   {
    "duration": 9,
    "start_time": "2022-10-14T15:10:21.827Z"
   },
   {
    "duration": 8,
    "start_time": "2022-10-14T15:10:21.838Z"
   },
   {
    "duration": 6,
    "start_time": "2022-10-14T15:10:21.848Z"
   },
   {
    "duration": 7,
    "start_time": "2022-10-14T15:10:21.856Z"
   },
   {
    "duration": 17,
    "start_time": "2022-10-14T15:10:21.898Z"
   },
   {
    "duration": 215,
    "start_time": "2022-10-14T15:10:21.917Z"
   },
   {
    "duration": 320,
    "start_time": "2022-10-14T15:10:22.133Z"
   },
   {
    "duration": 7,
    "start_time": "2022-10-14T15:10:22.455Z"
   },
   {
    "duration": 482,
    "start_time": "2022-10-14T15:10:22.464Z"
   },
   {
    "duration": 81,
    "start_time": "2022-10-14T15:15:21.824Z"
   },
   {
    "duration": 397,
    "start_time": "2022-10-14T15:23:23.585Z"
   },
   {
    "duration": 313,
    "start_time": "2022-10-14T15:27:22.953Z"
   },
   {
    "duration": 21,
    "start_time": "2022-10-14T15:28:39.748Z"
   },
   {
    "duration": 320,
    "start_time": "2022-10-14T15:29:40.707Z"
   },
   {
    "duration": 20,
    "start_time": "2022-10-14T15:29:47.855Z"
   },
   {
    "duration": 6,
    "start_time": "2022-10-14T15:31:37.218Z"
   },
   {
    "duration": 15,
    "start_time": "2022-10-14T15:31:37.708Z"
   },
   {
    "duration": 5,
    "start_time": "2022-10-14T15:33:46.821Z"
   },
   {
    "duration": 316,
    "start_time": "2022-10-14T15:42:00.522Z"
   },
   {
    "duration": 15,
    "start_time": "2022-10-14T15:42:56.621Z"
   },
   {
    "duration": 308,
    "start_time": "2022-10-14T15:43:03.727Z"
   },
   {
    "duration": 9,
    "start_time": "2022-10-14T15:43:04.786Z"
   },
   {
    "duration": 19,
    "start_time": "2022-10-14T15:43:05.835Z"
   },
   {
    "duration": 5,
    "start_time": "2022-10-14T15:43:06.715Z"
   },
   {
    "duration": 5,
    "start_time": "2022-10-14T15:45:44.506Z"
   },
   {
    "duration": 78,
    "start_time": "2022-10-14T15:45:58.975Z"
   },
   {
    "duration": 19,
    "start_time": "2022-10-14T15:46:11.768Z"
   },
   {
    "duration": 7,
    "start_time": "2022-10-14T15:46:39.801Z"
   },
   {
    "duration": 15,
    "start_time": "2022-10-14T15:46:41.239Z"
   },
   {
    "duration": 1110,
    "start_time": "2022-10-14T15:49:11.065Z"
   },
   {
    "duration": 301,
    "start_time": "2022-10-14T15:51:59.327Z"
   },
   {
    "duration": 22,
    "start_time": "2022-10-14T15:52:08.460Z"
   },
   {
    "duration": 6,
    "start_time": "2022-10-14T15:53:54.007Z"
   },
   {
    "duration": 11,
    "start_time": "2022-10-14T15:54:27.991Z"
   },
   {
    "duration": 11,
    "start_time": "2022-10-14T15:54:44.118Z"
   },
   {
    "duration": 21,
    "start_time": "2022-10-14T15:58:51.395Z"
   },
   {
    "duration": 303,
    "start_time": "2022-10-14T15:59:09.029Z"
   },
   {
    "duration": 11,
    "start_time": "2022-10-14T16:02:42.245Z"
   },
   {
    "duration": 17,
    "start_time": "2022-10-14T16:02:58.958Z"
   },
   {
    "duration": 234,
    "start_time": "2022-10-14T16:03:50.713Z"
   },
   {
    "duration": 15,
    "start_time": "2022-10-14T16:03:56.941Z"
   },
   {
    "duration": 9,
    "start_time": "2022-10-14T16:03:59.415Z"
   },
   {
    "duration": 299,
    "start_time": "2022-10-14T16:04:16.401Z"
   },
   {
    "duration": 20,
    "start_time": "2022-10-14T16:04:53.498Z"
   },
   {
    "duration": 52,
    "start_time": "2022-10-14T16:05:36.105Z"
   },
   {
    "duration": 21,
    "start_time": "2022-10-14T16:05:42.659Z"
   },
   {
    "duration": 48,
    "start_time": "2022-10-14T16:06:16.016Z"
   },
   {
    "duration": 1133,
    "start_time": "2022-10-14T16:07:12.163Z"
   },
   {
    "duration": 1149,
    "start_time": "2022-10-14T16:07:47.099Z"
   },
   {
    "duration": 756,
    "start_time": "2022-10-14T16:08:06.153Z"
   },
   {
    "duration": 18,
    "start_time": "2022-10-14T16:08:06.911Z"
   },
   {
    "duration": 29,
    "start_time": "2022-10-14T16:08:06.931Z"
   },
   {
    "duration": 9,
    "start_time": "2022-10-14T16:08:06.962Z"
   },
   {
    "duration": 28,
    "start_time": "2022-10-14T16:08:06.972Z"
   },
   {
    "duration": 20,
    "start_time": "2022-10-14T16:08:07.002Z"
   },
   {
    "duration": 24,
    "start_time": "2022-10-14T16:08:07.024Z"
   },
   {
    "duration": 15,
    "start_time": "2022-10-14T16:08:07.050Z"
   },
   {
    "duration": 29,
    "start_time": "2022-10-14T16:08:07.067Z"
   },
   {
    "duration": 10,
    "start_time": "2022-10-14T16:08:07.100Z"
   },
   {
    "duration": 14,
    "start_time": "2022-10-14T16:08:07.111Z"
   },
   {
    "duration": 11,
    "start_time": "2022-10-14T16:08:07.127Z"
   },
   {
    "duration": 14,
    "start_time": "2022-10-14T16:08:07.140Z"
   },
   {
    "duration": 42,
    "start_time": "2022-10-14T16:08:07.156Z"
   },
   {
    "duration": 9,
    "start_time": "2022-10-14T16:08:07.200Z"
   },
   {
    "duration": 14,
    "start_time": "2022-10-14T16:08:07.212Z"
   },
   {
    "duration": 15,
    "start_time": "2022-10-14T16:08:07.228Z"
   },
   {
    "duration": 7,
    "start_time": "2022-10-14T16:08:07.245Z"
   },
   {
    "duration": 8,
    "start_time": "2022-10-14T16:08:07.254Z"
   },
   {
    "duration": 16,
    "start_time": "2022-10-14T16:08:07.263Z"
   },
   {
    "duration": 188,
    "start_time": "2022-10-14T16:08:07.280Z"
   },
   {
    "duration": 299,
    "start_time": "2022-10-14T16:08:07.469Z"
   },
   {
    "duration": 312,
    "start_time": "2022-10-14T16:08:07.770Z"
   },
   {
    "duration": 1192,
    "start_time": "2022-10-14T16:08:08.084Z"
   },
   {
    "duration": 0,
    "start_time": "2022-10-14T16:08:09.279Z"
   },
   {
    "duration": 328,
    "start_time": "2022-10-14T16:08:39.693Z"
   },
   {
    "duration": 13,
    "start_time": "2022-10-14T16:11:42.568Z"
   },
   {
    "duration": 13,
    "start_time": "2022-10-14T16:12:05.474Z"
   },
   {
    "duration": 5,
    "start_time": "2022-10-14T16:12:38.343Z"
   },
   {
    "duration": 17,
    "start_time": "2022-10-14T16:12:41.343Z"
   },
   {
    "duration": 318,
    "start_time": "2022-10-14T16:13:44.630Z"
   },
   {
    "duration": 159,
    "start_time": "2022-10-14T16:16:15.567Z"
   },
   {
    "duration": 8,
    "start_time": "2022-10-14T16:17:30.951Z"
   },
   {
    "duration": 1291,
    "start_time": "2022-10-14T16:19:39.362Z"
   },
   {
    "duration": 21,
    "start_time": "2022-10-14T16:19:40.655Z"
   },
   {
    "duration": 24,
    "start_time": "2022-10-14T16:19:40.677Z"
   },
   {
    "duration": 9,
    "start_time": "2022-10-14T16:19:40.704Z"
   },
   {
    "duration": 5,
    "start_time": "2022-10-14T16:19:40.714Z"
   },
   {
    "duration": 19,
    "start_time": "2022-10-14T16:19:40.721Z"
   },
   {
    "duration": 55,
    "start_time": "2022-10-14T16:19:40.742Z"
   },
   {
    "duration": 15,
    "start_time": "2022-10-14T16:19:40.799Z"
   },
   {
    "duration": 4,
    "start_time": "2022-10-14T16:19:40.816Z"
   },
   {
    "duration": 11,
    "start_time": "2022-10-14T16:19:40.822Z"
   },
   {
    "duration": 12,
    "start_time": "2022-10-14T16:19:40.835Z"
   },
   {
    "duration": 12,
    "start_time": "2022-10-14T16:19:40.848Z"
   },
   {
    "duration": 16,
    "start_time": "2022-10-14T16:19:40.896Z"
   },
   {
    "duration": 4,
    "start_time": "2022-10-14T16:19:40.914Z"
   },
   {
    "duration": 6,
    "start_time": "2022-10-14T16:19:40.920Z"
   },
   {
    "duration": 7,
    "start_time": "2022-10-14T16:19:40.927Z"
   },
   {
    "duration": 9,
    "start_time": "2022-10-14T16:19:40.935Z"
   },
   {
    "duration": 7,
    "start_time": "2022-10-14T16:19:40.945Z"
   },
   {
    "duration": 7,
    "start_time": "2022-10-14T16:19:40.953Z"
   },
   {
    "duration": 49,
    "start_time": "2022-10-14T16:19:40.961Z"
   },
   {
    "duration": 185,
    "start_time": "2022-10-14T16:19:41.012Z"
   },
   {
    "duration": 315,
    "start_time": "2022-10-14T16:19:41.198Z"
   },
   {
    "duration": 330,
    "start_time": "2022-10-14T16:19:41.515Z"
   },
   {
    "duration": 254,
    "start_time": "2022-10-14T16:19:41.847Z"
   },
   {
    "duration": 171,
    "start_time": "2022-10-14T16:19:42.103Z"
   },
   {
    "duration": 205,
    "start_time": "2022-10-14T16:19:55.006Z"
   },
   {
    "duration": 162,
    "start_time": "2022-10-14T16:20:04.616Z"
   },
   {
    "duration": 276,
    "start_time": "2022-10-14T16:20:42.447Z"
   },
   {
    "duration": 10,
    "start_time": "2022-10-14T16:21:05.792Z"
   },
   {
    "duration": 612,
    "start_time": "2022-10-14T16:21:18.230Z"
   },
   {
    "duration": 15,
    "start_time": "2022-10-14T16:22:15.597Z"
   },
   {
    "duration": 13,
    "start_time": "2022-10-14T16:22:31.059Z"
   },
   {
    "duration": 1268,
    "start_time": "2022-10-14T16:22:46.545Z"
   },
   {
    "duration": 17,
    "start_time": "2022-10-14T16:22:47.816Z"
   },
   {
    "duration": 26,
    "start_time": "2022-10-14T16:22:47.835Z"
   },
   {
    "duration": 9,
    "start_time": "2022-10-14T16:22:47.863Z"
   },
   {
    "duration": 6,
    "start_time": "2022-10-14T16:22:47.896Z"
   },
   {
    "duration": 40,
    "start_time": "2022-10-14T16:22:47.903Z"
   },
   {
    "duration": 30,
    "start_time": "2022-10-14T16:22:47.945Z"
   },
   {
    "duration": 45,
    "start_time": "2022-10-14T16:22:47.977Z"
   },
   {
    "duration": 13,
    "start_time": "2022-10-14T16:22:48.024Z"
   },
   {
    "duration": 35,
    "start_time": "2022-10-14T16:22:48.041Z"
   },
   {
    "duration": 31,
    "start_time": "2022-10-14T16:22:48.078Z"
   },
   {
    "duration": 17,
    "start_time": "2022-10-14T16:22:48.111Z"
   },
   {
    "duration": 35,
    "start_time": "2022-10-14T16:22:48.130Z"
   },
   {
    "duration": 6,
    "start_time": "2022-10-14T16:22:48.167Z"
   },
   {
    "duration": 27,
    "start_time": "2022-10-14T16:22:48.175Z"
   },
   {
    "duration": 28,
    "start_time": "2022-10-14T16:22:48.204Z"
   },
   {
    "duration": 34,
    "start_time": "2022-10-14T16:22:48.235Z"
   },
   {
    "duration": 18,
    "start_time": "2022-10-14T16:22:48.271Z"
   },
   {
    "duration": 43,
    "start_time": "2022-10-14T16:22:48.291Z"
   },
   {
    "duration": 50,
    "start_time": "2022-10-14T16:22:48.335Z"
   },
   {
    "duration": 237,
    "start_time": "2022-10-14T16:22:48.388Z"
   },
   {
    "duration": 358,
    "start_time": "2022-10-14T16:22:48.627Z"
   },
   {
    "duration": 307,
    "start_time": "2022-10-14T16:22:48.986Z"
   },
   {
    "duration": 249,
    "start_time": "2022-10-14T16:22:49.294Z"
   },
   {
    "duration": 110,
    "start_time": "2022-10-14T16:22:49.545Z"
   },
   {
    "duration": 4,
    "start_time": "2022-10-14T16:24:02.110Z"
   },
   {
    "duration": 165,
    "start_time": "2022-10-14T16:27:52.023Z"
   },
   {
    "duration": 1272,
    "start_time": "2022-10-14T16:28:01.865Z"
   },
   {
    "duration": 18,
    "start_time": "2022-10-14T16:28:03.139Z"
   },
   {
    "duration": 27,
    "start_time": "2022-10-14T16:28:03.158Z"
   },
   {
    "duration": 25,
    "start_time": "2022-10-14T16:28:03.187Z"
   },
   {
    "duration": 7,
    "start_time": "2022-10-14T16:28:03.216Z"
   },
   {
    "duration": 22,
    "start_time": "2022-10-14T16:28:03.225Z"
   },
   {
    "duration": 35,
    "start_time": "2022-10-14T16:28:03.249Z"
   },
   {
    "duration": 24,
    "start_time": "2022-10-14T16:28:03.297Z"
   },
   {
    "duration": 4,
    "start_time": "2022-10-14T16:28:03.323Z"
   },
   {
    "duration": 10,
    "start_time": "2022-10-14T16:28:03.330Z"
   },
   {
    "duration": 14,
    "start_time": "2022-10-14T16:28:03.342Z"
   },
   {
    "duration": 45,
    "start_time": "2022-10-14T16:28:03.357Z"
   },
   {
    "duration": 20,
    "start_time": "2022-10-14T16:28:03.404Z"
   },
   {
    "duration": 6,
    "start_time": "2022-10-14T16:28:03.426Z"
   },
   {
    "duration": 9,
    "start_time": "2022-10-14T16:28:03.433Z"
   },
   {
    "duration": 15,
    "start_time": "2022-10-14T16:28:03.444Z"
   },
   {
    "duration": 12,
    "start_time": "2022-10-14T16:28:03.461Z"
   },
   {
    "duration": 16,
    "start_time": "2022-10-14T16:28:03.475Z"
   },
   {
    "duration": 18,
    "start_time": "2022-10-14T16:28:03.497Z"
   },
   {
    "duration": 20,
    "start_time": "2022-10-14T16:28:03.516Z"
   },
   {
    "duration": 201,
    "start_time": "2022-10-14T16:28:03.538Z"
   },
   {
    "duration": 317,
    "start_time": "2022-10-14T16:28:03.740Z"
   },
   {
    "duration": 358,
    "start_time": "2022-10-14T16:28:04.059Z"
   },
   {
    "duration": 303,
    "start_time": "2022-10-14T16:28:04.419Z"
   },
   {
    "duration": 122,
    "start_time": "2022-10-14T16:28:04.723Z"
   },
   {
    "duration": 0,
    "start_time": "2022-10-14T16:28:04.846Z"
   },
   {
    "duration": 10,
    "start_time": "2022-10-14T16:28:24.595Z"
   },
   {
    "duration": 499,
    "start_time": "2022-10-14T16:28:51.149Z"
   },
   {
    "duration": 77,
    "start_time": "2022-10-14T16:29:12.220Z"
   },
   {
    "duration": 602,
    "start_time": "2022-10-14T16:30:03.362Z"
   },
   {
    "duration": 18,
    "start_time": "2022-10-14T16:31:41.566Z"
   },
   {
    "duration": 59,
    "start_time": "2022-10-14T16:32:09.670Z"
   },
   {
    "duration": 500,
    "start_time": "2022-10-14T16:32:45.492Z"
   },
   {
    "duration": 11,
    "start_time": "2022-10-14T16:33:57.032Z"
   },
   {
    "duration": 434,
    "start_time": "2022-10-14T16:34:41.936Z"
   },
   {
    "duration": 639,
    "start_time": "2022-10-14T16:38:14.788Z"
   },
   {
    "duration": 552,
    "start_time": "2022-10-14T16:39:26.088Z"
   },
   {
    "duration": 658,
    "start_time": "2022-10-14T16:39:37.796Z"
   },
   {
    "duration": 18,
    "start_time": "2022-10-14T16:39:58.133Z"
   },
   {
    "duration": 212,
    "start_time": "2022-10-14T16:41:50.523Z"
   },
   {
    "duration": 32,
    "start_time": "2022-10-14T16:48:06.094Z"
   },
   {
    "duration": 4,
    "start_time": "2022-10-14T16:49:15.517Z"
   },
   {
    "duration": 18,
    "start_time": "2022-10-14T16:49:26.558Z"
   },
   {
    "duration": 16,
    "start_time": "2022-10-14T16:49:37.652Z"
   },
   {
    "duration": 19,
    "start_time": "2022-10-14T16:49:47.592Z"
   },
   {
    "duration": 15,
    "start_time": "2022-10-14T16:54:48.830Z"
   },
   {
    "duration": 16,
    "start_time": "2022-10-14T16:54:49.124Z"
   },
   {
    "duration": 80,
    "start_time": "2022-10-14T16:56:08.195Z"
   },
   {
    "duration": 13,
    "start_time": "2022-10-14T16:56:14.630Z"
   },
   {
    "duration": 286,
    "start_time": "2022-10-14T16:56:31.222Z"
   },
   {
    "duration": 188,
    "start_time": "2022-10-14T16:56:54.077Z"
   },
   {
    "duration": 778,
    "start_time": "2022-10-14T16:57:57.542Z"
   },
   {
    "duration": 213,
    "start_time": "2022-10-14T16:58:30.896Z"
   },
   {
    "duration": 295,
    "start_time": "2022-10-14T16:59:07.486Z"
   },
   {
    "duration": 324,
    "start_time": "2022-10-14T17:00:25.524Z"
   },
   {
    "duration": 313,
    "start_time": "2022-10-14T17:00:50.729Z"
   },
   {
    "duration": 305,
    "start_time": "2022-10-14T17:01:14.066Z"
   },
   {
    "duration": 316,
    "start_time": "2022-10-14T17:02:42.106Z"
   },
   {
    "duration": 317,
    "start_time": "2022-10-14T17:02:49.596Z"
   },
   {
    "duration": 310,
    "start_time": "2022-10-14T17:03:21.701Z"
   },
   {
    "duration": 301,
    "start_time": "2022-10-14T17:03:38.361Z"
   },
   {
    "duration": 89,
    "start_time": "2022-10-14T17:07:24.841Z"
   },
   {
    "duration": 1529,
    "start_time": "2022-10-14T17:08:02.240Z"
   },
   {
    "duration": 13,
    "start_time": "2022-10-14T17:08:25.352Z"
   },
   {
    "duration": 5,
    "start_time": "2022-10-14T17:08:28.555Z"
   },
   {
    "duration": 5,
    "start_time": "2022-10-14T17:08:39.033Z"
   },
   {
    "duration": 10,
    "start_time": "2022-10-14T17:10:05.771Z"
   },
   {
    "duration": 11,
    "start_time": "2022-10-14T17:10:22.414Z"
   },
   {
    "duration": 22,
    "start_time": "2022-10-14T17:10:40.595Z"
   },
   {
    "duration": 69,
    "start_time": "2022-10-14T17:10:50.425Z"
   },
   {
    "duration": 3,
    "start_time": "2022-10-14T17:11:40.579Z"
   },
   {
    "duration": 39,
    "start_time": "2022-10-14T17:11:44.735Z"
   },
   {
    "duration": 7,
    "start_time": "2022-10-14T17:12:11.955Z"
   },
   {
    "duration": 13,
    "start_time": "2022-10-14T17:12:18.859Z"
   },
   {
    "duration": 567,
    "start_time": "2022-10-14T17:17:00.373Z"
   },
   {
    "duration": 593,
    "start_time": "2022-10-14T17:17:21.938Z"
   },
   {
    "duration": 779,
    "start_time": "2022-10-14T17:17:27.645Z"
   },
   {
    "duration": 583,
    "start_time": "2022-10-14T17:19:12.490Z"
   },
   {
    "duration": 711,
    "start_time": "2022-10-14T17:19:24.412Z"
   },
   {
    "duration": 677,
    "start_time": "2022-10-14T17:19:55.044Z"
   },
   {
    "duration": 1358,
    "start_time": "2022-10-14T17:22:25.471Z"
   },
   {
    "duration": 715,
    "start_time": "2022-10-14T17:22:43.294Z"
   },
   {
    "duration": 8,
    "start_time": "2022-10-14T17:32:06.590Z"
   },
   {
    "duration": 11,
    "start_time": "2022-10-14T17:32:51.510Z"
   },
   {
    "duration": 8,
    "start_time": "2022-10-14T17:33:04.200Z"
   },
   {
    "duration": 14,
    "start_time": "2022-10-14T17:35:03.551Z"
   },
   {
    "duration": 8,
    "start_time": "2022-10-14T17:40:52.353Z"
   },
   {
    "duration": 9,
    "start_time": "2022-10-14T17:41:44.186Z"
   },
   {
    "duration": 14,
    "start_time": "2022-10-14T18:02:10.487Z"
   },
   {
    "duration": 15,
    "start_time": "2022-10-14T18:04:11.970Z"
   },
   {
    "duration": 13,
    "start_time": "2022-10-14T18:04:28.115Z"
   },
   {
    "duration": 15,
    "start_time": "2022-10-14T18:05:38.989Z"
   },
   {
    "duration": 27,
    "start_time": "2022-10-14T18:06:06.024Z"
   },
   {
    "duration": 20,
    "start_time": "2022-10-14T18:06:26.943Z"
   },
   {
    "duration": 1275,
    "start_time": "2022-10-14T18:07:01.044Z"
   },
   {
    "duration": 19,
    "start_time": "2022-10-14T18:07:02.321Z"
   },
   {
    "duration": 29,
    "start_time": "2022-10-14T18:07:02.342Z"
   },
   {
    "duration": 28,
    "start_time": "2022-10-14T18:07:02.374Z"
   },
   {
    "duration": 7,
    "start_time": "2022-10-14T18:07:02.405Z"
   },
   {
    "duration": 26,
    "start_time": "2022-10-14T18:07:02.413Z"
   },
   {
    "duration": 60,
    "start_time": "2022-10-14T18:07:02.441Z"
   },
   {
    "duration": 18,
    "start_time": "2022-10-14T18:07:02.504Z"
   },
   {
    "duration": 5,
    "start_time": "2022-10-14T18:07:02.524Z"
   },
   {
    "duration": 19,
    "start_time": "2022-10-14T18:07:02.531Z"
   },
   {
    "duration": 46,
    "start_time": "2022-10-14T18:07:02.552Z"
   },
   {
    "duration": 13,
    "start_time": "2022-10-14T18:07:02.600Z"
   },
   {
    "duration": 23,
    "start_time": "2022-10-14T18:07:02.615Z"
   },
   {
    "duration": 6,
    "start_time": "2022-10-14T18:07:02.642Z"
   },
   {
    "duration": 17,
    "start_time": "2022-10-14T18:07:02.650Z"
   },
   {
    "duration": 37,
    "start_time": "2022-10-14T18:07:02.670Z"
   },
   {
    "duration": 6,
    "start_time": "2022-10-14T18:07:02.709Z"
   },
   {
    "duration": 6,
    "start_time": "2022-10-14T18:07:02.717Z"
   },
   {
    "duration": 7,
    "start_time": "2022-10-14T18:07:02.724Z"
   },
   {
    "duration": 19,
    "start_time": "2022-10-14T18:07:02.732Z"
   },
   {
    "duration": 221,
    "start_time": "2022-10-14T18:07:02.752Z"
   },
   {
    "duration": 367,
    "start_time": "2022-10-14T18:07:02.974Z"
   },
   {
    "duration": 329,
    "start_time": "2022-10-14T18:07:03.343Z"
   },
   {
    "duration": 34,
    "start_time": "2022-10-14T18:07:03.674Z"
   },
   {
    "duration": 256,
    "start_time": "2022-10-14T18:07:03.710Z"
   },
   {
    "duration": 332,
    "start_time": "2022-10-14T18:07:03.968Z"
   },
   {
    "duration": 8,
    "start_time": "2022-10-14T18:07:04.302Z"
   },
   {
    "duration": 782,
    "start_time": "2022-10-14T18:07:04.312Z"
   },
   {
    "duration": 761,
    "start_time": "2022-10-14T18:07:05.097Z"
   },
   {
    "duration": 15,
    "start_time": "2022-10-14T18:07:05.860Z"
   },
   {
    "duration": 29,
    "start_time": "2022-10-14T18:07:05.876Z"
   },
   {
    "duration": 16,
    "start_time": "2022-10-14T18:10:52.717Z"
   },
   {
    "duration": 19,
    "start_time": "2022-10-14T18:11:36.773Z"
   },
   {
    "duration": 165,
    "start_time": "2022-10-14T18:12:16.660Z"
   },
   {
    "duration": 20,
    "start_time": "2022-10-14T18:12:30.845Z"
   },
   {
    "duration": 8,
    "start_time": "2022-10-14T18:17:02.456Z"
   },
   {
    "duration": 92,
    "start_time": "2022-10-14T18:18:26.830Z"
   },
   {
    "duration": 26,
    "start_time": "2022-10-14T18:18:35.394Z"
   },
   {
    "duration": 103,
    "start_time": "2022-10-14T18:19:20.249Z"
   },
   {
    "duration": 3,
    "start_time": "2022-10-14T18:19:38.372Z"
   },
   {
    "duration": 13,
    "start_time": "2022-10-14T18:19:49.309Z"
   },
   {
    "duration": 115,
    "start_time": "2022-10-14T18:20:49.050Z"
   },
   {
    "duration": 12,
    "start_time": "2022-10-14T18:20:55.517Z"
   },
   {
    "duration": 22,
    "start_time": "2022-10-14T18:21:51.318Z"
   },
   {
    "duration": 20,
    "start_time": "2022-10-14T18:23:48.518Z"
   },
   {
    "duration": 29,
    "start_time": "2022-10-14T18:24:06.962Z"
   },
   {
    "duration": 178,
    "start_time": "2022-10-14T18:24:20.170Z"
   },
   {
    "duration": 177,
    "start_time": "2022-10-14T18:24:38.985Z"
   },
   {
    "duration": 185,
    "start_time": "2022-10-14T18:28:10.937Z"
   },
   {
    "duration": 206,
    "start_time": "2022-10-14T18:28:39.343Z"
   },
   {
    "duration": 219,
    "start_time": "2022-10-14T18:30:32.200Z"
   },
   {
    "duration": 210,
    "start_time": "2022-10-14T18:30:53.935Z"
   },
   {
    "duration": 337,
    "start_time": "2022-10-14T18:31:08.660Z"
   },
   {
    "duration": 221,
    "start_time": "2022-10-14T18:31:12.102Z"
   },
   {
    "duration": 7,
    "start_time": "2022-10-14T18:42:41.335Z"
   },
   {
    "duration": 14,
    "start_time": "2022-10-14T18:43:02.931Z"
   },
   {
    "duration": 31,
    "start_time": "2022-10-14T18:44:39.081Z"
   },
   {
    "duration": 232,
    "start_time": "2022-10-14T18:44:56.520Z"
   },
   {
    "duration": 212,
    "start_time": "2022-10-14T18:49:01.358Z"
   },
   {
    "duration": 240,
    "start_time": "2022-10-14T18:51:17.923Z"
   },
   {
    "duration": 38,
    "start_time": "2022-10-14T18:52:33.715Z"
   },
   {
    "duration": 11,
    "start_time": "2022-10-14T18:52:45.608Z"
   },
   {
    "duration": 35,
    "start_time": "2022-10-14T18:53:08.416Z"
   },
   {
    "duration": 16,
    "start_time": "2022-10-14T18:59:15.974Z"
   },
   {
    "duration": 24,
    "start_time": "2022-10-14T18:59:35.498Z"
   },
   {
    "duration": 40,
    "start_time": "2022-10-14T18:59:39.556Z"
   },
   {
    "duration": 43,
    "start_time": "2022-10-14T18:59:58.300Z"
   },
   {
    "duration": 241,
    "start_time": "2022-10-14T19:00:08.253Z"
   },
   {
    "duration": 25,
    "start_time": "2022-10-14T19:02:42.337Z"
   },
   {
    "duration": 310,
    "start_time": "2022-10-14T19:03:38.016Z"
   },
   {
    "duration": 26,
    "start_time": "2022-10-14T19:03:56.150Z"
   },
   {
    "duration": 216,
    "start_time": "2022-10-14T19:04:17.694Z"
   },
   {
    "duration": 217,
    "start_time": "2022-10-14T19:04:48.742Z"
   },
   {
    "duration": 100,
    "start_time": "2022-10-14T19:05:03.529Z"
   },
   {
    "duration": 221,
    "start_time": "2022-10-14T19:06:09.861Z"
   },
   {
    "duration": 6,
    "start_time": "2022-10-14T19:32:09.191Z"
   },
   {
    "duration": 1336,
    "start_time": "2022-10-14T19:32:29.401Z"
   },
   {
    "duration": 19,
    "start_time": "2022-10-14T19:32:30.739Z"
   },
   {
    "duration": 27,
    "start_time": "2022-10-14T19:32:30.760Z"
   },
   {
    "duration": 9,
    "start_time": "2022-10-14T19:32:30.797Z"
   },
   {
    "duration": 12,
    "start_time": "2022-10-14T19:32:30.808Z"
   },
   {
    "duration": 32,
    "start_time": "2022-10-14T19:32:30.822Z"
   },
   {
    "duration": 40,
    "start_time": "2022-10-14T19:32:30.855Z"
   },
   {
    "duration": 23,
    "start_time": "2022-10-14T19:32:30.897Z"
   },
   {
    "duration": 23,
    "start_time": "2022-10-14T19:32:30.921Z"
   },
   {
    "duration": 21,
    "start_time": "2022-10-14T19:32:30.947Z"
   },
   {
    "duration": 23,
    "start_time": "2022-10-14T19:32:30.970Z"
   },
   {
    "duration": 13,
    "start_time": "2022-10-14T19:32:30.995Z"
   },
   {
    "duration": 22,
    "start_time": "2022-10-14T19:32:31.010Z"
   },
   {
    "duration": 20,
    "start_time": "2022-10-14T19:32:31.034Z"
   },
   {
    "duration": 14,
    "start_time": "2022-10-14T19:32:31.056Z"
   },
   {
    "duration": 27,
    "start_time": "2022-10-14T19:32:31.072Z"
   },
   {
    "duration": 19,
    "start_time": "2022-10-14T19:32:31.101Z"
   },
   {
    "duration": 17,
    "start_time": "2022-10-14T19:32:31.122Z"
   },
   {
    "duration": 9,
    "start_time": "2022-10-14T19:32:31.140Z"
   },
   {
    "duration": 23,
    "start_time": "2022-10-14T19:32:31.151Z"
   },
   {
    "duration": 197,
    "start_time": "2022-10-14T19:32:31.176Z"
   },
   {
    "duration": 330,
    "start_time": "2022-10-14T19:32:31.375Z"
   },
   {
    "duration": 7,
    "start_time": "2022-10-14T19:32:31.706Z"
   },
   {
    "duration": 313,
    "start_time": "2022-10-14T19:32:31.714Z"
   },
   {
    "duration": 16,
    "start_time": "2022-10-14T19:32:32.028Z"
   },
   {
    "duration": 210,
    "start_time": "2022-10-14T19:32:32.046Z"
   },
   {
    "duration": 305,
    "start_time": "2022-10-14T19:32:32.258Z"
   },
   {
    "duration": 7,
    "start_time": "2022-10-14T19:32:32.567Z"
   },
   {
    "duration": 720,
    "start_time": "2022-10-14T19:32:32.576Z"
   },
   {
    "duration": 703,
    "start_time": "2022-10-14T19:32:33.298Z"
   },
   {
    "duration": 14,
    "start_time": "2022-10-14T19:32:34.003Z"
   },
   {
    "duration": 197,
    "start_time": "2022-10-14T19:32:34.018Z"
   },
   {
    "duration": 211,
    "start_time": "2022-10-14T19:32:34.217Z"
   },
   {
    "duration": 216,
    "start_time": "2022-10-14T19:32:34.430Z"
   },
   {
    "duration": 223,
    "start_time": "2022-10-14T19:32:34.648Z"
   },
   {
    "duration": 209,
    "start_time": "2022-10-14T19:32:34.874Z"
   },
   {
    "duration": 224,
    "start_time": "2022-10-14T19:32:35.085Z"
   },
   {
    "duration": 229,
    "start_time": "2022-10-14T19:32:35.311Z"
   },
   {
    "duration": 231,
    "start_time": "2022-10-14T19:32:35.541Z"
   },
   {
    "duration": 311,
    "start_time": "2022-10-14T19:32:35.773Z"
   },
   {
    "duration": 106,
    "start_time": "2022-10-14T19:32:36.086Z"
   },
   {
    "duration": 1277,
    "start_time": "2022-10-14T19:33:19.425Z"
   },
   {
    "duration": 16,
    "start_time": "2022-10-14T19:33:20.704Z"
   },
   {
    "duration": 27,
    "start_time": "2022-10-14T19:33:20.722Z"
   },
   {
    "duration": 9,
    "start_time": "2022-10-14T19:33:20.751Z"
   },
   {
    "duration": 5,
    "start_time": "2022-10-14T19:33:20.762Z"
   },
   {
    "duration": 41,
    "start_time": "2022-10-14T19:33:20.768Z"
   },
   {
    "duration": 27,
    "start_time": "2022-10-14T19:33:20.811Z"
   },
   {
    "duration": 15,
    "start_time": "2022-10-14T19:33:20.840Z"
   },
   {
    "duration": 5,
    "start_time": "2022-10-14T19:33:20.857Z"
   },
   {
    "duration": 36,
    "start_time": "2022-10-14T19:33:20.864Z"
   },
   {
    "duration": 13,
    "start_time": "2022-10-14T19:33:20.902Z"
   },
   {
    "duration": 12,
    "start_time": "2022-10-14T19:33:20.916Z"
   },
   {
    "duration": 15,
    "start_time": "2022-10-14T19:33:20.930Z"
   },
   {
    "duration": 5,
    "start_time": "2022-10-14T19:33:20.947Z"
   },
   {
    "duration": 6,
    "start_time": "2022-10-14T19:33:20.954Z"
   },
   {
    "duration": 41,
    "start_time": "2022-10-14T19:33:20.961Z"
   },
   {
    "duration": 7,
    "start_time": "2022-10-14T19:33:21.004Z"
   },
   {
    "duration": 8,
    "start_time": "2022-10-14T19:33:21.013Z"
   },
   {
    "duration": 11,
    "start_time": "2022-10-14T19:33:21.022Z"
   },
   {
    "duration": 33,
    "start_time": "2022-10-14T19:33:21.034Z"
   },
   {
    "duration": 194,
    "start_time": "2022-10-14T19:33:21.068Z"
   },
   {
    "duration": 305,
    "start_time": "2022-10-14T19:33:21.264Z"
   },
   {
    "duration": 7,
    "start_time": "2022-10-14T19:33:21.571Z"
   },
   {
    "duration": 321,
    "start_time": "2022-10-14T19:33:21.579Z"
   },
   {
    "duration": 15,
    "start_time": "2022-10-14T19:33:21.902Z"
   },
   {
    "duration": 251,
    "start_time": "2022-10-14T19:33:21.919Z"
   },
   {
    "duration": 319,
    "start_time": "2022-10-14T19:33:22.172Z"
   },
   {
    "duration": 7,
    "start_time": "2022-10-14T19:33:22.498Z"
   },
   {
    "duration": 735,
    "start_time": "2022-10-14T19:33:22.506Z"
   },
   {
    "duration": 756,
    "start_time": "2022-10-14T19:33:23.242Z"
   },
   {
    "duration": 15,
    "start_time": "2022-10-14T19:33:24.000Z"
   },
   {
    "duration": 196,
    "start_time": "2022-10-14T19:33:24.017Z"
   },
   {
    "duration": 223,
    "start_time": "2022-10-14T19:33:24.214Z"
   },
   {
    "duration": 246,
    "start_time": "2022-10-14T19:33:24.439Z"
   },
   {
    "duration": 217,
    "start_time": "2022-10-14T19:33:24.687Z"
   },
   {
    "duration": 215,
    "start_time": "2022-10-14T19:33:24.906Z"
   },
   {
    "duration": 230,
    "start_time": "2022-10-14T19:33:25.122Z"
   },
   {
    "duration": 233,
    "start_time": "2022-10-14T19:33:25.354Z"
   },
   {
    "duration": 238,
    "start_time": "2022-10-14T19:33:25.589Z"
   },
   {
    "duration": 330,
    "start_time": "2022-10-14T19:33:25.829Z"
   },
   {
    "duration": 110,
    "start_time": "2022-10-14T19:33:26.161Z"
   },
   {
    "duration": 10,
    "start_time": "2022-10-14T19:38:30.858Z"
   },
   {
    "duration": 15,
    "start_time": "2022-10-14T19:39:06.480Z"
   },
   {
    "duration": 19,
    "start_time": "2022-10-14T19:40:07.887Z"
   },
   {
    "duration": 17,
    "start_time": "2022-10-14T19:41:46.375Z"
   },
   {
    "duration": 16,
    "start_time": "2022-10-14T19:42:00.418Z"
   },
   {
    "duration": 92,
    "start_time": "2022-10-14T19:43:18.695Z"
   },
   {
    "duration": 6,
    "start_time": "2022-10-14T19:43:27.891Z"
   },
   {
    "duration": 8,
    "start_time": "2022-10-14T19:44:00.991Z"
   },
   {
    "duration": 18,
    "start_time": "2022-10-14T19:46:55.781Z"
   },
   {
    "duration": 5,
    "start_time": "2022-10-14T19:52:39.195Z"
   },
   {
    "duration": 31,
    "start_time": "2022-10-14T19:52:44.258Z"
   },
   {
    "duration": 6,
    "start_time": "2022-10-14T19:53:33.409Z"
   },
   {
    "duration": 6,
    "start_time": "2022-10-14T19:53:47.893Z"
   },
   {
    "duration": 7,
    "start_time": "2022-10-14T19:58:33.295Z"
   },
   {
    "duration": 9,
    "start_time": "2022-10-14T20:02:29.597Z"
   },
   {
    "duration": 6,
    "start_time": "2022-10-14T20:04:54.981Z"
   },
   {
    "duration": 7,
    "start_time": "2022-10-14T20:05:00.609Z"
   },
   {
    "duration": 1347,
    "start_time": "2022-10-14T20:07:58.991Z"
   },
   {
    "duration": 16,
    "start_time": "2022-10-14T20:08:00.341Z"
   },
   {
    "duration": 25,
    "start_time": "2022-10-14T20:08:00.359Z"
   },
   {
    "duration": 14,
    "start_time": "2022-10-14T20:08:00.399Z"
   },
   {
    "duration": 28,
    "start_time": "2022-10-14T20:08:00.415Z"
   },
   {
    "duration": 40,
    "start_time": "2022-10-14T20:08:00.445Z"
   },
   {
    "duration": 40,
    "start_time": "2022-10-14T20:08:00.488Z"
   },
   {
    "duration": 16,
    "start_time": "2022-10-14T20:08:00.530Z"
   },
   {
    "duration": 11,
    "start_time": "2022-10-14T20:08:00.547Z"
   },
   {
    "duration": 27,
    "start_time": "2022-10-14T20:08:00.560Z"
   },
   {
    "duration": 32,
    "start_time": "2022-10-14T20:08:00.588Z"
   },
   {
    "duration": 30,
    "start_time": "2022-10-14T20:08:00.622Z"
   },
   {
    "duration": 33,
    "start_time": "2022-10-14T20:08:00.655Z"
   },
   {
    "duration": 33,
    "start_time": "2022-10-14T20:08:00.690Z"
   },
   {
    "duration": 9,
    "start_time": "2022-10-14T20:08:00.725Z"
   },
   {
    "duration": 13,
    "start_time": "2022-10-14T20:08:00.736Z"
   },
   {
    "duration": 22,
    "start_time": "2022-10-14T20:08:00.751Z"
   },
   {
    "duration": 28,
    "start_time": "2022-10-14T20:08:00.775Z"
   },
   {
    "duration": 21,
    "start_time": "2022-10-14T20:08:00.805Z"
   },
   {
    "duration": 26,
    "start_time": "2022-10-14T20:08:00.828Z"
   },
   {
    "duration": 209,
    "start_time": "2022-10-14T20:08:00.856Z"
   },
   {
    "duration": 314,
    "start_time": "2022-10-14T20:08:01.067Z"
   },
   {
    "duration": 7,
    "start_time": "2022-10-14T20:08:01.382Z"
   },
   {
    "duration": 313,
    "start_time": "2022-10-14T20:08:01.391Z"
   },
   {
    "duration": 19,
    "start_time": "2022-10-14T20:08:01.706Z"
   },
   {
    "duration": 226,
    "start_time": "2022-10-14T20:08:01.727Z"
   },
   {
    "duration": 325,
    "start_time": "2022-10-14T20:08:01.954Z"
   },
   {
    "duration": 17,
    "start_time": "2022-10-14T20:08:02.282Z"
   },
   {
    "duration": 740,
    "start_time": "2022-10-14T20:08:02.301Z"
   },
   {
    "duration": 734,
    "start_time": "2022-10-14T20:08:03.043Z"
   },
   {
    "duration": 26,
    "start_time": "2022-10-14T20:08:03.779Z"
   },
   {
    "duration": 211,
    "start_time": "2022-10-14T20:08:03.807Z"
   },
   {
    "duration": 205,
    "start_time": "2022-10-14T20:08:04.019Z"
   },
   {
    "duration": 265,
    "start_time": "2022-10-14T20:08:04.226Z"
   },
   {
    "duration": 262,
    "start_time": "2022-10-14T20:08:04.493Z"
   },
   {
    "duration": 206,
    "start_time": "2022-10-14T20:08:04.757Z"
   },
   {
    "duration": 232,
    "start_time": "2022-10-14T20:08:04.965Z"
   },
   {
    "duration": 220,
    "start_time": "2022-10-14T20:08:05.198Z"
   },
   {
    "duration": 216,
    "start_time": "2022-10-14T20:08:05.420Z"
   },
   {
    "duration": 293,
    "start_time": "2022-10-14T20:08:05.638Z"
   },
   {
    "duration": 5,
    "start_time": "2022-10-14T20:08:05.933Z"
   },
   {
    "duration": 9,
    "start_time": "2022-10-14T20:08:05.940Z"
   },
   {
    "duration": 8,
    "start_time": "2022-10-14T20:08:05.950Z"
   },
   {
    "duration": 51,
    "start_time": "2022-10-15T09:32:19.027Z"
   },
   {
    "duration": 7,
    "start_time": "2022-10-15T09:32:32.604Z"
   },
   {
    "duration": 1322,
    "start_time": "2022-10-15T09:32:44.240Z"
   },
   {
    "duration": 15,
    "start_time": "2022-10-15T09:32:45.564Z"
   },
   {
    "duration": 24,
    "start_time": "2022-10-15T09:32:45.581Z"
   },
   {
    "duration": 15,
    "start_time": "2022-10-15T09:32:45.607Z"
   },
   {
    "duration": 6,
    "start_time": "2022-10-15T09:32:45.624Z"
   },
   {
    "duration": 26,
    "start_time": "2022-10-15T09:32:45.632Z"
   },
   {
    "duration": 26,
    "start_time": "2022-10-15T09:32:45.659Z"
   },
   {
    "duration": 37,
    "start_time": "2022-10-15T09:32:45.688Z"
   },
   {
    "duration": 10,
    "start_time": "2022-10-15T09:32:45.727Z"
   },
   {
    "duration": 17,
    "start_time": "2022-10-15T09:32:45.739Z"
   },
   {
    "duration": 13,
    "start_time": "2022-10-15T09:32:45.758Z"
   },
   {
    "duration": 11,
    "start_time": "2022-10-15T09:32:45.773Z"
   },
   {
    "duration": 15,
    "start_time": "2022-10-15T09:32:45.785Z"
   },
   {
    "duration": 22,
    "start_time": "2022-10-15T09:32:45.801Z"
   },
   {
    "duration": 10,
    "start_time": "2022-10-15T09:32:45.824Z"
   },
   {
    "duration": 8,
    "start_time": "2022-10-15T09:32:45.835Z"
   },
   {
    "duration": 6,
    "start_time": "2022-10-15T09:32:45.845Z"
   },
   {
    "duration": 8,
    "start_time": "2022-10-15T09:32:45.852Z"
   },
   {
    "duration": 4,
    "start_time": "2022-10-15T09:32:45.861Z"
   },
   {
    "duration": 13,
    "start_time": "2022-10-15T09:32:45.867Z"
   },
   {
    "duration": 280,
    "start_time": "2022-10-15T09:32:45.882Z"
   },
   {
    "duration": 563,
    "start_time": "2022-10-15T09:32:46.164Z"
   },
   {
    "duration": 6,
    "start_time": "2022-10-15T09:32:46.729Z"
   },
   {
    "duration": 600,
    "start_time": "2022-10-15T09:32:46.736Z"
   },
   {
    "duration": 14,
    "start_time": "2022-10-15T09:32:47.337Z"
   },
   {
    "duration": 208,
    "start_time": "2022-10-15T09:32:47.353Z"
   },
   {
    "duration": 0,
    "start_time": "2022-10-15T09:32:47.563Z"
   },
   {
    "duration": 0,
    "start_time": "2022-10-15T09:32:47.564Z"
   },
   {
    "duration": 0,
    "start_time": "2022-10-15T09:32:47.566Z"
   },
   {
    "duration": 0,
    "start_time": "2022-10-15T09:32:47.567Z"
   },
   {
    "duration": 0,
    "start_time": "2022-10-15T09:32:47.621Z"
   },
   {
    "duration": 0,
    "start_time": "2022-10-15T09:32:47.623Z"
   },
   {
    "duration": 0,
    "start_time": "2022-10-15T09:32:47.625Z"
   },
   {
    "duration": 0,
    "start_time": "2022-10-15T09:32:47.626Z"
   },
   {
    "duration": 0,
    "start_time": "2022-10-15T09:32:47.627Z"
   },
   {
    "duration": 0,
    "start_time": "2022-10-15T09:32:47.629Z"
   },
   {
    "duration": 0,
    "start_time": "2022-10-15T09:32:47.630Z"
   },
   {
    "duration": 0,
    "start_time": "2022-10-15T09:32:47.631Z"
   },
   {
    "duration": 0,
    "start_time": "2022-10-15T09:32:47.632Z"
   },
   {
    "duration": 0,
    "start_time": "2022-10-15T09:32:47.633Z"
   },
   {
    "duration": 0,
    "start_time": "2022-10-15T09:32:47.634Z"
   },
   {
    "duration": 0,
    "start_time": "2022-10-15T09:32:47.635Z"
   },
   {
    "duration": 0,
    "start_time": "2022-10-15T09:32:47.636Z"
   },
   {
    "duration": 0,
    "start_time": "2022-10-15T09:32:47.637Z"
   },
   {
    "duration": 190,
    "start_time": "2022-10-15T09:33:27.295Z"
   },
   {
    "duration": 16,
    "start_time": "2022-10-15T09:34:18.663Z"
   },
   {
    "duration": 302,
    "start_time": "2022-10-15T09:34:58.721Z"
   },
   {
    "duration": 1248,
    "start_time": "2022-10-15T09:40:11.212Z"
   },
   {
    "duration": 17,
    "start_time": "2022-10-15T09:40:12.461Z"
   },
   {
    "duration": 28,
    "start_time": "2022-10-15T09:40:12.479Z"
   },
   {
    "duration": 19,
    "start_time": "2022-10-15T09:40:12.509Z"
   },
   {
    "duration": 6,
    "start_time": "2022-10-15T09:40:12.530Z"
   },
   {
    "duration": 19,
    "start_time": "2022-10-15T09:40:12.537Z"
   },
   {
    "duration": 25,
    "start_time": "2022-10-15T09:40:12.557Z"
   },
   {
    "duration": 41,
    "start_time": "2022-10-15T09:40:12.584Z"
   },
   {
    "duration": 8,
    "start_time": "2022-10-15T09:40:12.627Z"
   },
   {
    "duration": 13,
    "start_time": "2022-10-15T09:40:12.637Z"
   },
   {
    "duration": 12,
    "start_time": "2022-10-15T09:40:12.651Z"
   },
   {
    "duration": 9,
    "start_time": "2022-10-15T09:40:12.665Z"
   },
   {
    "duration": 13,
    "start_time": "2022-10-15T09:40:12.676Z"
   },
   {
    "duration": 31,
    "start_time": "2022-10-15T09:40:12.691Z"
   },
   {
    "duration": 11,
    "start_time": "2022-10-15T09:40:12.724Z"
   },
   {
    "duration": 11,
    "start_time": "2022-10-15T09:40:12.737Z"
   },
   {
    "duration": 6,
    "start_time": "2022-10-15T09:40:12.749Z"
   },
   {
    "duration": 10,
    "start_time": "2022-10-15T09:40:12.757Z"
   },
   {
    "duration": 6,
    "start_time": "2022-10-15T09:40:12.771Z"
   },
   {
    "duration": 17,
    "start_time": "2022-10-15T09:40:12.778Z"
   },
   {
    "duration": 186,
    "start_time": "2022-10-15T09:40:12.797Z"
   },
   {
    "duration": 272,
    "start_time": "2022-10-15T09:40:12.985Z"
   },
   {
    "duration": 6,
    "start_time": "2022-10-15T09:40:13.258Z"
   },
   {
    "duration": 306,
    "start_time": "2022-10-15T09:40:13.266Z"
   },
   {
    "duration": 15,
    "start_time": "2022-10-15T09:40:13.573Z"
   },
   {
    "duration": 194,
    "start_time": "2022-10-15T09:40:13.590Z"
   },
   {
    "duration": 283,
    "start_time": "2022-10-15T09:40:13.786Z"
   },
   {
    "duration": 7,
    "start_time": "2022-10-15T09:40:14.071Z"
   },
   {
    "duration": 1186,
    "start_time": "2022-10-15T09:40:14.080Z"
   },
   {
    "duration": 1092,
    "start_time": "2022-10-15T09:40:15.268Z"
   },
   {
    "duration": 12,
    "start_time": "2022-10-15T09:40:16.362Z"
   },
   {
    "duration": 246,
    "start_time": "2022-10-15T09:40:16.376Z"
   },
   {
    "duration": 222,
    "start_time": "2022-10-15T09:40:16.625Z"
   },
   {
    "duration": 198,
    "start_time": "2022-10-15T09:40:16.849Z"
   },
   {
    "duration": 203,
    "start_time": "2022-10-15T09:40:17.049Z"
   },
   {
    "duration": 194,
    "start_time": "2022-10-15T09:40:17.254Z"
   },
   {
    "duration": 221,
    "start_time": "2022-10-15T09:40:17.449Z"
   },
   {
    "duration": 219,
    "start_time": "2022-10-15T09:40:17.671Z"
   },
   {
    "duration": 212,
    "start_time": "2022-10-15T09:40:17.891Z"
   },
   {
    "duration": 288,
    "start_time": "2022-10-15T09:40:18.104Z"
   },
   {
    "duration": 5,
    "start_time": "2022-10-15T09:40:18.396Z"
   },
   {
    "duration": 26,
    "start_time": "2022-10-15T09:40:18.402Z"
   },
   {
    "duration": 26,
    "start_time": "2022-10-15T09:40:18.430Z"
   },
   {
    "duration": 57,
    "start_time": "2022-10-15T09:50:37.430Z"
   },
   {
    "duration": 64,
    "start_time": "2022-10-15T11:21:38.246Z"
   },
   {
    "duration": 1530,
    "start_time": "2022-10-15T11:21:45.017Z"
   },
   {
    "duration": 17,
    "start_time": "2022-10-15T11:21:46.550Z"
   },
   {
    "duration": 24,
    "start_time": "2022-10-15T11:21:46.568Z"
   },
   {
    "duration": 8,
    "start_time": "2022-10-15T11:21:46.594Z"
   },
   {
    "duration": 9,
    "start_time": "2022-10-15T11:21:46.603Z"
   },
   {
    "duration": 24,
    "start_time": "2022-10-15T11:21:46.613Z"
   },
   {
    "duration": 31,
    "start_time": "2022-10-15T11:21:46.639Z"
   },
   {
    "duration": 27,
    "start_time": "2022-10-15T11:21:46.671Z"
   },
   {
    "duration": 6,
    "start_time": "2022-10-15T11:21:46.700Z"
   },
   {
    "duration": 11,
    "start_time": "2022-10-15T11:21:46.708Z"
   },
   {
    "duration": 12,
    "start_time": "2022-10-15T11:21:46.720Z"
   },
   {
    "duration": 11,
    "start_time": "2022-10-15T11:21:46.733Z"
   },
   {
    "duration": 15,
    "start_time": "2022-10-15T11:21:46.745Z"
   },
   {
    "duration": 35,
    "start_time": "2022-10-15T11:21:46.762Z"
   },
   {
    "duration": 5,
    "start_time": "2022-10-15T11:21:46.799Z"
   },
   {
    "duration": 8,
    "start_time": "2022-10-15T11:21:46.805Z"
   },
   {
    "duration": 6,
    "start_time": "2022-10-15T11:21:46.814Z"
   },
   {
    "duration": 7,
    "start_time": "2022-10-15T11:21:46.821Z"
   },
   {
    "duration": 6,
    "start_time": "2022-10-15T11:21:46.829Z"
   },
   {
    "duration": 16,
    "start_time": "2022-10-15T11:21:46.837Z"
   },
   {
    "duration": 116,
    "start_time": "2022-10-15T11:21:46.854Z"
   },
   {
    "duration": 0,
    "start_time": "2022-10-15T11:21:46.972Z"
   },
   {
    "duration": 0,
    "start_time": "2022-10-15T11:21:46.973Z"
   },
   {
    "duration": 0,
    "start_time": "2022-10-15T11:21:46.974Z"
   },
   {
    "duration": 0,
    "start_time": "2022-10-15T11:21:46.975Z"
   },
   {
    "duration": 0,
    "start_time": "2022-10-15T11:21:46.976Z"
   },
   {
    "duration": 0,
    "start_time": "2022-10-15T11:21:46.977Z"
   },
   {
    "duration": 0,
    "start_time": "2022-10-15T11:21:46.978Z"
   },
   {
    "duration": 0,
    "start_time": "2022-10-15T11:21:46.996Z"
   },
   {
    "duration": 0,
    "start_time": "2022-10-15T11:21:46.997Z"
   },
   {
    "duration": 0,
    "start_time": "2022-10-15T11:21:46.998Z"
   },
   {
    "duration": 0,
    "start_time": "2022-10-15T11:21:46.999Z"
   },
   {
    "duration": 0,
    "start_time": "2022-10-15T11:21:47.000Z"
   },
   {
    "duration": 0,
    "start_time": "2022-10-15T11:21:47.002Z"
   },
   {
    "duration": 0,
    "start_time": "2022-10-15T11:21:47.003Z"
   },
   {
    "duration": 0,
    "start_time": "2022-10-15T11:21:47.004Z"
   },
   {
    "duration": 0,
    "start_time": "2022-10-15T11:21:47.005Z"
   },
   {
    "duration": 0,
    "start_time": "2022-10-15T11:21:47.006Z"
   },
   {
    "duration": 0,
    "start_time": "2022-10-15T11:21:47.007Z"
   },
   {
    "duration": 0,
    "start_time": "2022-10-15T11:21:47.008Z"
   },
   {
    "duration": 0,
    "start_time": "2022-10-15T11:21:47.009Z"
   },
   {
    "duration": 0,
    "start_time": "2022-10-15T11:21:47.010Z"
   },
   {
    "duration": 0,
    "start_time": "2022-10-15T11:21:47.011Z"
   },
   {
    "duration": 183,
    "start_time": "2022-10-15T11:22:12.549Z"
   },
   {
    "duration": 151,
    "start_time": "2022-10-15T11:22:27.769Z"
   },
   {
    "duration": 1257,
    "start_time": "2022-10-15T11:23:30.718Z"
   },
   {
    "duration": 125,
    "start_time": "2022-10-15T11:25:27.171Z"
   },
   {
    "duration": 121,
    "start_time": "2022-10-15T11:25:39.264Z"
   },
   {
    "duration": 168,
    "start_time": "2022-10-15T11:25:45.854Z"
   },
   {
    "duration": 10,
    "start_time": "2022-10-15T11:28:27.656Z"
   },
   {
    "duration": 7,
    "start_time": "2022-10-15T11:28:39.948Z"
   },
   {
    "duration": 1244,
    "start_time": "2022-10-15T11:28:49.866Z"
   },
   {
    "duration": 18,
    "start_time": "2022-10-15T11:28:51.113Z"
   },
   {
    "duration": 29,
    "start_time": "2022-10-15T11:28:51.133Z"
   },
   {
    "duration": 8,
    "start_time": "2022-10-15T11:28:51.165Z"
   },
   {
    "duration": 5,
    "start_time": "2022-10-15T11:28:51.196Z"
   },
   {
    "duration": 33,
    "start_time": "2022-10-15T11:28:51.203Z"
   },
   {
    "duration": 33,
    "start_time": "2022-10-15T11:28:51.237Z"
   },
   {
    "duration": 25,
    "start_time": "2022-10-15T11:28:51.271Z"
   },
   {
    "duration": 4,
    "start_time": "2022-10-15T11:28:51.298Z"
   },
   {
    "duration": 23,
    "start_time": "2022-10-15T11:28:51.305Z"
   },
   {
    "duration": 14,
    "start_time": "2022-10-15T11:28:51.329Z"
   },
   {
    "duration": 15,
    "start_time": "2022-10-15T11:28:51.344Z"
   },
   {
    "duration": 14,
    "start_time": "2022-10-15T11:28:51.360Z"
   },
   {
    "duration": 11,
    "start_time": "2022-10-15T11:28:51.375Z"
   },
   {
    "duration": 5,
    "start_time": "2022-10-15T11:28:51.397Z"
   },
   {
    "duration": 8,
    "start_time": "2022-10-15T11:28:51.404Z"
   },
   {
    "duration": 18,
    "start_time": "2022-10-15T11:28:51.413Z"
   },
   {
    "duration": 15,
    "start_time": "2022-10-15T11:28:51.433Z"
   },
   {
    "duration": 21,
    "start_time": "2022-10-15T11:28:51.450Z"
   },
   {
    "duration": 26,
    "start_time": "2022-10-15T11:28:51.472Z"
   },
   {
    "duration": 194,
    "start_time": "2022-10-15T11:28:51.500Z"
   },
   {
    "duration": 308,
    "start_time": "2022-10-15T11:28:51.697Z"
   },
   {
    "duration": 9,
    "start_time": "2022-10-15T11:28:52.007Z"
   },
   {
    "duration": 354,
    "start_time": "2022-10-15T11:28:52.018Z"
   },
   {
    "duration": 27,
    "start_time": "2022-10-15T11:28:52.374Z"
   },
   {
    "duration": 296,
    "start_time": "2022-10-15T11:28:52.404Z"
   },
   {
    "duration": 319,
    "start_time": "2022-10-15T11:28:52.703Z"
   },
   {
    "duration": 9,
    "start_time": "2022-10-15T11:28:53.027Z"
   },
   {
    "duration": 719,
    "start_time": "2022-10-15T11:28:53.038Z"
   },
   {
    "duration": 785,
    "start_time": "2022-10-15T11:28:53.759Z"
   },
   {
    "duration": 19,
    "start_time": "2022-10-15T11:28:54.546Z"
   },
   {
    "duration": 253,
    "start_time": "2022-10-15T11:28:54.567Z"
   },
   {
    "duration": 241,
    "start_time": "2022-10-15T11:28:54.822Z"
   },
   {
    "duration": 202,
    "start_time": "2022-10-15T11:28:55.065Z"
   },
   {
    "duration": 209,
    "start_time": "2022-10-15T11:28:55.269Z"
   },
   {
    "duration": 201,
    "start_time": "2022-10-15T11:28:55.480Z"
   },
   {
    "duration": 246,
    "start_time": "2022-10-15T11:28:55.683Z"
   },
   {
    "duration": 224,
    "start_time": "2022-10-15T11:28:55.931Z"
   },
   {
    "duration": 210,
    "start_time": "2022-10-15T11:28:56.157Z"
   },
   {
    "duration": 293,
    "start_time": "2022-10-15T11:28:56.368Z"
   },
   {
    "duration": 6,
    "start_time": "2022-10-15T11:28:56.662Z"
   },
   {
    "duration": 13,
    "start_time": "2022-10-15T11:28:56.670Z"
   },
   {
    "duration": 18,
    "start_time": "2022-10-15T11:28:56.684Z"
   },
   {
    "duration": 7,
    "start_time": "2022-10-15T11:29:45.206Z"
   },
   {
    "duration": 1376,
    "start_time": "2022-10-15T11:29:54.066Z"
   },
   {
    "duration": 19,
    "start_time": "2022-10-15T11:29:55.444Z"
   },
   {
    "duration": 41,
    "start_time": "2022-10-15T11:29:55.464Z"
   },
   {
    "duration": 10,
    "start_time": "2022-10-15T11:29:55.508Z"
   },
   {
    "duration": 5,
    "start_time": "2022-10-15T11:29:55.520Z"
   },
   {
    "duration": 19,
    "start_time": "2022-10-15T11:29:55.527Z"
   },
   {
    "duration": 55,
    "start_time": "2022-10-15T11:29:55.548Z"
   },
   {
    "duration": 19,
    "start_time": "2022-10-15T11:29:55.605Z"
   },
   {
    "duration": 3,
    "start_time": "2022-10-15T11:29:55.626Z"
   },
   {
    "duration": 13,
    "start_time": "2022-10-15T11:29:55.632Z"
   },
   {
    "duration": 13,
    "start_time": "2022-10-15T11:29:55.646Z"
   },
   {
    "duration": 37,
    "start_time": "2022-10-15T11:29:55.660Z"
   },
   {
    "duration": 23,
    "start_time": "2022-10-15T11:29:55.698Z"
   },
   {
    "duration": 5,
    "start_time": "2022-10-15T11:29:55.722Z"
   },
   {
    "duration": 7,
    "start_time": "2022-10-15T11:29:55.729Z"
   },
   {
    "duration": 8,
    "start_time": "2022-10-15T11:29:55.738Z"
   },
   {
    "duration": 7,
    "start_time": "2022-10-15T11:29:55.747Z"
   },
   {
    "duration": 45,
    "start_time": "2022-10-15T11:29:55.756Z"
   },
   {
    "duration": 6,
    "start_time": "2022-10-15T11:29:55.807Z"
   },
   {
    "duration": 22,
    "start_time": "2022-10-15T11:29:55.815Z"
   },
   {
    "duration": 189,
    "start_time": "2022-10-15T11:29:55.839Z"
   },
   {
    "duration": 334,
    "start_time": "2022-10-15T11:29:56.031Z"
   },
   {
    "duration": 7,
    "start_time": "2022-10-15T11:29:56.367Z"
   },
   {
    "duration": 328,
    "start_time": "2022-10-15T11:29:56.375Z"
   },
   {
    "duration": 18,
    "start_time": "2022-10-15T11:29:56.705Z"
   },
   {
    "duration": 228,
    "start_time": "2022-10-15T11:29:56.725Z"
   },
   {
    "duration": 330,
    "start_time": "2022-10-15T11:29:56.955Z"
   },
   {
    "duration": 10,
    "start_time": "2022-10-15T11:29:57.296Z"
   },
   {
    "duration": 860,
    "start_time": "2022-10-15T11:29:57.308Z"
   },
   {
    "duration": 861,
    "start_time": "2022-10-15T11:29:58.170Z"
   },
   {
    "duration": 15,
    "start_time": "2022-10-15T11:29:59.033Z"
   },
   {
    "duration": 280,
    "start_time": "2022-10-15T11:29:59.049Z"
   },
   {
    "duration": 230,
    "start_time": "2022-10-15T11:29:59.331Z"
   },
   {
    "duration": 255,
    "start_time": "2022-10-15T11:29:59.563Z"
   },
   {
    "duration": 247,
    "start_time": "2022-10-15T11:29:59.820Z"
   },
   {
    "duration": 249,
    "start_time": "2022-10-15T11:30:00.069Z"
   },
   {
    "duration": 248,
    "start_time": "2022-10-15T11:30:00.319Z"
   },
   {
    "duration": 265,
    "start_time": "2022-10-15T11:30:00.568Z"
   },
   {
    "duration": 257,
    "start_time": "2022-10-15T11:30:00.836Z"
   },
   {
    "duration": 348,
    "start_time": "2022-10-15T11:30:01.096Z"
   },
   {
    "duration": 6,
    "start_time": "2022-10-15T11:30:01.446Z"
   },
   {
    "duration": 14,
    "start_time": "2022-10-15T11:30:01.454Z"
   },
   {
    "duration": 28,
    "start_time": "2022-10-15T11:30:01.469Z"
   },
   {
    "duration": 319,
    "start_time": "2022-10-15T11:31:28.234Z"
   },
   {
    "duration": 194,
    "start_time": "2022-10-15T11:32:02.486Z"
   },
   {
    "duration": 295,
    "start_time": "2022-10-15T11:32:14.687Z"
   },
   {
    "duration": 245,
    "start_time": "2022-10-15T11:32:36.896Z"
   },
   {
    "duration": 291,
    "start_time": "2022-10-15T11:34:33.283Z"
   },
   {
    "duration": 313,
    "start_time": "2022-10-15T11:35:56.253Z"
   },
   {
    "duration": 99,
    "start_time": "2022-10-15T11:43:36.246Z"
   },
   {
    "duration": 417,
    "start_time": "2022-10-15T11:43:44.010Z"
   },
   {
    "duration": 14,
    "start_time": "2022-10-15T11:51:05.256Z"
   },
   {
    "duration": 1282,
    "start_time": "2022-10-15T11:51:26.131Z"
   },
   {
    "duration": 18,
    "start_time": "2022-10-15T11:51:27.415Z"
   },
   {
    "duration": 26,
    "start_time": "2022-10-15T11:51:27.434Z"
   },
   {
    "duration": 8,
    "start_time": "2022-10-15T11:51:27.462Z"
   },
   {
    "duration": 26,
    "start_time": "2022-10-15T11:51:27.471Z"
   },
   {
    "duration": 20,
    "start_time": "2022-10-15T11:51:27.499Z"
   },
   {
    "duration": 26,
    "start_time": "2022-10-15T11:51:27.521Z"
   },
   {
    "duration": 16,
    "start_time": "2022-10-15T11:51:27.548Z"
   },
   {
    "duration": 5,
    "start_time": "2022-10-15T11:51:27.566Z"
   },
   {
    "duration": 11,
    "start_time": "2022-10-15T11:51:27.598Z"
   },
   {
    "duration": 13,
    "start_time": "2022-10-15T11:51:27.611Z"
   },
   {
    "duration": 11,
    "start_time": "2022-10-15T11:51:27.626Z"
   },
   {
    "duration": 17,
    "start_time": "2022-10-15T11:51:27.638Z"
   },
   {
    "duration": 42,
    "start_time": "2022-10-15T11:51:27.657Z"
   },
   {
    "duration": 5,
    "start_time": "2022-10-15T11:51:27.701Z"
   },
   {
    "duration": 10,
    "start_time": "2022-10-15T11:51:27.708Z"
   },
   {
    "duration": 10,
    "start_time": "2022-10-15T11:51:27.719Z"
   },
   {
    "duration": 8,
    "start_time": "2022-10-15T11:51:27.731Z"
   },
   {
    "duration": 7,
    "start_time": "2022-10-15T11:51:27.741Z"
   },
   {
    "duration": 14,
    "start_time": "2022-10-15T11:51:27.750Z"
   },
   {
    "duration": 217,
    "start_time": "2022-10-15T11:51:27.766Z"
   },
   {
    "duration": 396,
    "start_time": "2022-10-15T11:51:27.985Z"
   },
   {
    "duration": 6,
    "start_time": "2022-10-15T11:51:28.383Z"
   },
   {
    "duration": 337,
    "start_time": "2022-10-15T11:51:28.390Z"
   },
   {
    "duration": 20,
    "start_time": "2022-10-15T11:51:28.728Z"
   },
   {
    "duration": 304,
    "start_time": "2022-10-15T11:51:28.749Z"
   },
   {
    "duration": 304,
    "start_time": "2022-10-15T11:51:29.055Z"
   },
   {
    "duration": 325,
    "start_time": "2022-10-15T11:51:29.362Z"
   },
   {
    "duration": 7,
    "start_time": "2022-10-15T11:51:29.696Z"
   },
   {
    "duration": 781,
    "start_time": "2022-10-15T11:51:29.704Z"
   },
   {
    "duration": 686,
    "start_time": "2022-10-15T11:51:30.487Z"
   },
   {
    "duration": 33,
    "start_time": "2022-10-15T11:51:31.176Z"
   },
   {
    "duration": 16,
    "start_time": "2022-10-15T11:51:31.211Z"
   },
   {
    "duration": 248,
    "start_time": "2022-10-15T11:51:31.229Z"
   },
   {
    "duration": 241,
    "start_time": "2022-10-15T11:51:31.479Z"
   },
   {
    "duration": 279,
    "start_time": "2022-10-15T11:51:31.721Z"
   },
   {
    "duration": 261,
    "start_time": "2022-10-15T11:51:32.002Z"
   },
   {
    "duration": 232,
    "start_time": "2022-10-15T11:51:32.265Z"
   },
   {
    "duration": 343,
    "start_time": "2022-10-15T11:51:32.500Z"
   },
   {
    "duration": 253,
    "start_time": "2022-10-15T11:51:32.844Z"
   },
   {
    "duration": 260,
    "start_time": "2022-10-15T11:51:33.099Z"
   },
   {
    "duration": 332,
    "start_time": "2022-10-15T11:51:33.362Z"
   },
   {
    "duration": 6,
    "start_time": "2022-10-15T11:51:33.697Z"
   },
   {
    "duration": 11,
    "start_time": "2022-10-15T11:51:33.705Z"
   },
   {
    "duration": 8,
    "start_time": "2022-10-15T11:51:33.718Z"
   },
   {
    "duration": 15,
    "start_time": "2022-10-15T11:52:42.081Z"
   },
   {
    "duration": 15,
    "start_time": "2022-10-15T11:52:55.345Z"
   },
   {
    "duration": 18,
    "start_time": "2022-10-15T11:54:52.442Z"
   },
   {
    "duration": 11,
    "start_time": "2022-10-15T12:00:17.158Z"
   },
   {
    "duration": 19,
    "start_time": "2022-10-15T12:00:51.956Z"
   },
   {
    "duration": 242,
    "start_time": "2022-10-15T12:09:05.339Z"
   },
   {
    "duration": 296,
    "start_time": "2022-10-15T12:09:17.981Z"
   },
   {
    "duration": 296,
    "start_time": "2022-10-15T12:09:29.027Z"
   },
   {
    "duration": 362,
    "start_time": "2022-10-15T12:11:12.988Z"
   },
   {
    "duration": 1555,
    "start_time": "2022-10-15T12:11:42.688Z"
   },
   {
    "duration": 21,
    "start_time": "2022-10-15T12:11:44.245Z"
   },
   {
    "duration": 50,
    "start_time": "2022-10-15T12:11:44.269Z"
   },
   {
    "duration": 16,
    "start_time": "2022-10-15T12:11:44.321Z"
   },
   {
    "duration": 15,
    "start_time": "2022-10-15T12:11:44.339Z"
   },
   {
    "duration": 37,
    "start_time": "2022-10-15T12:11:44.357Z"
   },
   {
    "duration": 56,
    "start_time": "2022-10-15T12:11:44.412Z"
   },
   {
    "duration": 18,
    "start_time": "2022-10-15T12:11:44.471Z"
   },
   {
    "duration": 80,
    "start_time": "2022-10-15T12:11:44.492Z"
   },
   {
    "duration": 12,
    "start_time": "2022-10-15T12:11:44.576Z"
   },
   {
    "duration": 75,
    "start_time": "2022-10-15T12:11:44.590Z"
   },
   {
    "duration": 51,
    "start_time": "2022-10-15T12:11:44.668Z"
   },
   {
    "duration": 33,
    "start_time": "2022-10-15T12:11:44.728Z"
   },
   {
    "duration": 6,
    "start_time": "2022-10-15T12:11:44.763Z"
   },
   {
    "duration": 6,
    "start_time": "2022-10-15T12:11:44.771Z"
   },
   {
    "duration": 10,
    "start_time": "2022-10-15T12:11:44.779Z"
   },
   {
    "duration": 16,
    "start_time": "2022-10-15T12:11:44.791Z"
   },
   {
    "duration": 33,
    "start_time": "2022-10-15T12:11:44.810Z"
   },
   {
    "duration": 6,
    "start_time": "2022-10-15T12:11:44.845Z"
   },
   {
    "duration": 16,
    "start_time": "2022-10-15T12:11:44.853Z"
   },
   {
    "duration": 217,
    "start_time": "2022-10-15T12:11:44.870Z"
   },
   {
    "duration": 491,
    "start_time": "2022-10-15T12:11:45.090Z"
   },
   {
    "duration": 9,
    "start_time": "2022-10-15T12:11:45.583Z"
   },
   {
    "duration": 389,
    "start_time": "2022-10-15T12:11:45.594Z"
   },
   {
    "duration": 50,
    "start_time": "2022-10-15T12:11:45.986Z"
   },
   {
    "duration": 346,
    "start_time": "2022-10-15T12:11:46.043Z"
   },
   {
    "duration": 352,
    "start_time": "2022-10-15T12:11:46.392Z"
   },
   {
    "duration": 413,
    "start_time": "2022-10-15T12:11:46.748Z"
   },
   {
    "duration": 11,
    "start_time": "2022-10-15T12:11:47.164Z"
   },
   {
    "duration": 941,
    "start_time": "2022-10-15T12:11:47.177Z"
   },
   {
    "duration": 966,
    "start_time": "2022-10-15T12:11:48.120Z"
   },
   {
    "duration": 34,
    "start_time": "2022-10-15T12:11:49.088Z"
   },
   {
    "duration": 31,
    "start_time": "2022-10-15T12:11:49.124Z"
   },
   {
    "duration": 27,
    "start_time": "2022-10-15T12:11:49.157Z"
   },
   {
    "duration": 304,
    "start_time": "2022-10-15T12:11:49.186Z"
   },
   {
    "duration": 282,
    "start_time": "2022-10-15T12:11:49.493Z"
   },
   {
    "duration": 274,
    "start_time": "2022-10-15T12:11:49.777Z"
   },
   {
    "duration": 285,
    "start_time": "2022-10-15T12:11:50.053Z"
   },
   {
    "duration": 342,
    "start_time": "2022-10-15T12:11:50.341Z"
   },
   {
    "duration": 472,
    "start_time": "2022-10-15T12:11:50.685Z"
   },
   {
    "duration": 303,
    "start_time": "2022-10-15T12:11:51.159Z"
   },
   {
    "duration": 277,
    "start_time": "2022-10-15T12:11:51.464Z"
   },
   {
    "duration": 275,
    "start_time": "2022-10-15T12:11:51.742Z"
   },
   {
    "duration": 6,
    "start_time": "2022-10-15T12:11:52.019Z"
   },
   {
    "duration": 28,
    "start_time": "2022-10-15T12:11:52.028Z"
   },
   {
    "duration": 12,
    "start_time": "2022-10-15T12:11:52.059Z"
   },
   {
    "duration": 17,
    "start_time": "2022-10-15T12:25:56.329Z"
   },
   {
    "duration": 219,
    "start_time": "2022-10-15T12:27:41.950Z"
   },
   {
    "duration": 145,
    "start_time": "2022-10-15T12:28:02.860Z"
   },
   {
    "duration": 276,
    "start_time": "2022-10-15T12:28:14.771Z"
   },
   {
    "duration": 19,
    "start_time": "2022-10-15T12:30:12.972Z"
   },
   {
    "duration": 110,
    "start_time": "2022-10-15T12:30:28.128Z"
   },
   {
    "duration": 103,
    "start_time": "2022-10-15T12:30:42.016Z"
   },
   {
    "duration": 127,
    "start_time": "2022-10-15T12:31:54.425Z"
   },
   {
    "duration": 92,
    "start_time": "2022-10-15T12:32:30.558Z"
   },
   {
    "duration": 124,
    "start_time": "2022-10-15T12:35:21.183Z"
   },
   {
    "duration": 111,
    "start_time": "2022-10-15T12:35:33.706Z"
   },
   {
    "duration": 140,
    "start_time": "2022-10-15T12:35:38.596Z"
   },
   {
    "duration": 5,
    "start_time": "2022-10-15T12:48:03.088Z"
   },
   {
    "duration": 343,
    "start_time": "2022-10-15T12:48:31.186Z"
   },
   {
    "duration": 98,
    "start_time": "2022-10-15T12:49:49.172Z"
   },
   {
    "duration": 1349,
    "start_time": "2022-10-15T12:54:08.987Z"
   },
   {
    "duration": 23,
    "start_time": "2022-10-15T12:54:10.338Z"
   },
   {
    "duration": 44,
    "start_time": "2022-10-15T12:54:10.363Z"
   },
   {
    "duration": 10,
    "start_time": "2022-10-15T12:54:10.409Z"
   },
   {
    "duration": 8,
    "start_time": "2022-10-15T12:54:10.421Z"
   },
   {
    "duration": 25,
    "start_time": "2022-10-15T12:54:10.431Z"
   },
   {
    "duration": 51,
    "start_time": "2022-10-15T12:54:10.458Z"
   },
   {
    "duration": 18,
    "start_time": "2022-10-15T12:54:10.516Z"
   },
   {
    "duration": 5,
    "start_time": "2022-10-15T12:54:10.536Z"
   },
   {
    "duration": 10,
    "start_time": "2022-10-15T12:54:10.543Z"
   },
   {
    "duration": 14,
    "start_time": "2022-10-15T12:54:10.555Z"
   },
   {
    "duration": 30,
    "start_time": "2022-10-15T12:54:10.571Z"
   },
   {
    "duration": 19,
    "start_time": "2022-10-15T12:54:10.603Z"
   },
   {
    "duration": 7,
    "start_time": "2022-10-15T12:54:10.624Z"
   },
   {
    "duration": 5,
    "start_time": "2022-10-15T12:54:10.633Z"
   },
   {
    "duration": 11,
    "start_time": "2022-10-15T12:54:10.639Z"
   },
   {
    "duration": 7,
    "start_time": "2022-10-15T12:54:10.653Z"
   },
   {
    "duration": 42,
    "start_time": "2022-10-15T12:54:10.662Z"
   },
   {
    "duration": 4,
    "start_time": "2022-10-15T12:54:10.710Z"
   },
   {
    "duration": 21,
    "start_time": "2022-10-15T12:54:10.717Z"
   },
   {
    "duration": 201,
    "start_time": "2022-10-15T12:54:10.740Z"
   },
   {
    "duration": 414,
    "start_time": "2022-10-15T12:54:10.943Z"
   },
   {
    "duration": 6,
    "start_time": "2022-10-15T12:54:11.359Z"
   },
   {
    "duration": 355,
    "start_time": "2022-10-15T12:54:11.367Z"
   },
   {
    "duration": 16,
    "start_time": "2022-10-15T12:54:11.725Z"
   },
   {
    "duration": 320,
    "start_time": "2022-10-15T12:54:11.743Z"
   },
   {
    "duration": 336,
    "start_time": "2022-10-15T12:54:12.065Z"
   },
   {
    "duration": 351,
    "start_time": "2022-10-15T12:54:12.405Z"
   },
   {
    "duration": 8,
    "start_time": "2022-10-15T12:54:12.758Z"
   },
   {
    "duration": 815,
    "start_time": "2022-10-15T12:54:12.769Z"
   },
   {
    "duration": 751,
    "start_time": "2022-10-15T12:54:13.585Z"
   },
   {
    "duration": 14,
    "start_time": "2022-10-15T12:54:14.337Z"
   },
   {
    "duration": 34,
    "start_time": "2022-10-15T12:54:14.353Z"
   },
   {
    "duration": 61,
    "start_time": "2022-10-15T12:54:14.389Z"
   },
   {
    "duration": 269,
    "start_time": "2022-10-15T12:54:14.452Z"
   },
   {
    "duration": 235,
    "start_time": "2022-10-15T12:54:14.723Z"
   },
   {
    "duration": 268,
    "start_time": "2022-10-15T12:54:14.960Z"
   },
   {
    "duration": 251,
    "start_time": "2022-10-15T12:54:15.229Z"
   },
   {
    "duration": 281,
    "start_time": "2022-10-15T12:54:15.482Z"
   },
   {
    "duration": 371,
    "start_time": "2022-10-15T12:54:15.765Z"
   },
   {
    "duration": 125,
    "start_time": "2022-10-15T12:54:16.138Z"
   },
   {
    "duration": 105,
    "start_time": "2022-10-15T12:54:16.265Z"
   },
   {
    "duration": 102,
    "start_time": "2022-10-15T12:54:16.372Z"
   },
   {
    "duration": 5,
    "start_time": "2022-10-15T12:54:16.476Z"
   },
   {
    "duration": 297,
    "start_time": "2022-10-15T12:54:16.483Z"
   },
   {
    "duration": 16,
    "start_time": "2022-10-15T12:54:16.782Z"
   },
   {
    "duration": 29,
    "start_time": "2022-10-15T12:54:16.804Z"
   },
   {
    "duration": 12,
    "start_time": "2022-10-15T12:54:16.835Z"
   },
   {
    "duration": 8,
    "start_time": "2022-10-15T17:16:51.195Z"
   },
   {
    "duration": 3,
    "start_time": "2022-10-15T17:20:26.275Z"
   },
   {
    "duration": 43,
    "start_time": "2022-10-15T17:21:00.735Z"
   },
   {
    "duration": 12,
    "start_time": "2022-10-15T17:21:09.430Z"
   },
   {
    "duration": 1906,
    "start_time": "2022-10-15T17:21:28.897Z"
   },
   {
    "duration": 18,
    "start_time": "2022-10-15T17:21:30.805Z"
   },
   {
    "duration": 44,
    "start_time": "2022-10-15T17:21:30.825Z"
   },
   {
    "duration": 11,
    "start_time": "2022-10-15T17:21:30.872Z"
   },
   {
    "duration": 7,
    "start_time": "2022-10-15T17:21:30.895Z"
   },
   {
    "duration": 32,
    "start_time": "2022-10-15T17:21:30.904Z"
   },
   {
    "duration": 35,
    "start_time": "2022-10-15T17:21:30.938Z"
   },
   {
    "duration": 33,
    "start_time": "2022-10-15T17:21:30.976Z"
   },
   {
    "duration": 3,
    "start_time": "2022-10-15T17:21:31.011Z"
   },
   {
    "duration": 22,
    "start_time": "2022-10-15T17:21:31.018Z"
   },
   {
    "duration": 21,
    "start_time": "2022-10-15T17:21:31.042Z"
   },
   {
    "duration": 31,
    "start_time": "2022-10-15T17:21:31.065Z"
   },
   {
    "duration": 20,
    "start_time": "2022-10-15T17:21:31.097Z"
   },
   {
    "duration": 11,
    "start_time": "2022-10-15T17:21:31.119Z"
   },
   {
    "duration": 19,
    "start_time": "2022-10-15T17:21:31.133Z"
   },
   {
    "duration": 40,
    "start_time": "2022-10-15T17:21:31.154Z"
   },
   {
    "duration": 8,
    "start_time": "2022-10-15T17:21:31.197Z"
   },
   {
    "duration": 15,
    "start_time": "2022-10-15T17:21:31.208Z"
   },
   {
    "duration": 17,
    "start_time": "2022-10-15T17:21:31.225Z"
   },
   {
    "duration": 20,
    "start_time": "2022-10-15T17:21:31.244Z"
   },
   {
    "duration": 183,
    "start_time": "2022-10-15T17:21:31.266Z"
   },
   {
    "duration": 297,
    "start_time": "2022-10-15T17:21:31.451Z"
   },
   {
    "duration": 6,
    "start_time": "2022-10-15T17:21:31.750Z"
   },
   {
    "duration": 344,
    "start_time": "2022-10-15T17:21:31.758Z"
   },
   {
    "duration": 14,
    "start_time": "2022-10-15T17:21:32.104Z"
   },
   {
    "duration": 302,
    "start_time": "2022-10-15T17:21:32.120Z"
   },
   {
    "duration": 292,
    "start_time": "2022-10-15T17:21:32.423Z"
   },
   {
    "duration": 337,
    "start_time": "2022-10-15T17:21:32.720Z"
   },
   {
    "duration": 8,
    "start_time": "2022-10-15T17:21:33.058Z"
   },
   {
    "duration": 754,
    "start_time": "2022-10-15T17:21:33.067Z"
   },
   {
    "duration": 727,
    "start_time": "2022-10-15T17:21:33.823Z"
   },
   {
    "duration": 16,
    "start_time": "2022-10-15T17:21:34.552Z"
   },
   {
    "duration": 33,
    "start_time": "2022-10-15T17:21:34.570Z"
   },
   {
    "duration": 17,
    "start_time": "2022-10-15T17:21:34.605Z"
   },
   {
    "duration": 4,
    "start_time": "2022-10-15T17:21:34.623Z"
   },
   {
    "duration": 239,
    "start_time": "2022-10-15T17:21:34.630Z"
   },
   {
    "duration": 140,
    "start_time": "2022-10-15T17:21:34.871Z"
   },
   {
    "duration": 233,
    "start_time": "2022-10-15T17:21:35.013Z"
   },
   {
    "duration": 224,
    "start_time": "2022-10-15T17:21:35.248Z"
   },
   {
    "duration": 243,
    "start_time": "2022-10-15T17:21:35.473Z"
   },
   {
    "duration": 315,
    "start_time": "2022-10-15T17:21:35.718Z"
   },
   {
    "duration": 250,
    "start_time": "2022-10-15T17:21:36.035Z"
   },
   {
    "duration": 94,
    "start_time": "2022-10-15T17:21:36.287Z"
   },
   {
    "duration": 137,
    "start_time": "2022-10-15T17:21:36.396Z"
   },
   {
    "duration": 128,
    "start_time": "2022-10-15T17:21:36.535Z"
   },
   {
    "duration": 4,
    "start_time": "2022-10-15T17:21:36.665Z"
   },
   {
    "duration": 270,
    "start_time": "2022-10-15T17:21:36.673Z"
   },
   {
    "duration": 6,
    "start_time": "2022-10-15T17:21:36.945Z"
   },
   {
    "duration": 12,
    "start_time": "2022-10-15T17:21:36.953Z"
   },
   {
    "duration": 11,
    "start_time": "2022-10-15T17:21:36.966Z"
   },
   {
    "duration": 110,
    "start_time": "2022-10-15T17:23:58.594Z"
   },
   {
    "duration": 109,
    "start_time": "2022-10-15T17:25:03.801Z"
   },
   {
    "duration": 131,
    "start_time": "2022-10-15T17:26:22.616Z"
   },
   {
    "duration": 144,
    "start_time": "2022-10-15T17:27:45.445Z"
   },
   {
    "duration": 135,
    "start_time": "2022-10-15T17:28:55.994Z"
   }
  ],
  "kernelspec": {
   "display_name": "Python 3 (ipykernel)",
   "language": "python",
   "name": "python3"
  },
  "language_info": {
   "codemirror_mode": {
    "name": "ipython",
    "version": 3
   },
   "file_extension": ".py",
   "mimetype": "text/x-python",
   "name": "python",
   "nbconvert_exporter": "python",
   "pygments_lexer": "ipython3",
   "version": "3.9.7"
  },
  "toc": {
   "base_numbering": 1,
   "nav_menu": {},
   "number_sections": true,
   "sideBar": true,
   "skip_h1_title": true,
   "title_cell": "Table of Contents",
   "title_sidebar": "Contents",
   "toc_cell": false,
   "toc_position": {
    "height": "calc(100% - 180px)",
    "left": "10px",
    "top": "150px",
    "width": "287.188px"
   },
   "toc_section_display": true,
   "toc_window_display": true
  }
 },
 "nbformat": 4,
 "nbformat_minor": 2
}
