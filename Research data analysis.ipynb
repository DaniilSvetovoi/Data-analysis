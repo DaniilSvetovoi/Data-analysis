{
 "cells": [
  {
   "cell_type": "markdown",
   "metadata": {},
   "source": [
    "# Real estate sale ads research\n",
    "\n",
    "We have the data of the Yandex.RealEstate service — archive of ads for the sale of apartments in St. Petersburg and neighboring settlements for several years. It is necessary to determine the market value of real estate. Our task is to set the parameters. This will allow us to build an automated system: it will track anomalies and fraudulent activity.\n",
    "\n",
    "There are two types of data available for each apartment for sale. The first ones are entered by the user, the second ones are obtained automatically based on cartographic data. For example, the distance to the center, airport, nearest park and reservoir."
   ]
  },
  {
   "cell_type": "markdown",
   "metadata": {},
   "source": [
    "**Project name**\n",
    "\n",
    "Research of ads for the sale of apartments\n",
    "\n",
    "**Project Description**\n",
    "\n",
    "In the course of this study, we will analyze the data provided by the Yandex.RealEstate service — archive of ads for the sale of apartments in St. Petersburg and neighboring settlements for several years\n",
    "\n",
    "**The purpose of the investigation**\n",
    "\n",
    "Learn to determine the market value of real estate\n",
    "\n",
    "**The essence of research**\n",
    "\n",
    "To analyze the data, the results of which will help to build an automated system that will track anomalies and fraudulent activity\n",
    "\n",
    "**Research objectives**\n",
    "\n",
    "Perform preprocessing of the initial data - fill in the gaps, work out anomalies and analyze the half-formed data array to answer the questions posed in the research goals\n",
    "\n",
    "**Initial data**\n",
    "\n",
    "For the study, a table has been presented, which includes about 23.5 thousand records on the sale of real estate. The table includes information about the price, parameters of the property, geodata\n",
    "\n",
    "**This study will be divided into several parts**\n",
    "\n",
    "Часть 1. [Data overview](#Data-overview)\n",
    "\n",
    "Часть 2. [Data preprocessing](#Data-preprocessing)\n",
    "\n",
    "1. [total_images](#total_images)\n",
    "2. [last_priceвления](#last_price)\n",
    "3. [total_area](#total_area)\n",
    "4. [first_day_exposition](#first_day_exposition)\n",
    "5. [rooms](#rooms)\n",
    "6. [ceiling_height](#ceiling_height)\n",
    "7. [floors_total](#floors_total)\n",
    "8. [living_area](#living_area)\n",
    "9. [is_apartment](#is_apartment)\n",
    "10. [kitchen_area](#kitchen_area)\n",
    "11. [balcony](#balcony)\n",
    "12. [locality_name](#locality_name)\n",
    "\n",
    "Часть 3. [Calculations and adding new columns to the table](#Calculations-and-adding-new-columns-to-the-table)\n",
    "1. [Calculating the price per square meter](#Calculating-the-price-per-square-meter)\n",
    "2. [Adding Date columns](#Adding-Date-columns)\n",
    "3. [Type of apartment floor](#Type-of-apartment-floor)\n",
    "4. [Distance to the city center in kilometers](#Distance-to-the-city-center-in-kilometers)\n",
    "\n",
    "Часть 4. [Research data analysis](#Research-data-analysis)\n",
    "1. [Studying the parameters of objects](#Studying-the-parameters-of-objects)\n",
    "2. [The speed of sale of apartments](#The-speed-of-sale-of-apartments)\n",
    "3. [Factors influencing the cost of the object](#Factors-influencing-the-cost-of-the-object)\n",
    "4. [Average price per square meter](#Average-price-per-square-meter)\n",
    "5. [Average price per kilometer](#Average-price-per-kilometer)\n",
    "\n",
    "Часть 5. [General conclusion](#General-conclusion)"
   ]
  },
  {
   "cell_type": "markdown",
   "metadata": {},
   "source": [
    "### Data overview"
   ]
  },
  {
   "cell_type": "code",
   "execution_count": 1,
   "metadata": {
    "scrolled": true
   },
   "outputs": [
    {
     "data": {
      "text/html": [
       "<div>\n",
       "<style scoped>\n",
       "    .dataframe tbody tr th:only-of-type {\n",
       "        vertical-align: middle;\n",
       "    }\n",
       "\n",
       "    .dataframe tbody tr th {\n",
       "        vertical-align: top;\n",
       "    }\n",
       "\n",
       "    .dataframe thead th {\n",
       "        text-align: right;\n",
       "    }\n",
       "</style>\n",
       "<table border=\"1\" class=\"dataframe\">\n",
       "  <thead>\n",
       "    <tr style=\"text-align: right;\">\n",
       "      <th></th>\n",
       "      <th>total_images</th>\n",
       "      <th>last_price</th>\n",
       "      <th>total_area</th>\n",
       "      <th>first_day_exposition</th>\n",
       "      <th>rooms</th>\n",
       "      <th>ceiling_height</th>\n",
       "      <th>floors_total</th>\n",
       "      <th>living_area</th>\n",
       "      <th>floor</th>\n",
       "      <th>is_apartment</th>\n",
       "      <th>...</th>\n",
       "      <th>kitchen_area</th>\n",
       "      <th>balcony</th>\n",
       "      <th>locality_name</th>\n",
       "      <th>airports_nearest</th>\n",
       "      <th>cityCenters_nearest</th>\n",
       "      <th>parks_around3000</th>\n",
       "      <th>parks_nearest</th>\n",
       "      <th>ponds_around3000</th>\n",
       "      <th>ponds_nearest</th>\n",
       "      <th>days_exposition</th>\n",
       "    </tr>\n",
       "  </thead>\n",
       "  <tbody>\n",
       "    <tr>\n",
       "      <th>0</th>\n",
       "      <td>20</td>\n",
       "      <td>13000000.0</td>\n",
       "      <td>108.00</td>\n",
       "      <td>2019-03-07T00:00:00</td>\n",
       "      <td>3</td>\n",
       "      <td>2.70</td>\n",
       "      <td>16.0</td>\n",
       "      <td>51.0</td>\n",
       "      <td>8</td>\n",
       "      <td>NaN</td>\n",
       "      <td>...</td>\n",
       "      <td>25.00</td>\n",
       "      <td>NaN</td>\n",
       "      <td>Санкт-Петербург</td>\n",
       "      <td>18863.0</td>\n",
       "      <td>16028.0</td>\n",
       "      <td>1.0</td>\n",
       "      <td>482.0</td>\n",
       "      <td>2.0</td>\n",
       "      <td>755.0</td>\n",
       "      <td>NaN</td>\n",
       "    </tr>\n",
       "    <tr>\n",
       "      <th>1</th>\n",
       "      <td>7</td>\n",
       "      <td>3350000.0</td>\n",
       "      <td>40.40</td>\n",
       "      <td>2018-12-04T00:00:00</td>\n",
       "      <td>1</td>\n",
       "      <td>NaN</td>\n",
       "      <td>11.0</td>\n",
       "      <td>18.6</td>\n",
       "      <td>1</td>\n",
       "      <td>NaN</td>\n",
       "      <td>...</td>\n",
       "      <td>11.00</td>\n",
       "      <td>2.0</td>\n",
       "      <td>посёлок Шушары</td>\n",
       "      <td>12817.0</td>\n",
       "      <td>18603.0</td>\n",
       "      <td>0.0</td>\n",
       "      <td>NaN</td>\n",
       "      <td>0.0</td>\n",
       "      <td>NaN</td>\n",
       "      <td>81.0</td>\n",
       "    </tr>\n",
       "    <tr>\n",
       "      <th>2</th>\n",
       "      <td>10</td>\n",
       "      <td>5196000.0</td>\n",
       "      <td>56.00</td>\n",
       "      <td>2015-08-20T00:00:00</td>\n",
       "      <td>2</td>\n",
       "      <td>NaN</td>\n",
       "      <td>5.0</td>\n",
       "      <td>34.3</td>\n",
       "      <td>4</td>\n",
       "      <td>NaN</td>\n",
       "      <td>...</td>\n",
       "      <td>8.30</td>\n",
       "      <td>0.0</td>\n",
       "      <td>Санкт-Петербург</td>\n",
       "      <td>21741.0</td>\n",
       "      <td>13933.0</td>\n",
       "      <td>1.0</td>\n",
       "      <td>90.0</td>\n",
       "      <td>2.0</td>\n",
       "      <td>574.0</td>\n",
       "      <td>558.0</td>\n",
       "    </tr>\n",
       "    <tr>\n",
       "      <th>3</th>\n",
       "      <td>0</td>\n",
       "      <td>64900000.0</td>\n",
       "      <td>159.00</td>\n",
       "      <td>2015-07-24T00:00:00</td>\n",
       "      <td>3</td>\n",
       "      <td>NaN</td>\n",
       "      <td>14.0</td>\n",
       "      <td>NaN</td>\n",
       "      <td>9</td>\n",
       "      <td>NaN</td>\n",
       "      <td>...</td>\n",
       "      <td>NaN</td>\n",
       "      <td>0.0</td>\n",
       "      <td>Санкт-Петербург</td>\n",
       "      <td>28098.0</td>\n",
       "      <td>6800.0</td>\n",
       "      <td>2.0</td>\n",
       "      <td>84.0</td>\n",
       "      <td>3.0</td>\n",
       "      <td>234.0</td>\n",
       "      <td>424.0</td>\n",
       "    </tr>\n",
       "    <tr>\n",
       "      <th>4</th>\n",
       "      <td>2</td>\n",
       "      <td>10000000.0</td>\n",
       "      <td>100.00</td>\n",
       "      <td>2018-06-19T00:00:00</td>\n",
       "      <td>2</td>\n",
       "      <td>3.03</td>\n",
       "      <td>14.0</td>\n",
       "      <td>32.0</td>\n",
       "      <td>13</td>\n",
       "      <td>NaN</td>\n",
       "      <td>...</td>\n",
       "      <td>41.00</td>\n",
       "      <td>NaN</td>\n",
       "      <td>Санкт-Петербург</td>\n",
       "      <td>31856.0</td>\n",
       "      <td>8098.0</td>\n",
       "      <td>2.0</td>\n",
       "      <td>112.0</td>\n",
       "      <td>1.0</td>\n",
       "      <td>48.0</td>\n",
       "      <td>121.0</td>\n",
       "    </tr>\n",
       "    <tr>\n",
       "      <th>...</th>\n",
       "      <td>...</td>\n",
       "      <td>...</td>\n",
       "      <td>...</td>\n",
       "      <td>...</td>\n",
       "      <td>...</td>\n",
       "      <td>...</td>\n",
       "      <td>...</td>\n",
       "      <td>...</td>\n",
       "      <td>...</td>\n",
       "      <td>...</td>\n",
       "      <td>...</td>\n",
       "      <td>...</td>\n",
       "      <td>...</td>\n",
       "      <td>...</td>\n",
       "      <td>...</td>\n",
       "      <td>...</td>\n",
       "      <td>...</td>\n",
       "      <td>...</td>\n",
       "      <td>...</td>\n",
       "      <td>...</td>\n",
       "      <td>...</td>\n",
       "    </tr>\n",
       "    <tr>\n",
       "      <th>23694</th>\n",
       "      <td>9</td>\n",
       "      <td>9700000.0</td>\n",
       "      <td>133.81</td>\n",
       "      <td>2017-03-21T00:00:00</td>\n",
       "      <td>3</td>\n",
       "      <td>3.70</td>\n",
       "      <td>5.0</td>\n",
       "      <td>73.3</td>\n",
       "      <td>3</td>\n",
       "      <td>NaN</td>\n",
       "      <td>...</td>\n",
       "      <td>13.83</td>\n",
       "      <td>NaN</td>\n",
       "      <td>Санкт-Петербург</td>\n",
       "      <td>24665.0</td>\n",
       "      <td>4232.0</td>\n",
       "      <td>1.0</td>\n",
       "      <td>796.0</td>\n",
       "      <td>3.0</td>\n",
       "      <td>381.0</td>\n",
       "      <td>NaN</td>\n",
       "    </tr>\n",
       "    <tr>\n",
       "      <th>23695</th>\n",
       "      <td>14</td>\n",
       "      <td>3100000.0</td>\n",
       "      <td>59.00</td>\n",
       "      <td>2018-01-15T00:00:00</td>\n",
       "      <td>3</td>\n",
       "      <td>NaN</td>\n",
       "      <td>5.0</td>\n",
       "      <td>38.0</td>\n",
       "      <td>4</td>\n",
       "      <td>NaN</td>\n",
       "      <td>...</td>\n",
       "      <td>8.50</td>\n",
       "      <td>NaN</td>\n",
       "      <td>Тосно</td>\n",
       "      <td>NaN</td>\n",
       "      <td>NaN</td>\n",
       "      <td>NaN</td>\n",
       "      <td>NaN</td>\n",
       "      <td>NaN</td>\n",
       "      <td>NaN</td>\n",
       "      <td>45.0</td>\n",
       "    </tr>\n",
       "    <tr>\n",
       "      <th>23696</th>\n",
       "      <td>18</td>\n",
       "      <td>2500000.0</td>\n",
       "      <td>56.70</td>\n",
       "      <td>2018-02-11T00:00:00</td>\n",
       "      <td>2</td>\n",
       "      <td>NaN</td>\n",
       "      <td>3.0</td>\n",
       "      <td>29.7</td>\n",
       "      <td>1</td>\n",
       "      <td>NaN</td>\n",
       "      <td>...</td>\n",
       "      <td>NaN</td>\n",
       "      <td>NaN</td>\n",
       "      <td>село Рождествено</td>\n",
       "      <td>NaN</td>\n",
       "      <td>NaN</td>\n",
       "      <td>NaN</td>\n",
       "      <td>NaN</td>\n",
       "      <td>NaN</td>\n",
       "      <td>NaN</td>\n",
       "      <td>NaN</td>\n",
       "    </tr>\n",
       "    <tr>\n",
       "      <th>23697</th>\n",
       "      <td>13</td>\n",
       "      <td>11475000.0</td>\n",
       "      <td>76.75</td>\n",
       "      <td>2017-03-28T00:00:00</td>\n",
       "      <td>2</td>\n",
       "      <td>3.00</td>\n",
       "      <td>17.0</td>\n",
       "      <td>NaN</td>\n",
       "      <td>12</td>\n",
       "      <td>NaN</td>\n",
       "      <td>...</td>\n",
       "      <td>23.30</td>\n",
       "      <td>2.0</td>\n",
       "      <td>Санкт-Петербург</td>\n",
       "      <td>39140.0</td>\n",
       "      <td>10364.0</td>\n",
       "      <td>2.0</td>\n",
       "      <td>173.0</td>\n",
       "      <td>3.0</td>\n",
       "      <td>196.0</td>\n",
       "      <td>602.0</td>\n",
       "    </tr>\n",
       "    <tr>\n",
       "      <th>23698</th>\n",
       "      <td>4</td>\n",
       "      <td>1350000.0</td>\n",
       "      <td>32.30</td>\n",
       "      <td>2017-07-21T00:00:00</td>\n",
       "      <td>1</td>\n",
       "      <td>2.50</td>\n",
       "      <td>5.0</td>\n",
       "      <td>12.3</td>\n",
       "      <td>1</td>\n",
       "      <td>NaN</td>\n",
       "      <td>...</td>\n",
       "      <td>9.00</td>\n",
       "      <td>NaN</td>\n",
       "      <td>поселок Новый Учхоз</td>\n",
       "      <td>NaN</td>\n",
       "      <td>NaN</td>\n",
       "      <td>NaN</td>\n",
       "      <td>NaN</td>\n",
       "      <td>NaN</td>\n",
       "      <td>NaN</td>\n",
       "      <td>NaN</td>\n",
       "    </tr>\n",
       "  </tbody>\n",
       "</table>\n",
       "<p>23699 rows × 22 columns</p>\n",
       "</div>"
      ],
      "text/plain": [
       "       total_images  last_price  total_area first_day_exposition  rooms  \\\n",
       "0                20  13000000.0      108.00  2019-03-07T00:00:00      3   \n",
       "1                 7   3350000.0       40.40  2018-12-04T00:00:00      1   \n",
       "2                10   5196000.0       56.00  2015-08-20T00:00:00      2   \n",
       "3                 0  64900000.0      159.00  2015-07-24T00:00:00      3   \n",
       "4                 2  10000000.0      100.00  2018-06-19T00:00:00      2   \n",
       "...             ...         ...         ...                  ...    ...   \n",
       "23694             9   9700000.0      133.81  2017-03-21T00:00:00      3   \n",
       "23695            14   3100000.0       59.00  2018-01-15T00:00:00      3   \n",
       "23696            18   2500000.0       56.70  2018-02-11T00:00:00      2   \n",
       "23697            13  11475000.0       76.75  2017-03-28T00:00:00      2   \n",
       "23698             4   1350000.0       32.30  2017-07-21T00:00:00      1   \n",
       "\n",
       "       ceiling_height  floors_total  living_area  floor is_apartment  ...  \\\n",
       "0                2.70          16.0         51.0      8          NaN  ...   \n",
       "1                 NaN          11.0         18.6      1          NaN  ...   \n",
       "2                 NaN           5.0         34.3      4          NaN  ...   \n",
       "3                 NaN          14.0          NaN      9          NaN  ...   \n",
       "4                3.03          14.0         32.0     13          NaN  ...   \n",
       "...               ...           ...          ...    ...          ...  ...   \n",
       "23694            3.70           5.0         73.3      3          NaN  ...   \n",
       "23695             NaN           5.0         38.0      4          NaN  ...   \n",
       "23696             NaN           3.0         29.7      1          NaN  ...   \n",
       "23697            3.00          17.0          NaN     12          NaN  ...   \n",
       "23698            2.50           5.0         12.3      1          NaN  ...   \n",
       "\n",
       "       kitchen_area  balcony        locality_name  airports_nearest  \\\n",
       "0             25.00      NaN      Санкт-Петербург           18863.0   \n",
       "1             11.00      2.0       посёлок Шушары           12817.0   \n",
       "2              8.30      0.0      Санкт-Петербург           21741.0   \n",
       "3               NaN      0.0      Санкт-Петербург           28098.0   \n",
       "4             41.00      NaN      Санкт-Петербург           31856.0   \n",
       "...             ...      ...                  ...               ...   \n",
       "23694         13.83      NaN      Санкт-Петербург           24665.0   \n",
       "23695          8.50      NaN                Тосно               NaN   \n",
       "23696           NaN      NaN     село Рождествено               NaN   \n",
       "23697         23.30      2.0      Санкт-Петербург           39140.0   \n",
       "23698          9.00      NaN  поселок Новый Учхоз               NaN   \n",
       "\n",
       "      cityCenters_nearest  parks_around3000  parks_nearest  ponds_around3000  \\\n",
       "0                 16028.0               1.0          482.0               2.0   \n",
       "1                 18603.0               0.0            NaN               0.0   \n",
       "2                 13933.0               1.0           90.0               2.0   \n",
       "3                  6800.0               2.0           84.0               3.0   \n",
       "4                  8098.0               2.0          112.0               1.0   \n",
       "...                   ...               ...            ...               ...   \n",
       "23694              4232.0               1.0          796.0               3.0   \n",
       "23695                 NaN               NaN            NaN               NaN   \n",
       "23696                 NaN               NaN            NaN               NaN   \n",
       "23697             10364.0               2.0          173.0               3.0   \n",
       "23698                 NaN               NaN            NaN               NaN   \n",
       "\n",
       "       ponds_nearest  days_exposition  \n",
       "0              755.0              NaN  \n",
       "1                NaN             81.0  \n",
       "2              574.0            558.0  \n",
       "3              234.0            424.0  \n",
       "4               48.0            121.0  \n",
       "...              ...              ...  \n",
       "23694          381.0              NaN  \n",
       "23695            NaN             45.0  \n",
       "23696            NaN              NaN  \n",
       "23697          196.0            602.0  \n",
       "23698            NaN              NaN  \n",
       "\n",
       "[23699 rows x 22 columns]"
      ]
     },
     "execution_count": 1,
     "metadata": {},
     "output_type": "execute_result"
    }
   ],
   "source": [
    "import pandas as pd\n",
    "import matplotlib as plt\n",
    "import warnings\n",
    "warnings.filterwarnings('ignore')\n",
    "\n",
    "try:\n",
    "    data = pd.read_csv('D:/Документы/LinkedIn/4 Исследовательский анализ данных/real_estate_data.csv', sep = '\\t', decimal = '.')  # Локальный путь\n",
    "except:\n",
    "    data = pd.read_csv('/datasets/real_estate_data.csv', sep = '\\t', decimal = '.')\n",
    "data"
   ]
  },
  {
   "cell_type": "code",
   "execution_count": 2,
   "metadata": {
    "scrolled": true
   },
   "outputs": [
    {
     "name": "stdout",
     "output_type": "stream",
     "text": [
      "<class 'pandas.core.frame.DataFrame'>\n",
      "RangeIndex: 23699 entries, 0 to 23698\n",
      "Data columns (total 22 columns):\n",
      " #   Column                Non-Null Count  Dtype  \n",
      "---  ------                --------------  -----  \n",
      " 0   total_images          23699 non-null  int64  \n",
      " 1   last_price            23699 non-null  float64\n",
      " 2   total_area            23699 non-null  float64\n",
      " 3   first_day_exposition  23699 non-null  object \n",
      " 4   rooms                 23699 non-null  int64  \n",
      " 5   ceiling_height        14504 non-null  float64\n",
      " 6   floors_total          23613 non-null  float64\n",
      " 7   living_area           21796 non-null  float64\n",
      " 8   floor                 23699 non-null  int64  \n",
      " 9   is_apartment          2775 non-null   object \n",
      " 10  studio                23699 non-null  bool   \n",
      " 11  open_plan             23699 non-null  bool   \n",
      " 12  kitchen_area          21421 non-null  float64\n",
      " 13  balcony               12180 non-null  float64\n",
      " 14  locality_name         23650 non-null  object \n",
      " 15  airports_nearest      18157 non-null  float64\n",
      " 16  cityCenters_nearest   18180 non-null  float64\n",
      " 17  parks_around3000      18181 non-null  float64\n",
      " 18  parks_nearest         8079 non-null   float64\n",
      " 19  ponds_around3000      18181 non-null  float64\n",
      " 20  ponds_nearest         9110 non-null   float64\n",
      " 21  days_exposition       20518 non-null  float64\n",
      "dtypes: bool(2), float64(14), int64(3), object(3)\n",
      "memory usage: 3.7+ MB\n"
     ]
    }
   ],
   "source": [
    "data.info()"
   ]
  },
  {
   "cell_type": "code",
   "execution_count": 3,
   "metadata": {
    "scrolled": true
   },
   "outputs": [
    {
     "data": {
      "text/plain": [
       "array([[<AxesSubplot:title={'center':'total_images'}>,\n",
       "        <AxesSubplot:title={'center':'last_price'}>,\n",
       "        <AxesSubplot:title={'center':'total_area'}>,\n",
       "        <AxesSubplot:title={'center':'rooms'}>],\n",
       "       [<AxesSubplot:title={'center':'ceiling_height'}>,\n",
       "        <AxesSubplot:title={'center':'floors_total'}>,\n",
       "        <AxesSubplot:title={'center':'living_area'}>,\n",
       "        <AxesSubplot:title={'center':'floor'}>],\n",
       "       [<AxesSubplot:title={'center':'kitchen_area'}>,\n",
       "        <AxesSubplot:title={'center':'balcony'}>,\n",
       "        <AxesSubplot:title={'center':'airports_nearest'}>,\n",
       "        <AxesSubplot:title={'center':'cityCenters_nearest'}>],\n",
       "       [<AxesSubplot:title={'center':'parks_around3000'}>,\n",
       "        <AxesSubplot:title={'center':'parks_nearest'}>,\n",
       "        <AxesSubplot:title={'center':'ponds_around3000'}>,\n",
       "        <AxesSubplot:title={'center':'ponds_nearest'}>],\n",
       "       [<AxesSubplot:title={'center':'days_exposition'}>, <AxesSubplot:>,\n",
       "        <AxesSubplot:>, <AxesSubplot:>]], dtype=object)"
      ]
     },
     "execution_count": 3,
     "metadata": {},
     "output_type": "execute_result"
    },
    {
     "data": {
      "image/png": "[encoded data removed]",
      "text/plain": [
       "<Figure size 1080x1440 with 20 Axes>"
      ]
     },
     "metadata": {
      "needs_background": "light"
     },
     "output_type": "display_data"
    }
   ],
   "source": [
    "data.hist(figsize=(15, 20))"
   ]
  },
  {
   "cell_type": "markdown",
   "metadata": {},
   "source": [
    "### Data preprocessing"
   ]
  },
  {
   "cell_type": "markdown",
   "metadata": {},
   "source": [
    "After viewing the general information on the dataset, we will pre-process the data for each individual column."
   ]
  },
  {
   "cell_type": "markdown",
   "metadata": {},
   "source": [
    "#### total_images"
   ]
  },
  {
   "cell_type": "markdown",
   "metadata": {},
   "source": [
    "The first column to view is total_images. Based on the information we reviewed in the previous paragraph, everything is fine with the column. There are no missing values, type int, minimum value 0, maximum 50, median is approximately equal to the average. The histogram shows that the number of ads with more than 25 photos is very small, but there is nothing unusual in this either. There are no reasons for adjustments."
   ]
  },
  {
   "cell_type": "markdown",
   "metadata": {},
   "source": [
    "#### last_price"
   ]
  },
  {
   "cell_type": "markdown",
   "metadata": {},
   "source": [
    "The next column is last_price. There are no missing values, the float type is as it should be. The values are more complicated. We have the data, but it is possible to read and understand them, but it is not convenient. To make it easier to view and, accordingly, analyze them, we divide the values by a million. The apartment, most often, costs several million rubles and this format seems to be the most convenient. The column can be overwritten, since the essence of the data will not change, but the readability will greatly increase. To be understood by an outside observer, rename the column."
   ]
  },
  {
   "cell_type": "code",
   "execution_count": 4,
   "metadata": {},
   "outputs": [
    {
     "data": {
      "text/html": [
       "<div>\n",
       "<style scoped>\n",
       "    .dataframe tbody tr th:only-of-type {\n",
       "        vertical-align: middle;\n",
       "    }\n",
       "\n",
       "    .dataframe tbody tr th {\n",
       "        vertical-align: top;\n",
       "    }\n",
       "\n",
       "    .dataframe thead th {\n",
       "        text-align: right;\n",
       "    }\n",
       "</style>\n",
       "<table border=\"1\" class=\"dataframe\">\n",
       "  <thead>\n",
       "    <tr style=\"text-align: right;\">\n",
       "      <th></th>\n",
       "      <th>total_images</th>\n",
       "      <th>last_price_mln</th>\n",
       "      <th>total_area</th>\n",
       "      <th>first_day_exposition</th>\n",
       "      <th>rooms</th>\n",
       "      <th>ceiling_height</th>\n",
       "      <th>floors_total</th>\n",
       "      <th>living_area</th>\n",
       "      <th>floor</th>\n",
       "      <th>is_apartment</th>\n",
       "      <th>...</th>\n",
       "      <th>kitchen_area</th>\n",
       "      <th>balcony</th>\n",
       "      <th>locality_name</th>\n",
       "      <th>airports_nearest</th>\n",
       "      <th>cityCenters_nearest</th>\n",
       "      <th>parks_around3000</th>\n",
       "      <th>parks_nearest</th>\n",
       "      <th>ponds_around3000</th>\n",
       "      <th>ponds_nearest</th>\n",
       "      <th>days_exposition</th>\n",
       "    </tr>\n",
       "  </thead>\n",
       "  <tbody>\n",
       "    <tr>\n",
       "      <th>0</th>\n",
       "      <td>20</td>\n",
       "      <td>13.000</td>\n",
       "      <td>108.0</td>\n",
       "      <td>2019-03-07T00:00:00</td>\n",
       "      <td>3</td>\n",
       "      <td>2.70</td>\n",
       "      <td>16.0</td>\n",
       "      <td>51.0</td>\n",
       "      <td>8</td>\n",
       "      <td>NaN</td>\n",
       "      <td>...</td>\n",
       "      <td>25.0</td>\n",
       "      <td>NaN</td>\n",
       "      <td>Санкт-Петербург</td>\n",
       "      <td>18863.0</td>\n",
       "      <td>16028.0</td>\n",
       "      <td>1.0</td>\n",
       "      <td>482.0</td>\n",
       "      <td>2.0</td>\n",
       "      <td>755.0</td>\n",
       "      <td>NaN</td>\n",
       "    </tr>\n",
       "    <tr>\n",
       "      <th>1</th>\n",
       "      <td>7</td>\n",
       "      <td>3.350</td>\n",
       "      <td>40.4</td>\n",
       "      <td>2018-12-04T00:00:00</td>\n",
       "      <td>1</td>\n",
       "      <td>NaN</td>\n",
       "      <td>11.0</td>\n",
       "      <td>18.6</td>\n",
       "      <td>1</td>\n",
       "      <td>NaN</td>\n",
       "      <td>...</td>\n",
       "      <td>11.0</td>\n",
       "      <td>2.0</td>\n",
       "      <td>посёлок Шушары</td>\n",
       "      <td>12817.0</td>\n",
       "      <td>18603.0</td>\n",
       "      <td>0.0</td>\n",
       "      <td>NaN</td>\n",
       "      <td>0.0</td>\n",
       "      <td>NaN</td>\n",
       "      <td>81.0</td>\n",
       "    </tr>\n",
       "    <tr>\n",
       "      <th>2</th>\n",
       "      <td>10</td>\n",
       "      <td>5.196</td>\n",
       "      <td>56.0</td>\n",
       "      <td>2015-08-20T00:00:00</td>\n",
       "      <td>2</td>\n",
       "      <td>NaN</td>\n",
       "      <td>5.0</td>\n",
       "      <td>34.3</td>\n",
       "      <td>4</td>\n",
       "      <td>NaN</td>\n",
       "      <td>...</td>\n",
       "      <td>8.3</td>\n",
       "      <td>0.0</td>\n",
       "      <td>Санкт-Петербург</td>\n",
       "      <td>21741.0</td>\n",
       "      <td>13933.0</td>\n",
       "      <td>1.0</td>\n",
       "      <td>90.0</td>\n",
       "      <td>2.0</td>\n",
       "      <td>574.0</td>\n",
       "      <td>558.0</td>\n",
       "    </tr>\n",
       "    <tr>\n",
       "      <th>3</th>\n",
       "      <td>0</td>\n",
       "      <td>64.900</td>\n",
       "      <td>159.0</td>\n",
       "      <td>2015-07-24T00:00:00</td>\n",
       "      <td>3</td>\n",
       "      <td>NaN</td>\n",
       "      <td>14.0</td>\n",
       "      <td>NaN</td>\n",
       "      <td>9</td>\n",
       "      <td>NaN</td>\n",
       "      <td>...</td>\n",
       "      <td>NaN</td>\n",
       "      <td>0.0</td>\n",
       "      <td>Санкт-Петербург</td>\n",
       "      <td>28098.0</td>\n",
       "      <td>6800.0</td>\n",
       "      <td>2.0</td>\n",
       "      <td>84.0</td>\n",
       "      <td>3.0</td>\n",
       "      <td>234.0</td>\n",
       "      <td>424.0</td>\n",
       "    </tr>\n",
       "    <tr>\n",
       "      <th>4</th>\n",
       "      <td>2</td>\n",
       "      <td>10.000</td>\n",
       "      <td>100.0</td>\n",
       "      <td>2018-06-19T00:00:00</td>\n",
       "      <td>2</td>\n",
       "      <td>3.03</td>\n",
       "      <td>14.0</td>\n",
       "      <td>32.0</td>\n",
       "      <td>13</td>\n",
       "      <td>NaN</td>\n",
       "      <td>...</td>\n",
       "      <td>41.0</td>\n",
       "      <td>NaN</td>\n",
       "      <td>Санкт-Петербург</td>\n",
       "      <td>31856.0</td>\n",
       "      <td>8098.0</td>\n",
       "      <td>2.0</td>\n",
       "      <td>112.0</td>\n",
       "      <td>1.0</td>\n",
       "      <td>48.0</td>\n",
       "      <td>121.0</td>\n",
       "    </tr>\n",
       "  </tbody>\n",
       "</table>\n",
       "<p>5 rows × 22 columns</p>\n",
       "</div>"
      ],
      "text/plain": [
       "   total_images  last_price_mln  total_area first_day_exposition  rooms  \\\n",
       "0            20          13.000       108.0  2019-03-07T00:00:00      3   \n",
       "1             7           3.350        40.4  2018-12-04T00:00:00      1   \n",
       "2            10           5.196        56.0  2015-08-20T00:00:00      2   \n",
       "3             0          64.900       159.0  2015-07-24T00:00:00      3   \n",
       "4             2          10.000       100.0  2018-06-19T00:00:00      2   \n",
       "\n",
       "   ceiling_height  floors_total  living_area  floor is_apartment  ...  \\\n",
       "0            2.70          16.0         51.0      8          NaN  ...   \n",
       "1             NaN          11.0         18.6      1          NaN  ...   \n",
       "2             NaN           5.0         34.3      4          NaN  ...   \n",
       "3             NaN          14.0          NaN      9          NaN  ...   \n",
       "4            3.03          14.0         32.0     13          NaN  ...   \n",
       "\n",
       "   kitchen_area  balcony    locality_name  airports_nearest  \\\n",
       "0          25.0      NaN  Санкт-Петербург           18863.0   \n",
       "1          11.0      2.0   посёлок Шушары           12817.0   \n",
       "2           8.3      0.0  Санкт-Петербург           21741.0   \n",
       "3           NaN      0.0  Санкт-Петербург           28098.0   \n",
       "4          41.0      NaN  Санкт-Петербург           31856.0   \n",
       "\n",
       "  cityCenters_nearest  parks_around3000  parks_nearest  ponds_around3000  \\\n",
       "0             16028.0               1.0          482.0               2.0   \n",
       "1             18603.0               0.0            NaN               0.0   \n",
       "2             13933.0               1.0           90.0               2.0   \n",
       "3              6800.0               2.0           84.0               3.0   \n",
       "4              8098.0               2.0          112.0               1.0   \n",
       "\n",
       "   ponds_nearest  days_exposition  \n",
       "0          755.0              NaN  \n",
       "1            NaN             81.0  \n",
       "2          574.0            558.0  \n",
       "3          234.0            424.0  \n",
       "4           48.0            121.0  \n",
       "\n",
       "[5 rows x 22 columns]"
      ]
     },
     "execution_count": 4,
     "metadata": {},
     "output_type": "execute_result"
    }
   ],
   "source": [
    "data['last_price'] = data['last_price']/1000000\n",
    "data = data.rename(columns={'last_price': 'last_price_mln'})\n",
    "data.head()"
   ]
  },
  {
   "cell_type": "markdown",
   "metadata": {},
   "source": [
    "Let's look at the pricing information one more time"
   ]
  },
  {
   "cell_type": "code",
   "execution_count": 5,
   "metadata": {},
   "outputs": [
    {
     "data": {
      "text/plain": [
       "count    23699.000000\n",
       "mean         6.541549\n",
       "std         10.887013\n",
       "min          0.012190\n",
       "25%          3.400000\n",
       "50%          4.650000\n",
       "75%          6.800000\n",
       "max        763.000000\n",
       "Name: last_price_mln, dtype: float64"
      ]
     },
     "metadata": {},
     "output_type": "display_data"
    }
   ],
   "source": [
    "display(data['last_price_mln'].describe())"
   ]
  },
  {
   "cell_type": "markdown",
   "metadata": {},
   "source": [
    "The price allocation reflect our expectations. At the same time, the extreme minimum and maximum values are not characteristic. An apartment in St. Petersburg will not cost 12 thousand, it can potentially cost 763 million, but rarely. Let's check the minimum values first."
   ]
  },
  {
   "cell_type": "code",
   "execution_count": 6,
   "metadata": {},
   "outputs": [
    {
     "data": {
      "text/plain": [
       "8793     0.01219\n",
       "17456    0.43000\n",
       "14911    0.43000\n",
       "16274    0.44000\n",
       "17676    0.45000\n",
       "16219    0.45000\n",
       "9581     0.45000\n",
       "5698     0.45000\n",
       "21912    0.47000\n",
       "18867    0.47000\n",
       "Name: last_price_mln, dtype: float64"
      ]
     },
     "execution_count": 6,
     "metadata": {},
     "output_type": "execute_result"
    }
   ],
   "source": [
    "data['last_price_mln'].sort_values().head(10)"
   ]
  },
  {
   "cell_type": "markdown",
   "metadata": {},
   "source": [
    "There is only one obvious spike. Its removal will not affect further research in any way."
   ]
  },
  {
   "cell_type": "code",
   "execution_count": 7,
   "metadata": {},
   "outputs": [],
   "source": [
    "data = data.query('last_price_mln > 0.3')"
   ]
  },
  {
   "cell_type": "markdown",
   "metadata": {},
   "source": [
    "Next, let's look at the maximum values."
   ]
  },
  {
   "cell_type": "code",
   "execution_count": 8,
   "metadata": {},
   "outputs": [
    {
     "data": {
      "text/plain": [
       "12971    763.0000\n",
       "19540    420.0000\n",
       "14706    401.3000\n",
       "1436     330.0000\n",
       "15651    300.0000\n",
       "22831    289.2384\n",
       "16461    245.0000\n",
       "13749    240.0000\n",
       "5893     230.0000\n",
       "8900     190.8700\n",
       "19865    180.0000\n",
       "19155    160.0000\n",
       "2536     159.9840\n",
       "16495    159.0000\n",
       "1026     155.0000\n",
       "7857     150.0000\n",
       "15016    150.0000\n",
       "22229    148.0000\n",
       "12859    140.0000\n",
       "3117     140.0000\n",
       "Name: last_price_mln, dtype: float64"
      ]
     },
     "execution_count": 8,
     "metadata": {},
     "output_type": "execute_result"
    }
   ],
   "source": [
    "data['last_price_mln'].sort_values(ascending=False).head(20)"
   ]
  },
  {
   "cell_type": "markdown",
   "metadata": {},
   "source": [
    "Of course, there are expensive apartments in St. Petersburg. It can be seen how the price is growing relatively smoothly, approaching the upper values. Just in case, we will check apartments worth from 200 million for their compliance with such a price."
   ]
  },
  {
   "cell_type": "code",
   "execution_count": 9,
   "metadata": {
    "scrolled": true
   },
   "outputs": [
    {
     "data": {
      "text/html": [
       "<div>\n",
       "<style scoped>\n",
       "    .dataframe tbody tr th:only-of-type {\n",
       "        vertical-align: middle;\n",
       "    }\n",
       "\n",
       "    .dataframe tbody tr th {\n",
       "        vertical-align: top;\n",
       "    }\n",
       "\n",
       "    .dataframe thead th {\n",
       "        text-align: right;\n",
       "    }\n",
       "</style>\n",
       "<table border=\"1\" class=\"dataframe\">\n",
       "  <thead>\n",
       "    <tr style=\"text-align: right;\">\n",
       "      <th></th>\n",
       "      <th>total_images</th>\n",
       "      <th>last_price_mln</th>\n",
       "      <th>total_area</th>\n",
       "      <th>first_day_exposition</th>\n",
       "      <th>rooms</th>\n",
       "      <th>ceiling_height</th>\n",
       "      <th>floors_total</th>\n",
       "      <th>living_area</th>\n",
       "      <th>floor</th>\n",
       "      <th>is_apartment</th>\n",
       "      <th>...</th>\n",
       "      <th>kitchen_area</th>\n",
       "      <th>balcony</th>\n",
       "      <th>locality_name</th>\n",
       "      <th>airports_nearest</th>\n",
       "      <th>cityCenters_nearest</th>\n",
       "      <th>parks_around3000</th>\n",
       "      <th>parks_nearest</th>\n",
       "      <th>ponds_around3000</th>\n",
       "      <th>ponds_nearest</th>\n",
       "      <th>days_exposition</th>\n",
       "    </tr>\n",
       "  </thead>\n",
       "  <tbody>\n",
       "    <tr>\n",
       "      <th>5893</th>\n",
       "      <td>3</td>\n",
       "      <td>230.0000</td>\n",
       "      <td>500.0</td>\n",
       "      <td>2017-05-31T00:00:00</td>\n",
       "      <td>6</td>\n",
       "      <td>NaN</td>\n",
       "      <td>7.0</td>\n",
       "      <td>NaN</td>\n",
       "      <td>7</td>\n",
       "      <td>NaN</td>\n",
       "      <td>...</td>\n",
       "      <td>40.0</td>\n",
       "      <td>0.0</td>\n",
       "      <td>Санкт-Петербург</td>\n",
       "      <td>32440.0</td>\n",
       "      <td>5297.0</td>\n",
       "      <td>0.0</td>\n",
       "      <td>NaN</td>\n",
       "      <td>2.0</td>\n",
       "      <td>198.0</td>\n",
       "      <td>50.0</td>\n",
       "    </tr>\n",
       "    <tr>\n",
       "      <th>13749</th>\n",
       "      <td>7</td>\n",
       "      <td>240.0000</td>\n",
       "      <td>410.0</td>\n",
       "      <td>2017-04-01T00:00:00</td>\n",
       "      <td>6</td>\n",
       "      <td>3.40</td>\n",
       "      <td>7.0</td>\n",
       "      <td>218.0</td>\n",
       "      <td>7</td>\n",
       "      <td>NaN</td>\n",
       "      <td>...</td>\n",
       "      <td>40.0</td>\n",
       "      <td>0.0</td>\n",
       "      <td>Санкт-Петербург</td>\n",
       "      <td>32440.0</td>\n",
       "      <td>5297.0</td>\n",
       "      <td>0.0</td>\n",
       "      <td>NaN</td>\n",
       "      <td>2.0</td>\n",
       "      <td>198.0</td>\n",
       "      <td>199.0</td>\n",
       "    </tr>\n",
       "    <tr>\n",
       "      <th>16461</th>\n",
       "      <td>17</td>\n",
       "      <td>245.0000</td>\n",
       "      <td>285.7</td>\n",
       "      <td>2017-04-10T00:00:00</td>\n",
       "      <td>6</td>\n",
       "      <td>3.35</td>\n",
       "      <td>7.0</td>\n",
       "      <td>182.8</td>\n",
       "      <td>4</td>\n",
       "      <td>NaN</td>\n",
       "      <td>...</td>\n",
       "      <td>29.8</td>\n",
       "      <td>NaN</td>\n",
       "      <td>Санкт-Петербург</td>\n",
       "      <td>33143.0</td>\n",
       "      <td>6235.0</td>\n",
       "      <td>3.0</td>\n",
       "      <td>400.0</td>\n",
       "      <td>3.0</td>\n",
       "      <td>140.0</td>\n",
       "      <td>249.0</td>\n",
       "    </tr>\n",
       "    <tr>\n",
       "      <th>22831</th>\n",
       "      <td>18</td>\n",
       "      <td>289.2384</td>\n",
       "      <td>187.5</td>\n",
       "      <td>2019-03-19T00:00:00</td>\n",
       "      <td>2</td>\n",
       "      <td>3.37</td>\n",
       "      <td>6.0</td>\n",
       "      <td>63.7</td>\n",
       "      <td>6</td>\n",
       "      <td>NaN</td>\n",
       "      <td>...</td>\n",
       "      <td>30.2</td>\n",
       "      <td>NaN</td>\n",
       "      <td>Санкт-Петербург</td>\n",
       "      <td>22494.0</td>\n",
       "      <td>1073.0</td>\n",
       "      <td>3.0</td>\n",
       "      <td>386.0</td>\n",
       "      <td>3.0</td>\n",
       "      <td>188.0</td>\n",
       "      <td>NaN</td>\n",
       "    </tr>\n",
       "    <tr>\n",
       "      <th>15651</th>\n",
       "      <td>20</td>\n",
       "      <td>300.0000</td>\n",
       "      <td>618.0</td>\n",
       "      <td>2017-12-18T00:00:00</td>\n",
       "      <td>7</td>\n",
       "      <td>3.40</td>\n",
       "      <td>7.0</td>\n",
       "      <td>258.0</td>\n",
       "      <td>5</td>\n",
       "      <td>NaN</td>\n",
       "      <td>...</td>\n",
       "      <td>70.0</td>\n",
       "      <td>NaN</td>\n",
       "      <td>Санкт-Петербург</td>\n",
       "      <td>32440.0</td>\n",
       "      <td>5297.0</td>\n",
       "      <td>0.0</td>\n",
       "      <td>NaN</td>\n",
       "      <td>2.0</td>\n",
       "      <td>198.0</td>\n",
       "      <td>111.0</td>\n",
       "    </tr>\n",
       "    <tr>\n",
       "      <th>1436</th>\n",
       "      <td>19</td>\n",
       "      <td>330.0000</td>\n",
       "      <td>190.0</td>\n",
       "      <td>2018-04-04T00:00:00</td>\n",
       "      <td>3</td>\n",
       "      <td>3.50</td>\n",
       "      <td>7.0</td>\n",
       "      <td>95.0</td>\n",
       "      <td>5</td>\n",
       "      <td>NaN</td>\n",
       "      <td>...</td>\n",
       "      <td>40.0</td>\n",
       "      <td>NaN</td>\n",
       "      <td>Санкт-Петербург</td>\n",
       "      <td>23011.0</td>\n",
       "      <td>1197.0</td>\n",
       "      <td>3.0</td>\n",
       "      <td>519.0</td>\n",
       "      <td>3.0</td>\n",
       "      <td>285.0</td>\n",
       "      <td>233.0</td>\n",
       "    </tr>\n",
       "    <tr>\n",
       "      <th>14706</th>\n",
       "      <td>15</td>\n",
       "      <td>401.3000</td>\n",
       "      <td>401.0</td>\n",
       "      <td>2016-02-20T00:00:00</td>\n",
       "      <td>5</td>\n",
       "      <td>NaN</td>\n",
       "      <td>9.0</td>\n",
       "      <td>204.0</td>\n",
       "      <td>9</td>\n",
       "      <td>False</td>\n",
       "      <td>...</td>\n",
       "      <td>24.0</td>\n",
       "      <td>3.0</td>\n",
       "      <td>Санкт-Петербург</td>\n",
       "      <td>21912.0</td>\n",
       "      <td>2389.0</td>\n",
       "      <td>1.0</td>\n",
       "      <td>545.0</td>\n",
       "      <td>1.0</td>\n",
       "      <td>478.0</td>\n",
       "      <td>393.0</td>\n",
       "    </tr>\n",
       "    <tr>\n",
       "      <th>19540</th>\n",
       "      <td>8</td>\n",
       "      <td>420.0000</td>\n",
       "      <td>900.0</td>\n",
       "      <td>2017-12-06T00:00:00</td>\n",
       "      <td>12</td>\n",
       "      <td>2.80</td>\n",
       "      <td>25.0</td>\n",
       "      <td>409.7</td>\n",
       "      <td>25</td>\n",
       "      <td>NaN</td>\n",
       "      <td>...</td>\n",
       "      <td>112.0</td>\n",
       "      <td>NaN</td>\n",
       "      <td>Санкт-Петербург</td>\n",
       "      <td>30706.0</td>\n",
       "      <td>7877.0</td>\n",
       "      <td>0.0</td>\n",
       "      <td>NaN</td>\n",
       "      <td>2.0</td>\n",
       "      <td>318.0</td>\n",
       "      <td>106.0</td>\n",
       "    </tr>\n",
       "    <tr>\n",
       "      <th>12971</th>\n",
       "      <td>19</td>\n",
       "      <td>763.0000</td>\n",
       "      <td>400.0</td>\n",
       "      <td>2017-09-30T00:00:00</td>\n",
       "      <td>7</td>\n",
       "      <td>NaN</td>\n",
       "      <td>10.0</td>\n",
       "      <td>250.0</td>\n",
       "      <td>10</td>\n",
       "      <td>NaN</td>\n",
       "      <td>...</td>\n",
       "      <td>NaN</td>\n",
       "      <td>2.0</td>\n",
       "      <td>Санкт-Петербург</td>\n",
       "      <td>25108.0</td>\n",
       "      <td>3956.0</td>\n",
       "      <td>1.0</td>\n",
       "      <td>530.0</td>\n",
       "      <td>3.0</td>\n",
       "      <td>756.0</td>\n",
       "      <td>33.0</td>\n",
       "    </tr>\n",
       "  </tbody>\n",
       "</table>\n",
       "<p>9 rows × 22 columns</p>\n",
       "</div>"
      ],
      "text/plain": [
       "       total_images  last_price_mln  total_area first_day_exposition  rooms  \\\n",
       "5893              3        230.0000       500.0  2017-05-31T00:00:00      6   \n",
       "13749             7        240.0000       410.0  2017-04-01T00:00:00      6   \n",
       "16461            17        245.0000       285.7  2017-04-10T00:00:00      6   \n",
       "22831            18        289.2384       187.5  2019-03-19T00:00:00      2   \n",
       "15651            20        300.0000       618.0  2017-12-18T00:00:00      7   \n",
       "1436             19        330.0000       190.0  2018-04-04T00:00:00      3   \n",
       "14706            15        401.3000       401.0  2016-02-20T00:00:00      5   \n",
       "19540             8        420.0000       900.0  2017-12-06T00:00:00     12   \n",
       "12971            19        763.0000       400.0  2017-09-30T00:00:00      7   \n",
       "\n",
       "       ceiling_height  floors_total  living_area  floor is_apartment  ...  \\\n",
       "5893              NaN           7.0          NaN      7          NaN  ...   \n",
       "13749            3.40           7.0        218.0      7          NaN  ...   \n",
       "16461            3.35           7.0        182.8      4          NaN  ...   \n",
       "22831            3.37           6.0         63.7      6          NaN  ...   \n",
       "15651            3.40           7.0        258.0      5          NaN  ...   \n",
       "1436             3.50           7.0         95.0      5          NaN  ...   \n",
       "14706             NaN           9.0        204.0      9        False  ...   \n",
       "19540            2.80          25.0        409.7     25          NaN  ...   \n",
       "12971             NaN          10.0        250.0     10          NaN  ...   \n",
       "\n",
       "       kitchen_area  balcony    locality_name  airports_nearest  \\\n",
       "5893           40.0      0.0  Санкт-Петербург           32440.0   \n",
       "13749          40.0      0.0  Санкт-Петербург           32440.0   \n",
       "16461          29.8      NaN  Санкт-Петербург           33143.0   \n",
       "22831          30.2      NaN  Санкт-Петербург           22494.0   \n",
       "15651          70.0      NaN  Санкт-Петербург           32440.0   \n",
       "1436           40.0      NaN  Санкт-Петербург           23011.0   \n",
       "14706          24.0      3.0  Санкт-Петербург           21912.0   \n",
       "19540         112.0      NaN  Санкт-Петербург           30706.0   \n",
       "12971           NaN      2.0  Санкт-Петербург           25108.0   \n",
       "\n",
       "      cityCenters_nearest  parks_around3000  parks_nearest  ponds_around3000  \\\n",
       "5893               5297.0               0.0            NaN               2.0   \n",
       "13749              5297.0               0.0            NaN               2.0   \n",
       "16461              6235.0               3.0          400.0               3.0   \n",
       "22831              1073.0               3.0          386.0               3.0   \n",
       "15651              5297.0               0.0            NaN               2.0   \n",
       "1436               1197.0               3.0          519.0               3.0   \n",
       "14706              2389.0               1.0          545.0               1.0   \n",
       "19540              7877.0               0.0            NaN               2.0   \n",
       "12971              3956.0               1.0          530.0               3.0   \n",
       "\n",
       "       ponds_nearest  days_exposition  \n",
       "5893           198.0             50.0  \n",
       "13749          198.0            199.0  \n",
       "16461          140.0            249.0  \n",
       "22831          188.0              NaN  \n",
       "15651          198.0            111.0  \n",
       "1436           285.0            233.0  \n",
       "14706          478.0            393.0  \n",
       "19540          318.0            106.0  \n",
       "12971          756.0             33.0  \n",
       "\n",
       "[9 rows x 22 columns]"
      ]
     },
     "execution_count": 9,
     "metadata": {},
     "output_type": "execute_result"
    }
   ],
   "source": [
    "data.query('last_price_mln > 200').sort_values('last_price_mln')"
   ]
  },
  {
   "cell_type": "markdown",
   "metadata": {},
   "source": [
    "The characteristics of the apartments coincide with the cost. Apparently, there are no distortions of the cost."
   ]
  },
  {
   "cell_type": "markdown",
   "metadata": {},
   "source": [
    "#### total_area"
   ]
  },
  {
   "cell_type": "markdown",
   "metadata": {},
   "source": [
    "The next column is total_area"
   ]
  },
  {
   "cell_type": "code",
   "execution_count": 10,
   "metadata": {
    "scrolled": false
   },
   "outputs": [
    {
     "data": {
      "text/plain": [
       "count    23698.000000\n",
       "mean        60.346598\n",
       "std         35.653434\n",
       "min         12.000000\n",
       "25%         40.000000\n",
       "50%         52.000000\n",
       "75%         69.875000\n",
       "max        900.000000\n",
       "Name: total_area, dtype: float64"
      ]
     },
     "metadata": {},
     "output_type": "display_data"
    }
   ],
   "source": [
    "display(data['total_area'].describe())"
   ]
  },
  {
   "cell_type": "markdown",
   "metadata": {},
   "source": [
    "The data type in the column is correct, the minimum, average and maximum values are real. There are no incorrect values in the column"
   ]
  },
  {
   "cell_type": "markdown",
   "metadata": {},
   "source": [
    "#### first_day_exposition"
   ]
  },
  {
   "cell_type": "markdown",
   "metadata": {},
   "source": [
    "The next column is first_day_exposition. In this column, the data is presented in the object format, which must be converted to datetime, discarding hours and minutes"
   ]
  },
  {
   "cell_type": "code",
   "execution_count": 11,
   "metadata": {},
   "outputs": [
    {
     "data": {
      "text/plain": [
       "0   2019-03-07\n",
       "1   2018-12-04\n",
       "2   2015-08-20\n",
       "3   2015-07-24\n",
       "4   2018-06-19\n",
       "Name: first_day_exposition, dtype: datetime64[ns]"
      ]
     },
     "execution_count": 11,
     "metadata": {},
     "output_type": "execute_result"
    }
   ],
   "source": [
    "data['first_day_exposition'] = pd.to_datetime(data['first_day_exposition'], format='%Y-%m-%d')\n",
    "data['first_day_exposition'].head()"
   ]
  },
  {
   "cell_type": "markdown",
   "metadata": {},
   "source": [
    "The format has been converted. Let's check the minimum and maximum values just in case"
   ]
  },
  {
   "cell_type": "code",
   "execution_count": 12,
   "metadata": {},
   "outputs": [
    {
     "data": {
      "text/plain": [
       "count                   23698\n",
       "unique                   1491\n",
       "top       2018-02-01 00:00:00\n",
       "freq                      368\n",
       "first     2014-11-27 00:00:00\n",
       "last      2019-05-03 00:00:00\n",
       "Name: first_day_exposition, dtype: object"
      ]
     },
     "execution_count": 12,
     "metadata": {},
     "output_type": "execute_result"
    }
   ],
   "source": [
    "data['first_day_exposition'].describe()"
   ]
  },
  {
   "cell_type": "markdown",
   "metadata": {},
   "source": [
    "Values are correct. We can move on to the next column."
   ]
  },
  {
   "cell_type": "markdown",
   "metadata": {},
   "source": [
    "#### rooms"
   ]
  },
  {
   "cell_type": "markdown",
   "metadata": {},
   "source": [
    "In the column rooms all rows are filled in, the data type matches. The only things to check are the minimum and maximum values"
   ]
  },
  {
   "cell_type": "code",
   "execution_count": 13,
   "metadata": {},
   "outputs": [
    {
     "data": {
      "text/plain": [
       "count    23698.000000\n",
       "mean         2.070639\n",
       "std          1.078428\n",
       "min          0.000000\n",
       "25%          1.000000\n",
       "50%          2.000000\n",
       "75%          3.000000\n",
       "max         19.000000\n",
       "Name: rooms, dtype: float64"
      ]
     },
     "execution_count": 13,
     "metadata": {},
     "output_type": "execute_result"
    }
   ],
   "source": [
    "data['rooms'].describe()"
   ]
  },
  {
   "cell_type": "markdown",
   "metadata": {},
   "source": [
    "The values are also fine. So we can move to the next column."
   ]
  },
  {
   "cell_type": "markdown",
   "metadata": {},
   "source": [
    "#### ceiling_height"
   ]
  },
  {
   "cell_type": "markdown",
   "metadata": {},
   "source": [
    "The ceiling_height column has the correct data type, some of the values are skipped, which is also normal, since not all indicate the height of the ceilings. Let's check the maximum and minimum values for anomalies."
   ]
  },
  {
   "cell_type": "code",
   "execution_count": 14,
   "metadata": {},
   "outputs": [
    {
     "data": {
      "text/plain": [
       "count    14503.000000\n",
       "mean         2.771500\n",
       "std          1.261099\n",
       "min          1.000000\n",
       "25%          2.520000\n",
       "50%          2.650000\n",
       "75%          2.800000\n",
       "max        100.000000\n",
       "Name: ceiling_height, dtype: float64"
      ]
     },
     "execution_count": 14,
     "metadata": {},
     "output_type": "execute_result"
    }
   ],
   "source": [
    "data['ceiling_height'].describe()"
   ]
  },
  {
   "cell_type": "markdown",
   "metadata": {},
   "source": [
    "The minimum and maximum values are incorrect. Let's look at them. Let's start with the minimum"
   ]
  },
  {
   "cell_type": "code",
   "execution_count": 15,
   "metadata": {},
   "outputs": [
    {
     "data": {
      "text/plain": [
       "22590    1.00\n",
       "5712     1.20\n",
       "16934    1.75\n",
       "11352    2.00\n",
       "19329    2.00\n",
       "22960    2.00\n",
       "20520    2.00\n",
       "4212     2.00\n",
       "19098    2.00\n",
       "5850     2.00\n",
       "Name: ceiling_height, dtype: float64"
      ]
     },
     "execution_count": 15,
     "metadata": {},
     "output_type": "execute_result"
    }
   ],
   "source": [
    "data['ceiling_height'].sort_values().head(10)"
   ]
  },
  {
   "cell_type": "markdown",
   "metadata": {},
   "source": [
    "Let's take 2 meters as the minimum bar. Only three apartments have lower ceilings. Delete these lines. They will not affect the overall sample."
   ]
  },
  {
   "cell_type": "code",
   "execution_count": 16,
   "metadata": {},
   "outputs": [
    {
     "data": {
      "text/plain": [
       "19329    2.0\n",
       "20520    2.0\n",
       "19098    2.0\n",
       "2572     2.0\n",
       "5850     2.0\n",
       "Name: ceiling_height, dtype: float64"
      ]
     },
     "execution_count": 16,
     "metadata": {},
     "output_type": "execute_result"
    }
   ],
   "source": [
    "data = data.query('ceiling_height > 1.9 or ceiling_height != ceiling_height')\n",
    "data['ceiling_height'].sort_values().head(5)"
   ]
  },
  {
   "cell_type": "markdown",
   "metadata": {},
   "source": [
    "Next, let's look at the maximum values"
   ]
  },
  {
   "cell_type": "code",
   "execution_count": 17,
   "metadata": {},
   "outputs": [
    {
     "data": {
      "text/plain": [
       "22869    100.0\n",
       "22336     32.0\n",
       "3148      32.0\n",
       "21377     27.5\n",
       "21824     27.0\n",
       "20478     27.0\n",
       "5807      27.0\n",
       "10773     27.0\n",
       "17857     27.0\n",
       "5246      27.0\n",
       "22938     27.0\n",
       "4876      27.0\n",
       "5669      26.0\n",
       "355       25.0\n",
       "9379      25.0\n",
       "6246      25.0\n",
       "4643      25.0\n",
       "14382     25.0\n",
       "11285     25.0\n",
       "18545     25.0\n",
       "5076      24.0\n",
       "20507     22.6\n",
       "17496     20.0\n",
       "15061     14.0\n",
       "22309     10.3\n",
       "5863       8.3\n",
       "17442      8.0\n",
       "15743      8.0\n",
       "3474       8.0\n",
       "20264      6.0\n",
       "Name: ceiling_height, dtype: float64"
      ]
     },
     "execution_count": 17,
     "metadata": {},
     "output_type": "execute_result"
    }
   ],
   "source": [
    "data['ceiling_height'].sort_values(ascending=False).head(30)"
   ]
  },
  {
   "cell_type": "markdown",
   "metadata": {},
   "source": [
    "There are quite a lot of incorrect values. Suppose that when specifying a height of 20 m. users put a comma in the wrong place. Divide the values by 10 and overwrite."
   ]
  },
  {
   "cell_type": "code",
   "execution_count": 18,
   "metadata": {},
   "outputs": [],
   "source": [
    "data.loc[data['ceiling_height'] > 19, 'ceiling_height'] = data.loc[data['ceiling_height'] > 19, 'ceiling_height'] / 10"
   ]
  },
  {
   "cell_type": "code",
   "execution_count": 19,
   "metadata": {},
   "outputs": [
    {
     "data": {
      "text/plain": [
       "15061    14.0\n",
       "22309    10.3\n",
       "22869    10.0\n",
       "5863      8.3\n",
       "17442     8.0\n",
       "3474      8.0\n",
       "15743     8.0\n",
       "20264     6.0\n",
       "21227     5.8\n",
       "1388      5.6\n",
       "Name: ceiling_height, dtype: float64"
      ]
     },
     "execution_count": 19,
     "metadata": {},
     "output_type": "execute_result"
    }
   ],
   "source": [
    "data['ceiling_height'].sort_values(ascending=False).head(10)"
   ]
  },
  {
   "cell_type": "markdown",
   "metadata": {},
   "source": [
    "As a result, there are 3 values above 10 meters left. It is difficult to imagine such ceilings. Delete them. Deleting 3 values will not distort the selection."
   ]
  },
  {
   "cell_type": "code",
   "execution_count": 20,
   "metadata": {},
   "outputs": [],
   "source": [
    "data = data.query('ceiling_height < 10 or ceiling_height != ceiling_height')"
   ]
  },
  {
   "cell_type": "markdown",
   "metadata": {},
   "source": [
    "#### floors_total"
   ]
  },
  {
   "cell_type": "markdown",
   "metadata": {},
   "source": [
    "The next column is floors_total. A distinctive feature of the column is the presence of a small number of NaN values. They are less than a percentage of the total. Let's look at these lines to find the relationship."
   ]
  },
  {
   "cell_type": "code",
   "execution_count": 21,
   "metadata": {
    "scrolled": true
   },
   "outputs": [
    {
     "data": {
      "text/html": [
       "<div>\n",
       "<style scoped>\n",
       "    .dataframe tbody tr th:only-of-type {\n",
       "        vertical-align: middle;\n",
       "    }\n",
       "\n",
       "    .dataframe tbody tr th {\n",
       "        vertical-align: top;\n",
       "    }\n",
       "\n",
       "    .dataframe thead th {\n",
       "        text-align: right;\n",
       "    }\n",
       "</style>\n",
       "<table border=\"1\" class=\"dataframe\">\n",
       "  <thead>\n",
       "    <tr style=\"text-align: right;\">\n",
       "      <th></th>\n",
       "      <th>total_images</th>\n",
       "      <th>last_price_mln</th>\n",
       "      <th>total_area</th>\n",
       "      <th>first_day_exposition</th>\n",
       "      <th>rooms</th>\n",
       "      <th>ceiling_height</th>\n",
       "      <th>floors_total</th>\n",
       "      <th>living_area</th>\n",
       "      <th>floor</th>\n",
       "      <th>is_apartment</th>\n",
       "      <th>...</th>\n",
       "      <th>kitchen_area</th>\n",
       "      <th>balcony</th>\n",
       "      <th>locality_name</th>\n",
       "      <th>airports_nearest</th>\n",
       "      <th>cityCenters_nearest</th>\n",
       "      <th>parks_around3000</th>\n",
       "      <th>parks_nearest</th>\n",
       "      <th>ponds_around3000</th>\n",
       "      <th>ponds_nearest</th>\n",
       "      <th>days_exposition</th>\n",
       "    </tr>\n",
       "  </thead>\n",
       "  <tbody>\n",
       "    <tr>\n",
       "      <th>186</th>\n",
       "      <td>12</td>\n",
       "      <td>11.640000</td>\n",
       "      <td>65.2</td>\n",
       "      <td>2018-10-02</td>\n",
       "      <td>2</td>\n",
       "      <td>NaN</td>\n",
       "      <td>NaN</td>\n",
       "      <td>30.80</td>\n",
       "      <td>4</td>\n",
       "      <td>NaN</td>\n",
       "      <td>...</td>\n",
       "      <td>12.00</td>\n",
       "      <td>NaN</td>\n",
       "      <td>Санкт-Петербург</td>\n",
       "      <td>39197.0</td>\n",
       "      <td>12373.0</td>\n",
       "      <td>1.0</td>\n",
       "      <td>123.0</td>\n",
       "      <td>0.0</td>\n",
       "      <td>NaN</td>\n",
       "      <td>49.0</td>\n",
       "    </tr>\n",
       "    <tr>\n",
       "      <th>237</th>\n",
       "      <td>4</td>\n",
       "      <td>2.438033</td>\n",
       "      <td>28.1</td>\n",
       "      <td>2016-11-23</td>\n",
       "      <td>1</td>\n",
       "      <td>NaN</td>\n",
       "      <td>NaN</td>\n",
       "      <td>20.75</td>\n",
       "      <td>1</td>\n",
       "      <td>NaN</td>\n",
       "      <td>...</td>\n",
       "      <td>NaN</td>\n",
       "      <td>0.0</td>\n",
       "      <td>Санкт-Петербург</td>\n",
       "      <td>22041.0</td>\n",
       "      <td>17369.0</td>\n",
       "      <td>0.0</td>\n",
       "      <td>NaN</td>\n",
       "      <td>1.0</td>\n",
       "      <td>374.0</td>\n",
       "      <td>251.0</td>\n",
       "    </tr>\n",
       "    <tr>\n",
       "      <th>457</th>\n",
       "      <td>4</td>\n",
       "      <td>9.788348</td>\n",
       "      <td>70.8</td>\n",
       "      <td>2015-08-01</td>\n",
       "      <td>2</td>\n",
       "      <td>NaN</td>\n",
       "      <td>NaN</td>\n",
       "      <td>38.40</td>\n",
       "      <td>12</td>\n",
       "      <td>NaN</td>\n",
       "      <td>...</td>\n",
       "      <td>10.63</td>\n",
       "      <td>0.0</td>\n",
       "      <td>Санкт-Петербург</td>\n",
       "      <td>37364.0</td>\n",
       "      <td>8322.0</td>\n",
       "      <td>2.0</td>\n",
       "      <td>309.0</td>\n",
       "      <td>2.0</td>\n",
       "      <td>706.0</td>\n",
       "      <td>727.0</td>\n",
       "    </tr>\n",
       "    <tr>\n",
       "      <th>671</th>\n",
       "      <td>4</td>\n",
       "      <td>6.051191</td>\n",
       "      <td>93.6</td>\n",
       "      <td>2017-04-06</td>\n",
       "      <td>3</td>\n",
       "      <td>NaN</td>\n",
       "      <td>NaN</td>\n",
       "      <td>47.10</td>\n",
       "      <td>8</td>\n",
       "      <td>NaN</td>\n",
       "      <td>...</td>\n",
       "      <td>16.80</td>\n",
       "      <td>0.0</td>\n",
       "      <td>Санкт-Петербург</td>\n",
       "      <td>22041.0</td>\n",
       "      <td>17369.0</td>\n",
       "      <td>0.0</td>\n",
       "      <td>NaN</td>\n",
       "      <td>1.0</td>\n",
       "      <td>374.0</td>\n",
       "      <td>123.0</td>\n",
       "    </tr>\n",
       "    <tr>\n",
       "      <th>1757</th>\n",
       "      <td>5</td>\n",
       "      <td>3.600000</td>\n",
       "      <td>39.0</td>\n",
       "      <td>2017-04-22</td>\n",
       "      <td>1</td>\n",
       "      <td>NaN</td>\n",
       "      <td>NaN</td>\n",
       "      <td>NaN</td>\n",
       "      <td>9</td>\n",
       "      <td>NaN</td>\n",
       "      <td>...</td>\n",
       "      <td>NaN</td>\n",
       "      <td>0.0</td>\n",
       "      <td>Санкт-Петербург</td>\n",
       "      <td>22735.0</td>\n",
       "      <td>11618.0</td>\n",
       "      <td>1.0</td>\n",
       "      <td>835.0</td>\n",
       "      <td>1.0</td>\n",
       "      <td>652.0</td>\n",
       "      <td>77.0</td>\n",
       "    </tr>\n",
       "    <tr>\n",
       "      <th>...</th>\n",
       "      <td>...</td>\n",
       "      <td>...</td>\n",
       "      <td>...</td>\n",
       "      <td>...</td>\n",
       "      <td>...</td>\n",
       "      <td>...</td>\n",
       "      <td>...</td>\n",
       "      <td>...</td>\n",
       "      <td>...</td>\n",
       "      <td>...</td>\n",
       "      <td>...</td>\n",
       "      <td>...</td>\n",
       "      <td>...</td>\n",
       "      <td>...</td>\n",
       "      <td>...</td>\n",
       "      <td>...</td>\n",
       "      <td>...</td>\n",
       "      <td>...</td>\n",
       "      <td>...</td>\n",
       "      <td>...</td>\n",
       "      <td>...</td>\n",
       "    </tr>\n",
       "    <tr>\n",
       "      <th>22542</th>\n",
       "      <td>5</td>\n",
       "      <td>8.500000</td>\n",
       "      <td>63.5</td>\n",
       "      <td>2017-05-24</td>\n",
       "      <td>2</td>\n",
       "      <td>2.8</td>\n",
       "      <td>NaN</td>\n",
       "      <td>NaN</td>\n",
       "      <td>3</td>\n",
       "      <td>NaN</td>\n",
       "      <td>...</td>\n",
       "      <td>NaN</td>\n",
       "      <td>NaN</td>\n",
       "      <td>Санкт-Петербург</td>\n",
       "      <td>51340.0</td>\n",
       "      <td>15363.0</td>\n",
       "      <td>0.0</td>\n",
       "      <td>NaN</td>\n",
       "      <td>1.0</td>\n",
       "      <td>853.0</td>\n",
       "      <td>512.0</td>\n",
       "    </tr>\n",
       "    <tr>\n",
       "      <th>22656</th>\n",
       "      <td>4</td>\n",
       "      <td>4.574160</td>\n",
       "      <td>64.5</td>\n",
       "      <td>2017-04-02</td>\n",
       "      <td>2</td>\n",
       "      <td>NaN</td>\n",
       "      <td>NaN</td>\n",
       "      <td>31.70</td>\n",
       "      <td>20</td>\n",
       "      <td>NaN</td>\n",
       "      <td>...</td>\n",
       "      <td>14.40</td>\n",
       "      <td>0.0</td>\n",
       "      <td>Санкт-Петербург</td>\n",
       "      <td>22041.0</td>\n",
       "      <td>17369.0</td>\n",
       "      <td>0.0</td>\n",
       "      <td>NaN</td>\n",
       "      <td>1.0</td>\n",
       "      <td>374.0</td>\n",
       "      <td>127.0</td>\n",
       "    </tr>\n",
       "    <tr>\n",
       "      <th>22808</th>\n",
       "      <td>0</td>\n",
       "      <td>14.569263</td>\n",
       "      <td>110.4</td>\n",
       "      <td>2016-11-20</td>\n",
       "      <td>3</td>\n",
       "      <td>NaN</td>\n",
       "      <td>NaN</td>\n",
       "      <td>45.38</td>\n",
       "      <td>6</td>\n",
       "      <td>NaN</td>\n",
       "      <td>...</td>\n",
       "      <td>23.42</td>\n",
       "      <td>0.0</td>\n",
       "      <td>Санкт-Петербург</td>\n",
       "      <td>19095.0</td>\n",
       "      <td>4529.0</td>\n",
       "      <td>0.0</td>\n",
       "      <td>NaN</td>\n",
       "      <td>0.0</td>\n",
       "      <td>NaN</td>\n",
       "      <td>260.0</td>\n",
       "    </tr>\n",
       "    <tr>\n",
       "      <th>23590</th>\n",
       "      <td>0</td>\n",
       "      <td>21.187872</td>\n",
       "      <td>123.3</td>\n",
       "      <td>2017-04-25</td>\n",
       "      <td>3</td>\n",
       "      <td>NaN</td>\n",
       "      <td>NaN</td>\n",
       "      <td>50.40</td>\n",
       "      <td>18</td>\n",
       "      <td>NaN</td>\n",
       "      <td>...</td>\n",
       "      <td>23.60</td>\n",
       "      <td>0.0</td>\n",
       "      <td>Санкт-Петербург</td>\n",
       "      <td>19095.0</td>\n",
       "      <td>4529.0</td>\n",
       "      <td>0.0</td>\n",
       "      <td>NaN</td>\n",
       "      <td>0.0</td>\n",
       "      <td>NaN</td>\n",
       "      <td>104.0</td>\n",
       "    </tr>\n",
       "    <tr>\n",
       "      <th>23658</th>\n",
       "      <td>6</td>\n",
       "      <td>3.063600</td>\n",
       "      <td>43.8</td>\n",
       "      <td>2016-11-28</td>\n",
       "      <td>1</td>\n",
       "      <td>2.7</td>\n",
       "      <td>NaN</td>\n",
       "      <td>14.00</td>\n",
       "      <td>8</td>\n",
       "      <td>NaN</td>\n",
       "      <td>...</td>\n",
       "      <td>15.50</td>\n",
       "      <td>2.0</td>\n",
       "      <td>Санкт-Петербург</td>\n",
       "      <td>8426.0</td>\n",
       "      <td>12082.0</td>\n",
       "      <td>2.0</td>\n",
       "      <td>24.0</td>\n",
       "      <td>1.0</td>\n",
       "      <td>271.0</td>\n",
       "      <td>246.0</td>\n",
       "    </tr>\n",
       "  </tbody>\n",
       "</table>\n",
       "<p>86 rows × 22 columns</p>\n",
       "</div>"
      ],
      "text/plain": [
       "       total_images  last_price_mln  total_area first_day_exposition  rooms  \\\n",
       "186              12       11.640000        65.2           2018-10-02      2   \n",
       "237               4        2.438033        28.1           2016-11-23      1   \n",
       "457               4        9.788348        70.8           2015-08-01      2   \n",
       "671               4        6.051191        93.6           2017-04-06      3   \n",
       "1757              5        3.600000        39.0           2017-04-22      1   \n",
       "...             ...             ...         ...                  ...    ...   \n",
       "22542             5        8.500000        63.5           2017-05-24      2   \n",
       "22656             4        4.574160        64.5           2017-04-02      2   \n",
       "22808             0       14.569263       110.4           2016-11-20      3   \n",
       "23590             0       21.187872       123.3           2017-04-25      3   \n",
       "23658             6        3.063600        43.8           2016-11-28      1   \n",
       "\n",
       "       ceiling_height  floors_total  living_area  floor is_apartment  ...  \\\n",
       "186               NaN           NaN        30.80      4          NaN  ...   \n",
       "237               NaN           NaN        20.75      1          NaN  ...   \n",
       "457               NaN           NaN        38.40     12          NaN  ...   \n",
       "671               NaN           NaN        47.10      8          NaN  ...   \n",
       "1757              NaN           NaN          NaN      9          NaN  ...   \n",
       "...               ...           ...          ...    ...          ...  ...   \n",
       "22542             2.8           NaN          NaN      3          NaN  ...   \n",
       "22656             NaN           NaN        31.70     20          NaN  ...   \n",
       "22808             NaN           NaN        45.38      6          NaN  ...   \n",
       "23590             NaN           NaN        50.40     18          NaN  ...   \n",
       "23658             2.7           NaN        14.00      8          NaN  ...   \n",
       "\n",
       "       kitchen_area  balcony    locality_name  airports_nearest  \\\n",
       "186           12.00      NaN  Санкт-Петербург           39197.0   \n",
       "237             NaN      0.0  Санкт-Петербург           22041.0   \n",
       "457           10.63      0.0  Санкт-Петербург           37364.0   \n",
       "671           16.80      0.0  Санкт-Петербург           22041.0   \n",
       "1757            NaN      0.0  Санкт-Петербург           22735.0   \n",
       "...             ...      ...              ...               ...   \n",
       "22542           NaN      NaN  Санкт-Петербург           51340.0   \n",
       "22656         14.40      0.0  Санкт-Петербург           22041.0   \n",
       "22808         23.42      0.0  Санкт-Петербург           19095.0   \n",
       "23590         23.60      0.0  Санкт-Петербург           19095.0   \n",
       "23658         15.50      2.0  Санкт-Петербург            8426.0   \n",
       "\n",
       "      cityCenters_nearest  parks_around3000  parks_nearest  ponds_around3000  \\\n",
       "186               12373.0               1.0          123.0               0.0   \n",
       "237               17369.0               0.0            NaN               1.0   \n",
       "457                8322.0               2.0          309.0               2.0   \n",
       "671               17369.0               0.0            NaN               1.0   \n",
       "1757              11618.0               1.0          835.0               1.0   \n",
       "...                   ...               ...            ...               ...   \n",
       "22542             15363.0               0.0            NaN               1.0   \n",
       "22656             17369.0               0.0            NaN               1.0   \n",
       "22808              4529.0               0.0            NaN               0.0   \n",
       "23590              4529.0               0.0            NaN               0.0   \n",
       "23658             12082.0               2.0           24.0               1.0   \n",
       "\n",
       "       ponds_nearest  days_exposition  \n",
       "186              NaN             49.0  \n",
       "237            374.0            251.0  \n",
       "457            706.0            727.0  \n",
       "671            374.0            123.0  \n",
       "1757           652.0             77.0  \n",
       "...              ...              ...  \n",
       "22542          853.0            512.0  \n",
       "22656          374.0            127.0  \n",
       "22808            NaN            260.0  \n",
       "23590            NaN            104.0  \n",
       "23658          271.0            246.0  \n",
       "\n",
       "[86 rows x 22 columns]"
      ]
     },
     "execution_count": 21,
     "metadata": {},
     "output_type": "execute_result"
    }
   ],
   "source": [
    "data.query('floors_total != floors_total')"
   ]
  },
  {
   "cell_type": "markdown",
   "metadata": {},
   "source": [
    "The relationship is not visible. Probably an error in the data. It will be incorrect to substitute any values here, as this may distort the values of the first/last floor. At the same time, since the lost data is less than 1% of the total sample, the complete deletion of these rows will not affect the sample. Therefore, the most optimal option would be to delete it."
   ]
  },
  {
   "cell_type": "code",
   "execution_count": 22,
   "metadata": {},
   "outputs": [],
   "source": [
    "data = data.dropna(subset=['floors_total'])"
   ]
  },
  {
   "cell_type": "code",
   "execution_count": 23,
   "metadata": {},
   "outputs": [
    {
     "data": {
      "text/html": [
       "<div>\n",
       "<style scoped>\n",
       "    .dataframe tbody tr th:only-of-type {\n",
       "        vertical-align: middle;\n",
       "    }\n",
       "\n",
       "    .dataframe tbody tr th {\n",
       "        vertical-align: top;\n",
       "    }\n",
       "\n",
       "    .dataframe thead th {\n",
       "        text-align: right;\n",
       "    }\n",
       "</style>\n",
       "<table border=\"1\" class=\"dataframe\">\n",
       "  <thead>\n",
       "    <tr style=\"text-align: right;\">\n",
       "      <th></th>\n",
       "      <th>total_images</th>\n",
       "      <th>last_price_mln</th>\n",
       "      <th>total_area</th>\n",
       "      <th>first_day_exposition</th>\n",
       "      <th>rooms</th>\n",
       "      <th>ceiling_height</th>\n",
       "      <th>floors_total</th>\n",
       "      <th>living_area</th>\n",
       "      <th>floor</th>\n",
       "      <th>is_apartment</th>\n",
       "      <th>...</th>\n",
       "      <th>kitchen_area</th>\n",
       "      <th>balcony</th>\n",
       "      <th>locality_name</th>\n",
       "      <th>airports_nearest</th>\n",
       "      <th>cityCenters_nearest</th>\n",
       "      <th>parks_around3000</th>\n",
       "      <th>parks_nearest</th>\n",
       "      <th>ponds_around3000</th>\n",
       "      <th>ponds_nearest</th>\n",
       "      <th>days_exposition</th>\n",
       "    </tr>\n",
       "  </thead>\n",
       "  <tbody>\n",
       "  </tbody>\n",
       "</table>\n",
       "<p>0 rows × 22 columns</p>\n",
       "</div>"
      ],
      "text/plain": [
       "Empty DataFrame\n",
       "Columns: [total_images, last_price_mln, total_area, first_day_exposition, rooms, ceiling_height, floors_total, living_area, floor, is_apartment, studio, open_plan, kitchen_area, balcony, locality_name, airports_nearest, cityCenters_nearest, parks_around3000, parks_nearest, ponds_around3000, ponds_nearest, days_exposition]\n",
       "Index: []\n",
       "\n",
       "[0 rows x 22 columns]"
      ]
     },
     "execution_count": 23,
     "metadata": {},
     "output_type": "execute_result"
    }
   ],
   "source": [
    "data.query('floors_total != floors_total')"
   ]
  },
  {
   "cell_type": "markdown",
   "metadata": {},
   "source": [
    "Now let's check the maximum and minimum values"
   ]
  },
  {
   "cell_type": "code",
   "execution_count": 24,
   "metadata": {
    "scrolled": true
   },
   "outputs": [
    {
     "data": {
      "text/plain": [
       "count    23606.000000\n",
       "mean        10.672287\n",
       "std          6.594789\n",
       "min          1.000000\n",
       "25%          5.000000\n",
       "50%          9.000000\n",
       "75%         16.000000\n",
       "max         60.000000\n",
       "Name: floors_total, dtype: float64"
      ]
     },
     "execution_count": 24,
     "metadata": {},
     "output_type": "execute_result"
    }
   ],
   "source": [
    "data['floors_total'].describe()"
   ]
  },
  {
   "cell_type": "markdown",
   "metadata": {},
   "source": [
    "Everything is ok with the minimum, but the maximum is too big. There are no such houses in St. Petersburg. Let's look at the upper values."
   ]
  },
  {
   "cell_type": "code",
   "execution_count": 25,
   "metadata": {},
   "outputs": [
    {
     "data": {
      "text/plain": [
       "2253     60.0\n",
       "16731    52.0\n",
       "5807     36.0\n",
       "397      36.0\n",
       "11079    36.0\n",
       "9579     35.0\n",
       "20938    35.0\n",
       "5749     35.0\n",
       "18218    35.0\n",
       "12960    35.0\n",
       "Name: floors_total, dtype: float64"
      ]
     },
     "execution_count": 25,
     "metadata": {},
     "output_type": "execute_result"
    }
   ],
   "source": [
    "data['floors_total'].sort_values(ascending=False).head(10)"
   ]
  },
  {
   "cell_type": "markdown",
   "metadata": {},
   "source": [
    "The tallest residential building in St. Petersburg is 37 floors. We will delete everything above. There are only 2 such values"
   ]
  },
  {
   "cell_type": "code",
   "execution_count": 26,
   "metadata": {},
   "outputs": [
    {
     "data": {
      "text/plain": [
       "5807     36.0\n",
       "397      36.0\n",
       "11079    36.0\n",
       "20938    35.0\n",
       "9186     35.0\n",
       "5749     35.0\n",
       "12888    35.0\n",
       "21809    35.0\n",
       "8496     35.0\n",
       "15982    35.0\n",
       "Name: floors_total, dtype: float64"
      ]
     },
     "execution_count": 26,
     "metadata": {},
     "output_type": "execute_result"
    }
   ],
   "source": [
    "data = data.query('floors_total < 38')\n",
    "data['floors_total'].sort_values(ascending=False).head(10)"
   ]
  },
  {
   "cell_type": "markdown",
   "metadata": {},
   "source": [
    "Finally, we convert floor_total to int type."
   ]
  },
  {
   "cell_type": "code",
   "execution_count": 27,
   "metadata": {},
   "outputs": [],
   "source": [
    "data['floors_total'] = data['floors_total'].astype('int')"
   ]
  },
  {
   "cell_type": "markdown",
   "metadata": {},
   "source": [
    "#### living_area"
   ]
  },
  {
   "cell_type": "markdown",
   "metadata": {},
   "source": [
    "The next column is living_area. There are also empty values in it. There are already about 2 thousand of them, so it is impossible to painlessly remove them from the dataframe. Let's check the relationship of errors:"
   ]
  },
  {
   "cell_type": "code",
   "execution_count": 28,
   "metadata": {
    "scrolled": true
   },
   "outputs": [
    {
     "data": {
      "text/html": [
       "<div>\n",
       "<style scoped>\n",
       "    .dataframe tbody tr th:only-of-type {\n",
       "        vertical-align: middle;\n",
       "    }\n",
       "\n",
       "    .dataframe tbody tr th {\n",
       "        vertical-align: top;\n",
       "    }\n",
       "\n",
       "    .dataframe thead th {\n",
       "        text-align: right;\n",
       "    }\n",
       "</style>\n",
       "<table border=\"1\" class=\"dataframe\">\n",
       "  <thead>\n",
       "    <tr style=\"text-align: right;\">\n",
       "      <th></th>\n",
       "      <th>total_images</th>\n",
       "      <th>last_price_mln</th>\n",
       "      <th>total_area</th>\n",
       "      <th>first_day_exposition</th>\n",
       "      <th>rooms</th>\n",
       "      <th>ceiling_height</th>\n",
       "      <th>floors_total</th>\n",
       "      <th>living_area</th>\n",
       "      <th>floor</th>\n",
       "      <th>is_apartment</th>\n",
       "      <th>...</th>\n",
       "      <th>kitchen_area</th>\n",
       "      <th>balcony</th>\n",
       "      <th>locality_name</th>\n",
       "      <th>airports_nearest</th>\n",
       "      <th>cityCenters_nearest</th>\n",
       "      <th>parks_around3000</th>\n",
       "      <th>parks_nearest</th>\n",
       "      <th>ponds_around3000</th>\n",
       "      <th>ponds_nearest</th>\n",
       "      <th>days_exposition</th>\n",
       "    </tr>\n",
       "  </thead>\n",
       "  <tbody>\n",
       "    <tr>\n",
       "      <th>3</th>\n",
       "      <td>0</td>\n",
       "      <td>64.900</td>\n",
       "      <td>159.00</td>\n",
       "      <td>2015-07-24</td>\n",
       "      <td>3</td>\n",
       "      <td>NaN</td>\n",
       "      <td>14</td>\n",
       "      <td>NaN</td>\n",
       "      <td>9</td>\n",
       "      <td>NaN</td>\n",
       "      <td>...</td>\n",
       "      <td>NaN</td>\n",
       "      <td>0.0</td>\n",
       "      <td>Санкт-Петербург</td>\n",
       "      <td>28098.0</td>\n",
       "      <td>6800.0</td>\n",
       "      <td>2.0</td>\n",
       "      <td>84.0</td>\n",
       "      <td>3.0</td>\n",
       "      <td>234.0</td>\n",
       "      <td>424.0</td>\n",
       "    </tr>\n",
       "    <tr>\n",
       "      <th>7</th>\n",
       "      <td>5</td>\n",
       "      <td>7.915</td>\n",
       "      <td>71.60</td>\n",
       "      <td>2019-04-18</td>\n",
       "      <td>2</td>\n",
       "      <td>NaN</td>\n",
       "      <td>24</td>\n",
       "      <td>NaN</td>\n",
       "      <td>22</td>\n",
       "      <td>NaN</td>\n",
       "      <td>...</td>\n",
       "      <td>18.9</td>\n",
       "      <td>2.0</td>\n",
       "      <td>Санкт-Петербург</td>\n",
       "      <td>23982.0</td>\n",
       "      <td>11634.0</td>\n",
       "      <td>0.0</td>\n",
       "      <td>NaN</td>\n",
       "      <td>0.0</td>\n",
       "      <td>NaN</td>\n",
       "      <td>NaN</td>\n",
       "    </tr>\n",
       "    <tr>\n",
       "      <th>30</th>\n",
       "      <td>12</td>\n",
       "      <td>2.200</td>\n",
       "      <td>32.80</td>\n",
       "      <td>2018-02-19</td>\n",
       "      <td>1</td>\n",
       "      <td>NaN</td>\n",
       "      <td>9</td>\n",
       "      <td>NaN</td>\n",
       "      <td>2</td>\n",
       "      <td>NaN</td>\n",
       "      <td>...</td>\n",
       "      <td>NaN</td>\n",
       "      <td>NaN</td>\n",
       "      <td>Коммунар</td>\n",
       "      <td>NaN</td>\n",
       "      <td>NaN</td>\n",
       "      <td>NaN</td>\n",
       "      <td>NaN</td>\n",
       "      <td>NaN</td>\n",
       "      <td>NaN</td>\n",
       "      <td>63.0</td>\n",
       "    </tr>\n",
       "    <tr>\n",
       "      <th>37</th>\n",
       "      <td>10</td>\n",
       "      <td>1.990</td>\n",
       "      <td>45.80</td>\n",
       "      <td>2017-10-28</td>\n",
       "      <td>2</td>\n",
       "      <td>2.50</td>\n",
       "      <td>5</td>\n",
       "      <td>NaN</td>\n",
       "      <td>1</td>\n",
       "      <td>NaN</td>\n",
       "      <td>...</td>\n",
       "      <td>NaN</td>\n",
       "      <td>NaN</td>\n",
       "      <td>поселок городского типа Красный Бор</td>\n",
       "      <td>NaN</td>\n",
       "      <td>NaN</td>\n",
       "      <td>NaN</td>\n",
       "      <td>NaN</td>\n",
       "      <td>NaN</td>\n",
       "      <td>NaN</td>\n",
       "      <td>196.0</td>\n",
       "    </tr>\n",
       "    <tr>\n",
       "      <th>44</th>\n",
       "      <td>13</td>\n",
       "      <td>5.350</td>\n",
       "      <td>40.00</td>\n",
       "      <td>2018-11-18</td>\n",
       "      <td>1</td>\n",
       "      <td>NaN</td>\n",
       "      <td>22</td>\n",
       "      <td>NaN</td>\n",
       "      <td>3</td>\n",
       "      <td>NaN</td>\n",
       "      <td>...</td>\n",
       "      <td>NaN</td>\n",
       "      <td>1.0</td>\n",
       "      <td>Санкт-Петербург</td>\n",
       "      <td>30471.0</td>\n",
       "      <td>11603.0</td>\n",
       "      <td>1.0</td>\n",
       "      <td>620.0</td>\n",
       "      <td>1.0</td>\n",
       "      <td>1152.0</td>\n",
       "      <td>NaN</td>\n",
       "    </tr>\n",
       "    <tr>\n",
       "      <th>...</th>\n",
       "      <td>...</td>\n",
       "      <td>...</td>\n",
       "      <td>...</td>\n",
       "      <td>...</td>\n",
       "      <td>...</td>\n",
       "      <td>...</td>\n",
       "      <td>...</td>\n",
       "      <td>...</td>\n",
       "      <td>...</td>\n",
       "      <td>...</td>\n",
       "      <td>...</td>\n",
       "      <td>...</td>\n",
       "      <td>...</td>\n",
       "      <td>...</td>\n",
       "      <td>...</td>\n",
       "      <td>...</td>\n",
       "      <td>...</td>\n",
       "      <td>...</td>\n",
       "      <td>...</td>\n",
       "      <td>...</td>\n",
       "      <td>...</td>\n",
       "    </tr>\n",
       "    <tr>\n",
       "      <th>23642</th>\n",
       "      <td>14</td>\n",
       "      <td>5.950</td>\n",
       "      <td>80.30</td>\n",
       "      <td>2018-07-03</td>\n",
       "      <td>3</td>\n",
       "      <td>2.70</td>\n",
       "      <td>12</td>\n",
       "      <td>NaN</td>\n",
       "      <td>5</td>\n",
       "      <td>NaN</td>\n",
       "      <td>...</td>\n",
       "      <td>NaN</td>\n",
       "      <td>NaN</td>\n",
       "      <td>Колпино</td>\n",
       "      <td>27933.0</td>\n",
       "      <td>33719.0</td>\n",
       "      <td>0.0</td>\n",
       "      <td>NaN</td>\n",
       "      <td>2.0</td>\n",
       "      <td>562.0</td>\n",
       "      <td>60.0</td>\n",
       "    </tr>\n",
       "    <tr>\n",
       "      <th>23663</th>\n",
       "      <td>12</td>\n",
       "      <td>6.400</td>\n",
       "      <td>88.00</td>\n",
       "      <td>2018-01-12</td>\n",
       "      <td>4</td>\n",
       "      <td>2.55</td>\n",
       "      <td>10</td>\n",
       "      <td>NaN</td>\n",
       "      <td>1</td>\n",
       "      <td>NaN</td>\n",
       "      <td>...</td>\n",
       "      <td>NaN</td>\n",
       "      <td>NaN</td>\n",
       "      <td>Санкт-Петербург</td>\n",
       "      <td>33642.0</td>\n",
       "      <td>13943.0</td>\n",
       "      <td>0.0</td>\n",
       "      <td>NaN</td>\n",
       "      <td>2.0</td>\n",
       "      <td>844.0</td>\n",
       "      <td>59.0</td>\n",
       "    </tr>\n",
       "    <tr>\n",
       "      <th>23670</th>\n",
       "      <td>9</td>\n",
       "      <td>2.450</td>\n",
       "      <td>45.60</td>\n",
       "      <td>2018-02-08</td>\n",
       "      <td>1</td>\n",
       "      <td>2.80</td>\n",
       "      <td>9</td>\n",
       "      <td>NaN</td>\n",
       "      <td>2</td>\n",
       "      <td>NaN</td>\n",
       "      <td>...</td>\n",
       "      <td>NaN</td>\n",
       "      <td>NaN</td>\n",
       "      <td>поселок городского типа Синявино</td>\n",
       "      <td>NaN</td>\n",
       "      <td>NaN</td>\n",
       "      <td>NaN</td>\n",
       "      <td>NaN</td>\n",
       "      <td>NaN</td>\n",
       "      <td>NaN</td>\n",
       "      <td>45.0</td>\n",
       "    </tr>\n",
       "    <tr>\n",
       "      <th>23679</th>\n",
       "      <td>0</td>\n",
       "      <td>2.500</td>\n",
       "      <td>35.00</td>\n",
       "      <td>2017-12-08</td>\n",
       "      <td>1</td>\n",
       "      <td>NaN</td>\n",
       "      <td>9</td>\n",
       "      <td>NaN</td>\n",
       "      <td>4</td>\n",
       "      <td>NaN</td>\n",
       "      <td>...</td>\n",
       "      <td>NaN</td>\n",
       "      <td>NaN</td>\n",
       "      <td>Сосновый Бор</td>\n",
       "      <td>NaN</td>\n",
       "      <td>NaN</td>\n",
       "      <td>NaN</td>\n",
       "      <td>NaN</td>\n",
       "      <td>NaN</td>\n",
       "      <td>NaN</td>\n",
       "      <td>45.0</td>\n",
       "    </tr>\n",
       "    <tr>\n",
       "      <th>23697</th>\n",
       "      <td>13</td>\n",
       "      <td>11.475</td>\n",
       "      <td>76.75</td>\n",
       "      <td>2017-03-28</td>\n",
       "      <td>2</td>\n",
       "      <td>3.00</td>\n",
       "      <td>17</td>\n",
       "      <td>NaN</td>\n",
       "      <td>12</td>\n",
       "      <td>NaN</td>\n",
       "      <td>...</td>\n",
       "      <td>23.3</td>\n",
       "      <td>2.0</td>\n",
       "      <td>Санкт-Петербург</td>\n",
       "      <td>39140.0</td>\n",
       "      <td>10364.0</td>\n",
       "      <td>2.0</td>\n",
       "      <td>173.0</td>\n",
       "      <td>3.0</td>\n",
       "      <td>196.0</td>\n",
       "      <td>602.0</td>\n",
       "    </tr>\n",
       "  </tbody>\n",
       "</table>\n",
       "<p>1870 rows × 22 columns</p>\n",
       "</div>"
      ],
      "text/plain": [
       "       total_images  last_price_mln  total_area first_day_exposition  rooms  \\\n",
       "3                 0          64.900      159.00           2015-07-24      3   \n",
       "7                 5           7.915       71.60           2019-04-18      2   \n",
       "30               12           2.200       32.80           2018-02-19      1   \n",
       "37               10           1.990       45.80           2017-10-28      2   \n",
       "44               13           5.350       40.00           2018-11-18      1   \n",
       "...             ...             ...         ...                  ...    ...   \n",
       "23642            14           5.950       80.30           2018-07-03      3   \n",
       "23663            12           6.400       88.00           2018-01-12      4   \n",
       "23670             9           2.450       45.60           2018-02-08      1   \n",
       "23679             0           2.500       35.00           2017-12-08      1   \n",
       "23697            13          11.475       76.75           2017-03-28      2   \n",
       "\n",
       "       ceiling_height  floors_total  living_area  floor is_apartment  ...  \\\n",
       "3                 NaN            14          NaN      9          NaN  ...   \n",
       "7                 NaN            24          NaN     22          NaN  ...   \n",
       "30                NaN             9          NaN      2          NaN  ...   \n",
       "37               2.50             5          NaN      1          NaN  ...   \n",
       "44                NaN            22          NaN      3          NaN  ...   \n",
       "...               ...           ...          ...    ...          ...  ...   \n",
       "23642            2.70            12          NaN      5          NaN  ...   \n",
       "23663            2.55            10          NaN      1          NaN  ...   \n",
       "23670            2.80             9          NaN      2          NaN  ...   \n",
       "23679             NaN             9          NaN      4          NaN  ...   \n",
       "23697            3.00            17          NaN     12          NaN  ...   \n",
       "\n",
       "       kitchen_area  balcony                        locality_name  \\\n",
       "3               NaN      0.0                      Санкт-Петербург   \n",
       "7              18.9      2.0                      Санкт-Петербург   \n",
       "30              NaN      NaN                             Коммунар   \n",
       "37              NaN      NaN  поселок городского типа Красный Бор   \n",
       "44              NaN      1.0                      Санкт-Петербург   \n",
       "...             ...      ...                                  ...   \n",
       "23642           NaN      NaN                              Колпино   \n",
       "23663           NaN      NaN                      Санкт-Петербург   \n",
       "23670           NaN      NaN     поселок городского типа Синявино   \n",
       "23679           NaN      NaN                         Сосновый Бор   \n",
       "23697          23.3      2.0                      Санкт-Петербург   \n",
       "\n",
       "       airports_nearest cityCenters_nearest  parks_around3000  parks_nearest  \\\n",
       "3               28098.0              6800.0               2.0           84.0   \n",
       "7               23982.0             11634.0               0.0            NaN   \n",
       "30                  NaN                 NaN               NaN            NaN   \n",
       "37                  NaN                 NaN               NaN            NaN   \n",
       "44              30471.0             11603.0               1.0          620.0   \n",
       "...                 ...                 ...               ...            ...   \n",
       "23642           27933.0             33719.0               0.0            NaN   \n",
       "23663           33642.0             13943.0               0.0            NaN   \n",
       "23670               NaN                 NaN               NaN            NaN   \n",
       "23679               NaN                 NaN               NaN            NaN   \n",
       "23697           39140.0             10364.0               2.0          173.0   \n",
       "\n",
       "       ponds_around3000  ponds_nearest  days_exposition  \n",
       "3                   3.0          234.0            424.0  \n",
       "7                   0.0            NaN              NaN  \n",
       "30                  NaN            NaN             63.0  \n",
       "37                  NaN            NaN            196.0  \n",
       "44                  1.0         1152.0              NaN  \n",
       "...                 ...            ...              ...  \n",
       "23642               2.0          562.0             60.0  \n",
       "23663               2.0          844.0             59.0  \n",
       "23670               NaN            NaN             45.0  \n",
       "23679               NaN            NaN             45.0  \n",
       "23697               3.0          196.0            602.0  \n",
       "\n",
       "[1870 rows x 22 columns]"
      ]
     },
     "execution_count": 28,
     "metadata": {},
     "output_type": "execute_result"
    }
   ],
   "source": [
    "data.query('living_area != living_area')"
   ]
  },
  {
   "cell_type": "markdown",
   "metadata": {},
   "source": [
    "No correlations were found. We will restore the data by linking them to others. Let's look at the correlation of living_area with the total_area and rooms columns, having previously created a variable without Nan values of living_area:"
   ]
  },
  {
   "cell_type": "code",
   "execution_count": 29,
   "metadata": {},
   "outputs": [
    {
     "data": {
      "text/plain": [
       "0.939825003082085"
      ]
     },
     "metadata": {},
     "output_type": "display_data"
    },
    {
     "data": {
      "text/plain": [
       "0.8459837723157179"
      ]
     },
     "execution_count": 29,
     "metadata": {},
     "output_type": "execute_result"
    }
   ],
   "source": [
    "not_nan_living_area = data.query('living_area == living_area')\n",
    "display(not_nan_living_area['living_area'].corr(not_nan_living_area['total_area']))\n",
    "not_nan_living_area['living_area'].corr(not_nan_living_area['rooms'])"
   ]
  },
  {
   "cell_type": "markdown",
   "metadata": {},
   "source": [
    "It can be seen that the best candidate for which living_area values can be restored is total_area. Let 's calculate the ratio of the values"
   ]
  },
  {
   "cell_type": "code",
   "execution_count": 30,
   "metadata": {},
   "outputs": [
    {
     "data": {
      "text/plain": [
       "0.5737038465027144"
      ]
     },
     "execution_count": 30,
     "metadata": {},
     "output_type": "execute_result"
    }
   ],
   "source": [
    "not_nan_living_area['living_area'].mean() / not_nan_living_area['total_area'].mean()"
   ]
  },
  {
   "cell_type": "markdown",
   "metadata": {},
   "source": [
    "Now, instead of Nan, insert the living_area values, the total_area values multiplied by 0.57 and rounded to two decimal places"
   ]
  },
  {
   "cell_type": "code",
   "execution_count": 31,
   "metadata": {},
   "outputs": [],
   "source": [
    "data.loc[data['living_area'] != data['living_area'],\n",
    "         'living_area'] = data.loc[data['living_area'] != data['living_area'], 'total_area'] * 0.57\n",
    "data = data.round({'living_area':2})"
   ]
  },
  {
   "cell_type": "markdown",
   "metadata": {},
   "source": [
    "Let's check the result. We had an empty value in the row with index 3"
   ]
  },
  {
   "cell_type": "code",
   "execution_count": 32,
   "metadata": {
    "scrolled": true
   },
   "outputs": [
    {
     "data": {
      "text/html": [
       "<div>\n",
       "<style scoped>\n",
       "    .dataframe tbody tr th:only-of-type {\n",
       "        vertical-align: middle;\n",
       "    }\n",
       "\n",
       "    .dataframe tbody tr th {\n",
       "        vertical-align: top;\n",
       "    }\n",
       "\n",
       "    .dataframe thead th {\n",
       "        text-align: right;\n",
       "    }\n",
       "</style>\n",
       "<table border=\"1\" class=\"dataframe\">\n",
       "  <thead>\n",
       "    <tr style=\"text-align: right;\">\n",
       "      <th></th>\n",
       "      <th>total_images</th>\n",
       "      <th>last_price_mln</th>\n",
       "      <th>total_area</th>\n",
       "      <th>first_day_exposition</th>\n",
       "      <th>rooms</th>\n",
       "      <th>ceiling_height</th>\n",
       "      <th>floors_total</th>\n",
       "      <th>living_area</th>\n",
       "      <th>floor</th>\n",
       "      <th>is_apartment</th>\n",
       "      <th>...</th>\n",
       "      <th>kitchen_area</th>\n",
       "      <th>balcony</th>\n",
       "      <th>locality_name</th>\n",
       "      <th>airports_nearest</th>\n",
       "      <th>cityCenters_nearest</th>\n",
       "      <th>parks_around3000</th>\n",
       "      <th>parks_nearest</th>\n",
       "      <th>ponds_around3000</th>\n",
       "      <th>ponds_nearest</th>\n",
       "      <th>days_exposition</th>\n",
       "    </tr>\n",
       "  </thead>\n",
       "  <tbody>\n",
       "    <tr>\n",
       "      <th>0</th>\n",
       "      <td>20</td>\n",
       "      <td>13.000</td>\n",
       "      <td>108.0</td>\n",
       "      <td>2019-03-07</td>\n",
       "      <td>3</td>\n",
       "      <td>2.70</td>\n",
       "      <td>16</td>\n",
       "      <td>51.00</td>\n",
       "      <td>8</td>\n",
       "      <td>NaN</td>\n",
       "      <td>...</td>\n",
       "      <td>25.0</td>\n",
       "      <td>NaN</td>\n",
       "      <td>Санкт-Петербург</td>\n",
       "      <td>18863.0</td>\n",
       "      <td>16028.0</td>\n",
       "      <td>1.0</td>\n",
       "      <td>482.0</td>\n",
       "      <td>2.0</td>\n",
       "      <td>755.0</td>\n",
       "      <td>NaN</td>\n",
       "    </tr>\n",
       "    <tr>\n",
       "      <th>1</th>\n",
       "      <td>7</td>\n",
       "      <td>3.350</td>\n",
       "      <td>40.4</td>\n",
       "      <td>2018-12-04</td>\n",
       "      <td>1</td>\n",
       "      <td>NaN</td>\n",
       "      <td>11</td>\n",
       "      <td>18.60</td>\n",
       "      <td>1</td>\n",
       "      <td>NaN</td>\n",
       "      <td>...</td>\n",
       "      <td>11.0</td>\n",
       "      <td>2.0</td>\n",
       "      <td>посёлок Шушары</td>\n",
       "      <td>12817.0</td>\n",
       "      <td>18603.0</td>\n",
       "      <td>0.0</td>\n",
       "      <td>NaN</td>\n",
       "      <td>0.0</td>\n",
       "      <td>NaN</td>\n",
       "      <td>81.0</td>\n",
       "    </tr>\n",
       "    <tr>\n",
       "      <th>2</th>\n",
       "      <td>10</td>\n",
       "      <td>5.196</td>\n",
       "      <td>56.0</td>\n",
       "      <td>2015-08-20</td>\n",
       "      <td>2</td>\n",
       "      <td>NaN</td>\n",
       "      <td>5</td>\n",
       "      <td>34.30</td>\n",
       "      <td>4</td>\n",
       "      <td>NaN</td>\n",
       "      <td>...</td>\n",
       "      <td>8.3</td>\n",
       "      <td>0.0</td>\n",
       "      <td>Санкт-Петербург</td>\n",
       "      <td>21741.0</td>\n",
       "      <td>13933.0</td>\n",
       "      <td>1.0</td>\n",
       "      <td>90.0</td>\n",
       "      <td>2.0</td>\n",
       "      <td>574.0</td>\n",
       "      <td>558.0</td>\n",
       "    </tr>\n",
       "    <tr>\n",
       "      <th>3</th>\n",
       "      <td>0</td>\n",
       "      <td>64.900</td>\n",
       "      <td>159.0</td>\n",
       "      <td>2015-07-24</td>\n",
       "      <td>3</td>\n",
       "      <td>NaN</td>\n",
       "      <td>14</td>\n",
       "      <td>90.63</td>\n",
       "      <td>9</td>\n",
       "      <td>NaN</td>\n",
       "      <td>...</td>\n",
       "      <td>NaN</td>\n",
       "      <td>0.0</td>\n",
       "      <td>Санкт-Петербург</td>\n",
       "      <td>28098.0</td>\n",
       "      <td>6800.0</td>\n",
       "      <td>2.0</td>\n",
       "      <td>84.0</td>\n",
       "      <td>3.0</td>\n",
       "      <td>234.0</td>\n",
       "      <td>424.0</td>\n",
       "    </tr>\n",
       "    <tr>\n",
       "      <th>4</th>\n",
       "      <td>2</td>\n",
       "      <td>10.000</td>\n",
       "      <td>100.0</td>\n",
       "      <td>2018-06-19</td>\n",
       "      <td>2</td>\n",
       "      <td>3.03</td>\n",
       "      <td>14</td>\n",
       "      <td>32.00</td>\n",
       "      <td>13</td>\n",
       "      <td>NaN</td>\n",
       "      <td>...</td>\n",
       "      <td>41.0</td>\n",
       "      <td>NaN</td>\n",
       "      <td>Санкт-Петербург</td>\n",
       "      <td>31856.0</td>\n",
       "      <td>8098.0</td>\n",
       "      <td>2.0</td>\n",
       "      <td>112.0</td>\n",
       "      <td>1.0</td>\n",
       "      <td>48.0</td>\n",
       "      <td>121.0</td>\n",
       "    </tr>\n",
       "  </tbody>\n",
       "</table>\n",
       "<p>5 rows × 22 columns</p>\n",
       "</div>"
      ],
      "text/plain": [
       "   total_images  last_price_mln  total_area first_day_exposition  rooms  \\\n",
       "0            20          13.000       108.0           2019-03-07      3   \n",
       "1             7           3.350        40.4           2018-12-04      1   \n",
       "2            10           5.196        56.0           2015-08-20      2   \n",
       "3             0          64.900       159.0           2015-07-24      3   \n",
       "4             2          10.000       100.0           2018-06-19      2   \n",
       "\n",
       "   ceiling_height  floors_total  living_area  floor is_apartment  ...  \\\n",
       "0            2.70            16        51.00      8          NaN  ...   \n",
       "1             NaN            11        18.60      1          NaN  ...   \n",
       "2             NaN             5        34.30      4          NaN  ...   \n",
       "3             NaN            14        90.63      9          NaN  ...   \n",
       "4            3.03            14        32.00     13          NaN  ...   \n",
       "\n",
       "   kitchen_area  balcony    locality_name  airports_nearest  \\\n",
       "0          25.0      NaN  Санкт-Петербург           18863.0   \n",
       "1          11.0      2.0   посёлок Шушары           12817.0   \n",
       "2           8.3      0.0  Санкт-Петербург           21741.0   \n",
       "3           NaN      0.0  Санкт-Петербург           28098.0   \n",
       "4          41.0      NaN  Санкт-Петербург           31856.0   \n",
       "\n",
       "  cityCenters_nearest  parks_around3000  parks_nearest  ponds_around3000  \\\n",
       "0             16028.0               1.0          482.0               2.0   \n",
       "1             18603.0               0.0            NaN               0.0   \n",
       "2             13933.0               1.0           90.0               2.0   \n",
       "3              6800.0               2.0           84.0               3.0   \n",
       "4              8098.0               2.0          112.0               1.0   \n",
       "\n",
       "   ponds_nearest  days_exposition  \n",
       "0          755.0              NaN  \n",
       "1            NaN             81.0  \n",
       "2          574.0            558.0  \n",
       "3          234.0            424.0  \n",
       "4           48.0            121.0  \n",
       "\n",
       "[5 rows x 22 columns]"
      ]
     },
     "metadata": {},
     "output_type": "display_data"
    },
    {
     "name": "stdout",
     "output_type": "stream",
     "text": [
      "<class 'pandas.core.frame.DataFrame'>\n",
      "Int64Index: 23604 entries, 0 to 23698\n",
      "Data columns (total 22 columns):\n",
      " #   Column                Non-Null Count  Dtype         \n",
      "---  ------                --------------  -----         \n",
      " 0   total_images          23604 non-null  int64         \n",
      " 1   last_price_mln        23604 non-null  float64       \n",
      " 2   total_area            23604 non-null  float64       \n",
      " 3   first_day_exposition  23604 non-null  datetime64[ns]\n",
      " 4   rooms                 23604 non-null  int64         \n",
      " 5   ceiling_height        14486 non-null  float64       \n",
      " 6   floors_total          23604 non-null  int32         \n",
      " 7   living_area           23604 non-null  float64       \n",
      " 8   floor                 23604 non-null  int64         \n",
      " 9   is_apartment          2774 non-null   object        \n",
      " 10  studio                23604 non-null  bool          \n",
      " 11  open_plan             23604 non-null  bool          \n",
      " 12  kitchen_area          21374 non-null  float64       \n",
      " 13  balcony               12131 non-null  float64       \n",
      " 14  locality_name         23556 non-null  object        \n",
      " 15  airports_nearest      18073 non-null  float64       \n",
      " 16  cityCenters_nearest   18096 non-null  float64       \n",
      " 17  parks_around3000      18097 non-null  float64       \n",
      " 18  parks_nearest         8039 non-null   float64       \n",
      " 19  ponds_around3000      18097 non-null  float64       \n",
      " 20  ponds_nearest         9056 non-null   float64       \n",
      " 21  days_exposition       20432 non-null  float64       \n",
      "dtypes: bool(2), datetime64[ns](1), float64(13), int32(1), int64(3), object(2)\n",
      "memory usage: 3.7+ MB\n"
     ]
    },
    {
     "data": {
      "text/plain": [
       "None"
      ]
     },
     "metadata": {},
     "output_type": "display_data"
    }
   ],
   "source": [
    "display(data. head())\n",
    "display(data.info())"
   ]
  },
  {
   "cell_type": "markdown",
   "metadata": {},
   "source": [
    "Everything is calculated correctly. Another point that should not be - the living area cannot be larger than the total area. Let's check if there are such lines:"
   ]
  },
  {
   "cell_type": "code",
   "execution_count": 33,
   "metadata": {
    "scrolled": true
   },
   "outputs": [
    {
     "data": {
      "text/html": [
       "<div>\n",
       "<style scoped>\n",
       "    .dataframe tbody tr th:only-of-type {\n",
       "        vertical-align: middle;\n",
       "    }\n",
       "\n",
       "    .dataframe tbody tr th {\n",
       "        vertical-align: top;\n",
       "    }\n",
       "\n",
       "    .dataframe thead th {\n",
       "        text-align: right;\n",
       "    }\n",
       "</style>\n",
       "<table border=\"1\" class=\"dataframe\">\n",
       "  <thead>\n",
       "    <tr style=\"text-align: right;\">\n",
       "      <th></th>\n",
       "      <th>total_images</th>\n",
       "      <th>last_price_mln</th>\n",
       "      <th>total_area</th>\n",
       "      <th>first_day_exposition</th>\n",
       "      <th>rooms</th>\n",
       "      <th>ceiling_height</th>\n",
       "      <th>floors_total</th>\n",
       "      <th>living_area</th>\n",
       "      <th>floor</th>\n",
       "      <th>is_apartment</th>\n",
       "      <th>...</th>\n",
       "      <th>kitchen_area</th>\n",
       "      <th>balcony</th>\n",
       "      <th>locality_name</th>\n",
       "      <th>airports_nearest</th>\n",
       "      <th>cityCenters_nearest</th>\n",
       "      <th>parks_around3000</th>\n",
       "      <th>parks_nearest</th>\n",
       "      <th>ponds_around3000</th>\n",
       "      <th>ponds_nearest</th>\n",
       "      <th>days_exposition</th>\n",
       "    </tr>\n",
       "  </thead>\n",
       "  <tbody>\n",
       "  </tbody>\n",
       "</table>\n",
       "<p>0 rows × 22 columns</p>\n",
       "</div>"
      ],
      "text/plain": [
       "Empty DataFrame\n",
       "Columns: [total_images, last_price_mln, total_area, first_day_exposition, rooms, ceiling_height, floors_total, living_area, floor, is_apartment, studio, open_plan, kitchen_area, balcony, locality_name, airports_nearest, cityCenters_nearest, parks_around3000, parks_nearest, ponds_around3000, ponds_nearest, days_exposition]\n",
       "Index: []\n",
       "\n",
       "[0 rows x 22 columns]"
      ]
     },
     "execution_count": 33,
     "metadata": {},
     "output_type": "execute_result"
    }
   ],
   "source": [
    "data.query('living_area > total_area')"
   ]
  },
  {
   "cell_type": "markdown",
   "metadata": {},
   "source": [
    "There are no such lines. So we can move on to floor. In this column, all values are filled in, the type is correct. The only thing that can be wrong is the floor is higher than the total floors in the building. Let's check if there are such lines:"
   ]
  },
  {
   "cell_type": "code",
   "execution_count": 34,
   "metadata": {
    "scrolled": true
   },
   "outputs": [
    {
     "data": {
      "text/plain": [
       "0"
      ]
     },
     "metadata": {},
     "output_type": "display_data"
    }
   ],
   "source": [
    "display((data['floor'] > data['floors_total']).sum())"
   ]
  },
  {
   "cell_type": "markdown",
   "metadata": {},
   "source": [
    "There are no such lines, as in the previous case."
   ]
  },
  {
   "cell_type": "markdown",
   "metadata": {},
   "source": [
    "#### is_apartment"
   ]
  },
  {
   "cell_type": "markdown",
   "metadata": {},
   "source": [
    "The next column is_apartment. Most likely, the missing values tell us that the object is not an apartment. The most logical thing would be to label this as False. First, let's see how the non-Nan rows of the column are filled"
   ]
  },
  {
   "cell_type": "code",
   "execution_count": 35,
   "metadata": {},
   "outputs": [
    {
     "data": {
      "text/plain": [
       "array([False, True], dtype=object)"
      ]
     },
     "execution_count": 35,
     "metadata": {},
     "output_type": "execute_result"
    }
   ],
   "source": [
    "data.query('is_apartment == is_apartment')['is_apartment'].unique()"
   ]
  },
  {
   "cell_type": "markdown",
   "metadata": {},
   "source": [
    "Everything is fine in the filled lines. Assign the value False to the empty rows and the entire column type bool"
   ]
  },
  {
   "cell_type": "code",
   "execution_count": 36,
   "metadata": {},
   "outputs": [],
   "source": [
    "data['is_apartment'].fillna(value=False, inplace=True)\n",
    "data['is_apartment'] = data['is_apartment'].astype('bool')"
   ]
  },
  {
   "cell_type": "markdown",
   "metadata": {},
   "source": [
    "#### kitchen_area"
   ]
  },
  {
   "cell_type": "markdown",
   "metadata": {},
   "source": [
    "The following columns - studio and open_plan are filled in correctly, so let's move on to kitchen_area"
   ]
  },
  {
   "cell_type": "markdown",
   "metadata": {},
   "source": [
    "The first thing to check is whether there are no values greater than total_area"
   ]
  },
  {
   "cell_type": "code",
   "execution_count": 37,
   "metadata": {
    "scrolled": true
   },
   "outputs": [
    {
     "data": {
      "text/html": [
       "<div>\n",
       "<style scoped>\n",
       "    .dataframe tbody tr th:only-of-type {\n",
       "        vertical-align: middle;\n",
       "    }\n",
       "\n",
       "    .dataframe tbody tr th {\n",
       "        vertical-align: top;\n",
       "    }\n",
       "\n",
       "    .dataframe thead th {\n",
       "        text-align: right;\n",
       "    }\n",
       "</style>\n",
       "<table border=\"1\" class=\"dataframe\">\n",
       "  <thead>\n",
       "    <tr style=\"text-align: right;\">\n",
       "      <th></th>\n",
       "      <th>total_images</th>\n",
       "      <th>last_price_mln</th>\n",
       "      <th>total_area</th>\n",
       "      <th>first_day_exposition</th>\n",
       "      <th>rooms</th>\n",
       "      <th>ceiling_height</th>\n",
       "      <th>floors_total</th>\n",
       "      <th>living_area</th>\n",
       "      <th>floor</th>\n",
       "      <th>is_apartment</th>\n",
       "      <th>...</th>\n",
       "      <th>kitchen_area</th>\n",
       "      <th>balcony</th>\n",
       "      <th>locality_name</th>\n",
       "      <th>airports_nearest</th>\n",
       "      <th>cityCenters_nearest</th>\n",
       "      <th>parks_around3000</th>\n",
       "      <th>parks_nearest</th>\n",
       "      <th>ponds_around3000</th>\n",
       "      <th>ponds_nearest</th>\n",
       "      <th>days_exposition</th>\n",
       "    </tr>\n",
       "  </thead>\n",
       "  <tbody>\n",
       "  </tbody>\n",
       "</table>\n",
       "<p>0 rows × 22 columns</p>\n",
       "</div>"
      ],
      "text/plain": [
       "Empty DataFrame\n",
       "Columns: [total_images, last_price_mln, total_area, first_day_exposition, rooms, ceiling_height, floors_total, living_area, floor, is_apartment, studio, open_plan, kitchen_area, balcony, locality_name, airports_nearest, cityCenters_nearest, parks_around3000, parks_nearest, ponds_around3000, ponds_nearest, days_exposition]\n",
       "Index: []\n",
       "\n",
       "[0 rows x 22 columns]"
      ]
     },
     "execution_count": 37,
     "metadata": {},
     "output_type": "execute_result"
    }
   ],
   "source": [
    "data.query('kitchen_area > total_area')"
   ]
  },
  {
   "cell_type": "markdown",
   "metadata": {},
   "source": [
    "There are no such values, we can proceed to filling in the gaps. They need to be filled in, not deleted, because there are too many gaps. Let's do it by analogy with living_area"
   ]
  },
  {
   "cell_type": "code",
   "execution_count": 38,
   "metadata": {},
   "outputs": [
    {
     "data": {
      "text/plain": [
       "0.6095644744706662"
      ]
     },
     "metadata": {},
     "output_type": "display_data"
    },
    {
     "data": {
      "text/plain": [
       "0.4366010750359653"
      ]
     },
     "execution_count": 38,
     "metadata": {},
     "output_type": "execute_result"
    }
   ],
   "source": [
    "not_nan_kitchen_area = data.query('kitchen_area == kitchen_area')\n",
    "\n",
    "display(not_nan_kitchen_area['kitchen_area'].corr(not_nan_kitchen_area['total_area']))\n",
    "not_nan_kitchen_area['kitchen_area'].corr(not_nan_kitchen_area['living_area'])"
   ]
  },
  {
   "cell_type": "markdown",
   "metadata": {},
   "source": [
    "The correlation with total_area, although not as large as in the previous case, is still there. And, given that the Nan values are about 10%, such an approximate substitution will not greatly affect the final result"
   ]
  },
  {
   "cell_type": "code",
   "execution_count": 39,
   "metadata": {},
   "outputs": [
    {
     "data": {
      "text/plain": [
       "0.17493805078685695"
      ]
     },
     "execution_count": 39,
     "metadata": {},
     "output_type": "execute_result"
    }
   ],
   "source": [
    "not_nan_living_area['kitchen_area'].mean() / not_nan_living_area['total_area'].mean()"
   ]
  },
  {
   "cell_type": "code",
   "execution_count": 40,
   "metadata": {},
   "outputs": [],
   "source": [
    "data.loc[data['kitchen_area'] != data['kitchen_area'],\n",
    "         'kitchen_area'] = data.loc[data['kitchen_area'] != data['kitchen_area'], 'total_area'] * 0.175\n",
    "data = data.round({'kitchen_area':2})"
   ]
  },
  {
   "cell_type": "markdown",
   "metadata": {},
   "source": [
    "#### balcony"
   ]
  },
  {
   "cell_type": "markdown",
   "metadata": {},
   "source": [
    "Next - balcony. Suppose, where the number of balconies is not specified, there are none and there should be 0. Put it instead of empty values and bring everything to the int type."
   ]
  },
  {
   "cell_type": "code",
   "execution_count": 41,
   "metadata": {},
   "outputs": [],
   "source": [
    "data['balcony'].fillna(value=0, inplace=True)\n",
    "data['balcony'] = data['balcony'].astype('int')"
   ]
  },
  {
   "cell_type": "code",
   "execution_count": 42,
   "metadata": {
    "scrolled": true
   },
   "outputs": [
    {
     "data": {
      "text/html": [
       "<div>\n",
       "<style scoped>\n",
       "    .dataframe tbody tr th:only-of-type {\n",
       "        vertical-align: middle;\n",
       "    }\n",
       "\n",
       "    .dataframe tbody tr th {\n",
       "        vertical-align: top;\n",
       "    }\n",
       "\n",
       "    .dataframe thead th {\n",
       "        text-align: right;\n",
       "    }\n",
       "</style>\n",
       "<table border=\"1\" class=\"dataframe\">\n",
       "  <thead>\n",
       "    <tr style=\"text-align: right;\">\n",
       "      <th></th>\n",
       "      <th>total_images</th>\n",
       "      <th>last_price_mln</th>\n",
       "      <th>total_area</th>\n",
       "      <th>first_day_exposition</th>\n",
       "      <th>rooms</th>\n",
       "      <th>ceiling_height</th>\n",
       "      <th>floors_total</th>\n",
       "      <th>living_area</th>\n",
       "      <th>floor</th>\n",
       "      <th>is_apartment</th>\n",
       "      <th>...</th>\n",
       "      <th>kitchen_area</th>\n",
       "      <th>balcony</th>\n",
       "      <th>locality_name</th>\n",
       "      <th>airports_nearest</th>\n",
       "      <th>cityCenters_nearest</th>\n",
       "      <th>parks_around3000</th>\n",
       "      <th>parks_nearest</th>\n",
       "      <th>ponds_around3000</th>\n",
       "      <th>ponds_nearest</th>\n",
       "      <th>days_exposition</th>\n",
       "    </tr>\n",
       "  </thead>\n",
       "  <tbody>\n",
       "  </tbody>\n",
       "</table>\n",
       "<p>0 rows × 22 columns</p>\n",
       "</div>"
      ],
      "text/plain": [
       "Empty DataFrame\n",
       "Columns: [total_images, last_price_mln, total_area, first_day_exposition, rooms, ceiling_height, floors_total, living_area, floor, is_apartment, studio, open_plan, kitchen_area, balcony, locality_name, airports_nearest, cityCenters_nearest, parks_around3000, parks_nearest, ponds_around3000, ponds_nearest, days_exposition]\n",
       "Index: []\n",
       "\n",
       "[0 rows x 22 columns]"
      ]
     },
     "execution_count": 42,
     "metadata": {},
     "output_type": "execute_result"
    }
   ],
   "source": [
    "data.query('balcony!=balcony')"
   ]
  },
  {
   "cell_type": "markdown",
   "metadata": {},
   "source": [
    "#### locality_name"
   ]
  },
  {
   "cell_type": "markdown",
   "metadata": {},
   "source": [
    "The next column is locality_name. In it, some lines are not filled in. Probably, the property being sold is located outside the locality. Let's write \"Other\" in such lines.\n",
    "Also check the column for implicit duplicates and remove them."
   ]
  },
  {
   "cell_type": "code",
   "execution_count": 43,
   "metadata": {
    "scrolled": true
   },
   "outputs": [
    {
     "data": {
      "text/plain": [
       "array(['Бокситогорск', 'Волосово', 'Волхов', 'Всеволожск', 'Выборг',\n",
       "       'Высоцк', 'Гатчина', 'Зеленогорск', 'Ивангород', 'Каменногорск',\n",
       "       'Кингисепп', 'Кириши', 'Кировск', 'Колпино', 'Коммунар',\n",
       "       'Красное Село', 'Кронштадт', 'Кудрово', 'Лодейное Поле',\n",
       "       'Ломоносов', 'Луга', 'Любань', 'Мурино', 'Никольское',\n",
       "       'Новая Ладога', 'Отрадное', 'Павловск', 'Петергоф', 'Пикалёво',\n",
       "       'Подпорожье', 'Приморск', 'Приозерск', 'Пушкин', 'Санкт-Петербург',\n",
       "       'Светогорск', 'Сертолово', 'Сестрорецк', 'Сланцы', 'Сосновый Бор',\n",
       "       'Сясьстрой', 'Тихвин', 'Тосно', 'Шлиссельбург',\n",
       "       'городской поселок Большая Ижора', 'городской поселок Янино-1',\n",
       "       'городской посёлок Будогощь', 'городской посёлок Виллози',\n",
       "       'городской посёлок Лесогорский', 'городской посёлок Мга',\n",
       "       'городской посёлок Назия', 'городской посёлок Новоселье',\n",
       "       'городской посёлок Павлово', 'городской посёлок Рощино',\n",
       "       'городской посёлок Свирьстрой', 'городской посёлок Советский',\n",
       "       'городской посёлок Фёдоровское', 'городской посёлок Янино-1',\n",
       "       'деревня Агалатово', 'деревня Аро', 'деревня Батово',\n",
       "       'деревня Бегуницы', 'деревня Белогорка', 'деревня Большая Вруда',\n",
       "       'деревня Большая Пустомержа', 'деревня Большие Колпаны',\n",
       "       'деревня Большое Рейзино', 'деревня Большой Сабск', 'деревня Бор',\n",
       "       'деревня Борисова Грива', 'деревня Ваганово', 'деревня Вартемяги',\n",
       "       'деревня Вахнова Кара', 'деревня Выскатка', 'деревня Гарболово',\n",
       "       'деревня Глинка', 'деревня Горбунки', 'деревня Гостилицы',\n",
       "       'деревня Заклинье', 'деревня Заневка', 'деревня Зимитицы',\n",
       "       'деревня Извара', 'деревня Иссад', 'деревня Калитино',\n",
       "       'деревня Кальтино', 'деревня Камышовка', 'деревня Каськово',\n",
       "       'деревня Келози', 'деревня Кипень', 'деревня Кисельня',\n",
       "       'деревня Колтуши', 'деревня Коркино', 'деревня Котлы',\n",
       "       'деревня Кривко', 'деревня Кудрово', 'деревня Кузьмолово',\n",
       "       'деревня Курковицы', 'деревня Куровицы', 'деревня Куттузи',\n",
       "       'деревня Лаврики', 'деревня Лаголово', 'деревня Лампово',\n",
       "       'деревня Лесколово', 'деревня Лопухинка', 'деревня Лупполово',\n",
       "       'деревня Малая Романовка', 'деревня Малое Верево',\n",
       "       'деревня Малое Карлино', 'деревня Малые Колпаны',\n",
       "       'деревня Мануйлово', 'деревня Меньково', 'деревня Мины',\n",
       "       'деревня Мистолово', 'деревня Ненимяки', 'деревня Нижние Осельки',\n",
       "       'деревня Нижняя', 'деревня Низино', 'деревня Новое Девяткино',\n",
       "       'деревня Новолисино', 'деревня Нурма', 'деревня Оржицы',\n",
       "       'деревня Парицы', 'деревня Пельгора', 'деревня Пеники',\n",
       "       'деревня Пижма', 'деревня Пикколово', 'деревня Пудомяги',\n",
       "       'деревня Пустынка', 'деревня Пчева', 'деревня Рабитицы',\n",
       "       'деревня Разбегаево', 'деревня Раздолье', 'деревня Разметелево',\n",
       "       'деревня Рапполово', 'деревня Реброво', 'деревня Русско',\n",
       "       'деревня Сижно', 'деревня Снегирёвка', 'деревня Старая',\n",
       "       'деревня Старая Пустошь', 'деревня Старое Хинколово',\n",
       "       'деревня Старополье', 'деревня Старосиверская',\n",
       "       'деревня Старые Бегуницы', 'деревня Суоранда',\n",
       "       'деревня Сяськелево', 'деревня Тарасово', 'деревня Терпилицы',\n",
       "       'деревня Тихковицы', 'деревня Тойворово', 'деревня Торосово',\n",
       "       'деревня Торошковичи', 'деревня Трубников Бор',\n",
       "       'деревня Фалилеево', 'деревня Фёдоровское', 'деревня Хапо-Ое',\n",
       "       'деревня Хязельки', 'деревня Чудской Бор', 'деревня Шпаньково',\n",
       "       'деревня Щеглово', 'деревня Юкки', 'деревня Ялгино',\n",
       "       'деревня Яльгелево', 'деревня Ям-Тесово',\n",
       "       'коттеджный поселок Кивеннапа Север', 'коттеджный поселок Счастье',\n",
       "       'коттеджный посёлок Лесное', 'поселок Аннино', 'поселок Барышево',\n",
       "       'поселок Бугры', 'поселок Возрождение', 'поселок Войсковицы',\n",
       "       'поселок Володарское', 'поселок Гаврилово', 'поселок Гарболово',\n",
       "       'поселок Гладкое', 'поселок Глажево', 'поселок Глебычево',\n",
       "       'поселок Гончарово', 'поселок Громово', 'поселок Дружноселье',\n",
       "       'поселок Елизаветино', 'поселок Жилгородок', 'поселок Жилпосёлок',\n",
       "       'поселок Житково', 'поселок Заводской', 'поселок Запорожское',\n",
       "       'поселок Зимитицы', 'поселок Ильичёво', 'поселок Калитино',\n",
       "       'поселок Каложицы', 'поселок Кингисеппский', 'поселок Кирпичное',\n",
       "       'поселок Кобралово', 'поселок Кобринское', 'поселок Коммунары',\n",
       "       'поселок Коробицыно', 'поселок Котельский',\n",
       "       'поселок Красная Долина', 'поселок Красносельское',\n",
       "       'поселок Лесное', 'поселок Лисий Нос', 'поселок Лукаши',\n",
       "       'поселок Любань', 'поселок Мельниково', 'поселок Мичуринское',\n",
       "       'поселок Молодцово', 'поселок Мурино', 'поселок Новый Свет',\n",
       "       'поселок Новый Учхоз', 'поселок Оредеж',\n",
       "       'поселок Пансионат Зелёный Бор', 'поселок Первомайское',\n",
       "       'поселок Перово', 'поселок Петровское', 'поселок Победа',\n",
       "       'поселок Поляны', 'поселок Почап', 'поселок Починок',\n",
       "       'поселок Пушное', 'поселок Пчевжа', 'поселок Рабитицы',\n",
       "       'поселок Романовка', 'поселок Ромашки', 'поселок Рябово',\n",
       "       'поселок Севастьяново', 'поселок Селезнёво', 'поселок Сельцо',\n",
       "       'поселок Семиозерье', 'поселок Семрино', 'поселок Серебрянский',\n",
       "       'поселок Совхозный', 'поселок Старая Малукса',\n",
       "       'поселок Стеклянный', 'поселок Сумино', 'поселок Суходолье',\n",
       "       'поселок Тельмана', 'поселок Терволово', 'поселок Торковичи',\n",
       "       'поселок Тёсово-4', 'поселок Углово', 'поселок Усть-Луга',\n",
       "       'поселок Ушаки', 'поселок Цвелодубово', 'поселок Цвылёво',\n",
       "       'поселок городского типа Большая Ижора',\n",
       "       'поселок городского типа Вырица',\n",
       "       'поселок городского типа Дружная Горка',\n",
       "       'поселок городского типа Дубровка',\n",
       "       'поселок городского типа Ефимовский',\n",
       "       'поселок городского типа Кондратьево',\n",
       "       'поселок городского типа Красный Бор',\n",
       "       'поселок городского типа Кузьмоловский',\n",
       "       'поселок городского типа Лебяжье',\n",
       "       'поселок городского типа Лесогорский',\n",
       "       'поселок городского типа Назия',\n",
       "       'поселок городского типа Никольский',\n",
       "       'поселок городского типа Приладожский',\n",
       "       'поселок городского типа Рахья', 'поселок городского типа Рощино',\n",
       "       'поселок городского типа Рябово',\n",
       "       'поселок городского типа Синявино',\n",
       "       'поселок городского типа Советский',\n",
       "       'поселок городского типа Токсово',\n",
       "       'поселок городского типа Форносово',\n",
       "       'поселок городского типа имени Свердлова',\n",
       "       'поселок станции Вещево', 'поселок станции Корнево',\n",
       "       'поселок станции Лужайка', 'поселок станции Приветнинское',\n",
       "       'посёлок Александровская', 'посёлок Алексеевка', 'посёлок Аннино',\n",
       "       'посёлок Белоостров', 'посёлок Бугры', 'посёлок Возрождение',\n",
       "       'посёлок Войскорово', 'посёлок Высокоключевой',\n",
       "       'посёлок Гаврилово', 'посёлок Дзержинского', 'посёлок Жилгородок',\n",
       "       'посёлок Ильичёво', 'посёлок Кикерино', 'посёлок Кобралово',\n",
       "       'посёлок Коробицыно', 'посёлок Левашово', 'посёлок Ленинское',\n",
       "       'посёлок Лисий Нос', 'посёлок Мельниково', 'посёлок Металлострой',\n",
       "       'посёлок Мичуринское', 'посёлок Молодёжное', 'посёлок Мурино',\n",
       "       'посёлок Мыза-Ивановка', 'посёлок Новогорелово',\n",
       "       'посёлок Новый Свет', 'посёлок Пансионат Зелёный Бор',\n",
       "       'посёлок Парголово', 'посёлок Перово', 'посёлок Песочный',\n",
       "       'посёлок Петро-Славянка', 'посёлок Петровское',\n",
       "       'посёлок Платформа 69-й километр', 'посёлок Плодовое',\n",
       "       'посёлок Плоское', 'посёлок Победа', 'посёлок Поляны',\n",
       "       'посёлок Понтонный', 'посёлок Пригородный', 'посёлок Пудость',\n",
       "       'посёлок Репино', 'посёлок Ропша', 'посёлок Сапёрное',\n",
       "       'посёлок Сапёрный', 'посёлок Сосново', 'посёлок Старая Малукса',\n",
       "       'посёлок Стеклянный', 'посёлок Стрельна', 'посёлок Суйда',\n",
       "       'посёлок Сумино', 'посёлок Тельмана', 'посёлок Терволово',\n",
       "       'посёлок Торфяное', 'посёлок Усть-Ижора', 'посёлок Усть-Луга',\n",
       "       'посёлок Форт Красная Горка', 'посёлок Шугозеро', 'посёлок Шушары',\n",
       "       'посёлок Щеглово', 'посёлок городского типа Важины',\n",
       "       'посёлок городского типа Вознесенье',\n",
       "       'посёлок городского типа Вырица',\n",
       "       'посёлок городского типа Красный Бор',\n",
       "       'посёлок городского типа Кузнечное',\n",
       "       'посёлок городского типа Кузьмоловский',\n",
       "       'посёлок городского типа Лебяжье', 'посёлок городского типа Мга',\n",
       "       'посёлок городского типа Павлово',\n",
       "       'посёлок городского типа Рощино', 'посёлок городского типа Рябово',\n",
       "       'посёлок городского типа Сиверский',\n",
       "       'посёлок городского типа Тайцы', 'посёлок городского типа Токсово',\n",
       "       'посёлок городского типа Ульяновка',\n",
       "       'посёлок городского типа Форносово',\n",
       "       'посёлок городского типа имени Морозова',\n",
       "       'посёлок городского типа имени Свердлова',\n",
       "       'посёлок при железнодорожной станции Вещево',\n",
       "       'посёлок при железнодорожной станции Приветнинское',\n",
       "       'посёлок станции Громово', 'посёлок станции Свирь',\n",
       "       'садоводческое некоммерческое товарищество Лесная Поляна',\n",
       "       'садовое товарищество Новая Ропша',\n",
       "       'садовое товарищество Приладожский', 'садовое товарищество Рахья',\n",
       "       'садовое товарищество Садко', 'село Копорье', 'село Никольское',\n",
       "       'село Павлово', 'село Паша', 'село Путилово', 'село Рождествено',\n",
       "       'село Русско-Высоцкое', 'село Старая Ладога', 'село Шум', nan],\n",
       "      dtype=object)"
      ]
     },
     "metadata": {},
     "output_type": "display_data"
    },
    {
     "data": {
      "text/plain": [
       "365"
      ]
     },
     "execution_count": 43,
     "metadata": {},
     "output_type": "execute_result"
    }
   ],
   "source": [
    "display(data['locality_name'].sort_values().unique())\n",
    "len(data['locality_name'].unique())"
   ]
  },
  {
   "cell_type": "markdown",
   "metadata": {},
   "source": [
    "It will be difficult to check in this format. Let's bring to at least some uniformity the types of settlements"
   ]
  },
  {
   "cell_type": "code",
   "execution_count": 44,
   "metadata": {},
   "outputs": [
    {
     "data": {
      "text/plain": [
       "321"
      ]
     },
     "execution_count": 44,
     "metadata": {},
     "output_type": "execute_result"
    }
   ],
   "source": [
    "data['locality_name'] = data['locality_name'].replace('посёлок', 'поселок', regex=True)\n",
    "data['locality_name'] = data['locality_name'].replace('городской поселок', 'поселок городского типа', regex=True)\n",
    "data['locality_name'] = data['locality_name'].replace('поселок при железнодорожной станции', 'поселок станции', regex=True)\n",
    "data['locality_name'] = data['locality_name'].replace('садоводческое некоммерческое товарищество', 'садовое товарищество', regex=True)\n",
    "data['locality_name'] = data['locality_name'].replace('поселок Мурино', 'Мурино', regex=True)\n",
    "len(data['locality_name'].unique())"
   ]
  },
  {
   "cell_type": "markdown",
   "metadata": {},
   "source": [
    "It was possible to remove several duplicates. The number of unique values decreased by more than 10 percent. It remains to remove Nan"
   ]
  },
  {
   "cell_type": "code",
   "execution_count": 45,
   "metadata": {},
   "outputs": [],
   "source": [
    "data['locality_name'].fillna(value=\"Другое\", inplace=True)\n",
    "data = data.reset_index(drop=True)"
   ]
  },
  {
   "cell_type": "markdown",
   "metadata": {},
   "source": [
    "This concludes the analysis of the columns that users entered. As a result of processing custom columns, we deleted only 95 rows. Quite a bit and will not affect the result. Then there are columns with geo-data. In this case, it will not be possible to fill in the gaps correctly in any way, since there are too many unknowns. Let's leave the table in this form and move on to the next part of the project."
   ]
  },
  {
   "cell_type": "markdown",
   "metadata": {},
   "source": [
    "### Calculations and adding new columns to the table"
   ]
  },
  {
   "cell_type": "markdown",
   "metadata": {},
   "source": [
    "#### Calculating the price per square meter"
   ]
  },
  {
   "cell_type": "markdown",
   "metadata": {},
   "source": [
    "Earlier, we converted the price into millions for ease of perception. Square meters are usually counted in thousands. This is what we will do in the new column + round the values to two decimal places."
   ]
  },
  {
   "cell_type": "code",
   "execution_count": 46,
   "metadata": {
    "scrolled": false
   },
   "outputs": [
    {
     "data": {
      "text/html": [
       "<div>\n",
       "<style scoped>\n",
       "    .dataframe tbody tr th:only-of-type {\n",
       "        vertical-align: middle;\n",
       "    }\n",
       "\n",
       "    .dataframe tbody tr th {\n",
       "        vertical-align: top;\n",
       "    }\n",
       "\n",
       "    .dataframe thead th {\n",
       "        text-align: right;\n",
       "    }\n",
       "</style>\n",
       "<table border=\"1\" class=\"dataframe\">\n",
       "  <thead>\n",
       "    <tr style=\"text-align: right;\">\n",
       "      <th></th>\n",
       "      <th>total_images</th>\n",
       "      <th>last_price_mln</th>\n",
       "      <th>total_area</th>\n",
       "      <th>first_day_exposition</th>\n",
       "      <th>rooms</th>\n",
       "      <th>ceiling_height</th>\n",
       "      <th>floors_total</th>\n",
       "      <th>living_area</th>\n",
       "      <th>floor</th>\n",
       "      <th>is_apartment</th>\n",
       "      <th>...</th>\n",
       "      <th>balcony</th>\n",
       "      <th>locality_name</th>\n",
       "      <th>airports_nearest</th>\n",
       "      <th>cityCenters_nearest</th>\n",
       "      <th>parks_around3000</th>\n",
       "      <th>parks_nearest</th>\n",
       "      <th>ponds_around3000</th>\n",
       "      <th>ponds_nearest</th>\n",
       "      <th>days_exposition</th>\n",
       "      <th>one_meter_price_ths</th>\n",
       "    </tr>\n",
       "  </thead>\n",
       "  <tbody>\n",
       "    <tr>\n",
       "      <th>0</th>\n",
       "      <td>20</td>\n",
       "      <td>13.000</td>\n",
       "      <td>108.0</td>\n",
       "      <td>2019-03-07</td>\n",
       "      <td>3</td>\n",
       "      <td>2.70</td>\n",
       "      <td>16</td>\n",
       "      <td>51.00</td>\n",
       "      <td>8</td>\n",
       "      <td>False</td>\n",
       "      <td>...</td>\n",
       "      <td>0</td>\n",
       "      <td>Санкт-Петербург</td>\n",
       "      <td>18863.0</td>\n",
       "      <td>16028.0</td>\n",
       "      <td>1.0</td>\n",
       "      <td>482.0</td>\n",
       "      <td>2.0</td>\n",
       "      <td>755.0</td>\n",
       "      <td>NaN</td>\n",
       "      <td>120.37</td>\n",
       "    </tr>\n",
       "    <tr>\n",
       "      <th>1</th>\n",
       "      <td>7</td>\n",
       "      <td>3.350</td>\n",
       "      <td>40.4</td>\n",
       "      <td>2018-12-04</td>\n",
       "      <td>1</td>\n",
       "      <td>NaN</td>\n",
       "      <td>11</td>\n",
       "      <td>18.60</td>\n",
       "      <td>1</td>\n",
       "      <td>False</td>\n",
       "      <td>...</td>\n",
       "      <td>2</td>\n",
       "      <td>поселок Шушары</td>\n",
       "      <td>12817.0</td>\n",
       "      <td>18603.0</td>\n",
       "      <td>0.0</td>\n",
       "      <td>NaN</td>\n",
       "      <td>0.0</td>\n",
       "      <td>NaN</td>\n",
       "      <td>81.0</td>\n",
       "      <td>82.92</td>\n",
       "    </tr>\n",
       "    <tr>\n",
       "      <th>2</th>\n",
       "      <td>10</td>\n",
       "      <td>5.196</td>\n",
       "      <td>56.0</td>\n",
       "      <td>2015-08-20</td>\n",
       "      <td>2</td>\n",
       "      <td>NaN</td>\n",
       "      <td>5</td>\n",
       "      <td>34.30</td>\n",
       "      <td>4</td>\n",
       "      <td>False</td>\n",
       "      <td>...</td>\n",
       "      <td>0</td>\n",
       "      <td>Санкт-Петербург</td>\n",
       "      <td>21741.0</td>\n",
       "      <td>13933.0</td>\n",
       "      <td>1.0</td>\n",
       "      <td>90.0</td>\n",
       "      <td>2.0</td>\n",
       "      <td>574.0</td>\n",
       "      <td>558.0</td>\n",
       "      <td>92.79</td>\n",
       "    </tr>\n",
       "    <tr>\n",
       "      <th>3</th>\n",
       "      <td>0</td>\n",
       "      <td>64.900</td>\n",
       "      <td>159.0</td>\n",
       "      <td>2015-07-24</td>\n",
       "      <td>3</td>\n",
       "      <td>NaN</td>\n",
       "      <td>14</td>\n",
       "      <td>90.63</td>\n",
       "      <td>9</td>\n",
       "      <td>False</td>\n",
       "      <td>...</td>\n",
       "      <td>0</td>\n",
       "      <td>Санкт-Петербург</td>\n",
       "      <td>28098.0</td>\n",
       "      <td>6800.0</td>\n",
       "      <td>2.0</td>\n",
       "      <td>84.0</td>\n",
       "      <td>3.0</td>\n",
       "      <td>234.0</td>\n",
       "      <td>424.0</td>\n",
       "      <td>408.18</td>\n",
       "    </tr>\n",
       "    <tr>\n",
       "      <th>4</th>\n",
       "      <td>2</td>\n",
       "      <td>10.000</td>\n",
       "      <td>100.0</td>\n",
       "      <td>2018-06-19</td>\n",
       "      <td>2</td>\n",
       "      <td>3.03</td>\n",
       "      <td>14</td>\n",
       "      <td>32.00</td>\n",
       "      <td>13</td>\n",
       "      <td>False</td>\n",
       "      <td>...</td>\n",
       "      <td>0</td>\n",
       "      <td>Санкт-Петербург</td>\n",
       "      <td>31856.0</td>\n",
       "      <td>8098.0</td>\n",
       "      <td>2.0</td>\n",
       "      <td>112.0</td>\n",
       "      <td>1.0</td>\n",
       "      <td>48.0</td>\n",
       "      <td>121.0</td>\n",
       "      <td>100.00</td>\n",
       "    </tr>\n",
       "  </tbody>\n",
       "</table>\n",
       "<p>5 rows × 23 columns</p>\n",
       "</div>"
      ],
      "text/plain": [
       "   total_images  last_price_mln  total_area first_day_exposition  rooms  \\\n",
       "0            20          13.000       108.0           2019-03-07      3   \n",
       "1             7           3.350        40.4           2018-12-04      1   \n",
       "2            10           5.196        56.0           2015-08-20      2   \n",
       "3             0          64.900       159.0           2015-07-24      3   \n",
       "4             2          10.000       100.0           2018-06-19      2   \n",
       "\n",
       "   ceiling_height  floors_total  living_area  floor  is_apartment  ...  \\\n",
       "0            2.70            16        51.00      8         False  ...   \n",
       "1             NaN            11        18.60      1         False  ...   \n",
       "2             NaN             5        34.30      4         False  ...   \n",
       "3             NaN            14        90.63      9         False  ...   \n",
       "4            3.03            14        32.00     13         False  ...   \n",
       "\n",
       "   balcony    locality_name  airports_nearest  cityCenters_nearest  \\\n",
       "0        0  Санкт-Петербург           18863.0              16028.0   \n",
       "1        2   поселок Шушары           12817.0              18603.0   \n",
       "2        0  Санкт-Петербург           21741.0              13933.0   \n",
       "3        0  Санкт-Петербург           28098.0               6800.0   \n",
       "4        0  Санкт-Петербург           31856.0               8098.0   \n",
       "\n",
       "  parks_around3000  parks_nearest  ponds_around3000  ponds_nearest  \\\n",
       "0              1.0          482.0               2.0          755.0   \n",
       "1              0.0            NaN               0.0            NaN   \n",
       "2              1.0           90.0               2.0          574.0   \n",
       "3              2.0           84.0               3.0          234.0   \n",
       "4              2.0          112.0               1.0           48.0   \n",
       "\n",
       "   days_exposition  one_meter_price_ths  \n",
       "0              NaN               120.37  \n",
       "1             81.0                82.92  \n",
       "2            558.0                92.79  \n",
       "3            424.0               408.18  \n",
       "4            121.0               100.00  \n",
       "\n",
       "[5 rows x 23 columns]"
      ]
     },
     "execution_count": 46,
     "metadata": {},
     "output_type": "execute_result"
    }
   ],
   "source": [
    "data['one_meter_price_ths'] = data['last_price_mln'] / data['total_area'] * 1000\n",
    "data = data.round({'one_meter_price_ths':2})\n",
    "data.head()"
   ]
  },
  {
   "cell_type": "markdown",
   "metadata": {},
   "source": [
    "#### Adding Date columns"
   ]
  },
  {
   "cell_type": "markdown",
   "metadata": {},
   "source": [
    "Adding columns:\n",
    "the day of the week of publication of the ad;\n",
    "month of publication of the ad;\n",
    "year of publication of the announcement;"
   ]
  },
  {
   "cell_type": "code",
   "execution_count": 47,
   "metadata": {
    "scrolled": true
   },
   "outputs": [
    {
     "data": {
      "text/html": [
       "<div>\n",
       "<style scoped>\n",
       "    .dataframe tbody tr th:only-of-type {\n",
       "        vertical-align: middle;\n",
       "    }\n",
       "\n",
       "    .dataframe tbody tr th {\n",
       "        vertical-align: top;\n",
       "    }\n",
       "\n",
       "    .dataframe thead th {\n",
       "        text-align: right;\n",
       "    }\n",
       "</style>\n",
       "<table border=\"1\" class=\"dataframe\">\n",
       "  <thead>\n",
       "    <tr style=\"text-align: right;\">\n",
       "      <th></th>\n",
       "      <th>total_images</th>\n",
       "      <th>last_price_mln</th>\n",
       "      <th>total_area</th>\n",
       "      <th>first_day_exposition</th>\n",
       "      <th>rooms</th>\n",
       "      <th>ceiling_height</th>\n",
       "      <th>floors_total</th>\n",
       "      <th>living_area</th>\n",
       "      <th>floor</th>\n",
       "      <th>is_apartment</th>\n",
       "      <th>...</th>\n",
       "      <th>cityCenters_nearest</th>\n",
       "      <th>parks_around3000</th>\n",
       "      <th>parks_nearest</th>\n",
       "      <th>ponds_around3000</th>\n",
       "      <th>ponds_nearest</th>\n",
       "      <th>days_exposition</th>\n",
       "      <th>one_meter_price_ths</th>\n",
       "      <th>week_day</th>\n",
       "      <th>month</th>\n",
       "      <th>year</th>\n",
       "    </tr>\n",
       "  </thead>\n",
       "  <tbody>\n",
       "    <tr>\n",
       "      <th>0</th>\n",
       "      <td>20</td>\n",
       "      <td>13.000</td>\n",
       "      <td>108.0</td>\n",
       "      <td>2019-03-07</td>\n",
       "      <td>3</td>\n",
       "      <td>2.70</td>\n",
       "      <td>16</td>\n",
       "      <td>51.00</td>\n",
       "      <td>8</td>\n",
       "      <td>False</td>\n",
       "      <td>...</td>\n",
       "      <td>16028.0</td>\n",
       "      <td>1.0</td>\n",
       "      <td>482.0</td>\n",
       "      <td>2.0</td>\n",
       "      <td>755.0</td>\n",
       "      <td>NaN</td>\n",
       "      <td>120.37</td>\n",
       "      <td>3</td>\n",
       "      <td>3</td>\n",
       "      <td>2019</td>\n",
       "    </tr>\n",
       "    <tr>\n",
       "      <th>1</th>\n",
       "      <td>7</td>\n",
       "      <td>3.350</td>\n",
       "      <td>40.4</td>\n",
       "      <td>2018-12-04</td>\n",
       "      <td>1</td>\n",
       "      <td>NaN</td>\n",
       "      <td>11</td>\n",
       "      <td>18.60</td>\n",
       "      <td>1</td>\n",
       "      <td>False</td>\n",
       "      <td>...</td>\n",
       "      <td>18603.0</td>\n",
       "      <td>0.0</td>\n",
       "      <td>NaN</td>\n",
       "      <td>0.0</td>\n",
       "      <td>NaN</td>\n",
       "      <td>81.0</td>\n",
       "      <td>82.92</td>\n",
       "      <td>1</td>\n",
       "      <td>12</td>\n",
       "      <td>2018</td>\n",
       "    </tr>\n",
       "    <tr>\n",
       "      <th>2</th>\n",
       "      <td>10</td>\n",
       "      <td>5.196</td>\n",
       "      <td>56.0</td>\n",
       "      <td>2015-08-20</td>\n",
       "      <td>2</td>\n",
       "      <td>NaN</td>\n",
       "      <td>5</td>\n",
       "      <td>34.30</td>\n",
       "      <td>4</td>\n",
       "      <td>False</td>\n",
       "      <td>...</td>\n",
       "      <td>13933.0</td>\n",
       "      <td>1.0</td>\n",
       "      <td>90.0</td>\n",
       "      <td>2.0</td>\n",
       "      <td>574.0</td>\n",
       "      <td>558.0</td>\n",
       "      <td>92.79</td>\n",
       "      <td>3</td>\n",
       "      <td>8</td>\n",
       "      <td>2015</td>\n",
       "    </tr>\n",
       "    <tr>\n",
       "      <th>3</th>\n",
       "      <td>0</td>\n",
       "      <td>64.900</td>\n",
       "      <td>159.0</td>\n",
       "      <td>2015-07-24</td>\n",
       "      <td>3</td>\n",
       "      <td>NaN</td>\n",
       "      <td>14</td>\n",
       "      <td>90.63</td>\n",
       "      <td>9</td>\n",
       "      <td>False</td>\n",
       "      <td>...</td>\n",
       "      <td>6800.0</td>\n",
       "      <td>2.0</td>\n",
       "      <td>84.0</td>\n",
       "      <td>3.0</td>\n",
       "      <td>234.0</td>\n",
       "      <td>424.0</td>\n",
       "      <td>408.18</td>\n",
       "      <td>4</td>\n",
       "      <td>7</td>\n",
       "      <td>2015</td>\n",
       "    </tr>\n",
       "    <tr>\n",
       "      <th>4</th>\n",
       "      <td>2</td>\n",
       "      <td>10.000</td>\n",
       "      <td>100.0</td>\n",
       "      <td>2018-06-19</td>\n",
       "      <td>2</td>\n",
       "      <td>3.03</td>\n",
       "      <td>14</td>\n",
       "      <td>32.00</td>\n",
       "      <td>13</td>\n",
       "      <td>False</td>\n",
       "      <td>...</td>\n",
       "      <td>8098.0</td>\n",
       "      <td>2.0</td>\n",
       "      <td>112.0</td>\n",
       "      <td>1.0</td>\n",
       "      <td>48.0</td>\n",
       "      <td>121.0</td>\n",
       "      <td>100.00</td>\n",
       "      <td>1</td>\n",
       "      <td>6</td>\n",
       "      <td>2018</td>\n",
       "    </tr>\n",
       "  </tbody>\n",
       "</table>\n",
       "<p>5 rows × 26 columns</p>\n",
       "</div>"
      ],
      "text/plain": [
       "   total_images  last_price_mln  total_area first_day_exposition  rooms  \\\n",
       "0            20          13.000       108.0           2019-03-07      3   \n",
       "1             7           3.350        40.4           2018-12-04      1   \n",
       "2            10           5.196        56.0           2015-08-20      2   \n",
       "3             0          64.900       159.0           2015-07-24      3   \n",
       "4             2          10.000       100.0           2018-06-19      2   \n",
       "\n",
       "   ceiling_height  floors_total  living_area  floor  is_apartment  ...  \\\n",
       "0            2.70            16        51.00      8         False  ...   \n",
       "1             NaN            11        18.60      1         False  ...   \n",
       "2             NaN             5        34.30      4         False  ...   \n",
       "3             NaN            14        90.63      9         False  ...   \n",
       "4            3.03            14        32.00     13         False  ...   \n",
       "\n",
       "   cityCenters_nearest  parks_around3000  parks_nearest  ponds_around3000  \\\n",
       "0              16028.0               1.0          482.0               2.0   \n",
       "1              18603.0               0.0            NaN               0.0   \n",
       "2              13933.0               1.0           90.0               2.0   \n",
       "3               6800.0               2.0           84.0               3.0   \n",
       "4               8098.0               2.0          112.0               1.0   \n",
       "\n",
       "  ponds_nearest  days_exposition  one_meter_price_ths  week_day  month  year  \n",
       "0         755.0              NaN               120.37         3      3  2019  \n",
       "1           NaN             81.0                82.92         1     12  2018  \n",
       "2         574.0            558.0                92.79         3      8  2015  \n",
       "3         234.0            424.0               408.18         4      7  2015  \n",
       "4          48.0            121.0               100.00         1      6  2018  \n",
       "\n",
       "[5 rows x 26 columns]"
      ]
     },
     "execution_count": 47,
     "metadata": {},
     "output_type": "execute_result"
    }
   ],
   "source": [
    "data['week_day'] = data['first_day_exposition'].dt.weekday\n",
    "data['month'] = data['first_day_exposition'].dt.month\n",
    "data['year'] = data['first_day_exposition'].dt.year\n",
    "data.head()"
   ]
  },
  {
   "cell_type": "markdown",
   "metadata": {},
   "source": [
    "#### Type of apartment floor"
   ]
  },
  {
   "cell_type": "code",
   "execution_count": 81,
   "metadata": {
    "scrolled": false
   },
   "outputs": [
    {
     "data": {
      "text/html": [
       "<div>\n",
       "<style scoped>\n",
       "    .dataframe tbody tr th:only-of-type {\n",
       "        vertical-align: middle;\n",
       "    }\n",
       "\n",
       "    .dataframe tbody tr th {\n",
       "        vertical-align: top;\n",
       "    }\n",
       "\n",
       "    .dataframe thead th {\n",
       "        text-align: right;\n",
       "    }\n",
       "</style>\n",
       "<table border=\"1\" class=\"dataframe\">\n",
       "  <thead>\n",
       "    <tr style=\"text-align: right;\">\n",
       "      <th></th>\n",
       "      <th>total_images</th>\n",
       "      <th>last_price_mln</th>\n",
       "      <th>total_area</th>\n",
       "      <th>first_day_exposition</th>\n",
       "      <th>rooms</th>\n",
       "      <th>ceiling_height</th>\n",
       "      <th>floors_total</th>\n",
       "      <th>living_area</th>\n",
       "      <th>floor</th>\n",
       "      <th>is_apartment</th>\n",
       "      <th>...</th>\n",
       "      <th>parks_nearest</th>\n",
       "      <th>ponds_around3000</th>\n",
       "      <th>ponds_nearest</th>\n",
       "      <th>days_exposition</th>\n",
       "      <th>one_meter_price_ths</th>\n",
       "      <th>week_day</th>\n",
       "      <th>month</th>\n",
       "      <th>year</th>\n",
       "      <th>floor_type</th>\n",
       "      <th>km_city_centers_nearest</th>\n",
       "    </tr>\n",
       "  </thead>\n",
       "  <tbody>\n",
       "    <tr>\n",
       "      <th>0</th>\n",
       "      <td>20</td>\n",
       "      <td>13.000</td>\n",
       "      <td>108.0</td>\n",
       "      <td>2019-03-07</td>\n",
       "      <td>3</td>\n",
       "      <td>2.70</td>\n",
       "      <td>16</td>\n",
       "      <td>51.00</td>\n",
       "      <td>8</td>\n",
       "      <td>False</td>\n",
       "      <td>...</td>\n",
       "      <td>482.0</td>\n",
       "      <td>2.0</td>\n",
       "      <td>755.0</td>\n",
       "      <td>NaN</td>\n",
       "      <td>120.37</td>\n",
       "      <td>3</td>\n",
       "      <td>3</td>\n",
       "      <td>2019</td>\n",
       "      <td>другой</td>\n",
       "      <td>16.0</td>\n",
       "    </tr>\n",
       "    <tr>\n",
       "      <th>1</th>\n",
       "      <td>7</td>\n",
       "      <td>3.350</td>\n",
       "      <td>40.4</td>\n",
       "      <td>2018-12-04</td>\n",
       "      <td>1</td>\n",
       "      <td>NaN</td>\n",
       "      <td>11</td>\n",
       "      <td>18.60</td>\n",
       "      <td>1</td>\n",
       "      <td>False</td>\n",
       "      <td>...</td>\n",
       "      <td>NaN</td>\n",
       "      <td>0.0</td>\n",
       "      <td>NaN</td>\n",
       "      <td>81.0</td>\n",
       "      <td>82.92</td>\n",
       "      <td>1</td>\n",
       "      <td>12</td>\n",
       "      <td>2018</td>\n",
       "      <td>первый</td>\n",
       "      <td>19.0</td>\n",
       "    </tr>\n",
       "    <tr>\n",
       "      <th>2</th>\n",
       "      <td>10</td>\n",
       "      <td>5.196</td>\n",
       "      <td>56.0</td>\n",
       "      <td>2015-08-20</td>\n",
       "      <td>2</td>\n",
       "      <td>NaN</td>\n",
       "      <td>5</td>\n",
       "      <td>34.30</td>\n",
       "      <td>4</td>\n",
       "      <td>False</td>\n",
       "      <td>...</td>\n",
       "      <td>90.0</td>\n",
       "      <td>2.0</td>\n",
       "      <td>574.0</td>\n",
       "      <td>558.0</td>\n",
       "      <td>92.79</td>\n",
       "      <td>3</td>\n",
       "      <td>8</td>\n",
       "      <td>2015</td>\n",
       "      <td>другой</td>\n",
       "      <td>14.0</td>\n",
       "    </tr>\n",
       "    <tr>\n",
       "      <th>3</th>\n",
       "      <td>0</td>\n",
       "      <td>64.900</td>\n",
       "      <td>159.0</td>\n",
       "      <td>2015-07-24</td>\n",
       "      <td>3</td>\n",
       "      <td>NaN</td>\n",
       "      <td>14</td>\n",
       "      <td>90.63</td>\n",
       "      <td>9</td>\n",
       "      <td>False</td>\n",
       "      <td>...</td>\n",
       "      <td>84.0</td>\n",
       "      <td>3.0</td>\n",
       "      <td>234.0</td>\n",
       "      <td>424.0</td>\n",
       "      <td>408.18</td>\n",
       "      <td>4</td>\n",
       "      <td>7</td>\n",
       "      <td>2015</td>\n",
       "      <td>другой</td>\n",
       "      <td>7.0</td>\n",
       "    </tr>\n",
       "    <tr>\n",
       "      <th>4</th>\n",
       "      <td>2</td>\n",
       "      <td>10.000</td>\n",
       "      <td>100.0</td>\n",
       "      <td>2018-06-19</td>\n",
       "      <td>2</td>\n",
       "      <td>3.03</td>\n",
       "      <td>14</td>\n",
       "      <td>32.00</td>\n",
       "      <td>13</td>\n",
       "      <td>False</td>\n",
       "      <td>...</td>\n",
       "      <td>112.0</td>\n",
       "      <td>1.0</td>\n",
       "      <td>48.0</td>\n",
       "      <td>121.0</td>\n",
       "      <td>100.00</td>\n",
       "      <td>1</td>\n",
       "      <td>6</td>\n",
       "      <td>2018</td>\n",
       "      <td>другой</td>\n",
       "      <td>8.0</td>\n",
       "    </tr>\n",
       "  </tbody>\n",
       "</table>\n",
       "<p>5 rows × 28 columns</p>\n",
       "</div>"
      ],
      "text/plain": [
       "   total_images  last_price_mln  total_area first_day_exposition  rooms  \\\n",
       "0            20          13.000       108.0           2019-03-07      3   \n",
       "1             7           3.350        40.4           2018-12-04      1   \n",
       "2            10           5.196        56.0           2015-08-20      2   \n",
       "3             0          64.900       159.0           2015-07-24      3   \n",
       "4             2          10.000       100.0           2018-06-19      2   \n",
       "\n",
       "   ceiling_height  floors_total  living_area  floor  is_apartment  ...  \\\n",
       "0            2.70            16        51.00      8         False  ...   \n",
       "1             NaN            11        18.60      1         False  ...   \n",
       "2             NaN             5        34.30      4         False  ...   \n",
       "3             NaN            14        90.63      9         False  ...   \n",
       "4            3.03            14        32.00     13         False  ...   \n",
       "\n",
       "   parks_nearest  ponds_around3000  ponds_nearest  days_exposition  \\\n",
       "0          482.0               2.0          755.0              NaN   \n",
       "1            NaN               0.0            NaN             81.0   \n",
       "2           90.0               2.0          574.0            558.0   \n",
       "3           84.0               3.0          234.0            424.0   \n",
       "4          112.0               1.0           48.0            121.0   \n",
       "\n",
       "  one_meter_price_ths  week_day  month  year  floor_type  \\\n",
       "0              120.37         3      3  2019      другой   \n",
       "1               82.92         1     12  2018      первый   \n",
       "2               92.79         3      8  2015      другой   \n",
       "3              408.18         4      7  2015      другой   \n",
       "4              100.00         1      6  2018      другой   \n",
       "\n",
       "   km_city_centers_nearest  \n",
       "0                     16.0  \n",
       "1                     19.0  \n",
       "2                     14.0  \n",
       "3                      7.0  \n",
       "4                      8.0  \n",
       "\n",
       "[5 rows x 28 columns]"
      ]
     },
     "execution_count": 81,
     "metadata": {},
     "output_type": "execute_result"
    }
   ],
   "source": [
    "def floor_category(row):\n",
    "    if row['floor'] == 1:\n",
    "        return 'первый'\n",
    "    if row['floor'] == row['floors_total']:\n",
    "        return 'последний'\n",
    "    return 'другой'\n",
    "\n",
    "data['floor_type'] = data.apply(floor_category, axis=1)\n",
    "data.head()"
   ]
  },
  {
   "cell_type": "markdown",
   "metadata": {},
   "source": [
    "#### Distance to the city center in kilometers"
   ]
  },
  {
   "cell_type": "markdown",
   "metadata": {},
   "source": [
    "Rename the city_center column to the correct view and calculate the distance to the city center in kilometers:"
   ]
  },
  {
   "cell_type": "code",
   "execution_count": 49,
   "metadata": {},
   "outputs": [
    {
     "data": {
      "text/html": [
       "<div>\n",
       "<style scoped>\n",
       "    .dataframe tbody tr th:only-of-type {\n",
       "        vertical-align: middle;\n",
       "    }\n",
       "\n",
       "    .dataframe tbody tr th {\n",
       "        vertical-align: top;\n",
       "    }\n",
       "\n",
       "    .dataframe thead th {\n",
       "        text-align: right;\n",
       "    }\n",
       "</style>\n",
       "<table border=\"1\" class=\"dataframe\">\n",
       "  <thead>\n",
       "    <tr style=\"text-align: right;\">\n",
       "      <th></th>\n",
       "      <th>total_images</th>\n",
       "      <th>last_price_mln</th>\n",
       "      <th>total_area</th>\n",
       "      <th>first_day_exposition</th>\n",
       "      <th>rooms</th>\n",
       "      <th>ceiling_height</th>\n",
       "      <th>floors_total</th>\n",
       "      <th>living_area</th>\n",
       "      <th>floor</th>\n",
       "      <th>is_apartment</th>\n",
       "      <th>...</th>\n",
       "      <th>parks_nearest</th>\n",
       "      <th>ponds_around3000</th>\n",
       "      <th>ponds_nearest</th>\n",
       "      <th>days_exposition</th>\n",
       "      <th>one_meter_price_ths</th>\n",
       "      <th>week_day</th>\n",
       "      <th>month</th>\n",
       "      <th>year</th>\n",
       "      <th>floor_type</th>\n",
       "      <th>km_city_centers_nearest</th>\n",
       "    </tr>\n",
       "  </thead>\n",
       "  <tbody>\n",
       "    <tr>\n",
       "      <th>0</th>\n",
       "      <td>20</td>\n",
       "      <td>13.000</td>\n",
       "      <td>108.0</td>\n",
       "      <td>2019-03-07</td>\n",
       "      <td>3</td>\n",
       "      <td>2.70</td>\n",
       "      <td>16</td>\n",
       "      <td>51.00</td>\n",
       "      <td>8</td>\n",
       "      <td>False</td>\n",
       "      <td>...</td>\n",
       "      <td>482.0</td>\n",
       "      <td>2.0</td>\n",
       "      <td>755.0</td>\n",
       "      <td>NaN</td>\n",
       "      <td>120.37</td>\n",
       "      <td>3</td>\n",
       "      <td>3</td>\n",
       "      <td>2019</td>\n",
       "      <td>другой</td>\n",
       "      <td>16.0</td>\n",
       "    </tr>\n",
       "    <tr>\n",
       "      <th>1</th>\n",
       "      <td>7</td>\n",
       "      <td>3.350</td>\n",
       "      <td>40.4</td>\n",
       "      <td>2018-12-04</td>\n",
       "      <td>1</td>\n",
       "      <td>NaN</td>\n",
       "      <td>11</td>\n",
       "      <td>18.60</td>\n",
       "      <td>1</td>\n",
       "      <td>False</td>\n",
       "      <td>...</td>\n",
       "      <td>NaN</td>\n",
       "      <td>0.0</td>\n",
       "      <td>NaN</td>\n",
       "      <td>81.0</td>\n",
       "      <td>82.92</td>\n",
       "      <td>1</td>\n",
       "      <td>12</td>\n",
       "      <td>2018</td>\n",
       "      <td>первый</td>\n",
       "      <td>19.0</td>\n",
       "    </tr>\n",
       "    <tr>\n",
       "      <th>2</th>\n",
       "      <td>10</td>\n",
       "      <td>5.196</td>\n",
       "      <td>56.0</td>\n",
       "      <td>2015-08-20</td>\n",
       "      <td>2</td>\n",
       "      <td>NaN</td>\n",
       "      <td>5</td>\n",
       "      <td>34.30</td>\n",
       "      <td>4</td>\n",
       "      <td>False</td>\n",
       "      <td>...</td>\n",
       "      <td>90.0</td>\n",
       "      <td>2.0</td>\n",
       "      <td>574.0</td>\n",
       "      <td>558.0</td>\n",
       "      <td>92.79</td>\n",
       "      <td>3</td>\n",
       "      <td>8</td>\n",
       "      <td>2015</td>\n",
       "      <td>другой</td>\n",
       "      <td>14.0</td>\n",
       "    </tr>\n",
       "    <tr>\n",
       "      <th>3</th>\n",
       "      <td>0</td>\n",
       "      <td>64.900</td>\n",
       "      <td>159.0</td>\n",
       "      <td>2015-07-24</td>\n",
       "      <td>3</td>\n",
       "      <td>NaN</td>\n",
       "      <td>14</td>\n",
       "      <td>90.63</td>\n",
       "      <td>9</td>\n",
       "      <td>False</td>\n",
       "      <td>...</td>\n",
       "      <td>84.0</td>\n",
       "      <td>3.0</td>\n",
       "      <td>234.0</td>\n",
       "      <td>424.0</td>\n",
       "      <td>408.18</td>\n",
       "      <td>4</td>\n",
       "      <td>7</td>\n",
       "      <td>2015</td>\n",
       "      <td>другой</td>\n",
       "      <td>7.0</td>\n",
       "    </tr>\n",
       "    <tr>\n",
       "      <th>4</th>\n",
       "      <td>2</td>\n",
       "      <td>10.000</td>\n",
       "      <td>100.0</td>\n",
       "      <td>2018-06-19</td>\n",
       "      <td>2</td>\n",
       "      <td>3.03</td>\n",
       "      <td>14</td>\n",
       "      <td>32.00</td>\n",
       "      <td>13</td>\n",
       "      <td>False</td>\n",
       "      <td>...</td>\n",
       "      <td>112.0</td>\n",
       "      <td>1.0</td>\n",
       "      <td>48.0</td>\n",
       "      <td>121.0</td>\n",
       "      <td>100.00</td>\n",
       "      <td>1</td>\n",
       "      <td>6</td>\n",
       "      <td>2018</td>\n",
       "      <td>другой</td>\n",
       "      <td>8.0</td>\n",
       "    </tr>\n",
       "  </tbody>\n",
       "</table>\n",
       "<p>5 rows × 28 columns</p>\n",
       "</div>"
      ],
      "text/plain": [
       "   total_images  last_price_mln  total_area first_day_exposition  rooms  \\\n",
       "0            20          13.000       108.0           2019-03-07      3   \n",
       "1             7           3.350        40.4           2018-12-04      1   \n",
       "2            10           5.196        56.0           2015-08-20      2   \n",
       "3             0          64.900       159.0           2015-07-24      3   \n",
       "4             2          10.000       100.0           2018-06-19      2   \n",
       "\n",
       "   ceiling_height  floors_total  living_area  floor  is_apartment  ...  \\\n",
       "0            2.70            16        51.00      8         False  ...   \n",
       "1             NaN            11        18.60      1         False  ...   \n",
       "2             NaN             5        34.30      4         False  ...   \n",
       "3             NaN            14        90.63      9         False  ...   \n",
       "4            3.03            14        32.00     13         False  ...   \n",
       "\n",
       "   parks_nearest  ponds_around3000  ponds_nearest  days_exposition  \\\n",
       "0          482.0               2.0          755.0              NaN   \n",
       "1            NaN               0.0            NaN             81.0   \n",
       "2           90.0               2.0          574.0            558.0   \n",
       "3           84.0               3.0          234.0            424.0   \n",
       "4          112.0               1.0           48.0            121.0   \n",
       "\n",
       "  one_meter_price_ths  week_day  month  year  floor_type  \\\n",
       "0              120.37         3      3  2019      другой   \n",
       "1               82.92         1     12  2018      первый   \n",
       "2               92.79         3      8  2015      другой   \n",
       "3              408.18         4      7  2015      другой   \n",
       "4              100.00         1      6  2018      другой   \n",
       "\n",
       "   km_city_centers_nearest  \n",
       "0                     16.0  \n",
       "1                     19.0  \n",
       "2                     14.0  \n",
       "3                      7.0  \n",
       "4                      8.0  \n",
       "\n",
       "[5 rows x 28 columns]"
      ]
     },
     "execution_count": 49,
     "metadata": {},
     "output_type": "execute_result"
    }
   ],
   "source": [
    "data = data.rename(columns={'cityCenters_nearest': 'city_centers_nearest'})\n",
    "data['km_city_centers_nearest'] = data['city_centers_nearest'] / 1000\n",
    "data['km_city_centers_nearest'] = data['km_city_centers_nearest'].round()\n",
    "data.head()"
   ]
  },
  {
   "cell_type": "code",
   "execution_count": 50,
   "metadata": {
    "scrolled": true
   },
   "outputs": [
    {
     "name": "stdout",
     "output_type": "stream",
     "text": [
      "<class 'pandas.core.frame.DataFrame'>\n",
      "RangeIndex: 23604 entries, 0 to 23603\n",
      "Data columns (total 28 columns):\n",
      " #   Column                   Non-Null Count  Dtype         \n",
      "---  ------                   --------------  -----         \n",
      " 0   total_images             23604 non-null  int64         \n",
      " 1   last_price_mln           23604 non-null  float64       \n",
      " 2   total_area               23604 non-null  float64       \n",
      " 3   first_day_exposition     23604 non-null  datetime64[ns]\n",
      " 4   rooms                    23604 non-null  int64         \n",
      " 5   ceiling_height           14486 non-null  float64       \n",
      " 6   floors_total             23604 non-null  int32         \n",
      " 7   living_area              23604 non-null  float64       \n",
      " 8   floor                    23604 non-null  int64         \n",
      " 9   is_apartment             23604 non-null  bool          \n",
      " 10  studio                   23604 non-null  bool          \n",
      " 11  open_plan                23604 non-null  bool          \n",
      " 12  kitchen_area             23604 non-null  float64       \n",
      " 13  balcony                  23604 non-null  int32         \n",
      " 14  locality_name            23604 non-null  object        \n",
      " 15  airports_nearest         18073 non-null  float64       \n",
      " 16  city_centers_nearest     18096 non-null  float64       \n",
      " 17  parks_around3000         18097 non-null  float64       \n",
      " 18  parks_nearest            8039 non-null   float64       \n",
      " 19  ponds_around3000         18097 non-null  float64       \n",
      " 20  ponds_nearest            9056 non-null   float64       \n",
      " 21  days_exposition          20432 non-null  float64       \n",
      " 22  one_meter_price_ths      23604 non-null  float64       \n",
      " 23  week_day                 23604 non-null  int64         \n",
      " 24  month                    23604 non-null  int64         \n",
      " 25  year                     23604 non-null  int64         \n",
      " 26  floor_type               23604 non-null  object        \n",
      " 27  km_city_centers_nearest  18096 non-null  float64       \n",
      "dtypes: bool(3), datetime64[ns](1), float64(14), int32(2), int64(6), object(2)\n",
      "memory usage: 4.4+ MB\n"
     ]
    }
   ],
   "source": [
    "data.info()"
   ]
  },
  {
   "cell_type": "markdown",
   "metadata": {},
   "source": [
    "### Research data analysis"
   ]
  },
  {
   "cell_type": "markdown",
   "metadata": {},
   "source": [
    "#### Studying the parameters of objects"
   ]
  },
  {
   "cell_type": "markdown",
   "metadata": {},
   "source": [
    "For analysis, we will select the necessary columns in a separate variable, since if we call data, Jupiter hides part of the columns.\n",
    "At the beginning, let's look at the description of the data"
   ]
  },
  {
   "cell_type": "code",
   "execution_count": 51,
   "metadata": {},
   "outputs": [
    {
     "name": "stdout",
     "output_type": "stream",
     "text": [
      "<class 'pandas.core.frame.DataFrame'>\n",
      "RangeIndex: 23604 entries, 0 to 23603\n",
      "Data columns (total 28 columns):\n",
      " #   Column                   Non-Null Count  Dtype         \n",
      "---  ------                   --------------  -----         \n",
      " 0   total_images             23604 non-null  int64         \n",
      " 1   last_price_mln           23604 non-null  float64       \n",
      " 2   total_area               23604 non-null  float64       \n",
      " 3   first_day_exposition     23604 non-null  datetime64[ns]\n",
      " 4   rooms                    23604 non-null  int64         \n",
      " 5   ceiling_height           14486 non-null  float64       \n",
      " 6   floors_total             23604 non-null  int32         \n",
      " 7   living_area              23604 non-null  float64       \n",
      " 8   floor                    23604 non-null  int64         \n",
      " 9   is_apartment             23604 non-null  bool          \n",
      " 10  studio                   23604 non-null  bool          \n",
      " 11  open_plan                23604 non-null  bool          \n",
      " 12  kitchen_area             23604 non-null  float64       \n",
      " 13  balcony                  23604 non-null  int32         \n",
      " 14  locality_name            23604 non-null  object        \n",
      " 15  airports_nearest         18073 non-null  float64       \n",
      " 16  city_centers_nearest     18096 non-null  float64       \n",
      " 17  parks_around3000         18097 non-null  float64       \n",
      " 18  parks_nearest            8039 non-null   float64       \n",
      " 19  ponds_around3000         18097 non-null  float64       \n",
      " 20  ponds_nearest            9056 non-null   float64       \n",
      " 21  days_exposition          20432 non-null  float64       \n",
      " 22  one_meter_price_ths      23604 non-null  float64       \n",
      " 23  week_day                 23604 non-null  int64         \n",
      " 24  month                    23604 non-null  int64         \n",
      " 25  year                     23604 non-null  int64         \n",
      " 26  floor_type               23604 non-null  object        \n",
      " 27  km_city_centers_nearest  18096 non-null  float64       \n",
      "dtypes: bool(3), datetime64[ns](1), float64(14), int32(2), int64(6), object(2)\n",
      "memory usage: 4.4+ MB\n"
     ]
    }
   ],
   "source": [
    "data.info()"
   ]
  },
  {
   "cell_type": "code",
   "execution_count": 52,
   "metadata": {
    "scrolled": true
   },
   "outputs": [
    {
     "data": {
      "text/html": [
       "<div>\n",
       "<style scoped>\n",
       "    .dataframe tbody tr th:only-of-type {\n",
       "        vertical-align: middle;\n",
       "    }\n",
       "\n",
       "    .dataframe tbody tr th {\n",
       "        vertical-align: top;\n",
       "    }\n",
       "\n",
       "    .dataframe thead th {\n",
       "        text-align: right;\n",
       "    }\n",
       "</style>\n",
       "<table border=\"1\" class=\"dataframe\">\n",
       "  <thead>\n",
       "    <tr style=\"text-align: right;\">\n",
       "      <th></th>\n",
       "      <th>last_price_mln</th>\n",
       "      <th>total_area</th>\n",
       "      <th>rooms</th>\n",
       "      <th>ceiling_height</th>\n",
       "      <th>floors_total</th>\n",
       "      <th>living_area</th>\n",
       "      <th>kitchen_area</th>\n",
       "      <th>floor</th>\n",
       "      <th>floor_type</th>\n",
       "      <th>city_centers_nearest</th>\n",
       "      <th>airports_nearest</th>\n",
       "      <th>parks_nearest</th>\n",
       "      <th>week_day</th>\n",
       "      <th>month</th>\n",
       "    </tr>\n",
       "  </thead>\n",
       "  <tbody>\n",
       "    <tr>\n",
       "      <th>0</th>\n",
       "      <td>13.000</td>\n",
       "      <td>108.0</td>\n",
       "      <td>3</td>\n",
       "      <td>2.70</td>\n",
       "      <td>16</td>\n",
       "      <td>51.00</td>\n",
       "      <td>25.00</td>\n",
       "      <td>8</td>\n",
       "      <td>другой</td>\n",
       "      <td>16028.0</td>\n",
       "      <td>18863.0</td>\n",
       "      <td>482.0</td>\n",
       "      <td>3</td>\n",
       "      <td>3</td>\n",
       "    </tr>\n",
       "    <tr>\n",
       "      <th>1</th>\n",
       "      <td>3.350</td>\n",
       "      <td>40.4</td>\n",
       "      <td>1</td>\n",
       "      <td>NaN</td>\n",
       "      <td>11</td>\n",
       "      <td>18.60</td>\n",
       "      <td>11.00</td>\n",
       "      <td>1</td>\n",
       "      <td>первый</td>\n",
       "      <td>18603.0</td>\n",
       "      <td>12817.0</td>\n",
       "      <td>NaN</td>\n",
       "      <td>1</td>\n",
       "      <td>12</td>\n",
       "    </tr>\n",
       "    <tr>\n",
       "      <th>2</th>\n",
       "      <td>5.196</td>\n",
       "      <td>56.0</td>\n",
       "      <td>2</td>\n",
       "      <td>NaN</td>\n",
       "      <td>5</td>\n",
       "      <td>34.30</td>\n",
       "      <td>8.30</td>\n",
       "      <td>4</td>\n",
       "      <td>другой</td>\n",
       "      <td>13933.0</td>\n",
       "      <td>21741.0</td>\n",
       "      <td>90.0</td>\n",
       "      <td>3</td>\n",
       "      <td>8</td>\n",
       "    </tr>\n",
       "    <tr>\n",
       "      <th>3</th>\n",
       "      <td>64.900</td>\n",
       "      <td>159.0</td>\n",
       "      <td>3</td>\n",
       "      <td>NaN</td>\n",
       "      <td>14</td>\n",
       "      <td>90.63</td>\n",
       "      <td>27.82</td>\n",
       "      <td>9</td>\n",
       "      <td>другой</td>\n",
       "      <td>6800.0</td>\n",
       "      <td>28098.0</td>\n",
       "      <td>84.0</td>\n",
       "      <td>4</td>\n",
       "      <td>7</td>\n",
       "    </tr>\n",
       "    <tr>\n",
       "      <th>4</th>\n",
       "      <td>10.000</td>\n",
       "      <td>100.0</td>\n",
       "      <td>2</td>\n",
       "      <td>3.03</td>\n",
       "      <td>14</td>\n",
       "      <td>32.00</td>\n",
       "      <td>41.00</td>\n",
       "      <td>13</td>\n",
       "      <td>другой</td>\n",
       "      <td>8098.0</td>\n",
       "      <td>31856.0</td>\n",
       "      <td>112.0</td>\n",
       "      <td>1</td>\n",
       "      <td>6</td>\n",
       "    </tr>\n",
       "  </tbody>\n",
       "</table>\n",
       "</div>"
      ],
      "text/plain": [
       "   last_price_mln  total_area  rooms  ceiling_height  floors_total  \\\n",
       "0          13.000       108.0      3            2.70            16   \n",
       "1           3.350        40.4      1             NaN            11   \n",
       "2           5.196        56.0      2             NaN             5   \n",
       "3          64.900       159.0      3             NaN            14   \n",
       "4          10.000       100.0      2            3.03            14   \n",
       "\n",
       "   living_area  kitchen_area  floor floor_type  city_centers_nearest  \\\n",
       "0        51.00         25.00      8     другой               16028.0   \n",
       "1        18.60         11.00      1     первый               18603.0   \n",
       "2        34.30          8.30      4     другой               13933.0   \n",
       "3        90.63         27.82      9     другой                6800.0   \n",
       "4        32.00         41.00     13     другой                8098.0   \n",
       "\n",
       "   airports_nearest  parks_nearest  week_day  month  \n",
       "0           18863.0          482.0         3      3  \n",
       "1           12817.0            NaN         1     12  \n",
       "2           21741.0           90.0         3      8  \n",
       "3           28098.0           84.0         4      7  \n",
       "4           31856.0          112.0         1      6  "
      ]
     },
     "execution_count": 52,
     "metadata": {},
     "output_type": "execute_result"
    }
   ],
   "source": [
    "data_for_analysis = data[['last_price_mln',\n",
    "                          'total_area',\n",
    "                          'rooms',\n",
    "                          'ceiling_height',\n",
    "                          'floors_total',\n",
    "                          'living_area',\n",
    "                          'kitchen_area',\n",
    "                          'floor',\n",
    "                          'floor_type',\n",
    "                          'city_centers_nearest',\n",
    "                          'airports_nearest',\n",
    "                          'parks_nearest',\n",
    "                          'week_day',\n",
    "                          'month']]\n",
    "data_for_analysis.head()"
   ]
  },
  {
   "cell_type": "code",
   "execution_count": 53,
   "metadata": {
    "scrolled": true
   },
   "outputs": [
    {
     "data": {
      "text/html": [
       "<div>\n",
       "<style scoped>\n",
       "    .dataframe tbody tr th:only-of-type {\n",
       "        vertical-align: middle;\n",
       "    }\n",
       "\n",
       "    .dataframe tbody tr th {\n",
       "        vertical-align: top;\n",
       "    }\n",
       "\n",
       "    .dataframe thead th {\n",
       "        text-align: right;\n",
       "    }\n",
       "</style>\n",
       "<table border=\"1\" class=\"dataframe\">\n",
       "  <thead>\n",
       "    <tr style=\"text-align: right;\">\n",
       "      <th></th>\n",
       "      <th>last_price_mln</th>\n",
       "      <th>total_area</th>\n",
       "      <th>rooms</th>\n",
       "      <th>ceiling_height</th>\n",
       "      <th>floors_total</th>\n",
       "      <th>living_area</th>\n",
       "      <th>kitchen_area</th>\n",
       "      <th>floor</th>\n",
       "      <th>city_centers_nearest</th>\n",
       "      <th>airports_nearest</th>\n",
       "      <th>parks_nearest</th>\n",
       "      <th>week_day</th>\n",
       "      <th>month</th>\n",
       "    </tr>\n",
       "  </thead>\n",
       "  <tbody>\n",
       "    <tr>\n",
       "      <th>count</th>\n",
       "      <td>23604.000000</td>\n",
       "      <td>23604.000000</td>\n",
       "      <td>23604.000000</td>\n",
       "      <td>14486.000000</td>\n",
       "      <td>23604.000000</td>\n",
       "      <td>23604.000000</td>\n",
       "      <td>23604.000000</td>\n",
       "      <td>23604.000000</td>\n",
       "      <td>18096.000000</td>\n",
       "      <td>18073.000000</td>\n",
       "      <td>8039.000000</td>\n",
       "      <td>23604.000000</td>\n",
       "      <td>23604.000000</td>\n",
       "    </tr>\n",
       "    <tr>\n",
       "      <th>mean</th>\n",
       "      <td>6.541131</td>\n",
       "      <td>60.344253</td>\n",
       "      <td>2.071344</td>\n",
       "      <td>2.728062</td>\n",
       "      <td>10.668446</td>\n",
       "      <td>34.601111</td>\n",
       "      <td>10.501792</td>\n",
       "      <td>5.875953</td>\n",
       "      <td>14183.611240</td>\n",
       "      <td>28786.208654</td>\n",
       "      <td>490.560517</td>\n",
       "      <td>2.568209</td>\n",
       "      <td>6.399678</td>\n",
       "    </tr>\n",
       "    <tr>\n",
       "      <th>std</th>\n",
       "      <td>10.903486</td>\n",
       "      <td>35.652663</td>\n",
       "      <td>1.078495</td>\n",
       "      <td>0.292591</td>\n",
       "      <td>6.581752</td>\n",
       "      <td>22.365427</td>\n",
       "      <td>6.037775</td>\n",
       "      <td>4.871743</td>\n",
       "      <td>8611.698374</td>\n",
       "      <td>12624.507438</td>\n",
       "      <td>341.404753</td>\n",
       "      <td>1.788613</td>\n",
       "      <td>3.493486</td>\n",
       "    </tr>\n",
       "    <tr>\n",
       "      <th>min</th>\n",
       "      <td>0.430000</td>\n",
       "      <td>12.000000</td>\n",
       "      <td>0.000000</td>\n",
       "      <td>2.000000</td>\n",
       "      <td>1.000000</td>\n",
       "      <td>2.000000</td>\n",
       "      <td>1.300000</td>\n",
       "      <td>1.000000</td>\n",
       "      <td>181.000000</td>\n",
       "      <td>0.000000</td>\n",
       "      <td>1.000000</td>\n",
       "      <td>0.000000</td>\n",
       "      <td>1.000000</td>\n",
       "    </tr>\n",
       "    <tr>\n",
       "      <th>25%</th>\n",
       "      <td>3.400000</td>\n",
       "      <td>40.000000</td>\n",
       "      <td>1.000000</td>\n",
       "      <td>2.510000</td>\n",
       "      <td>5.000000</td>\n",
       "      <td>19.000000</td>\n",
       "      <td>7.000000</td>\n",
       "      <td>2.000000</td>\n",
       "      <td>9233.750000</td>\n",
       "      <td>18574.000000</td>\n",
       "      <td>288.000000</td>\n",
       "      <td>1.000000</td>\n",
       "      <td>3.000000</td>\n",
       "    </tr>\n",
       "    <tr>\n",
       "      <th>50%</th>\n",
       "      <td>4.650000</td>\n",
       "      <td>52.000000</td>\n",
       "      <td>2.000000</td>\n",
       "      <td>2.650000</td>\n",
       "      <td>9.000000</td>\n",
       "      <td>30.000000</td>\n",
       "      <td>9.000000</td>\n",
       "      <td>4.000000</td>\n",
       "      <td>13093.000000</td>\n",
       "      <td>26726.000000</td>\n",
       "      <td>455.000000</td>\n",
       "      <td>3.000000</td>\n",
       "      <td>6.000000</td>\n",
       "    </tr>\n",
       "    <tr>\n",
       "      <th>75%</th>\n",
       "      <td>6.799000</td>\n",
       "      <td>69.800000</td>\n",
       "      <td>3.000000</td>\n",
       "      <td>2.800000</td>\n",
       "      <td>16.000000</td>\n",
       "      <td>42.100000</td>\n",
       "      <td>12.000000</td>\n",
       "      <td>8.000000</td>\n",
       "      <td>16287.000000</td>\n",
       "      <td>37244.000000</td>\n",
       "      <td>612.000000</td>\n",
       "      <td>4.000000</td>\n",
       "      <td>10.000000</td>\n",
       "    </tr>\n",
       "    <tr>\n",
       "      <th>max</th>\n",
       "      <td>763.000000</td>\n",
       "      <td>900.000000</td>\n",
       "      <td>19.000000</td>\n",
       "      <td>8.300000</td>\n",
       "      <td>36.000000</td>\n",
       "      <td>409.700000</td>\n",
       "      <td>112.000000</td>\n",
       "      <td>33.000000</td>\n",
       "      <td>65968.000000</td>\n",
       "      <td>84869.000000</td>\n",
       "      <td>3190.000000</td>\n",
       "      <td>6.000000</td>\n",
       "      <td>12.000000</td>\n",
       "    </tr>\n",
       "  </tbody>\n",
       "</table>\n",
       "</div>"
      ],
      "text/plain": [
       "       last_price_mln    total_area         rooms  ceiling_height  \\\n",
       "count    23604.000000  23604.000000  23604.000000    14486.000000   \n",
       "mean         6.541131     60.344253      2.071344        2.728062   \n",
       "std         10.903486     35.652663      1.078495        0.292591   \n",
       "min          0.430000     12.000000      0.000000        2.000000   \n",
       "25%          3.400000     40.000000      1.000000        2.510000   \n",
       "50%          4.650000     52.000000      2.000000        2.650000   \n",
       "75%          6.799000     69.800000      3.000000        2.800000   \n",
       "max        763.000000    900.000000     19.000000        8.300000   \n",
       "\n",
       "       floors_total   living_area  kitchen_area         floor  \\\n",
       "count  23604.000000  23604.000000  23604.000000  23604.000000   \n",
       "mean      10.668446     34.601111     10.501792      5.875953   \n",
       "std        6.581752     22.365427      6.037775      4.871743   \n",
       "min        1.000000      2.000000      1.300000      1.000000   \n",
       "25%        5.000000     19.000000      7.000000      2.000000   \n",
       "50%        9.000000     30.000000      9.000000      4.000000   \n",
       "75%       16.000000     42.100000     12.000000      8.000000   \n",
       "max       36.000000    409.700000    112.000000     33.000000   \n",
       "\n",
       "       city_centers_nearest  airports_nearest  parks_nearest      week_day  \\\n",
       "count          18096.000000      18073.000000    8039.000000  23604.000000   \n",
       "mean           14183.611240      28786.208654     490.560517      2.568209   \n",
       "std             8611.698374      12624.507438     341.404753      1.788613   \n",
       "min              181.000000          0.000000       1.000000      0.000000   \n",
       "25%             9233.750000      18574.000000     288.000000      1.000000   \n",
       "50%            13093.000000      26726.000000     455.000000      3.000000   \n",
       "75%            16287.000000      37244.000000     612.000000      4.000000   \n",
       "max            65968.000000      84869.000000    3190.000000      6.000000   \n",
       "\n",
       "              month  \n",
       "count  23604.000000  \n",
       "mean       6.399678  \n",
       "std        3.493486  \n",
       "min        1.000000  \n",
       "25%        3.000000  \n",
       "50%        6.000000  \n",
       "75%       10.000000  \n",
       "max       12.000000  "
      ]
     },
     "execution_count": 53,
     "metadata": {},
     "output_type": "execute_result"
    }
   ],
   "source": [
    "data_for_analysis.describe()"
   ]
  },
  {
   "cell_type": "markdown",
   "metadata": {},
   "source": [
    "The first thing I would like to note is a quite small difference between the average and median values in almost all columns. There are only two columns in which the median and average are slightly different - price and floor. But even in them the difference is no more than one and a half times. In my opinion, this is due to the relative standardization of real estate. Ceilings cannot be 1000 meters high, which means that there are no very strong emissions. Similarly for other parameters - area, floor, etc. The similarity of the values in geodata is explained by the same thing - the size of the settlement is limited.\n",
    "Let's analyze the column with the price in more detail. It is the price in this table that is the most volatile factor, which is not tied to any strict standards. At the beginning, we will build a histogram to see the price distribution graph."
   ]
  },
  {
   "cell_type": "code",
   "execution_count": 54,
   "metadata": {},
   "outputs": [
    {
     "data": {
      "text/plain": [
       "<AxesSubplot:>"
      ]
     },
     "execution_count": 54,
     "metadata": {},
     "output_type": "execute_result"
    },
    {
     "data": {
      "image/png": "[encoded data removed]",
      "text/plain": [
       "<Figure size 432x288 with 1 Axes>"
      ]
     },
     "metadata": {
      "needs_background": "light"
     },
     "output_type": "display_data"
    }
   ],
   "source": [
    "data_for_analysis['last_price_mln'].hist(bins=50)"
   ]
  },
  {
   "cell_type": "markdown",
   "metadata": {},
   "source": [
    "The x-axis is very elongated, although the values on it are almost not visible. This means that there are lunges in the column that blur the view of the data. Let's remove lines with a price above 20 million from the dataframe. 75 percent of the values fit into 6.8 million rubles, so such a clipping will remove only the topmost layer of data and allow for better data analysis."
   ]
  },
  {
   "cell_type": "code",
   "execution_count": 55,
   "metadata": {},
   "outputs": [
    {
     "data": {
      "text/plain": [
       "<AxesSubplot:>"
      ]
     },
     "execution_count": 55,
     "metadata": {},
     "output_type": "execute_result"
    },
    {
     "data": {
      "image/png": "[encoded data removed]",
      "text/plain": [
       "<Figure size 432x288 with 1 Axes>"
      ]
     },
     "metadata": {
      "needs_background": "light"
     },
     "output_type": "display_data"
    }
   ],
   "source": [
    "data_analysis_filtered = data_for_analysis.query('last_price_mln < 20')\n",
    "data_analysis_filtered['last_price_mln'].hist(bins=50)"
   ]
  },
  {
   "cell_type": "markdown",
   "metadata": {},
   "source": [
    "The graph corresponds to the Poisson distribution. Cut off at zero, has a long tail. From this graph, we can conclude that the data is correct and can be used in the future."
   ]
  },
  {
   "cell_type": "markdown",
   "metadata": {},
   "source": [
    "The next column is total_area. Let's look at the histogram for it"
   ]
  },
  {
   "cell_type": "code",
   "execution_count": 56,
   "metadata": {},
   "outputs": [
    {
     "data": {
      "text/plain": [
       "<AxesSubplot:>"
      ]
     },
     "execution_count": 56,
     "metadata": {},
     "output_type": "execute_result"
    },
    {
     "data": {
      "image/png": "[encoded data removed]",
      "text/plain": [
       "<Figure size 432x288 with 1 Axes>"
      ]
     },
     "metadata": {
      "needs_background": "light"
     },
     "output_type": "display_data"
    }
   ],
   "source": [
    "data_analysis_filtered['total_area'].hist(bins=50)"
   ]
  },
  {
   "cell_type": "markdown",
   "metadata": {},
   "source": [
    "There is also a too long tail visible here. We will remove unnecessary values and limit the maximum to 150 meters"
   ]
  },
  {
   "cell_type": "code",
   "execution_count": 57,
   "metadata": {},
   "outputs": [
    {
     "data": {
      "text/plain": [
       "<AxesSubplot:>"
      ]
     },
     "execution_count": 57,
     "metadata": {},
     "output_type": "execute_result"
    },
    {
     "data": {
      "image/png": "[encoded data removed]",
      "text/plain": [
       "<Figure size 432x288 with 1 Axes>"
      ]
     },
     "metadata": {
      "needs_background": "light"
     },
     "output_type": "display_data"
    }
   ],
   "source": [
    "data_analysis_filtered = data_analysis_filtered.query('total_area < 150')\n",
    "data_analysis_filtered['total_area'].hist(bins=50)"
   ]
  },
  {
   "cell_type": "markdown",
   "metadata": {},
   "source": [
    "The graph has acquired a normal form. Corresponds to the normal distribution."
   ]
  },
  {
   "cell_type": "markdown",
   "metadata": {},
   "source": [
    "Next - rooms"
   ]
  },
  {
   "cell_type": "code",
   "execution_count": 58,
   "metadata": {},
   "outputs": [
    {
     "data": {
      "text/plain": [
       "<AxesSubplot:>"
      ]
     },
     "execution_count": 58,
     "metadata": {},
     "output_type": "execute_result"
    },
    {
     "data": {
      "image/png": "[encoded data removed]",
      "text/plain": [
       "<Figure size 432x288 with 1 Axes>"
      ]
     },
     "metadata": {
      "needs_background": "light"
     },
     "output_type": "display_data"
    }
   ],
   "source": [
    "data_analysis_filtered['rooms'].hist(bins=7)"
   ]
  },
  {
   "cell_type": "markdown",
   "metadata": {},
   "source": [
    "There is nothing to edit here. The graph also corresponds to the normal distribution."
   ]
  },
  {
   "cell_type": "markdown",
   "metadata": {},
   "source": [
    "In the ceiling_height column, we will limit the height to 4 meters. Most values fall within this range"
   ]
  },
  {
   "cell_type": "code",
   "execution_count": 59,
   "metadata": {},
   "outputs": [
    {
     "data": {
      "text/plain": [
       "<AxesSubplot:>"
      ]
     },
     "execution_count": 59,
     "metadata": {},
     "output_type": "execute_result"
    },
    {
     "data": {
      "image/png": "[encoded data removed]",
      "text/plain": [
       "<Figure size 432x288 with 1 Axes>"
      ]
     },
     "metadata": {
      "needs_background": "light"
     },
     "output_type": "display_data"
    }
   ],
   "source": [
    "data_analysis_filtered = data_analysis_filtered.query('ceiling_height < 4')\n",
    "data_analysis_filtered['ceiling_height'].hist(bins=20)"
   ]
  },
  {
   "cell_type": "markdown",
   "metadata": {},
   "source": [
    "Here we can also notice a small splash of about 2 meters. Since 2 meters is not the most realistic height for a ceiling, let's assume that the data is not accurate. Perhaps the person incorrectly used the separator when entering the height. But we cannot correct these values, so we will limit the sample to a height of 2.25"
   ]
  },
  {
   "cell_type": "code",
   "execution_count": 60,
   "metadata": {},
   "outputs": [
    {
     "data": {
      "text/plain": [
       "<AxesSubplot:>"
      ]
     },
     "execution_count": 60,
     "metadata": {},
     "output_type": "execute_result"
    },
    {
     "data": {
      "image/png": "[encoded data removed]",
      "text/plain": [
       "<Figure size 432x288 with 1 Axes>"
      ]
     },
     "metadata": {
      "needs_background": "light"
     },
     "output_type": "display_data"
    }
   ],
   "source": [
    "data_analysis_filtered = data_analysis_filtered.query('ceiling_height > 2.25')\n",
    "data_analysis_filtered['ceiling_height'].hist(bins=20)"
   ]
  },
  {
   "cell_type": "markdown",
   "metadata": {},
   "source": [
    "Such a graph already corresponds more to the distribution. According to the graph, the standardization of the data under consideration is noticeable. The graph goes stepwise, with a lag of 25 centimeters."
   ]
  },
  {
   "cell_type": "markdown",
   "metadata": {},
   "source": [
    "Next - floors_total. Let's limit the number of storeys to 25 floors and see the graph"
   ]
  },
  {
   "cell_type": "code",
   "execution_count": 61,
   "metadata": {},
   "outputs": [
    {
     "data": {
      "text/plain": [
       "<AxesSubplot:>"
      ]
     },
     "execution_count": 61,
     "metadata": {},
     "output_type": "execute_result"
    },
    {
     "data": {
      "image/png": "[encoded data removed]",
      "text/plain": [
       "<Figure size 432x288 with 1 Axes>"
      ]
     },
     "metadata": {
      "needs_background": "light"
     },
     "output_type": "display_data"
    }
   ],
   "source": [
    "data_analysis_filtered = data_analysis_filtered.query('floors_total < 25')\n",
    "data_analysis_filtered['floors_total'].hist(bins=20)"
   ]
  },
  {
   "cell_type": "markdown",
   "metadata": {},
   "source": [
    "The \"waves\" of mass housing construction are very noticeable on the graph. 5-storey Khrushchevki, 9-storey Brezhnevki and modern high-rise construction."
   ]
  },
  {
   "cell_type": "markdown",
   "metadata": {},
   "source": [
    "living_area. Let's limit living_area to 100 squares and look at the graph"
   ]
  },
  {
   "cell_type": "code",
   "execution_count": 62,
   "metadata": {},
   "outputs": [
    {
     "data": {
      "text/plain": [
       "<AxesSubplot:>"
      ]
     },
     "execution_count": 62,
     "metadata": {},
     "output_type": "execute_result"
    },
    {
     "data": {
      "image/png": "[encoded data removed]",
      "text/plain": [
       "<Figure size 432x288 with 1 Axes>"
      ]
     },
     "metadata": {
      "needs_background": "light"
     },
     "output_type": "display_data"
    }
   ],
   "source": [
    "data_analysis_filtered = data_analysis_filtered.query('living_area < 100')\n",
    "data_analysis_filtered['living_area'].hist(bins=20)"
   ]
  },
  {
   "cell_type": "markdown",
   "metadata": {},
   "source": [
    "The graph shows a very strange dip at 22 meters. Perhaps this is a reason to report a problem with data collection"
   ]
  },
  {
   "cell_type": "markdown",
   "metadata": {},
   "source": [
    "kitchen_area will be limited to 30 meters"
   ]
  },
  {
   "cell_type": "code",
   "execution_count": 63,
   "metadata": {},
   "outputs": [
    {
     "data": {
      "text/plain": [
       "<AxesSubplot:>"
      ]
     },
     "execution_count": 63,
     "metadata": {},
     "output_type": "execute_result"
    },
    {
     "data": {
      "image/png": "[encoded data removed]",
      "text/plain": [
       "<Figure size 432x288 with 1 Axes>"
      ]
     },
     "metadata": {
      "needs_background": "light"
     },
     "output_type": "display_data"
    }
   ],
   "source": [
    "data_analysis_filtered = data_analysis_filtered.query('kitchen_area < 30')\n",
    "data_analysis_filtered['kitchen_area'].hist(bins=20)"
   ]
  },
  {
   "cell_type": "markdown",
   "metadata": {},
   "source": [
    "The graph, in general, corresponds to a normal distribution. There is a small dip in the middle, but it is not critical."
   ]
  },
  {
   "cell_type": "markdown",
   "metadata": {},
   "source": [
    "floor. We will not limit anything here, since we made a slice by floor_total before that"
   ]
  },
  {
   "cell_type": "code",
   "execution_count": 64,
   "metadata": {},
   "outputs": [
    {
     "data": {
      "text/plain": [
       "<AxesSubplot:>"
      ]
     },
     "execution_count": 64,
     "metadata": {},
     "output_type": "execute_result"
    },
    {
     "data": {
      "image/png": "[encoded data removed]",
      "text/plain": [
       "<Figure size 432x288 with 1 Axes>"
      ]
     },
     "metadata": {
      "needs_background": "light"
     },
     "output_type": "display_data"
    }
   ],
   "source": [
    "data_analysis_filtered['floor'].hist(bins=10)"
   ]
  },
  {
   "cell_type": "markdown",
   "metadata": {},
   "source": [
    "The graph does not correspond to the normal distribution, but it should not correspond to it. Here is the question of the frequency of the presence of floors in different houses. The 1st floor is in all houses, and the 3rd only in three-storey and above."
   ]
  },
  {
   "cell_type": "markdown",
   "metadata": {},
   "source": [
    "city_center_nearest. Then there are the geodata. Let's look at the graph without slices"
   ]
  },
  {
   "cell_type": "code",
   "execution_count": 65,
   "metadata": {},
   "outputs": [
    {
     "data": {
      "text/plain": [
       "<AxesSubplot:>"
      ]
     },
     "execution_count": 65,
     "metadata": {},
     "output_type": "execute_result"
    },
    {
     "data": {
      "image/png": "[encoded data removed]",
      "text/plain": [
       "<Figure size 432x288 with 1 Axes>"
      ]
     },
     "metadata": {
      "needs_background": "light"
     },
     "output_type": "display_data"
    }
   ],
   "source": [
    "data_analysis_filtered['city_centers_nearest'].hist(bins=50)"
   ]
  },
  {
   "cell_type": "markdown",
   "metadata": {},
   "source": [
    "Two strange bursts can be seen at 30 and 50 thousand meters. At the same time, 75% of the values fit into 16 thousand meters. Let's limit the data to 25 thousand meters"
   ]
  },
  {
   "cell_type": "code",
   "execution_count": 66,
   "metadata": {},
   "outputs": [
    {
     "data": {
      "text/plain": [
       "<AxesSubplot:>"
      ]
     },
     "execution_count": 66,
     "metadata": {},
     "output_type": "execute_result"
    },
    {
     "data": {
      "image/png": "[encoded data removed]",
      "text/plain": [
       "<Figure size 432x288 with 1 Axes>"
      ]
     },
     "metadata": {
      "needs_background": "light"
     },
     "output_type": "display_data"
    }
   ],
   "source": [
    "data_analysis_filtered = data_analysis_filtered.query('city_centers_nearest < 25000')\n",
    "data_analysis_filtered['city_centers_nearest'].hist(bins=50)"
   ]
  },
  {
   "cell_type": "markdown",
   "metadata": {},
   "source": [
    "Thus, the graph becomes similar to a normal distribution. There is only a small spike at 5 thousand. Perhaps 5 and 15 thousand is the placement of sleeping areas in small towns and St. Petersburg, respectively."
   ]
  },
  {
   "cell_type": "markdown",
   "metadata": {},
   "source": [
    "Distance from the airport"
   ]
  },
  {
   "cell_type": "code",
   "execution_count": 67,
   "metadata": {},
   "outputs": [
    {
     "data": {
      "text/plain": [
       "<AxesSubplot:>"
      ]
     },
     "execution_count": 67,
     "metadata": {},
     "output_type": "execute_result"
    },
    {
     "data": {
      "image/png": "[encoded data removed]",
      "text/plain": [
       "<Figure size 432x288 with 1 Axes>"
      ]
     },
     "metadata": {
      "needs_background": "light"
     },
     "output_type": "display_data"
    }
   ],
   "source": [
    "data_analysis_filtered['airports_nearest'].hist(bins=50)"
   ]
  },
  {
   "cell_type": "markdown",
   "metadata": {},
   "source": [
    "Most likely, the distance from Pulkovo is shown here. In general, the distribution corresponds to reality - the first surge is the largest - St. Petersburg, the rest, slightly smaller - the outskirts of St. Petersburg and relatively populated cities in other directions from the airport."
   ]
  },
  {
   "cell_type": "markdown",
   "metadata": {},
   "source": [
    "Next - parks"
   ]
  },
  {
   "cell_type": "code",
   "execution_count": 68,
   "metadata": {},
   "outputs": [
    {
     "data": {
      "text/plain": [
       "<AxesSubplot:>"
      ]
     },
     "execution_count": 68,
     "metadata": {},
     "output_type": "execute_result"
    },
    {
     "data": {
      "image/png": "[encoded data removed]",
      "text/plain": [
       "<Figure size 432x288 with 1 Axes>"
      ]
     },
     "metadata": {
      "needs_background": "light"
     },
     "output_type": "display_data"
    }
   ],
   "source": [
    "data_analysis_filtered['parks_nearest'].hist(bins=50)"
   ]
  },
  {
   "cell_type": "markdown",
   "metadata": {},
   "source": [
    "Here the distribution is already more in line with normal, since the park is more distributed across the territories of the location. We will make a cut of 1500 meters"
   ]
  },
  {
   "cell_type": "code",
   "execution_count": 69,
   "metadata": {},
   "outputs": [
    {
     "data": {
      "text/plain": [
       "<AxesSubplot:>"
      ]
     },
     "execution_count": 69,
     "metadata": {},
     "output_type": "execute_result"
    },
    {
     "data": {
      "image/png": "[encoded data removed]",
      "text/plain": [
       "<Figure size 432x288 with 1 Axes>"
      ]
     },
     "metadata": {
      "needs_background": "light"
     },
     "output_type": "display_data"
    }
   ],
   "source": [
    "data_analysis_filtered = data_analysis_filtered.query('parks_nearest < 1500')\n",
    "data_analysis_filtered['parks_nearest'].hist(bins=50)"
   ]
  },
  {
   "cell_type": "markdown",
   "metadata": {},
   "source": [
    "Day of the week and month"
   ]
  },
  {
   "cell_type": "code",
   "execution_count": 70,
   "metadata": {},
   "outputs": [
    {
     "data": {
      "text/plain": [
       "<AxesSubplot:>"
      ]
     },
     "metadata": {},
     "output_type": "display_data"
    },
    {
     "data": {
      "image/png": "[encoded data removed]",
      "text/plain": [
       "<Figure size 432x288 with 1 Axes>"
      ]
     },
     "metadata": {
      "needs_background": "light"
     },
     "output_type": "display_data"
    }
   ],
   "source": [
    "display(data_analysis_filtered['week_day'].hist(bins=7))"
   ]
  },
  {
   "cell_type": "markdown",
   "metadata": {},
   "source": [
    "It is expected that people post less ads on Saturday and Sunday."
   ]
  },
  {
   "cell_type": "code",
   "execution_count": 71,
   "metadata": {},
   "outputs": [
    {
     "data": {
      "text/plain": [
       "<AxesSubplot:>"
      ]
     },
     "metadata": {},
     "output_type": "display_data"
    },
    {
     "data": {
      "image/png": "[encoded data removed]",
      "text/plain": [
       "<Figure size 432x288 with 1 Axes>"
      ]
     },
     "metadata": {
      "needs_background": "light"
     },
     "output_type": "display_data"
    }
   ],
   "source": [
    "display(data_analysis_filtered['month'].hist(bins=12))"
   ]
  },
  {
   "cell_type": "markdown",
   "metadata": {},
   "source": [
    "Here we also expect a conclusion - the May holidays and the new year are not the time to engage in real estate."
   ]
  },
  {
   "cell_type": "markdown",
   "metadata": {},
   "source": [
    "And let's see in the end what kind of table we got data_analysis_filtered"
   ]
  },
  {
   "cell_type": "code",
   "execution_count": 72,
   "metadata": {
    "scrolled": true
   },
   "outputs": [
    {
     "data": {
      "text/html": [
       "<div>\n",
       "<style scoped>\n",
       "    .dataframe tbody tr th:only-of-type {\n",
       "        vertical-align: middle;\n",
       "    }\n",
       "\n",
       "    .dataframe tbody tr th {\n",
       "        vertical-align: top;\n",
       "    }\n",
       "\n",
       "    .dataframe thead th {\n",
       "        text-align: right;\n",
       "    }\n",
       "</style>\n",
       "<table border=\"1\" class=\"dataframe\">\n",
       "  <thead>\n",
       "    <tr style=\"text-align: right;\">\n",
       "      <th></th>\n",
       "      <th>last_price_mln</th>\n",
       "      <th>total_area</th>\n",
       "      <th>rooms</th>\n",
       "      <th>ceiling_height</th>\n",
       "      <th>floors_total</th>\n",
       "      <th>living_area</th>\n",
       "      <th>kitchen_area</th>\n",
       "      <th>floor</th>\n",
       "      <th>city_centers_nearest</th>\n",
       "      <th>airports_nearest</th>\n",
       "      <th>parks_nearest</th>\n",
       "      <th>week_day</th>\n",
       "      <th>month</th>\n",
       "    </tr>\n",
       "  </thead>\n",
       "  <tbody>\n",
       "    <tr>\n",
       "      <th>count</th>\n",
       "      <td>4054.000000</td>\n",
       "      <td>4054.000000</td>\n",
       "      <td>4054.000000</td>\n",
       "      <td>4054.000000</td>\n",
       "      <td>4054.000000</td>\n",
       "      <td>4054.000000</td>\n",
       "      <td>4054.000000</td>\n",
       "      <td>4054.000000</td>\n",
       "      <td>4054.000000</td>\n",
       "      <td>4043.000000</td>\n",
       "      <td>4054.000000</td>\n",
       "      <td>4054.00000</td>\n",
       "      <td>4054.000000</td>\n",
       "    </tr>\n",
       "    <tr>\n",
       "      <th>mean</th>\n",
       "      <td>6.712456</td>\n",
       "      <td>60.409282</td>\n",
       "      <td>2.175382</td>\n",
       "      <td>2.775488</td>\n",
       "      <td>9.354218</td>\n",
       "      <td>35.594665</td>\n",
       "      <td>10.027950</td>\n",
       "      <td>5.141589</td>\n",
       "      <td>10437.047114</td>\n",
       "      <td>27990.592135</td>\n",
       "      <td>456.829798</td>\n",
       "      <td>2.51628</td>\n",
       "      <td>6.300937</td>\n",
       "    </tr>\n",
       "    <tr>\n",
       "      <th>std</th>\n",
       "      <td>3.282103</td>\n",
       "      <td>23.635024</td>\n",
       "      <td>0.972393</td>\n",
       "      <td>0.288058</td>\n",
       "      <td>4.941836</td>\n",
       "      <td>16.270638</td>\n",
       "      <td>4.126934</td>\n",
       "      <td>3.842852</td>\n",
       "      <td>4528.448184</td>\n",
       "      <td>10942.784954</td>\n",
       "      <td>229.733354</td>\n",
       "      <td>1.78214</td>\n",
       "      <td>3.487840</td>\n",
       "    </tr>\n",
       "    <tr>\n",
       "      <th>min</th>\n",
       "      <td>1.600000</td>\n",
       "      <td>12.000000</td>\n",
       "      <td>0.000000</td>\n",
       "      <td>2.300000</td>\n",
       "      <td>2.000000</td>\n",
       "      <td>5.400000</td>\n",
       "      <td>2.000000</td>\n",
       "      <td>1.000000</td>\n",
       "      <td>208.000000</td>\n",
       "      <td>6914.000000</td>\n",
       "      <td>3.000000</td>\n",
       "      <td>0.00000</td>\n",
       "      <td>1.000000</td>\n",
       "    </tr>\n",
       "    <tr>\n",
       "      <th>25%</th>\n",
       "      <td>4.390000</td>\n",
       "      <td>43.000000</td>\n",
       "      <td>1.000000</td>\n",
       "      <td>2.540000</td>\n",
       "      <td>5.000000</td>\n",
       "      <td>21.000000</td>\n",
       "      <td>7.000000</td>\n",
       "      <td>2.000000</td>\n",
       "      <td>6576.750000</td>\n",
       "      <td>19554.000000</td>\n",
       "      <td>294.250000</td>\n",
       "      <td>1.00000</td>\n",
       "      <td>3.000000</td>\n",
       "    </tr>\n",
       "    <tr>\n",
       "      <th>50%</th>\n",
       "      <td>5.700000</td>\n",
       "      <td>55.600000</td>\n",
       "      <td>2.000000</td>\n",
       "      <td>2.700000</td>\n",
       "      <td>9.000000</td>\n",
       "      <td>32.000000</td>\n",
       "      <td>9.000000</td>\n",
       "      <td>4.000000</td>\n",
       "      <td>11220.000000</td>\n",
       "      <td>26943.000000</td>\n",
       "      <td>456.000000</td>\n",
       "      <td>2.00000</td>\n",
       "      <td>6.000000</td>\n",
       "    </tr>\n",
       "    <tr>\n",
       "      <th>75%</th>\n",
       "      <td>8.200000</td>\n",
       "      <td>73.000000</td>\n",
       "      <td>3.000000</td>\n",
       "      <td>3.000000</td>\n",
       "      <td>12.000000</td>\n",
       "      <td>45.000000</td>\n",
       "      <td>11.900000</td>\n",
       "      <td>7.000000</td>\n",
       "      <td>14005.500000</td>\n",
       "      <td>36574.000000</td>\n",
       "      <td>602.750000</td>\n",
       "      <td>4.00000</td>\n",
       "      <td>9.000000</td>\n",
       "    </tr>\n",
       "    <tr>\n",
       "      <th>max</th>\n",
       "      <td>19.999000</td>\n",
       "      <td>148.600000</td>\n",
       "      <td>7.000000</td>\n",
       "      <td>3.980000</td>\n",
       "      <td>24.000000</td>\n",
       "      <td>99.600000</td>\n",
       "      <td>29.300000</td>\n",
       "      <td>24.000000</td>\n",
       "      <td>24850.000000</td>\n",
       "      <td>54723.000000</td>\n",
       "      <td>1499.000000</td>\n",
       "      <td>6.00000</td>\n",
       "      <td>12.000000</td>\n",
       "    </tr>\n",
       "  </tbody>\n",
       "</table>\n",
       "</div>"
      ],
      "text/plain": [
       "       last_price_mln   total_area        rooms  ceiling_height  floors_total  \\\n",
       "count     4054.000000  4054.000000  4054.000000     4054.000000   4054.000000   \n",
       "mean         6.712456    60.409282     2.175382        2.775488      9.354218   \n",
       "std          3.282103    23.635024     0.972393        0.288058      4.941836   \n",
       "min          1.600000    12.000000     0.000000        2.300000      2.000000   \n",
       "25%          4.390000    43.000000     1.000000        2.540000      5.000000   \n",
       "50%          5.700000    55.600000     2.000000        2.700000      9.000000   \n",
       "75%          8.200000    73.000000     3.000000        3.000000     12.000000   \n",
       "max         19.999000   148.600000     7.000000        3.980000     24.000000   \n",
       "\n",
       "       living_area  kitchen_area        floor  city_centers_nearest  \\\n",
       "count  4054.000000   4054.000000  4054.000000           4054.000000   \n",
       "mean     35.594665     10.027950     5.141589          10437.047114   \n",
       "std      16.270638      4.126934     3.842852           4528.448184   \n",
       "min       5.400000      2.000000     1.000000            208.000000   \n",
       "25%      21.000000      7.000000     2.000000           6576.750000   \n",
       "50%      32.000000      9.000000     4.000000          11220.000000   \n",
       "75%      45.000000     11.900000     7.000000          14005.500000   \n",
       "max      99.600000     29.300000    24.000000          24850.000000   \n",
       "\n",
       "       airports_nearest  parks_nearest    week_day        month  \n",
       "count       4043.000000    4054.000000  4054.00000  4054.000000  \n",
       "mean       27990.592135     456.829798     2.51628     6.300937  \n",
       "std        10942.784954     229.733354     1.78214     3.487840  \n",
       "min         6914.000000       3.000000     0.00000     1.000000  \n",
       "25%        19554.000000     294.250000     1.00000     3.000000  \n",
       "50%        26943.000000     456.000000     2.00000     6.000000  \n",
       "75%        36574.000000     602.750000     4.00000     9.000000  \n",
       "max        54723.000000    1499.000000     6.00000    12.000000  "
      ]
     },
     "metadata": {},
     "output_type": "display_data"
    },
    {
     "name": "stdout",
     "output_type": "stream",
     "text": [
      "<class 'pandas.core.frame.DataFrame'>\n",
      "Int64Index: 4054 entries, 0 to 23602\n",
      "Data columns (total 14 columns):\n",
      " #   Column                Non-Null Count  Dtype  \n",
      "---  ------                --------------  -----  \n",
      " 0   last_price_mln        4054 non-null   float64\n",
      " 1   total_area            4054 non-null   float64\n",
      " 2   rooms                 4054 non-null   int64  \n",
      " 3   ceiling_height        4054 non-null   float64\n",
      " 4   floors_total          4054 non-null   int32  \n",
      " 5   living_area           4054 non-null   float64\n",
      " 6   kitchen_area          4054 non-null   float64\n",
      " 7   floor                 4054 non-null   int64  \n",
      " 8   floor_type            4054 non-null   object \n",
      " 9   city_centers_nearest  4054 non-null   float64\n",
      " 10  airports_nearest      4043 non-null   float64\n",
      " 11  parks_nearest         4054 non-null   float64\n",
      " 12  week_day              4054 non-null   int64  \n",
      " 13  month                 4054 non-null   int64  \n",
      "dtypes: float64(8), int32(1), int64(4), object(1)\n",
      "memory usage: 459.2+ KB\n"
     ]
    }
   ],
   "source": [
    "display(data_analysis_filtered.describe())\n",
    "data_analysis_filtered.info()"
   ]
  },
  {
   "cell_type": "markdown",
   "metadata": {},
   "source": [
    "After a series of slices, there are only 4 thousand values left. But the median is very close to the average, there are no extreme values and we are convinced of the correctness of the data presented."
   ]
  },
  {
   "cell_type": "markdown",
   "metadata": {},
   "source": [
    "#### The speed of sale of apartments"
   ]
  },
  {
   "cell_type": "code",
   "execution_count": 73,
   "metadata": {},
   "outputs": [
    {
     "data": {
      "text/plain": [
       "count    20432.000000\n",
       "mean       180.914546\n",
       "std        219.718380\n",
       "min          1.000000\n",
       "25%         45.000000\n",
       "50%         95.000000\n",
       "75%        232.000000\n",
       "max       1580.000000\n",
       "Name: days_exposition, dtype: float64"
      ]
     },
     "metadata": {},
     "output_type": "display_data"
    },
    {
     "data": {
      "text/plain": [
       "<AxesSubplot:>"
      ]
     },
     "execution_count": 73,
     "metadata": {},
     "output_type": "execute_result"
    },
    {
     "data": {
      "image/png": "[encoded data removed]",
      "text/plain": [
       "<Figure size 432x288 with 1 Axes>"
      ]
     },
     "metadata": {
      "needs_background": "light"
     },
     "output_type": "display_data"
    }
   ],
   "source": [
    "display(data['days_exposition'].describe())\n",
    "data['days_exposition'].hist(bins=20)"
   ]
  },
  {
   "cell_type": "markdown",
   "metadata": {},
   "source": [
    "As can be seen from the output above, the average is 180 days, the median is 95. The difference is very big. Let's take a closer look."
   ]
  },
  {
   "cell_type": "markdown",
   "metadata": {},
   "source": [
    "The tail of the graph is quite elongated. In addition, the \"everyday\" logic tells us that the sale of an apartment is longer than a year, i.e. 365 days is already long enough.\n",
    "Let's limit the sample limits to two years, i.e. 730 days. It is not necessary to make a larger restriction, since in this case a large number of values will fall out."
   ]
  },
  {
   "cell_type": "code",
   "execution_count": 74,
   "metadata": {},
   "outputs": [
    {
     "data": {
      "text/plain": [
       "<AxesSubplot:>"
      ]
     },
     "execution_count": 74,
     "metadata": {},
     "output_type": "execute_result"
    },
    {
     "data": {
      "image/png": "[encoded data removed]",
      "text/plain": [
       "<Figure size 432x288 with 1 Axes>"
      ]
     },
     "metadata": {
      "needs_background": "light"
     },
     "output_type": "display_data"
    }
   ],
   "source": [
    "data.query('days_exposition < 730')['days_exposition'].hist(bins=50)"
   ]
  },
  {
   "cell_type": "markdown",
   "metadata": {},
   "source": [
    "At the interval 0-100, a rather strong dip is noticeable. Let's look at it in more detail"
   ]
  },
  {
   "cell_type": "code",
   "execution_count": 75,
   "metadata": {},
   "outputs": [
    {
     "data": {
      "text/plain": [
       "<AxesSubplot:>"
      ]
     },
     "execution_count": 75,
     "metadata": {},
     "output_type": "execute_result"
    },
    {
     "data": {
      "image/png": "[encoded data removed]",
      "text/plain": [
       "<Figure size 432x288 with 1 Axes>"
      ]
     },
     "metadata": {
      "needs_background": "light"
     },
     "output_type": "display_data"
    }
   ],
   "source": [
    "data.query('days_exposition < 100')['days_exposition'].hist(bins=50)"
   ]
  },
  {
   "cell_type": "markdown",
   "metadata": {},
   "source": [
    "Very different values are visible at 45 and 60 days. I believe this is the standard term for placing an ad. That is, a person after the sale of an apartment does not remove / forgets to remove the ad, but after the deadline for submitting the ad, it is not renewed by the user, which means that it is no longer relevant for the user and the object has been withdrawn from sale.\n",
    "In addition, minor spikes are noticeable at \"equal\" time intervals - a week, a month, three months. Without knowing the exact mechanics of yandex.real estate, it is difficult to say exactly about the nature of such spikes. These are either custom \"alarm clocks\" or the deadline for submitting an ad with a paid raise in Vyborg."
   ]
  },
  {
   "cell_type": "markdown",
   "metadata": {},
   "source": [
    "So after a closer look at the graph, we can say that a quick sale is a sale within 45 days, since during this time a significant part of the ads are removed and the corresponding peaks are visible, but still 75% of the ads remain. And the long sale will also count for 232 days. After this moment, the number of objects sold gradually falls below the mark of 20 pieces per day, that is, 1/1000 of the initial volume."
   ]
  },
  {
   "cell_type": "markdown",
   "metadata": {},
   "source": [
    "#### Factors influencing the cost of the object"
   ]
  },
  {
   "cell_type": "markdown",
   "metadata": {},
   "source": [
    "In my opinion, to answer this question, it is best to look at the scattering diagram of the proposed values. Moreover, we will watch it on the maximally filtered data_analysis_filtered table, since it will show more accurate data."
   ]
  },
  {
   "cell_type": "code",
   "execution_count": 76,
   "metadata": {},
   "outputs": [
    {
     "data": {
      "text/plain": [
       "0.8066042884331892"
      ]
     },
     "metadata": {},
     "output_type": "display_data"
    },
    {
     "data": {
      "text/plain": [
       "0.6982766166368095"
      ]
     },
     "metadata": {},
     "output_type": "display_data"
    },
    {
     "data": {
      "text/plain": [
       "0.6074586186995393"
      ]
     },
     "metadata": {},
     "output_type": "display_data"
    },
    {
     "data": {
      "text/plain": [
       "<AxesSubplot:title={'center':'year'}, xlabel='year'>"
      ]
     },
     "execution_count": 76,
     "metadata": {},
     "output_type": "execute_result"
    },
    {
     "data": {
      "image/png": "[encoded data removed]",
      "text/plain": [
       "<Figure size 432x288 with 1 Axes>"
      ]
     },
     "metadata": {
      "needs_background": "light"
     },
     "output_type": "display_data"
    },
    {
     "data": {
      "image/png": "[encoded data removed]",
      "text/plain": [
       "<Figure size 432x288 with 1 Axes>"
      ]
     },
     "metadata": {
      "needs_background": "light"
     },
     "output_type": "display_data"
    },
    {
     "data": {
      "image/png": "[encoded data removed]",
      "text/plain": [
       "<Figure size 432x288 with 1 Axes>"
      ]
     },
     "metadata": {
      "needs_background": "light"
     },
     "output_type": "display_data"
    },
    {
     "data": {
      "image/png": "[encoded data removed]",
      "text/plain": [
       "<Figure size 432x288 with 1 Axes>"
      ]
     },
     "metadata": {
      "needs_background": "light"
     },
     "output_type": "display_data"
    },
    {
     "data": {
      "image/png": "[encoded data removed]",
      "text/plain": [
       "<Figure size 432x288 with 1 Axes>"
      ]
     },
     "metadata": {
      "needs_background": "light"
     },
     "output_type": "display_data"
    },
    {
     "data": {
      "image/png": "[encoded data removed]",
      "text/plain": [
       "<Figure size 432x288 with 1 Axes>"
      ]
     },
     "metadata": {
      "needs_background": "light"
     },
     "output_type": "display_data"
    },
    {
     "data": {
      "image/png": "[encoded data removed]",
      "text/plain": [
       "<Figure size 432x288 with 1 Axes>"
      ]
     },
     "metadata": {
      "needs_background": "light"
     },
     "output_type": "display_data"
    },
    {
     "data": {
      "image/png": "[encoded data removed]",
      "text/plain": [
       "<Figure size 432x288 with 1 Axes>"
      ]
     },
     "metadata": {
      "needs_background": "light"
     },
     "output_type": "display_data"
    }
   ],
   "source": [
    "display(data_analysis_filtered['last_price_mln'].corr(data_analysis_filtered['total_area']))\n",
    "data_analysis_filtered.plot(kind='scatter', x='total_area', y='last_price_mln', grid=True, title='total_area')\n",
    "display(data_analysis_filtered['last_price_mln'].corr(data_analysis_filtered['living_area']))\n",
    "data_analysis_filtered.plot(kind='scatter', x='living_area', y='last_price_mln', grid=True, title='living_area')\n",
    "display(data_analysis_filtered['last_price_mln'].corr(data_analysis_filtered['kitchen_area']))\n",
    "data_analysis_filtered.plot(kind='scatter', x='kitchen_area', y='last_price_mln', grid=True, title='kitchen_area')\n",
    "data_analysis_filtered.pivot_table(index='rooms', values='last_price_mln').plot(kind='bar', grid=True, title='rooms')\n",
    "data.pivot_table(index='floor_type', values='last_price_mln').plot(kind='bar', grid=True, title='floor_type')\n",
    "data_analysis_filtered.pivot_table(index='week_day', values='last_price_mln').plot(kind='bar', grid=True, title='week_day')\n",
    "data_analysis_filtered.pivot_table(index='month', values='last_price_mln').plot(kind='bar', grid=True, title='month')\n",
    "data.pivot_table(index='year', values='last_price_mln').plot(kind='bar', grid=True, title='year')"
   ]
  },
  {
   "cell_type": "markdown",
   "metadata": {},
   "source": [
    "Based on the graphs, the most determining factor among those listed is the total area, the number of rooms and the year of the ad submission. Also an important factor is the floor. The first floor is cheaper, and the difference between the other floors and the last is not so significant."
   ]
  },
  {
   "cell_type": "markdown",
   "metadata": {},
   "source": [
    "#### Average price per square meter"
   ]
  },
  {
   "cell_type": "markdown",
   "metadata": {},
   "source": [
    "Let's calculate the average price of one square meter in 10 localities with the largest number of ads. Select the localities with the highest and lowest cost per square meter"
   ]
  },
  {
   "cell_type": "code",
   "execution_count": 82,
   "metadata": {},
   "outputs": [
    {
     "name": "stdout",
     "output_type": "stream",
     "text": [
      "10 localities with the largest number of ads\n",
      "                    count        mean\n",
      "locality_name                       \n",
      "Санкт-Петербург    15644  114.848165\n",
      "Мурино               586   86.041195\n",
      "поселок Шушары       439   78.551595\n",
      "Всеволожск           398   68.654447\n",
      "Пушкин               369  103.125854\n",
      "Колпино              338   75.424467\n",
      "поселок Парголово    327   90.176177\n",
      "Гатчина              307   68.746287\n",
      "деревня Кудрово      299   92.473712\n",
      "Выборг               237   58.141941\n",
      "\n",
      "localities with the highest cost per square meter\n",
      "                    count        mean\n",
      "locality_name                       \n",
      "Зеленогорск           24  115.121667\n",
      "Санкт-Петербург    15644  114.848165\n",
      "поселок Репино         4  104.240000\n",
      "Пушкин               369  103.125854\n",
      "Сестрорецк           183  101.757541\n",
      "поселок Лисий Нос      3  100.663333\n",
      "Кудрово              171  100.134503\n",
      "деревня Мистолово     11   98.551818\n",
      "поселок Левашово       1   97.000000\n",
      "Другое                48   95.295417\n",
      "\n",
      "localities with the lowest cost per square meter\n",
      "                          count       mean\n",
      "locality_name                            \n",
      "деревня Старополье           3  11.206667\n",
      "поселок станции Свирь        2  11.480000\n",
      "деревня Вахнова Кара         1  11.690000\n",
      "деревня Выскатка             2  12.335000\n",
      "поселок Совхозный            2  12.630000\n",
      "деревня Малая Романовка      1  12.720000\n",
      "поселок Тёсово-4             1  12.930000\n",
      "деревня Ям-Тесово            2  13.710000\n",
      "деревня Сижно                1  13.710000\n",
      "поселок Житково              2  14.955000\n"
     ]
    }
   ],
   "source": [
    "data_pivot = data.pivot_table(index='locality_name', values='one_meter_price_ths', aggfunc=['count', 'mean'])\n",
    "data_pivot.columns = ['count', 'mean']\n",
    "print('10 localities with the largest number of ads\\n',\n",
    "      data_pivot.sort_values(by='count', ascending=False).head(10))\n",
    "print()\n",
    "print('localities with the highest cost per square meter\\n',\n",
    "      data_pivot.sort_values(by='mean', ascending=False).head(10))\n",
    "print()\n",
    "print('localities with the lowest cost per square meter\\n',\n",
    "      data_pivot.sort_values(by='mean').head(10))"
   ]
  },
  {
   "cell_type": "markdown",
   "metadata": {},
   "source": [
    "#### Average price per kilometer"
   ]
  },
  {
   "cell_type": "markdown",
   "metadata": {},
   "source": [
    "Let's select apartments in St. Petersburg using the locality_name column and calculate the average price of each kilometer."
   ]
  },
  {
   "cell_type": "code",
   "execution_count": 83,
   "metadata": {},
   "outputs": [
    {
     "data": {
      "text/html": [
       "<div>\n",
       "<style scoped>\n",
       "    .dataframe tbody tr th:only-of-type {\n",
       "        vertical-align: middle;\n",
       "    }\n",
       "\n",
       "    .dataframe tbody tr th {\n",
       "        vertical-align: top;\n",
       "    }\n",
       "\n",
       "    .dataframe thead th {\n",
       "        text-align: right;\n",
       "    }\n",
       "</style>\n",
       "<table border=\"1\" class=\"dataframe\">\n",
       "  <thead>\n",
       "    <tr style=\"text-align: right;\">\n",
       "      <th></th>\n",
       "      <th>total_images</th>\n",
       "      <th>last_price_mln</th>\n",
       "      <th>total_area</th>\n",
       "      <th>first_day_exposition</th>\n",
       "      <th>rooms</th>\n",
       "      <th>ceiling_height</th>\n",
       "      <th>floors_total</th>\n",
       "      <th>living_area</th>\n",
       "      <th>floor</th>\n",
       "      <th>is_apartment</th>\n",
       "      <th>...</th>\n",
       "      <th>parks_nearest</th>\n",
       "      <th>ponds_around3000</th>\n",
       "      <th>ponds_nearest</th>\n",
       "      <th>days_exposition</th>\n",
       "      <th>one_meter_price_ths</th>\n",
       "      <th>week_day</th>\n",
       "      <th>month</th>\n",
       "      <th>year</th>\n",
       "      <th>floor_type</th>\n",
       "      <th>km_city_centers_nearest</th>\n",
       "    </tr>\n",
       "  </thead>\n",
       "  <tbody>\n",
       "    <tr>\n",
       "      <th>0</th>\n",
       "      <td>20</td>\n",
       "      <td>13.000</td>\n",
       "      <td>108.0</td>\n",
       "      <td>2019-03-07</td>\n",
       "      <td>3</td>\n",
       "      <td>2.70</td>\n",
       "      <td>16</td>\n",
       "      <td>51.00</td>\n",
       "      <td>8</td>\n",
       "      <td>False</td>\n",
       "      <td>...</td>\n",
       "      <td>482.0</td>\n",
       "      <td>2.0</td>\n",
       "      <td>755.0</td>\n",
       "      <td>NaN</td>\n",
       "      <td>120.37</td>\n",
       "      <td>3</td>\n",
       "      <td>3</td>\n",
       "      <td>2019</td>\n",
       "      <td>другой</td>\n",
       "      <td>16.0</td>\n",
       "    </tr>\n",
       "    <tr>\n",
       "      <th>1</th>\n",
       "      <td>7</td>\n",
       "      <td>3.350</td>\n",
       "      <td>40.4</td>\n",
       "      <td>2018-12-04</td>\n",
       "      <td>1</td>\n",
       "      <td>NaN</td>\n",
       "      <td>11</td>\n",
       "      <td>18.60</td>\n",
       "      <td>1</td>\n",
       "      <td>False</td>\n",
       "      <td>...</td>\n",
       "      <td>NaN</td>\n",
       "      <td>0.0</td>\n",
       "      <td>NaN</td>\n",
       "      <td>81.0</td>\n",
       "      <td>82.92</td>\n",
       "      <td>1</td>\n",
       "      <td>12</td>\n",
       "      <td>2018</td>\n",
       "      <td>первый</td>\n",
       "      <td>19.0</td>\n",
       "    </tr>\n",
       "    <tr>\n",
       "      <th>2</th>\n",
       "      <td>10</td>\n",
       "      <td>5.196</td>\n",
       "      <td>56.0</td>\n",
       "      <td>2015-08-20</td>\n",
       "      <td>2</td>\n",
       "      <td>NaN</td>\n",
       "      <td>5</td>\n",
       "      <td>34.30</td>\n",
       "      <td>4</td>\n",
       "      <td>False</td>\n",
       "      <td>...</td>\n",
       "      <td>90.0</td>\n",
       "      <td>2.0</td>\n",
       "      <td>574.0</td>\n",
       "      <td>558.0</td>\n",
       "      <td>92.79</td>\n",
       "      <td>3</td>\n",
       "      <td>8</td>\n",
       "      <td>2015</td>\n",
       "      <td>другой</td>\n",
       "      <td>14.0</td>\n",
       "    </tr>\n",
       "    <tr>\n",
       "      <th>3</th>\n",
       "      <td>0</td>\n",
       "      <td>64.900</td>\n",
       "      <td>159.0</td>\n",
       "      <td>2015-07-24</td>\n",
       "      <td>3</td>\n",
       "      <td>NaN</td>\n",
       "      <td>14</td>\n",
       "      <td>90.63</td>\n",
       "      <td>9</td>\n",
       "      <td>False</td>\n",
       "      <td>...</td>\n",
       "      <td>84.0</td>\n",
       "      <td>3.0</td>\n",
       "      <td>234.0</td>\n",
       "      <td>424.0</td>\n",
       "      <td>408.18</td>\n",
       "      <td>4</td>\n",
       "      <td>7</td>\n",
       "      <td>2015</td>\n",
       "      <td>другой</td>\n",
       "      <td>7.0</td>\n",
       "    </tr>\n",
       "    <tr>\n",
       "      <th>4</th>\n",
       "      <td>2</td>\n",
       "      <td>10.000</td>\n",
       "      <td>100.0</td>\n",
       "      <td>2018-06-19</td>\n",
       "      <td>2</td>\n",
       "      <td>3.03</td>\n",
       "      <td>14</td>\n",
       "      <td>32.00</td>\n",
       "      <td>13</td>\n",
       "      <td>False</td>\n",
       "      <td>...</td>\n",
       "      <td>112.0</td>\n",
       "      <td>1.0</td>\n",
       "      <td>48.0</td>\n",
       "      <td>121.0</td>\n",
       "      <td>100.00</td>\n",
       "      <td>1</td>\n",
       "      <td>6</td>\n",
       "      <td>2018</td>\n",
       "      <td>другой</td>\n",
       "      <td>8.0</td>\n",
       "    </tr>\n",
       "  </tbody>\n",
       "</table>\n",
       "<p>5 rows × 28 columns</p>\n",
       "</div>"
      ],
      "text/plain": [
       "   total_images  last_price_mln  total_area first_day_exposition  rooms  \\\n",
       "0            20          13.000       108.0           2019-03-07      3   \n",
       "1             7           3.350        40.4           2018-12-04      1   \n",
       "2            10           5.196        56.0           2015-08-20      2   \n",
       "3             0          64.900       159.0           2015-07-24      3   \n",
       "4             2          10.000       100.0           2018-06-19      2   \n",
       "\n",
       "   ceiling_height  floors_total  living_area  floor  is_apartment  ...  \\\n",
       "0            2.70            16        51.00      8         False  ...   \n",
       "1             NaN            11        18.60      1         False  ...   \n",
       "2             NaN             5        34.30      4         False  ...   \n",
       "3             NaN            14        90.63      9         False  ...   \n",
       "4            3.03            14        32.00     13         False  ...   \n",
       "\n",
       "   parks_nearest  ponds_around3000  ponds_nearest  days_exposition  \\\n",
       "0          482.0               2.0          755.0              NaN   \n",
       "1            NaN               0.0            NaN             81.0   \n",
       "2           90.0               2.0          574.0            558.0   \n",
       "3           84.0               3.0          234.0            424.0   \n",
       "4          112.0               1.0           48.0            121.0   \n",
       "\n",
       "  one_meter_price_ths  week_day  month  year  floor_type  \\\n",
       "0              120.37         3      3  2019      другой   \n",
       "1               82.92         1     12  2018      первый   \n",
       "2               92.79         3      8  2015      другой   \n",
       "3              408.18         4      7  2015      другой   \n",
       "4              100.00         1      6  2018      другой   \n",
       "\n",
       "   km_city_centers_nearest  \n",
       "0                     16.0  \n",
       "1                     19.0  \n",
       "2                     14.0  \n",
       "3                      7.0  \n",
       "4                      8.0  \n",
       "\n",
       "[5 rows x 28 columns]"
      ]
     },
     "execution_count": 83,
     "metadata": {},
     "output_type": "execute_result"
    }
   ],
   "source": [
    "data.head()"
   ]
  },
  {
   "cell_type": "code",
   "execution_count": 85,
   "metadata": {},
   "outputs": [
    {
     "name": "stdout",
     "output_type": "stream",
     "text": [
      "Average price per kilometer (mln): 0.907\n"
     ]
    }
   ],
   "source": [
    "sp_data = data.query('locality_name == \"Санкт-Петербург\"').pivot_table(index='km_city_centers_nearest',\n",
    "                                                                       values='last_price_mln').round({'last_price_mln':2})\n",
    "\n",
    "print('Average price per kilometer (mln):',\n",
    "      ((sp_data.loc[sp_data.index[0],\n",
    "                    'last_price_mln'] - sp_data.loc[sp_data.index[len(sp_data['last_price_mln'])-1], 'last_price_mln'])\n",
    "      / len(sp_data['last_price_mln'])))"
   ]
  },
  {
   "cell_type": "markdown",
   "metadata": {},
   "source": [
    "Let's plot the dependence of the price on the distance from the center in order to analyze the data in more detail."
   ]
  },
  {
   "cell_type": "code",
   "execution_count": 80,
   "metadata": {},
   "outputs": [
    {
     "data": {
      "text/plain": [
       "<AxesSubplot:xlabel='km_city_centers_nearest'>"
      ]
     },
     "metadata": {},
     "output_type": "display_data"
    },
    {
     "data": {
      "image/png": "[encoded data removed]",
      "text/plain": [
       "<Figure size 432x288 with 1 Axes>"
      ]
     },
     "metadata": {
      "needs_background": "light"
     },
     "output_type": "display_data"
    }
   ],
   "source": [
    "new_sp_data = data[['locality_name',\n",
    "                    'km_city_centers_nearest',\n",
    "                    'last_price_mln']].query('locality_name == \"Санкт-Петербург\"').round({'last_price_mln':2})\n",
    "\n",
    "display(new_sp_data.groupby('km_city_centers_nearest').mean().plot(kind='bar'))"
   ]
  },
  {
   "cell_type": "markdown",
   "metadata": {},
   "source": [
    "It turns out an interesting situation. The apartments closest to the center are expected to cost more and with each of the first three kilometers the price drops sharply. The question here is what exactly is considered the center. This is some kind of area or point. I will assume that this is still some area and this is the area of the historical development of St. Petersburg. In this case, such a sharp decline in prices can be explained by the industrial ring around the pre-revolutionary part of the city. Housing is cheaper in industrial areas. Then there is an increase in prices - these are elite residential areas, when the area is already quiet, but still not far from the center. After them there is a fairly smooth downward movement. The price difference between 12 and 23 kilometers from the center is not so big anymore. Accordingly, starting from about 9 kilometers from the center, the price elasticity from distance is no longer so great and other factors influence the price more."
   ]
  },
  {
   "cell_type": "markdown",
   "metadata": {},
   "source": [
    "### General conclusion"
   ]
  },
  {
   "cell_type": "markdown",
   "metadata": {},
   "source": [
    "The main factors on which the cost of real estate depends are the total area, the number of rooms associated with it, proximity to the city center. An interesting point is that for several years from 2015 to 2018, the average cost of real estate decreased. The least active time in the real estate market is December, January and May, which just fall on holidays. The situation is similar on weekends. As the kitchen area, living space, lot value and the area of the corresponding premises grow, the correlation between them will decrease, although it is significant in the inexpensive segment.\n",
    "Also worth noting is not the best quality of geolocation data - it may be worth reworking the user's choice of address. It would also be nice to adjust the system so that if there is no balcony or an item about apartments, it is set to 0 or False, and not Nan. At the same time, other parameters in which there are gaps - for example, ceiling height, can be corrected by the mandatory item when placing an ad, but this will complicate the process of user interaction with the system, since not everyone knows the ceiling height in a house or apartment. In addition, the factor is not critical, so we should not make it mandatory, even if there are such omissions in the statistics."
   ]
  }
 ],
 "metadata": {
  "ExecuteTimeLog": [
   {
    "duration": 76,
    "start_time": "2022-07-28T19:13:08.330Z"
   },
   {
    "duration": 493,
    "start_time": "2022-07-28T19:13:13.767Z"
   },
   {
    "duration": 73,
    "start_time": "2022-07-28T19:15:49.170Z"
   },
   {
    "duration": 51,
    "start_time": "2022-07-28T19:15:55.546Z"
   },
   {
    "duration": 193,
    "start_time": "2022-07-28T19:16:04.570Z"
   },
   {
    "duration": 94,
    "start_time": "2022-07-28T19:17:43.215Z"
   },
   {
    "duration": 282,
    "start_time": "2022-07-28T19:28:18.972Z"
   },
   {
    "duration": 176,
    "start_time": "2022-07-28T19:28:38.740Z"
   },
   {
    "duration": 520,
    "start_time": "2022-07-28T19:29:56.636Z"
   },
   {
    "duration": 99,
    "start_time": "2022-07-28T19:30:13.359Z"
   },
   {
    "duration": 101,
    "start_time": "2022-07-28T19:34:07.838Z"
   },
   {
    "duration": 122,
    "start_time": "2022-07-28T19:35:28.796Z"
   },
   {
    "duration": 103,
    "start_time": "2022-07-28T19:37:48.033Z"
   },
   {
    "duration": 105,
    "start_time": "2022-07-28T19:38:03.447Z"
   },
   {
    "duration": 134,
    "start_time": "2022-07-28T19:56:04.376Z"
   },
   {
    "duration": 113,
    "start_time": "2022-07-28T19:56:17.783Z"
   },
   {
    "duration": 156,
    "start_time": "2022-07-28T19:56:40.754Z"
   },
   {
    "duration": 18,
    "start_time": "2022-07-28T19:57:47.139Z"
   },
   {
    "duration": 89,
    "start_time": "2022-07-28T19:58:56.862Z"
   },
   {
    "duration": 81,
    "start_time": "2022-07-28T20:00:32.954Z"
   },
   {
    "duration": 2544,
    "start_time": "2022-07-28T20:07:36.437Z"
   },
   {
    "duration": 46,
    "start_time": "2022-07-29T18:20:43.944Z"
   },
   {
    "duration": 6,
    "start_time": "2022-07-29T18:21:14.361Z"
   },
   {
    "duration": 684,
    "start_time": "2022-07-29T18:21:22.491Z"
   },
   {
    "duration": 15,
    "start_time": "2022-07-29T18:21:24.543Z"
   },
   {
    "duration": 69,
    "start_time": "2022-07-29T18:21:25.023Z"
   },
   {
    "duration": 2323,
    "start_time": "2022-07-29T18:21:25.536Z"
   },
   {
    "duration": 8,
    "start_time": "2022-07-29T18:21:28.366Z"
   },
   {
    "duration": 6,
    "start_time": "2022-07-29T18:21:46.184Z"
   },
   {
    "duration": 19,
    "start_time": "2022-07-29T18:27:48.982Z"
   },
   {
    "duration": 10,
    "start_time": "2022-07-29T18:28:18.036Z"
   },
   {
    "duration": 10,
    "start_time": "2022-07-29T18:28:58.250Z"
   },
   {
    "duration": 11,
    "start_time": "2022-07-29T18:29:22.920Z"
   },
   {
    "duration": 12,
    "start_time": "2022-07-29T18:36:30.511Z"
   },
   {
    "duration": 3,
    "start_time": "2022-07-29T18:40:23.796Z"
   },
   {
    "duration": 44,
    "start_time": "2022-07-29T18:40:30.881Z"
   },
   {
    "duration": 487,
    "start_time": "2022-07-29T18:40:44.091Z"
   },
   {
    "duration": 14,
    "start_time": "2022-07-29T18:40:44.580Z"
   },
   {
    "duration": 87,
    "start_time": "2022-07-29T18:40:44.596Z"
   },
   {
    "duration": 2137,
    "start_time": "2022-07-29T18:40:44.684Z"
   },
   {
    "duration": 60,
    "start_time": "2022-07-29T18:40:46.822Z"
   },
   {
    "duration": 5,
    "start_time": "2022-07-29T18:44:51.922Z"
   },
   {
    "duration": 1056,
    "start_time": "2022-07-29T18:44:58.834Z"
   },
   {
    "duration": 539,
    "start_time": "2022-07-29T18:45:13.496Z"
   },
   {
    "duration": 27,
    "start_time": "2022-07-29T18:45:14.037Z"
   },
   {
    "duration": 101,
    "start_time": "2022-07-29T18:45:14.065Z"
   },
   {
    "duration": 2381,
    "start_time": "2022-07-29T18:45:14.168Z"
   },
   {
    "duration": 53,
    "start_time": "2022-07-29T18:45:16.552Z"
   },
   {
    "duration": 10,
    "start_time": "2022-07-29T18:46:35.476Z"
   },
   {
    "duration": 257,
    "start_time": "2022-07-29T18:48:20.986Z"
   },
   {
    "duration": 548,
    "start_time": "2022-07-29T18:56:31.576Z"
   },
   {
    "duration": 21,
    "start_time": "2022-07-29T18:56:32.126Z"
   },
   {
    "duration": 73,
    "start_time": "2022-07-29T18:56:32.149Z"
   },
   {
    "duration": 2369,
    "start_time": "2022-07-29T18:56:32.239Z"
   },
   {
    "duration": 32,
    "start_time": "2022-07-29T18:56:34.610Z"
   },
   {
    "duration": 56,
    "start_time": "2022-07-29T18:56:34.646Z"
   },
   {
    "duration": 213,
    "start_time": "2022-07-29T18:56:34.704Z"
   },
   {
    "duration": 548,
    "start_time": "2022-07-29T19:01:47.916Z"
   },
   {
    "duration": 14,
    "start_time": "2022-07-29T19:01:48.466Z"
   },
   {
    "duration": 78,
    "start_time": "2022-07-29T19:01:48.481Z"
   },
   {
    "duration": 2121,
    "start_time": "2022-07-29T19:01:48.561Z"
   },
   {
    "duration": 58,
    "start_time": "2022-07-29T19:01:50.683Z"
   },
   {
    "duration": 184,
    "start_time": "2022-07-29T19:01:50.743Z"
   },
   {
    "duration": 474,
    "start_time": "2022-07-29T19:02:37.687Z"
   },
   {
    "duration": 14,
    "start_time": "2022-07-29T19:02:38.162Z"
   },
   {
    "duration": 75,
    "start_time": "2022-07-29T19:02:38.177Z"
   },
   {
    "duration": 2210,
    "start_time": "2022-07-29T19:02:38.255Z"
   },
   {
    "duration": 47,
    "start_time": "2022-07-29T19:02:40.467Z"
   },
   {
    "duration": 193,
    "start_time": "2022-07-29T19:02:40.515Z"
   },
   {
    "duration": 529,
    "start_time": "2022-07-29T19:03:50.356Z"
   },
   {
    "duration": 14,
    "start_time": "2022-07-29T19:03:50.886Z"
   },
   {
    "duration": 75,
    "start_time": "2022-07-29T19:03:50.902Z"
   },
   {
    "duration": 2055,
    "start_time": "2022-07-29T19:03:50.979Z"
   },
   {
    "duration": 49,
    "start_time": "2022-07-29T19:03:53.036Z"
   },
   {
    "duration": 191,
    "start_time": "2022-07-29T19:03:53.086Z"
   },
   {
    "duration": 7,
    "start_time": "2022-07-29T19:10:35.572Z"
   },
   {
    "duration": 12,
    "start_time": "2022-07-29T19:13:12.730Z"
   },
   {
    "duration": 30,
    "start_time": "2022-07-29T19:13:21.670Z"
   },
   {
    "duration": 22,
    "start_time": "2022-07-29T19:13:29.582Z"
   },
   {
    "duration": 7,
    "start_time": "2022-07-29T19:13:47.629Z"
   },
   {
    "duration": 7,
    "start_time": "2022-07-29T19:14:27.639Z"
   },
   {
    "duration": 55,
    "start_time": "2022-07-29T19:18:43.050Z"
   },
   {
    "duration": 31,
    "start_time": "2022-07-29T19:18:55.422Z"
   },
   {
    "duration": 68,
    "start_time": "2022-07-29T19:20:27.497Z"
   },
   {
    "duration": 33,
    "start_time": "2022-07-29T19:20:39.497Z"
   },
   {
    "duration": 630,
    "start_time": "2022-07-29T19:23:48.510Z"
   },
   {
    "duration": 17,
    "start_time": "2022-07-29T19:23:49.142Z"
   },
   {
    "duration": 94,
    "start_time": "2022-07-29T19:23:49.162Z"
   },
   {
    "duration": 2085,
    "start_time": "2022-07-29T19:23:49.258Z"
   },
   {
    "duration": 48,
    "start_time": "2022-07-29T19:23:51.344Z"
   },
   {
    "duration": 148,
    "start_time": "2022-07-29T19:23:51.394Z"
   },
   {
    "duration": 7,
    "start_time": "2022-07-29T19:23:51.544Z"
   },
   {
    "duration": 10,
    "start_time": "2022-07-29T19:23:51.552Z"
   },
   {
    "duration": 8,
    "start_time": "2022-07-29T19:23:51.564Z"
   },
   {
    "duration": 34,
    "start_time": "2022-07-29T19:23:51.575Z"
   },
   {
    "duration": 144,
    "start_time": "2022-07-29T19:24:10.067Z"
   },
   {
    "duration": 162,
    "start_time": "2022-07-29T19:24:18.248Z"
   },
   {
    "duration": 245,
    "start_time": "2022-07-29T19:24:35.978Z"
   },
   {
    "duration": 176,
    "start_time": "2022-07-29T19:24:47.871Z"
   },
   {
    "duration": 263,
    "start_time": "2022-07-29T19:25:52.258Z"
   },
   {
    "duration": 546,
    "start_time": "2022-09-21T16:01:11.764Z"
   },
   {
    "duration": 15,
    "start_time": "2022-09-21T16:01:23.402Z"
   },
   {
    "duration": 100,
    "start_time": "2022-09-21T16:01:27.584Z"
   },
   {
    "duration": 2392,
    "start_time": "2022-09-21T16:01:33.272Z"
   },
   {
    "duration": 43,
    "start_time": "2022-10-06T22:37:19.775Z"
   },
   {
    "duration": 736,
    "start_time": "2022-10-06T22:37:34.458Z"
   },
   {
    "duration": 13,
    "start_time": "2022-10-06T22:37:35.195Z"
   },
   {
    "duration": 66,
    "start_time": "2022-10-06T22:37:35.209Z"
   },
   {
    "duration": 2170,
    "start_time": "2022-10-06T22:37:35.277Z"
   },
   {
    "duration": 48,
    "start_time": "2022-10-06T22:37:37.450Z"
   },
   {
    "duration": 182,
    "start_time": "2022-10-06T22:37:37.500Z"
   },
   {
    "duration": 7,
    "start_time": "2022-10-06T22:37:37.683Z"
   },
   {
    "duration": 11,
    "start_time": "2022-10-06T22:37:37.691Z"
   },
   {
    "duration": 18,
    "start_time": "2022-10-06T22:37:37.703Z"
   },
   {
    "duration": 38,
    "start_time": "2022-10-06T22:37:37.723Z"
   },
   {
    "duration": 171,
    "start_time": "2022-10-06T22:37:37.762Z"
   },
   {
    "duration": 1041,
    "start_time": "2022-10-06T22:37:37.934Z"
   },
   {
    "duration": 125,
    "start_time": "2022-10-06T22:38:03.112Z"
   },
   {
    "duration": 13,
    "start_time": "2022-10-06T22:38:03.728Z"
   },
   {
    "duration": 66,
    "start_time": "2022-10-06T22:38:04.471Z"
   },
   {
    "duration": 1676,
    "start_time": "2022-10-06T22:38:04.995Z"
   },
   {
    "duration": 39,
    "start_time": "2022-10-06T22:38:07.438Z"
   },
   {
    "duration": 161,
    "start_time": "2022-10-06T22:38:08.881Z"
   },
   {
    "duration": 8,
    "start_time": "2022-10-06T22:38:10.869Z"
   },
   {
    "duration": 8,
    "start_time": "2022-10-06T22:38:13.619Z"
   },
   {
    "duration": 7,
    "start_time": "2022-10-06T22:38:14.620Z"
   },
   {
    "duration": 30,
    "start_time": "2022-10-06T22:38:16.341Z"
   },
   {
    "duration": 151,
    "start_time": "2022-10-06T22:38:18.060Z"
   },
   {
    "duration": 773,
    "start_time": "2022-10-06T22:38:20.387Z"
   },
   {
    "duration": 9,
    "start_time": "2022-10-06T22:38:37.034Z"
   },
   {
    "duration": 15,
    "start_time": "2022-10-06T22:39:43.040Z"
   },
   {
    "duration": 13,
    "start_time": "2022-10-06T22:39:52.133Z"
   },
   {
    "duration": 17,
    "start_time": "2022-10-06T22:52:57.056Z"
   },
   {
    "duration": 14,
    "start_time": "2022-10-06T22:53:24.857Z"
   },
   {
    "duration": 502,
    "start_time": "2022-10-06T22:53:32.460Z"
   },
   {
    "duration": 13,
    "start_time": "2022-10-06T22:53:32.964Z"
   },
   {
    "duration": 74,
    "start_time": "2022-10-06T22:53:32.979Z"
   },
   {
    "duration": 1928,
    "start_time": "2022-10-06T22:53:33.055Z"
   },
   {
    "duration": 45,
    "start_time": "2022-10-06T22:53:34.985Z"
   },
   {
    "duration": 167,
    "start_time": "2022-10-06T22:53:35.031Z"
   },
   {
    "duration": 8,
    "start_time": "2022-10-06T22:53:35.199Z"
   },
   {
    "duration": 7,
    "start_time": "2022-10-06T22:53:35.209Z"
   },
   {
    "duration": 25,
    "start_time": "2022-10-06T22:53:35.217Z"
   },
   {
    "duration": 29,
    "start_time": "2022-10-06T22:53:35.244Z"
   },
   {
    "duration": 169,
    "start_time": "2022-10-06T22:53:35.275Z"
   },
   {
    "duration": 11,
    "start_time": "2022-10-06T22:53:35.445Z"
   },
   {
    "duration": 13,
    "start_time": "2022-10-06T22:54:03.239Z"
   },
   {
    "duration": 8,
    "start_time": "2022-10-06T22:55:24.193Z"
   },
   {
    "duration": 80,
    "start_time": "2022-10-06T22:57:23.111Z"
   },
   {
    "duration": 13,
    "start_time": "2022-10-06T22:57:27.649Z"
   },
   {
    "duration": 54,
    "start_time": "2022-10-06T22:58:09.770Z"
   },
   {
    "duration": 9,
    "start_time": "2022-10-06T22:58:18.242Z"
   },
   {
    "duration": 9,
    "start_time": "2022-10-06T23:01:13.370Z"
   },
   {
    "duration": 49,
    "start_time": "2022-10-07T21:42:58.411Z"
   },
   {
    "duration": 820,
    "start_time": "2022-10-07T21:43:06.334Z"
   },
   {
    "duration": 15,
    "start_time": "2022-10-07T21:43:07.157Z"
   },
   {
    "duration": 92,
    "start_time": "2022-10-07T21:43:07.175Z"
   },
   {
    "duration": 2500,
    "start_time": "2022-10-07T21:43:07.269Z"
   },
   {
    "duration": 54,
    "start_time": "2022-10-07T21:43:09.772Z"
   },
   {
    "duration": 199,
    "start_time": "2022-10-07T21:43:09.828Z"
   },
   {
    "duration": 8,
    "start_time": "2022-10-07T21:43:10.029Z"
   },
   {
    "duration": 20,
    "start_time": "2022-10-07T21:43:10.039Z"
   },
   {
    "duration": 14,
    "start_time": "2022-10-07T21:43:10.061Z"
   },
   {
    "duration": 34,
    "start_time": "2022-10-07T21:43:10.077Z"
   },
   {
    "duration": 209,
    "start_time": "2022-10-07T21:43:10.112Z"
   },
   {
    "duration": 13,
    "start_time": "2022-10-07T21:43:10.323Z"
   },
   {
    "duration": 21,
    "start_time": "2022-10-07T21:43:10.337Z"
   },
   {
    "duration": 9,
    "start_time": "2022-10-07T21:43:10.361Z"
   },
   {
    "duration": 55,
    "start_time": "2022-10-07T21:43:10.372Z"
   },
   {
    "duration": 28,
    "start_time": "2022-10-07T21:43:43.968Z"
   },
   {
    "duration": 15,
    "start_time": "2022-10-07T21:43:54.636Z"
   },
   {
    "duration": 11,
    "start_time": "2022-10-07T21:48:05.880Z"
   },
   {
    "duration": 8,
    "start_time": "2022-10-07T21:50:03.194Z"
   },
   {
    "duration": 8,
    "start_time": "2022-10-07T21:50:21.216Z"
   },
   {
    "duration": 8,
    "start_time": "2022-10-07T21:50:29.734Z"
   },
   {
    "duration": 69,
    "start_time": "2022-10-07T21:53:27.209Z"
   },
   {
    "duration": 74,
    "start_time": "2022-10-07T21:53:44.197Z"
   },
   {
    "duration": 519,
    "start_time": "2022-10-07T21:53:55.006Z"
   },
   {
    "duration": 16,
    "start_time": "2022-10-07T21:53:55.527Z"
   },
   {
    "duration": 97,
    "start_time": "2022-10-07T21:53:55.544Z"
   },
   {
    "duration": 2239,
    "start_time": "2022-10-07T21:53:55.642Z"
   },
   {
    "duration": 54,
    "start_time": "2022-10-07T21:53:57.884Z"
   },
   {
    "duration": 206,
    "start_time": "2022-10-07T21:53:57.940Z"
   },
   {
    "duration": 12,
    "start_time": "2022-10-07T21:53:58.147Z"
   },
   {
    "duration": 8,
    "start_time": "2022-10-07T21:53:58.161Z"
   },
   {
    "duration": 8,
    "start_time": "2022-10-07T21:53:58.171Z"
   },
   {
    "duration": 33,
    "start_time": "2022-10-07T21:53:58.181Z"
   },
   {
    "duration": 211,
    "start_time": "2022-10-07T21:53:58.216Z"
   },
   {
    "duration": 12,
    "start_time": "2022-10-07T21:53:58.429Z"
   },
   {
    "duration": 20,
    "start_time": "2022-10-07T21:53:58.442Z"
   },
   {
    "duration": 9,
    "start_time": "2022-10-07T21:53:58.464Z"
   },
   {
    "duration": 26,
    "start_time": "2022-10-07T21:53:58.475Z"
   },
   {
    "duration": 15,
    "start_time": "2022-10-07T21:53:58.503Z"
   },
   {
    "duration": 44,
    "start_time": "2022-10-07T21:53:58.520Z"
   },
   {
    "duration": 8,
    "start_time": "2022-10-07T21:53:58.565Z"
   },
   {
    "duration": 117,
    "start_time": "2022-10-07T21:53:58.575Z"
   },
   {
    "duration": 508,
    "start_time": "2022-10-07T21:55:37.709Z"
   },
   {
    "duration": 17,
    "start_time": "2022-10-07T21:55:38.220Z"
   },
   {
    "duration": 88,
    "start_time": "2022-10-07T21:55:38.239Z"
   },
   {
    "duration": 2340,
    "start_time": "2022-10-07T21:55:38.329Z"
   },
   {
    "duration": 59,
    "start_time": "2022-10-07T21:55:40.671Z"
   },
   {
    "duration": 212,
    "start_time": "2022-10-07T21:55:40.732Z"
   },
   {
    "duration": 9,
    "start_time": "2022-10-07T21:55:40.953Z"
   },
   {
    "duration": 9,
    "start_time": "2022-10-07T21:55:40.963Z"
   },
   {
    "duration": 10,
    "start_time": "2022-10-07T21:55:40.974Z"
   },
   {
    "duration": 33,
    "start_time": "2022-10-07T21:55:40.987Z"
   },
   {
    "duration": 222,
    "start_time": "2022-10-07T21:55:41.022Z"
   },
   {
    "duration": 14,
    "start_time": "2022-10-07T21:55:41.246Z"
   },
   {
    "duration": 11,
    "start_time": "2022-10-07T21:55:41.261Z"
   },
   {
    "duration": 9,
    "start_time": "2022-10-07T21:55:41.274Z"
   },
   {
    "duration": 26,
    "start_time": "2022-10-07T21:55:41.284Z"
   },
   {
    "duration": 49,
    "start_time": "2022-10-07T21:55:41.312Z"
   },
   {
    "duration": 10,
    "start_time": "2022-10-07T21:55:41.363Z"
   },
   {
    "duration": 11,
    "start_time": "2022-10-07T21:55:41.375Z"
   },
   {
    "duration": 13,
    "start_time": "2022-10-07T21:55:41.387Z"
   },
   {
    "duration": 13,
    "start_time": "2022-10-07T21:55:52.109Z"
   },
   {
    "duration": 8,
    "start_time": "2022-10-07T21:56:43.590Z"
   },
   {
    "duration": 9,
    "start_time": "2022-10-07T21:56:58.931Z"
   },
   {
    "duration": 47,
    "start_time": "2022-10-07T22:29:37.702Z"
   },
   {
    "duration": 78,
    "start_time": "2022-10-07T22:29:47.606Z"
   },
   {
    "duration": 14,
    "start_time": "2022-10-07T22:35:11.467Z"
   },
   {
    "duration": 8,
    "start_time": "2022-10-07T22:35:18.860Z"
   },
   {
    "duration": 45,
    "start_time": "2022-10-07T22:35:44.959Z"
   },
   {
    "duration": 43,
    "start_time": "2022-10-07T22:36:44.382Z"
   },
   {
    "duration": 6,
    "start_time": "2022-10-07T22:51:01.008Z"
   },
   {
    "duration": 10,
    "start_time": "2022-10-07T22:51:31.011Z"
   },
   {
    "duration": 55,
    "start_time": "2022-10-07T22:52:42.776Z"
   },
   {
    "duration": 50,
    "start_time": "2022-10-07T22:52:56.517Z"
   },
   {
    "duration": 11,
    "start_time": "2022-10-07T22:53:17.162Z"
   },
   {
    "duration": 584,
    "start_time": "2022-10-07T22:53:25.328Z"
   },
   {
    "duration": 17,
    "start_time": "2022-10-07T22:53:25.915Z"
   },
   {
    "duration": 91,
    "start_time": "2022-10-07T22:53:25.934Z"
   },
   {
    "duration": 2373,
    "start_time": "2022-10-07T22:53:26.028Z"
   },
   {
    "duration": 64,
    "start_time": "2022-10-07T22:53:28.403Z"
   },
   {
    "duration": 221,
    "start_time": "2022-10-07T22:53:28.469Z"
   },
   {
    "duration": 9,
    "start_time": "2022-10-07T22:53:28.692Z"
   },
   {
    "duration": 8,
    "start_time": "2022-10-07T22:53:28.703Z"
   },
   {
    "duration": 10,
    "start_time": "2022-10-07T22:53:28.712Z"
   },
   {
    "duration": 59,
    "start_time": "2022-10-07T22:53:28.725Z"
   },
   {
    "duration": 199,
    "start_time": "2022-10-07T22:53:28.786Z"
   },
   {
    "duration": 13,
    "start_time": "2022-10-07T22:53:28.986Z"
   },
   {
    "duration": 8,
    "start_time": "2022-10-07T22:53:29.001Z"
   },
   {
    "duration": 9,
    "start_time": "2022-10-07T22:53:29.011Z"
   },
   {
    "duration": 54,
    "start_time": "2022-10-07T22:53:29.021Z"
   },
   {
    "duration": 14,
    "start_time": "2022-10-07T22:53:29.076Z"
   },
   {
    "duration": 9,
    "start_time": "2022-10-07T22:53:29.091Z"
   },
   {
    "duration": 9,
    "start_time": "2022-10-07T22:53:29.102Z"
   },
   {
    "duration": 12,
    "start_time": "2022-10-07T22:53:29.112Z"
   },
   {
    "duration": 35,
    "start_time": "2022-10-07T22:53:29.125Z"
   },
   {
    "duration": 9,
    "start_time": "2022-10-07T22:53:29.162Z"
   },
   {
    "duration": 10,
    "start_time": "2022-10-07T22:54:09.765Z"
   },
   {
    "duration": 54,
    "start_time": "2022-10-07T22:56:49.368Z"
   },
   {
    "duration": 94,
    "start_time": "2022-10-07T22:57:18.398Z"
   },
   {
    "duration": 119,
    "start_time": "2022-10-07T23:00:32.067Z"
   },
   {
    "duration": 589,
    "start_time": "2022-10-07T23:03:14.225Z"
   },
   {
    "duration": 14,
    "start_time": "2022-10-07T23:03:14.816Z"
   },
   {
    "duration": 85,
    "start_time": "2022-10-07T23:03:14.831Z"
   },
   {
    "duration": 2343,
    "start_time": "2022-10-07T23:03:14.918Z"
   },
   {
    "duration": 53,
    "start_time": "2022-10-07T23:03:17.263Z"
   },
   {
    "duration": 230,
    "start_time": "2022-10-07T23:03:17.318Z"
   },
   {
    "duration": 12,
    "start_time": "2022-10-07T23:03:17.550Z"
   },
   {
    "duration": 9,
    "start_time": "2022-10-07T23:03:17.564Z"
   },
   {
    "duration": 13,
    "start_time": "2022-10-07T23:03:17.575Z"
   },
   {
    "duration": 67,
    "start_time": "2022-10-07T23:03:17.592Z"
   },
   {
    "duration": 197,
    "start_time": "2022-10-07T23:03:17.661Z"
   },
   {
    "duration": 12,
    "start_time": "2022-10-07T23:03:17.860Z"
   },
   {
    "duration": 21,
    "start_time": "2022-10-07T23:03:17.874Z"
   },
   {
    "duration": 10,
    "start_time": "2022-10-07T23:03:17.897Z"
   },
   {
    "duration": 51,
    "start_time": "2022-10-07T23:03:17.909Z"
   },
   {
    "duration": 20,
    "start_time": "2022-10-07T23:03:17.962Z"
   },
   {
    "duration": 11,
    "start_time": "2022-10-07T23:03:17.984Z"
   },
   {
    "duration": 8,
    "start_time": "2022-10-07T23:03:17.997Z"
   },
   {
    "duration": 20,
    "start_time": "2022-10-07T23:03:18.006Z"
   },
   {
    "duration": 30,
    "start_time": "2022-10-07T23:03:18.027Z"
   },
   {
    "duration": 43,
    "start_time": "2022-10-07T23:03:18.059Z"
   },
   {
    "duration": 89,
    "start_time": "2022-10-07T23:03:38.081Z"
   },
   {
    "duration": 22,
    "start_time": "2022-10-07T23:04:06.617Z"
   },
   {
    "duration": 29,
    "start_time": "2022-10-07T23:04:33.694Z"
   },
   {
    "duration": 4,
    "start_time": "2022-10-07T23:04:45.061Z"
   },
   {
    "duration": 7,
    "start_time": "2022-10-07T23:04:54.751Z"
   },
   {
    "duration": 549,
    "start_time": "2022-10-07T23:17:32.419Z"
   },
   {
    "duration": 14,
    "start_time": "2022-10-07T23:17:32.970Z"
   },
   {
    "duration": 84,
    "start_time": "2022-10-07T23:17:32.986Z"
   },
   {
    "duration": 2241,
    "start_time": "2022-10-07T23:17:33.072Z"
   },
   {
    "duration": 55,
    "start_time": "2022-10-07T23:17:35.315Z"
   },
   {
    "duration": 219,
    "start_time": "2022-10-07T23:17:35.372Z"
   },
   {
    "duration": 9,
    "start_time": "2022-10-07T23:17:35.593Z"
   },
   {
    "duration": 9,
    "start_time": "2022-10-07T23:17:35.604Z"
   },
   {
    "duration": 8,
    "start_time": "2022-10-07T23:17:35.615Z"
   },
   {
    "duration": 56,
    "start_time": "2022-10-07T23:17:35.626Z"
   },
   {
    "duration": 196,
    "start_time": "2022-10-07T23:17:35.684Z"
   },
   {
    "duration": 12,
    "start_time": "2022-10-07T23:17:35.882Z"
   },
   {
    "duration": 9,
    "start_time": "2022-10-07T23:17:35.896Z"
   },
   {
    "duration": 8,
    "start_time": "2022-10-07T23:17:35.907Z"
   },
   {
    "duration": 54,
    "start_time": "2022-10-07T23:17:35.916Z"
   },
   {
    "duration": 13,
    "start_time": "2022-10-07T23:17:35.971Z"
   },
   {
    "duration": 9,
    "start_time": "2022-10-07T23:17:35.986Z"
   },
   {
    "duration": 7,
    "start_time": "2022-10-07T23:17:35.996Z"
   },
   {
    "duration": 16,
    "start_time": "2022-10-07T23:17:36.005Z"
   },
   {
    "duration": 40,
    "start_time": "2022-10-07T23:17:36.022Z"
   },
   {
    "duration": 43,
    "start_time": "2022-10-07T23:17:36.064Z"
   },
   {
    "duration": 87,
    "start_time": "2022-10-07T23:18:22.029Z"
   },
   {
    "duration": 44,
    "start_time": "2022-10-07T23:18:27.842Z"
   },
   {
    "duration": 11,
    "start_time": "2022-10-07T23:19:06.610Z"
   },
   {
    "duration": 43,
    "start_time": "2022-10-07T23:19:27.375Z"
   },
   {
    "duration": 7,
    "start_time": "2022-10-07T23:19:48.163Z"
   },
   {
    "duration": 750,
    "start_time": "2022-10-07T23:22:30.399Z"
   },
   {
    "duration": 561,
    "start_time": "2022-10-07T23:22:48.568Z"
   },
   {
    "duration": 15,
    "start_time": "2022-10-07T23:22:49.131Z"
   },
   {
    "duration": 83,
    "start_time": "2022-10-07T23:22:49.147Z"
   },
   {
    "duration": 2260,
    "start_time": "2022-10-07T23:22:49.233Z"
   },
   {
    "duration": 66,
    "start_time": "2022-10-07T23:22:51.495Z"
   },
   {
    "duration": 247,
    "start_time": "2022-10-07T23:22:51.563Z"
   },
   {
    "duration": 8,
    "start_time": "2022-10-07T23:22:51.811Z"
   },
   {
    "duration": 11,
    "start_time": "2022-10-07T23:22:51.821Z"
   },
   {
    "duration": 22,
    "start_time": "2022-10-07T23:22:51.833Z"
   },
   {
    "duration": 32,
    "start_time": "2022-10-07T23:22:51.857Z"
   },
   {
    "duration": 188,
    "start_time": "2022-10-07T23:22:51.891Z"
   },
   {
    "duration": 13,
    "start_time": "2022-10-07T23:22:52.080Z"
   },
   {
    "duration": 16,
    "start_time": "2022-10-07T23:22:52.095Z"
   },
   {
    "duration": 9,
    "start_time": "2022-10-07T23:22:52.113Z"
   },
   {
    "duration": 51,
    "start_time": "2022-10-07T23:22:52.124Z"
   },
   {
    "duration": 16,
    "start_time": "2022-10-07T23:22:52.177Z"
   },
   {
    "duration": 10,
    "start_time": "2022-10-07T23:22:52.195Z"
   },
   {
    "duration": 8,
    "start_time": "2022-10-07T23:22:52.207Z"
   },
   {
    "duration": 46,
    "start_time": "2022-10-07T23:22:52.217Z"
   },
   {
    "duration": 10,
    "start_time": "2022-10-07T23:22:52.265Z"
   },
   {
    "duration": 44,
    "start_time": "2022-10-07T23:22:52.276Z"
   },
   {
    "duration": 8,
    "start_time": "2022-10-07T23:23:21.924Z"
   },
   {
    "duration": 6,
    "start_time": "2022-10-07T23:23:58.445Z"
   },
   {
    "duration": 510,
    "start_time": "2022-10-07T23:24:46.405Z"
   },
   {
    "duration": 17,
    "start_time": "2022-10-07T23:24:46.917Z"
   },
   {
    "duration": 89,
    "start_time": "2022-10-07T23:24:46.936Z"
   },
   {
    "duration": 2333,
    "start_time": "2022-10-07T23:24:47.028Z"
   },
   {
    "duration": 57,
    "start_time": "2022-10-07T23:24:49.363Z"
   },
   {
    "duration": 206,
    "start_time": "2022-10-07T23:24:49.422Z"
   },
   {
    "duration": 8,
    "start_time": "2022-10-07T23:24:49.630Z"
   },
   {
    "duration": 16,
    "start_time": "2022-10-07T23:24:49.640Z"
   },
   {
    "duration": 8,
    "start_time": "2022-10-07T23:24:49.658Z"
   },
   {
    "duration": 33,
    "start_time": "2022-10-07T23:24:49.669Z"
   },
   {
    "duration": 207,
    "start_time": "2022-10-07T23:24:49.704Z"
   },
   {
    "duration": 12,
    "start_time": "2022-10-07T23:24:49.913Z"
   },
   {
    "duration": 10,
    "start_time": "2022-10-07T23:24:49.927Z"
   },
   {
    "duration": 23,
    "start_time": "2022-10-07T23:24:49.938Z"
   },
   {
    "duration": 27,
    "start_time": "2022-10-07T23:24:49.963Z"
   },
   {
    "duration": 14,
    "start_time": "2022-10-07T23:24:49.991Z"
   },
   {
    "duration": 10,
    "start_time": "2022-10-07T23:24:50.006Z"
   },
   {
    "duration": 43,
    "start_time": "2022-10-07T23:24:50.017Z"
   },
   {
    "duration": 12,
    "start_time": "2022-10-07T23:24:50.062Z"
   },
   {
    "duration": 7,
    "start_time": "2022-10-07T23:24:50.075Z"
   },
   {
    "duration": 16,
    "start_time": "2022-10-07T23:24:50.083Z"
   },
   {
    "duration": 13,
    "start_time": "2022-10-07T23:25:13.865Z"
   },
   {
    "duration": 525,
    "start_time": "2022-10-07T23:25:26.580Z"
   },
   {
    "duration": 15,
    "start_time": "2022-10-07T23:25:27.107Z"
   },
   {
    "duration": 87,
    "start_time": "2022-10-07T23:25:27.124Z"
   },
   {
    "duration": 2200,
    "start_time": "2022-10-07T23:25:27.213Z"
   },
   {
    "duration": 51,
    "start_time": "2022-10-07T23:25:29.415Z"
   },
   {
    "duration": 221,
    "start_time": "2022-10-07T23:25:29.468Z"
   },
   {
    "duration": 8,
    "start_time": "2022-10-07T23:25:29.691Z"
   },
   {
    "duration": 15,
    "start_time": "2022-10-07T23:25:29.701Z"
   },
   {
    "duration": 18,
    "start_time": "2022-10-07T23:25:29.718Z"
   },
   {
    "duration": 42,
    "start_time": "2022-10-07T23:25:29.737Z"
   },
   {
    "duration": 188,
    "start_time": "2022-10-07T23:25:29.781Z"
   },
   {
    "duration": 11,
    "start_time": "2022-10-07T23:25:29.971Z"
   },
   {
    "duration": 18,
    "start_time": "2022-10-07T23:25:29.985Z"
   },
   {
    "duration": 18,
    "start_time": "2022-10-07T23:25:30.005Z"
   },
   {
    "duration": 41,
    "start_time": "2022-10-07T23:25:30.025Z"
   },
   {
    "duration": 23,
    "start_time": "2022-10-07T23:25:30.068Z"
   },
   {
    "duration": 17,
    "start_time": "2022-10-07T23:25:30.093Z"
   },
   {
    "duration": 29,
    "start_time": "2022-10-07T23:25:30.113Z"
   },
   {
    "duration": 18,
    "start_time": "2022-10-07T23:25:30.145Z"
   },
   {
    "duration": 16,
    "start_time": "2022-10-07T23:25:30.165Z"
   },
   {
    "duration": 19,
    "start_time": "2022-10-07T23:25:30.183Z"
   },
   {
    "duration": 71,
    "start_time": "2022-10-07T23:26:52.352Z"
   },
   {
    "duration": 43,
    "start_time": "2022-10-07T23:27:24.333Z"
   },
   {
    "duration": 8,
    "start_time": "2022-10-07T23:27:53.737Z"
   },
   {
    "duration": 9,
    "start_time": "2022-10-07T23:28:09.752Z"
   },
   {
    "duration": 44,
    "start_time": "2022-10-07T23:28:31.138Z"
   },
   {
    "duration": 10,
    "start_time": "2022-10-07T23:28:55.632Z"
   },
   {
    "duration": 9,
    "start_time": "2022-10-07T23:29:12.305Z"
   },
   {
    "duration": 10,
    "start_time": "2022-10-07T23:29:38.082Z"
   },
   {
    "duration": 15,
    "start_time": "2022-10-07T23:30:01.074Z"
   },
   {
    "duration": 573,
    "start_time": "2022-10-07T23:30:18.587Z"
   },
   {
    "duration": 13,
    "start_time": "2022-10-07T23:30:40.968Z"
   },
   {
    "duration": 551,
    "start_time": "2022-10-07T23:30:48.378Z"
   },
   {
    "duration": 16,
    "start_time": "2022-10-07T23:30:48.931Z"
   },
   {
    "duration": 79,
    "start_time": "2022-10-07T23:30:48.953Z"
   },
   {
    "duration": 2297,
    "start_time": "2022-10-07T23:30:49.035Z"
   },
   {
    "duration": 54,
    "start_time": "2022-10-07T23:30:51.334Z"
   },
   {
    "duration": 282,
    "start_time": "2022-10-07T23:30:51.390Z"
   },
   {
    "duration": 11,
    "start_time": "2022-10-07T23:30:51.677Z"
   },
   {
    "duration": 17,
    "start_time": "2022-10-07T23:30:51.690Z"
   },
   {
    "duration": 10,
    "start_time": "2022-10-07T23:30:51.708Z"
   },
   {
    "duration": 50,
    "start_time": "2022-10-07T23:30:51.721Z"
   },
   {
    "duration": 195,
    "start_time": "2022-10-07T23:30:51.772Z"
   },
   {
    "duration": 12,
    "start_time": "2022-10-07T23:30:51.969Z"
   },
   {
    "duration": 9,
    "start_time": "2022-10-07T23:30:51.983Z"
   },
   {
    "duration": 9,
    "start_time": "2022-10-07T23:30:51.994Z"
   },
   {
    "duration": 63,
    "start_time": "2022-10-07T23:30:52.004Z"
   },
   {
    "duration": 23,
    "start_time": "2022-10-07T23:30:52.069Z"
   },
   {
    "duration": 10,
    "start_time": "2022-10-07T23:30:52.094Z"
   },
   {
    "duration": 7,
    "start_time": "2022-10-07T23:30:52.106Z"
   },
   {
    "duration": 42,
    "start_time": "2022-10-07T23:30:52.115Z"
   },
   {
    "duration": 8,
    "start_time": "2022-10-07T23:30:52.159Z"
   },
   {
    "duration": 11,
    "start_time": "2022-10-07T23:30:52.168Z"
   },
   {
    "duration": 50,
    "start_time": "2022-10-07T23:32:05.737Z"
   },
   {
    "duration": 85,
    "start_time": "2022-10-07T23:32:18.764Z"
   },
   {
    "duration": 10,
    "start_time": "2022-10-07T23:34:08.461Z"
   },
   {
    "duration": 15,
    "start_time": "2022-10-07T23:34:25.432Z"
   },
   {
    "duration": 15,
    "start_time": "2022-10-07T23:34:32.697Z"
   },
   {
    "duration": 525,
    "start_time": "2022-10-07T23:40:16.698Z"
   },
   {
    "duration": 17,
    "start_time": "2022-10-07T23:40:17.225Z"
   },
   {
    "duration": 82,
    "start_time": "2022-10-07T23:40:17.255Z"
   },
   {
    "duration": 2358,
    "start_time": "2022-10-07T23:40:17.339Z"
   },
   {
    "duration": 52,
    "start_time": "2022-10-07T23:40:19.698Z"
   },
   {
    "duration": 185,
    "start_time": "2022-10-07T23:40:19.752Z"
   },
   {
    "duration": 18,
    "start_time": "2022-10-07T23:40:19.939Z"
   },
   {
    "duration": 8,
    "start_time": "2022-10-07T23:40:19.959Z"
   },
   {
    "duration": 8,
    "start_time": "2022-10-07T23:40:19.968Z"
   },
   {
    "duration": 33,
    "start_time": "2022-10-07T23:40:19.978Z"
   },
   {
    "duration": 205,
    "start_time": "2022-10-07T23:40:20.013Z"
   },
   {
    "duration": 13,
    "start_time": "2022-10-07T23:40:20.220Z"
   },
   {
    "duration": 24,
    "start_time": "2022-10-07T23:40:20.234Z"
   },
   {
    "duration": 9,
    "start_time": "2022-10-07T23:40:20.259Z"
   },
   {
    "duration": 26,
    "start_time": "2022-10-07T23:40:20.269Z"
   },
   {
    "duration": 13,
    "start_time": "2022-10-07T23:40:20.297Z"
   },
   {
    "duration": 43,
    "start_time": "2022-10-07T23:40:20.312Z"
   },
   {
    "duration": 7,
    "start_time": "2022-10-07T23:40:20.357Z"
   },
   {
    "duration": 25,
    "start_time": "2022-10-07T23:40:20.366Z"
   },
   {
    "duration": 12,
    "start_time": "2022-10-07T23:40:20.393Z"
   },
   {
    "duration": 43,
    "start_time": "2022-10-07T23:40:20.407Z"
   },
   {
    "duration": 74,
    "start_time": "2022-10-07T23:40:29.054Z"
   },
   {
    "duration": 85,
    "start_time": "2022-10-07T23:53:58.933Z"
   },
   {
    "duration": 79,
    "start_time": "2022-10-07T23:54:09.222Z"
   },
   {
    "duration": 10,
    "start_time": "2022-10-07T23:54:15.580Z"
   },
   {
    "duration": 9,
    "start_time": "2022-10-07T23:54:32.262Z"
   },
   {
    "duration": 8,
    "start_time": "2022-10-07T23:55:00.170Z"
   },
   {
    "duration": 10,
    "start_time": "2022-10-07T23:55:34.476Z"
   },
   {
    "duration": 539,
    "start_time": "2022-10-07T23:55:46.688Z"
   },
   {
    "duration": 644,
    "start_time": "2022-10-07T23:56:52.272Z"
   },
   {
    "duration": 710,
    "start_time": "2022-10-07T23:57:00.677Z"
   },
   {
    "duration": 522,
    "start_time": "2022-10-07T23:57:10.898Z"
   },
   {
    "duration": 20,
    "start_time": "2022-10-07T23:57:11.422Z"
   },
   {
    "duration": 104,
    "start_time": "2022-10-07T23:57:11.454Z"
   },
   {
    "duration": 2312,
    "start_time": "2022-10-07T23:57:11.561Z"
   },
   {
    "duration": 54,
    "start_time": "2022-10-07T23:57:13.875Z"
   },
   {
    "duration": 186,
    "start_time": "2022-10-07T23:57:13.931Z"
   },
   {
    "duration": 8,
    "start_time": "2022-10-07T23:57:14.119Z"
   },
   {
    "duration": 10,
    "start_time": "2022-10-07T23:57:14.128Z"
   },
   {
    "duration": 18,
    "start_time": "2022-10-07T23:57:14.140Z"
   },
   {
    "duration": 31,
    "start_time": "2022-10-07T23:57:14.160Z"
   },
   {
    "duration": 207,
    "start_time": "2022-10-07T23:57:14.192Z"
   },
   {
    "duration": 12,
    "start_time": "2022-10-07T23:57:14.401Z"
   },
   {
    "duration": 8,
    "start_time": "2022-10-07T23:57:14.415Z"
   },
   {
    "duration": 31,
    "start_time": "2022-10-07T23:57:14.425Z"
   },
   {
    "duration": 26,
    "start_time": "2022-10-07T23:57:14.458Z"
   },
   {
    "duration": 15,
    "start_time": "2022-10-07T23:57:14.485Z"
   },
   {
    "duration": 9,
    "start_time": "2022-10-07T23:57:14.501Z"
   },
   {
    "duration": 43,
    "start_time": "2022-10-07T23:57:14.512Z"
   },
   {
    "duration": 12,
    "start_time": "2022-10-07T23:57:14.557Z"
   },
   {
    "duration": 7,
    "start_time": "2022-10-07T23:57:14.571Z"
   },
   {
    "duration": 8,
    "start_time": "2022-10-07T23:57:14.579Z"
   },
   {
    "duration": 7,
    "start_time": "2022-10-07T23:57:56.641Z"
   },
   {
    "duration": 7,
    "start_time": "2022-10-08T00:24:09.743Z"
   },
   {
    "duration": 7,
    "start_time": "2022-10-08T00:24:56.480Z"
   },
   {
    "duration": 8,
    "start_time": "2022-10-08T00:25:54.370Z"
   },
   {
    "duration": 75,
    "start_time": "2022-10-08T00:26:20.546Z"
   },
   {
    "duration": 6,
    "start_time": "2022-10-08T00:26:35.893Z"
   },
   {
    "duration": 9,
    "start_time": "2022-10-08T00:26:42.485Z"
   },
   {
    "duration": 553,
    "start_time": "2022-10-08T00:30:25.763Z"
   },
   {
    "duration": 15,
    "start_time": "2022-10-08T00:30:26.318Z"
   },
   {
    "duration": 88,
    "start_time": "2022-10-08T00:30:26.334Z"
   },
   {
    "duration": 2281,
    "start_time": "2022-10-08T00:30:26.424Z"
   },
   {
    "duration": 51,
    "start_time": "2022-10-08T00:30:28.706Z"
   },
   {
    "duration": 199,
    "start_time": "2022-10-08T00:30:28.759Z"
   },
   {
    "duration": 9,
    "start_time": "2022-10-08T00:30:28.959Z"
   },
   {
    "duration": 11,
    "start_time": "2022-10-08T00:30:28.969Z"
   },
   {
    "duration": 11,
    "start_time": "2022-10-08T00:30:28.981Z"
   },
   {
    "duration": 32,
    "start_time": "2022-10-08T00:30:28.995Z"
   },
   {
    "duration": 201,
    "start_time": "2022-10-08T00:30:29.028Z"
   },
   {
    "duration": 11,
    "start_time": "2022-10-08T00:30:29.230Z"
   },
   {
    "duration": 17,
    "start_time": "2022-10-08T00:30:29.243Z"
   },
   {
    "duration": 11,
    "start_time": "2022-10-08T00:30:29.262Z"
   },
   {
    "duration": 11,
    "start_time": "2022-10-08T00:30:29.275Z"
   },
   {
    "duration": 6,
    "start_time": "2022-10-08T00:30:29.288Z"
   },
   {
    "duration": 16,
    "start_time": "2022-10-08T00:30:29.296Z"
   },
   {
    "duration": 6,
    "start_time": "2022-10-08T00:30:29.314Z"
   },
   {
    "duration": 35,
    "start_time": "2022-10-08T00:30:29.321Z"
   },
   {
    "duration": 8,
    "start_time": "2022-10-08T00:30:29.359Z"
   },
   {
    "duration": 545,
    "start_time": "2022-10-08T00:30:54.255Z"
   },
   {
    "duration": 15,
    "start_time": "2022-10-08T00:30:54.802Z"
   },
   {
    "duration": 86,
    "start_time": "2022-10-08T00:30:54.819Z"
   },
   {
    "duration": 2214,
    "start_time": "2022-10-08T00:30:54.907Z"
   },
   {
    "duration": 54,
    "start_time": "2022-10-08T00:30:57.122Z"
   },
   {
    "duration": 197,
    "start_time": "2022-10-08T00:30:57.177Z"
   },
   {
    "duration": 9,
    "start_time": "2022-10-08T00:30:57.376Z"
   },
   {
    "duration": 15,
    "start_time": "2022-10-08T00:30:57.387Z"
   },
   {
    "duration": 15,
    "start_time": "2022-10-08T00:30:57.404Z"
   },
   {
    "duration": 53,
    "start_time": "2022-10-08T00:30:57.421Z"
   },
   {
    "duration": 198,
    "start_time": "2022-10-08T00:30:57.475Z"
   },
   {
    "duration": 14,
    "start_time": "2022-10-08T00:30:57.674Z"
   },
   {
    "duration": 9,
    "start_time": "2022-10-08T00:30:57.689Z"
   },
   {
    "duration": 12,
    "start_time": "2022-10-08T00:30:57.700Z"
   },
   {
    "duration": 10,
    "start_time": "2022-10-08T00:30:57.714Z"
   },
   {
    "duration": 6,
    "start_time": "2022-10-08T00:30:57.755Z"
   },
   {
    "duration": 24,
    "start_time": "2022-10-08T00:30:57.763Z"
   },
   {
    "duration": 8,
    "start_time": "2022-10-08T00:30:57.789Z"
   },
   {
    "duration": 9,
    "start_time": "2022-10-08T00:30:57.798Z"
   },
   {
    "duration": 7,
    "start_time": "2022-10-08T00:30:57.809Z"
   },
   {
    "duration": 47,
    "start_time": "2022-10-08T18:49:43.963Z"
   },
   {
    "duration": 724,
    "start_time": "2022-10-08T18:49:51.241Z"
   },
   {
    "duration": 24,
    "start_time": "2022-10-08T18:49:51.967Z"
   },
   {
    "duration": 74,
    "start_time": "2022-10-08T18:49:51.993Z"
   },
   {
    "duration": 2296,
    "start_time": "2022-10-08T18:49:52.068Z"
   },
   {
    "duration": 52,
    "start_time": "2022-10-08T18:49:54.366Z"
   },
   {
    "duration": 199,
    "start_time": "2022-10-08T18:49:54.421Z"
   },
   {
    "duration": 8,
    "start_time": "2022-10-08T18:49:54.621Z"
   },
   {
    "duration": 7,
    "start_time": "2022-10-08T18:49:54.631Z"
   },
   {
    "duration": 9,
    "start_time": "2022-10-08T18:49:54.639Z"
   },
   {
    "duration": 54,
    "start_time": "2022-10-08T18:49:54.650Z"
   },
   {
    "duration": 181,
    "start_time": "2022-10-08T18:49:54.707Z"
   },
   {
    "duration": 11,
    "start_time": "2022-10-08T18:49:54.890Z"
   },
   {
    "duration": 9,
    "start_time": "2022-10-08T18:49:54.903Z"
   },
   {
    "duration": 9,
    "start_time": "2022-10-08T18:49:54.914Z"
   },
   {
    "duration": 8,
    "start_time": "2022-10-08T18:49:54.924Z"
   },
   {
    "duration": 43,
    "start_time": "2022-10-08T18:49:54.934Z"
   },
   {
    "duration": 12,
    "start_time": "2022-10-08T18:49:54.979Z"
   },
   {
    "duration": 6,
    "start_time": "2022-10-08T18:49:54.992Z"
   },
   {
    "duration": 8,
    "start_time": "2022-10-08T18:49:55.000Z"
   },
   {
    "duration": 8,
    "start_time": "2022-10-08T18:49:55.010Z"
   },
   {
    "duration": 27,
    "start_time": "2022-10-08T18:49:55.020Z"
   },
   {
    "duration": 13,
    "start_time": "2022-10-08T18:50:57.676Z"
   },
   {
    "duration": 506,
    "start_time": "2022-10-08T18:59:10.597Z"
   },
   {
    "duration": 13,
    "start_time": "2022-10-08T18:59:11.105Z"
   },
   {
    "duration": 78,
    "start_time": "2022-10-08T18:59:11.120Z"
   },
   {
    "duration": 2136,
    "start_time": "2022-10-08T18:59:11.200Z"
   },
   {
    "duration": 49,
    "start_time": "2022-10-08T18:59:13.338Z"
   },
   {
    "duration": 198,
    "start_time": "2022-10-08T18:59:13.389Z"
   },
   {
    "duration": 8,
    "start_time": "2022-10-08T18:59:13.588Z"
   },
   {
    "duration": 20,
    "start_time": "2022-10-08T18:59:13.598Z"
   },
   {
    "duration": 16,
    "start_time": "2022-10-08T18:59:13.619Z"
   },
   {
    "duration": 43,
    "start_time": "2022-10-08T18:59:13.637Z"
   },
   {
    "duration": 188,
    "start_time": "2022-10-08T18:59:13.682Z"
   },
   {
    "duration": 11,
    "start_time": "2022-10-08T18:59:13.876Z"
   },
   {
    "duration": 14,
    "start_time": "2022-10-08T18:59:13.888Z"
   },
   {
    "duration": 22,
    "start_time": "2022-10-08T18:59:13.904Z"
   },
   {
    "duration": 40,
    "start_time": "2022-10-08T18:59:13.928Z"
   },
   {
    "duration": 13,
    "start_time": "2022-10-08T18:59:13.970Z"
   },
   {
    "duration": 31,
    "start_time": "2022-10-08T18:59:13.984Z"
   },
   {
    "duration": 7,
    "start_time": "2022-10-08T18:59:14.016Z"
   },
   {
    "duration": 71,
    "start_time": "2022-10-08T18:59:14.025Z"
   },
   {
    "duration": 8,
    "start_time": "2022-10-08T18:59:14.098Z"
   },
   {
    "duration": 17,
    "start_time": "2022-10-08T18:59:14.108Z"
   },
   {
    "duration": 43,
    "start_time": "2022-10-08T18:59:14.126Z"
   },
   {
    "duration": 22,
    "start_time": "2022-10-08T18:59:14.170Z"
   },
   {
    "duration": 509,
    "start_time": "2022-10-08T19:00:07.490Z"
   },
   {
    "duration": 14,
    "start_time": "2022-10-08T19:00:08.001Z"
   },
   {
    "duration": 75,
    "start_time": "2022-10-08T19:00:08.016Z"
   },
   {
    "duration": 2131,
    "start_time": "2022-10-08T19:00:08.093Z"
   },
   {
    "duration": 49,
    "start_time": "2022-10-08T19:00:10.226Z"
   },
   {
    "duration": 183,
    "start_time": "2022-10-08T19:00:10.277Z"
   },
   {
    "duration": 17,
    "start_time": "2022-10-08T19:00:10.461Z"
   },
   {
    "duration": 9,
    "start_time": "2022-10-08T19:00:10.480Z"
   },
   {
    "duration": 10,
    "start_time": "2022-10-08T19:00:10.491Z"
   },
   {
    "duration": 32,
    "start_time": "2022-10-08T19:00:10.503Z"
   },
   {
    "duration": 199,
    "start_time": "2022-10-08T19:00:10.537Z"
   },
   {
    "duration": 12,
    "start_time": "2022-10-08T19:00:10.737Z"
   },
   {
    "duration": 26,
    "start_time": "2022-10-08T19:00:10.751Z"
   },
   {
    "duration": 9,
    "start_time": "2022-10-08T19:00:10.779Z"
   },
   {
    "duration": 14,
    "start_time": "2022-10-08T19:00:10.789Z"
   },
   {
    "duration": 7,
    "start_time": "2022-10-08T19:00:10.804Z"
   },
   {
    "duration": 17,
    "start_time": "2022-10-08T19:00:10.813Z"
   },
   {
    "duration": 6,
    "start_time": "2022-10-08T19:00:10.832Z"
   },
   {
    "duration": 37,
    "start_time": "2022-10-08T19:00:10.840Z"
   },
   {
    "duration": 9,
    "start_time": "2022-10-08T19:00:10.879Z"
   },
   {
    "duration": 12,
    "start_time": "2022-10-08T19:00:10.889Z"
   },
   {
    "duration": 24,
    "start_time": "2022-10-08T19:00:10.903Z"
   },
   {
    "duration": 16,
    "start_time": "2022-10-08T19:00:10.929Z"
   },
   {
    "duration": 486,
    "start_time": "2022-10-08T19:01:27.430Z"
   },
   {
    "duration": 14,
    "start_time": "2022-10-08T19:01:27.918Z"
   },
   {
    "duration": 89,
    "start_time": "2022-10-08T19:01:27.934Z"
   },
   {
    "duration": 2127,
    "start_time": "2022-10-08T19:01:28.025Z"
   },
   {
    "duration": 49,
    "start_time": "2022-10-08T19:01:30.155Z"
   },
   {
    "duration": 193,
    "start_time": "2022-10-08T19:01:30.206Z"
   },
   {
    "duration": 8,
    "start_time": "2022-10-08T19:01:30.400Z"
   },
   {
    "duration": 33,
    "start_time": "2022-10-08T19:01:30.410Z"
   },
   {
    "duration": 52,
    "start_time": "2022-10-08T19:01:30.445Z"
   },
   {
    "duration": 73,
    "start_time": "2022-10-08T19:01:30.499Z"
   },
   {
    "duration": 171,
    "start_time": "2022-10-08T19:01:30.573Z"
   },
   {
    "duration": 11,
    "start_time": "2022-10-08T19:01:30.746Z"
   },
   {
    "duration": 33,
    "start_time": "2022-10-08T19:01:30.759Z"
   },
   {
    "duration": 28,
    "start_time": "2022-10-08T19:01:30.794Z"
   },
   {
    "duration": 37,
    "start_time": "2022-10-08T19:01:30.824Z"
   },
   {
    "duration": 14,
    "start_time": "2022-10-08T19:01:30.863Z"
   },
   {
    "duration": 34,
    "start_time": "2022-10-08T19:01:30.878Z"
   },
   {
    "duration": 13,
    "start_time": "2022-10-08T19:01:30.913Z"
   },
   {
    "duration": 7,
    "start_time": "2022-10-08T19:01:30.928Z"
   },
   {
    "duration": 35,
    "start_time": "2022-10-08T19:01:30.936Z"
   },
   {
    "duration": 31,
    "start_time": "2022-10-08T19:01:30.973Z"
   },
   {
    "duration": 41,
    "start_time": "2022-10-08T19:01:31.006Z"
   },
   {
    "duration": 30,
    "start_time": "2022-10-08T19:01:31.048Z"
   },
   {
    "duration": 11,
    "start_time": "2022-10-08T19:09:15.628Z"
   },
   {
    "duration": 523,
    "start_time": "2022-10-08T19:09:37.100Z"
   },
   {
    "duration": 18,
    "start_time": "2022-10-08T19:09:37.625Z"
   },
   {
    "duration": 82,
    "start_time": "2022-10-08T19:09:37.645Z"
   },
   {
    "duration": 2224,
    "start_time": "2022-10-08T19:09:37.729Z"
   },
   {
    "duration": 63,
    "start_time": "2022-10-08T19:09:39.956Z"
   },
   {
    "duration": 204,
    "start_time": "2022-10-08T19:09:40.021Z"
   },
   {
    "duration": 8,
    "start_time": "2022-10-08T19:09:40.227Z"
   },
   {
    "duration": 8,
    "start_time": "2022-10-08T19:09:40.236Z"
   },
   {
    "duration": 9,
    "start_time": "2022-10-08T19:09:40.245Z"
   },
   {
    "duration": 33,
    "start_time": "2022-10-08T19:09:40.277Z"
   },
   {
    "duration": 200,
    "start_time": "2022-10-08T19:09:40.311Z"
   },
   {
    "duration": 17,
    "start_time": "2022-10-08T19:09:40.514Z"
   },
   {
    "duration": 17,
    "start_time": "2022-10-08T19:09:40.533Z"
   },
   {
    "duration": 27,
    "start_time": "2022-10-08T19:09:40.554Z"
   },
   {
    "duration": 12,
    "start_time": "2022-10-08T19:09:40.584Z"
   },
   {
    "duration": 9,
    "start_time": "2022-10-08T19:09:40.598Z"
   },
   {
    "duration": 26,
    "start_time": "2022-10-08T19:09:40.609Z"
   },
   {
    "duration": 42,
    "start_time": "2022-10-08T19:09:40.637Z"
   },
   {
    "duration": 17,
    "start_time": "2022-10-08T19:09:40.681Z"
   },
   {
    "duration": 8,
    "start_time": "2022-10-08T19:09:40.700Z"
   },
   {
    "duration": 12,
    "start_time": "2022-10-08T19:09:40.710Z"
   },
   {
    "duration": 9,
    "start_time": "2022-10-08T19:09:40.724Z"
   },
   {
    "duration": 59,
    "start_time": "2022-10-08T19:09:40.734Z"
   },
   {
    "duration": 13,
    "start_time": "2022-10-08T19:09:40.796Z"
   },
   {
    "duration": 8,
    "start_time": "2022-10-08T19:12:22.323Z"
   },
   {
    "duration": 498,
    "start_time": "2022-10-08T19:12:48.721Z"
   },
   {
    "duration": 14,
    "start_time": "2022-10-08T19:12:49.221Z"
   },
   {
    "duration": 72,
    "start_time": "2022-10-08T19:12:49.236Z"
   },
   {
    "duration": 2114,
    "start_time": "2022-10-08T19:12:49.310Z"
   },
   {
    "duration": 48,
    "start_time": "2022-10-08T19:12:51.427Z"
   },
   {
    "duration": 186,
    "start_time": "2022-10-08T19:12:51.477Z"
   },
   {
    "duration": 12,
    "start_time": "2022-10-08T19:12:51.665Z"
   },
   {
    "duration": 7,
    "start_time": "2022-10-08T19:12:51.679Z"
   },
   {
    "duration": 7,
    "start_time": "2022-10-08T19:12:51.688Z"
   },
   {
    "duration": 29,
    "start_time": "2022-10-08T19:12:51.696Z"
   },
   {
    "duration": 198,
    "start_time": "2022-10-08T19:12:51.727Z"
   },
   {
    "duration": 11,
    "start_time": "2022-10-08T19:12:51.927Z"
   },
   {
    "duration": 12,
    "start_time": "2022-10-08T19:12:51.939Z"
   },
   {
    "duration": 24,
    "start_time": "2022-10-08T19:12:51.953Z"
   },
   {
    "duration": 9,
    "start_time": "2022-10-08T19:12:51.979Z"
   },
   {
    "duration": 8,
    "start_time": "2022-10-08T19:12:51.990Z"
   },
   {
    "duration": 12,
    "start_time": "2022-10-08T19:12:52.000Z"
   },
   {
    "duration": 8,
    "start_time": "2022-10-08T19:12:52.013Z"
   },
   {
    "duration": 10,
    "start_time": "2022-10-08T19:12:52.023Z"
   },
   {
    "duration": 43,
    "start_time": "2022-10-08T19:12:52.035Z"
   },
   {
    "duration": 7,
    "start_time": "2022-10-08T19:12:52.080Z"
   },
   {
    "duration": 7,
    "start_time": "2022-10-08T19:12:52.089Z"
   },
   {
    "duration": 15,
    "start_time": "2022-10-08T19:12:52.097Z"
   },
   {
    "duration": 11,
    "start_time": "2022-10-08T19:12:52.113Z"
   },
   {
    "duration": 500,
    "start_time": "2022-10-08T19:14:54.422Z"
   },
   {
    "duration": 14,
    "start_time": "2022-10-08T19:14:54.924Z"
   },
   {
    "duration": 81,
    "start_time": "2022-10-08T19:14:54.939Z"
   },
   {
    "duration": 2179,
    "start_time": "2022-10-08T19:14:55.021Z"
   },
   {
    "duration": 56,
    "start_time": "2022-10-08T19:14:57.203Z"
   },
   {
    "duration": 176,
    "start_time": "2022-10-08T19:14:57.260Z"
   },
   {
    "duration": 7,
    "start_time": "2022-10-08T19:14:57.438Z"
   },
   {
    "duration": 7,
    "start_time": "2022-10-08T19:14:57.446Z"
   },
   {
    "duration": 22,
    "start_time": "2022-10-08T19:14:57.455Z"
   },
   {
    "duration": 30,
    "start_time": "2022-10-08T19:14:57.479Z"
   },
   {
    "duration": 186,
    "start_time": "2022-10-08T19:14:57.510Z"
   },
   {
    "duration": 12,
    "start_time": "2022-10-08T19:14:57.697Z"
   },
   {
    "duration": 7,
    "start_time": "2022-10-08T19:14:57.711Z"
   },
   {
    "duration": 8,
    "start_time": "2022-10-08T19:14:57.721Z"
   },
   {
    "duration": 9,
    "start_time": "2022-10-08T19:14:57.730Z"
   },
   {
    "duration": 40,
    "start_time": "2022-10-08T19:14:57.741Z"
   },
   {
    "duration": 13,
    "start_time": "2022-10-08T19:14:57.783Z"
   },
   {
    "duration": 79,
    "start_time": "2022-10-08T19:14:57.797Z"
   },
   {
    "duration": 0,
    "start_time": "2022-10-08T19:14:57.878Z"
   },
   {
    "duration": 0,
    "start_time": "2022-10-08T19:14:57.879Z"
   },
   {
    "duration": 0,
    "start_time": "2022-10-08T19:14:57.880Z"
   },
   {
    "duration": 0,
    "start_time": "2022-10-08T19:14:57.881Z"
   },
   {
    "duration": 0,
    "start_time": "2022-10-08T19:14:57.882Z"
   },
   {
    "duration": 0,
    "start_time": "2022-10-08T19:14:57.883Z"
   },
   {
    "duration": 544,
    "start_time": "2022-10-08T19:15:32.562Z"
   },
   {
    "duration": 13,
    "start_time": "2022-10-08T19:15:33.108Z"
   },
   {
    "duration": 76,
    "start_time": "2022-10-08T19:15:33.122Z"
   },
   {
    "duration": 2172,
    "start_time": "2022-10-08T19:15:33.200Z"
   },
   {
    "duration": 48,
    "start_time": "2022-10-08T19:15:35.374Z"
   },
   {
    "duration": 180,
    "start_time": "2022-10-08T19:15:35.424Z"
   },
   {
    "duration": 7,
    "start_time": "2022-10-08T19:15:35.606Z"
   },
   {
    "duration": 12,
    "start_time": "2022-10-08T19:15:35.614Z"
   },
   {
    "duration": 8,
    "start_time": "2022-10-08T19:15:35.628Z"
   },
   {
    "duration": 48,
    "start_time": "2022-10-08T19:15:35.638Z"
   },
   {
    "duration": 173,
    "start_time": "2022-10-08T19:15:35.688Z"
   },
   {
    "duration": 15,
    "start_time": "2022-10-08T19:15:35.863Z"
   },
   {
    "duration": 11,
    "start_time": "2022-10-08T19:15:35.879Z"
   },
   {
    "duration": 7,
    "start_time": "2022-10-08T19:15:35.892Z"
   },
   {
    "duration": 8,
    "start_time": "2022-10-08T19:15:35.901Z"
   },
   {
    "duration": 15,
    "start_time": "2022-10-08T19:15:35.910Z"
   },
   {
    "duration": 12,
    "start_time": "2022-10-08T19:15:35.927Z"
   },
   {
    "duration": 37,
    "start_time": "2022-10-08T19:15:35.940Z"
   },
   {
    "duration": 12,
    "start_time": "2022-10-08T19:15:35.979Z"
   },
   {
    "duration": 6,
    "start_time": "2022-10-08T19:15:35.992Z"
   },
   {
    "duration": 9,
    "start_time": "2022-10-08T19:15:36.000Z"
   },
   {
    "duration": 7,
    "start_time": "2022-10-08T19:15:36.010Z"
   },
   {
    "duration": 59,
    "start_time": "2022-10-08T19:15:36.019Z"
   },
   {
    "duration": 16,
    "start_time": "2022-10-08T19:15:36.080Z"
   },
   {
    "duration": 8,
    "start_time": "2022-10-08T19:17:48.199Z"
   },
   {
    "duration": 521,
    "start_time": "2022-10-08T19:17:56.718Z"
   },
   {
    "duration": 15,
    "start_time": "2022-10-08T19:17:57.241Z"
   },
   {
    "duration": 82,
    "start_time": "2022-10-08T19:17:57.257Z"
   },
   {
    "duration": 2115,
    "start_time": "2022-10-08T19:17:57.341Z"
   },
   {
    "duration": 47,
    "start_time": "2022-10-08T19:17:59.459Z"
   },
   {
    "duration": 179,
    "start_time": "2022-10-08T19:17:59.508Z"
   },
   {
    "duration": 8,
    "start_time": "2022-10-08T19:17:59.688Z"
   },
   {
    "duration": 8,
    "start_time": "2022-10-08T19:17:59.697Z"
   },
   {
    "duration": 7,
    "start_time": "2022-10-08T19:17:59.706Z"
   },
   {
    "duration": 30,
    "start_time": "2022-10-08T19:17:59.714Z"
   },
   {
    "duration": 189,
    "start_time": "2022-10-08T19:17:59.745Z"
   },
   {
    "duration": 11,
    "start_time": "2022-10-08T19:17:59.935Z"
   },
   {
    "duration": 11,
    "start_time": "2022-10-08T19:17:59.947Z"
   },
   {
    "duration": 8,
    "start_time": "2022-10-08T19:17:59.976Z"
   },
   {
    "duration": 9,
    "start_time": "2022-10-08T19:17:59.985Z"
   },
   {
    "duration": 6,
    "start_time": "2022-10-08T19:17:59.995Z"
   },
   {
    "duration": 16,
    "start_time": "2022-10-08T19:18:00.003Z"
   },
   {
    "duration": 7,
    "start_time": "2022-10-08T19:18:00.021Z"
   },
   {
    "duration": 48,
    "start_time": "2022-10-08T19:18:00.030Z"
   },
   {
    "duration": 16,
    "start_time": "2022-10-08T19:18:00.080Z"
   },
   {
    "duration": 17,
    "start_time": "2022-10-08T19:18:00.098Z"
   },
   {
    "duration": 10,
    "start_time": "2022-10-08T19:18:00.117Z"
   },
   {
    "duration": 24,
    "start_time": "2022-10-08T19:18:00.128Z"
   },
   {
    "duration": 20,
    "start_time": "2022-10-08T19:18:00.154Z"
   },
   {
    "duration": 84,
    "start_time": "2022-10-08T19:18:35.941Z"
   },
   {
    "duration": 557,
    "start_time": "2022-10-08T19:19:18.072Z"
   },
   {
    "duration": 14,
    "start_time": "2022-10-08T19:19:18.631Z"
   },
   {
    "duration": 80,
    "start_time": "2022-10-08T19:19:18.647Z"
   },
   {
    "duration": 2207,
    "start_time": "2022-10-08T19:19:18.729Z"
   },
   {
    "duration": 52,
    "start_time": "2022-10-08T19:19:20.938Z"
   },
   {
    "duration": 195,
    "start_time": "2022-10-08T19:19:20.992Z"
   },
   {
    "duration": 8,
    "start_time": "2022-10-08T19:19:21.189Z"
   },
   {
    "duration": 7,
    "start_time": "2022-10-08T19:19:21.198Z"
   },
   {
    "duration": 9,
    "start_time": "2022-10-08T19:19:21.207Z"
   },
   {
    "duration": 31,
    "start_time": "2022-10-08T19:19:21.219Z"
   },
   {
    "duration": 210,
    "start_time": "2022-10-08T19:19:21.251Z"
   },
   {
    "duration": 16,
    "start_time": "2022-10-08T19:19:21.462Z"
   },
   {
    "duration": 9,
    "start_time": "2022-10-08T19:19:21.480Z"
   },
   {
    "duration": 8,
    "start_time": "2022-10-08T19:19:21.491Z"
   },
   {
    "duration": 9,
    "start_time": "2022-10-08T19:19:21.500Z"
   },
   {
    "duration": 10,
    "start_time": "2022-10-08T19:19:21.511Z"
   },
   {
    "duration": 13,
    "start_time": "2022-10-08T19:19:21.522Z"
   },
   {
    "duration": 48,
    "start_time": "2022-10-08T19:19:21.537Z"
   },
   {
    "duration": 13,
    "start_time": "2022-10-08T19:19:21.587Z"
   },
   {
    "duration": 7,
    "start_time": "2022-10-08T19:19:21.601Z"
   },
   {
    "duration": 8,
    "start_time": "2022-10-08T19:19:21.610Z"
   },
   {
    "duration": 11,
    "start_time": "2022-10-08T19:19:21.619Z"
   },
   {
    "duration": 54,
    "start_time": "2022-10-08T19:19:21.631Z"
   },
   {
    "duration": 18,
    "start_time": "2022-10-08T19:19:21.687Z"
   },
   {
    "duration": 518,
    "start_time": "2022-10-08T19:19:56.393Z"
   },
   {
    "duration": 16,
    "start_time": "2022-10-08T19:19:56.914Z"
   },
   {
    "duration": 97,
    "start_time": "2022-10-08T19:19:56.932Z"
   },
   {
    "duration": 2124,
    "start_time": "2022-10-08T19:19:57.032Z"
   },
   {
    "duration": 49,
    "start_time": "2022-10-08T19:19:59.158Z"
   },
   {
    "duration": 186,
    "start_time": "2022-10-08T19:19:59.209Z"
   },
   {
    "duration": 8,
    "start_time": "2022-10-08T19:19:59.397Z"
   },
   {
    "duration": 7,
    "start_time": "2022-10-08T19:19:59.407Z"
   },
   {
    "duration": 14,
    "start_time": "2022-10-08T19:19:59.415Z"
   },
   {
    "duration": 48,
    "start_time": "2022-10-08T19:19:59.431Z"
   },
   {
    "duration": 179,
    "start_time": "2022-10-08T19:19:59.481Z"
   },
   {
    "duration": 17,
    "start_time": "2022-10-08T19:19:59.662Z"
   },
   {
    "duration": 10,
    "start_time": "2022-10-08T19:19:59.681Z"
   },
   {
    "duration": 8,
    "start_time": "2022-10-08T19:19:59.693Z"
   },
   {
    "duration": 9,
    "start_time": "2022-10-08T19:19:59.703Z"
   },
   {
    "duration": 6,
    "start_time": "2022-10-08T19:19:59.713Z"
   },
   {
    "duration": 58,
    "start_time": "2022-10-08T19:19:59.720Z"
   },
   {
    "duration": 11,
    "start_time": "2022-10-08T19:19:59.779Z"
   },
   {
    "duration": 11,
    "start_time": "2022-10-08T19:19:59.792Z"
   },
   {
    "duration": 5,
    "start_time": "2022-10-08T19:19:59.805Z"
   },
   {
    "duration": 7,
    "start_time": "2022-10-08T19:19:59.811Z"
   },
   {
    "duration": 5,
    "start_time": "2022-10-08T19:19:59.820Z"
   },
   {
    "duration": 60,
    "start_time": "2022-10-08T19:19:59.827Z"
   },
   {
    "duration": 14,
    "start_time": "2022-10-08T19:19:59.889Z"
   },
   {
    "duration": 11,
    "start_time": "2022-10-08T19:23:24.367Z"
   },
   {
    "duration": 509,
    "start_time": "2022-10-08T19:23:32.397Z"
   },
   {
    "duration": 13,
    "start_time": "2022-10-08T19:23:32.908Z"
   },
   {
    "duration": 80,
    "start_time": "2022-10-08T19:23:32.923Z"
   },
   {
    "duration": 2131,
    "start_time": "2022-10-08T19:23:33.005Z"
   },
   {
    "duration": 70,
    "start_time": "2022-10-08T19:23:35.139Z"
   },
   {
    "duration": 224,
    "start_time": "2022-10-08T19:23:35.212Z"
   },
   {
    "duration": 7,
    "start_time": "2022-10-08T19:23:35.438Z"
   },
   {
    "duration": 8,
    "start_time": "2022-10-08T19:23:35.446Z"
   },
   {
    "duration": 22,
    "start_time": "2022-10-08T19:23:35.455Z"
   },
   {
    "duration": 31,
    "start_time": "2022-10-08T19:23:35.479Z"
   },
   {
    "duration": 190,
    "start_time": "2022-10-08T19:23:35.511Z"
   },
   {
    "duration": 12,
    "start_time": "2022-10-08T19:23:35.702Z"
   },
   {
    "duration": 12,
    "start_time": "2022-10-08T19:23:35.715Z"
   },
   {
    "duration": 9,
    "start_time": "2022-10-08T19:23:35.728Z"
   },
   {
    "duration": 9,
    "start_time": "2022-10-08T19:23:35.739Z"
   },
   {
    "duration": 8,
    "start_time": "2022-10-08T19:23:35.777Z"
   },
   {
    "duration": 14,
    "start_time": "2022-10-08T19:23:35.786Z"
   },
   {
    "duration": 13,
    "start_time": "2022-10-08T19:23:35.801Z"
   },
   {
    "duration": 12,
    "start_time": "2022-10-08T19:23:35.816Z"
   },
   {
    "duration": 7,
    "start_time": "2022-10-08T19:23:35.829Z"
   },
   {
    "duration": 8,
    "start_time": "2022-10-08T19:23:35.876Z"
   },
   {
    "duration": 6,
    "start_time": "2022-10-08T19:23:35.886Z"
   },
   {
    "duration": 22,
    "start_time": "2022-10-08T19:23:35.893Z"
   },
   {
    "duration": 13,
    "start_time": "2022-10-08T19:23:35.917Z"
   },
   {
    "duration": 7,
    "start_time": "2022-10-08T19:25:52.174Z"
   },
   {
    "duration": 10,
    "start_time": "2022-10-08T19:26:23.078Z"
   },
   {
    "duration": 7,
    "start_time": "2022-10-08T19:26:24.934Z"
   },
   {
    "duration": 483,
    "start_time": "2022-10-08T19:26:30.820Z"
   },
   {
    "duration": 14,
    "start_time": "2022-10-08T19:26:31.304Z"
   },
   {
    "duration": 78,
    "start_time": "2022-10-08T19:26:31.320Z"
   },
   {
    "duration": 2088,
    "start_time": "2022-10-08T19:26:31.400Z"
   },
   {
    "duration": 51,
    "start_time": "2022-10-08T19:26:33.490Z"
   },
   {
    "duration": 184,
    "start_time": "2022-10-08T19:26:33.542Z"
   },
   {
    "duration": 8,
    "start_time": "2022-10-08T19:26:33.728Z"
   },
   {
    "duration": 8,
    "start_time": "2022-10-08T19:26:33.738Z"
   },
   {
    "duration": 9,
    "start_time": "2022-10-08T19:26:33.747Z"
   },
   {
    "duration": 48,
    "start_time": "2022-10-08T19:26:33.758Z"
   },
   {
    "duration": 174,
    "start_time": "2022-10-08T19:26:33.807Z"
   },
   {
    "duration": 10,
    "start_time": "2022-10-08T19:26:33.982Z"
   },
   {
    "duration": 10,
    "start_time": "2022-10-08T19:26:33.994Z"
   },
   {
    "duration": 8,
    "start_time": "2022-10-08T19:26:34.005Z"
   },
   {
    "duration": 11,
    "start_time": "2022-10-08T19:26:34.014Z"
   },
   {
    "duration": 6,
    "start_time": "2022-10-08T19:26:34.027Z"
   },
   {
    "duration": 46,
    "start_time": "2022-10-08T19:26:34.034Z"
   },
   {
    "duration": 13,
    "start_time": "2022-10-08T19:26:34.082Z"
   },
   {
    "duration": 12,
    "start_time": "2022-10-08T19:26:34.096Z"
   },
   {
    "duration": 6,
    "start_time": "2022-10-08T19:26:34.110Z"
   },
   {
    "duration": 10,
    "start_time": "2022-10-08T19:26:34.118Z"
   },
   {
    "duration": 5,
    "start_time": "2022-10-08T19:26:34.130Z"
   },
   {
    "duration": 62,
    "start_time": "2022-10-08T19:26:34.137Z"
   },
   {
    "duration": 14,
    "start_time": "2022-10-08T19:26:34.200Z"
   },
   {
    "duration": 476,
    "start_time": "2022-10-08T19:27:31.035Z"
   },
   {
    "duration": 13,
    "start_time": "2022-10-08T19:27:31.513Z"
   },
   {
    "duration": 81,
    "start_time": "2022-10-08T19:27:31.528Z"
   },
   {
    "duration": 2149,
    "start_time": "2022-10-08T19:27:31.611Z"
   },
   {
    "duration": 46,
    "start_time": "2022-10-08T19:27:33.762Z"
   },
   {
    "duration": 178,
    "start_time": "2022-10-08T19:27:33.810Z"
   },
   {
    "duration": 7,
    "start_time": "2022-10-08T19:27:33.990Z"
   },
   {
    "duration": 7,
    "start_time": "2022-10-08T19:27:33.999Z"
   },
   {
    "duration": 8,
    "start_time": "2022-10-08T19:27:34.008Z"
   },
   {
    "duration": 27,
    "start_time": "2022-10-08T19:27:34.018Z"
   },
   {
    "duration": 192,
    "start_time": "2022-10-08T19:27:34.047Z"
   },
   {
    "duration": 10,
    "start_time": "2022-10-08T19:27:34.241Z"
   },
   {
    "duration": 12,
    "start_time": "2022-10-08T19:27:34.252Z"
   },
   {
    "duration": 16,
    "start_time": "2022-10-08T19:27:34.266Z"
   },
   {
    "duration": 8,
    "start_time": "2022-10-08T19:27:34.284Z"
   },
   {
    "duration": 6,
    "start_time": "2022-10-08T19:27:34.293Z"
   },
   {
    "duration": 13,
    "start_time": "2022-10-08T19:27:34.300Z"
   },
   {
    "duration": 12,
    "start_time": "2022-10-08T19:27:34.314Z"
   },
   {
    "duration": 55,
    "start_time": "2022-10-08T19:27:34.327Z"
   },
   {
    "duration": 7,
    "start_time": "2022-10-08T19:27:34.384Z"
   },
   {
    "duration": 10,
    "start_time": "2022-10-08T19:27:34.392Z"
   },
   {
    "duration": 6,
    "start_time": "2022-10-08T19:27:34.404Z"
   },
   {
    "duration": 23,
    "start_time": "2022-10-08T19:27:34.412Z"
   },
   {
    "duration": 40,
    "start_time": "2022-10-08T19:27:34.437Z"
   },
   {
    "duration": 10,
    "start_time": "2022-10-08T20:12:22.082Z"
   },
   {
    "duration": 8,
    "start_time": "2022-10-08T20:12:42.817Z"
   },
   {
    "duration": 8,
    "start_time": "2022-10-08T20:13:11.939Z"
   },
   {
    "duration": 8,
    "start_time": "2022-10-08T20:14:44.305Z"
   },
   {
    "duration": 512,
    "start_time": "2022-10-08T20:19:57.485Z"
   },
   {
    "duration": 14,
    "start_time": "2022-10-08T20:19:57.999Z"
   },
   {
    "duration": 2069,
    "start_time": "2022-10-08T20:19:58.015Z"
   },
   {
    "duration": 30,
    "start_time": "2022-10-08T20:20:00.086Z"
   },
   {
    "duration": 10,
    "start_time": "2022-10-08T20:20:00.118Z"
   },
   {
    "duration": 19,
    "start_time": "2022-10-08T20:20:00.131Z"
   },
   {
    "duration": 32,
    "start_time": "2022-10-08T20:20:00.152Z"
   },
   {
    "duration": 20,
    "start_time": "2022-10-08T20:20:00.186Z"
   },
   {
    "duration": 51,
    "start_time": "2022-10-08T20:20:00.207Z"
   },
   {
    "duration": 8,
    "start_time": "2022-10-08T20:20:00.260Z"
   },
   {
    "duration": 38,
    "start_time": "2022-10-08T20:20:00.270Z"
   },
   {
    "duration": 20,
    "start_time": "2022-10-08T20:20:00.310Z"
   },
   {
    "duration": 23,
    "start_time": "2022-10-08T20:20:00.332Z"
   },
   {
    "duration": 42,
    "start_time": "2022-10-08T20:20:00.358Z"
   },
   {
    "duration": 15,
    "start_time": "2022-10-08T20:20:00.402Z"
   },
   {
    "duration": 22,
    "start_time": "2022-10-08T20:20:00.419Z"
   },
   {
    "duration": 34,
    "start_time": "2022-10-08T20:20:00.443Z"
   },
   {
    "duration": 43,
    "start_time": "2022-10-08T20:20:00.479Z"
   },
   {
    "duration": 62,
    "start_time": "2022-10-08T20:20:00.524Z"
   },
   {
    "duration": 32,
    "start_time": "2022-10-08T20:20:00.588Z"
   },
   {
    "duration": 74,
    "start_time": "2022-10-08T20:20:22.322Z"
   },
   {
    "duration": 14,
    "start_time": "2022-10-08T20:21:18.366Z"
   },
   {
    "duration": 5,
    "start_time": "2022-10-08T20:25:04.520Z"
   },
   {
    "duration": 5,
    "start_time": "2022-10-08T20:25:13.147Z"
   },
   {
    "duration": 38,
    "start_time": "2022-10-08T20:25:55.580Z"
   },
   {
    "duration": 13,
    "start_time": "2022-10-08T20:26:25.819Z"
   },
   {
    "duration": 7,
    "start_time": "2022-10-08T20:33:45.100Z"
   },
   {
    "duration": 7,
    "start_time": "2022-10-08T20:33:52.269Z"
   },
   {
    "duration": 7,
    "start_time": "2022-10-08T20:35:33.189Z"
   },
   {
    "duration": 492,
    "start_time": "2022-10-08T20:35:47.916Z"
   },
   {
    "duration": 14,
    "start_time": "2022-10-08T20:35:48.410Z"
   },
   {
    "duration": 2035,
    "start_time": "2022-10-08T20:35:48.425Z"
   },
   {
    "duration": 30,
    "start_time": "2022-10-08T20:35:50.462Z"
   },
   {
    "duration": 9,
    "start_time": "2022-10-08T20:35:50.495Z"
   },
   {
    "duration": 8,
    "start_time": "2022-10-08T20:35:50.505Z"
   },
   {
    "duration": 9,
    "start_time": "2022-10-08T20:35:50.515Z"
   },
   {
    "duration": 7,
    "start_time": "2022-10-08T20:35:50.526Z"
   },
   {
    "duration": 57,
    "start_time": "2022-10-08T20:35:50.535Z"
   },
   {
    "duration": 7,
    "start_time": "2022-10-08T20:35:50.594Z"
   },
   {
    "duration": 10,
    "start_time": "2022-10-08T20:35:50.602Z"
   },
   {
    "duration": 16,
    "start_time": "2022-10-08T20:35:50.613Z"
   },
   {
    "duration": 7,
    "start_time": "2022-10-08T20:35:50.631Z"
   },
   {
    "duration": 8,
    "start_time": "2022-10-08T20:35:50.641Z"
   },
   {
    "duration": 30,
    "start_time": "2022-10-08T20:35:50.651Z"
   },
   {
    "duration": 14,
    "start_time": "2022-10-08T20:35:50.683Z"
   },
   {
    "duration": 6,
    "start_time": "2022-10-08T20:35:50.699Z"
   },
   {
    "duration": 4,
    "start_time": "2022-10-08T20:35:50.707Z"
   },
   {
    "duration": 11,
    "start_time": "2022-10-08T20:35:50.713Z"
   },
   {
    "duration": 9,
    "start_time": "2022-10-08T20:35:50.726Z"
   },
   {
    "duration": 64,
    "start_time": "2022-10-08T20:35:50.736Z"
   },
   {
    "duration": 5,
    "start_time": "2022-10-08T20:35:50.802Z"
   },
   {
    "duration": 13,
    "start_time": "2022-10-08T20:36:19.333Z"
   },
   {
    "duration": 37,
    "start_time": "2022-10-08T20:36:42.856Z"
   },
   {
    "duration": 523,
    "start_time": "2022-10-08T20:38:11.339Z"
   },
   {
    "duration": 20,
    "start_time": "2022-10-08T20:38:11.865Z"
   },
   {
    "duration": 2081,
    "start_time": "2022-10-08T20:38:11.887Z"
   },
   {
    "duration": 30,
    "start_time": "2022-10-08T20:38:13.970Z"
   },
   {
    "duration": 10,
    "start_time": "2022-10-08T20:38:14.003Z"
   },
   {
    "duration": 7,
    "start_time": "2022-10-08T20:38:14.014Z"
   },
   {
    "duration": 19,
    "start_time": "2022-10-08T20:38:14.023Z"
   },
   {
    "duration": 8,
    "start_time": "2022-10-08T20:38:14.044Z"
   },
   {
    "duration": 47,
    "start_time": "2022-10-08T20:38:14.053Z"
   },
   {
    "duration": 9,
    "start_time": "2022-10-08T20:38:14.101Z"
   },
   {
    "duration": 10,
    "start_time": "2022-10-08T20:38:14.112Z"
   },
   {
    "duration": 9,
    "start_time": "2022-10-08T20:38:14.124Z"
   },
   {
    "duration": 45,
    "start_time": "2022-10-08T20:38:14.135Z"
   },
   {
    "duration": 9,
    "start_time": "2022-10-08T20:38:14.184Z"
   },
   {
    "duration": 7,
    "start_time": "2022-10-08T20:38:14.194Z"
   },
   {
    "duration": 14,
    "start_time": "2022-10-08T20:38:14.203Z"
   },
   {
    "duration": 7,
    "start_time": "2022-10-08T20:38:14.219Z"
   },
   {
    "duration": 7,
    "start_time": "2022-10-08T20:38:14.227Z"
   },
   {
    "duration": 43,
    "start_time": "2022-10-08T20:38:14.235Z"
   },
   {
    "duration": 10,
    "start_time": "2022-10-08T20:38:14.281Z"
   },
   {
    "duration": 36,
    "start_time": "2022-10-08T20:38:14.293Z"
   },
   {
    "duration": 5,
    "start_time": "2022-10-08T20:38:14.331Z"
   },
   {
    "duration": 47,
    "start_time": "2022-10-08T20:38:14.337Z"
   },
   {
    "duration": 35,
    "start_time": "2022-10-08T20:38:14.386Z"
   },
   {
    "duration": 3,
    "start_time": "2022-10-08T20:38:34.035Z"
   },
   {
    "duration": 68,
    "start_time": "2022-10-08T20:38:36.133Z"
   },
   {
    "duration": 511,
    "start_time": "2022-10-08T20:40:48.925Z"
   },
   {
    "duration": 15,
    "start_time": "2022-10-08T20:40:49.438Z"
   },
   {
    "duration": 2158,
    "start_time": "2022-10-08T20:40:49.454Z"
   },
   {
    "duration": 30,
    "start_time": "2022-10-08T20:40:51.614Z"
   },
   {
    "duration": 8,
    "start_time": "2022-10-08T20:40:51.646Z"
   },
   {
    "duration": 6,
    "start_time": "2022-10-08T20:40:51.656Z"
   },
   {
    "duration": 19,
    "start_time": "2022-10-08T20:40:51.664Z"
   },
   {
    "duration": 8,
    "start_time": "2022-10-08T20:40:51.684Z"
   },
   {
    "duration": 29,
    "start_time": "2022-10-08T20:40:51.694Z"
   },
   {
    "duration": 8,
    "start_time": "2022-10-08T20:40:51.725Z"
   },
   {
    "duration": 10,
    "start_time": "2022-10-08T20:40:51.734Z"
   },
   {
    "duration": 38,
    "start_time": "2022-10-08T20:40:51.745Z"
   },
   {
    "duration": 7,
    "start_time": "2022-10-08T20:40:51.785Z"
   },
   {
    "duration": 13,
    "start_time": "2022-10-08T20:40:51.794Z"
   },
   {
    "duration": 7,
    "start_time": "2022-10-08T20:40:51.809Z"
   },
   {
    "duration": 14,
    "start_time": "2022-10-08T20:40:51.817Z"
   },
   {
    "duration": 44,
    "start_time": "2022-10-08T20:40:51.833Z"
   },
   {
    "duration": 6,
    "start_time": "2022-10-08T20:40:51.878Z"
   },
   {
    "duration": 14,
    "start_time": "2022-10-08T20:40:51.885Z"
   },
   {
    "duration": 9,
    "start_time": "2022-10-08T20:40:51.901Z"
   },
   {
    "duration": 36,
    "start_time": "2022-10-08T20:40:51.911Z"
   },
   {
    "duration": 6,
    "start_time": "2022-10-08T20:40:51.948Z"
   },
   {
    "duration": 14,
    "start_time": "2022-10-08T20:40:51.976Z"
   },
   {
    "duration": 14,
    "start_time": "2022-10-08T20:40:51.991Z"
   },
   {
    "duration": 10,
    "start_time": "2022-10-08T20:42:10.542Z"
   },
   {
    "duration": 7,
    "start_time": "2022-10-08T20:43:48.455Z"
   },
   {
    "duration": 6,
    "start_time": "2022-10-08T20:43:58.723Z"
   },
   {
    "duration": 7,
    "start_time": "2022-10-08T20:44:04.751Z"
   },
   {
    "duration": 6,
    "start_time": "2022-10-08T20:44:11.649Z"
   },
   {
    "duration": 10,
    "start_time": "2022-10-08T20:44:16.947Z"
   },
   {
    "duration": 12,
    "start_time": "2022-10-08T21:07:56.400Z"
   },
   {
    "duration": 66,
    "start_time": "2022-10-08T21:10:17.835Z"
   },
   {
    "duration": 13,
    "start_time": "2022-10-08T21:10:25.826Z"
   },
   {
    "duration": 65,
    "start_time": "2022-10-08T21:12:56.652Z"
   },
   {
    "duration": 5,
    "start_time": "2022-10-08T21:13:50.414Z"
   },
   {
    "duration": 39,
    "start_time": "2022-10-08T21:14:15.379Z"
   },
   {
    "duration": 533,
    "start_time": "2022-10-08T21:18:05.085Z"
   },
   {
    "duration": 15,
    "start_time": "2022-10-08T21:18:05.621Z"
   },
   {
    "duration": 2111,
    "start_time": "2022-10-08T21:18:05.637Z"
   },
   {
    "duration": 30,
    "start_time": "2022-10-08T21:18:07.751Z"
   },
   {
    "duration": 10,
    "start_time": "2022-10-08T21:18:07.783Z"
   },
   {
    "duration": 7,
    "start_time": "2022-10-08T21:18:07.795Z"
   },
   {
    "duration": 9,
    "start_time": "2022-10-08T21:18:07.804Z"
   },
   {
    "duration": 8,
    "start_time": "2022-10-08T21:18:07.815Z"
   },
   {
    "duration": 59,
    "start_time": "2022-10-08T21:18:07.825Z"
   },
   {
    "duration": 9,
    "start_time": "2022-10-08T21:18:07.887Z"
   },
   {
    "duration": 12,
    "start_time": "2022-10-08T21:18:07.898Z"
   },
   {
    "duration": 22,
    "start_time": "2022-10-08T21:18:07.911Z"
   },
   {
    "duration": 9,
    "start_time": "2022-10-08T21:18:07.935Z"
   },
   {
    "duration": 38,
    "start_time": "2022-10-08T21:18:07.946Z"
   },
   {
    "duration": 7,
    "start_time": "2022-10-08T21:18:07.985Z"
   },
   {
    "duration": 14,
    "start_time": "2022-10-08T21:18:07.994Z"
   },
   {
    "duration": 7,
    "start_time": "2022-10-08T21:18:08.009Z"
   },
   {
    "duration": 4,
    "start_time": "2022-10-08T21:18:08.017Z"
   },
   {
    "duration": 12,
    "start_time": "2022-10-08T21:18:08.023Z"
   },
   {
    "duration": 15,
    "start_time": "2022-10-08T21:18:08.037Z"
   },
   {
    "duration": 60,
    "start_time": "2022-10-08T21:18:08.053Z"
   },
   {
    "duration": 5,
    "start_time": "2022-10-08T21:18:08.115Z"
   },
   {
    "duration": 15,
    "start_time": "2022-10-08T21:18:08.122Z"
   },
   {
    "duration": 8,
    "start_time": "2022-10-08T21:18:08.138Z"
   },
   {
    "duration": 32,
    "start_time": "2022-10-08T21:18:08.147Z"
   },
   {
    "duration": 10,
    "start_time": "2022-10-08T21:18:08.181Z"
   },
   {
    "duration": 35,
    "start_time": "2022-10-08T21:18:08.193Z"
   },
   {
    "duration": 11,
    "start_time": "2022-10-08T21:18:08.232Z"
   },
   {
    "duration": 4,
    "start_time": "2022-10-08T21:22:03.071Z"
   },
   {
    "duration": 39,
    "start_time": "2022-10-08T21:22:08.795Z"
   },
   {
    "duration": 13,
    "start_time": "2022-10-08T21:22:10.146Z"
   },
   {
    "duration": 67,
    "start_time": "2022-10-08T21:26:24.237Z"
   },
   {
    "duration": 7,
    "start_time": "2022-10-08T21:27:26.328Z"
   },
   {
    "duration": 5,
    "start_time": "2022-10-08T21:27:34.097Z"
   },
   {
    "duration": 8,
    "start_time": "2022-10-08T21:29:10.135Z"
   },
   {
    "duration": 7,
    "start_time": "2022-10-08T21:58:55.126Z"
   },
   {
    "duration": 726,
    "start_time": "2022-10-08T21:59:27.152Z"
   },
   {
    "duration": 13,
    "start_time": "2022-10-08T21:59:40.780Z"
   },
   {
    "duration": 47,
    "start_time": "2022-10-08T22:00:39.271Z"
   },
   {
    "duration": 5,
    "start_time": "2022-10-08T22:02:02.555Z"
   },
   {
    "duration": 15,
    "start_time": "2022-10-08T22:08:53.821Z"
   },
   {
    "duration": 17,
    "start_time": "2022-10-08T22:09:55.127Z"
   },
   {
    "duration": 6,
    "start_time": "2022-10-08T22:10:52.100Z"
   },
   {
    "duration": 49,
    "start_time": "2022-10-08T22:11:24.626Z"
   },
   {
    "duration": 38,
    "start_time": "2022-10-08T22:11:39.567Z"
   },
   {
    "duration": 86,
    "start_time": "2022-10-08T22:12:15.155Z"
   },
   {
    "duration": 53,
    "start_time": "2022-10-08T22:12:26.923Z"
   },
   {
    "duration": 40,
    "start_time": "2022-10-08T22:12:35.865Z"
   },
   {
    "duration": 18,
    "start_time": "2022-10-08T22:12:52.778Z"
   },
   {
    "duration": 46,
    "start_time": "2022-10-08T22:12:58.176Z"
   },
   {
    "duration": 18,
    "start_time": "2022-10-08T22:13:36.121Z"
   },
   {
    "duration": 39,
    "start_time": "2022-10-08T22:14:06.686Z"
   },
   {
    "duration": 25,
    "start_time": "2022-10-08T22:15:53.564Z"
   },
   {
    "duration": 37,
    "start_time": "2022-10-08T22:16:36.877Z"
   },
   {
    "duration": 14,
    "start_time": "2022-10-08T22:18:46.765Z"
   },
   {
    "duration": 15,
    "start_time": "2022-10-08T22:20:48.433Z"
   },
   {
    "duration": 37,
    "start_time": "2022-10-08T22:24:38.773Z"
   },
   {
    "duration": 10,
    "start_time": "2022-10-08T22:25:12.977Z"
   },
   {
    "duration": 15,
    "start_time": "2022-10-08T22:25:21.177Z"
   },
   {
    "duration": 9,
    "start_time": "2022-10-08T22:25:28.978Z"
   },
   {
    "duration": 6,
    "start_time": "2022-10-08T22:33:36.976Z"
   },
   {
    "duration": 13,
    "start_time": "2022-10-08T22:33:37.812Z"
   },
   {
    "duration": 5,
    "start_time": "2022-10-08T22:34:36.833Z"
   },
   {
    "duration": 6,
    "start_time": "2022-10-08T22:37:19.584Z"
   },
   {
    "duration": 5,
    "start_time": "2022-10-08T22:37:21.631Z"
   },
   {
    "duration": 13,
    "start_time": "2022-10-08T22:37:24.073Z"
   },
   {
    "duration": 547,
    "start_time": "2022-10-08T22:40:41.084Z"
   },
   {
    "duration": 15,
    "start_time": "2022-10-08T22:40:41.633Z"
   },
   {
    "duration": 2079,
    "start_time": "2022-10-08T22:40:41.649Z"
   },
   {
    "duration": 30,
    "start_time": "2022-10-08T22:40:43.730Z"
   },
   {
    "duration": 9,
    "start_time": "2022-10-08T22:40:43.761Z"
   },
   {
    "duration": 10,
    "start_time": "2022-10-08T22:40:43.771Z"
   },
   {
    "duration": 9,
    "start_time": "2022-10-08T22:40:43.783Z"
   },
   {
    "duration": 15,
    "start_time": "2022-10-08T22:40:43.793Z"
   },
   {
    "duration": 31,
    "start_time": "2022-10-08T22:40:43.809Z"
   },
   {
    "duration": 8,
    "start_time": "2022-10-08T22:40:43.842Z"
   },
   {
    "duration": 29,
    "start_time": "2022-10-08T22:40:43.851Z"
   },
   {
    "duration": 7,
    "start_time": "2022-10-08T22:40:43.881Z"
   },
   {
    "duration": 10,
    "start_time": "2022-10-08T22:40:43.889Z"
   },
   {
    "duration": 8,
    "start_time": "2022-10-08T22:40:43.901Z"
   },
   {
    "duration": 5,
    "start_time": "2022-10-08T22:40:43.911Z"
   },
   {
    "duration": 14,
    "start_time": "2022-10-08T22:40:43.917Z"
   },
   {
    "duration": 6,
    "start_time": "2022-10-08T22:40:43.932Z"
   },
   {
    "duration": 40,
    "start_time": "2022-10-08T22:40:43.940Z"
   },
   {
    "duration": 8,
    "start_time": "2022-10-08T22:40:43.981Z"
   },
   {
    "duration": 10,
    "start_time": "2022-10-08T22:40:43.990Z"
   },
   {
    "duration": 34,
    "start_time": "2022-10-08T22:40:44.001Z"
   },
   {
    "duration": 7,
    "start_time": "2022-10-08T22:40:44.037Z"
   },
   {
    "duration": 45,
    "start_time": "2022-10-08T22:40:44.045Z"
   },
   {
    "duration": 9,
    "start_time": "2022-10-08T22:40:44.091Z"
   },
   {
    "duration": 7,
    "start_time": "2022-10-08T22:40:44.101Z"
   },
   {
    "duration": 10,
    "start_time": "2022-10-08T22:40:44.110Z"
   },
   {
    "duration": 4,
    "start_time": "2022-10-08T22:40:44.121Z"
   },
   {
    "duration": 68,
    "start_time": "2022-10-08T22:40:44.128Z"
   },
   {
    "duration": 10,
    "start_time": "2022-10-08T22:40:44.198Z"
   },
   {
    "duration": 4,
    "start_time": "2022-10-08T22:40:44.210Z"
   },
   {
    "duration": 6,
    "start_time": "2022-10-08T22:40:44.215Z"
   },
   {
    "duration": 55,
    "start_time": "2022-10-08T22:40:44.222Z"
   },
   {
    "duration": 14,
    "start_time": "2022-10-08T22:40:44.279Z"
   },
   {
    "duration": 24,
    "start_time": "2022-10-08T22:40:44.294Z"
   },
   {
    "duration": 8,
    "start_time": "2022-10-08T22:40:44.319Z"
   },
   {
    "duration": 6,
    "start_time": "2022-10-08T22:40:44.328Z"
   },
   {
    "duration": 12,
    "start_time": "2022-10-08T22:40:44.336Z"
   },
   {
    "duration": 15,
    "start_time": "2022-10-08T22:49:04.033Z"
   },
   {
    "duration": 66,
    "start_time": "2022-10-08T22:49:55.634Z"
   },
   {
    "duration": 8,
    "start_time": "2022-10-08T22:52:23.330Z"
   },
   {
    "duration": 42,
    "start_time": "2022-10-08T22:52:29.862Z"
   },
   {
    "duration": 12,
    "start_time": "2022-10-08T22:54:20.754Z"
   },
   {
    "duration": 4,
    "start_time": "2022-10-08T22:58:02.304Z"
   },
   {
    "duration": 5,
    "start_time": "2022-10-08T22:58:32.708Z"
   },
   {
    "duration": 5,
    "start_time": "2022-10-08T22:59:51.388Z"
   },
   {
    "duration": 13,
    "start_time": "2022-10-08T23:00:00.670Z"
   },
   {
    "duration": 514,
    "start_time": "2022-10-08T23:00:41.515Z"
   },
   {
    "duration": 15,
    "start_time": "2022-10-08T23:00:42.031Z"
   },
   {
    "duration": 2100,
    "start_time": "2022-10-08T23:00:42.048Z"
   },
   {
    "duration": 30,
    "start_time": "2022-10-08T23:00:44.150Z"
   },
   {
    "duration": 8,
    "start_time": "2022-10-08T23:00:44.181Z"
   },
   {
    "duration": 7,
    "start_time": "2022-10-08T23:00:44.190Z"
   },
   {
    "duration": 16,
    "start_time": "2022-10-08T23:00:44.199Z"
   },
   {
    "duration": 7,
    "start_time": "2022-10-08T23:00:44.216Z"
   },
   {
    "duration": 29,
    "start_time": "2022-10-08T23:00:44.225Z"
   },
   {
    "duration": 25,
    "start_time": "2022-10-08T23:00:44.257Z"
   },
   {
    "duration": 9,
    "start_time": "2022-10-08T23:00:44.284Z"
   },
   {
    "duration": 9,
    "start_time": "2022-10-08T23:00:44.294Z"
   },
   {
    "duration": 8,
    "start_time": "2022-10-08T23:00:44.304Z"
   },
   {
    "duration": 8,
    "start_time": "2022-10-08T23:00:44.313Z"
   },
   {
    "duration": 6,
    "start_time": "2022-10-08T23:00:44.322Z"
   },
   {
    "duration": 50,
    "start_time": "2022-10-08T23:00:44.330Z"
   },
   {
    "duration": 7,
    "start_time": "2022-10-08T23:00:44.381Z"
   },
   {
    "duration": 5,
    "start_time": "2022-10-08T23:00:44.389Z"
   },
   {
    "duration": 8,
    "start_time": "2022-10-08T23:00:44.395Z"
   },
   {
    "duration": 9,
    "start_time": "2022-10-08T23:00:44.405Z"
   },
   {
    "duration": 62,
    "start_time": "2022-10-08T23:00:44.415Z"
   },
   {
    "duration": 7,
    "start_time": "2022-10-08T23:00:44.478Z"
   },
   {
    "duration": 16,
    "start_time": "2022-10-08T23:00:44.486Z"
   },
   {
    "duration": 8,
    "start_time": "2022-10-08T23:00:44.503Z"
   },
   {
    "duration": 6,
    "start_time": "2022-10-08T23:00:44.512Z"
   },
   {
    "duration": 10,
    "start_time": "2022-10-08T23:00:44.519Z"
   },
   {
    "duration": 3,
    "start_time": "2022-10-08T23:00:44.531Z"
   },
   {
    "duration": 36,
    "start_time": "2022-10-08T23:00:44.576Z"
   },
   {
    "duration": 11,
    "start_time": "2022-10-08T23:00:44.614Z"
   },
   {
    "duration": 4,
    "start_time": "2022-10-08T23:00:44.626Z"
   },
   {
    "duration": 21,
    "start_time": "2022-10-08T23:00:44.631Z"
   },
   {
    "duration": 45,
    "start_time": "2022-10-08T23:00:44.653Z"
   },
   {
    "duration": 14,
    "start_time": "2022-10-08T23:00:44.700Z"
   },
   {
    "duration": 15,
    "start_time": "2022-10-08T23:00:44.715Z"
   },
   {
    "duration": 8,
    "start_time": "2022-10-08T23:00:44.732Z"
   },
   {
    "duration": 36,
    "start_time": "2022-10-08T23:00:44.741Z"
   },
   {
    "duration": 15,
    "start_time": "2022-10-08T23:00:44.779Z"
   },
   {
    "duration": 14,
    "start_time": "2022-10-08T23:00:44.796Z"
   },
   {
    "duration": 5,
    "start_time": "2022-10-08T23:00:44.812Z"
   },
   {
    "duration": 6,
    "start_time": "2022-10-08T23:00:44.819Z"
   },
   {
    "duration": 15,
    "start_time": "2022-10-08T23:00:44.826Z"
   },
   {
    "duration": 102,
    "start_time": "2022-10-08T23:00:44.842Z"
   },
   {
    "duration": 38,
    "start_time": "2022-10-08T23:01:59.884Z"
   },
   {
    "duration": 48,
    "start_time": "2022-10-08T23:04:41.649Z"
   },
   {
    "duration": 33,
    "start_time": "2022-10-08T23:04:46.177Z"
   },
   {
    "duration": 50,
    "start_time": "2022-10-08T23:06:27.742Z"
   },
   {
    "duration": 553,
    "start_time": "2022-10-08T23:07:00.370Z"
   },
   {
    "duration": 15,
    "start_time": "2022-10-08T23:07:00.924Z"
   },
   {
    "duration": 2092,
    "start_time": "2022-10-08T23:07:00.940Z"
   },
   {
    "duration": 28,
    "start_time": "2022-10-08T23:07:03.034Z"
   },
   {
    "duration": 13,
    "start_time": "2022-10-08T23:07:03.064Z"
   },
   {
    "duration": 7,
    "start_time": "2022-10-08T23:07:03.079Z"
   },
   {
    "duration": 15,
    "start_time": "2022-10-08T23:07:03.088Z"
   },
   {
    "duration": 15,
    "start_time": "2022-10-08T23:07:03.105Z"
   },
   {
    "duration": 40,
    "start_time": "2022-10-08T23:07:03.122Z"
   },
   {
    "duration": 11,
    "start_time": "2022-10-08T23:07:03.166Z"
   },
   {
    "duration": 10,
    "start_time": "2022-10-08T23:07:03.179Z"
   },
   {
    "duration": 8,
    "start_time": "2022-10-08T23:07:03.190Z"
   },
   {
    "duration": 8,
    "start_time": "2022-10-08T23:07:03.200Z"
   },
   {
    "duration": 9,
    "start_time": "2022-10-08T23:07:03.210Z"
   },
   {
    "duration": 14,
    "start_time": "2022-10-08T23:07:03.220Z"
   },
   {
    "duration": 47,
    "start_time": "2022-10-08T23:07:03.235Z"
   },
   {
    "duration": 7,
    "start_time": "2022-10-08T23:07:03.284Z"
   },
   {
    "duration": 5,
    "start_time": "2022-10-08T23:07:03.293Z"
   },
   {
    "duration": 11,
    "start_time": "2022-10-08T23:07:03.299Z"
   },
   {
    "duration": 11,
    "start_time": "2022-10-08T23:07:03.312Z"
   },
   {
    "duration": 54,
    "start_time": "2022-10-08T23:07:03.325Z"
   },
   {
    "duration": 6,
    "start_time": "2022-10-08T23:07:03.381Z"
   },
   {
    "duration": 15,
    "start_time": "2022-10-08T23:07:03.388Z"
   },
   {
    "duration": 8,
    "start_time": "2022-10-08T23:07:03.404Z"
   },
   {
    "duration": 16,
    "start_time": "2022-10-08T23:07:03.414Z"
   },
   {
    "duration": 30,
    "start_time": "2022-10-08T23:07:03.432Z"
   },
   {
    "duration": 22,
    "start_time": "2022-10-08T23:07:03.464Z"
   },
   {
    "duration": 47,
    "start_time": "2022-10-08T23:07:03.489Z"
   },
   {
    "duration": 11,
    "start_time": "2022-10-08T23:07:03.538Z"
   },
   {
    "duration": 18,
    "start_time": "2022-10-08T23:07:03.550Z"
   },
   {
    "duration": 30,
    "start_time": "2022-10-08T23:07:03.569Z"
   },
   {
    "duration": 41,
    "start_time": "2022-10-08T23:07:03.601Z"
   },
   {
    "duration": 13,
    "start_time": "2022-10-08T23:07:03.643Z"
   },
   {
    "duration": 28,
    "start_time": "2022-10-08T23:07:03.658Z"
   },
   {
    "duration": 7,
    "start_time": "2022-10-08T23:07:03.688Z"
   },
   {
    "duration": 26,
    "start_time": "2022-10-08T23:07:03.697Z"
   },
   {
    "duration": 18,
    "start_time": "2022-10-08T23:07:03.725Z"
   },
   {
    "duration": 12,
    "start_time": "2022-10-08T23:07:03.744Z"
   },
   {
    "duration": 7,
    "start_time": "2022-10-08T23:07:03.757Z"
   },
   {
    "duration": 14,
    "start_time": "2022-10-08T23:07:03.765Z"
   },
   {
    "duration": 53,
    "start_time": "2022-10-08T23:07:03.781Z"
   },
   {
    "duration": 12,
    "start_time": "2022-10-08T23:07:03.835Z"
   },
   {
    "duration": 79,
    "start_time": "2022-10-08T23:07:03.849Z"
   },
   {
    "duration": 45,
    "start_time": "2022-10-08T23:21:01.475Z"
   },
   {
    "duration": 38,
    "start_time": "2022-10-08T23:21:07.601Z"
   },
   {
    "duration": 9,
    "start_time": "2022-10-08T23:21:38.334Z"
   },
   {
    "duration": 8,
    "start_time": "2022-10-08T23:21:45.570Z"
   },
   {
    "duration": 11,
    "start_time": "2022-10-08T23:22:29.064Z"
   },
   {
    "duration": 48,
    "start_time": "2022-10-08T23:22:50.679Z"
   },
   {
    "duration": 8,
    "start_time": "2022-10-08T23:23:14.783Z"
   },
   {
    "duration": 41,
    "start_time": "2022-10-08T23:23:15.972Z"
   },
   {
    "duration": 66,
    "start_time": "2022-10-08T23:24:07.526Z"
   },
   {
    "duration": 4,
    "start_time": "2022-10-08T23:24:13.327Z"
   },
   {
    "duration": 16,
    "start_time": "2022-10-08T23:24:14.411Z"
   },
   {
    "duration": 498,
    "start_time": "2022-10-08T23:24:25.197Z"
   },
   {
    "duration": 14,
    "start_time": "2022-10-08T23:24:25.697Z"
   },
   {
    "duration": 1996,
    "start_time": "2022-10-08T23:24:25.712Z"
   },
   {
    "duration": 28,
    "start_time": "2022-10-08T23:24:27.710Z"
   },
   {
    "duration": 8,
    "start_time": "2022-10-08T23:24:27.740Z"
   },
   {
    "duration": 6,
    "start_time": "2022-10-08T23:24:27.750Z"
   },
   {
    "duration": 18,
    "start_time": "2022-10-08T23:24:27.758Z"
   },
   {
    "duration": 8,
    "start_time": "2022-10-08T23:24:27.778Z"
   },
   {
    "duration": 29,
    "start_time": "2022-10-08T23:24:27.787Z"
   },
   {
    "duration": 7,
    "start_time": "2022-10-08T23:24:27.819Z"
   },
   {
    "duration": 10,
    "start_time": "2022-10-08T23:24:27.828Z"
   },
   {
    "duration": 38,
    "start_time": "2022-10-08T23:24:27.839Z"
   },
   {
    "duration": 7,
    "start_time": "2022-10-08T23:24:27.879Z"
   },
   {
    "duration": 8,
    "start_time": "2022-10-08T23:24:27.887Z"
   },
   {
    "duration": 5,
    "start_time": "2022-10-08T23:24:27.897Z"
   },
   {
    "duration": 13,
    "start_time": "2022-10-08T23:24:27.903Z"
   },
   {
    "duration": 6,
    "start_time": "2022-10-08T23:24:27.917Z"
   },
   {
    "duration": 4,
    "start_time": "2022-10-08T23:24:27.925Z"
   },
   {
    "duration": 7,
    "start_time": "2022-10-08T23:24:27.931Z"
   },
   {
    "duration": 9,
    "start_time": "2022-10-08T23:24:27.977Z"
   },
   {
    "duration": 35,
    "start_time": "2022-10-08T23:24:27.987Z"
   },
   {
    "duration": 6,
    "start_time": "2022-10-08T23:24:28.023Z"
   },
   {
    "duration": 14,
    "start_time": "2022-10-08T23:24:28.030Z"
   },
   {
    "duration": 32,
    "start_time": "2022-10-08T23:24:28.045Z"
   },
   {
    "duration": 6,
    "start_time": "2022-10-08T23:24:28.079Z"
   },
   {
    "duration": 11,
    "start_time": "2022-10-08T23:24:28.086Z"
   },
   {
    "duration": 3,
    "start_time": "2022-10-08T23:24:28.098Z"
   },
   {
    "duration": 34,
    "start_time": "2022-10-08T23:24:28.104Z"
   },
   {
    "duration": 40,
    "start_time": "2022-10-08T23:24:28.140Z"
   },
   {
    "duration": 5,
    "start_time": "2022-10-08T23:24:28.181Z"
   },
   {
    "duration": 13,
    "start_time": "2022-10-08T23:24:28.187Z"
   },
   {
    "duration": 34,
    "start_time": "2022-10-08T23:24:28.201Z"
   },
   {
    "duration": 45,
    "start_time": "2022-10-08T23:24:28.236Z"
   },
   {
    "duration": 13,
    "start_time": "2022-10-08T23:24:28.282Z"
   },
   {
    "duration": 10,
    "start_time": "2022-10-08T23:24:28.296Z"
   },
   {
    "duration": 6,
    "start_time": "2022-10-08T23:24:28.307Z"
   },
   {
    "duration": 14,
    "start_time": "2022-10-08T23:24:28.314Z"
   },
   {
    "duration": 9,
    "start_time": "2022-10-08T23:24:28.330Z"
   },
   {
    "duration": 4,
    "start_time": "2022-10-08T23:24:28.341Z"
   },
   {
    "duration": 10,
    "start_time": "2022-10-08T23:24:28.377Z"
   },
   {
    "duration": 3,
    "start_time": "2022-10-08T23:24:28.389Z"
   },
   {
    "duration": 16,
    "start_time": "2022-10-08T23:24:28.394Z"
   },
   {
    "duration": 37,
    "start_time": "2022-10-08T23:24:28.411Z"
   },
   {
    "duration": 37,
    "start_time": "2022-10-08T23:24:28.449Z"
   },
   {
    "duration": 71,
    "start_time": "2022-10-08T23:24:28.488Z"
   },
   {
    "duration": 4,
    "start_time": "2022-10-08T23:24:51.613Z"
   },
   {
    "duration": 16,
    "start_time": "2022-10-08T23:24:52.259Z"
   },
   {
    "duration": 5,
    "start_time": "2022-10-08T23:25:25.354Z"
   },
   {
    "duration": 15,
    "start_time": "2022-10-08T23:25:25.970Z"
   },
   {
    "duration": 45,
    "start_time": "2022-10-08T23:25:26.980Z"
   },
   {
    "duration": 12,
    "start_time": "2022-10-08T23:25:28.721Z"
   },
   {
    "duration": 4,
    "start_time": "2022-10-08T23:38:33.588Z"
   },
   {
    "duration": 16,
    "start_time": "2022-10-08T23:38:34.698Z"
   },
   {
    "duration": 41,
    "start_time": "2022-10-08T23:38:41.117Z"
   },
   {
    "duration": 12,
    "start_time": "2022-10-08T23:38:43.629Z"
   },
   {
    "duration": 490,
    "start_time": "2022-10-08T23:38:51.010Z"
   },
   {
    "duration": 13,
    "start_time": "2022-10-08T23:38:51.502Z"
   },
   {
    "duration": 1994,
    "start_time": "2022-10-08T23:38:51.516Z"
   },
   {
    "duration": 28,
    "start_time": "2022-10-08T23:38:53.512Z"
   },
   {
    "duration": 8,
    "start_time": "2022-10-08T23:38:53.541Z"
   },
   {
    "duration": 7,
    "start_time": "2022-10-08T23:38:53.550Z"
   },
   {
    "duration": 8,
    "start_time": "2022-10-08T23:38:53.558Z"
   },
   {
    "duration": 15,
    "start_time": "2022-10-08T23:38:53.568Z"
   },
   {
    "duration": 30,
    "start_time": "2022-10-08T23:38:53.584Z"
   },
   {
    "duration": 8,
    "start_time": "2022-10-08T23:38:53.616Z"
   },
   {
    "duration": 10,
    "start_time": "2022-10-08T23:38:53.625Z"
   },
   {
    "duration": 9,
    "start_time": "2022-10-08T23:38:53.636Z"
   },
   {
    "duration": 36,
    "start_time": "2022-10-08T23:38:53.646Z"
   },
   {
    "duration": 9,
    "start_time": "2022-10-08T23:38:53.684Z"
   },
   {
    "duration": 7,
    "start_time": "2022-10-08T23:38:53.695Z"
   },
   {
    "duration": 15,
    "start_time": "2022-10-08T23:38:53.703Z"
   },
   {
    "duration": 7,
    "start_time": "2022-10-08T23:38:53.719Z"
   },
   {
    "duration": 6,
    "start_time": "2022-10-08T23:38:53.728Z"
   },
   {
    "duration": 42,
    "start_time": "2022-10-08T23:38:53.736Z"
   },
   {
    "duration": 9,
    "start_time": "2022-10-08T23:38:53.780Z"
   },
   {
    "duration": 35,
    "start_time": "2022-10-08T23:38:53.790Z"
   },
   {
    "duration": 7,
    "start_time": "2022-10-08T23:38:53.828Z"
   },
   {
    "duration": 41,
    "start_time": "2022-10-08T23:38:53.836Z"
   },
   {
    "duration": 8,
    "start_time": "2022-10-08T23:38:53.879Z"
   },
   {
    "duration": 7,
    "start_time": "2022-10-08T23:38:53.889Z"
   },
   {
    "duration": 10,
    "start_time": "2022-10-08T23:38:53.897Z"
   },
   {
    "duration": 4,
    "start_time": "2022-10-08T23:38:53.908Z"
   },
   {
    "duration": 64,
    "start_time": "2022-10-08T23:38:53.914Z"
   },
   {
    "duration": 12,
    "start_time": "2022-10-08T23:38:53.980Z"
   },
   {
    "duration": 4,
    "start_time": "2022-10-08T23:38:53.993Z"
   },
   {
    "duration": 11,
    "start_time": "2022-10-08T23:38:53.999Z"
   },
   {
    "duration": 34,
    "start_time": "2022-10-08T23:38:54.011Z"
   },
   {
    "duration": 42,
    "start_time": "2022-10-08T23:38:54.047Z"
   },
   {
    "duration": 14,
    "start_time": "2022-10-08T23:38:54.091Z"
   },
   {
    "duration": 9,
    "start_time": "2022-10-08T23:38:54.106Z"
   },
   {
    "duration": 5,
    "start_time": "2022-10-08T23:38:54.116Z"
   },
   {
    "duration": 25,
    "start_time": "2022-10-08T23:38:54.122Z"
   },
   {
    "duration": 28,
    "start_time": "2022-10-08T23:38:54.149Z"
   },
   {
    "duration": 6,
    "start_time": "2022-10-08T23:38:54.178Z"
   },
   {
    "duration": 10,
    "start_time": "2022-10-08T23:38:54.185Z"
   },
   {
    "duration": 4,
    "start_time": "2022-10-08T23:38:54.197Z"
   },
   {
    "duration": 14,
    "start_time": "2022-10-08T23:38:54.202Z"
   },
   {
    "duration": 61,
    "start_time": "2022-10-08T23:38:54.217Z"
   },
   {
    "duration": 11,
    "start_time": "2022-10-08T23:38:54.280Z"
   },
   {
    "duration": 63,
    "start_time": "2022-10-08T23:38:54.292Z"
   },
   {
    "duration": 6,
    "start_time": "2022-10-08T23:42:11.911Z"
   },
   {
    "duration": 73,
    "start_time": "2022-10-08T23:42:22.399Z"
   },
   {
    "duration": 8,
    "start_time": "2022-10-08T23:43:06.148Z"
   },
   {
    "duration": 6,
    "start_time": "2022-10-08T23:43:13.105Z"
   },
   {
    "duration": 8,
    "start_time": "2022-10-08T23:44:15.484Z"
   },
   {
    "duration": 50,
    "start_time": "2022-10-08T23:45:43.628Z"
   },
   {
    "duration": 8,
    "start_time": "2022-10-08T23:45:53.950Z"
   },
   {
    "duration": 7,
    "start_time": "2022-10-08T23:46:17.155Z"
   },
   {
    "duration": 15,
    "start_time": "2022-10-08T23:47:04.881Z"
   },
   {
    "duration": 16,
    "start_time": "2022-10-08T23:47:19.856Z"
   },
   {
    "duration": 6,
    "start_time": "2022-10-09T00:12:34.017Z"
   },
   {
    "duration": 16,
    "start_time": "2022-10-09T00:13:12.027Z"
   },
   {
    "duration": 37,
    "start_time": "2022-10-09T00:13:49.690Z"
   },
   {
    "duration": 54,
    "start_time": "2022-10-09T00:15:26.561Z"
   },
   {
    "duration": 79,
    "start_time": "2022-10-09T00:17:17.551Z"
   },
   {
    "duration": 37,
    "start_time": "2022-10-09T00:17:24.569Z"
   },
   {
    "duration": 12,
    "start_time": "2022-10-09T00:17:25.614Z"
   },
   {
    "duration": 91,
    "start_time": "2022-10-09T00:18:55.798Z"
   },
   {
    "duration": 118,
    "start_time": "2022-10-09T00:23:18.269Z"
   },
   {
    "duration": 40,
    "start_time": "2022-10-09T00:23:20.358Z"
   },
   {
    "duration": 21,
    "start_time": "2022-10-09T00:25:33.644Z"
   },
   {
    "duration": 18,
    "start_time": "2022-10-09T00:27:07.433Z"
   },
   {
    "duration": 122,
    "start_time": "2022-10-09T00:27:22.639Z"
   },
   {
    "duration": 478,
    "start_time": "2022-10-09T00:27:58.921Z"
   },
   {
    "duration": 14,
    "start_time": "2022-10-09T00:27:59.401Z"
   },
   {
    "duration": 2053,
    "start_time": "2022-10-09T00:27:59.416Z"
   },
   {
    "duration": 32,
    "start_time": "2022-10-09T00:28:01.471Z"
   },
   {
    "duration": 11,
    "start_time": "2022-10-09T00:28:01.505Z"
   },
   {
    "duration": 14,
    "start_time": "2022-10-09T00:28:01.518Z"
   },
   {
    "duration": 20,
    "start_time": "2022-10-09T00:28:01.533Z"
   },
   {
    "duration": 16,
    "start_time": "2022-10-09T00:28:01.554Z"
   },
   {
    "duration": 47,
    "start_time": "2022-10-09T00:28:01.571Z"
   },
   {
    "duration": 36,
    "start_time": "2022-10-09T00:28:01.621Z"
   },
   {
    "duration": 34,
    "start_time": "2022-10-09T00:28:01.658Z"
   },
   {
    "duration": 19,
    "start_time": "2022-10-09T00:28:01.694Z"
   },
   {
    "duration": 22,
    "start_time": "2022-10-09T00:28:01.714Z"
   },
   {
    "duration": 23,
    "start_time": "2022-10-09T00:28:01.737Z"
   },
   {
    "duration": 12,
    "start_time": "2022-10-09T00:28:01.762Z"
   },
   {
    "duration": 23,
    "start_time": "2022-10-09T00:28:01.775Z"
   },
   {
    "duration": 17,
    "start_time": "2022-10-09T00:28:01.800Z"
   },
   {
    "duration": 16,
    "start_time": "2022-10-09T00:28:01.819Z"
   },
   {
    "duration": 29,
    "start_time": "2022-10-09T00:28:01.837Z"
   },
   {
    "duration": 32,
    "start_time": "2022-10-09T00:28:01.868Z"
   },
   {
    "duration": 63,
    "start_time": "2022-10-09T00:28:01.902Z"
   },
   {
    "duration": 6,
    "start_time": "2022-10-09T00:28:01.967Z"
   },
   {
    "duration": 42,
    "start_time": "2022-10-09T00:28:01.974Z"
   },
   {
    "duration": 17,
    "start_time": "2022-10-09T00:28:02.017Z"
   },
   {
    "duration": 35,
    "start_time": "2022-10-09T00:28:02.035Z"
   },
   {
    "duration": 34,
    "start_time": "2022-10-09T00:28:02.071Z"
   },
   {
    "duration": 11,
    "start_time": "2022-10-09T00:28:02.107Z"
   },
   {
    "duration": 71,
    "start_time": "2022-10-09T00:28:02.121Z"
   },
   {
    "duration": 12,
    "start_time": "2022-10-09T00:28:02.194Z"
   },
   {
    "duration": 5,
    "start_time": "2022-10-09T00:28:02.208Z"
   },
   {
    "duration": 26,
    "start_time": "2022-10-09T00:28:02.214Z"
   },
   {
    "duration": 39,
    "start_time": "2022-10-09T00:28:02.242Z"
   },
   {
    "duration": 16,
    "start_time": "2022-10-09T00:28:02.282Z"
   },
   {
    "duration": 28,
    "start_time": "2022-10-09T00:28:02.299Z"
   },
   {
    "duration": 8,
    "start_time": "2022-10-09T00:28:02.328Z"
   },
   {
    "duration": 12,
    "start_time": "2022-10-09T00:28:02.337Z"
   },
   {
    "duration": 21,
    "start_time": "2022-10-09T00:28:02.351Z"
   },
   {
    "duration": 11,
    "start_time": "2022-10-09T00:28:02.376Z"
   },
   {
    "duration": 20,
    "start_time": "2022-10-09T00:28:02.388Z"
   },
   {
    "duration": 13,
    "start_time": "2022-10-09T00:28:02.410Z"
   },
   {
    "duration": 5,
    "start_time": "2022-10-09T00:28:02.424Z"
   },
   {
    "duration": 22,
    "start_time": "2022-10-09T00:28:02.431Z"
   },
   {
    "duration": 22,
    "start_time": "2022-10-09T00:28:02.455Z"
   },
   {
    "duration": 117,
    "start_time": "2022-10-09T00:28:02.478Z"
   },
   {
    "duration": 36,
    "start_time": "2022-10-09T00:28:02.596Z"
   },
   {
    "duration": 11,
    "start_time": "2022-10-09T00:28:02.634Z"
   },
   {
    "duration": 86,
    "start_time": "2022-10-09T00:28:02.647Z"
   },
   {
    "duration": 4,
    "start_time": "2022-10-09T00:33:41.562Z"
   },
   {
    "duration": 4,
    "start_time": "2022-10-09T00:34:49.040Z"
   },
   {
    "duration": 16,
    "start_time": "2022-10-09T00:34:49.924Z"
   },
   {
    "duration": 53,
    "start_time": "2022-10-09T00:35:12.797Z"
   },
   {
    "duration": 539,
    "start_time": "2022-10-09T00:35:40.390Z"
   },
   {
    "duration": 17,
    "start_time": "2022-10-09T00:35:40.931Z"
   },
   {
    "duration": 2182,
    "start_time": "2022-10-09T00:35:40.950Z"
   },
   {
    "duration": 30,
    "start_time": "2022-10-09T00:35:43.135Z"
   },
   {
    "duration": 10,
    "start_time": "2022-10-09T00:35:43.166Z"
   },
   {
    "duration": 7,
    "start_time": "2022-10-09T00:35:43.178Z"
   },
   {
    "duration": 10,
    "start_time": "2022-10-09T00:35:43.187Z"
   },
   {
    "duration": 8,
    "start_time": "2022-10-09T00:35:43.198Z"
   },
   {
    "duration": 31,
    "start_time": "2022-10-09T00:35:43.208Z"
   },
   {
    "duration": 37,
    "start_time": "2022-10-09T00:35:43.243Z"
   },
   {
    "duration": 10,
    "start_time": "2022-10-09T00:35:43.281Z"
   },
   {
    "duration": 10,
    "start_time": "2022-10-09T00:35:43.292Z"
   },
   {
    "duration": 8,
    "start_time": "2022-10-09T00:35:43.303Z"
   },
   {
    "duration": 12,
    "start_time": "2022-10-09T00:35:43.313Z"
   },
   {
    "duration": 8,
    "start_time": "2022-10-09T00:35:43.326Z"
   },
   {
    "duration": 52,
    "start_time": "2022-10-09T00:35:43.335Z"
   },
   {
    "duration": 7,
    "start_time": "2022-10-09T00:35:43.389Z"
   },
   {
    "duration": 5,
    "start_time": "2022-10-09T00:35:43.398Z"
   },
   {
    "duration": 7,
    "start_time": "2022-10-09T00:35:43.405Z"
   },
   {
    "duration": 8,
    "start_time": "2022-10-09T00:35:43.414Z"
   },
   {
    "duration": 68,
    "start_time": "2022-10-09T00:35:43.424Z"
   },
   {
    "duration": 6,
    "start_time": "2022-10-09T00:35:43.494Z"
   },
   {
    "duration": 15,
    "start_time": "2022-10-09T00:35:43.501Z"
   },
   {
    "duration": 8,
    "start_time": "2022-10-09T00:35:43.517Z"
   },
   {
    "duration": 7,
    "start_time": "2022-10-09T00:35:43.526Z"
   },
   {
    "duration": 13,
    "start_time": "2022-10-09T00:35:43.534Z"
   },
   {
    "duration": 4,
    "start_time": "2022-10-09T00:35:43.576Z"
   },
   {
    "duration": 37,
    "start_time": "2022-10-09T00:35:43.583Z"
   },
   {
    "duration": 11,
    "start_time": "2022-10-09T00:35:43.622Z"
   },
   {
    "duration": 4,
    "start_time": "2022-10-09T00:35:43.634Z"
   },
   {
    "duration": 39,
    "start_time": "2022-10-09T00:35:43.639Z"
   },
   {
    "duration": 35,
    "start_time": "2022-10-09T00:35:43.679Z"
   },
   {
    "duration": 13,
    "start_time": "2022-10-09T00:35:43.716Z"
   },
   {
    "duration": 19,
    "start_time": "2022-10-09T00:35:43.731Z"
   },
   {
    "duration": 28,
    "start_time": "2022-10-09T00:35:43.751Z"
   },
   {
    "duration": 5,
    "start_time": "2022-10-09T00:35:43.780Z"
   },
   {
    "duration": 19,
    "start_time": "2022-10-09T00:35:43.787Z"
   },
   {
    "duration": 11,
    "start_time": "2022-10-09T00:35:43.807Z"
   },
   {
    "duration": 4,
    "start_time": "2022-10-09T00:35:43.820Z"
   },
   {
    "duration": 12,
    "start_time": "2022-10-09T00:35:43.826Z"
   },
   {
    "duration": 4,
    "start_time": "2022-10-09T00:35:43.840Z"
   },
   {
    "duration": 44,
    "start_time": "2022-10-09T00:35:43.845Z"
   },
   {
    "duration": 17,
    "start_time": "2022-10-09T00:35:43.890Z"
   },
   {
    "duration": 115,
    "start_time": "2022-10-09T00:35:43.909Z"
   },
   {
    "duration": 3,
    "start_time": "2022-10-09T00:35:44.026Z"
   },
   {
    "duration": 76,
    "start_time": "2022-10-09T00:35:44.031Z"
   },
   {
    "duration": 38,
    "start_time": "2022-10-09T00:35:44.108Z"
   },
   {
    "duration": 10,
    "start_time": "2022-10-09T00:35:44.148Z"
   },
   {
    "duration": 75,
    "start_time": "2022-10-09T00:35:44.160Z"
   },
   {
    "duration": 38,
    "start_time": "2022-10-09T00:45:47.520Z"
   },
   {
    "duration": 537,
    "start_time": "2022-10-09T01:36:10.752Z"
   },
   {
    "duration": 13,
    "start_time": "2022-10-09T01:36:11.292Z"
   },
   {
    "duration": 1982,
    "start_time": "2022-10-09T01:36:11.306Z"
   },
   {
    "duration": 29,
    "start_time": "2022-10-09T01:36:13.290Z"
   },
   {
    "duration": 9,
    "start_time": "2022-10-09T01:36:13.321Z"
   },
   {
    "duration": 7,
    "start_time": "2022-10-09T01:36:13.332Z"
   },
   {
    "duration": 11,
    "start_time": "2022-10-09T01:36:13.340Z"
   },
   {
    "duration": 26,
    "start_time": "2022-10-09T01:36:13.352Z"
   },
   {
    "duration": 31,
    "start_time": "2022-10-09T01:36:13.380Z"
   },
   {
    "duration": 7,
    "start_time": "2022-10-09T01:36:13.413Z"
   },
   {
    "duration": 9,
    "start_time": "2022-10-09T01:36:13.421Z"
   },
   {
    "duration": 9,
    "start_time": "2022-10-09T01:36:13.432Z"
   },
   {
    "duration": 39,
    "start_time": "2022-10-09T01:36:13.443Z"
   },
   {
    "duration": 9,
    "start_time": "2022-10-09T01:36:13.483Z"
   },
   {
    "duration": 10,
    "start_time": "2022-10-09T01:36:13.493Z"
   },
   {
    "duration": 13,
    "start_time": "2022-10-09T01:36:13.505Z"
   },
   {
    "duration": 7,
    "start_time": "2022-10-09T01:36:13.520Z"
   },
   {
    "duration": 5,
    "start_time": "2022-10-09T01:36:13.529Z"
   },
   {
    "duration": 41,
    "start_time": "2022-10-09T01:36:13.536Z"
   },
   {
    "duration": 10,
    "start_time": "2022-10-09T01:36:13.579Z"
   },
   {
    "duration": 37,
    "start_time": "2022-10-09T01:36:13.590Z"
   },
   {
    "duration": 7,
    "start_time": "2022-10-09T01:36:13.628Z"
   },
   {
    "duration": 43,
    "start_time": "2022-10-09T01:36:13.637Z"
   },
   {
    "duration": 9,
    "start_time": "2022-10-09T01:36:13.681Z"
   },
   {
    "duration": 8,
    "start_time": "2022-10-09T01:36:13.692Z"
   },
   {
    "duration": 11,
    "start_time": "2022-10-09T01:36:13.701Z"
   },
   {
    "duration": 3,
    "start_time": "2022-10-09T01:36:13.713Z"
   },
   {
    "duration": 65,
    "start_time": "2022-10-09T01:36:13.719Z"
   },
   {
    "duration": 11,
    "start_time": "2022-10-09T01:36:13.786Z"
   },
   {
    "duration": 4,
    "start_time": "2022-10-09T01:36:13.798Z"
   },
   {
    "duration": 13,
    "start_time": "2022-10-09T01:36:13.804Z"
   },
   {
    "duration": 33,
    "start_time": "2022-10-09T01:36:13.818Z"
   },
   {
    "duration": 14,
    "start_time": "2022-10-09T01:36:13.877Z"
   },
   {
    "duration": 14,
    "start_time": "2022-10-09T01:36:13.892Z"
   },
   {
    "duration": 7,
    "start_time": "2022-10-09T01:36:13.908Z"
   },
   {
    "duration": 11,
    "start_time": "2022-10-09T01:36:13.916Z"
   },
   {
    "duration": 16,
    "start_time": "2022-10-09T01:36:13.928Z"
   },
   {
    "duration": 37,
    "start_time": "2022-10-09T01:36:13.945Z"
   },
   {
    "duration": 4,
    "start_time": "2022-10-09T01:36:13.984Z"
   },
   {
    "duration": 16,
    "start_time": "2022-10-09T01:36:13.990Z"
   },
   {
    "duration": 11,
    "start_time": "2022-10-09T01:36:14.007Z"
   },
   {
    "duration": 19,
    "start_time": "2022-10-09T01:36:14.020Z"
   },
   {
    "duration": 16,
    "start_time": "2022-10-09T01:36:14.041Z"
   },
   {
    "duration": 122,
    "start_time": "2022-10-09T01:36:14.059Z"
   },
   {
    "duration": 4,
    "start_time": "2022-10-09T01:36:14.182Z"
   },
   {
    "duration": 43,
    "start_time": "2022-10-09T01:36:14.188Z"
   },
   {
    "duration": 53,
    "start_time": "2022-10-09T01:36:14.232Z"
   },
   {
    "duration": 11,
    "start_time": "2022-10-09T01:36:14.287Z"
   },
   {
    "duration": 62,
    "start_time": "2022-10-09T01:36:14.300Z"
   },
   {
    "duration": 38,
    "start_time": "2022-10-09T01:37:06.792Z"
   },
   {
    "duration": 35,
    "start_time": "2022-10-09T01:40:09.049Z"
   },
   {
    "duration": 17,
    "start_time": "2022-10-09T01:40:22.192Z"
   },
   {
    "duration": 71,
    "start_time": "2022-10-09T01:41:45.757Z"
   },
   {
    "duration": 827,
    "start_time": "2022-10-09T01:42:10.308Z"
   },
   {
    "duration": 19,
    "start_time": "2022-10-09T01:44:27.817Z"
   },
   {
    "duration": 14,
    "start_time": "2022-10-09T01:47:12.272Z"
   },
   {
    "duration": 29,
    "start_time": "2022-10-09T01:48:15.901Z"
   },
   {
    "duration": 38,
    "start_time": "2022-10-09T01:50:37.537Z"
   },
   {
    "duration": 38,
    "start_time": "2022-10-09T01:59:23.929Z"
   },
   {
    "duration": 535,
    "start_time": "2022-10-09T02:09:43.362Z"
   },
   {
    "duration": 14,
    "start_time": "2022-10-09T02:09:43.898Z"
   },
   {
    "duration": 2027,
    "start_time": "2022-10-09T02:09:43.913Z"
   },
   {
    "duration": 28,
    "start_time": "2022-10-09T02:09:45.943Z"
   },
   {
    "duration": 9,
    "start_time": "2022-10-09T02:09:45.972Z"
   },
   {
    "duration": 7,
    "start_time": "2022-10-09T02:09:45.982Z"
   },
   {
    "duration": 11,
    "start_time": "2022-10-09T02:09:45.990Z"
   },
   {
    "duration": 8,
    "start_time": "2022-10-09T02:09:46.002Z"
   },
   {
    "duration": 30,
    "start_time": "2022-10-09T02:09:46.012Z"
   },
   {
    "duration": 33,
    "start_time": "2022-10-09T02:09:46.044Z"
   },
   {
    "duration": 9,
    "start_time": "2022-10-09T02:09:46.079Z"
   },
   {
    "duration": 9,
    "start_time": "2022-10-09T02:09:46.089Z"
   },
   {
    "duration": 7,
    "start_time": "2022-10-09T02:09:46.099Z"
   },
   {
    "duration": 9,
    "start_time": "2022-10-09T02:09:46.107Z"
   },
   {
    "duration": 5,
    "start_time": "2022-10-09T02:09:46.118Z"
   },
   {
    "duration": 13,
    "start_time": "2022-10-09T02:09:46.125Z"
   },
   {
    "duration": 7,
    "start_time": "2022-10-09T02:09:46.177Z"
   },
   {
    "duration": 5,
    "start_time": "2022-10-09T02:09:46.186Z"
   },
   {
    "duration": 12,
    "start_time": "2022-10-09T02:09:46.192Z"
   },
   {
    "duration": 9,
    "start_time": "2022-10-09T02:09:46.206Z"
   },
   {
    "duration": 36,
    "start_time": "2022-10-09T02:09:46.216Z"
   },
   {
    "duration": 6,
    "start_time": "2022-10-09T02:09:46.277Z"
   },
   {
    "duration": 16,
    "start_time": "2022-10-09T02:09:46.285Z"
   },
   {
    "duration": 7,
    "start_time": "2022-10-09T02:09:46.302Z"
   },
   {
    "duration": 6,
    "start_time": "2022-10-09T02:09:46.311Z"
   },
   {
    "duration": 10,
    "start_time": "2022-10-09T02:09:46.318Z"
   },
   {
    "duration": 4,
    "start_time": "2022-10-09T02:09:46.329Z"
   },
   {
    "duration": 72,
    "start_time": "2022-10-09T02:09:46.336Z"
   },
   {
    "duration": 13,
    "start_time": "2022-10-09T02:09:46.410Z"
   },
   {
    "duration": 5,
    "start_time": "2022-10-09T02:09:46.425Z"
   },
   {
    "duration": 11,
    "start_time": "2022-10-09T02:09:46.432Z"
   },
   {
    "duration": 64,
    "start_time": "2022-10-09T02:09:46.445Z"
   },
   {
    "duration": 15,
    "start_time": "2022-10-09T02:09:46.511Z"
   },
   {
    "duration": 17,
    "start_time": "2022-10-09T02:09:46.528Z"
   },
   {
    "duration": 35,
    "start_time": "2022-10-09T02:09:46.547Z"
   },
   {
    "duration": 7,
    "start_time": "2022-10-09T02:09:46.583Z"
   },
   {
    "duration": 16,
    "start_time": "2022-10-09T02:09:46.592Z"
   },
   {
    "duration": 12,
    "start_time": "2022-10-09T02:09:46.610Z"
   },
   {
    "duration": 5,
    "start_time": "2022-10-09T02:09:46.624Z"
   },
   {
    "duration": 48,
    "start_time": "2022-10-09T02:09:46.631Z"
   },
   {
    "duration": 4,
    "start_time": "2022-10-09T02:09:46.681Z"
   },
   {
    "duration": 14,
    "start_time": "2022-10-09T02:09:46.687Z"
   },
   {
    "duration": 17,
    "start_time": "2022-10-09T02:09:46.703Z"
   },
   {
    "duration": 121,
    "start_time": "2022-10-09T02:09:46.721Z"
   },
   {
    "duration": 5,
    "start_time": "2022-10-09T02:09:46.844Z"
   },
   {
    "duration": 61,
    "start_time": "2022-10-09T02:12:53.542Z"
   },
   {
    "duration": 8,
    "start_time": "2022-10-09T02:13:10.957Z"
   },
   {
    "duration": 46,
    "start_time": "2022-10-09T02:13:42.989Z"
   },
   {
    "duration": 38,
    "start_time": "2022-10-09T02:14:28.118Z"
   },
   {
    "duration": 40,
    "start_time": "2022-10-09T02:15:28.935Z"
   },
   {
    "duration": 42,
    "start_time": "2022-10-09T02:19:42.283Z"
   },
   {
    "duration": 529,
    "start_time": "2022-10-09T02:19:59.457Z"
   },
   {
    "duration": 13,
    "start_time": "2022-10-09T02:19:59.988Z"
   },
   {
    "duration": 2081,
    "start_time": "2022-10-09T02:20:00.003Z"
   },
   {
    "duration": 29,
    "start_time": "2022-10-09T02:20:02.087Z"
   },
   {
    "duration": 8,
    "start_time": "2022-10-09T02:20:02.118Z"
   },
   {
    "duration": 24,
    "start_time": "2022-10-09T02:20:02.128Z"
   },
   {
    "duration": 40,
    "start_time": "2022-10-09T02:20:02.153Z"
   },
   {
    "duration": 27,
    "start_time": "2022-10-09T02:20:02.195Z"
   },
   {
    "duration": 49,
    "start_time": "2022-10-09T02:20:02.224Z"
   },
   {
    "duration": 8,
    "start_time": "2022-10-09T02:20:02.275Z"
   },
   {
    "duration": 36,
    "start_time": "2022-10-09T02:20:02.284Z"
   },
   {
    "duration": 30,
    "start_time": "2022-10-09T02:20:02.321Z"
   },
   {
    "duration": 38,
    "start_time": "2022-10-09T02:20:02.353Z"
   },
   {
    "duration": 24,
    "start_time": "2022-10-09T02:20:02.392Z"
   },
   {
    "duration": 34,
    "start_time": "2022-10-09T02:20:02.418Z"
   },
   {
    "duration": 28,
    "start_time": "2022-10-09T02:20:02.454Z"
   },
   {
    "duration": 38,
    "start_time": "2022-10-09T02:20:02.484Z"
   },
   {
    "duration": 38,
    "start_time": "2022-10-09T02:20:02.524Z"
   },
   {
    "duration": 38,
    "start_time": "2022-10-09T02:20:02.564Z"
   },
   {
    "duration": 30,
    "start_time": "2022-10-09T02:20:02.604Z"
   },
   {
    "duration": 40,
    "start_time": "2022-10-09T02:20:02.636Z"
   },
   {
    "duration": 6,
    "start_time": "2022-10-09T02:20:02.678Z"
   },
   {
    "duration": 19,
    "start_time": "2022-10-09T02:20:02.686Z"
   },
   {
    "duration": 7,
    "start_time": "2022-10-09T02:20:02.706Z"
   },
   {
    "duration": 27,
    "start_time": "2022-10-09T02:20:02.715Z"
   },
   {
    "duration": 11,
    "start_time": "2022-10-09T02:20:02.744Z"
   },
   {
    "duration": 16,
    "start_time": "2022-10-09T02:20:02.757Z"
   },
   {
    "duration": 39,
    "start_time": "2022-10-09T02:20:02.776Z"
   },
   {
    "duration": 12,
    "start_time": "2022-10-09T02:20:02.817Z"
   },
   {
    "duration": 9,
    "start_time": "2022-10-09T02:20:02.831Z"
   },
   {
    "duration": 14,
    "start_time": "2022-10-09T02:20:02.842Z"
   },
   {
    "duration": 52,
    "start_time": "2022-10-09T02:20:02.858Z"
   },
   {
    "duration": 17,
    "start_time": "2022-10-09T02:20:02.911Z"
   },
   {
    "duration": 31,
    "start_time": "2022-10-09T02:20:02.930Z"
   },
   {
    "duration": 14,
    "start_time": "2022-10-09T02:20:02.962Z"
   },
   {
    "duration": 14,
    "start_time": "2022-10-09T02:20:02.977Z"
   },
   {
    "duration": 25,
    "start_time": "2022-10-09T02:20:02.992Z"
   },
   {
    "duration": 11,
    "start_time": "2022-10-09T02:20:03.018Z"
   },
   {
    "duration": 8,
    "start_time": "2022-10-09T02:20:03.030Z"
   },
   {
    "duration": 28,
    "start_time": "2022-10-09T02:20:03.040Z"
   },
   {
    "duration": 28,
    "start_time": "2022-10-09T02:20:03.069Z"
   },
   {
    "duration": 27,
    "start_time": "2022-10-09T02:20:03.100Z"
   },
   {
    "duration": 21,
    "start_time": "2022-10-09T02:20:03.128Z"
   },
   {
    "duration": 104,
    "start_time": "2022-10-09T02:20:03.151Z"
   },
   {
    "duration": 5,
    "start_time": "2022-10-09T02:20:03.257Z"
   },
   {
    "duration": 61,
    "start_time": "2022-10-09T02:20:03.263Z"
   },
   {
    "duration": 45,
    "start_time": "2022-10-09T02:24:06.708Z"
   },
   {
    "duration": 349,
    "start_time": "2022-10-09T02:37:23.567Z"
   },
   {
    "duration": 468,
    "start_time": "2022-10-09T02:38:05.534Z"
   },
   {
    "duration": 13,
    "start_time": "2022-10-09T02:38:06.004Z"
   },
   {
    "duration": 2034,
    "start_time": "2022-10-09T02:38:06.018Z"
   },
   {
    "duration": 29,
    "start_time": "2022-10-09T02:38:08.055Z"
   },
   {
    "duration": 8,
    "start_time": "2022-10-09T02:38:08.086Z"
   },
   {
    "duration": 7,
    "start_time": "2022-10-09T02:38:08.096Z"
   },
   {
    "duration": 9,
    "start_time": "2022-10-09T02:38:08.105Z"
   },
   {
    "duration": 8,
    "start_time": "2022-10-09T02:38:08.115Z"
   },
   {
    "duration": 59,
    "start_time": "2022-10-09T02:38:08.124Z"
   },
   {
    "duration": 7,
    "start_time": "2022-10-09T02:38:08.186Z"
   },
   {
    "duration": 9,
    "start_time": "2022-10-09T02:38:08.195Z"
   },
   {
    "duration": 18,
    "start_time": "2022-10-09T02:38:08.205Z"
   },
   {
    "duration": 7,
    "start_time": "2022-10-09T02:38:08.225Z"
   },
   {
    "duration": 10,
    "start_time": "2022-10-09T02:38:08.233Z"
   },
   {
    "duration": 6,
    "start_time": "2022-10-09T02:38:08.244Z"
   },
   {
    "duration": 39,
    "start_time": "2022-10-09T02:38:08.251Z"
   },
   {
    "duration": 7,
    "start_time": "2022-10-09T02:38:08.291Z"
   },
   {
    "duration": 5,
    "start_time": "2022-10-09T02:38:08.300Z"
   },
   {
    "duration": 7,
    "start_time": "2022-10-09T02:38:08.307Z"
   },
   {
    "duration": 9,
    "start_time": "2022-10-09T02:38:08.316Z"
   },
   {
    "duration": 63,
    "start_time": "2022-10-09T02:38:08.326Z"
   },
   {
    "duration": 7,
    "start_time": "2022-10-09T02:38:08.392Z"
   },
   {
    "duration": 14,
    "start_time": "2022-10-09T02:38:08.400Z"
   },
   {
    "duration": 8,
    "start_time": "2022-10-09T02:38:08.416Z"
   },
   {
    "duration": 6,
    "start_time": "2022-10-09T02:38:08.426Z"
   },
   {
    "duration": 44,
    "start_time": "2022-10-09T02:38:08.434Z"
   },
   {
    "duration": 4,
    "start_time": "2022-10-09T02:38:08.480Z"
   },
   {
    "duration": 46,
    "start_time": "2022-10-09T02:38:08.487Z"
   },
   {
    "duration": 12,
    "start_time": "2022-10-09T02:38:08.535Z"
   },
   {
    "duration": 29,
    "start_time": "2022-10-09T02:38:08.548Z"
   },
   {
    "duration": 11,
    "start_time": "2022-10-09T02:38:08.579Z"
   },
   {
    "duration": 34,
    "start_time": "2022-10-09T02:38:08.592Z"
   },
   {
    "duration": 14,
    "start_time": "2022-10-09T02:38:08.628Z"
   },
   {
    "duration": 43,
    "start_time": "2022-10-09T02:38:08.643Z"
   },
   {
    "duration": 13,
    "start_time": "2022-10-09T02:38:08.688Z"
   },
   {
    "duration": 6,
    "start_time": "2022-10-09T02:38:08.702Z"
   },
   {
    "duration": 27,
    "start_time": "2022-10-09T02:38:08.709Z"
   },
   {
    "duration": 11,
    "start_time": "2022-10-09T02:38:08.737Z"
   },
   {
    "duration": 4,
    "start_time": "2022-10-09T02:38:08.750Z"
   },
   {
    "duration": 29,
    "start_time": "2022-10-09T02:38:08.756Z"
   },
   {
    "duration": 5,
    "start_time": "2022-10-09T02:38:08.786Z"
   },
   {
    "duration": 23,
    "start_time": "2022-10-09T02:38:08.792Z"
   },
   {
    "duration": 17,
    "start_time": "2022-10-09T02:38:08.816Z"
   },
   {
    "duration": 112,
    "start_time": "2022-10-09T02:38:08.834Z"
   },
   {
    "duration": 5,
    "start_time": "2022-10-09T02:38:08.947Z"
   },
   {
    "duration": 51,
    "start_time": "2022-10-09T02:38:08.953Z"
   },
   {
    "duration": 29,
    "start_time": "2022-10-09T02:38:09.006Z"
   },
   {
    "duration": 334,
    "start_time": "2022-10-09T02:38:09.036Z"
   },
   {
    "duration": 38,
    "start_time": "2022-10-09T02:39:52.038Z"
   },
   {
    "duration": 26,
    "start_time": "2022-10-09T02:40:03.272Z"
   },
   {
    "duration": 52,
    "start_time": "2022-10-09T02:46:03.262Z"
   },
   {
    "duration": 28,
    "start_time": "2022-10-09T02:46:24.325Z"
   },
   {
    "duration": 27,
    "start_time": "2022-10-09T02:47:07.812Z"
   },
   {
    "duration": 77,
    "start_time": "2022-10-09T02:47:25.877Z"
   },
   {
    "duration": 27,
    "start_time": "2022-10-09T02:47:53.522Z"
   },
   {
    "duration": 17,
    "start_time": "2022-10-09T02:48:07.008Z"
   },
   {
    "duration": 534,
    "start_time": "2022-10-09T02:48:54.993Z"
   },
   {
    "duration": 14,
    "start_time": "2022-10-09T02:48:55.529Z"
   },
   {
    "duration": 2088,
    "start_time": "2022-10-09T02:48:55.545Z"
   },
   {
    "duration": 29,
    "start_time": "2022-10-09T02:48:57.636Z"
   },
   {
    "duration": 14,
    "start_time": "2022-10-09T02:48:57.667Z"
   },
   {
    "duration": 7,
    "start_time": "2022-10-09T02:48:57.683Z"
   },
   {
    "duration": 12,
    "start_time": "2022-10-09T02:48:57.692Z"
   },
   {
    "duration": 18,
    "start_time": "2022-10-09T02:48:57.705Z"
   },
   {
    "duration": 33,
    "start_time": "2022-10-09T02:48:57.725Z"
   },
   {
    "duration": 8,
    "start_time": "2022-10-09T02:48:57.778Z"
   },
   {
    "duration": 10,
    "start_time": "2022-10-09T02:48:57.787Z"
   },
   {
    "duration": 18,
    "start_time": "2022-10-09T02:48:57.799Z"
   },
   {
    "duration": 13,
    "start_time": "2022-10-09T02:48:57.818Z"
   },
   {
    "duration": 9,
    "start_time": "2022-10-09T02:48:57.833Z"
   },
   {
    "duration": 7,
    "start_time": "2022-10-09T02:48:57.843Z"
   },
   {
    "duration": 38,
    "start_time": "2022-10-09T02:48:57.851Z"
   },
   {
    "duration": 7,
    "start_time": "2022-10-09T02:48:57.890Z"
   },
   {
    "duration": 5,
    "start_time": "2022-10-09T02:48:57.899Z"
   },
   {
    "duration": 9,
    "start_time": "2022-10-09T02:48:57.905Z"
   },
   {
    "duration": 9,
    "start_time": "2022-10-09T02:48:57.915Z"
   },
   {
    "duration": 60,
    "start_time": "2022-10-09T02:48:57.925Z"
   },
   {
    "duration": 6,
    "start_time": "2022-10-09T02:48:57.987Z"
   },
   {
    "duration": 16,
    "start_time": "2022-10-09T02:48:57.994Z"
   },
   {
    "duration": 7,
    "start_time": "2022-10-09T02:48:58.011Z"
   },
   {
    "duration": 6,
    "start_time": "2022-10-09T02:48:58.020Z"
   },
   {
    "duration": 10,
    "start_time": "2022-10-09T02:48:58.028Z"
   },
   {
    "duration": 4,
    "start_time": "2022-10-09T02:48:58.039Z"
   },
   {
    "duration": 38,
    "start_time": "2022-10-09T02:48:58.078Z"
   },
   {
    "duration": 12,
    "start_time": "2022-10-09T02:48:58.117Z"
   },
   {
    "duration": 4,
    "start_time": "2022-10-09T02:48:58.130Z"
   },
   {
    "duration": 11,
    "start_time": "2022-10-09T02:48:58.136Z"
   },
   {
    "duration": 35,
    "start_time": "2022-10-09T02:48:58.176Z"
   },
   {
    "duration": 14,
    "start_time": "2022-10-09T02:48:58.212Z"
   },
   {
    "duration": 15,
    "start_time": "2022-10-09T02:48:58.228Z"
   },
   {
    "duration": 33,
    "start_time": "2022-10-09T02:48:58.245Z"
   },
   {
    "duration": 6,
    "start_time": "2022-10-09T02:48:58.280Z"
   },
   {
    "duration": 16,
    "start_time": "2022-10-09T02:48:58.288Z"
   },
   {
    "duration": 10,
    "start_time": "2022-10-09T02:48:58.306Z"
   },
   {
    "duration": 4,
    "start_time": "2022-10-09T02:48:58.318Z"
   },
   {
    "duration": 10,
    "start_time": "2022-10-09T02:48:58.324Z"
   },
   {
    "duration": 5,
    "start_time": "2022-10-09T02:48:58.335Z"
   },
   {
    "duration": 47,
    "start_time": "2022-10-09T02:48:58.341Z"
   },
   {
    "duration": 19,
    "start_time": "2022-10-09T02:48:58.390Z"
   },
   {
    "duration": 119,
    "start_time": "2022-10-09T02:48:58.410Z"
   },
   {
    "duration": 5,
    "start_time": "2022-10-09T02:48:58.531Z"
   },
   {
    "duration": 45,
    "start_time": "2022-10-09T02:48:58.538Z"
   },
   {
    "duration": 30,
    "start_time": "2022-10-09T02:48:58.585Z"
   },
   {
    "duration": 330,
    "start_time": "2022-10-09T02:48:58.616Z"
   },
   {
    "duration": 33,
    "start_time": "2022-10-09T02:48:58.947Z"
   },
   {
    "duration": 83,
    "start_time": "2022-10-09T04:12:13.109Z"
   },
   {
    "duration": 824,
    "start_time": "2022-10-09T04:15:25.788Z"
   },
   {
    "duration": 14,
    "start_time": "2022-10-09T04:16:03.231Z"
   },
   {
    "duration": 5,
    "start_time": "2022-10-09T04:21:45.750Z"
   },
   {
    "duration": 26,
    "start_time": "2022-10-09T04:21:53.481Z"
   },
   {
    "duration": 52,
    "start_time": "2022-10-09T04:22:26.091Z"
   },
   {
    "duration": 125,
    "start_time": "2022-10-09T04:33:55.534Z"
   },
   {
    "duration": 170,
    "start_time": "2022-10-09T04:34:07.817Z"
   },
   {
    "duration": 330,
    "start_time": "2022-10-09T04:34:36.936Z"
   },
   {
    "duration": 239,
    "start_time": "2022-10-09T04:37:39.293Z"
   },
   {
    "duration": 8,
    "start_time": "2022-10-09T04:38:13.584Z"
   },
   {
    "duration": 526,
    "start_time": "2022-10-09T04:38:23.323Z"
   },
   {
    "duration": 15,
    "start_time": "2022-10-09T04:38:23.851Z"
   },
   {
    "duration": 2205,
    "start_time": "2022-10-09T04:38:23.867Z"
   },
   {
    "duration": 30,
    "start_time": "2022-10-09T04:38:26.074Z"
   },
   {
    "duration": 8,
    "start_time": "2022-10-09T04:38:26.106Z"
   },
   {
    "duration": 7,
    "start_time": "2022-10-09T04:38:26.115Z"
   },
   {
    "duration": 8,
    "start_time": "2022-10-09T04:38:26.124Z"
   },
   {
    "duration": 8,
    "start_time": "2022-10-09T04:38:26.134Z"
   },
   {
    "duration": 58,
    "start_time": "2022-10-09T04:38:26.144Z"
   },
   {
    "duration": 7,
    "start_time": "2022-10-09T04:38:26.205Z"
   },
   {
    "duration": 9,
    "start_time": "2022-10-09T04:38:26.214Z"
   },
   {
    "duration": 8,
    "start_time": "2022-10-09T04:38:26.225Z"
   },
   {
    "duration": 8,
    "start_time": "2022-10-09T04:38:26.234Z"
   },
   {
    "duration": 40,
    "start_time": "2022-10-09T04:38:26.243Z"
   },
   {
    "duration": 6,
    "start_time": "2022-10-09T04:38:26.285Z"
   },
   {
    "duration": 14,
    "start_time": "2022-10-09T04:38:26.293Z"
   },
   {
    "duration": 7,
    "start_time": "2022-10-09T04:38:26.309Z"
   },
   {
    "duration": 4,
    "start_time": "2022-10-09T04:38:26.318Z"
   },
   {
    "duration": 11,
    "start_time": "2022-10-09T04:38:26.324Z"
   },
   {
    "duration": 43,
    "start_time": "2022-10-09T04:38:26.337Z"
   },
   {
    "duration": 38,
    "start_time": "2022-10-09T04:38:26.381Z"
   },
   {
    "duration": 6,
    "start_time": "2022-10-09T04:38:26.421Z"
   },
   {
    "duration": 16,
    "start_time": "2022-10-09T04:38:26.429Z"
   },
   {
    "duration": 33,
    "start_time": "2022-10-09T04:38:26.447Z"
   },
   {
    "duration": 7,
    "start_time": "2022-10-09T04:38:26.482Z"
   },
   {
    "duration": 11,
    "start_time": "2022-10-09T04:38:26.490Z"
   },
   {
    "duration": 4,
    "start_time": "2022-10-09T04:38:26.502Z"
   },
   {
    "duration": 40,
    "start_time": "2022-10-09T04:38:26.510Z"
   },
   {
    "duration": 14,
    "start_time": "2022-10-09T04:38:26.576Z"
   },
   {
    "duration": 5,
    "start_time": "2022-10-09T04:38:26.592Z"
   },
   {
    "duration": 13,
    "start_time": "2022-10-09T04:38:26.598Z"
   },
   {
    "duration": 64,
    "start_time": "2022-10-09T04:38:26.613Z"
   },
   {
    "duration": 14,
    "start_time": "2022-10-09T04:38:26.678Z"
   },
   {
    "duration": 14,
    "start_time": "2022-10-09T04:38:26.694Z"
   },
   {
    "duration": 8,
    "start_time": "2022-10-09T04:38:26.710Z"
   },
   {
    "duration": 6,
    "start_time": "2022-10-09T04:38:26.720Z"
   },
   {
    "duration": 15,
    "start_time": "2022-10-09T04:38:26.728Z"
   },
   {
    "duration": 11,
    "start_time": "2022-10-09T04:38:26.777Z"
   },
   {
    "duration": 4,
    "start_time": "2022-10-09T04:38:26.789Z"
   },
   {
    "duration": 10,
    "start_time": "2022-10-09T04:38:26.795Z"
   },
   {
    "duration": 4,
    "start_time": "2022-10-09T04:38:26.807Z"
   },
   {
    "duration": 15,
    "start_time": "2022-10-09T04:38:26.813Z"
   },
   {
    "duration": 48,
    "start_time": "2022-10-09T04:38:26.829Z"
   },
   {
    "duration": 120,
    "start_time": "2022-10-09T04:38:26.879Z"
   },
   {
    "duration": 5,
    "start_time": "2022-10-09T04:38:27.001Z"
   },
   {
    "duration": 36,
    "start_time": "2022-10-09T04:38:27.008Z"
   },
   {
    "duration": 49,
    "start_time": "2022-10-09T04:38:27.045Z"
   },
   {
    "duration": 328,
    "start_time": "2022-10-09T04:38:27.096Z"
   },
   {
    "duration": 24,
    "start_time": "2022-10-09T04:38:27.426Z"
   },
   {
    "duration": 26,
    "start_time": "2022-10-09T04:38:27.451Z"
   },
   {
    "duration": 13,
    "start_time": "2022-10-09T04:38:27.479Z"
   },
   {
    "duration": 25,
    "start_time": "2022-10-09T04:38:27.494Z"
   },
   {
    "duration": 72,
    "start_time": "2022-10-09T04:38:27.521Z"
   },
   {
    "duration": 249,
    "start_time": "2022-10-09T04:38:27.595Z"
   },
   {
    "duration": 78,
    "start_time": "2022-10-09T04:38:27.846Z"
   },
   {
    "duration": 0,
    "start_time": "2022-10-09T04:38:27.925Z"
   },
   {
    "duration": 7,
    "start_time": "2022-10-09T04:39:15.319Z"
   },
   {
    "duration": 304,
    "start_time": "2022-10-09T04:39:34.501Z"
   },
   {
    "duration": 240,
    "start_time": "2022-10-09T04:40:20.354Z"
   },
   {
    "duration": 228,
    "start_time": "2022-10-09T04:40:40.519Z"
   },
   {
    "duration": 218,
    "start_time": "2022-10-09T04:40:46.095Z"
   },
   {
    "duration": 240,
    "start_time": "2022-10-09T04:40:54.512Z"
   },
   {
    "duration": 507,
    "start_time": "2022-10-09T04:41:00.424Z"
   },
   {
    "duration": 14,
    "start_time": "2022-10-09T04:41:00.933Z"
   },
   {
    "duration": 2228,
    "start_time": "2022-10-09T04:41:00.948Z"
   },
   {
    "duration": 29,
    "start_time": "2022-10-09T04:41:03.179Z"
   },
   {
    "duration": 9,
    "start_time": "2022-10-09T04:41:03.210Z"
   },
   {
    "duration": 7,
    "start_time": "2022-10-09T04:41:03.220Z"
   },
   {
    "duration": 16,
    "start_time": "2022-10-09T04:41:03.228Z"
   },
   {
    "duration": 32,
    "start_time": "2022-10-09T04:41:03.245Z"
   },
   {
    "duration": 34,
    "start_time": "2022-10-09T04:41:03.279Z"
   },
   {
    "duration": 9,
    "start_time": "2022-10-09T04:41:03.316Z"
   },
   {
    "duration": 11,
    "start_time": "2022-10-09T04:41:03.327Z"
   },
   {
    "duration": 41,
    "start_time": "2022-10-09T04:41:03.340Z"
   },
   {
    "duration": 8,
    "start_time": "2022-10-09T04:41:03.382Z"
   },
   {
    "duration": 8,
    "start_time": "2022-10-09T04:41:03.392Z"
   },
   {
    "duration": 5,
    "start_time": "2022-10-09T04:41:03.402Z"
   },
   {
    "duration": 14,
    "start_time": "2022-10-09T04:41:03.409Z"
   },
   {
    "duration": 6,
    "start_time": "2022-10-09T04:41:03.424Z"
   },
   {
    "duration": 45,
    "start_time": "2022-10-09T04:41:03.432Z"
   },
   {
    "duration": 6,
    "start_time": "2022-10-09T04:41:03.479Z"
   },
   {
    "duration": 12,
    "start_time": "2022-10-09T04:41:03.487Z"
   },
   {
    "duration": 37,
    "start_time": "2022-10-09T04:41:03.500Z"
   },
   {
    "duration": 6,
    "start_time": "2022-10-09T04:41:03.539Z"
   },
   {
    "duration": 42,
    "start_time": "2022-10-09T04:41:03.546Z"
   },
   {
    "duration": 8,
    "start_time": "2022-10-09T04:41:03.590Z"
   },
   {
    "duration": 6,
    "start_time": "2022-10-09T04:41:03.599Z"
   },
   {
    "duration": 10,
    "start_time": "2022-10-09T04:41:03.607Z"
   },
   {
    "duration": 3,
    "start_time": "2022-10-09T04:41:03.619Z"
   },
   {
    "duration": 69,
    "start_time": "2022-10-09T04:41:03.626Z"
   },
   {
    "duration": 12,
    "start_time": "2022-10-09T04:41:03.696Z"
   },
   {
    "duration": 4,
    "start_time": "2022-10-09T04:41:03.709Z"
   },
   {
    "duration": 12,
    "start_time": "2022-10-09T04:41:03.715Z"
   },
   {
    "duration": 61,
    "start_time": "2022-10-09T04:41:03.728Z"
   },
   {
    "duration": 14,
    "start_time": "2022-10-09T04:41:03.790Z"
   },
   {
    "duration": 15,
    "start_time": "2022-10-09T04:41:03.805Z"
   },
   {
    "duration": 7,
    "start_time": "2022-10-09T04:41:03.822Z"
   },
   {
    "duration": 5,
    "start_time": "2022-10-09T04:41:03.830Z"
   },
   {
    "duration": 40,
    "start_time": "2022-10-09T04:41:03.837Z"
   },
   {
    "duration": 11,
    "start_time": "2022-10-09T04:41:03.879Z"
   },
   {
    "duration": 4,
    "start_time": "2022-10-09T04:41:03.891Z"
   },
   {
    "duration": 11,
    "start_time": "2022-10-09T04:41:03.897Z"
   },
   {
    "duration": 4,
    "start_time": "2022-10-09T04:41:03.909Z"
   },
   {
    "duration": 14,
    "start_time": "2022-10-09T04:41:03.915Z"
   },
   {
    "duration": 54,
    "start_time": "2022-10-09T04:41:03.930Z"
   },
   {
    "duration": 114,
    "start_time": "2022-10-09T04:41:03.985Z"
   },
   {
    "duration": 5,
    "start_time": "2022-10-09T04:41:04.101Z"
   },
   {
    "duration": 29,
    "start_time": "2022-10-09T04:41:04.108Z"
   },
   {
    "duration": 51,
    "start_time": "2022-10-09T04:41:04.138Z"
   },
   {
    "duration": 334,
    "start_time": "2022-10-09T04:41:04.191Z"
   },
   {
    "duration": 26,
    "start_time": "2022-10-09T04:41:04.526Z"
   },
   {
    "duration": 27,
    "start_time": "2022-10-09T04:41:04.553Z"
   },
   {
    "duration": 13,
    "start_time": "2022-10-09T04:41:04.582Z"
   },
   {
    "duration": 24,
    "start_time": "2022-10-09T04:41:04.597Z"
   },
   {
    "duration": 77,
    "start_time": "2022-10-09T04:41:04.623Z"
   },
   {
    "duration": 254,
    "start_time": "2022-10-09T04:41:04.702Z"
   },
   {
    "duration": 341,
    "start_time": "2022-10-09T04:41:04.958Z"
   },
   {
    "duration": 3,
    "start_time": "2022-10-09T04:41:05.301Z"
   },
   {
    "duration": 506,
    "start_time": "2022-10-09T04:43:02.126Z"
   },
   {
    "duration": 15,
    "start_time": "2022-10-09T04:43:02.634Z"
   },
   {
    "duration": 2037,
    "start_time": "2022-10-09T04:43:02.651Z"
   },
   {
    "duration": 28,
    "start_time": "2022-10-09T04:43:04.691Z"
   },
   {
    "duration": 9,
    "start_time": "2022-10-09T04:43:04.721Z"
   },
   {
    "duration": 7,
    "start_time": "2022-10-09T04:43:04.731Z"
   },
   {
    "duration": 9,
    "start_time": "2022-10-09T04:43:04.739Z"
   },
   {
    "duration": 8,
    "start_time": "2022-10-09T04:43:04.749Z"
   },
   {
    "duration": 31,
    "start_time": "2022-10-09T04:43:04.777Z"
   },
   {
    "duration": 8,
    "start_time": "2022-10-09T04:43:04.810Z"
   },
   {
    "duration": 9,
    "start_time": "2022-10-09T04:43:04.820Z"
   },
   {
    "duration": 9,
    "start_time": "2022-10-09T04:43:04.831Z"
   },
   {
    "duration": 36,
    "start_time": "2022-10-09T04:43:04.842Z"
   },
   {
    "duration": 8,
    "start_time": "2022-10-09T04:43:04.880Z"
   },
   {
    "duration": 6,
    "start_time": "2022-10-09T04:43:04.889Z"
   },
   {
    "duration": 13,
    "start_time": "2022-10-09T04:43:04.896Z"
   },
   {
    "duration": 6,
    "start_time": "2022-10-09T04:43:04.911Z"
   },
   {
    "duration": 4,
    "start_time": "2022-10-09T04:43:04.918Z"
   },
   {
    "duration": 10,
    "start_time": "2022-10-09T04:43:04.923Z"
   },
   {
    "duration": 43,
    "start_time": "2022-10-09T04:43:04.934Z"
   },
   {
    "duration": 37,
    "start_time": "2022-10-09T04:43:04.978Z"
   },
   {
    "duration": 6,
    "start_time": "2022-10-09T04:43:05.016Z"
   },
   {
    "duration": 20,
    "start_time": "2022-10-09T04:43:05.023Z"
   },
   {
    "duration": 8,
    "start_time": "2022-10-09T04:43:05.044Z"
   },
   {
    "duration": 27,
    "start_time": "2022-10-09T04:43:05.054Z"
   },
   {
    "duration": 10,
    "start_time": "2022-10-09T04:43:05.083Z"
   },
   {
    "duration": 3,
    "start_time": "2022-10-09T04:43:05.094Z"
   },
   {
    "duration": 37,
    "start_time": "2022-10-09T04:43:05.101Z"
   },
   {
    "duration": 40,
    "start_time": "2022-10-09T04:43:05.139Z"
   },
   {
    "duration": 7,
    "start_time": "2022-10-09T04:43:05.181Z"
   },
   {
    "duration": 21,
    "start_time": "2022-10-09T04:43:05.190Z"
   },
   {
    "duration": 39,
    "start_time": "2022-10-09T04:43:05.213Z"
   },
   {
    "duration": 35,
    "start_time": "2022-10-09T04:43:05.253Z"
   },
   {
    "duration": 14,
    "start_time": "2022-10-09T04:43:05.290Z"
   },
   {
    "duration": 11,
    "start_time": "2022-10-09T04:43:05.305Z"
   },
   {
    "duration": 9,
    "start_time": "2022-10-09T04:43:05.317Z"
   },
   {
    "duration": 16,
    "start_time": "2022-10-09T04:43:05.327Z"
   },
   {
    "duration": 36,
    "start_time": "2022-10-09T04:43:05.345Z"
   },
   {
    "duration": 5,
    "start_time": "2022-10-09T04:43:05.383Z"
   },
   {
    "duration": 14,
    "start_time": "2022-10-09T04:43:05.389Z"
   },
   {
    "duration": 5,
    "start_time": "2022-10-09T04:43:05.404Z"
   },
   {
    "duration": 17,
    "start_time": "2022-10-09T04:43:05.411Z"
   },
   {
    "duration": 16,
    "start_time": "2022-10-09T04:43:05.430Z"
   },
   {
    "duration": 107,
    "start_time": "2022-10-09T04:43:05.477Z"
   },
   {
    "duration": 5,
    "start_time": "2022-10-09T04:43:05.585Z"
   },
   {
    "duration": 30,
    "start_time": "2022-10-09T04:43:05.592Z"
   },
   {
    "duration": 28,
    "start_time": "2022-10-09T04:43:05.624Z"
   },
   {
    "duration": 348,
    "start_time": "2022-10-09T04:43:05.653Z"
   },
   {
    "duration": 26,
    "start_time": "2022-10-09T04:43:06.002Z"
   },
   {
    "duration": 14,
    "start_time": "2022-10-09T04:43:06.029Z"
   },
   {
    "duration": 34,
    "start_time": "2022-10-09T04:43:06.045Z"
   },
   {
    "duration": 26,
    "start_time": "2022-10-09T04:43:06.080Z"
   },
   {
    "duration": 69,
    "start_time": "2022-10-09T04:43:06.108Z"
   },
   {
    "duration": 249,
    "start_time": "2022-10-09T04:43:06.179Z"
   },
   {
    "duration": 309,
    "start_time": "2022-10-09T04:43:06.430Z"
   },
   {
    "duration": 3,
    "start_time": "2022-10-09T04:43:06.741Z"
   },
   {
    "duration": 504,
    "start_time": "2022-10-09T04:46:48.436Z"
   },
   {
    "duration": 15,
    "start_time": "2022-10-09T04:46:48.942Z"
   },
   {
    "duration": 2058,
    "start_time": "2022-10-09T04:46:48.958Z"
   },
   {
    "duration": 30,
    "start_time": "2022-10-09T04:46:51.018Z"
   },
   {
    "duration": 9,
    "start_time": "2022-10-09T04:46:51.049Z"
   },
   {
    "duration": 8,
    "start_time": "2022-10-09T04:46:51.060Z"
   },
   {
    "duration": 14,
    "start_time": "2022-10-09T04:46:51.070Z"
   },
   {
    "duration": 9,
    "start_time": "2022-10-09T04:46:51.085Z"
   },
   {
    "duration": 31,
    "start_time": "2022-10-09T04:46:51.095Z"
   },
   {
    "duration": 9,
    "start_time": "2022-10-09T04:46:51.129Z"
   },
   {
    "duration": 44,
    "start_time": "2022-10-09T04:46:51.140Z"
   },
   {
    "duration": 8,
    "start_time": "2022-10-09T04:46:51.185Z"
   },
   {
    "duration": 7,
    "start_time": "2022-10-09T04:46:51.195Z"
   },
   {
    "duration": 9,
    "start_time": "2022-10-09T04:46:51.203Z"
   },
   {
    "duration": 6,
    "start_time": "2022-10-09T04:46:51.213Z"
   },
   {
    "duration": 20,
    "start_time": "2022-10-09T04:46:51.220Z"
   },
   {
    "duration": 36,
    "start_time": "2022-10-09T04:46:51.241Z"
   },
   {
    "duration": 4,
    "start_time": "2022-10-09T04:46:51.279Z"
   },
   {
    "duration": 8,
    "start_time": "2022-10-09T04:46:51.285Z"
   },
   {
    "duration": 9,
    "start_time": "2022-10-09T04:46:51.294Z"
   },
   {
    "duration": 38,
    "start_time": "2022-10-09T04:46:51.305Z"
   },
   {
    "duration": 33,
    "start_time": "2022-10-09T04:46:51.344Z"
   },
   {
    "duration": 15,
    "start_time": "2022-10-09T04:46:51.378Z"
   },
   {
    "duration": 10,
    "start_time": "2022-10-09T04:46:51.394Z"
   },
   {
    "duration": 13,
    "start_time": "2022-10-09T04:46:51.405Z"
   },
   {
    "duration": 10,
    "start_time": "2022-10-09T04:46:51.420Z"
   },
   {
    "duration": 7,
    "start_time": "2022-10-09T04:46:51.431Z"
   },
   {
    "duration": 62,
    "start_time": "2022-10-09T04:46:51.441Z"
   },
   {
    "duration": 12,
    "start_time": "2022-10-09T04:46:51.505Z"
   },
   {
    "duration": 5,
    "start_time": "2022-10-09T04:46:51.518Z"
   },
   {
    "duration": 13,
    "start_time": "2022-10-09T04:46:51.524Z"
   },
   {
    "duration": 60,
    "start_time": "2022-10-09T04:46:51.539Z"
   },
   {
    "duration": 14,
    "start_time": "2022-10-09T04:46:51.601Z"
   },
   {
    "duration": 16,
    "start_time": "2022-10-09T04:46:51.616Z"
   },
   {
    "duration": 8,
    "start_time": "2022-10-09T04:46:51.633Z"
   },
   {
    "duration": 6,
    "start_time": "2022-10-09T04:46:51.643Z"
   },
   {
    "duration": 17,
    "start_time": "2022-10-09T04:46:51.676Z"
   },
   {
    "duration": 11,
    "start_time": "2022-10-09T04:46:51.695Z"
   },
   {
    "duration": 5,
    "start_time": "2022-10-09T04:46:51.707Z"
   },
   {
    "duration": 12,
    "start_time": "2022-10-09T04:46:51.713Z"
   },
   {
    "duration": 5,
    "start_time": "2022-10-09T04:46:51.726Z"
   },
   {
    "duration": 49,
    "start_time": "2022-10-09T04:46:51.732Z"
   },
   {
    "duration": 18,
    "start_time": "2022-10-09T04:46:51.783Z"
   },
   {
    "duration": 116,
    "start_time": "2022-10-09T04:46:51.802Z"
   },
   {
    "duration": 5,
    "start_time": "2022-10-09T04:46:51.920Z"
   },
   {
    "duration": 35,
    "start_time": "2022-10-09T04:46:51.926Z"
   },
   {
    "duration": 37,
    "start_time": "2022-10-09T04:46:51.963Z"
   },
   {
    "duration": 335,
    "start_time": "2022-10-09T04:46:52.001Z"
   },
   {
    "duration": 25,
    "start_time": "2022-10-09T04:46:52.337Z"
   },
   {
    "duration": 21,
    "start_time": "2022-10-09T04:46:52.363Z"
   },
   {
    "duration": 13,
    "start_time": "2022-10-09T04:46:52.386Z"
   },
   {
    "duration": 24,
    "start_time": "2022-10-09T04:46:52.400Z"
   },
   {
    "duration": 78,
    "start_time": "2022-10-09T04:46:52.425Z"
   },
   {
    "duration": 242,
    "start_time": "2022-10-09T04:46:52.505Z"
   },
   {
    "duration": 310,
    "start_time": "2022-10-09T04:46:52.749Z"
   },
   {
    "duration": 2,
    "start_time": "2022-10-09T04:46:53.061Z"
   },
   {
    "duration": 75,
    "start_time": "2022-10-09T04:53:52.782Z"
   },
   {
    "duration": 562,
    "start_time": "2022-10-09T04:54:00.761Z"
   },
   {
    "duration": 15,
    "start_time": "2022-10-09T04:54:01.325Z"
   },
   {
    "duration": 2166,
    "start_time": "2022-10-09T04:54:01.342Z"
   },
   {
    "duration": 30,
    "start_time": "2022-10-09T04:54:03.510Z"
   },
   {
    "duration": 9,
    "start_time": "2022-10-09T04:54:03.541Z"
   },
   {
    "duration": 7,
    "start_time": "2022-10-09T04:54:03.551Z"
   },
   {
    "duration": 9,
    "start_time": "2022-10-09T04:54:03.560Z"
   },
   {
    "duration": 8,
    "start_time": "2022-10-09T04:54:03.570Z"
   },
   {
    "duration": 31,
    "start_time": "2022-10-09T04:54:03.579Z"
   },
   {
    "duration": 8,
    "start_time": "2022-10-09T04:54:03.613Z"
   },
   {
    "duration": 10,
    "start_time": "2022-10-09T04:54:03.622Z"
   },
   {
    "duration": 10,
    "start_time": "2022-10-09T04:54:03.633Z"
   },
   {
    "duration": 33,
    "start_time": "2022-10-09T04:54:03.644Z"
   },
   {
    "duration": 9,
    "start_time": "2022-10-09T04:54:03.679Z"
   },
   {
    "duration": 7,
    "start_time": "2022-10-09T04:54:03.689Z"
   },
   {
    "duration": 14,
    "start_time": "2022-10-09T04:54:03.698Z"
   },
   {
    "duration": 7,
    "start_time": "2022-10-09T04:54:03.713Z"
   },
   {
    "duration": 10,
    "start_time": "2022-10-09T04:54:03.721Z"
   },
   {
    "duration": 8,
    "start_time": "2022-10-09T04:54:03.732Z"
   },
   {
    "duration": 40,
    "start_time": "2022-10-09T04:54:03.741Z"
   },
   {
    "duration": 37,
    "start_time": "2022-10-09T04:54:03.782Z"
   },
   {
    "duration": 6,
    "start_time": "2022-10-09T04:54:03.821Z"
   },
   {
    "duration": 16,
    "start_time": "2022-10-09T04:54:03.828Z"
   },
   {
    "duration": 37,
    "start_time": "2022-10-09T04:54:03.846Z"
   },
   {
    "duration": 9,
    "start_time": "2022-10-09T04:54:03.885Z"
   },
   {
    "duration": 12,
    "start_time": "2022-10-09T04:54:03.896Z"
   },
   {
    "duration": 4,
    "start_time": "2022-10-09T04:54:03.909Z"
   },
   {
    "duration": 63,
    "start_time": "2022-10-09T04:54:03.916Z"
   },
   {
    "duration": 11,
    "start_time": "2022-10-09T04:54:03.981Z"
   },
   {
    "duration": 4,
    "start_time": "2022-10-09T04:54:03.993Z"
   },
   {
    "duration": 11,
    "start_time": "2022-10-09T04:54:03.999Z"
   },
   {
    "duration": 35,
    "start_time": "2022-10-09T04:54:04.011Z"
   },
   {
    "duration": 15,
    "start_time": "2022-10-09T04:54:04.076Z"
   },
   {
    "duration": 18,
    "start_time": "2022-10-09T04:54:04.092Z"
   },
   {
    "duration": 8,
    "start_time": "2022-10-09T04:54:04.112Z"
   },
   {
    "duration": 8,
    "start_time": "2022-10-09T04:54:04.121Z"
   },
   {
    "duration": 19,
    "start_time": "2022-10-09T04:54:04.130Z"
   },
   {
    "duration": 32,
    "start_time": "2022-10-09T04:54:04.150Z"
   },
   {
    "duration": 5,
    "start_time": "2022-10-09T04:54:04.183Z"
   },
   {
    "duration": 11,
    "start_time": "2022-10-09T04:54:04.189Z"
   },
   {
    "duration": 4,
    "start_time": "2022-10-09T04:54:04.201Z"
   },
   {
    "duration": 16,
    "start_time": "2022-10-09T04:54:04.207Z"
   },
   {
    "duration": 18,
    "start_time": "2022-10-09T04:54:04.224Z"
   },
   {
    "duration": 143,
    "start_time": "2022-10-09T04:54:04.243Z"
   },
   {
    "duration": 5,
    "start_time": "2022-10-09T04:54:04.388Z"
   },
   {
    "duration": 30,
    "start_time": "2022-10-09T04:54:04.395Z"
   },
   {
    "duration": 31,
    "start_time": "2022-10-09T04:54:04.426Z"
   },
   {
    "duration": 352,
    "start_time": "2022-10-09T04:54:04.458Z"
   },
   {
    "duration": 23,
    "start_time": "2022-10-09T04:54:04.812Z"
   },
   {
    "duration": 12,
    "start_time": "2022-10-09T04:54:04.837Z"
   },
   {
    "duration": 35,
    "start_time": "2022-10-09T04:54:04.850Z"
   },
   {
    "duration": 24,
    "start_time": "2022-10-09T04:54:04.887Z"
   },
   {
    "duration": 71,
    "start_time": "2022-10-09T04:54:04.913Z"
   },
   {
    "duration": 277,
    "start_time": "2022-10-09T04:54:04.986Z"
   },
   {
    "duration": 324,
    "start_time": "2022-10-09T04:54:05.265Z"
   },
   {
    "duration": 250,
    "start_time": "2022-10-09T04:54:05.592Z"
   },
   {
    "duration": 2,
    "start_time": "2022-10-09T04:54:05.844Z"
   },
   {
    "duration": 218,
    "start_time": "2022-10-09T04:56:03.340Z"
   },
   {
    "duration": 177,
    "start_time": "2022-10-09T04:56:18.588Z"
   },
   {
    "duration": 176,
    "start_time": "2022-10-09T04:56:27.792Z"
   },
   {
    "duration": 508,
    "start_time": "2022-10-09T04:56:53.636Z"
   },
   {
    "duration": 16,
    "start_time": "2022-10-09T04:56:54.146Z"
   },
   {
    "duration": 2124,
    "start_time": "2022-10-09T04:56:54.164Z"
   },
   {
    "duration": 30,
    "start_time": "2022-10-09T04:56:56.290Z"
   },
   {
    "duration": 9,
    "start_time": "2022-10-09T04:56:56.322Z"
   },
   {
    "duration": 7,
    "start_time": "2022-10-09T04:56:56.332Z"
   },
   {
    "duration": 9,
    "start_time": "2022-10-09T04:56:56.341Z"
   },
   {
    "duration": 28,
    "start_time": "2022-10-09T04:56:56.352Z"
   },
   {
    "duration": 31,
    "start_time": "2022-10-09T04:56:56.382Z"
   },
   {
    "duration": 8,
    "start_time": "2022-10-09T04:56:56.415Z"
   },
   {
    "duration": 10,
    "start_time": "2022-10-09T04:56:56.424Z"
   },
   {
    "duration": 8,
    "start_time": "2022-10-09T04:56:56.435Z"
   },
   {
    "duration": 38,
    "start_time": "2022-10-09T04:56:56.444Z"
   },
   {
    "duration": 8,
    "start_time": "2022-10-09T04:56:56.484Z"
   },
   {
    "duration": 8,
    "start_time": "2022-10-09T04:56:56.493Z"
   },
   {
    "duration": 13,
    "start_time": "2022-10-09T04:56:56.503Z"
   },
   {
    "duration": 7,
    "start_time": "2022-10-09T04:56:56.517Z"
   },
   {
    "duration": 5,
    "start_time": "2022-10-09T04:56:56.525Z"
   },
   {
    "duration": 6,
    "start_time": "2022-10-09T04:56:56.531Z"
   },
   {
    "duration": 47,
    "start_time": "2022-10-09T04:56:56.538Z"
   },
   {
    "duration": 36,
    "start_time": "2022-10-09T04:56:56.586Z"
   },
   {
    "duration": 6,
    "start_time": "2022-10-09T04:56:56.623Z"
   },
   {
    "duration": 14,
    "start_time": "2022-10-09T04:56:56.631Z"
   },
   {
    "duration": 36,
    "start_time": "2022-10-09T04:56:56.647Z"
   },
   {
    "duration": 6,
    "start_time": "2022-10-09T04:56:56.684Z"
   },
   {
    "duration": 10,
    "start_time": "2022-10-09T04:56:56.691Z"
   },
   {
    "duration": 3,
    "start_time": "2022-10-09T04:56:56.703Z"
   },
   {
    "duration": 37,
    "start_time": "2022-10-09T04:56:56.710Z"
   },
   {
    "duration": 38,
    "start_time": "2022-10-09T04:56:56.748Z"
   },
   {
    "duration": 4,
    "start_time": "2022-10-09T04:56:56.788Z"
   },
   {
    "duration": 12,
    "start_time": "2022-10-09T04:56:56.793Z"
   },
   {
    "duration": 34,
    "start_time": "2022-10-09T04:56:56.806Z"
   },
   {
    "duration": 45,
    "start_time": "2022-10-09T04:56:56.841Z"
   },
   {
    "duration": 14,
    "start_time": "2022-10-09T04:56:56.888Z"
   },
   {
    "duration": 7,
    "start_time": "2022-10-09T04:56:56.903Z"
   },
   {
    "duration": 8,
    "start_time": "2022-10-09T04:56:56.911Z"
   },
   {
    "duration": 19,
    "start_time": "2022-10-09T04:56:56.921Z"
   },
   {
    "duration": 37,
    "start_time": "2022-10-09T04:56:56.942Z"
   },
   {
    "duration": 5,
    "start_time": "2022-10-09T04:56:56.981Z"
   },
   {
    "duration": 15,
    "start_time": "2022-10-09T04:56:56.988Z"
   },
   {
    "duration": 6,
    "start_time": "2022-10-09T04:56:57.005Z"
   },
   {
    "duration": 22,
    "start_time": "2022-10-09T04:56:57.013Z"
   },
   {
    "duration": 48,
    "start_time": "2022-10-09T04:56:57.037Z"
   },
   {
    "duration": 111,
    "start_time": "2022-10-09T04:56:57.086Z"
   },
   {
    "duration": 6,
    "start_time": "2022-10-09T04:56:57.198Z"
   },
   {
    "duration": 32,
    "start_time": "2022-10-09T04:56:57.205Z"
   },
   {
    "duration": 43,
    "start_time": "2022-10-09T04:56:57.238Z"
   },
   {
    "duration": 327,
    "start_time": "2022-10-09T04:56:57.282Z"
   },
   {
    "duration": 27,
    "start_time": "2022-10-09T04:56:57.611Z"
   },
   {
    "duration": 14,
    "start_time": "2022-10-09T04:56:57.639Z"
   },
   {
    "duration": 33,
    "start_time": "2022-10-09T04:56:57.655Z"
   },
   {
    "duration": 25,
    "start_time": "2022-10-09T04:56:57.689Z"
   },
   {
    "duration": 71,
    "start_time": "2022-10-09T04:56:57.716Z"
   },
   {
    "duration": 183,
    "start_time": "2022-10-09T04:56:57.788Z"
   },
   {
    "duration": 196,
    "start_time": "2022-10-09T04:56:57.976Z"
   },
   {
    "duration": 240,
    "start_time": "2022-10-09T04:56:58.176Z"
   },
   {
    "duration": 195,
    "start_time": "2022-10-09T04:56:58.418Z"
   },
   {
    "duration": 3,
    "start_time": "2022-10-09T04:56:58.614Z"
   },
   {
    "duration": 182,
    "start_time": "2022-10-09T04:58:44.566Z"
   },
   {
    "duration": 138,
    "start_time": "2022-10-09T04:58:53.823Z"
   },
   {
    "duration": 138,
    "start_time": "2022-10-09T04:59:01.038Z"
   },
   {
    "duration": 57,
    "start_time": "2022-10-09T05:00:30.209Z"
   },
   {
    "duration": 79,
    "start_time": "2022-10-09T05:03:18.427Z"
   },
   {
    "duration": 14,
    "start_time": "2022-10-09T05:03:36.389Z"
   },
   {
    "duration": 181,
    "start_time": "2022-10-09T05:03:51.078Z"
   },
   {
    "duration": 7,
    "start_time": "2022-10-09T05:04:04.521Z"
   },
   {
    "duration": 182,
    "start_time": "2022-10-09T05:04:05.415Z"
   },
   {
    "duration": 139,
    "start_time": "2022-10-09T05:04:25.937Z"
   },
   {
    "duration": 227,
    "start_time": "2022-10-09T05:07:39.384Z"
   },
   {
    "duration": 146,
    "start_time": "2022-10-09T05:12:03.806Z"
   },
   {
    "duration": 149,
    "start_time": "2022-10-09T05:13:47.991Z"
   },
   {
    "duration": 177,
    "start_time": "2022-10-09T05:14:00.196Z"
   },
   {
    "duration": 142,
    "start_time": "2022-10-09T05:14:14.766Z"
   },
   {
    "duration": 540,
    "start_time": "2022-10-09T05:15:43.239Z"
   },
   {
    "duration": 15,
    "start_time": "2022-10-09T05:15:43.781Z"
   },
   {
    "duration": 2115,
    "start_time": "2022-10-09T05:15:43.797Z"
   },
   {
    "duration": 32,
    "start_time": "2022-10-09T05:15:45.914Z"
   },
   {
    "duration": 9,
    "start_time": "2022-10-09T05:15:45.947Z"
   },
   {
    "duration": 8,
    "start_time": "2022-10-09T05:15:45.958Z"
   },
   {
    "duration": 10,
    "start_time": "2022-10-09T05:15:45.976Z"
   },
   {
    "duration": 9,
    "start_time": "2022-10-09T05:15:45.987Z"
   },
   {
    "duration": 31,
    "start_time": "2022-10-09T05:15:45.998Z"
   },
   {
    "duration": 8,
    "start_time": "2022-10-09T05:15:46.032Z"
   },
   {
    "duration": 36,
    "start_time": "2022-10-09T05:15:46.041Z"
   },
   {
    "duration": 7,
    "start_time": "2022-10-09T05:15:46.079Z"
   },
   {
    "duration": 8,
    "start_time": "2022-10-09T05:15:46.087Z"
   },
   {
    "duration": 8,
    "start_time": "2022-10-09T05:15:46.096Z"
   },
   {
    "duration": 6,
    "start_time": "2022-10-09T05:15:46.105Z"
   },
   {
    "duration": 12,
    "start_time": "2022-10-09T05:15:46.113Z"
   },
   {
    "duration": 6,
    "start_time": "2022-10-09T05:15:46.127Z"
   },
   {
    "duration": 5,
    "start_time": "2022-10-09T05:15:46.134Z"
   },
   {
    "duration": 7,
    "start_time": "2022-10-09T05:15:46.177Z"
   },
   {
    "duration": 12,
    "start_time": "2022-10-09T05:15:46.185Z"
   },
   {
    "duration": 36,
    "start_time": "2022-10-09T05:15:46.198Z"
   },
   {
    "duration": 7,
    "start_time": "2022-10-09T05:15:46.235Z"
   },
   {
    "duration": 47,
    "start_time": "2022-10-09T05:15:46.243Z"
   },
   {
    "duration": 9,
    "start_time": "2022-10-09T05:15:46.291Z"
   },
   {
    "duration": 6,
    "start_time": "2022-10-09T05:15:46.302Z"
   },
   {
    "duration": 11,
    "start_time": "2022-10-09T05:15:46.309Z"
   },
   {
    "duration": 4,
    "start_time": "2022-10-09T05:15:46.321Z"
   },
   {
    "duration": 65,
    "start_time": "2022-10-09T05:15:46.328Z"
   },
   {
    "duration": 12,
    "start_time": "2022-10-09T05:15:46.394Z"
   },
   {
    "duration": 4,
    "start_time": "2022-10-09T05:15:46.407Z"
   },
   {
    "duration": 13,
    "start_time": "2022-10-09T05:15:46.413Z"
   },
   {
    "duration": 57,
    "start_time": "2022-10-09T05:15:46.427Z"
   },
   {
    "duration": 14,
    "start_time": "2022-10-09T05:15:46.486Z"
   },
   {
    "duration": 16,
    "start_time": "2022-10-09T05:15:46.502Z"
   },
   {
    "duration": 8,
    "start_time": "2022-10-09T05:15:46.520Z"
   },
   {
    "duration": 6,
    "start_time": "2022-10-09T05:15:46.530Z"
   },
   {
    "duration": 51,
    "start_time": "2022-10-09T05:15:46.538Z"
   },
   {
    "duration": 11,
    "start_time": "2022-10-09T05:15:46.590Z"
   },
   {
    "duration": 4,
    "start_time": "2022-10-09T05:15:46.603Z"
   },
   {
    "duration": 15,
    "start_time": "2022-10-09T05:15:46.609Z"
   },
   {
    "duration": 5,
    "start_time": "2022-10-09T05:15:46.625Z"
   },
   {
    "duration": 17,
    "start_time": "2022-10-09T05:15:46.631Z"
   },
   {
    "duration": 42,
    "start_time": "2022-10-09T05:15:46.650Z"
   },
   {
    "duration": 113,
    "start_time": "2022-10-09T05:15:46.693Z"
   },
   {
    "duration": 5,
    "start_time": "2022-10-09T05:15:46.808Z"
   },
   {
    "duration": 28,
    "start_time": "2022-10-09T05:15:46.814Z"
   },
   {
    "duration": 45,
    "start_time": "2022-10-09T05:15:46.844Z"
   },
   {
    "duration": 359,
    "start_time": "2022-10-09T05:15:46.891Z"
   },
   {
    "duration": 34,
    "start_time": "2022-10-09T05:15:47.252Z"
   },
   {
    "duration": 14,
    "start_time": "2022-10-09T05:15:47.288Z"
   },
   {
    "duration": 12,
    "start_time": "2022-10-09T05:15:47.304Z"
   },
   {
    "duration": 25,
    "start_time": "2022-10-09T05:15:47.318Z"
   },
   {
    "duration": 79,
    "start_time": "2022-10-09T05:15:47.345Z"
   },
   {
    "duration": 179,
    "start_time": "2022-10-09T05:15:47.426Z"
   },
   {
    "duration": 195,
    "start_time": "2022-10-09T05:15:47.607Z"
   },
   {
    "duration": 242,
    "start_time": "2022-10-09T05:15:47.804Z"
   },
   {
    "duration": 189,
    "start_time": "2022-10-09T05:15:48.047Z"
   },
   {
    "duration": 141,
    "start_time": "2022-10-09T05:15:48.237Z"
   },
   {
    "duration": 157,
    "start_time": "2022-10-09T05:15:48.380Z"
   },
   {
    "duration": 163,
    "start_time": "2022-10-09T05:15:48.538Z"
   },
   {
    "duration": 151,
    "start_time": "2022-10-09T05:15:48.703Z"
   },
   {
    "duration": 3,
    "start_time": "2022-10-09T05:15:48.856Z"
   },
   {
    "duration": 135,
    "start_time": "2022-10-09T05:17:47.950Z"
   },
   {
    "duration": 133,
    "start_time": "2022-10-09T05:20:34.767Z"
   },
   {
    "duration": 140,
    "start_time": "2022-10-09T05:23:15.228Z"
   },
   {
    "duration": 133,
    "start_time": "2022-10-09T05:23:31.463Z"
   },
   {
    "duration": 256,
    "start_time": "2022-10-09T05:30:24.641Z"
   },
   {
    "duration": 171,
    "start_time": "2022-10-09T05:30:30.053Z"
   },
   {
    "duration": 139,
    "start_time": "2022-10-09T05:33:59.765Z"
   },
   {
    "duration": 173,
    "start_time": "2022-10-09T05:34:10.684Z"
   },
   {
    "duration": 177,
    "start_time": "2022-10-09T05:38:04.185Z"
   },
   {
    "duration": 170,
    "start_time": "2022-10-09T05:44:22.231Z"
   },
   {
    "duration": 164,
    "start_time": "2022-10-09T05:46:46.702Z"
   },
   {
    "duration": 153,
    "start_time": "2022-10-09T05:48:16.462Z"
   },
   {
    "duration": 140,
    "start_time": "2022-10-09T05:48:29.291Z"
   },
   {
    "duration": 145,
    "start_time": "2022-10-09T05:48:58.705Z"
   },
   {
    "duration": 134,
    "start_time": "2022-10-09T05:49:27.587Z"
   },
   {
    "duration": 230,
    "start_time": "2022-10-09T05:49:29.059Z"
   },
   {
    "duration": 50,
    "start_time": "2022-10-09T05:53:08.696Z"
   },
   {
    "duration": 205,
    "start_time": "2022-10-09T05:57:10.682Z"
   },
   {
    "duration": 141,
    "start_time": "2022-10-09T05:57:19.871Z"
   },
   {
    "duration": 72,
    "start_time": "2022-10-09T06:33:44.002Z"
   },
   {
    "duration": 635,
    "start_time": "2022-10-09T06:33:55.868Z"
   },
   {
    "duration": 14,
    "start_time": "2022-10-09T06:33:56.507Z"
   },
   {
    "duration": 2450,
    "start_time": "2022-10-09T06:33:56.522Z"
   },
   {
    "duration": 42,
    "start_time": "2022-10-09T06:33:58.974Z"
   },
   {
    "duration": 10,
    "start_time": "2022-10-09T06:33:59.017Z"
   },
   {
    "duration": 7,
    "start_time": "2022-10-09T06:33:59.028Z"
   },
   {
    "duration": 9,
    "start_time": "2022-10-09T06:33:59.037Z"
   },
   {
    "duration": 42,
    "start_time": "2022-10-09T06:33:59.047Z"
   },
   {
    "duration": 38,
    "start_time": "2022-10-09T06:33:59.090Z"
   },
   {
    "duration": 8,
    "start_time": "2022-10-09T06:33:59.131Z"
   },
   {
    "duration": 10,
    "start_time": "2022-10-09T06:33:59.140Z"
   },
   {
    "duration": 34,
    "start_time": "2022-10-09T06:33:59.152Z"
   },
   {
    "duration": 29,
    "start_time": "2022-10-09T06:33:59.188Z"
   },
   {
    "duration": 10,
    "start_time": "2022-10-09T06:33:59.218Z"
   },
   {
    "duration": 6,
    "start_time": "2022-10-09T06:33:59.229Z"
   },
   {
    "duration": 13,
    "start_time": "2022-10-09T06:33:59.237Z"
   },
   {
    "duration": 7,
    "start_time": "2022-10-09T06:33:59.251Z"
   },
   {
    "duration": 22,
    "start_time": "2022-10-09T06:33:59.277Z"
   },
   {
    "duration": 11,
    "start_time": "2022-10-09T06:33:59.301Z"
   },
   {
    "duration": 9,
    "start_time": "2022-10-09T06:33:59.314Z"
   },
   {
    "duration": 38,
    "start_time": "2022-10-09T06:33:59.325Z"
   },
   {
    "duration": 38,
    "start_time": "2022-10-09T06:33:59.364Z"
   },
   {
    "duration": 17,
    "start_time": "2022-10-09T06:33:59.404Z"
   },
   {
    "duration": 8,
    "start_time": "2022-10-09T06:33:59.423Z"
   },
   {
    "duration": 6,
    "start_time": "2022-10-09T06:33:59.432Z"
   },
   {
    "duration": 10,
    "start_time": "2022-10-09T06:33:59.440Z"
   },
   {
    "duration": 5,
    "start_time": "2022-10-09T06:33:59.451Z"
   },
   {
    "duration": 45,
    "start_time": "2022-10-09T06:33:59.486Z"
   },
   {
    "duration": 11,
    "start_time": "2022-10-09T06:33:59.533Z"
   },
   {
    "duration": 4,
    "start_time": "2022-10-09T06:33:59.545Z"
   },
   {
    "duration": 45,
    "start_time": "2022-10-09T06:33:59.551Z"
   },
   {
    "duration": 38,
    "start_time": "2022-10-09T06:33:59.601Z"
   },
   {
    "duration": 14,
    "start_time": "2022-10-09T06:33:59.641Z"
   },
   {
    "duration": 33,
    "start_time": "2022-10-09T06:33:59.657Z"
   },
   {
    "duration": 10,
    "start_time": "2022-10-09T06:33:59.698Z"
   },
   {
    "duration": 6,
    "start_time": "2022-10-09T06:33:59.709Z"
   },
   {
    "duration": 19,
    "start_time": "2022-10-09T06:33:59.717Z"
   },
   {
    "duration": 11,
    "start_time": "2022-10-09T06:33:59.737Z"
   },
   {
    "duration": 4,
    "start_time": "2022-10-09T06:33:59.750Z"
   },
   {
    "duration": 43,
    "start_time": "2022-10-09T06:33:59.755Z"
   },
   {
    "duration": 10,
    "start_time": "2022-10-09T06:33:59.800Z"
   },
   {
    "duration": 18,
    "start_time": "2022-10-09T06:33:59.812Z"
   },
   {
    "duration": 18,
    "start_time": "2022-10-09T06:33:59.831Z"
   },
   {
    "duration": 119,
    "start_time": "2022-10-09T06:33:59.851Z"
   },
   {
    "duration": 14,
    "start_time": "2022-10-09T06:33:59.979Z"
   },
   {
    "duration": 40,
    "start_time": "2022-10-09T06:33:59.994Z"
   },
   {
    "duration": 30,
    "start_time": "2022-10-09T06:34:00.035Z"
   },
   {
    "duration": 408,
    "start_time": "2022-10-09T06:34:00.067Z"
   },
   {
    "duration": 36,
    "start_time": "2022-10-09T06:34:00.477Z"
   },
   {
    "duration": 35,
    "start_time": "2022-10-09T06:34:00.515Z"
   },
   {
    "duration": 23,
    "start_time": "2022-10-09T06:34:00.552Z"
   },
   {
    "duration": 58,
    "start_time": "2022-10-09T06:34:00.578Z"
   },
   {
    "duration": 71,
    "start_time": "2022-10-09T06:34:00.638Z"
   },
   {
    "duration": 204,
    "start_time": "2022-10-09T06:34:00.710Z"
   },
   {
    "duration": 220,
    "start_time": "2022-10-09T06:34:00.916Z"
   },
   {
    "duration": 288,
    "start_time": "2022-10-09T06:34:01.137Z"
   },
   {
    "duration": 214,
    "start_time": "2022-10-09T06:34:01.426Z"
   },
   {
    "duration": 165,
    "start_time": "2022-10-09T06:34:01.642Z"
   },
   {
    "duration": 190,
    "start_time": "2022-10-09T06:34:01.809Z"
   },
   {
    "duration": 202,
    "start_time": "2022-10-09T06:34:02.001Z"
   },
   {
    "duration": 163,
    "start_time": "2022-10-09T06:34:02.205Z"
   },
   {
    "duration": 174,
    "start_time": "2022-10-09T06:34:02.370Z"
   },
   {
    "duration": 173,
    "start_time": "2022-10-09T06:34:02.546Z"
   },
   {
    "duration": 140,
    "start_time": "2022-10-09T06:34:02.721Z"
   },
   {
    "duration": 204,
    "start_time": "2022-10-09T06:34:02.862Z"
   },
   {
    "duration": 324,
    "start_time": "2022-10-09T06:34:03.067Z"
   },
   {
    "duration": 220,
    "start_time": "2022-10-09T06:34:03.393Z"
   },
   {
    "duration": 203,
    "start_time": "2022-10-09T06:34:03.614Z"
   },
   {
    "duration": 219,
    "start_time": "2022-10-09T06:34:03.819Z"
   },
   {
    "duration": 168,
    "start_time": "2022-10-09T06:34:04.040Z"
   },
   {
    "duration": 155,
    "start_time": "2022-10-09T06:34:04.210Z"
   },
   {
    "duration": 61,
    "start_time": "2022-10-09T06:34:04.367Z"
   },
   {
    "duration": 199,
    "start_time": "2022-10-09T06:34:04.430Z"
   },
   {
    "duration": 93,
    "start_time": "2022-10-09T06:34:04.631Z"
   },
   {
    "duration": 0,
    "start_time": "2022-10-09T06:34:04.725Z"
   },
   {
    "duration": 16,
    "start_time": "2022-10-09T06:34:10.100Z"
   },
   {
    "duration": 18,
    "start_time": "2022-10-09T06:34:42.691Z"
   },
   {
    "duration": 19,
    "start_time": "2022-10-09T06:38:28.406Z"
   },
   {
    "duration": 218,
    "start_time": "2022-10-09T06:38:36.047Z"
   },
   {
    "duration": 6,
    "start_time": "2022-10-09T06:39:40.918Z"
   },
   {
    "duration": 192,
    "start_time": "2022-10-09T06:42:03.138Z"
   },
   {
    "duration": 154,
    "start_time": "2022-10-09T06:43:07.910Z"
   },
   {
    "duration": 158,
    "start_time": "2022-10-09T06:44:46.183Z"
   },
   {
    "duration": 157,
    "start_time": "2022-10-09T06:45:35.687Z"
   },
   {
    "duration": 247,
    "start_time": "2022-10-09T06:45:54.030Z"
   },
   {
    "duration": 159,
    "start_time": "2022-10-09T06:46:31.434Z"
   },
   {
    "duration": 159,
    "start_time": "2022-10-09T06:47:03.918Z"
   },
   {
    "duration": 152,
    "start_time": "2022-10-09T06:48:55.899Z"
   },
   {
    "duration": 15,
    "start_time": "2022-10-09T06:49:23.941Z"
   },
   {
    "duration": 206,
    "start_time": "2022-10-09T06:49:28.581Z"
   },
   {
    "duration": 157,
    "start_time": "2022-10-09T06:50:06.952Z"
   },
   {
    "duration": 331,
    "start_time": "2022-10-09T06:50:40.316Z"
   },
   {
    "duration": 298,
    "start_time": "2022-10-09T06:51:21.327Z"
   },
   {
    "duration": 309,
    "start_time": "2022-10-09T06:51:43.263Z"
   },
   {
    "duration": 568,
    "start_time": "2022-10-09T06:53:13.277Z"
   },
   {
    "duration": 15,
    "start_time": "2022-10-09T06:53:13.847Z"
   },
   {
    "duration": 2277,
    "start_time": "2022-10-09T06:53:13.863Z"
   },
   {
    "duration": 32,
    "start_time": "2022-10-09T06:53:16.143Z"
   },
   {
    "duration": 10,
    "start_time": "2022-10-09T06:53:16.177Z"
   },
   {
    "duration": 17,
    "start_time": "2022-10-09T06:53:16.189Z"
   },
   {
    "duration": 13,
    "start_time": "2022-10-09T06:53:16.208Z"
   },
   {
    "duration": 16,
    "start_time": "2022-10-09T06:53:16.222Z"
   },
   {
    "duration": 44,
    "start_time": "2022-10-09T06:53:16.240Z"
   },
   {
    "duration": 8,
    "start_time": "2022-10-09T06:53:16.286Z"
   },
   {
    "duration": 21,
    "start_time": "2022-10-09T06:53:16.296Z"
   },
   {
    "duration": 13,
    "start_time": "2022-10-09T06:53:16.319Z"
   },
   {
    "duration": 8,
    "start_time": "2022-10-09T06:53:16.334Z"
   },
   {
    "duration": 10,
    "start_time": "2022-10-09T06:53:16.344Z"
   },
   {
    "duration": 7,
    "start_time": "2022-10-09T06:53:16.376Z"
   },
   {
    "duration": 19,
    "start_time": "2022-10-09T06:53:16.384Z"
   },
   {
    "duration": 11,
    "start_time": "2022-10-09T06:53:16.404Z"
   },
   {
    "duration": 4,
    "start_time": "2022-10-09T06:53:16.417Z"
   },
   {
    "duration": 9,
    "start_time": "2022-10-09T06:53:16.423Z"
   },
   {
    "duration": 9,
    "start_time": "2022-10-09T06:53:16.434Z"
   },
   {
    "duration": 61,
    "start_time": "2022-10-09T06:53:16.445Z"
   },
   {
    "duration": 7,
    "start_time": "2022-10-09T06:53:16.507Z"
   },
   {
    "duration": 15,
    "start_time": "2022-10-09T06:53:16.515Z"
   },
   {
    "duration": 8,
    "start_time": "2022-10-09T06:53:16.532Z"
   },
   {
    "duration": 35,
    "start_time": "2022-10-09T06:53:16.542Z"
   },
   {
    "duration": 15,
    "start_time": "2022-10-09T06:53:16.580Z"
   },
   {
    "duration": 5,
    "start_time": "2022-10-09T06:53:16.597Z"
   },
   {
    "duration": 70,
    "start_time": "2022-10-09T06:53:16.608Z"
   },
   {
    "duration": 13,
    "start_time": "2022-10-09T06:53:16.679Z"
   },
   {
    "duration": 6,
    "start_time": "2022-10-09T06:53:16.694Z"
   },
   {
    "duration": 15,
    "start_time": "2022-10-09T06:53:16.701Z"
   },
   {
    "duration": 67,
    "start_time": "2022-10-09T06:53:16.717Z"
   },
   {
    "duration": 17,
    "start_time": "2022-10-09T06:53:16.786Z"
   },
   {
    "duration": 17,
    "start_time": "2022-10-09T06:53:16.805Z"
   },
   {
    "duration": 9,
    "start_time": "2022-10-09T06:53:16.825Z"
   },
   {
    "duration": 7,
    "start_time": "2022-10-09T06:53:16.835Z"
   },
   {
    "duration": 44,
    "start_time": "2022-10-09T06:53:16.843Z"
   },
   {
    "duration": 13,
    "start_time": "2022-10-09T06:53:16.888Z"
   },
   {
    "duration": 5,
    "start_time": "2022-10-09T06:53:16.904Z"
   },
   {
    "duration": 23,
    "start_time": "2022-10-09T06:53:16.910Z"
   },
   {
    "duration": 6,
    "start_time": "2022-10-09T06:53:16.935Z"
   },
   {
    "duration": 44,
    "start_time": "2022-10-09T06:53:16.943Z"
   },
   {
    "duration": 27,
    "start_time": "2022-10-09T06:53:16.989Z"
   },
   {
    "duration": 138,
    "start_time": "2022-10-09T06:53:17.018Z"
   },
   {
    "duration": 5,
    "start_time": "2022-10-09T06:53:17.158Z"
   },
   {
    "duration": 39,
    "start_time": "2022-10-09T06:53:17.164Z"
   },
   {
    "duration": 31,
    "start_time": "2022-10-09T06:53:17.205Z"
   },
   {
    "duration": 354,
    "start_time": "2022-10-09T06:53:17.237Z"
   },
   {
    "duration": 26,
    "start_time": "2022-10-09T06:53:17.593Z"
   },
   {
    "duration": 15,
    "start_time": "2022-10-09T06:53:17.621Z"
   },
   {
    "duration": 39,
    "start_time": "2022-10-09T06:53:17.638Z"
   },
   {
    "duration": 26,
    "start_time": "2022-10-09T06:53:17.679Z"
   },
   {
    "duration": 74,
    "start_time": "2022-10-09T06:53:17.707Z"
   },
   {
    "duration": 202,
    "start_time": "2022-10-09T06:53:17.782Z"
   },
   {
    "duration": 219,
    "start_time": "2022-10-09T06:53:17.986Z"
   },
   {
    "duration": 269,
    "start_time": "2022-10-09T06:53:18.208Z"
   },
   {
    "duration": 218,
    "start_time": "2022-10-09T06:53:18.478Z"
   },
   {
    "duration": 174,
    "start_time": "2022-10-09T06:53:18.697Z"
   },
   {
    "duration": 184,
    "start_time": "2022-10-09T06:53:18.872Z"
   },
   {
    "duration": 183,
    "start_time": "2022-10-09T06:53:19.059Z"
   },
   {
    "duration": 163,
    "start_time": "2022-10-09T06:53:19.243Z"
   },
   {
    "duration": 155,
    "start_time": "2022-10-09T06:53:19.408Z"
   },
   {
    "duration": 171,
    "start_time": "2022-10-09T06:53:19.564Z"
   },
   {
    "duration": 142,
    "start_time": "2022-10-09T06:53:19.737Z"
   },
   {
    "duration": 204,
    "start_time": "2022-10-09T06:53:19.881Z"
   },
   {
    "duration": 276,
    "start_time": "2022-10-09T06:53:20.087Z"
   },
   {
    "duration": 207,
    "start_time": "2022-10-09T06:53:20.365Z"
   },
   {
    "duration": 208,
    "start_time": "2022-10-09T06:53:20.581Z"
   },
   {
    "duration": 207,
    "start_time": "2022-10-09T06:53:20.791Z"
   },
   {
    "duration": 182,
    "start_time": "2022-10-09T06:53:21.000Z"
   },
   {
    "duration": 157,
    "start_time": "2022-10-09T06:53:21.184Z"
   },
   {
    "duration": 65,
    "start_time": "2022-10-09T06:53:21.343Z"
   },
   {
    "duration": 180,
    "start_time": "2022-10-09T06:53:21.409Z"
   },
   {
    "duration": 189,
    "start_time": "2022-10-09T06:53:21.591Z"
   },
   {
    "duration": 175,
    "start_time": "2022-10-09T06:53:21.781Z"
   },
   {
    "duration": 207,
    "start_time": "2022-10-09T06:53:21.957Z"
   },
   {
    "duration": 48220,
    "start_time": "2022-10-09T06:53:22.166Z"
   },
   {
    "duration": 378,
    "start_time": "2022-10-09T06:54:10.388Z"
   },
   {
    "duration": 0,
    "start_time": "2022-10-09T06:54:10.767Z"
   },
   {
    "duration": 153,
    "start_time": "2022-10-09T06:58:36.701Z"
   },
   {
    "duration": 148,
    "start_time": "2022-10-09T06:58:58.179Z"
   },
   {
    "duration": 14,
    "start_time": "2022-10-09T06:59:43.567Z"
   },
   {
    "duration": 144,
    "start_time": "2022-10-09T06:59:50.156Z"
   },
   {
    "duration": 160,
    "start_time": "2022-10-09T07:00:04.420Z"
   },
   {
    "duration": 149,
    "start_time": "2022-10-09T07:01:04.449Z"
   },
   {
    "duration": 159,
    "start_time": "2022-10-09T07:02:25.509Z"
   },
   {
    "duration": 184,
    "start_time": "2022-10-09T07:02:40.872Z"
   },
   {
    "duration": 140,
    "start_time": "2022-10-09T07:03:16.532Z"
   },
   {
    "duration": 9,
    "start_time": "2022-10-09T07:06:00.989Z"
   },
   {
    "duration": 8,
    "start_time": "2022-10-09T07:06:10.307Z"
   },
   {
    "duration": 7,
    "start_time": "2022-10-09T07:09:49.197Z"
   },
   {
    "duration": 77,
    "start_time": "2022-10-09T07:09:55.937Z"
   },
   {
    "duration": 9,
    "start_time": "2022-10-09T07:10:05.294Z"
   },
   {
    "duration": 5,
    "start_time": "2022-10-09T07:11:35.264Z"
   },
   {
    "duration": 9,
    "start_time": "2022-10-09T07:12:00.029Z"
   },
   {
    "duration": 10,
    "start_time": "2022-10-09T07:12:21.539Z"
   },
   {
    "duration": 10,
    "start_time": "2022-10-09T07:12:42.891Z"
   },
   {
    "duration": 8,
    "start_time": "2022-10-09T07:13:05.940Z"
   },
   {
    "duration": 37,
    "start_time": "2022-10-09T07:13:11.521Z"
   },
   {
    "duration": 9,
    "start_time": "2022-10-09T07:13:20.362Z"
   },
   {
    "duration": 11,
    "start_time": "2022-10-09T07:15:53.132Z"
   },
   {
    "duration": 15,
    "start_time": "2022-10-09T07:16:04.008Z"
   },
   {
    "duration": 12,
    "start_time": "2022-10-09T07:16:14.512Z"
   },
   {
    "duration": 17,
    "start_time": "2022-10-09T07:16:50.633Z"
   },
   {
    "duration": 13,
    "start_time": "2022-10-09T07:17:04.395Z"
   },
   {
    "duration": 13,
    "start_time": "2022-10-09T07:17:14.197Z"
   },
   {
    "duration": 17,
    "start_time": "2022-10-09T07:18:29.624Z"
   },
   {
    "duration": 19,
    "start_time": "2022-10-09T07:22:55.080Z"
   },
   {
    "duration": 17,
    "start_time": "2022-10-09T07:23:02.325Z"
   },
   {
    "duration": 65,
    "start_time": "2022-10-09T07:23:11.372Z"
   },
   {
    "duration": 15,
    "start_time": "2022-10-09T07:23:19.000Z"
   },
   {
    "duration": 17,
    "start_time": "2022-10-09T07:23:24.629Z"
   },
   {
    "duration": 14,
    "start_time": "2022-10-09T07:23:40.184Z"
   },
   {
    "duration": 8,
    "start_time": "2022-10-09T07:24:21.652Z"
   },
   {
    "duration": 17,
    "start_time": "2022-10-09T07:24:26.918Z"
   },
   {
    "duration": 16,
    "start_time": "2022-10-09T07:32:41.698Z"
   },
   {
    "duration": 33,
    "start_time": "2022-10-09T07:32:55.356Z"
   },
   {
    "duration": 24,
    "start_time": "2022-10-09T07:33:39.669Z"
   },
   {
    "duration": 20,
    "start_time": "2022-10-09T07:34:25.430Z"
   },
   {
    "duration": 27,
    "start_time": "2022-10-09T07:34:45.182Z"
   },
   {
    "duration": 560,
    "start_time": "2022-10-09T07:35:01.362Z"
   },
   {
    "duration": 14,
    "start_time": "2022-10-09T07:35:01.923Z"
   },
   {
    "duration": 2257,
    "start_time": "2022-10-09T07:35:01.939Z"
   },
   {
    "duration": 30,
    "start_time": "2022-10-09T07:35:04.198Z"
   },
   {
    "duration": 10,
    "start_time": "2022-10-09T07:35:04.229Z"
   },
   {
    "duration": 13,
    "start_time": "2022-10-09T07:35:04.241Z"
   },
   {
    "duration": 9,
    "start_time": "2022-10-09T07:35:04.256Z"
   },
   {
    "duration": 15,
    "start_time": "2022-10-09T07:35:04.266Z"
   },
   {
    "duration": 31,
    "start_time": "2022-10-09T07:35:04.283Z"
   },
   {
    "duration": 8,
    "start_time": "2022-10-09T07:35:04.316Z"
   },
   {
    "duration": 10,
    "start_time": "2022-10-09T07:35:04.325Z"
   },
   {
    "duration": 21,
    "start_time": "2022-10-09T07:35:04.337Z"
   },
   {
    "duration": 8,
    "start_time": "2022-10-09T07:35:04.376Z"
   },
   {
    "duration": 8,
    "start_time": "2022-10-09T07:35:04.386Z"
   },
   {
    "duration": 7,
    "start_time": "2022-10-09T07:35:04.396Z"
   },
   {
    "duration": 16,
    "start_time": "2022-10-09T07:35:04.405Z"
   },
   {
    "duration": 10,
    "start_time": "2022-10-09T07:35:04.422Z"
   },
   {
    "duration": 5,
    "start_time": "2022-10-09T07:35:04.434Z"
   },
   {
    "duration": 16,
    "start_time": "2022-10-09T07:35:04.440Z"
   },
   {
    "duration": 35,
    "start_time": "2022-10-09T07:35:04.457Z"
   },
   {
    "duration": 35,
    "start_time": "2022-10-09T07:35:04.494Z"
   },
   {
    "duration": 6,
    "start_time": "2022-10-09T07:35:04.531Z"
   },
   {
    "duration": 35,
    "start_time": "2022-10-09T07:35:04.538Z"
   },
   {
    "duration": 8,
    "start_time": "2022-10-09T07:35:04.576Z"
   },
   {
    "duration": 6,
    "start_time": "2022-10-09T07:35:04.586Z"
   },
   {
    "duration": 10,
    "start_time": "2022-10-09T07:35:04.594Z"
   },
   {
    "duration": 3,
    "start_time": "2022-10-09T07:35:04.606Z"
   },
   {
    "duration": 68,
    "start_time": "2022-10-09T07:35:04.613Z"
   },
   {
    "duration": 11,
    "start_time": "2022-10-09T07:35:04.683Z"
   },
   {
    "duration": 4,
    "start_time": "2022-10-09T07:35:04.696Z"
   },
   {
    "duration": 14,
    "start_time": "2022-10-09T07:35:04.702Z"
   },
   {
    "duration": 60,
    "start_time": "2022-10-09T07:35:04.717Z"
   },
   {
    "duration": 15,
    "start_time": "2022-10-09T07:35:04.779Z"
   },
   {
    "duration": 15,
    "start_time": "2022-10-09T07:35:04.796Z"
   },
   {
    "duration": 13,
    "start_time": "2022-10-09T07:35:04.812Z"
   },
   {
    "duration": 5,
    "start_time": "2022-10-09T07:35:04.827Z"
   },
   {
    "duration": 43,
    "start_time": "2022-10-09T07:35:04.834Z"
   },
   {
    "duration": 12,
    "start_time": "2022-10-09T07:35:04.879Z"
   },
   {
    "duration": 4,
    "start_time": "2022-10-09T07:35:04.892Z"
   },
   {
    "duration": 12,
    "start_time": "2022-10-09T07:35:04.898Z"
   },
   {
    "duration": 4,
    "start_time": "2022-10-09T07:35:04.912Z"
   },
   {
    "duration": 16,
    "start_time": "2022-10-09T07:35:04.918Z"
   },
   {
    "duration": 53,
    "start_time": "2022-10-09T07:35:04.935Z"
   },
   {
    "duration": 122,
    "start_time": "2022-10-09T07:35:04.989Z"
   },
   {
    "duration": 5,
    "start_time": "2022-10-09T07:35:05.112Z"
   },
   {
    "duration": 36,
    "start_time": "2022-10-09T07:35:05.119Z"
   },
   {
    "duration": 59,
    "start_time": "2022-10-09T07:35:05.157Z"
   },
   {
    "duration": 379,
    "start_time": "2022-10-09T07:35:05.219Z"
   },
   {
    "duration": 27,
    "start_time": "2022-10-09T07:35:05.601Z"
   },
   {
    "duration": 15,
    "start_time": "2022-10-09T07:35:05.630Z"
   },
   {
    "duration": 38,
    "start_time": "2022-10-09T07:35:05.647Z"
   },
   {
    "duration": 19,
    "start_time": "2022-10-09T07:35:05.687Z"
   },
   {
    "duration": 69,
    "start_time": "2022-10-09T07:35:05.708Z"
   },
   {
    "duration": 187,
    "start_time": "2022-10-09T07:35:05.778Z"
   },
   {
    "duration": 211,
    "start_time": "2022-10-09T07:35:05.966Z"
   },
   {
    "duration": 260,
    "start_time": "2022-10-09T07:35:06.179Z"
   },
   {
    "duration": 210,
    "start_time": "2022-10-09T07:35:06.441Z"
   },
   {
    "duration": 146,
    "start_time": "2022-10-09T07:35:06.652Z"
   },
   {
    "duration": 170,
    "start_time": "2022-10-09T07:35:06.800Z"
   },
   {
    "duration": 172,
    "start_time": "2022-10-09T07:35:06.973Z"
   },
   {
    "duration": 179,
    "start_time": "2022-10-09T07:35:07.146Z"
   },
   {
    "duration": 154,
    "start_time": "2022-10-09T07:35:07.327Z"
   },
   {
    "duration": 155,
    "start_time": "2022-10-09T07:35:07.483Z"
   },
   {
    "duration": 142,
    "start_time": "2022-10-09T07:35:07.639Z"
   },
   {
    "duration": 207,
    "start_time": "2022-10-09T07:35:07.783Z"
   },
   {
    "duration": 261,
    "start_time": "2022-10-09T07:35:07.991Z"
   },
   {
    "duration": 208,
    "start_time": "2022-10-09T07:35:08.253Z"
   },
   {
    "duration": 185,
    "start_time": "2022-10-09T07:35:08.463Z"
   },
   {
    "duration": 183,
    "start_time": "2022-10-09T07:35:08.650Z"
   },
   {
    "duration": 149,
    "start_time": "2022-10-09T07:35:08.835Z"
   },
   {
    "duration": 131,
    "start_time": "2022-10-09T07:35:08.986Z"
   },
   {
    "duration": 59,
    "start_time": "2022-10-09T07:35:09.119Z"
   },
   {
    "duration": 159,
    "start_time": "2022-10-09T07:35:09.179Z"
   },
   {
    "duration": 166,
    "start_time": "2022-10-09T07:35:09.340Z"
   },
   {
    "duration": 158,
    "start_time": "2022-10-09T07:35:09.507Z"
   },
   {
    "duration": 166,
    "start_time": "2022-10-09T07:35:09.666Z"
   },
   {
    "duration": 166,
    "start_time": "2022-10-09T07:35:09.834Z"
   },
   {
    "duration": 142,
    "start_time": "2022-10-09T07:35:10.002Z"
   },
   {
    "duration": 165,
    "start_time": "2022-10-09T07:35:10.146Z"
   },
   {
    "duration": 308,
    "start_time": "2022-10-09T07:35:10.313Z"
   },
   {
    "duration": 150,
    "start_time": "2022-10-09T07:35:10.623Z"
   },
   {
    "duration": 96,
    "start_time": "2022-10-09T07:35:10.780Z"
   },
   {
    "duration": 0,
    "start_time": "2022-10-09T07:35:10.878Z"
   },
   {
    "duration": 21,
    "start_time": "2022-10-09T07:35:26.871Z"
   },
   {
    "duration": 19,
    "start_time": "2022-10-09T07:35:40.514Z"
   },
   {
    "duration": 25,
    "start_time": "2022-10-09T07:35:47.479Z"
   },
   {
    "duration": 24,
    "start_time": "2022-10-09T07:36:22.804Z"
   },
   {
    "duration": 23,
    "start_time": "2022-10-09T07:36:35.999Z"
   },
   {
    "duration": 30,
    "start_time": "2022-10-09T07:38:08.146Z"
   },
   {
    "duration": 30,
    "start_time": "2022-10-09T07:38:16.520Z"
   },
   {
    "duration": 76,
    "start_time": "2022-10-09T07:38:25.115Z"
   },
   {
    "duration": 29,
    "start_time": "2022-10-09T07:38:35.357Z"
   },
   {
    "duration": 30,
    "start_time": "2022-10-09T07:39:16.669Z"
   },
   {
    "duration": 25,
    "start_time": "2022-10-09T07:39:24.249Z"
   },
   {
    "duration": 45,
    "start_time": "2022-10-09T07:39:36.084Z"
   },
   {
    "duration": 48,
    "start_time": "2022-10-09T07:40:38.385Z"
   },
   {
    "duration": 57,
    "start_time": "2022-10-09T07:40:44.767Z"
   },
   {
    "duration": 25,
    "start_time": "2022-10-09T07:41:01.567Z"
   },
   {
    "duration": 24,
    "start_time": "2022-10-09T07:41:23.062Z"
   },
   {
    "duration": 24,
    "start_time": "2022-10-09T07:42:08.309Z"
   },
   {
    "duration": 27,
    "start_time": "2022-10-09T07:42:39.376Z"
   },
   {
    "duration": 28,
    "start_time": "2022-10-09T07:43:01.224Z"
   },
   {
    "duration": 91,
    "start_time": "2022-10-09T07:43:26.306Z"
   },
   {
    "duration": 60,
    "start_time": "2022-10-09T07:43:33.246Z"
   },
   {
    "duration": 27,
    "start_time": "2022-10-09T07:44:33.595Z"
   },
   {
    "duration": 29,
    "start_time": "2022-10-09T07:45:01.508Z"
   },
   {
    "duration": 28,
    "start_time": "2022-10-09T07:45:31.329Z"
   },
   {
    "duration": 165,
    "start_time": "2022-10-09T07:52:06.756Z"
   },
   {
    "duration": 332,
    "start_time": "2022-10-09T07:52:41.585Z"
   },
   {
    "duration": 466,
    "start_time": "2022-10-09T07:53:31.291Z"
   },
   {
    "duration": 605,
    "start_time": "2022-10-09T07:54:07.834Z"
   },
   {
    "duration": 803,
    "start_time": "2022-10-09T07:54:34.752Z"
   },
   {
    "duration": 1377,
    "start_time": "2022-10-09T07:56:02.835Z"
   },
   {
    "duration": 33,
    "start_time": "2022-10-09T08:00:11.186Z"
   },
   {
    "duration": 55,
    "start_time": "2022-10-09T08:00:29.965Z"
   },
   {
    "duration": 45,
    "start_time": "2022-10-09T08:02:09.767Z"
   },
   {
    "duration": 19,
    "start_time": "2022-10-09T08:03:02.123Z"
   },
   {
    "duration": 23,
    "start_time": "2022-10-09T08:03:55.372Z"
   },
   {
    "duration": 578,
    "start_time": "2022-10-09T08:04:12.809Z"
   },
   {
    "duration": 15,
    "start_time": "2022-10-09T08:04:13.389Z"
   },
   {
    "duration": 2335,
    "start_time": "2022-10-09T08:04:13.406Z"
   },
   {
    "duration": 31,
    "start_time": "2022-10-09T08:04:15.743Z"
   },
   {
    "duration": 11,
    "start_time": "2022-10-09T08:04:15.776Z"
   },
   {
    "duration": 9,
    "start_time": "2022-10-09T08:04:15.789Z"
   },
   {
    "duration": 12,
    "start_time": "2022-10-09T08:04:15.800Z"
   },
   {
    "duration": 8,
    "start_time": "2022-10-09T08:04:15.813Z"
   },
   {
    "duration": 61,
    "start_time": "2022-10-09T08:04:15.823Z"
   },
   {
    "duration": 9,
    "start_time": "2022-10-09T08:04:15.887Z"
   },
   {
    "duration": 15,
    "start_time": "2022-10-09T08:04:15.897Z"
   },
   {
    "duration": 14,
    "start_time": "2022-10-09T08:04:15.913Z"
   },
   {
    "duration": 9,
    "start_time": "2022-10-09T08:04:15.928Z"
   },
   {
    "duration": 40,
    "start_time": "2022-10-09T08:04:15.939Z"
   },
   {
    "duration": 8,
    "start_time": "2022-10-09T08:04:15.981Z"
   },
   {
    "duration": 19,
    "start_time": "2022-10-09T08:04:15.991Z"
   },
   {
    "duration": 7,
    "start_time": "2022-10-09T08:04:16.012Z"
   },
   {
    "duration": 10,
    "start_time": "2022-10-09T08:04:16.020Z"
   },
   {
    "duration": 17,
    "start_time": "2022-10-09T08:04:16.032Z"
   },
   {
    "duration": 30,
    "start_time": "2022-10-09T08:04:16.051Z"
   },
   {
    "duration": 38,
    "start_time": "2022-10-09T08:04:16.083Z"
   },
   {
    "duration": 7,
    "start_time": "2022-10-09T08:04:16.122Z"
   },
   {
    "duration": 20,
    "start_time": "2022-10-09T08:04:16.131Z"
   },
   {
    "duration": 25,
    "start_time": "2022-10-09T08:04:16.152Z"
   },
   {
    "duration": 8,
    "start_time": "2022-10-09T08:04:16.179Z"
   },
   {
    "duration": 27,
    "start_time": "2022-10-09T08:04:16.189Z"
   },
   {
    "duration": 5,
    "start_time": "2022-10-09T08:04:16.217Z"
   },
   {
    "duration": 52,
    "start_time": "2022-10-09T08:04:16.226Z"
   },
   {
    "duration": 13,
    "start_time": "2022-10-09T08:04:16.279Z"
   },
   {
    "duration": 7,
    "start_time": "2022-10-09T08:04:16.293Z"
   },
   {
    "duration": 14,
    "start_time": "2022-10-09T08:04:16.301Z"
   },
   {
    "duration": 66,
    "start_time": "2022-10-09T08:04:16.316Z"
   },
   {
    "duration": 18,
    "start_time": "2022-10-09T08:04:16.384Z"
   },
   {
    "duration": 15,
    "start_time": "2022-10-09T08:04:16.403Z"
   },
   {
    "duration": 7,
    "start_time": "2022-10-09T08:04:16.420Z"
   },
   {
    "duration": 6,
    "start_time": "2022-10-09T08:04:16.428Z"
   },
   {
    "duration": 53,
    "start_time": "2022-10-09T08:04:16.435Z"
   },
   {
    "duration": 17,
    "start_time": "2022-10-09T08:04:16.490Z"
   },
   {
    "duration": 6,
    "start_time": "2022-10-09T08:04:16.509Z"
   },
   {
    "duration": 17,
    "start_time": "2022-10-09T08:04:16.516Z"
   },
   {
    "duration": 5,
    "start_time": "2022-10-09T08:04:16.534Z"
   },
   {
    "duration": 47,
    "start_time": "2022-10-09T08:04:16.540Z"
   },
   {
    "duration": 20,
    "start_time": "2022-10-09T08:04:16.589Z"
   },
   {
    "duration": 148,
    "start_time": "2022-10-09T08:04:16.611Z"
   },
   {
    "duration": 8,
    "start_time": "2022-10-09T08:04:16.761Z"
   },
   {
    "duration": 33,
    "start_time": "2022-10-09T08:04:16.777Z"
   },
   {
    "duration": 30,
    "start_time": "2022-10-09T08:04:16.812Z"
   },
   {
    "duration": 394,
    "start_time": "2022-10-09T08:04:16.844Z"
   },
   {
    "duration": 27,
    "start_time": "2022-10-09T08:04:17.240Z"
   },
   {
    "duration": 23,
    "start_time": "2022-10-09T08:04:17.277Z"
   },
   {
    "duration": 21,
    "start_time": "2022-10-09T08:04:17.303Z"
   },
   {
    "duration": 52,
    "start_time": "2022-10-09T08:04:17.326Z"
   },
   {
    "duration": 82,
    "start_time": "2022-10-09T08:04:17.380Z"
   },
   {
    "duration": 188,
    "start_time": "2022-10-09T08:04:17.477Z"
   },
   {
    "duration": 216,
    "start_time": "2022-10-09T08:04:17.667Z"
   },
   {
    "duration": 265,
    "start_time": "2022-10-09T08:04:17.885Z"
   },
   {
    "duration": 217,
    "start_time": "2022-10-09T08:04:18.152Z"
   },
   {
    "duration": 163,
    "start_time": "2022-10-09T08:04:18.371Z"
   },
   {
    "duration": 190,
    "start_time": "2022-10-09T08:04:18.537Z"
   },
   {
    "duration": 184,
    "start_time": "2022-10-09T08:04:18.728Z"
   },
   {
    "duration": 172,
    "start_time": "2022-10-09T08:04:18.914Z"
   },
   {
    "duration": 157,
    "start_time": "2022-10-09T08:04:19.088Z"
   },
   {
    "duration": 159,
    "start_time": "2022-10-09T08:04:19.247Z"
   },
   {
    "duration": 141,
    "start_time": "2022-10-09T08:04:19.408Z"
   },
   {
    "duration": 203,
    "start_time": "2022-10-09T08:04:19.551Z"
   },
   {
    "duration": 279,
    "start_time": "2022-10-09T08:04:19.756Z"
   },
   {
    "duration": 219,
    "start_time": "2022-10-09T08:04:20.037Z"
   },
   {
    "duration": 206,
    "start_time": "2022-10-09T08:04:20.258Z"
   },
   {
    "duration": 200,
    "start_time": "2022-10-09T08:04:20.466Z"
   },
   {
    "duration": 148,
    "start_time": "2022-10-09T08:04:20.667Z"
   },
   {
    "duration": 140,
    "start_time": "2022-10-09T08:04:20.817Z"
   },
   {
    "duration": 73,
    "start_time": "2022-10-09T08:04:20.959Z"
   },
   {
    "duration": 172,
    "start_time": "2022-10-09T08:04:21.034Z"
   },
   {
    "duration": 1452,
    "start_time": "2022-10-09T08:04:21.209Z"
   },
   {
    "duration": 34,
    "start_time": "2022-10-09T08:04:22.663Z"
   },
   {
    "duration": 26,
    "start_time": "2022-10-09T08:04:22.699Z"
   },
   {
    "duration": 3,
    "start_time": "2022-10-09T08:04:22.727Z"
   },
   {
    "duration": 17,
    "start_time": "2022-10-09T08:05:56.242Z"
   },
   {
    "duration": 22,
    "start_time": "2022-10-09T08:06:09.991Z"
   },
   {
    "duration": 24,
    "start_time": "2022-10-09T08:06:37.079Z"
   },
   {
    "duration": 13,
    "start_time": "2022-10-09T08:07:23.883Z"
   },
   {
    "duration": 12,
    "start_time": "2022-10-09T08:09:03.847Z"
   },
   {
    "duration": 570,
    "start_time": "2022-10-09T08:09:15.355Z"
   },
   {
    "duration": 14,
    "start_time": "2022-10-09T08:09:15.927Z"
   },
   {
    "duration": 2205,
    "start_time": "2022-10-09T08:09:15.943Z"
   },
   {
    "duration": 31,
    "start_time": "2022-10-09T08:09:18.151Z"
   },
   {
    "duration": 10,
    "start_time": "2022-10-09T08:09:18.183Z"
   },
   {
    "duration": 8,
    "start_time": "2022-10-09T08:09:18.194Z"
   },
   {
    "duration": 9,
    "start_time": "2022-10-09T08:09:18.204Z"
   },
   {
    "duration": 7,
    "start_time": "2022-10-09T08:09:18.214Z"
   },
   {
    "duration": 57,
    "start_time": "2022-10-09T08:09:18.223Z"
   },
   {
    "duration": 8,
    "start_time": "2022-10-09T08:09:18.282Z"
   },
   {
    "duration": 18,
    "start_time": "2022-10-09T08:09:18.291Z"
   },
   {
    "duration": 13,
    "start_time": "2022-10-09T08:09:18.311Z"
   },
   {
    "duration": 7,
    "start_time": "2022-10-09T08:09:18.326Z"
   },
   {
    "duration": 9,
    "start_time": "2022-10-09T08:09:18.335Z"
   },
   {
    "duration": 6,
    "start_time": "2022-10-09T08:09:18.345Z"
   },
   {
    "duration": 14,
    "start_time": "2022-10-09T08:09:18.377Z"
   },
   {
    "duration": 7,
    "start_time": "2022-10-09T08:09:18.392Z"
   },
   {
    "duration": 6,
    "start_time": "2022-10-09T08:09:18.400Z"
   },
   {
    "duration": 12,
    "start_time": "2022-10-09T08:09:18.408Z"
   },
   {
    "duration": 9,
    "start_time": "2022-10-09T08:09:18.421Z"
   },
   {
    "duration": 61,
    "start_time": "2022-10-09T08:09:18.432Z"
   },
   {
    "duration": 7,
    "start_time": "2022-10-09T08:09:18.494Z"
   },
   {
    "duration": 18,
    "start_time": "2022-10-09T08:09:18.502Z"
   },
   {
    "duration": 8,
    "start_time": "2022-10-09T08:09:18.522Z"
   },
   {
    "duration": 9,
    "start_time": "2022-10-09T08:09:18.531Z"
   },
   {
    "duration": 39,
    "start_time": "2022-10-09T08:09:18.541Z"
   },
   {
    "duration": 6,
    "start_time": "2022-10-09T08:09:18.581Z"
   },
   {
    "duration": 46,
    "start_time": "2022-10-09T08:09:18.592Z"
   },
   {
    "duration": 11,
    "start_time": "2022-10-09T08:09:18.640Z"
   },
   {
    "duration": 25,
    "start_time": "2022-10-09T08:09:18.653Z"
   },
   {
    "duration": 17,
    "start_time": "2022-10-09T08:09:18.679Z"
   },
   {
    "duration": 36,
    "start_time": "2022-10-09T08:09:18.698Z"
   },
   {
    "duration": 15,
    "start_time": "2022-10-09T08:09:18.735Z"
   },
   {
    "duration": 39,
    "start_time": "2022-10-09T08:09:18.751Z"
   },
   {
    "duration": 8,
    "start_time": "2022-10-09T08:09:18.792Z"
   },
   {
    "duration": 10,
    "start_time": "2022-10-09T08:09:18.801Z"
   },
   {
    "duration": 19,
    "start_time": "2022-10-09T08:09:18.813Z"
   },
   {
    "duration": 11,
    "start_time": "2022-10-09T08:09:18.833Z"
   },
   {
    "duration": 31,
    "start_time": "2022-10-09T08:09:18.846Z"
   },
   {
    "duration": 12,
    "start_time": "2022-10-09T08:09:18.879Z"
   },
   {
    "duration": 5,
    "start_time": "2022-10-09T08:09:18.892Z"
   },
   {
    "duration": 19,
    "start_time": "2022-10-09T08:09:18.899Z"
   },
   {
    "duration": 18,
    "start_time": "2022-10-09T08:09:18.920Z"
   },
   {
    "duration": 152,
    "start_time": "2022-10-09T08:09:18.940Z"
   },
   {
    "duration": 5,
    "start_time": "2022-10-09T08:09:19.093Z"
   },
   {
    "duration": 33,
    "start_time": "2022-10-09T08:09:19.100Z"
   },
   {
    "duration": 54,
    "start_time": "2022-10-09T08:09:19.134Z"
   },
   {
    "duration": 352,
    "start_time": "2022-10-09T08:09:19.190Z"
   },
   {
    "duration": 24,
    "start_time": "2022-10-09T08:09:19.544Z"
   },
   {
    "duration": 14,
    "start_time": "2022-10-09T08:09:19.577Z"
   },
   {
    "duration": 12,
    "start_time": "2022-10-09T08:09:19.592Z"
   },
   {
    "duration": 17,
    "start_time": "2022-10-09T08:09:19.606Z"
   },
   {
    "duration": 83,
    "start_time": "2022-10-09T08:09:19.625Z"
   },
   {
    "duration": 186,
    "start_time": "2022-10-09T08:09:19.710Z"
   },
   {
    "duration": 203,
    "start_time": "2022-10-09T08:09:19.898Z"
   },
   {
    "duration": 255,
    "start_time": "2022-10-09T08:09:20.102Z"
   },
   {
    "duration": 202,
    "start_time": "2022-10-09T08:09:20.359Z"
   },
   {
    "duration": 145,
    "start_time": "2022-10-09T08:09:20.563Z"
   },
   {
    "duration": 158,
    "start_time": "2022-10-09T08:09:20.710Z"
   },
   {
    "duration": 161,
    "start_time": "2022-10-09T08:09:20.876Z"
   },
   {
    "duration": 157,
    "start_time": "2022-10-09T08:09:21.039Z"
   },
   {
    "duration": 166,
    "start_time": "2022-10-09T08:09:21.198Z"
   },
   {
    "duration": 161,
    "start_time": "2022-10-09T08:09:21.366Z"
   },
   {
    "duration": 140,
    "start_time": "2022-10-09T08:09:21.528Z"
   },
   {
    "duration": 216,
    "start_time": "2022-10-09T08:09:21.669Z"
   },
   {
    "duration": 281,
    "start_time": "2022-10-09T08:09:21.887Z"
   },
   {
    "duration": 200,
    "start_time": "2022-10-09T08:09:22.170Z"
   },
   {
    "duration": 207,
    "start_time": "2022-10-09T08:09:22.377Z"
   },
   {
    "duration": 190,
    "start_time": "2022-10-09T08:09:22.586Z"
   },
   {
    "duration": 146,
    "start_time": "2022-10-09T08:09:22.778Z"
   },
   {
    "duration": 140,
    "start_time": "2022-10-09T08:09:22.925Z"
   },
   {
    "duration": 58,
    "start_time": "2022-10-09T08:09:23.067Z"
   },
   {
    "duration": 178,
    "start_time": "2022-10-09T08:09:23.127Z"
   },
   {
    "duration": 1440,
    "start_time": "2022-10-09T08:09:23.307Z"
   },
   {
    "duration": 39,
    "start_time": "2022-10-09T08:09:24.749Z"
   },
   {
    "duration": 18,
    "start_time": "2022-10-09T08:09:24.790Z"
   },
   {
    "duration": 3,
    "start_time": "2022-10-09T08:09:24.809Z"
   },
   {
    "duration": 46,
    "start_time": "2022-10-09T08:12:47.881Z"
   },
   {
    "duration": 20,
    "start_time": "2022-10-09T08:14:06.459Z"
   },
   {
    "duration": 13,
    "start_time": "2022-10-09T08:14:52.402Z"
   },
   {
    "duration": 12,
    "start_time": "2022-10-09T08:15:13.161Z"
   },
   {
    "duration": 13,
    "start_time": "2022-10-09T08:15:24.113Z"
   },
   {
    "duration": 11,
    "start_time": "2022-10-09T08:15:43.989Z"
   },
   {
    "duration": 5,
    "start_time": "2022-10-09T08:15:49.790Z"
   },
   {
    "duration": 38,
    "start_time": "2022-10-09T08:17:58.346Z"
   },
   {
    "duration": 50,
    "start_time": "2022-10-09T08:18:11.344Z"
   },
   {
    "duration": 11,
    "start_time": "2022-10-09T08:19:16.502Z"
   },
   {
    "duration": 5,
    "start_time": "2022-10-09T08:19:20.251Z"
   },
   {
    "duration": 57,
    "start_time": "2022-10-09T08:19:25.426Z"
   },
   {
    "duration": 20,
    "start_time": "2022-10-09T08:20:43.699Z"
   },
   {
    "duration": 6,
    "start_time": "2022-10-09T08:20:45.712Z"
   },
   {
    "duration": 52,
    "start_time": "2022-10-09T08:20:47.391Z"
   },
   {
    "duration": 14,
    "start_time": "2022-10-09T08:21:17.092Z"
   },
   {
    "duration": 77,
    "start_time": "2022-10-09T08:21:29.473Z"
   },
   {
    "duration": 76,
    "start_time": "2022-10-09T08:22:10.749Z"
   },
   {
    "duration": 12,
    "start_time": "2022-10-09T08:22:21.881Z"
   },
   {
    "duration": 17,
    "start_time": "2022-10-09T08:24:35.073Z"
   },
   {
    "duration": 6,
    "start_time": "2022-10-09T08:24:38.436Z"
   },
   {
    "duration": 10,
    "start_time": "2022-10-09T08:24:53.595Z"
   },
   {
    "duration": 6,
    "start_time": "2022-10-09T08:24:54.525Z"
   },
   {
    "duration": 79,
    "start_time": "2022-10-09T08:24:55.384Z"
   },
   {
    "duration": 10,
    "start_time": "2022-10-09T08:25:48.852Z"
   },
   {
    "duration": 5,
    "start_time": "2022-10-09T08:25:49.679Z"
   },
   {
    "duration": 81,
    "start_time": "2022-10-09T08:25:53.820Z"
   },
   {
    "duration": 22,
    "start_time": "2022-10-09T08:34:23.141Z"
   },
   {
    "duration": 574,
    "start_time": "2022-10-09T08:35:37.786Z"
   },
   {
    "duration": 20,
    "start_time": "2022-10-09T08:35:38.362Z"
   },
   {
    "duration": 2228,
    "start_time": "2022-10-09T08:35:38.384Z"
   },
   {
    "duration": 31,
    "start_time": "2022-10-09T08:35:40.614Z"
   },
   {
    "duration": 9,
    "start_time": "2022-10-09T08:35:40.647Z"
   },
   {
    "duration": 27,
    "start_time": "2022-10-09T08:35:40.658Z"
   },
   {
    "duration": 11,
    "start_time": "2022-10-09T08:35:40.686Z"
   },
   {
    "duration": 7,
    "start_time": "2022-10-09T08:35:40.699Z"
   },
   {
    "duration": 31,
    "start_time": "2022-10-09T08:35:40.708Z"
   },
   {
    "duration": 7,
    "start_time": "2022-10-09T08:35:40.742Z"
   },
   {
    "duration": 10,
    "start_time": "2022-10-09T08:35:40.777Z"
   },
   {
    "duration": 8,
    "start_time": "2022-10-09T08:35:40.789Z"
   },
   {
    "duration": 8,
    "start_time": "2022-10-09T08:35:40.798Z"
   },
   {
    "duration": 14,
    "start_time": "2022-10-09T08:35:40.807Z"
   },
   {
    "duration": 7,
    "start_time": "2022-10-09T08:35:40.823Z"
   },
   {
    "duration": 52,
    "start_time": "2022-10-09T08:35:40.832Z"
   },
   {
    "duration": 8,
    "start_time": "2022-10-09T08:35:40.886Z"
   },
   {
    "duration": 4,
    "start_time": "2022-10-09T08:35:40.896Z"
   },
   {
    "duration": 9,
    "start_time": "2022-10-09T08:35:40.902Z"
   },
   {
    "duration": 9,
    "start_time": "2022-10-09T08:35:40.912Z"
   },
   {
    "duration": 65,
    "start_time": "2022-10-09T08:35:40.923Z"
   },
   {
    "duration": 7,
    "start_time": "2022-10-09T08:35:40.990Z"
   },
   {
    "duration": 16,
    "start_time": "2022-10-09T08:35:40.999Z"
   },
   {
    "duration": 10,
    "start_time": "2022-10-09T08:35:41.017Z"
   },
   {
    "duration": 7,
    "start_time": "2022-10-09T08:35:41.028Z"
   },
   {
    "duration": 45,
    "start_time": "2022-10-09T08:35:41.036Z"
   },
   {
    "duration": 5,
    "start_time": "2022-10-09T08:35:41.083Z"
   },
   {
    "duration": 37,
    "start_time": "2022-10-09T08:35:41.092Z"
   },
   {
    "duration": 11,
    "start_time": "2022-10-09T08:35:41.130Z"
   },
   {
    "duration": 3,
    "start_time": "2022-10-09T08:35:41.143Z"
   },
   {
    "duration": 11,
    "start_time": "2022-10-09T08:35:41.177Z"
   },
   {
    "duration": 35,
    "start_time": "2022-10-09T08:35:41.190Z"
   },
   {
    "duration": 14,
    "start_time": "2022-10-09T08:35:41.226Z"
   },
   {
    "duration": 40,
    "start_time": "2022-10-09T08:35:41.242Z"
   },
   {
    "duration": 8,
    "start_time": "2022-10-09T08:35:41.283Z"
   },
   {
    "duration": 9,
    "start_time": "2022-10-09T08:35:41.293Z"
   },
   {
    "duration": 17,
    "start_time": "2022-10-09T08:35:41.304Z"
   },
   {
    "duration": 11,
    "start_time": "2022-10-09T08:35:41.322Z"
   },
   {
    "duration": 4,
    "start_time": "2022-10-09T08:35:41.335Z"
   },
   {
    "duration": 41,
    "start_time": "2022-10-09T08:35:41.341Z"
   },
   {
    "duration": 4,
    "start_time": "2022-10-09T08:35:41.384Z"
   },
   {
    "duration": 15,
    "start_time": "2022-10-09T08:35:41.390Z"
   },
   {
    "duration": 17,
    "start_time": "2022-10-09T08:35:41.407Z"
   },
   {
    "duration": 138,
    "start_time": "2022-10-09T08:35:41.426Z"
   },
   {
    "duration": 12,
    "start_time": "2022-10-09T08:35:41.566Z"
   },
   {
    "duration": 35,
    "start_time": "2022-10-09T08:35:41.579Z"
   },
   {
    "duration": 33,
    "start_time": "2022-10-09T08:35:41.616Z"
   },
   {
    "duration": 370,
    "start_time": "2022-10-09T08:35:41.651Z"
   },
   {
    "duration": 27,
    "start_time": "2022-10-09T08:35:42.023Z"
   },
   {
    "duration": 29,
    "start_time": "2022-10-09T08:35:42.051Z"
   },
   {
    "duration": 14,
    "start_time": "2022-10-09T08:35:42.082Z"
   },
   {
    "duration": 19,
    "start_time": "2022-10-09T08:35:42.098Z"
   },
   {
    "duration": 83,
    "start_time": "2022-10-09T08:35:42.119Z"
   },
   {
    "duration": 196,
    "start_time": "2022-10-09T08:35:42.204Z"
   },
   {
    "duration": 216,
    "start_time": "2022-10-09T08:35:42.402Z"
   },
   {
    "duration": 274,
    "start_time": "2022-10-09T08:35:42.620Z"
   },
   {
    "duration": 212,
    "start_time": "2022-10-09T08:35:42.896Z"
   },
   {
    "duration": 160,
    "start_time": "2022-10-09T08:35:43.110Z"
   },
   {
    "duration": 176,
    "start_time": "2022-10-09T08:35:43.271Z"
   },
   {
    "duration": 176,
    "start_time": "2022-10-09T08:35:43.449Z"
   },
   {
    "duration": 163,
    "start_time": "2022-10-09T08:35:43.627Z"
   },
   {
    "duration": 150,
    "start_time": "2022-10-09T08:35:43.791Z"
   },
   {
    "duration": 161,
    "start_time": "2022-10-09T08:35:43.943Z"
   },
   {
    "duration": 135,
    "start_time": "2022-10-09T08:35:44.105Z"
   },
   {
    "duration": 200,
    "start_time": "2022-10-09T08:35:44.242Z"
   },
   {
    "duration": 278,
    "start_time": "2022-10-09T08:35:44.444Z"
   },
   {
    "duration": 193,
    "start_time": "2022-10-09T08:35:44.724Z"
   },
   {
    "duration": 177,
    "start_time": "2022-10-09T08:35:44.918Z"
   },
   {
    "duration": 211,
    "start_time": "2022-10-09T08:35:45.098Z"
   },
   {
    "duration": 176,
    "start_time": "2022-10-09T08:35:45.311Z"
   },
   {
    "duration": 127,
    "start_time": "2022-10-09T08:35:45.489Z"
   },
   {
    "duration": 63,
    "start_time": "2022-10-09T08:35:45.618Z"
   },
   {
    "duration": 156,
    "start_time": "2022-10-09T08:35:45.683Z"
   },
   {
    "duration": 1349,
    "start_time": "2022-10-09T08:35:45.841Z"
   },
   {
    "duration": 31,
    "start_time": "2022-10-09T08:35:47.192Z"
   },
   {
    "duration": 97,
    "start_time": "2022-10-09T08:35:47.225Z"
   },
   {
    "duration": 0,
    "start_time": "2022-10-09T08:35:47.323Z"
   },
   {
    "duration": 28,
    "start_time": "2022-10-09T08:38:24.983Z"
   },
   {
    "duration": 23,
    "start_time": "2022-10-09T08:38:32.317Z"
   },
   {
    "duration": 27,
    "start_time": "2022-10-09T08:39:07.292Z"
   },
   {
    "duration": 20,
    "start_time": "2022-10-09T08:39:50.474Z"
   },
   {
    "duration": 20,
    "start_time": "2022-10-09T08:44:02.212Z"
   },
   {
    "duration": 14,
    "start_time": "2022-10-09T08:44:53.400Z"
   },
   {
    "duration": 21,
    "start_time": "2022-10-09T08:44:57.957Z"
   },
   {
    "duration": 20,
    "start_time": "2022-10-09T08:45:04.891Z"
   },
   {
    "duration": 871,
    "start_time": "2022-10-09T08:46:12.258Z"
   },
   {
    "duration": 765,
    "start_time": "2022-10-09T08:46:36.202Z"
   },
   {
    "duration": 21,
    "start_time": "2022-10-09T08:46:44.328Z"
   },
   {
    "duration": 21,
    "start_time": "2022-10-09T08:50:15.970Z"
   },
   {
    "duration": 32,
    "start_time": "2022-10-09T08:50:24.436Z"
   },
   {
    "duration": 22,
    "start_time": "2022-10-09T08:50:36.037Z"
   },
   {
    "duration": 114,
    "start_time": "2022-10-09T08:52:46.366Z"
   },
   {
    "duration": 22,
    "start_time": "2022-10-09T08:53:25.871Z"
   },
   {
    "duration": 49,
    "start_time": "2022-10-09T08:53:43.841Z"
   },
   {
    "duration": 4,
    "start_time": "2022-10-09T08:53:48.044Z"
   },
   {
    "duration": 4,
    "start_time": "2022-10-09T08:53:59.468Z"
   },
   {
    "duration": 21,
    "start_time": "2022-10-09T08:54:12.938Z"
   },
   {
    "duration": 15,
    "start_time": "2022-10-09T08:54:50.423Z"
   },
   {
    "duration": 625,
    "start_time": "2022-10-09T08:55:24.679Z"
   },
   {
    "duration": 22,
    "start_time": "2022-10-09T08:55:25.306Z"
   },
   {
    "duration": 2371,
    "start_time": "2022-10-09T08:55:25.330Z"
   },
   {
    "duration": 31,
    "start_time": "2022-10-09T08:55:27.704Z"
   },
   {
    "duration": 9,
    "start_time": "2022-10-09T08:55:27.737Z"
   },
   {
    "duration": 7,
    "start_time": "2022-10-09T08:55:27.748Z"
   },
   {
    "duration": 24,
    "start_time": "2022-10-09T08:55:27.756Z"
   },
   {
    "duration": 8,
    "start_time": "2022-10-09T08:55:27.782Z"
   },
   {
    "duration": 32,
    "start_time": "2022-10-09T08:55:27.792Z"
   },
   {
    "duration": 8,
    "start_time": "2022-10-09T08:55:27.826Z"
   },
   {
    "duration": 43,
    "start_time": "2022-10-09T08:55:27.836Z"
   },
   {
    "duration": 12,
    "start_time": "2022-10-09T08:55:27.881Z"
   },
   {
    "duration": 8,
    "start_time": "2022-10-09T08:55:27.894Z"
   },
   {
    "duration": 9,
    "start_time": "2022-10-09T08:55:27.903Z"
   },
   {
    "duration": 6,
    "start_time": "2022-10-09T08:55:27.913Z"
   },
   {
    "duration": 14,
    "start_time": "2022-10-09T08:55:27.920Z"
   },
   {
    "duration": 8,
    "start_time": "2022-10-09T08:55:27.977Z"
   },
   {
    "duration": 7,
    "start_time": "2022-10-09T08:55:27.986Z"
   },
   {
    "duration": 9,
    "start_time": "2022-10-09T08:55:27.994Z"
   },
   {
    "duration": 9,
    "start_time": "2022-10-09T08:55:28.004Z"
   },
   {
    "duration": 74,
    "start_time": "2022-10-09T08:55:28.014Z"
   },
   {
    "duration": 7,
    "start_time": "2022-10-09T08:55:28.090Z"
   },
   {
    "duration": 15,
    "start_time": "2022-10-09T08:55:28.099Z"
   },
   {
    "duration": 8,
    "start_time": "2022-10-09T08:55:28.115Z"
   },
   {
    "duration": 6,
    "start_time": "2022-10-09T08:55:28.125Z"
   },
   {
    "duration": 13,
    "start_time": "2022-10-09T08:55:28.132Z"
   },
   {
    "duration": 32,
    "start_time": "2022-10-09T08:55:28.147Z"
   },
   {
    "duration": 41,
    "start_time": "2022-10-09T08:55:28.183Z"
   },
   {
    "duration": 12,
    "start_time": "2022-10-09T08:55:28.225Z"
   },
   {
    "duration": 5,
    "start_time": "2022-10-09T08:55:28.239Z"
   },
   {
    "duration": 42,
    "start_time": "2022-10-09T08:55:28.245Z"
   },
   {
    "duration": 42,
    "start_time": "2022-10-09T08:55:28.289Z"
   },
   {
    "duration": 16,
    "start_time": "2022-10-09T08:55:28.333Z"
   },
   {
    "duration": 49,
    "start_time": "2022-10-09T08:55:28.350Z"
   },
   {
    "duration": 10,
    "start_time": "2022-10-09T08:55:28.401Z"
   },
   {
    "duration": 6,
    "start_time": "2022-10-09T08:55:28.412Z"
   },
   {
    "duration": 19,
    "start_time": "2022-10-09T08:55:28.420Z"
   },
   {
    "duration": 37,
    "start_time": "2022-10-09T08:55:28.441Z"
   },
   {
    "duration": 6,
    "start_time": "2022-10-09T08:55:28.479Z"
   },
   {
    "duration": 14,
    "start_time": "2022-10-09T08:55:28.486Z"
   },
   {
    "duration": 5,
    "start_time": "2022-10-09T08:55:28.501Z"
   },
   {
    "duration": 17,
    "start_time": "2022-10-09T08:55:28.508Z"
   },
   {
    "duration": 58,
    "start_time": "2022-10-09T08:55:28.527Z"
   },
   {
    "duration": 131,
    "start_time": "2022-10-09T08:55:28.588Z"
   },
   {
    "duration": 4,
    "start_time": "2022-10-09T08:55:28.721Z"
   },
   {
    "duration": 31,
    "start_time": "2022-10-09T08:55:28.726Z"
   },
   {
    "duration": 44,
    "start_time": "2022-10-09T08:55:28.759Z"
   },
   {
    "duration": 356,
    "start_time": "2022-10-09T08:55:28.805Z"
   },
   {
    "duration": 35,
    "start_time": "2022-10-09T08:55:29.162Z"
   },
   {
    "duration": 14,
    "start_time": "2022-10-09T08:55:29.199Z"
   },
   {
    "duration": 13,
    "start_time": "2022-10-09T08:55:29.215Z"
   },
   {
    "duration": 19,
    "start_time": "2022-10-09T08:55:29.229Z"
   },
   {
    "duration": 82,
    "start_time": "2022-10-09T08:55:29.250Z"
   },
   {
    "duration": 202,
    "start_time": "2022-10-09T08:55:29.334Z"
   },
   {
    "duration": 205,
    "start_time": "2022-10-09T08:55:29.538Z"
   },
   {
    "duration": 274,
    "start_time": "2022-10-09T08:55:29.745Z"
   },
   {
    "duration": 203,
    "start_time": "2022-10-09T08:55:30.021Z"
   },
   {
    "duration": 154,
    "start_time": "2022-10-09T08:55:30.226Z"
   },
   {
    "duration": 186,
    "start_time": "2022-10-09T08:55:30.382Z"
   },
   {
    "duration": 181,
    "start_time": "2022-10-09T08:55:30.570Z"
   },
   {
    "duration": 161,
    "start_time": "2022-10-09T08:55:30.752Z"
   },
   {
    "duration": 150,
    "start_time": "2022-10-09T08:55:30.915Z"
   },
   {
    "duration": 167,
    "start_time": "2022-10-09T08:55:31.067Z"
   },
   {
    "duration": 143,
    "start_time": "2022-10-09T08:55:31.235Z"
   },
   {
    "duration": 212,
    "start_time": "2022-10-09T08:55:31.380Z"
   },
   {
    "duration": 283,
    "start_time": "2022-10-09T08:55:31.594Z"
   },
   {
    "duration": 199,
    "start_time": "2022-10-09T08:55:31.879Z"
   },
   {
    "duration": 193,
    "start_time": "2022-10-09T08:55:32.080Z"
   },
   {
    "duration": 186,
    "start_time": "2022-10-09T08:55:32.277Z"
   },
   {
    "duration": 151,
    "start_time": "2022-10-09T08:55:32.464Z"
   },
   {
    "duration": 145,
    "start_time": "2022-10-09T08:55:32.617Z"
   },
   {
    "duration": 58,
    "start_time": "2022-10-09T08:55:32.765Z"
   },
   {
    "duration": 168,
    "start_time": "2022-10-09T08:55:32.825Z"
   },
   {
    "duration": 1346,
    "start_time": "2022-10-09T08:55:32.994Z"
   },
   {
    "duration": 37,
    "start_time": "2022-10-09T08:55:34.342Z"
   },
   {
    "duration": 26,
    "start_time": "2022-10-09T08:55:34.381Z"
   },
   {
    "duration": 21,
    "start_time": "2022-10-09T08:55:34.409Z"
   },
   {
    "duration": 3,
    "start_time": "2022-10-09T08:55:34.432Z"
   },
   {
    "duration": 17,
    "start_time": "2022-10-09T08:56:20.199Z"
   },
   {
    "duration": 563,
    "start_time": "2022-10-09T08:56:48.372Z"
   },
   {
    "duration": 15,
    "start_time": "2022-10-09T08:56:48.937Z"
   },
   {
    "duration": 2190,
    "start_time": "2022-10-09T08:56:48.954Z"
   },
   {
    "duration": 30,
    "start_time": "2022-10-09T08:56:51.147Z"
   },
   {
    "duration": 9,
    "start_time": "2022-10-09T08:56:51.179Z"
   },
   {
    "duration": 7,
    "start_time": "2022-10-09T08:56:51.190Z"
   },
   {
    "duration": 9,
    "start_time": "2022-10-09T08:56:51.198Z"
   },
   {
    "duration": 8,
    "start_time": "2022-10-09T08:56:51.209Z"
   },
   {
    "duration": 60,
    "start_time": "2022-10-09T08:56:51.218Z"
   },
   {
    "duration": 9,
    "start_time": "2022-10-09T08:56:51.280Z"
   },
   {
    "duration": 10,
    "start_time": "2022-10-09T08:56:51.290Z"
   },
   {
    "duration": 13,
    "start_time": "2022-10-09T08:56:51.301Z"
   },
   {
    "duration": 9,
    "start_time": "2022-10-09T08:56:51.315Z"
   },
   {
    "duration": 9,
    "start_time": "2022-10-09T08:56:51.325Z"
   },
   {
    "duration": 42,
    "start_time": "2022-10-09T08:56:51.335Z"
   },
   {
    "duration": 16,
    "start_time": "2022-10-09T08:56:51.378Z"
   },
   {
    "duration": 8,
    "start_time": "2022-10-09T08:56:51.396Z"
   },
   {
    "duration": 7,
    "start_time": "2022-10-09T08:56:51.405Z"
   },
   {
    "duration": 13,
    "start_time": "2022-10-09T08:56:51.413Z"
   },
   {
    "duration": 10,
    "start_time": "2022-10-09T08:56:51.428Z"
   },
   {
    "duration": 69,
    "start_time": "2022-10-09T08:56:51.439Z"
   },
   {
    "duration": 6,
    "start_time": "2022-10-09T08:56:51.510Z"
   },
   {
    "duration": 16,
    "start_time": "2022-10-09T08:56:51.518Z"
   },
   {
    "duration": 9,
    "start_time": "2022-10-09T08:56:51.536Z"
   },
   {
    "duration": 32,
    "start_time": "2022-10-09T08:56:51.547Z"
   },
   {
    "duration": 12,
    "start_time": "2022-10-09T08:56:51.581Z"
   },
   {
    "duration": 5,
    "start_time": "2022-10-09T08:56:51.595Z"
   },
   {
    "duration": 40,
    "start_time": "2022-10-09T08:56:51.605Z"
   },
   {
    "duration": 14,
    "start_time": "2022-10-09T08:56:51.677Z"
   },
   {
    "duration": 5,
    "start_time": "2022-10-09T08:56:51.693Z"
   },
   {
    "duration": 11,
    "start_time": "2022-10-09T08:56:51.700Z"
   },
   {
    "duration": 65,
    "start_time": "2022-10-09T08:56:51.713Z"
   },
   {
    "duration": 15,
    "start_time": "2022-10-09T08:56:51.779Z"
   },
   {
    "duration": 15,
    "start_time": "2022-10-09T08:56:51.796Z"
   },
   {
    "duration": 8,
    "start_time": "2022-10-09T08:56:51.812Z"
   },
   {
    "duration": 6,
    "start_time": "2022-10-09T08:56:51.821Z"
   },
   {
    "duration": 49,
    "start_time": "2022-10-09T08:56:51.828Z"
   },
   {
    "duration": 12,
    "start_time": "2022-10-09T08:56:51.878Z"
   },
   {
    "duration": 4,
    "start_time": "2022-10-09T08:56:51.892Z"
   },
   {
    "duration": 12,
    "start_time": "2022-10-09T08:56:51.897Z"
   },
   {
    "duration": 4,
    "start_time": "2022-10-09T08:56:51.911Z"
   },
   {
    "duration": 16,
    "start_time": "2022-10-09T08:56:51.917Z"
   },
   {
    "duration": 56,
    "start_time": "2022-10-09T08:56:51.935Z"
   },
   {
    "duration": 119,
    "start_time": "2022-10-09T08:56:51.992Z"
   },
   {
    "duration": 5,
    "start_time": "2022-10-09T08:56:52.113Z"
   },
   {
    "duration": 30,
    "start_time": "2022-10-09T08:56:52.120Z"
   },
   {
    "duration": 51,
    "start_time": "2022-10-09T08:56:52.152Z"
   },
   {
    "duration": 345,
    "start_time": "2022-10-09T08:56:52.205Z"
   },
   {
    "duration": 36,
    "start_time": "2022-10-09T08:56:52.552Z"
   },
   {
    "duration": 14,
    "start_time": "2022-10-09T08:56:52.590Z"
   },
   {
    "duration": 16,
    "start_time": "2022-10-09T08:56:52.606Z"
   },
   {
    "duration": 18,
    "start_time": "2022-10-09T08:56:52.624Z"
   },
   {
    "duration": 81,
    "start_time": "2022-10-09T08:56:52.644Z"
   },
   {
    "duration": 183,
    "start_time": "2022-10-09T08:56:52.726Z"
   },
   {
    "duration": 201,
    "start_time": "2022-10-09T08:56:52.911Z"
   },
   {
    "duration": 264,
    "start_time": "2022-10-09T08:56:53.114Z"
   },
   {
    "duration": 202,
    "start_time": "2022-10-09T08:56:53.380Z"
   },
   {
    "duration": 152,
    "start_time": "2022-10-09T08:56:53.584Z"
   },
   {
    "duration": 161,
    "start_time": "2022-10-09T08:56:53.738Z"
   },
   {
    "duration": 172,
    "start_time": "2022-10-09T08:56:53.901Z"
   },
   {
    "duration": 163,
    "start_time": "2022-10-09T08:56:54.077Z"
   },
   {
    "duration": 152,
    "start_time": "2022-10-09T08:56:54.242Z"
   },
   {
    "duration": 163,
    "start_time": "2022-10-09T08:56:54.396Z"
   },
   {
    "duration": 138,
    "start_time": "2022-10-09T08:56:54.561Z"
   },
   {
    "duration": 190,
    "start_time": "2022-10-09T08:56:54.701Z"
   },
   {
    "duration": 291,
    "start_time": "2022-10-09T08:56:54.892Z"
   },
   {
    "duration": 271,
    "start_time": "2022-10-09T08:56:55.186Z"
   },
   {
    "duration": 187,
    "start_time": "2022-10-09T08:56:55.459Z"
   },
   {
    "duration": 211,
    "start_time": "2022-10-09T08:56:55.648Z"
   },
   {
    "duration": 145,
    "start_time": "2022-10-09T08:56:55.861Z"
   },
   {
    "duration": 135,
    "start_time": "2022-10-09T08:56:56.008Z"
   },
   {
    "duration": 66,
    "start_time": "2022-10-09T08:56:56.144Z"
   },
   {
    "duration": 182,
    "start_time": "2022-10-09T08:56:56.212Z"
   },
   {
    "duration": 1424,
    "start_time": "2022-10-09T08:56:56.396Z"
   },
   {
    "duration": 28,
    "start_time": "2022-10-09T08:56:57.822Z"
   },
   {
    "duration": 35,
    "start_time": "2022-10-09T08:56:57.852Z"
   },
   {
    "duration": 20,
    "start_time": "2022-10-09T08:56:57.889Z"
   },
   {
    "duration": 3,
    "start_time": "2022-10-09T08:56:57.911Z"
   },
   {
    "duration": 20,
    "start_time": "2022-10-09T08:57:37.512Z"
   },
   {
    "duration": 1296,
    "start_time": "2022-10-09T10:24:28.411Z"
   },
   {
    "duration": 151,
    "start_time": "2022-10-09T10:24:43.763Z"
   },
   {
    "duration": 23,
    "start_time": "2022-10-09T10:24:44.270Z"
   },
   {
    "duration": 2208,
    "start_time": "2022-10-09T10:24:44.937Z"
   },
   {
    "duration": 28,
    "start_time": "2022-10-09T10:24:49.938Z"
   },
   {
    "duration": 9,
    "start_time": "2022-10-09T10:24:51.505Z"
   },
   {
    "duration": 8,
    "start_time": "2022-10-09T10:24:52.841Z"
   },
   {
    "duration": 9,
    "start_time": "2022-10-09T10:24:57.714Z"
   },
   {
    "duration": 8,
    "start_time": "2022-10-09T10:24:59.108Z"
   },
   {
    "duration": 8,
    "start_time": "2022-10-09T10:25:00.654Z"
   },
   {
    "duration": 8,
    "start_time": "2022-10-09T10:25:02.036Z"
   },
   {
    "duration": 39,
    "start_time": "2022-10-09T10:25:06.052Z"
   },
   {
    "duration": 10,
    "start_time": "2022-10-09T10:25:09.619Z"
   },
   {
    "duration": 10,
    "start_time": "2022-10-09T10:25:13.904Z"
   },
   {
    "duration": 11,
    "start_time": "2022-10-09T10:25:15.343Z"
   },
   {
    "duration": 11,
    "start_time": "2022-10-09T10:25:19.193Z"
   },
   {
    "duration": 11,
    "start_time": "2022-10-09T10:25:21.417Z"
   },
   {
    "duration": 11,
    "start_time": "2022-10-09T10:25:23.525Z"
   },
   {
    "duration": 9,
    "start_time": "2022-10-09T10:25:24.761Z"
   },
   {
    "duration": 172,
    "start_time": "2022-10-09T10:25:25.839Z"
   },
   {
    "duration": 7,
    "start_time": "2022-10-09T10:25:28.346Z"
   },
   {
    "duration": 5,
    "start_time": "2022-10-09T10:25:32.499Z"
   },
   {
    "duration": 10,
    "start_time": "2022-10-09T10:25:33.385Z"
   },
   {
    "duration": 8,
    "start_time": "2022-10-09T10:25:36.318Z"
   },
   {
    "duration": 43,
    "start_time": "2022-10-09T10:25:39.456Z"
   },
   {
    "duration": 8,
    "start_time": "2022-10-09T10:25:42.851Z"
   },
   {
    "duration": 24,
    "start_time": "2022-10-09T10:25:43.374Z"
   },
   {
    "duration": 9,
    "start_time": "2022-10-09T10:25:44.422Z"
   },
   {
    "duration": 9,
    "start_time": "2022-10-09T10:25:49.298Z"
   },
   {
    "duration": 13,
    "start_time": "2022-10-09T10:25:53.345Z"
   },
   {
    "duration": 5,
    "start_time": "2022-10-09T10:25:54.928Z"
   },
   {
    "duration": 41,
    "start_time": "2022-10-09T10:25:58.203Z"
   },
   {
    "duration": 18,
    "start_time": "2022-10-09T10:26:03.472Z"
   },
   {
    "duration": 5,
    "start_time": "2022-10-09T10:26:06.031Z"
   },
   {
    "duration": 11,
    "start_time": "2022-10-09T10:26:08.523Z"
   },
   {
    "duration": 39,
    "start_time": "2022-10-09T10:26:10.592Z"
   },
   {
    "duration": 18,
    "start_time": "2022-10-09T10:26:15.142Z"
   },
   {
    "duration": 16,
    "start_time": "2022-10-09T10:26:19.727Z"
   },
   {
    "duration": 10,
    "start_time": "2022-10-09T10:26:23.644Z"
   },
   {
    "duration": 7,
    "start_time": "2022-10-09T10:26:24.962Z"
   },
   {
    "duration": 16,
    "start_time": "2022-10-09T10:26:29.233Z"
   },
   {
    "duration": 12,
    "start_time": "2022-10-09T10:26:32.226Z"
   },
   {
    "duration": 6,
    "start_time": "2022-10-09T10:26:35.250Z"
   },
   {
    "duration": 18,
    "start_time": "2022-10-09T10:26:35.776Z"
   },
   {
    "duration": 6,
    "start_time": "2022-10-09T10:26:39.138Z"
   },
   {
    "duration": 18,
    "start_time": "2022-10-09T10:26:40.556Z"
   },
   {
    "duration": 21,
    "start_time": "2022-10-09T10:26:42.740Z"
   },
   {
    "duration": 124,
    "start_time": "2022-10-09T10:26:47.596Z"
   },
   {
    "duration": 8,
    "start_time": "2022-10-09T10:26:48.980Z"
   },
   {
    "duration": 30,
    "start_time": "2022-10-09T10:26:52.140Z"
   },
   {
    "duration": 31,
    "start_time": "2022-10-09T10:26:54.511Z"
   },
   {
    "duration": 353,
    "start_time": "2022-10-09T10:26:57.102Z"
   },
   {
    "duration": 28,
    "start_time": "2022-10-09T10:27:00.341Z"
   },
   {
    "duration": 15,
    "start_time": "2022-10-09T10:27:01.619Z"
   },
   {
    "duration": 14,
    "start_time": "2022-10-09T10:27:04.292Z"
   },
   {
    "duration": 21,
    "start_time": "2022-10-09T10:27:07.289Z"
   },
   {
    "duration": 70,
    "start_time": "2022-10-09T10:27:08.547Z"
   },
   {
    "duration": 191,
    "start_time": "2022-10-09T10:27:11.207Z"
   },
   {
    "duration": 217,
    "start_time": "2022-10-09T10:27:13.263Z"
   },
   {
    "duration": 210,
    "start_time": "2022-10-09T10:27:16.782Z"
   },
   {
    "duration": 208,
    "start_time": "2022-10-09T10:27:19.405Z"
   },
   {
    "duration": 168,
    "start_time": "2022-10-09T10:27:22.329Z"
   },
   {
    "duration": 178,
    "start_time": "2022-10-09T10:27:24.833Z"
   },
   {
    "duration": 170,
    "start_time": "2022-10-09T10:27:27.433Z"
   },
   {
    "duration": 161,
    "start_time": "2022-10-09T10:27:30.159Z"
   },
   {
    "duration": 139,
    "start_time": "2022-10-09T10:27:32.995Z"
   },
   {
    "duration": 155,
    "start_time": "2022-10-09T10:27:35.958Z"
   },
   {
    "duration": 136,
    "start_time": "2022-10-09T10:27:38.854Z"
   },
   {
    "duration": 349,
    "start_time": "2022-10-09T10:27:41.820Z"
   },
   {
    "duration": 204,
    "start_time": "2022-10-09T10:27:44.489Z"
   },
   {
    "duration": 208,
    "start_time": "2022-10-09T10:27:47.467Z"
   },
   {
    "duration": 190,
    "start_time": "2022-10-09T10:27:50.544Z"
   },
   {
    "duration": 183,
    "start_time": "2022-10-09T10:27:54.225Z"
   },
   {
    "duration": 178,
    "start_time": "2022-10-09T10:27:56.886Z"
   },
   {
    "duration": 129,
    "start_time": "2022-10-09T10:27:58.696Z"
   },
   {
    "duration": 66,
    "start_time": "2022-10-09T10:28:02.646Z"
   },
   {
    "duration": 151,
    "start_time": "2022-10-09T10:28:06.017Z"
   },
   {
    "duration": 1233,
    "start_time": "2022-10-09T10:28:09.753Z"
   },
   {
    "duration": 28,
    "start_time": "2022-10-09T10:28:15.976Z"
   },
   {
    "duration": 25,
    "start_time": "2022-10-09T10:28:18.449Z"
   },
   {
    "duration": 21,
    "start_time": "2022-10-09T10:28:20.566Z"
   },
   {
    "duration": 590,
    "start_time": "2022-10-09T10:28:44.171Z"
   },
   {
    "duration": 16,
    "start_time": "2022-10-09T10:28:44.763Z"
   },
   {
    "duration": 2231,
    "start_time": "2022-10-09T10:28:44.781Z"
   },
   {
    "duration": 36,
    "start_time": "2022-10-09T10:28:47.015Z"
   },
   {
    "duration": 11,
    "start_time": "2022-10-09T10:28:47.053Z"
   },
   {
    "duration": 19,
    "start_time": "2022-10-09T10:28:47.066Z"
   },
   {
    "duration": 11,
    "start_time": "2022-10-09T10:28:47.087Z"
   },
   {
    "duration": 10,
    "start_time": "2022-10-09T10:28:47.099Z"
   },
   {
    "duration": 33,
    "start_time": "2022-10-09T10:28:47.111Z"
   },
   {
    "duration": 10,
    "start_time": "2022-10-09T10:28:47.177Z"
   },
   {
    "duration": 11,
    "start_time": "2022-10-09T10:28:47.188Z"
   },
   {
    "duration": 9,
    "start_time": "2022-10-09T10:28:47.200Z"
   },
   {
    "duration": 8,
    "start_time": "2022-10-09T10:28:47.211Z"
   },
   {
    "duration": 9,
    "start_time": "2022-10-09T10:28:47.220Z"
   },
   {
    "duration": 9,
    "start_time": "2022-10-09T10:28:47.231Z"
   },
   {
    "duration": 44,
    "start_time": "2022-10-09T10:28:47.242Z"
   },
   {
    "duration": 7,
    "start_time": "2022-10-09T10:28:47.288Z"
   },
   {
    "duration": 5,
    "start_time": "2022-10-09T10:28:47.296Z"
   },
   {
    "duration": 7,
    "start_time": "2022-10-09T10:28:47.303Z"
   },
   {
    "duration": 9,
    "start_time": "2022-10-09T10:28:47.312Z"
   },
   {
    "duration": 76,
    "start_time": "2022-10-09T10:28:47.322Z"
   },
   {
    "duration": 7,
    "start_time": "2022-10-09T10:28:47.400Z"
   },
   {
    "duration": 15,
    "start_time": "2022-10-09T10:28:47.408Z"
   },
   {
    "duration": 14,
    "start_time": "2022-10-09T10:28:47.424Z"
   },
   {
    "duration": 8,
    "start_time": "2022-10-09T10:28:47.440Z"
   },
   {
    "duration": 12,
    "start_time": "2022-10-09T10:28:47.476Z"
   },
   {
    "duration": 3,
    "start_time": "2022-10-09T10:28:47.490Z"
   },
   {
    "duration": 40,
    "start_time": "2022-10-09T10:28:47.497Z"
   },
   {
    "duration": 39,
    "start_time": "2022-10-09T10:28:47.538Z"
   },
   {
    "duration": 5,
    "start_time": "2022-10-09T10:28:47.579Z"
   },
   {
    "duration": 12,
    "start_time": "2022-10-09T10:28:47.586Z"
   },
   {
    "duration": 37,
    "start_time": "2022-10-09T10:28:47.600Z"
   },
   {
    "duration": 46,
    "start_time": "2022-10-09T10:28:47.639Z"
   },
   {
    "duration": 16,
    "start_time": "2022-10-09T10:28:47.687Z"
   },
   {
    "duration": 8,
    "start_time": "2022-10-09T10:28:47.705Z"
   },
   {
    "duration": 6,
    "start_time": "2022-10-09T10:28:47.714Z"
   },
   {
    "duration": 18,
    "start_time": "2022-10-09T10:28:47.721Z"
   },
   {
    "duration": 37,
    "start_time": "2022-10-09T10:28:47.740Z"
   },
   {
    "duration": 5,
    "start_time": "2022-10-09T10:28:47.779Z"
   },
   {
    "duration": 11,
    "start_time": "2022-10-09T10:28:47.786Z"
   },
   {
    "duration": 5,
    "start_time": "2022-10-09T10:28:47.798Z"
   },
   {
    "duration": 18,
    "start_time": "2022-10-09T10:28:47.805Z"
   },
   {
    "duration": 19,
    "start_time": "2022-10-09T10:28:47.825Z"
   },
   {
    "duration": 147,
    "start_time": "2022-10-09T10:28:47.846Z"
   },
   {
    "duration": 6,
    "start_time": "2022-10-09T10:28:47.994Z"
   },
   {
    "duration": 37,
    "start_time": "2022-10-09T10:28:48.001Z"
   },
   {
    "duration": 49,
    "start_time": "2022-10-09T10:28:48.040Z"
   },
   {
    "duration": 359,
    "start_time": "2022-10-09T10:28:48.092Z"
   },
   {
    "duration": 28,
    "start_time": "2022-10-09T10:28:48.453Z"
   },
   {
    "duration": 13,
    "start_time": "2022-10-09T10:28:48.482Z"
   },
   {
    "duration": 12,
    "start_time": "2022-10-09T10:28:48.496Z"
   },
   {
    "duration": 17,
    "start_time": "2022-10-09T10:28:48.510Z"
   },
   {
    "duration": 91,
    "start_time": "2022-10-09T10:28:48.529Z"
   },
   {
    "duration": 206,
    "start_time": "2022-10-09T10:28:48.622Z"
   },
   {
    "duration": 210,
    "start_time": "2022-10-09T10:28:48.830Z"
   },
   {
    "duration": 256,
    "start_time": "2022-10-09T10:28:49.041Z"
   },
   {
    "duration": 209,
    "start_time": "2022-10-09T10:28:49.299Z"
   },
   {
    "duration": 164,
    "start_time": "2022-10-09T10:28:49.510Z"
   },
   {
    "duration": 167,
    "start_time": "2022-10-09T10:28:49.676Z"
   },
   {
    "duration": 178,
    "start_time": "2022-10-09T10:28:49.845Z"
   },
   {
    "duration": 153,
    "start_time": "2022-10-09T10:28:50.025Z"
   },
   {
    "duration": 144,
    "start_time": "2022-10-09T10:28:50.180Z"
   },
   {
    "duration": 158,
    "start_time": "2022-10-09T10:28:50.326Z"
   },
   {
    "duration": 147,
    "start_time": "2022-10-09T10:28:50.486Z"
   },
   {
    "duration": 192,
    "start_time": "2022-10-09T10:28:50.634Z"
   },
   {
    "duration": 268,
    "start_time": "2022-10-09T10:28:50.828Z"
   },
   {
    "duration": 201,
    "start_time": "2022-10-09T10:28:51.098Z"
   },
   {
    "duration": 184,
    "start_time": "2022-10-09T10:28:51.300Z"
   },
   {
    "duration": 192,
    "start_time": "2022-10-09T10:28:51.486Z"
   },
   {
    "duration": 146,
    "start_time": "2022-10-09T10:28:51.680Z"
   },
   {
    "duration": 129,
    "start_time": "2022-10-09T10:28:51.828Z"
   },
   {
    "duration": 60,
    "start_time": "2022-10-09T10:28:51.958Z"
   },
   {
    "duration": 161,
    "start_time": "2022-10-09T10:28:52.020Z"
   },
   {
    "duration": 1346,
    "start_time": "2022-10-09T10:28:52.183Z"
   },
   {
    "duration": 26,
    "start_time": "2022-10-09T10:28:53.530Z"
   },
   {
    "duration": 39,
    "start_time": "2022-10-09T10:28:53.558Z"
   },
   {
    "duration": 17,
    "start_time": "2022-10-09T10:28:53.598Z"
   }
  ],
  "kernelspec": {
   "display_name": "Python 3 (ipykernel)",
   "language": "python",
   "name": "python3"
  },
  "language_info": {
   "codemirror_mode": {
    "name": "ipython",
    "version": 3
   },
   "file_extension": ".py",
   "mimetype": "text/x-python",
   "name": "python",
   "nbconvert_exporter": "python",
   "pygments_lexer": "ipython3",
   "version": "3.9.7"
  },
  "toc": {
   "base_numbering": 1,
   "nav_menu": {},
   "number_sections": true,
   "sideBar": true,
   "skip_h1_title": true,
   "title_cell": "Table of Contents",
   "title_sidebar": "Contents",
   "toc_cell": false,
   "toc_position": {},
   "toc_section_display": true,
   "toc_window_display": false
  }
 },
 "nbformat": 4,
 "nbformat_minor": 2
}
