{
 "cells": [
  {
   "cell_type": "markdown",
   "id": "eacede81",
   "metadata": {},
   "source": [
    "## Identifying inefficient operators"
   ]
  },
  {
   "cell_type": "markdown",
   "id": "f165fcfe",
   "metadata": {},
   "source": [
    "In the course of this study, we will analyze the data of call centers provided by the operator of virtual telephony \"Nupozvoni\"."
   ]
  },
  {
   "cell_type": "markdown",
   "id": "3fa2b544",
   "metadata": {},
   "source": [
    "**The purpose of the investigation**\n",
    "\n",
    "Prepare a study of call center data and find inefficient operators\n",
    "\n",
    "**The essence of research**\n",
    "\n",
    "To conduct data analysis, the results of which will help to build further work with call center employees\n",
    "\n",
    "**Research objectives**\n",
    "\n",
    "Perform preprocessing of the initial data - fill in the gaps, work out anomalies and analyze the half-formed data array to answer the questions posed in the purpose of the study\n",
    "\n",
    "**Initial data**\n",
    "\n",
    "Two tables are presented for the study. One of the tables contains data on call center clients. The table includes the tariff plan and the date of registration in the service. There are 732 entries in total. The other is with information about calls, containing 53902 records and including the date, direction, type of call, operator id, number of calls, etc.\n",
    "\n",
    "**This study will be divided into several parts**\n",
    "1. Data overview\n",
    "2. Data preprocessing:\n",
    " - bringing the data to the required format\n",
    " - search for explicit and implicit duplicates\n",
    " - filling in gaps\n",
    "3. Data analysis:\n",
    " - distribution of call centers\n",
    " - identification of inefficient operators\n",
    "4. Hypothesis testing\n",
    "5. Conclusions"
   ]
  },
  {
   "cell_type": "markdown",
   "id": "f415c734",
   "metadata": {},
   "source": [
    "The distribution of call centers will go into 2 categories - specializing in incoming and outgoing calls. The division will go by 50% - if there are more than 50% outgoing calls in the call center, then this center specializes in outgoing calls\n",
    "\n",
    "How to identify an inefficient operator:\n",
    "1. By the average number of missed calls per day. It is usually assumed that when the operator is fully loaded, he should allow no more than 1-2 missed calls per day. As a standard, the operator should not miss calls, but the situations may be different. The client may call and quickly reset the handset, or a technical error may occur. Therefore, there will always be a certain number of missed calls regardless of the efficiency of the operator. 1-2 missed calls are at full load, which implies about 100 calls per day. But the load is different, so it's better to count as a percentage. Let's assume that if an operator has on average more than 2% of missed calls, such an operator is ineffective.\n",
    "2. By waiting time for the operator's response. If the average response waiting time is more than 28 seconds, then the operator is ineffective. The data is based on the report https://www.ifc.org/wps/wcm/connect/3a656e01-ad18-459a-b1ed-87784c1f1616/Tool+9.4.+Measuring+Call+Center+Performance.pdf?MOD=AJPERES&CVID=jENLHxM. We do not have waiting data on the operator's phone, only the total waiting time, which depends, among other things, on the total line load at the moment. Therefore, this metric shows rather not the inefficiency of a particular operator, but that the call center or the system of work is ineffective.\n",
    "3. In this case, the metric for outgoing and incoming call centers will be different. Call centers for incoming calls must have a reserve of free operators to handle calls during peak hours.Let's set the following gradation - if the conversation time of a call center employee working with incoming calls is less than 3 hours a day, then we consider such an operator ineffective. If with outgoing - 4 hours of work per day. The figures are based on the data of the report from the previous paragraph. According to him, the average workload should be at the level of 60-80%, the average talk time is 4 minutes, post-processing is 6 minutes."
   ]
  },
  {
   "cell_type": "markdown",
   "id": "78be2a1f",
   "metadata": {},
   "source": [
    "Let's form a hypothesis. As a hypothesis, let's compare the average number of inefficient employees in call centers, depending on the tariff plan.\n",
    "Accordingly, 3 hypotheses will be tested:\n",
    "1. The duration of outgoing and incoming calls differs\n",
    "2. There are fewer missed internal calls than client calls\n",
    "3. The number of inefficient employees in call centers at tariff A is greater than at tariff B"
   ]
  },
  {
   "cell_type": "markdown",
   "id": "cf652437",
   "metadata": {},
   "source": [
    "### Data overview"
   ]
  },
  {
   "cell_type": "code",
   "execution_count": 1,
   "id": "c01b2ab1",
   "metadata": {},
   "outputs": [],
   "source": [
    "import pandas as pd\n",
    "from datetime import datetime, timedelta\n",
    "from scipy import stats as st\n",
    "import warnings\n",
    "warnings.filterwarnings(\"ignore\") \n",
    "\n",
    "try:\n",
    "    tariff = pd.read_csv('D:/Документы/LinkedIn/9 Выпускной проект/telecom_clients.csv')\n",
    "    data = pd.read_csv('D:/Документы/LinkedIn/9 Выпускной проект/telecom_dataset.csv')\n",
    "except:\n",
    "    tariff = pd.read_csv('/datasets/telecom_clients.csv')\n",
    "    data = pd.read_csv('/datasets/telecom_dataset.csv')"
   ]
  },
  {
   "cell_type": "code",
   "execution_count": 2,
   "id": "af3eeb57",
   "metadata": {},
   "outputs": [
    {
     "data": {
      "text/html": [
       "<div>\n",
       "<style scoped>\n",
       "    .dataframe tbody tr th:only-of-type {\n",
       "        vertical-align: middle;\n",
       "    }\n",
       "\n",
       "    .dataframe tbody tr th {\n",
       "        vertical-align: top;\n",
       "    }\n",
       "\n",
       "    .dataframe thead th {\n",
       "        text-align: right;\n",
       "    }\n",
       "</style>\n",
       "<table border=\"1\" class=\"dataframe\">\n",
       "  <thead>\n",
       "    <tr style=\"text-align: right;\">\n",
       "      <th></th>\n",
       "      <th>user_id</th>\n",
       "      <th>tariff_plan</th>\n",
       "      <th>date_start</th>\n",
       "    </tr>\n",
       "  </thead>\n",
       "  <tbody>\n",
       "    <tr>\n",
       "      <th>0</th>\n",
       "      <td>166713</td>\n",
       "      <td>A</td>\n",
       "      <td>2019-08-15</td>\n",
       "    </tr>\n",
       "    <tr>\n",
       "      <th>1</th>\n",
       "      <td>166901</td>\n",
       "      <td>A</td>\n",
       "      <td>2019-08-23</td>\n",
       "    </tr>\n",
       "    <tr>\n",
       "      <th>2</th>\n",
       "      <td>168527</td>\n",
       "      <td>A</td>\n",
       "      <td>2019-10-29</td>\n",
       "    </tr>\n",
       "    <tr>\n",
       "      <th>3</th>\n",
       "      <td>167097</td>\n",
       "      <td>A</td>\n",
       "      <td>2019-09-01</td>\n",
       "    </tr>\n",
       "    <tr>\n",
       "      <th>4</th>\n",
       "      <td>168193</td>\n",
       "      <td>A</td>\n",
       "      <td>2019-10-16</td>\n",
       "    </tr>\n",
       "  </tbody>\n",
       "</table>\n",
       "</div>"
      ],
      "text/plain": [
       "   user_id tariff_plan  date_start\n",
       "0   166713           A  2019-08-15\n",
       "1   166901           A  2019-08-23\n",
       "2   168527           A  2019-10-29\n",
       "3   167097           A  2019-09-01\n",
       "4   168193           A  2019-10-16"
      ]
     },
     "metadata": {},
     "output_type": "display_data"
    },
    {
     "name": "stdout",
     "output_type": "stream",
     "text": [
      "<class 'pandas.core.frame.DataFrame'>\n",
      "RangeIndex: 732 entries, 0 to 731\n",
      "Data columns (total 3 columns):\n",
      " #   Column       Non-Null Count  Dtype \n",
      "---  ------       --------------  ----- \n",
      " 0   user_id      732 non-null    int64 \n",
      " 1   tariff_plan  732 non-null    object\n",
      " 2   date_start   732 non-null    object\n",
      "dtypes: int64(1), object(2)\n",
      "memory usage: 17.3+ KB\n"
     ]
    }
   ],
   "source": [
    "display(tariff.head())\n",
    "tariff.info()"
   ]
  },
  {
   "cell_type": "markdown",
   "id": "15c9c51c",
   "metadata": {},
   "source": [
    "We will not change the data format in the tariff table yet, since it is unclear how the date_start column will be used. The other columns are fine."
   ]
  },
  {
   "cell_type": "code",
   "execution_count": 3,
   "id": "5876274e",
   "metadata": {},
   "outputs": [
    {
     "name": "stdout",
     "output_type": "stream",
     "text": [
      "<class 'pandas.core.frame.DataFrame'>\n",
      "RangeIndex: 53902 entries, 0 to 53901\n",
      "Data columns (total 9 columns):\n",
      " #   Column               Non-Null Count  Dtype  \n",
      "---  ------               --------------  -----  \n",
      " 0   user_id              53902 non-null  int64  \n",
      " 1   date                 53902 non-null  object \n",
      " 2   direction            53902 non-null  object \n",
      " 3   internal             53785 non-null  object \n",
      " 4   operator_id          45730 non-null  float64\n",
      " 5   is_missed_call       53902 non-null  bool   \n",
      " 6   calls_count          53902 non-null  int64  \n",
      " 7   call_duration        53902 non-null  int64  \n",
      " 8   total_call_duration  53902 non-null  int64  \n",
      "dtypes: bool(1), float64(1), int64(4), object(3)\n",
      "memory usage: 3.3+ MB\n"
     ]
    },
    {
     "data": {
      "text/html": [
       "<div>\n",
       "<style scoped>\n",
       "    .dataframe tbody tr th:only-of-type {\n",
       "        vertical-align: middle;\n",
       "    }\n",
       "\n",
       "    .dataframe tbody tr th {\n",
       "        vertical-align: top;\n",
       "    }\n",
       "\n",
       "    .dataframe thead th {\n",
       "        text-align: right;\n",
       "    }\n",
       "</style>\n",
       "<table border=\"1\" class=\"dataframe\">\n",
       "  <thead>\n",
       "    <tr style=\"text-align: right;\">\n",
       "      <th></th>\n",
       "      <th>user_id</th>\n",
       "      <th>date</th>\n",
       "      <th>direction</th>\n",
       "      <th>internal</th>\n",
       "      <th>operator_id</th>\n",
       "      <th>is_missed_call</th>\n",
       "      <th>calls_count</th>\n",
       "      <th>call_duration</th>\n",
       "      <th>total_call_duration</th>\n",
       "    </tr>\n",
       "  </thead>\n",
       "  <tbody>\n",
       "    <tr>\n",
       "      <th>0</th>\n",
       "      <td>166377</td>\n",
       "      <td>2019-08-04 00:00:00+03:00</td>\n",
       "      <td>in</td>\n",
       "      <td>False</td>\n",
       "      <td>NaN</td>\n",
       "      <td>True</td>\n",
       "      <td>2</td>\n",
       "      <td>0</td>\n",
       "      <td>4</td>\n",
       "    </tr>\n",
       "    <tr>\n",
       "      <th>1</th>\n",
       "      <td>166377</td>\n",
       "      <td>2019-08-05 00:00:00+03:00</td>\n",
       "      <td>out</td>\n",
       "      <td>True</td>\n",
       "      <td>880022.0</td>\n",
       "      <td>True</td>\n",
       "      <td>3</td>\n",
       "      <td>0</td>\n",
       "      <td>5</td>\n",
       "    </tr>\n",
       "    <tr>\n",
       "      <th>2</th>\n",
       "      <td>166377</td>\n",
       "      <td>2019-08-05 00:00:00+03:00</td>\n",
       "      <td>out</td>\n",
       "      <td>True</td>\n",
       "      <td>880020.0</td>\n",
       "      <td>True</td>\n",
       "      <td>1</td>\n",
       "      <td>0</td>\n",
       "      <td>1</td>\n",
       "    </tr>\n",
       "    <tr>\n",
       "      <th>3</th>\n",
       "      <td>166377</td>\n",
       "      <td>2019-08-05 00:00:00+03:00</td>\n",
       "      <td>out</td>\n",
       "      <td>True</td>\n",
       "      <td>880020.0</td>\n",
       "      <td>False</td>\n",
       "      <td>1</td>\n",
       "      <td>10</td>\n",
       "      <td>18</td>\n",
       "    </tr>\n",
       "    <tr>\n",
       "      <th>4</th>\n",
       "      <td>166377</td>\n",
       "      <td>2019-08-05 00:00:00+03:00</td>\n",
       "      <td>out</td>\n",
       "      <td>False</td>\n",
       "      <td>880022.0</td>\n",
       "      <td>True</td>\n",
       "      <td>3</td>\n",
       "      <td>0</td>\n",
       "      <td>25</td>\n",
       "    </tr>\n",
       "  </tbody>\n",
       "</table>\n",
       "</div>"
      ],
      "text/plain": [
       "   user_id                       date direction internal  operator_id  \\\n",
       "0   166377  2019-08-04 00:00:00+03:00        in    False          NaN   \n",
       "1   166377  2019-08-05 00:00:00+03:00       out     True     880022.0   \n",
       "2   166377  2019-08-05 00:00:00+03:00       out     True     880020.0   \n",
       "3   166377  2019-08-05 00:00:00+03:00       out     True     880020.0   \n",
       "4   166377  2019-08-05 00:00:00+03:00       out    False     880022.0   \n",
       "\n",
       "   is_missed_call  calls_count  call_duration  total_call_duration  \n",
       "0            True            2              0                    4  \n",
       "1            True            3              0                    5  \n",
       "2            True            1              0                    1  \n",
       "3           False            1             10                   18  \n",
       "4            True            3              0                   25  "
      ]
     },
     "execution_count": 3,
     "metadata": {},
     "output_type": "execute_result"
    }
   ],
   "source": [
    "data.info()\n",
    "data.head()"
   ]
  },
  {
   "cell_type": "markdown",
   "id": "67eef7e1",
   "metadata": {},
   "source": [
    "### Data preprocessing"
   ]
  },
  {
   "cell_type": "markdown",
   "id": "835a5122",
   "metadata": {},
   "source": [
    "When reviewing the data, it was clear that not all field types corresponded to the data. We will not change the data format in the tariff table yet, since it is unclear how the date_start column will be used. The other columns are fine. In data, we need to change the data type in some columns, but not everywhere there is such an opportunity. To begin with, we will remove duplicates and omissions and then return to the correction."
   ]
  },
  {
   "cell_type": "markdown",
   "id": "a245fc11",
   "metadata": {},
   "source": [
    "First, we check the data for duplicates"
   ]
  },
  {
   "cell_type": "code",
   "execution_count": 4,
   "id": "c1560848",
   "metadata": {},
   "outputs": [
    {
     "data": {
      "text/plain": [
       "0"
      ]
     },
     "execution_count": 4,
     "metadata": {},
     "output_type": "execute_result"
    }
   ],
   "source": [
    "tariff.duplicated().sum()"
   ]
  },
  {
   "cell_type": "code",
   "execution_count": 5,
   "id": "78541cce",
   "metadata": {},
   "outputs": [
    {
     "data": {
      "text/plain": [
       "4900"
      ]
     },
     "execution_count": 5,
     "metadata": {},
     "output_type": "execute_result"
    }
   ],
   "source": [
    "data.duplicated().sum()"
   ]
  },
  {
   "cell_type": "markdown",
   "id": "ce31372e",
   "metadata": {},
   "source": [
    "There are about 9% duplicates in the dataframe data. Perhaps some of the values are really repeated, but we can't check it in any way. At the same time, given that 8 values need to be repeated at once for duplication, the probability of accidental duplication is small, so most of it was formed by an error. We will remove this data from the dataframe and, subsequently, informed colleagues about the problem"
   ]
  },
  {
   "cell_type": "code",
   "execution_count": 6,
   "id": "7f8bf3a2",
   "metadata": {},
   "outputs": [],
   "source": [
    "data = data.drop_duplicates().reset_index(drop=True)"
   ]
  },
  {
   "cell_type": "markdown",
   "id": "b7d98e16",
   "metadata": {},
   "source": [
    "Now let's remove the lines with an empty operator_id. It is necessary to remove them completely, since the values are qualitative, not quantitative. Accordingly, it is impossible to fill them yourself. And since we have the task of finding inefficient operators, empty operator_id strings will not be used in any way"
   ]
  },
  {
   "cell_type": "code",
   "execution_count": 7,
   "id": "2c538f0c",
   "metadata": {},
   "outputs": [
    {
     "name": "stdout",
     "output_type": "stream",
     "text": [
      "<class 'pandas.core.frame.DataFrame'>\n",
      "Int64Index: 41546 entries, 1 to 49000\n",
      "Data columns (total 9 columns):\n",
      " #   Column               Non-Null Count  Dtype  \n",
      "---  ------               --------------  -----  \n",
      " 0   user_id              41546 non-null  int64  \n",
      " 1   date                 41546 non-null  object \n",
      " 2   direction            41546 non-null  object \n",
      " 3   internal             41491 non-null  object \n",
      " 4   operator_id          41546 non-null  float64\n",
      " 5   is_missed_call       41546 non-null  bool   \n",
      " 6   calls_count          41546 non-null  int64  \n",
      " 7   call_duration        41546 non-null  int64  \n",
      " 8   total_call_duration  41546 non-null  int64  \n",
      "dtypes: bool(1), float64(1), int64(4), object(3)\n",
      "memory usage: 2.9+ MB\n"
     ]
    },
    {
     "data": {
      "text/plain": [
       "None"
      ]
     },
     "metadata": {},
     "output_type": "display_data"
    },
    {
     "data": {
      "text/html": [
       "<div>\n",
       "<style scoped>\n",
       "    .dataframe tbody tr th:only-of-type {\n",
       "        vertical-align: middle;\n",
       "    }\n",
       "\n",
       "    .dataframe tbody tr th {\n",
       "        vertical-align: top;\n",
       "    }\n",
       "\n",
       "    .dataframe thead th {\n",
       "        text-align: right;\n",
       "    }\n",
       "</style>\n",
       "<table border=\"1\" class=\"dataframe\">\n",
       "  <thead>\n",
       "    <tr style=\"text-align: right;\">\n",
       "      <th></th>\n",
       "      <th>user_id</th>\n",
       "      <th>date</th>\n",
       "      <th>direction</th>\n",
       "      <th>internal</th>\n",
       "      <th>operator_id</th>\n",
       "      <th>is_missed_call</th>\n",
       "      <th>calls_count</th>\n",
       "      <th>call_duration</th>\n",
       "      <th>total_call_duration</th>\n",
       "    </tr>\n",
       "  </thead>\n",
       "  <tbody>\n",
       "    <tr>\n",
       "      <th>1</th>\n",
       "      <td>166377</td>\n",
       "      <td>2019-08-05 00:00:00+03:00</td>\n",
       "      <td>out</td>\n",
       "      <td>True</td>\n",
       "      <td>880022.0</td>\n",
       "      <td>True</td>\n",
       "      <td>3</td>\n",
       "      <td>0</td>\n",
       "      <td>5</td>\n",
       "    </tr>\n",
       "    <tr>\n",
       "      <th>2</th>\n",
       "      <td>166377</td>\n",
       "      <td>2019-08-05 00:00:00+03:00</td>\n",
       "      <td>out</td>\n",
       "      <td>True</td>\n",
       "      <td>880020.0</td>\n",
       "      <td>True</td>\n",
       "      <td>1</td>\n",
       "      <td>0</td>\n",
       "      <td>1</td>\n",
       "    </tr>\n",
       "    <tr>\n",
       "      <th>3</th>\n",
       "      <td>166377</td>\n",
       "      <td>2019-08-05 00:00:00+03:00</td>\n",
       "      <td>out</td>\n",
       "      <td>True</td>\n",
       "      <td>880020.0</td>\n",
       "      <td>False</td>\n",
       "      <td>1</td>\n",
       "      <td>10</td>\n",
       "      <td>18</td>\n",
       "    </tr>\n",
       "    <tr>\n",
       "      <th>4</th>\n",
       "      <td>166377</td>\n",
       "      <td>2019-08-05 00:00:00+03:00</td>\n",
       "      <td>out</td>\n",
       "      <td>False</td>\n",
       "      <td>880022.0</td>\n",
       "      <td>True</td>\n",
       "      <td>3</td>\n",
       "      <td>0</td>\n",
       "      <td>25</td>\n",
       "    </tr>\n",
       "    <tr>\n",
       "      <th>5</th>\n",
       "      <td>166377</td>\n",
       "      <td>2019-08-05 00:00:00+03:00</td>\n",
       "      <td>out</td>\n",
       "      <td>False</td>\n",
       "      <td>880020.0</td>\n",
       "      <td>False</td>\n",
       "      <td>2</td>\n",
       "      <td>3</td>\n",
       "      <td>29</td>\n",
       "    </tr>\n",
       "  </tbody>\n",
       "</table>\n",
       "</div>"
      ],
      "text/plain": [
       "   user_id                       date direction internal  operator_id  \\\n",
       "1   166377  2019-08-05 00:00:00+03:00       out     True     880022.0   \n",
       "2   166377  2019-08-05 00:00:00+03:00       out     True     880020.0   \n",
       "3   166377  2019-08-05 00:00:00+03:00       out     True     880020.0   \n",
       "4   166377  2019-08-05 00:00:00+03:00       out    False     880022.0   \n",
       "5   166377  2019-08-05 00:00:00+03:00       out    False     880020.0   \n",
       "\n",
       "   is_missed_call  calls_count  call_duration  total_call_duration  \n",
       "1            True            3              0                    5  \n",
       "2            True            1              0                    1  \n",
       "3           False            1             10                   18  \n",
       "4            True            3              0                   25  \n",
       "5           False            2              3                   29  "
      ]
     },
     "execution_count": 7,
     "metadata": {},
     "output_type": "execute_result"
    }
   ],
   "source": [
    "data = data.query('operator_id == operator_id')\n",
    "display(data.info())\n",
    "data.head()"
   ]
  },
  {
   "cell_type": "markdown",
   "id": "679781e0",
   "metadata": {},
   "source": [
    "Of the remaining values, we see about 50 blank lines in the internal field. Potentially, this may prevent us from making a complete picture of the study, and deleting so many values will not distort the final result, so we will remove the internal nan values and get a ready dataset for the study."
   ]
  },
  {
   "cell_type": "code",
   "execution_count": 8,
   "id": "e15aee97",
   "metadata": {},
   "outputs": [
    {
     "name": "stdout",
     "output_type": "stream",
     "text": [
      "<class 'pandas.core.frame.DataFrame'>\n",
      "Int64Index: 41491 entries, 1 to 49000\n",
      "Data columns (total 9 columns):\n",
      " #   Column               Non-Null Count  Dtype  \n",
      "---  ------               --------------  -----  \n",
      " 0   user_id              41491 non-null  int64  \n",
      " 1   date                 41491 non-null  object \n",
      " 2   direction            41491 non-null  object \n",
      " 3   internal             41491 non-null  object \n",
      " 4   operator_id          41491 non-null  float64\n",
      " 5   is_missed_call       41491 non-null  bool   \n",
      " 6   calls_count          41491 non-null  int64  \n",
      " 7   call_duration        41491 non-null  int64  \n",
      " 8   total_call_duration  41491 non-null  int64  \n",
      "dtypes: bool(1), float64(1), int64(4), object(3)\n",
      "memory usage: 2.9+ MB\n"
     ]
    },
    {
     "data": {
      "text/plain": [
       "None"
      ]
     },
     "metadata": {},
     "output_type": "display_data"
    },
    {
     "data": {
      "text/html": [
       "<div>\n",
       "<style scoped>\n",
       "    .dataframe tbody tr th:only-of-type {\n",
       "        vertical-align: middle;\n",
       "    }\n",
       "\n",
       "    .dataframe tbody tr th {\n",
       "        vertical-align: top;\n",
       "    }\n",
       "\n",
       "    .dataframe thead th {\n",
       "        text-align: right;\n",
       "    }\n",
       "</style>\n",
       "<table border=\"1\" class=\"dataframe\">\n",
       "  <thead>\n",
       "    <tr style=\"text-align: right;\">\n",
       "      <th></th>\n",
       "      <th>user_id</th>\n",
       "      <th>date</th>\n",
       "      <th>direction</th>\n",
       "      <th>internal</th>\n",
       "      <th>operator_id</th>\n",
       "      <th>is_missed_call</th>\n",
       "      <th>calls_count</th>\n",
       "      <th>call_duration</th>\n",
       "      <th>total_call_duration</th>\n",
       "    </tr>\n",
       "  </thead>\n",
       "  <tbody>\n",
       "    <tr>\n",
       "      <th>1</th>\n",
       "      <td>166377</td>\n",
       "      <td>2019-08-05 00:00:00+03:00</td>\n",
       "      <td>out</td>\n",
       "      <td>True</td>\n",
       "      <td>880022.0</td>\n",
       "      <td>True</td>\n",
       "      <td>3</td>\n",
       "      <td>0</td>\n",
       "      <td>5</td>\n",
       "    </tr>\n",
       "    <tr>\n",
       "      <th>2</th>\n",
       "      <td>166377</td>\n",
       "      <td>2019-08-05 00:00:00+03:00</td>\n",
       "      <td>out</td>\n",
       "      <td>True</td>\n",
       "      <td>880020.0</td>\n",
       "      <td>True</td>\n",
       "      <td>1</td>\n",
       "      <td>0</td>\n",
       "      <td>1</td>\n",
       "    </tr>\n",
       "    <tr>\n",
       "      <th>3</th>\n",
       "      <td>166377</td>\n",
       "      <td>2019-08-05 00:00:00+03:00</td>\n",
       "      <td>out</td>\n",
       "      <td>True</td>\n",
       "      <td>880020.0</td>\n",
       "      <td>False</td>\n",
       "      <td>1</td>\n",
       "      <td>10</td>\n",
       "      <td>18</td>\n",
       "    </tr>\n",
       "    <tr>\n",
       "      <th>4</th>\n",
       "      <td>166377</td>\n",
       "      <td>2019-08-05 00:00:00+03:00</td>\n",
       "      <td>out</td>\n",
       "      <td>False</td>\n",
       "      <td>880022.0</td>\n",
       "      <td>True</td>\n",
       "      <td>3</td>\n",
       "      <td>0</td>\n",
       "      <td>25</td>\n",
       "    </tr>\n",
       "    <tr>\n",
       "      <th>5</th>\n",
       "      <td>166377</td>\n",
       "      <td>2019-08-05 00:00:00+03:00</td>\n",
       "      <td>out</td>\n",
       "      <td>False</td>\n",
       "      <td>880020.0</td>\n",
       "      <td>False</td>\n",
       "      <td>2</td>\n",
       "      <td>3</td>\n",
       "      <td>29</td>\n",
       "    </tr>\n",
       "  </tbody>\n",
       "</table>\n",
       "</div>"
      ],
      "text/plain": [
       "   user_id                       date direction internal  operator_id  \\\n",
       "1   166377  2019-08-05 00:00:00+03:00       out     True     880022.0   \n",
       "2   166377  2019-08-05 00:00:00+03:00       out     True     880020.0   \n",
       "3   166377  2019-08-05 00:00:00+03:00       out     True     880020.0   \n",
       "4   166377  2019-08-05 00:00:00+03:00       out    False     880022.0   \n",
       "5   166377  2019-08-05 00:00:00+03:00       out    False     880020.0   \n",
       "\n",
       "   is_missed_call  calls_count  call_duration  total_call_duration  \n",
       "1            True            3              0                    5  \n",
       "2            True            1              0                    1  \n",
       "3           False            1             10                   18  \n",
       "4            True            3              0                   25  \n",
       "5           False            2              3                   29  "
      ]
     },
     "execution_count": 8,
     "metadata": {},
     "output_type": "execute_result"
    }
   ],
   "source": [
    "data = data.query('internal == internal')\n",
    "display(data.info())\n",
    "data.head()"
   ]
  },
  {
   "cell_type": "markdown",
   "id": "846888a6",
   "metadata": {},
   "source": [
    "Converting data types"
   ]
  },
  {
   "cell_type": "code",
   "execution_count": 9,
   "id": "27ce0dd6",
   "metadata": {},
   "outputs": [],
   "source": [
    "data['date'] = pd.to_datetime(data['date'])"
   ]
  },
  {
   "cell_type": "code",
   "execution_count": 10,
   "id": "1bdc8ea8",
   "metadata": {},
   "outputs": [],
   "source": [
    "data['internal'] = data['internal'].astype('bool')"
   ]
  },
  {
   "cell_type": "code",
   "execution_count": 11,
   "id": "e41863b9",
   "metadata": {},
   "outputs": [],
   "source": [
    "data['operator_id'] = data['operator_id'].astype('int')"
   ]
  },
  {
   "cell_type": "code",
   "execution_count": 12,
   "id": "edc364a4",
   "metadata": {},
   "outputs": [
    {
     "name": "stdout",
     "output_type": "stream",
     "text": [
      "<class 'pandas.core.frame.DataFrame'>\n",
      "Int64Index: 41491 entries, 1 to 49000\n",
      "Data columns (total 9 columns):\n",
      " #   Column               Non-Null Count  Dtype                                \n",
      "---  ------               --------------  -----                                \n",
      " 0   user_id              41491 non-null  int64                                \n",
      " 1   date                 41491 non-null  datetime64[ns, pytz.FixedOffset(180)]\n",
      " 2   direction            41491 non-null  object                               \n",
      " 3   internal             41491 non-null  bool                                 \n",
      " 4   operator_id          41491 non-null  int32                                \n",
      " 5   is_missed_call       41491 non-null  bool                                 \n",
      " 6   calls_count          41491 non-null  int64                                \n",
      " 7   call_duration        41491 non-null  int64                                \n",
      " 8   total_call_duration  41491 non-null  int64                                \n",
      "dtypes: bool(2), datetime64[ns, pytz.FixedOffset(180)](1), int32(1), int64(4), object(1)\n",
      "memory usage: 2.5+ MB\n"
     ]
    }
   ],
   "source": [
    "data.info()"
   ]
  },
  {
   "cell_type": "code",
   "execution_count": 13,
   "id": "6d8d09b5",
   "metadata": {},
   "outputs": [
    {
     "data": {
      "text/html": [
       "<div>\n",
       "<style scoped>\n",
       "    .dataframe tbody tr th:only-of-type {\n",
       "        vertical-align: middle;\n",
       "    }\n",
       "\n",
       "    .dataframe tbody tr th {\n",
       "        vertical-align: top;\n",
       "    }\n",
       "\n",
       "    .dataframe thead th {\n",
       "        text-align: right;\n",
       "    }\n",
       "</style>\n",
       "<table border=\"1\" class=\"dataframe\">\n",
       "  <thead>\n",
       "    <tr style=\"text-align: right;\">\n",
       "      <th></th>\n",
       "      <th>user_id</th>\n",
       "      <th>date</th>\n",
       "      <th>direction</th>\n",
       "      <th>internal</th>\n",
       "      <th>operator_id</th>\n",
       "      <th>is_missed_call</th>\n",
       "      <th>calls_count</th>\n",
       "      <th>call_duration</th>\n",
       "      <th>total_call_duration</th>\n",
       "    </tr>\n",
       "  </thead>\n",
       "  <tbody>\n",
       "    <tr>\n",
       "      <th>1</th>\n",
       "      <td>166377</td>\n",
       "      <td>2019-08-05 00:00:00+03:00</td>\n",
       "      <td>out</td>\n",
       "      <td>True</td>\n",
       "      <td>880022</td>\n",
       "      <td>True</td>\n",
       "      <td>3</td>\n",
       "      <td>0</td>\n",
       "      <td>5</td>\n",
       "    </tr>\n",
       "    <tr>\n",
       "      <th>2</th>\n",
       "      <td>166377</td>\n",
       "      <td>2019-08-05 00:00:00+03:00</td>\n",
       "      <td>out</td>\n",
       "      <td>True</td>\n",
       "      <td>880020</td>\n",
       "      <td>True</td>\n",
       "      <td>1</td>\n",
       "      <td>0</td>\n",
       "      <td>1</td>\n",
       "    </tr>\n",
       "    <tr>\n",
       "      <th>3</th>\n",
       "      <td>166377</td>\n",
       "      <td>2019-08-05 00:00:00+03:00</td>\n",
       "      <td>out</td>\n",
       "      <td>True</td>\n",
       "      <td>880020</td>\n",
       "      <td>False</td>\n",
       "      <td>1</td>\n",
       "      <td>10</td>\n",
       "      <td>18</td>\n",
       "    </tr>\n",
       "    <tr>\n",
       "      <th>4</th>\n",
       "      <td>166377</td>\n",
       "      <td>2019-08-05 00:00:00+03:00</td>\n",
       "      <td>out</td>\n",
       "      <td>False</td>\n",
       "      <td>880022</td>\n",
       "      <td>True</td>\n",
       "      <td>3</td>\n",
       "      <td>0</td>\n",
       "      <td>25</td>\n",
       "    </tr>\n",
       "    <tr>\n",
       "      <th>5</th>\n",
       "      <td>166377</td>\n",
       "      <td>2019-08-05 00:00:00+03:00</td>\n",
       "      <td>out</td>\n",
       "      <td>False</td>\n",
       "      <td>880020</td>\n",
       "      <td>False</td>\n",
       "      <td>2</td>\n",
       "      <td>3</td>\n",
       "      <td>29</td>\n",
       "    </tr>\n",
       "  </tbody>\n",
       "</table>\n",
       "</div>"
      ],
      "text/plain": [
       "   user_id                      date direction  internal  operator_id  \\\n",
       "1   166377 2019-08-05 00:00:00+03:00       out      True       880022   \n",
       "2   166377 2019-08-05 00:00:00+03:00       out      True       880020   \n",
       "3   166377 2019-08-05 00:00:00+03:00       out      True       880020   \n",
       "4   166377 2019-08-05 00:00:00+03:00       out     False       880022   \n",
       "5   166377 2019-08-05 00:00:00+03:00       out     False       880020   \n",
       "\n",
       "   is_missed_call  calls_count  call_duration  total_call_duration  \n",
       "1            True            3              0                    5  \n",
       "2            True            1              0                    1  \n",
       "3           False            1             10                   18  \n",
       "4            True            3              0                   25  \n",
       "5           False            2              3                   29  "
      ]
     },
     "execution_count": 13,
     "metadata": {},
     "output_type": "execute_result"
    }
   ],
   "source": [
    "data.head()"
   ]
  },
  {
   "cell_type": "markdown",
   "id": "03252f90",
   "metadata": {},
   "source": [
    "The table data is ready. Also convert the data type in the tarrif table"
   ]
  },
  {
   "cell_type": "code",
   "execution_count": 14,
   "id": "5bd21d09",
   "metadata": {},
   "outputs": [],
   "source": [
    "tariff['date_start'] = pd.to_datetime(tariff['date_start'])"
   ]
  },
  {
   "cell_type": "code",
   "execution_count": 15,
   "id": "e8944579",
   "metadata": {},
   "outputs": [
    {
     "data": {
      "text/html": [
       "<div>\n",
       "<style scoped>\n",
       "    .dataframe tbody tr th:only-of-type {\n",
       "        vertical-align: middle;\n",
       "    }\n",
       "\n",
       "    .dataframe tbody tr th {\n",
       "        vertical-align: top;\n",
       "    }\n",
       "\n",
       "    .dataframe thead th {\n",
       "        text-align: right;\n",
       "    }\n",
       "</style>\n",
       "<table border=\"1\" class=\"dataframe\">\n",
       "  <thead>\n",
       "    <tr style=\"text-align: right;\">\n",
       "      <th></th>\n",
       "      <th>user_id</th>\n",
       "      <th>tariff_plan</th>\n",
       "      <th>date_start</th>\n",
       "    </tr>\n",
       "  </thead>\n",
       "  <tbody>\n",
       "    <tr>\n",
       "      <th>0</th>\n",
       "      <td>166713</td>\n",
       "      <td>A</td>\n",
       "      <td>2019-08-15</td>\n",
       "    </tr>\n",
       "    <tr>\n",
       "      <th>1</th>\n",
       "      <td>166901</td>\n",
       "      <td>A</td>\n",
       "      <td>2019-08-23</td>\n",
       "    </tr>\n",
       "    <tr>\n",
       "      <th>2</th>\n",
       "      <td>168527</td>\n",
       "      <td>A</td>\n",
       "      <td>2019-10-29</td>\n",
       "    </tr>\n",
       "    <tr>\n",
       "      <th>3</th>\n",
       "      <td>167097</td>\n",
       "      <td>A</td>\n",
       "      <td>2019-09-01</td>\n",
       "    </tr>\n",
       "    <tr>\n",
       "      <th>4</th>\n",
       "      <td>168193</td>\n",
       "      <td>A</td>\n",
       "      <td>2019-10-16</td>\n",
       "    </tr>\n",
       "  </tbody>\n",
       "</table>\n",
       "</div>"
      ],
      "text/plain": [
       "   user_id tariff_plan date_start\n",
       "0   166713           A 2019-08-15\n",
       "1   166901           A 2019-08-23\n",
       "2   168527           A 2019-10-29\n",
       "3   167097           A 2019-09-01\n",
       "4   168193           A 2019-10-16"
      ]
     },
     "execution_count": 15,
     "metadata": {},
     "output_type": "execute_result"
    }
   ],
   "source": [
    "tariff.head()"
   ]
  },
  {
   "cell_type": "code",
   "execution_count": 16,
   "id": "1fadc4ad",
   "metadata": {},
   "outputs": [
    {
     "name": "stdout",
     "output_type": "stream",
     "text": [
      "<class 'pandas.core.frame.DataFrame'>\n",
      "RangeIndex: 732 entries, 0 to 731\n",
      "Data columns (total 3 columns):\n",
      " #   Column       Non-Null Count  Dtype         \n",
      "---  ------       --------------  -----         \n",
      " 0   user_id      732 non-null    int64         \n",
      " 1   tariff_plan  732 non-null    object        \n",
      " 2   date_start   732 non-null    datetime64[ns]\n",
      "dtypes: datetime64[ns](1), int64(1), object(1)\n",
      "memory usage: 17.3+ KB\n"
     ]
    }
   ],
   "source": [
    "tariff.info()"
   ]
  },
  {
   "cell_type": "markdown",
   "id": "28483002",
   "metadata": {},
   "source": [
    "The data is processed, so we can proceed to the analysis"
   ]
  },
  {
   "cell_type": "markdown",
   "id": "5da8c74c",
   "metadata": {},
   "source": [
    "### Data analysis"
   ]
  },
  {
   "cell_type": "markdown",
   "id": "31f28feb",
   "metadata": {},
   "source": [
    "First, we will determine which call centers specialize in incoming and which ones in outgoing calls"
   ]
  },
  {
   "cell_type": "code",
   "execution_count": 17,
   "id": "27621c07",
   "metadata": {},
   "outputs": [],
   "source": [
    "data['direction'] = data['direction'].replace('out', 0)\n",
    "data['direction'] = data['direction'].replace('in', 1)"
   ]
  },
  {
   "cell_type": "code",
   "execution_count": 18,
   "id": "ed79d3d2",
   "metadata": {},
   "outputs": [],
   "source": [
    "data_prep = data.groupby('user_id').mean().query('direction < 0.5')\n",
    "data_out = data.query('user_id in @data_prep.index')\n",
    "data_in = data.query('user_id not in @data_prep.index')"
   ]
  },
  {
   "cell_type": "code",
   "execution_count": 19,
   "id": "9e4cc5f7",
   "metadata": {},
   "outputs": [
    {
     "data": {
      "text/plain": [
       "168"
      ]
     },
     "execution_count": 19,
     "metadata": {},
     "output_type": "execute_result"
    }
   ],
   "source": [
    "data_out['user_id'].nunique()"
   ]
  },
  {
   "cell_type": "code",
   "execution_count": 20,
   "id": "444892f0",
   "metadata": {},
   "outputs": [
    {
     "name": "stdout",
     "output_type": "stream",
     "text": [
      "<class 'pandas.core.frame.DataFrame'>\n",
      "Int64Index: 36526 entries, 1 to 49000\n",
      "Data columns (total 9 columns):\n",
      " #   Column               Non-Null Count  Dtype                                \n",
      "---  ------               --------------  -----                                \n",
      " 0   user_id              36526 non-null  int64                                \n",
      " 1   date                 36526 non-null  datetime64[ns, pytz.FixedOffset(180)]\n",
      " 2   direction            36526 non-null  int64                                \n",
      " 3   internal             36526 non-null  bool                                 \n",
      " 4   operator_id          36526 non-null  int32                                \n",
      " 5   is_missed_call       36526 non-null  bool                                 \n",
      " 6   calls_count          36526 non-null  int64                                \n",
      " 7   call_duration        36526 non-null  int64                                \n",
      " 8   total_call_duration  36526 non-null  int64                                \n",
      "dtypes: bool(2), datetime64[ns, pytz.FixedOffset(180)](1), int32(1), int64(5)\n",
      "memory usage: 2.2 MB\n"
     ]
    }
   ],
   "source": [
    "data_out.info()"
   ]
  },
  {
   "cell_type": "code",
   "execution_count": 21,
   "id": "596ffea8",
   "metadata": {},
   "outputs": [
    {
     "data": {
      "text/plain": [
       "122"
      ]
     },
     "execution_count": 21,
     "metadata": {},
     "output_type": "execute_result"
    }
   ],
   "source": [
    "data_in['user_id'].nunique()"
   ]
  },
  {
   "cell_type": "code",
   "execution_count": 22,
   "id": "2eafde6b",
   "metadata": {},
   "outputs": [
    {
     "name": "stdout",
     "output_type": "stream",
     "text": [
      "<class 'pandas.core.frame.DataFrame'>\n",
      "Int64Index: 4965 entries, 519 to 48913\n",
      "Data columns (total 9 columns):\n",
      " #   Column               Non-Null Count  Dtype                                \n",
      "---  ------               --------------  -----                                \n",
      " 0   user_id              4965 non-null   int64                                \n",
      " 1   date                 4965 non-null   datetime64[ns, pytz.FixedOffset(180)]\n",
      " 2   direction            4965 non-null   int64                                \n",
      " 3   internal             4965 non-null   bool                                 \n",
      " 4   operator_id          4965 non-null   int32                                \n",
      " 5   is_missed_call       4965 non-null   bool                                 \n",
      " 6   calls_count          4965 non-null   int64                                \n",
      " 7   call_duration        4965 non-null   int64                                \n",
      " 8   total_call_duration  4965 non-null   int64                                \n",
      "dtypes: bool(2), datetime64[ns, pytz.FixedOffset(180)](1), int32(1), int64(5)\n",
      "memory usage: 300.6 KB\n"
     ]
    }
   ],
   "source": [
    "data_in.info()"
   ]
  },
  {
   "cell_type": "markdown",
   "id": "64ef3acb",
   "metadata": {},
   "source": [
    "The number of call centers specializing in incoming and outgoing calls does not differ as much as the number of records of the corresponding call centers. In total, the table contains 168 call centers for outgoing calls and 36526 records of their calls and 122 call centers for outgoing calls and 4965 records about them."
   ]
  },
  {
   "cell_type": "markdown",
   "id": "31ce83a9",
   "metadata": {},
   "source": [
    "#### Identification of inefficient operators"
   ]
  },
  {
   "cell_type": "markdown",
   "id": "45ede12e",
   "metadata": {},
   "source": [
    "##### Number of missed calls per day"
   ]
  },
  {
   "cell_type": "markdown",
   "id": "7d2a55f5",
   "metadata": {},
   "source": [
    "Missed calls will be counted for call centers with mostly incoming traffic. We will also remove outgoing calls from the data of these call centers, since the probability of a client's response is not related to the operator's efficiency."
   ]
  },
  {
   "cell_type": "code",
   "execution_count": 23,
   "id": "25751b9b",
   "metadata": {},
   "outputs": [
    {
     "data": {
      "text/html": [
       "<div>\n",
       "<style scoped>\n",
       "    .dataframe tbody tr th:only-of-type {\n",
       "        vertical-align: middle;\n",
       "    }\n",
       "\n",
       "    .dataframe tbody tr th {\n",
       "        vertical-align: top;\n",
       "    }\n",
       "\n",
       "    .dataframe thead th {\n",
       "        text-align: right;\n",
       "    }\n",
       "</style>\n",
       "<table border=\"1\" class=\"dataframe\">\n",
       "  <thead>\n",
       "    <tr style=\"text-align: right;\">\n",
       "      <th></th>\n",
       "      <th>operator_id</th>\n",
       "      <th>user_id</th>\n",
       "      <th>direction</th>\n",
       "      <th>internal</th>\n",
       "      <th>is_missed_call</th>\n",
       "      <th>calls_count</th>\n",
       "      <th>call_duration</th>\n",
       "      <th>total_call_duration</th>\n",
       "    </tr>\n",
       "  </thead>\n",
       "  <tbody>\n",
       "    <tr>\n",
       "      <th>0</th>\n",
       "      <td>882680</td>\n",
       "      <td>166428.0</td>\n",
       "      <td>1.0</td>\n",
       "      <td>0.046512</td>\n",
       "      <td>0.069767</td>\n",
       "      <td>2.302326</td>\n",
       "      <td>142.023256</td>\n",
       "      <td>179.023256</td>\n",
       "    </tr>\n",
       "    <tr>\n",
       "      <th>1</th>\n",
       "      <td>888406</td>\n",
       "      <td>166669.0</td>\n",
       "      <td>1.0</td>\n",
       "      <td>0.000000</td>\n",
       "      <td>0.142857</td>\n",
       "      <td>1.285714</td>\n",
       "      <td>71.285714</td>\n",
       "      <td>107.714286</td>\n",
       "    </tr>\n",
       "    <tr>\n",
       "      <th>2</th>\n",
       "      <td>890582</td>\n",
       "      <td>166636.0</td>\n",
       "      <td>1.0</td>\n",
       "      <td>0.000000</td>\n",
       "      <td>0.025000</td>\n",
       "      <td>2.600000</td>\n",
       "      <td>117.375000</td>\n",
       "      <td>150.025000</td>\n",
       "    </tr>\n",
       "    <tr>\n",
       "      <th>3</th>\n",
       "      <td>893402</td>\n",
       "      <td>166604.0</td>\n",
       "      <td>1.0</td>\n",
       "      <td>0.074074</td>\n",
       "      <td>0.037037</td>\n",
       "      <td>4.160494</td>\n",
       "      <td>365.382716</td>\n",
       "      <td>433.679012</td>\n",
       "    </tr>\n",
       "    <tr>\n",
       "      <th>4</th>\n",
       "      <td>895574</td>\n",
       "      <td>166896.0</td>\n",
       "      <td>1.0</td>\n",
       "      <td>0.000000</td>\n",
       "      <td>0.021277</td>\n",
       "      <td>2.042553</td>\n",
       "      <td>238.936170</td>\n",
       "      <td>269.914894</td>\n",
       "    </tr>\n",
       "  </tbody>\n",
       "</table>\n",
       "</div>"
      ],
      "text/plain": [
       "   operator_id   user_id  direction  internal  is_missed_call  calls_count  \\\n",
       "0       882680  166428.0        1.0  0.046512        0.069767     2.302326   \n",
       "1       888406  166669.0        1.0  0.000000        0.142857     1.285714   \n",
       "2       890582  166636.0        1.0  0.000000        0.025000     2.600000   \n",
       "3       893402  166604.0        1.0  0.074074        0.037037     4.160494   \n",
       "4       895574  166896.0        1.0  0.000000        0.021277     2.042553   \n",
       "\n",
       "   call_duration  total_call_duration  \n",
       "0     142.023256           179.023256  \n",
       "1      71.285714           107.714286  \n",
       "2     117.375000           150.025000  \n",
       "3     365.382716           433.679012  \n",
       "4     238.936170           269.914894  "
      ]
     },
     "execution_count": 23,
     "metadata": {},
     "output_type": "execute_result"
    }
   ],
   "source": [
    "data_in_one = data_in.query('direction == 1')\n",
    "data_in_missed = data_in_one.groupby('operator_id').mean().query('is_missed_call > 0.02').reset_index()\n",
    "data_in_missed.head()"
   ]
  },
  {
   "cell_type": "markdown",
   "id": "67db2e43",
   "metadata": {},
   "source": [
    "The is_missed_call dataframe contains operator IDs with a share of unanswered calls greater than 2% and their indicators"
   ]
  },
  {
   "cell_type": "code",
   "execution_count": 24,
   "id": "6ac47449",
   "metadata": {},
   "outputs": [
    {
     "data": {
      "text/plain": [
       "59"
      ]
     },
     "execution_count": 24,
     "metadata": {},
     "output_type": "execute_result"
    }
   ],
   "source": [
    "data_in_missed['operator_id'].nunique()"
   ]
  },
  {
   "cell_type": "markdown",
   "id": "3162b536",
   "metadata": {},
   "source": [
    "There are 59 inefficient operators according to this criterion"
   ]
  },
  {
   "cell_type": "markdown",
   "id": "93801c61",
   "metadata": {},
   "source": [
    "##### Waiting time for the operator's response"
   ]
  },
  {
   "cell_type": "markdown",
   "id": "3d1e5a72",
   "metadata": {},
   "source": [
    "In this case, as in the previous analysis, we will take for consideration call centers on the input and only incoming calls"
   ]
  },
  {
   "cell_type": "code",
   "execution_count": 25,
   "id": "322663e5",
   "metadata": {},
   "outputs": [
    {
     "data": {
      "text/html": [
       "<div>\n",
       "<style scoped>\n",
       "    .dataframe tbody tr th:only-of-type {\n",
       "        vertical-align: middle;\n",
       "    }\n",
       "\n",
       "    .dataframe tbody tr th {\n",
       "        vertical-align: top;\n",
       "    }\n",
       "\n",
       "    .dataframe thead th {\n",
       "        text-align: right;\n",
       "    }\n",
       "</style>\n",
       "<table border=\"1\" class=\"dataframe\">\n",
       "  <thead>\n",
       "    <tr style=\"text-align: right;\">\n",
       "      <th></th>\n",
       "      <th>operator_id</th>\n",
       "      <th>total_call_duration</th>\n",
       "      <th>call_duration</th>\n",
       "      <th>calls_count</th>\n",
       "      <th>waiting</th>\n",
       "    </tr>\n",
       "  </thead>\n",
       "  <tbody>\n",
       "    <tr>\n",
       "      <th>0</th>\n",
       "      <td>882476</td>\n",
       "      <td>287</td>\n",
       "      <td>192</td>\n",
       "      <td>3</td>\n",
       "      <td>31.666667</td>\n",
       "    </tr>\n",
       "    <tr>\n",
       "      <th>5</th>\n",
       "      <td>886892</td>\n",
       "      <td>130</td>\n",
       "      <td>72</td>\n",
       "      <td>2</td>\n",
       "      <td>29.000000</td>\n",
       "    </tr>\n",
       "    <tr>\n",
       "      <th>7</th>\n",
       "      <td>888406</td>\n",
       "      <td>754</td>\n",
       "      <td>499</td>\n",
       "      <td>9</td>\n",
       "      <td>28.333333</td>\n",
       "    </tr>\n",
       "    <tr>\n",
       "      <th>13</th>\n",
       "      <td>891900</td>\n",
       "      <td>5227</td>\n",
       "      <td>3987</td>\n",
       "      <td>33</td>\n",
       "      <td>37.575758</td>\n",
       "    </tr>\n",
       "    <tr>\n",
       "      <th>16</th>\n",
       "      <td>891918</td>\n",
       "      <td>471</td>\n",
       "      <td>315</td>\n",
       "      <td>5</td>\n",
       "      <td>31.200000</td>\n",
       "    </tr>\n",
       "  </tbody>\n",
       "</table>\n",
       "</div>"
      ],
      "text/plain": [
       "    operator_id  total_call_duration  call_duration  calls_count    waiting\n",
       "0        882476                  287            192            3  31.666667\n",
       "5        886892                  130             72            2  29.000000\n",
       "7        888406                  754            499            9  28.333333\n",
       "13       891900                 5227           3987           33  37.575758\n",
       "16       891918                  471            315            5  31.200000"
      ]
     },
     "execution_count": 25,
     "metadata": {},
     "output_type": "execute_result"
    }
   ],
   "source": [
    "data_in_waiting = data_in_one.groupby('operator_id')['total_call_duration', 'call_duration', 'calls_count'].sum().reset_index()\n",
    "data_in_waiting['waiting'] = (data_in_waiting['total_call_duration'] - data_in_waiting['call_duration']) / data_in_waiting['calls_count']\n",
    "data_in_waiting = data_in_waiting.query('waiting > 28')\n",
    "data_in_waiting.head()"
   ]
  },
  {
   "cell_type": "code",
   "execution_count": 26,
   "id": "e99127ed",
   "metadata": {},
   "outputs": [
    {
     "data": {
      "text/plain": [
       "40"
      ]
     },
     "execution_count": 26,
     "metadata": {},
     "output_type": "execute_result"
    }
   ],
   "source": [
    "data_in_waiting['operator_id'].nunique()"
   ]
  },
  {
   "cell_type": "markdown",
   "id": "f4e14048",
   "metadata": {},
   "source": [
    "The data_in_waiting variable contains operator ids with an average waiting time of more than 28 seconds. There were 40 such operators in total"
   ]
  },
  {
   "cell_type": "markdown",
   "id": "7de2e036",
   "metadata": {},
   "source": [
    "##### Operator's working hours"
   ]
  },
  {
   "cell_type": "code",
   "execution_count": 27,
   "id": "400c1f60",
   "metadata": {},
   "outputs": [
    {
     "data": {
      "text/html": [
       "<div>\n",
       "<style scoped>\n",
       "    .dataframe tbody tr th:only-of-type {\n",
       "        vertical-align: middle;\n",
       "    }\n",
       "\n",
       "    .dataframe tbody tr th {\n",
       "        vertical-align: top;\n",
       "    }\n",
       "\n",
       "    .dataframe thead th {\n",
       "        text-align: right;\n",
       "    }\n",
       "</style>\n",
       "<table border=\"1\" class=\"dataframe\">\n",
       "  <thead>\n",
       "    <tr style=\"text-align: right;\">\n",
       "      <th></th>\n",
       "      <th>operator_id</th>\n",
       "      <th>total_call_duration</th>\n",
       "    </tr>\n",
       "  </thead>\n",
       "  <tbody>\n",
       "    <tr>\n",
       "      <th>0</th>\n",
       "      <td>882476</td>\n",
       "      <td>95.666667</td>\n",
       "    </tr>\n",
       "    <tr>\n",
       "      <th>1</th>\n",
       "      <td>882478</td>\n",
       "      <td>151.000000</td>\n",
       "    </tr>\n",
       "    <tr>\n",
       "      <th>2</th>\n",
       "      <td>884294</td>\n",
       "      <td>11.000000</td>\n",
       "    </tr>\n",
       "    <tr>\n",
       "      <th>3</th>\n",
       "      <td>886674</td>\n",
       "      <td>37.111111</td>\n",
       "    </tr>\n",
       "    <tr>\n",
       "      <th>4</th>\n",
       "      <td>886892</td>\n",
       "      <td>130.000000</td>\n",
       "    </tr>\n",
       "  </tbody>\n",
       "</table>\n",
       "</div>"
      ],
      "text/plain": [
       "   operator_id  total_call_duration\n",
       "0       882476            95.666667\n",
       "1       882478           151.000000\n",
       "2       884294            11.000000\n",
       "3       886674            37.111111\n",
       "4       886892           130.000000"
      ]
     },
     "execution_count": 27,
     "metadata": {},
     "output_type": "execute_result"
    }
   ],
   "source": [
    "data_in_timing = data_in.groupby(['operator_id', 'date'])['total_call_duration'].sum().reset_index()\n",
    "data_in_timing = data_in_timing.groupby('operator_id')['total_call_duration'].mean().reset_index()\n",
    "data_in_timing = data_in_timing.query('total_call_duration < 180').reset_index(drop=True)\n",
    "data_in_timing.head()"
   ]
  },
  {
   "cell_type": "markdown",
   "id": "678f404d",
   "metadata": {},
   "source": [
    "The data_in_timing variable contains the ids of operators who work in call centers with mostly incoming calls and with an average conversation time of less than 3 hours per day"
   ]
  },
  {
   "cell_type": "code",
   "execution_count": 28,
   "id": "e162c928",
   "metadata": {},
   "outputs": [
    {
     "data": {
      "text/plain": [
       "117"
      ]
     },
     "execution_count": 28,
     "metadata": {},
     "output_type": "execute_result"
    }
   ],
   "source": [
    "data_in_timing['operator_id'].nunique()"
   ]
  },
  {
   "cell_type": "markdown",
   "id": "97807fd0",
   "metadata": {},
   "source": [
    "There are 117 inefficient operators according to this criterion"
   ]
  },
  {
   "cell_type": "code",
   "execution_count": 29,
   "id": "fe93b66f",
   "metadata": {},
   "outputs": [
    {
     "data": {
      "text/html": [
       "<div>\n",
       "<style scoped>\n",
       "    .dataframe tbody tr th:only-of-type {\n",
       "        vertical-align: middle;\n",
       "    }\n",
       "\n",
       "    .dataframe tbody tr th {\n",
       "        vertical-align: top;\n",
       "    }\n",
       "\n",
       "    .dataframe thead th {\n",
       "        text-align: right;\n",
       "    }\n",
       "</style>\n",
       "<table border=\"1\" class=\"dataframe\">\n",
       "  <thead>\n",
       "    <tr style=\"text-align: right;\">\n",
       "      <th></th>\n",
       "      <th>operator_id</th>\n",
       "      <th>total_call_duration</th>\n",
       "    </tr>\n",
       "  </thead>\n",
       "  <tbody>\n",
       "    <tr>\n",
       "      <th>0</th>\n",
       "      <td>880020</td>\n",
       "      <td>180.357143</td>\n",
       "    </tr>\n",
       "    <tr>\n",
       "      <th>1</th>\n",
       "      <td>881278</td>\n",
       "      <td>108.600000</td>\n",
       "    </tr>\n",
       "    <tr>\n",
       "      <th>2</th>\n",
       "      <td>883018</td>\n",
       "      <td>15.000000</td>\n",
       "    </tr>\n",
       "    <tr>\n",
       "      <th>3</th>\n",
       "      <td>883898</td>\n",
       "      <td>80.000000</td>\n",
       "    </tr>\n",
       "    <tr>\n",
       "      <th>4</th>\n",
       "      <td>884406</td>\n",
       "      <td>79.000000</td>\n",
       "    </tr>\n",
       "  </tbody>\n",
       "</table>\n",
       "</div>"
      ],
      "text/plain": [
       "   operator_id  total_call_duration\n",
       "0       880020           180.357143\n",
       "1       881278           108.600000\n",
       "2       883018            15.000000\n",
       "3       883898            80.000000\n",
       "4       884406            79.000000"
      ]
     },
     "execution_count": 29,
     "metadata": {},
     "output_type": "execute_result"
    }
   ],
   "source": [
    "data_out_timing = data_out.groupby(['operator_id', 'date'])['total_call_duration'].sum().reset_index()\n",
    "data_out_timing = data_out_timing.groupby('operator_id')['total_call_duration'].mean().reset_index()\n",
    "data_out_timing = data_out_timing.query('total_call_duration < 240').reset_index(drop=True)\n",
    "data_out_timing.head()"
   ]
  },
  {
   "cell_type": "markdown",
   "id": "c6321b1f",
   "metadata": {},
   "source": [
    "The data_in_timing variable contains the ids of operators who work in call centers with mostly outgoing calls and with an average conversation time of less than 4 hours per day"
   ]
  },
  {
   "cell_type": "code",
   "execution_count": 30,
   "id": "5191b8b3",
   "metadata": {},
   "outputs": [
    {
     "data": {
      "text/plain": [
       "241"
      ]
     },
     "execution_count": 30,
     "metadata": {},
     "output_type": "execute_result"
    }
   ],
   "source": [
    "data_out_timing['operator_id'].nunique()"
   ]
  },
  {
   "cell_type": "markdown",
   "id": "9a616b91",
   "metadata": {},
   "source": [
    "There are 241 inefficient operators according to this criterion"
   ]
  },
  {
   "cell_type": "markdown",
   "id": "c26429d1",
   "metadata": {},
   "source": [
    "The parameters studied by us helped to identify a number of inefficient operators. Nevertheless, it is too early to draw final conclusions. It may be worth paying attention to the construction of the operators' work. Also, the data may distort the principles of operation - for example, some operators may respond both to calls and in text format. Therefore, the final conclusions should be made after a more complete study of the structure and principles of operation of specific call centers. Our research will help to indicate from which call centers operators should be investigated."
   ]
  },
  {
   "cell_type": "markdown",
   "id": "2dee66d7",
   "metadata": {},
   "source": [
    "### Hypothesis testing"
   ]
  },
  {
   "cell_type": "markdown",
   "id": "4fa57f2b",
   "metadata": {},
   "source": [
    "#### The duration of outgoing and incoming calls varies"
   ]
  },
  {
   "cell_type": "markdown",
   "id": "5896ce66",
   "metadata": {},
   "source": [
    "Н_0 The duration of outgoing and incoming calls is the same\n",
    "\n",
    "Н_1 The duration of outgoing and incoming calls varies"
   ]
  },
  {
   "cell_type": "code",
   "execution_count": 31,
   "id": "a7ec1778",
   "metadata": {},
   "outputs": [],
   "source": [
    "data_out_duration = data_out['total_call_duration']\n",
    "data_in_duration = data_in['total_call_duration']"
   ]
  },
  {
   "cell_type": "code",
   "execution_count": 32,
   "id": "43916da2",
   "metadata": {},
   "outputs": [],
   "source": [
    "from scipy import stats as st"
   ]
  },
  {
   "cell_type": "code",
   "execution_count": 33,
   "id": "ff828f7e",
   "metadata": {},
   "outputs": [
    {
     "name": "stdout",
     "output_type": "stream",
     "text": [
      "1.2637312901343038e-123\n",
      "Reject the null hypothesis\n"
     ]
    }
   ],
   "source": [
    "results = st.ttest_ind(data_out_duration, data_in_duration, equal_var=False)\n",
    "alpha = .05\n",
    "print(results.pvalue)\n",
    "if results.pvalue < alpha:\n",
    "    print(\"Reject the null hypothesis\")\n",
    "else:\n",
    "    print(\"Can not reject the null hypothesis\")"
   ]
  },
  {
   "cell_type": "markdown",
   "id": "c038b764",
   "metadata": {},
   "source": [
    "#### The number of missed calls internal and client varies"
   ]
  },
  {
   "cell_type": "markdown",
   "id": "732dced3",
   "metadata": {},
   "source": [
    "Н_0 The number of missed calls internal and client is the same\n",
    "\n",
    "Н_1 The number of missed calls internal and client varies"
   ]
  },
  {
   "cell_type": "code",
   "execution_count": 39,
   "id": "7f0209ae",
   "metadata": {},
   "outputs": [],
   "source": [
    "data_internal = data[data['internal'] == True]['is_missed_call']\n",
    "data_external = data[data['internal'] == False]['is_missed_call']"
   ]
  },
  {
   "cell_type": "code",
   "execution_count": 40,
   "id": "96204bd9",
   "metadata": {},
   "outputs": [
    {
     "name": "stdout",
     "output_type": "stream",
     "text": [
      "2.385670095453404e-69\n",
      "Reject the null hypothesis\n"
     ]
    }
   ],
   "source": [
    "results = st.ttest_ind(data_internal, data_external, equal_var=False)\n",
    "alpha = .05\n",
    "print(results.pvalue)\n",
    "if results.pvalue < alpha:\n",
    "    print(\"Reject the null hypothesis\")\n",
    "else:\n",
    "    print(\"Can not reject the null hypothesis\")"
   ]
  },
  {
   "cell_type": "markdown",
   "id": "139d5ada",
   "metadata": {},
   "source": [
    "#### The number of inefficient employees in call centers on tariff A and tariff B differs"
   ]
  },
  {
   "cell_type": "code",
   "execution_count": 36,
   "id": "30ed41dc",
   "metadata": {},
   "outputs": [],
   "source": [
    "data_tariff = data.merge(tariff, on='user_id', how='left')\n",
    "data_filtered = data_tariff.query(\n",
    "    '(operator_id in @data_in_missed.operator_id) or (operator_id in @data_in_waiting.operator_id) or (operator_id in @data_out_timing.operator_id)')"
   ]
  },
  {
   "cell_type": "markdown",
   "id": "efbfa89f",
   "metadata": {},
   "source": [
    "Н_0 The number of inefficient employees in call centers on tariff A and tariff B is the same\n",
    "\n",
    "Н_1 The number of inefficient employees in call centers on tariff A and tariff B differs"
   ]
  },
  {
   "cell_type": "code",
   "execution_count": 41,
   "id": "5cc3dbbc",
   "metadata": {},
   "outputs": [],
   "source": [
    "data_A = data_filtered[data_filtered['tariff_plan'] == \"A\"]['is_missed_call']\n",
    "data_B = data_filtered[data_filtered['tariff_plan'] == \"B\"]['is_missed_call']"
   ]
  },
  {
   "cell_type": "code",
   "execution_count": 42,
   "id": "683f4191",
   "metadata": {},
   "outputs": [
    {
     "name": "stdout",
     "output_type": "stream",
     "text": [
      "0.018341792958485748\n",
      "Reject the null hypothesis\n"
     ]
    }
   ],
   "source": [
    "results = st.ttest_ind(data_A, data_B, equal_var=False)\n",
    "alpha = .05\n",
    "print(results.pvalue)\n",
    "if results.pvalue < alpha:\n",
    "    print(\"Reject the null hypothesis\")\n",
    "else:\n",
    "    print(\"Can not reject the null hypothesis\")"
   ]
  },
  {
   "cell_type": "markdown",
   "id": "e12f7821",
   "metadata": {},
   "source": [
    "### Conclusions"
   ]
  },
  {
   "cell_type": "markdown",
   "id": "0c27b7f9",
   "metadata": {},
   "source": [
    "Based on the results of the study, we were able to form criteria for employee inefficiency and identify directly ineffective employees. In addition, we conducted a number of statistical studies, in which we found out that the duration of outgoing and incoming calls differs, the number of missed internal and client calls differs, and the number of non-effective employees in call centers at tariff A and tariff B is equal."
   ]
  }
 ],
 "metadata": {
  "ExecuteTimeLog": [
   {
    "duration": 1278,
    "start_time": "2023-02-24T13:48:11.065Z"
   },
   {
    "duration": 72,
    "start_time": "2023-02-24T13:48:48.505Z"
   },
   {
    "duration": 138,
    "start_time": "2023-02-24T13:49:26.357Z"
   },
   {
    "duration": 33,
    "start_time": "2023-02-24T13:50:06.621Z"
   },
   {
    "duration": 91,
    "start_time": "2023-02-24T13:58:18.921Z"
   },
   {
    "duration": 1064,
    "start_time": "2023-02-24T13:58:26.679Z"
   },
   {
    "duration": 25,
    "start_time": "2023-02-24T13:58:27.745Z"
   },
   {
    "duration": 31,
    "start_time": "2023-02-24T13:58:27.771Z"
   },
   {
    "duration": 7,
    "start_time": "2023-02-24T13:58:27.805Z"
   },
   {
    "duration": 62,
    "start_time": "2023-02-24T13:58:27.813Z"
   },
   {
    "duration": 38,
    "start_time": "2023-02-24T13:58:27.878Z"
   },
   {
    "duration": 51,
    "start_time": "2023-02-24T13:58:27.919Z"
   },
   {
    "duration": 36,
    "start_time": "2023-02-24T13:58:27.973Z"
   },
   {
    "duration": 33,
    "start_time": "2023-02-24T13:58:28.011Z"
   },
   {
    "duration": 6,
    "start_time": "2023-02-24T13:58:28.047Z"
   },
   {
    "duration": 6,
    "start_time": "2023-02-24T13:58:28.055Z"
   },
   {
    "duration": 18,
    "start_time": "2023-02-24T13:58:28.063Z"
   },
   {
    "duration": 11,
    "start_time": "2023-02-24T13:58:28.083Z"
   },
   {
    "duration": 20,
    "start_time": "2023-02-24T13:58:28.096Z"
   },
   {
    "duration": 10,
    "start_time": "2023-02-24T13:58:28.118Z"
   },
   {
    "duration": 27,
    "start_time": "2023-02-24T13:58:28.129Z"
   },
   {
    "duration": 24,
    "start_time": "2023-02-24T13:58:28.158Z"
   },
   {
    "duration": 22,
    "start_time": "2023-02-24T13:58:28.183Z"
   },
   {
    "duration": 6,
    "start_time": "2023-02-24T13:58:28.207Z"
   },
   {
    "duration": 44,
    "start_time": "2023-02-24T13:58:28.214Z"
   },
   {
    "duration": 6,
    "start_time": "2023-02-24T13:58:28.260Z"
   },
   {
    "duration": 21,
    "start_time": "2023-02-24T13:58:28.268Z"
   },
   {
    "duration": 26,
    "start_time": "2023-02-24T13:58:28.290Z"
   },
   {
    "duration": 5,
    "start_time": "2023-02-24T13:58:28.318Z"
   },
   {
    "duration": 35,
    "start_time": "2023-02-24T13:58:28.325Z"
   },
   {
    "duration": 16,
    "start_time": "2023-02-24T13:58:28.361Z"
   },
   {
    "duration": 9,
    "start_time": "2023-02-24T13:58:28.378Z"
   },
   {
    "duration": 31,
    "start_time": "2023-02-24T13:58:28.390Z"
   },
   {
    "duration": 22,
    "start_time": "2023-02-24T13:58:28.423Z"
   },
   {
    "duration": 29,
    "start_time": "2023-02-24T13:58:28.447Z"
   },
   {
    "duration": 4,
    "start_time": "2023-02-24T13:58:28.479Z"
   },
   {
    "duration": 12,
    "start_time": "2023-02-24T13:58:28.485Z"
   },
   {
    "duration": 8,
    "start_time": "2023-02-24T13:58:28.499Z"
   },
   {
    "duration": 13,
    "start_time": "2023-02-24T13:58:28.509Z"
   },
   {
    "duration": 10,
    "start_time": "2023-02-24T13:58:28.523Z"
   },
   {
    "duration": 8,
    "start_time": "2023-02-24T13:58:28.544Z"
   },
   {
    "duration": 28,
    "start_time": "2023-02-24T13:58:28.553Z"
   },
   {
    "duration": 8,
    "start_time": "2023-02-24T13:58:28.583Z"
   },
   {
    "duration": 15,
    "start_time": "2023-02-24T13:58:28.592Z"
   },
   {
    "duration": 20,
    "start_time": "2023-02-24T13:59:45.071Z"
   },
   {
    "duration": 101,
    "start_time": "2023-02-24T14:11:06.958Z"
   },
   {
    "duration": 21,
    "start_time": "2023-02-24T14:11:21.913Z"
   },
   {
    "duration": 68,
    "start_time": "2023-02-24T14:12:00.792Z"
   },
   {
    "duration": 61,
    "start_time": "2023-02-24T14:12:06.429Z"
   },
   {
    "duration": 50,
    "start_time": "2023-02-24T14:12:25.067Z"
   },
   {
    "duration": 999,
    "start_time": "2023-02-24T14:12:52.710Z"
   },
   {
    "duration": 1019,
    "start_time": "2023-02-24T14:13:13.206Z"
   },
   {
    "duration": 23,
    "start_time": "2023-02-24T14:13:14.227Z"
   },
   {
    "duration": 26,
    "start_time": "2023-02-24T14:13:14.251Z"
   },
   {
    "duration": 5,
    "start_time": "2023-02-24T14:13:14.279Z"
   },
   {
    "duration": 30,
    "start_time": "2023-02-24T14:13:14.285Z"
   },
   {
    "duration": 48,
    "start_time": "2023-02-24T14:13:14.317Z"
   },
   {
    "duration": 32,
    "start_time": "2023-02-24T14:13:14.367Z"
   },
   {
    "duration": 49,
    "start_time": "2023-02-24T14:13:14.401Z"
   },
   {
    "duration": 11,
    "start_time": "2023-02-24T14:13:14.451Z"
   },
   {
    "duration": 5,
    "start_time": "2023-02-24T14:13:14.465Z"
   },
   {
    "duration": 6,
    "start_time": "2023-02-24T14:13:14.472Z"
   },
   {
    "duration": 15,
    "start_time": "2023-02-24T14:13:14.479Z"
   },
   {
    "duration": 11,
    "start_time": "2023-02-24T14:13:14.496Z"
   },
   {
    "duration": 38,
    "start_time": "2023-02-24T14:13:14.508Z"
   },
   {
    "duration": 9,
    "start_time": "2023-02-24T14:13:14.548Z"
   },
   {
    "duration": 12,
    "start_time": "2023-02-24T14:13:14.559Z"
   },
   {
    "duration": 22,
    "start_time": "2023-02-24T14:13:14.573Z"
   },
   {
    "duration": 22,
    "start_time": "2023-02-24T14:13:14.597Z"
   },
   {
    "duration": 29,
    "start_time": "2023-02-24T14:13:14.620Z"
   },
   {
    "duration": 11,
    "start_time": "2023-02-24T14:13:14.651Z"
   },
   {
    "duration": 5,
    "start_time": "2023-02-24T14:13:14.664Z"
   },
   {
    "duration": 11,
    "start_time": "2023-02-24T14:13:14.671Z"
   },
   {
    "duration": 23,
    "start_time": "2023-02-24T14:13:14.683Z"
   },
   {
    "duration": 40,
    "start_time": "2023-02-24T14:13:14.707Z"
   },
   {
    "duration": 24,
    "start_time": "2023-02-24T14:13:14.748Z"
   },
   {
    "duration": 18,
    "start_time": "2023-02-24T14:13:14.774Z"
   },
   {
    "duration": 1139,
    "start_time": "2023-02-24T14:13:14.793Z"
   },
   {
    "duration": 0,
    "start_time": "2023-02-24T14:13:15.935Z"
   },
   {
    "duration": 0,
    "start_time": "2023-02-24T14:13:15.937Z"
   },
   {
    "duration": 0,
    "start_time": "2023-02-24T14:13:15.938Z"
   },
   {
    "duration": 0,
    "start_time": "2023-02-24T14:13:15.940Z"
   },
   {
    "duration": 0,
    "start_time": "2023-02-24T14:13:15.941Z"
   },
   {
    "duration": 0,
    "start_time": "2023-02-24T14:13:15.943Z"
   },
   {
    "duration": 0,
    "start_time": "2023-02-24T14:13:15.944Z"
   },
   {
    "duration": 0,
    "start_time": "2023-02-24T14:13:15.946Z"
   },
   {
    "duration": 0,
    "start_time": "2023-02-24T14:13:15.947Z"
   },
   {
    "duration": 0,
    "start_time": "2023-02-24T14:13:15.949Z"
   },
   {
    "duration": 0,
    "start_time": "2023-02-24T14:13:15.951Z"
   },
   {
    "duration": 0,
    "start_time": "2023-02-24T14:13:15.952Z"
   },
   {
    "duration": 0,
    "start_time": "2023-02-24T14:13:15.954Z"
   },
   {
    "duration": 12,
    "start_time": "2023-02-24T14:14:15.278Z"
   },
   {
    "duration": 10,
    "start_time": "2023-02-24T14:14:30.762Z"
   },
   {
    "duration": 9,
    "start_time": "2023-02-24T14:14:44.467Z"
   },
   {
    "duration": 3,
    "start_time": "2023-02-24T14:14:48.043Z"
   },
   {
    "duration": 19,
    "start_time": "2023-02-24T14:14:53.857Z"
   },
   {
    "duration": 12,
    "start_time": "2023-02-24T14:17:48.116Z"
   },
   {
    "duration": 16,
    "start_time": "2023-02-24T14:19:23.375Z"
   },
   {
    "duration": 16,
    "start_time": "2023-02-24T14:22:45.541Z"
   },
   {
    "duration": 5,
    "start_time": "2023-02-24T14:23:26.593Z"
   },
   {
    "duration": 1294,
    "start_time": "2023-02-25T11:15:11.928Z"
   },
   {
    "duration": 29,
    "start_time": "2023-02-25T11:15:13.224Z"
   },
   {
    "duration": 28,
    "start_time": "2023-02-25T11:15:13.255Z"
   },
   {
    "duration": 6,
    "start_time": "2023-02-25T11:15:13.285Z"
   },
   {
    "duration": 53,
    "start_time": "2023-02-25T11:15:13.293Z"
   },
   {
    "duration": 28,
    "start_time": "2023-02-25T11:15:13.348Z"
   },
   {
    "duration": 34,
    "start_time": "2023-02-25T11:15:13.378Z"
   },
   {
    "duration": 56,
    "start_time": "2023-02-25T11:15:13.413Z"
   },
   {
    "duration": 11,
    "start_time": "2023-02-25T11:15:13.471Z"
   },
   {
    "duration": 5,
    "start_time": "2023-02-25T11:15:13.486Z"
   },
   {
    "duration": 9,
    "start_time": "2023-02-25T11:15:13.493Z"
   },
   {
    "duration": 54,
    "start_time": "2023-02-25T11:15:13.504Z"
   },
   {
    "duration": 14,
    "start_time": "2023-02-25T11:15:13.559Z"
   },
   {
    "duration": 12,
    "start_time": "2023-02-25T11:15:13.575Z"
   },
   {
    "duration": 17,
    "start_time": "2023-02-25T11:15:13.589Z"
   },
   {
    "duration": 35,
    "start_time": "2023-02-25T11:15:13.609Z"
   },
   {
    "duration": 28,
    "start_time": "2023-02-25T11:15:13.647Z"
   },
   {
    "duration": 29,
    "start_time": "2023-02-25T11:15:13.677Z"
   },
   {
    "duration": 6,
    "start_time": "2023-02-25T11:15:13.708Z"
   },
   {
    "duration": 33,
    "start_time": "2023-02-25T11:15:13.716Z"
   },
   {
    "duration": 6,
    "start_time": "2023-02-25T11:15:13.750Z"
   },
   {
    "duration": 25,
    "start_time": "2023-02-25T11:15:13.758Z"
   },
   {
    "duration": 24,
    "start_time": "2023-02-25T11:15:13.785Z"
   },
   {
    "duration": 4,
    "start_time": "2023-02-25T11:15:13.811Z"
   },
   {
    "duration": 70,
    "start_time": "2023-02-25T11:15:13.817Z"
   },
   {
    "duration": 20,
    "start_time": "2023-02-25T11:15:13.889Z"
   },
   {
    "duration": 28,
    "start_time": "2023-02-25T11:15:13.912Z"
   },
   {
    "duration": 7,
    "start_time": "2023-02-25T11:15:13.945Z"
   },
   {
    "duration": 18,
    "start_time": "2023-02-25T11:15:13.954Z"
   },
   {
    "duration": 5,
    "start_time": "2023-02-25T11:15:13.974Z"
   },
   {
    "duration": 25,
    "start_time": "2023-02-25T11:15:13.981Z"
   },
   {
    "duration": 34,
    "start_time": "2023-02-25T11:15:14.008Z"
   },
   {
    "duration": 6,
    "start_time": "2023-02-25T11:15:14.044Z"
   },
   {
    "duration": 6,
    "start_time": "2023-02-25T11:15:14.052Z"
   },
   {
    "duration": 12,
    "start_time": "2023-02-25T11:15:14.060Z"
   },
   {
    "duration": 12,
    "start_time": "2023-02-25T11:15:14.074Z"
   },
   {
    "duration": 7,
    "start_time": "2023-02-25T11:15:14.088Z"
   },
   {
    "duration": 51,
    "start_time": "2023-02-25T11:15:14.097Z"
   },
   {
    "duration": 9,
    "start_time": "2023-02-25T11:15:14.151Z"
   },
   {
    "duration": 8,
    "start_time": "2023-02-25T11:15:14.162Z"
   }
  ],
  "kernelspec": {
   "display_name": "Python 3 (ipykernel)",
   "language": "python",
   "name": "python3"
  },
  "language_info": {
   "codemirror_mode": {
    "name": "ipython",
    "version": 3
   },
   "file_extension": ".py",
   "mimetype": "text/x-python",
   "name": "python",
   "nbconvert_exporter": "python",
   "pygments_lexer": "ipython3",
   "version": "3.9.7"
  },
  "toc": {
   "base_numbering": 1,
   "nav_menu": {},
   "number_sections": true,
   "sideBar": true,
   "skip_h1_title": true,
   "title_cell": "Table of Contents",
   "title_sidebar": "Contents",
   "toc_cell": false,
   "toc_position": {},
   "toc_section_display": true,
   "toc_window_display": true
  }
 },
 "nbformat": 4,
 "nbformat_minor": 5
}
