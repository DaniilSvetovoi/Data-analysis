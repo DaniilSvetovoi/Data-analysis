{
 "cells": [
  {
   "cell_type": "markdown",
   "id": "c08204dc",
   "metadata": {},
   "source": [
    "# Analysis of hypotheses for increasing the revenue of an online store\n",
    "\n",
    "According to the data provided by the marketing department, we will analyze a set of hypotheses for increasing the revenue of an online store"
   ]
  },
  {
   "cell_type": "markdown",
   "id": "762ea8b8",
   "metadata": {},
   "source": [
    "**Project Description**\n",
    "\n",
    "In the course of this study, we will analyze hypotheses about an increase in the revenue of an online store.\n",
    "\n",
    "**Research objectives**\n",
    "\n",
    "Prioritize hypotheses, run an A/B test and analyze the results\n",
    "\n",
    "**Initial data**\n",
    "\n",
    "Three tables are presented for the study, including:\n",
    "\n",
    "A table with data on hypotheses\n",
    "\n",
    "A table with information about orders\n",
    "\n",
    "A table with information about users\n",
    "\n",
    "**This study will be divided into four parts:**\n",
    "\n",
    "1. [Loading data and preparing it for analysis](#Loading-data-and-preparing-it-for-analysis)\n",
    "2. [Prioritization of hypotheses](#Prioritization-of-hypotheses)\n",
    "3. [A/B Test Analysis](#A/B-Test-Analysis)\n",
    "4. [Conclusions](#Conclusions)"
   ]
  },
  {
   "cell_type": "markdown",
   "id": "6e72ac12",
   "metadata": {},
   "source": [
    "### Loading data and preparing it for analysis"
   ]
  },
  {
   "cell_type": "markdown",
   "id": "60fdc1b3",
   "metadata": {},
   "source": [
    "Loading data about hypotheses, orders and users from CSV files into variables."
   ]
  },
  {
   "cell_type": "code",
   "execution_count": 1,
   "id": "04a86a11",
   "metadata": {},
   "outputs": [],
   "source": [
    "import pandas as pd\n",
    "import datetime as dt\n",
    "import numpy as np\n",
    "import matplotlib.pyplot as plt\n",
    "from pandas.plotting import register_matplotlib_converters\n",
    "import warnings\n",
    "import scipy.stats as stats\n",
    " \n",
    "register_matplotlib_converters()\n",
    "\n",
    "try:\n",
    "    hypothesis = pd.read_csv('D:/Документы/LinkedIn/5 Принятие решений в бизнесе/hypothesis.csv')\n",
    "    orders = pd.read_csv('D:/Документы/LinkedIn/5 Принятие решений в бизнесе/orders.csv')\n",
    "    visitors = pd.read_csv('D:/Документы/LinkedIn/5 Принятие решений в бизнесе/visitors.csv')\n",
    "except:\n",
    "    hypothesis = pd.read_csv('/datasets/hypothesis.csv')\n",
    "    orders = pd.read_csv('/datasets/orders.csv')\n",
    "    visitors = pd.read_csv('/datasets/visitors.csv')"
   ]
  },
  {
   "cell_type": "markdown",
   "id": "6f04986b",
   "metadata": {},
   "source": [
    "Let's look at the file with hypotheses:"
   ]
  },
  {
   "cell_type": "code",
   "execution_count": 2,
   "id": "52a427f6",
   "metadata": {},
   "outputs": [
    {
     "data": {
      "text/html": [
       "<div>\n",
       "<style scoped>\n",
       "    .dataframe tbody tr th:only-of-type {\n",
       "        vertical-align: middle;\n",
       "    }\n",
       "\n",
       "    .dataframe tbody tr th {\n",
       "        vertical-align: top;\n",
       "    }\n",
       "\n",
       "    .dataframe thead th {\n",
       "        text-align: right;\n",
       "    }\n",
       "</style>\n",
       "<table border=\"1\" class=\"dataframe\">\n",
       "  <thead>\n",
       "    <tr style=\"text-align: right;\">\n",
       "      <th></th>\n",
       "      <th>Hypothesis</th>\n",
       "      <th>Reach</th>\n",
       "      <th>Impact</th>\n",
       "      <th>Confidence</th>\n",
       "      <th>Efforts</th>\n",
       "    </tr>\n",
       "  </thead>\n",
       "  <tbody>\n",
       "    <tr>\n",
       "      <th>0</th>\n",
       "      <td>Добавить два новых канала привлечения трафика,...</td>\n",
       "      <td>3</td>\n",
       "      <td>10</td>\n",
       "      <td>8</td>\n",
       "      <td>6</td>\n",
       "    </tr>\n",
       "    <tr>\n",
       "      <th>1</th>\n",
       "      <td>Запустить собственную службу доставки, что сок...</td>\n",
       "      <td>2</td>\n",
       "      <td>5</td>\n",
       "      <td>4</td>\n",
       "      <td>10</td>\n",
       "    </tr>\n",
       "    <tr>\n",
       "      <th>2</th>\n",
       "      <td>Добавить блоки рекомендаций товаров на сайт ин...</td>\n",
       "      <td>8</td>\n",
       "      <td>3</td>\n",
       "      <td>7</td>\n",
       "      <td>3</td>\n",
       "    </tr>\n",
       "    <tr>\n",
       "      <th>3</th>\n",
       "      <td>Изменить структура категорий, что увеличит кон...</td>\n",
       "      <td>8</td>\n",
       "      <td>3</td>\n",
       "      <td>3</td>\n",
       "      <td>8</td>\n",
       "    </tr>\n",
       "    <tr>\n",
       "      <th>4</th>\n",
       "      <td>Изменить цвет фона главной страницы, чтобы уве...</td>\n",
       "      <td>3</td>\n",
       "      <td>1</td>\n",
       "      <td>1</td>\n",
       "      <td>1</td>\n",
       "    </tr>\n",
       "  </tbody>\n",
       "</table>\n",
       "</div>"
      ],
      "text/plain": [
       "                                          Hypothesis  Reach  Impact  \\\n",
       "0  Добавить два новых канала привлечения трафика,...      3      10   \n",
       "1  Запустить собственную службу доставки, что сок...      2       5   \n",
       "2  Добавить блоки рекомендаций товаров на сайт ин...      8       3   \n",
       "3  Изменить структура категорий, что увеличит кон...      8       3   \n",
       "4  Изменить цвет фона главной страницы, чтобы уве...      3       1   \n",
       "\n",
       "   Confidence  Efforts  \n",
       "0           8        6  \n",
       "1           4       10  \n",
       "2           7        3  \n",
       "3           3        8  \n",
       "4           1        1  "
      ]
     },
     "metadata": {},
     "output_type": "display_data"
    },
    {
     "name": "stdout",
     "output_type": "stream",
     "text": [
      "<class 'pandas.core.frame.DataFrame'>\n",
      "RangeIndex: 9 entries, 0 to 8\n",
      "Data columns (total 5 columns):\n",
      " #   Column      Non-Null Count  Dtype \n",
      "---  ------      --------------  ----- \n",
      " 0   Hypothesis  9 non-null      object\n",
      " 1   Reach       9 non-null      int64 \n",
      " 2   Impact      9 non-null      int64 \n",
      " 3   Confidence  9 non-null      int64 \n",
      " 4   Efforts     9 non-null      int64 \n",
      "dtypes: int64(4), object(1)\n",
      "memory usage: 488.0+ bytes\n"
     ]
    }
   ],
   "source": [
    "display(hypothesis.head())\n",
    "hypothesis.info()"
   ]
  },
  {
   "cell_type": "markdown",
   "id": "5f2a91b0",
   "metadata": {},
   "source": [
    "The data frame contains all the necessary data for calculating the ICE and ICE indicators"
   ]
  },
  {
   "cell_type": "markdown",
   "id": "3a8bd372",
   "metadata": {},
   "source": [
    "### Prioritization of hypotheses"
   ]
  },
  {
   "cell_type": "markdown",
   "id": "6b8acf0b",
   "metadata": {},
   "source": [
    "#### ICE"
   ]
  },
  {
   "cell_type": "markdown",
   "id": "885a1f47",
   "metadata": {},
   "source": [
    "ICE is calculated using the formula ICE core = (Impact x Confidence) / Efforts. Let's translate this into Python and sort it in descending order"
   ]
  },
  {
   "cell_type": "code",
   "execution_count": 3,
   "id": "ccf76e97",
   "metadata": {},
   "outputs": [
    {
     "data": {
      "text/html": [
       "<div>\n",
       "<style scoped>\n",
       "    .dataframe tbody tr th:only-of-type {\n",
       "        vertical-align: middle;\n",
       "    }\n",
       "\n",
       "    .dataframe tbody tr th {\n",
       "        vertical-align: top;\n",
       "    }\n",
       "\n",
       "    .dataframe thead th {\n",
       "        text-align: right;\n",
       "    }\n",
       "</style>\n",
       "<table border=\"1\" class=\"dataframe\">\n",
       "  <thead>\n",
       "    <tr style=\"text-align: right;\">\n",
       "      <th></th>\n",
       "      <th>Hypothesis</th>\n",
       "      <th>Reach</th>\n",
       "      <th>Impact</th>\n",
       "      <th>Confidence</th>\n",
       "      <th>Efforts</th>\n",
       "      <th>ICE</th>\n",
       "    </tr>\n",
       "  </thead>\n",
       "  <tbody>\n",
       "    <tr>\n",
       "      <th>0</th>\n",
       "      <td>Добавить два новых канала привлечения трафика,...</td>\n",
       "      <td>3</td>\n",
       "      <td>10</td>\n",
       "      <td>8</td>\n",
       "      <td>6</td>\n",
       "      <td>10.0</td>\n",
       "    </tr>\n",
       "    <tr>\n",
       "      <th>8</th>\n",
       "      <td>Запустить акцию, дающую скидку на товар в день...</td>\n",
       "      <td>1</td>\n",
       "      <td>9</td>\n",
       "      <td>9</td>\n",
       "      <td>5</td>\n",
       "      <td>9.0</td>\n",
       "    </tr>\n",
       "    <tr>\n",
       "      <th>7</th>\n",
       "      <td>Добавить форму подписки на все основные страни...</td>\n",
       "      <td>10</td>\n",
       "      <td>7</td>\n",
       "      <td>8</td>\n",
       "      <td>5</td>\n",
       "      <td>7.0</td>\n",
       "    </tr>\n",
       "    <tr>\n",
       "      <th>1</th>\n",
       "      <td>Запустить собственную службу доставки, что сок...</td>\n",
       "      <td>2</td>\n",
       "      <td>5</td>\n",
       "      <td>4</td>\n",
       "      <td>10</td>\n",
       "      <td>5.0</td>\n",
       "    </tr>\n",
       "    <tr>\n",
       "      <th>2</th>\n",
       "      <td>Добавить блоки рекомендаций товаров на сайт ин...</td>\n",
       "      <td>8</td>\n",
       "      <td>3</td>\n",
       "      <td>7</td>\n",
       "      <td>3</td>\n",
       "      <td>3.0</td>\n",
       "    </tr>\n",
       "  </tbody>\n",
       "</table>\n",
       "</div>"
      ],
      "text/plain": [
       "                                          Hypothesis  Reach  Impact  \\\n",
       "0  Добавить два новых канала привлечения трафика,...      3      10   \n",
       "8  Запустить акцию, дающую скидку на товар в день...      1       9   \n",
       "7  Добавить форму подписки на все основные страни...     10       7   \n",
       "1  Запустить собственную службу доставки, что сок...      2       5   \n",
       "2  Добавить блоки рекомендаций товаров на сайт ин...      8       3   \n",
       "\n",
       "   Confidence  Efforts   ICE  \n",
       "0           8        6  10.0  \n",
       "8           9        5   9.0  \n",
       "7           8        5   7.0  \n",
       "1           4       10   5.0  \n",
       "2           7        3   3.0  "
      ]
     },
     "execution_count": 3,
     "metadata": {},
     "output_type": "execute_result"
    }
   ],
   "source": [
    "hypothesis['ICE'] = (hypothesis['Impact'] * hypothesis['Confidence']) / hypothesis['Confidence']\n",
    "hypothesis.sort_values(by='ICE', ascending=False).head()"
   ]
  },
  {
   "cell_type": "markdown",
   "id": "9b1af4d3",
   "metadata": {},
   "source": [
    "According to the ICE methodology, the most priority hypothesis is to add two new channels to attract traffic."
   ]
  },
  {
   "cell_type": "markdown",
   "id": "83b217dd",
   "metadata": {},
   "source": [
    "#### RICE"
   ]
  },
  {
   "cell_type": "markdown",
   "id": "2f217ba9",
   "metadata": {},
   "source": [
    "Now let's calculate the ICE indicator, but with audience coverage. The RICE formula is as follows: RICE score = (Reach x Impact x Confidence) / Efforts"
   ]
  },
  {
   "cell_type": "code",
   "execution_count": 4,
   "id": "c2d332e7",
   "metadata": {},
   "outputs": [
    {
     "data": {
      "text/html": [
       "<div>\n",
       "<style scoped>\n",
       "    .dataframe tbody tr th:only-of-type {\n",
       "        vertical-align: middle;\n",
       "    }\n",
       "\n",
       "    .dataframe tbody tr th {\n",
       "        vertical-align: top;\n",
       "    }\n",
       "\n",
       "    .dataframe thead th {\n",
       "        text-align: right;\n",
       "    }\n",
       "</style>\n",
       "<table border=\"1\" class=\"dataframe\">\n",
       "  <thead>\n",
       "    <tr style=\"text-align: right;\">\n",
       "      <th></th>\n",
       "      <th>Hypothesis</th>\n",
       "      <th>Reach</th>\n",
       "      <th>Impact</th>\n",
       "      <th>Confidence</th>\n",
       "      <th>Efforts</th>\n",
       "      <th>ICE</th>\n",
       "      <th>RICE</th>\n",
       "    </tr>\n",
       "  </thead>\n",
       "  <tbody>\n",
       "    <tr>\n",
       "      <th>7</th>\n",
       "      <td>Добавить форму подписки на все основные страни...</td>\n",
       "      <td>10</td>\n",
       "      <td>7</td>\n",
       "      <td>8</td>\n",
       "      <td>5</td>\n",
       "      <td>7.0</td>\n",
       "      <td>70.0</td>\n",
       "    </tr>\n",
       "    <tr>\n",
       "      <th>0</th>\n",
       "      <td>Добавить два новых канала привлечения трафика,...</td>\n",
       "      <td>3</td>\n",
       "      <td>10</td>\n",
       "      <td>8</td>\n",
       "      <td>6</td>\n",
       "      <td>10.0</td>\n",
       "      <td>30.0</td>\n",
       "    </tr>\n",
       "    <tr>\n",
       "      <th>2</th>\n",
       "      <td>Добавить блоки рекомендаций товаров на сайт ин...</td>\n",
       "      <td>8</td>\n",
       "      <td>3</td>\n",
       "      <td>7</td>\n",
       "      <td>3</td>\n",
       "      <td>3.0</td>\n",
       "      <td>24.0</td>\n",
       "    </tr>\n",
       "    <tr>\n",
       "      <th>3</th>\n",
       "      <td>Изменить структура категорий, что увеличит кон...</td>\n",
       "      <td>8</td>\n",
       "      <td>3</td>\n",
       "      <td>3</td>\n",
       "      <td>8</td>\n",
       "      <td>3.0</td>\n",
       "      <td>24.0</td>\n",
       "    </tr>\n",
       "    <tr>\n",
       "      <th>6</th>\n",
       "      <td>Показать на главной странице баннеры с актуаль...</td>\n",
       "      <td>5</td>\n",
       "      <td>3</td>\n",
       "      <td>8</td>\n",
       "      <td>3</td>\n",
       "      <td>3.0</td>\n",
       "      <td>15.0</td>\n",
       "    </tr>\n",
       "  </tbody>\n",
       "</table>\n",
       "</div>"
      ],
      "text/plain": [
       "                                          Hypothesis  Reach  Impact  \\\n",
       "7  Добавить форму подписки на все основные страни...     10       7   \n",
       "0  Добавить два новых канала привлечения трафика,...      3      10   \n",
       "2  Добавить блоки рекомендаций товаров на сайт ин...      8       3   \n",
       "3  Изменить структура категорий, что увеличит кон...      8       3   \n",
       "6  Показать на главной странице баннеры с актуаль...      5       3   \n",
       "\n",
       "   Confidence  Efforts   ICE  RICE  \n",
       "7           8        5   7.0  70.0  \n",
       "0           8        6  10.0  30.0  \n",
       "2           7        3   3.0  24.0  \n",
       "3           3        8   3.0  24.0  \n",
       "6           8        3   3.0  15.0  "
      ]
     },
     "execution_count": 4,
     "metadata": {},
     "output_type": "execute_result"
    }
   ],
   "source": [
    "hypothesis['RICE'] = (hypothesis['Impact'] * hypothesis['Confidence'] * hypothesis['Reach']) / hypothesis['Confidence']\n",
    "hypothesis.sort_values(by='RICE', ascending=False).head()"
   ]
  },
  {
   "cell_type": "markdown",
   "id": "1b066954",
   "metadata": {},
   "source": [
    "Taking into account the coverage, the most priority theory becomes theory No. 7 - Add a subscription form to all the main pages. RICE showed the level of audience coverage. The seventh theory has a much higher score than the zero theory, which scored the most points in ICE."
   ]
  },
  {
   "cell_type": "markdown",
   "id": "c2df3056",
   "metadata": {},
   "source": [
    "### A/B Test Analysis"
   ]
  },
  {
   "cell_type": "markdown",
   "id": "16cd6474",
   "metadata": {},
   "source": [
    "To begin with, let's look at the orders and visitors dataframes presented"
   ]
  },
  {
   "cell_type": "code",
   "execution_count": 5,
   "id": "4891b6f8",
   "metadata": {},
   "outputs": [
    {
     "data": {
      "text/html": [
       "<div>\n",
       "<style scoped>\n",
       "    .dataframe tbody tr th:only-of-type {\n",
       "        vertical-align: middle;\n",
       "    }\n",
       "\n",
       "    .dataframe tbody tr th {\n",
       "        vertical-align: top;\n",
       "    }\n",
       "\n",
       "    .dataframe thead th {\n",
       "        text-align: right;\n",
       "    }\n",
       "</style>\n",
       "<table border=\"1\" class=\"dataframe\">\n",
       "  <thead>\n",
       "    <tr style=\"text-align: right;\">\n",
       "      <th></th>\n",
       "      <th>transactionId</th>\n",
       "      <th>visitorId</th>\n",
       "      <th>date</th>\n",
       "      <th>revenue</th>\n",
       "      <th>group</th>\n",
       "    </tr>\n",
       "  </thead>\n",
       "  <tbody>\n",
       "    <tr>\n",
       "      <th>0</th>\n",
       "      <td>3667963787</td>\n",
       "      <td>3312258926</td>\n",
       "      <td>2019-08-15</td>\n",
       "      <td>1650</td>\n",
       "      <td>B</td>\n",
       "    </tr>\n",
       "    <tr>\n",
       "      <th>1</th>\n",
       "      <td>2804400009</td>\n",
       "      <td>3642806036</td>\n",
       "      <td>2019-08-15</td>\n",
       "      <td>730</td>\n",
       "      <td>B</td>\n",
       "    </tr>\n",
       "    <tr>\n",
       "      <th>2</th>\n",
       "      <td>2961555356</td>\n",
       "      <td>4069496402</td>\n",
       "      <td>2019-08-15</td>\n",
       "      <td>400</td>\n",
       "      <td>A</td>\n",
       "    </tr>\n",
       "    <tr>\n",
       "      <th>3</th>\n",
       "      <td>3797467345</td>\n",
       "      <td>1196621759</td>\n",
       "      <td>2019-08-15</td>\n",
       "      <td>9759</td>\n",
       "      <td>B</td>\n",
       "    </tr>\n",
       "    <tr>\n",
       "      <th>4</th>\n",
       "      <td>2282983706</td>\n",
       "      <td>2322279887</td>\n",
       "      <td>2019-08-15</td>\n",
       "      <td>2308</td>\n",
       "      <td>B</td>\n",
       "    </tr>\n",
       "  </tbody>\n",
       "</table>\n",
       "</div>"
      ],
      "text/plain": [
       "   transactionId   visitorId        date  revenue group\n",
       "0     3667963787  3312258926  2019-08-15     1650     B\n",
       "1     2804400009  3642806036  2019-08-15      730     B\n",
       "2     2961555356  4069496402  2019-08-15      400     A\n",
       "3     3797467345  1196621759  2019-08-15     9759     B\n",
       "4     2282983706  2322279887  2019-08-15     2308     B"
      ]
     },
     "metadata": {},
     "output_type": "display_data"
    },
    {
     "name": "stdout",
     "output_type": "stream",
     "text": [
      "<class 'pandas.core.frame.DataFrame'>\n",
      "RangeIndex: 1197 entries, 0 to 1196\n",
      "Data columns (total 5 columns):\n",
      " #   Column         Non-Null Count  Dtype \n",
      "---  ------         --------------  ----- \n",
      " 0   transactionId  1197 non-null   int64 \n",
      " 1   visitorId      1197 non-null   int64 \n",
      " 2   date           1197 non-null   object\n",
      " 3   revenue        1197 non-null   int64 \n",
      " 4   group          1197 non-null   object\n",
      "dtypes: int64(3), object(2)\n",
      "memory usage: 46.9+ KB\n"
     ]
    }
   ],
   "source": [
    "display(orders.head())\n",
    "orders.info()"
   ]
  },
  {
   "cell_type": "markdown",
   "id": "2e46dcbc",
   "metadata": {},
   "source": [
    "Convert the date column to the required format"
   ]
  },
  {
   "cell_type": "code",
   "execution_count": 6,
   "id": "8ed30e18",
   "metadata": {},
   "outputs": [
    {
     "name": "stdout",
     "output_type": "stream",
     "text": [
      "<class 'pandas.core.frame.DataFrame'>\n",
      "RangeIndex: 1197 entries, 0 to 1196\n",
      "Data columns (total 5 columns):\n",
      " #   Column         Non-Null Count  Dtype         \n",
      "---  ------         --------------  -----         \n",
      " 0   transactionId  1197 non-null   int64         \n",
      " 1   visitorId      1197 non-null   int64         \n",
      " 2   date           1197 non-null   datetime64[ns]\n",
      " 3   revenue        1197 non-null   int64         \n",
      " 4   group          1197 non-null   object        \n",
      "dtypes: datetime64[ns](1), int64(3), object(1)\n",
      "memory usage: 46.9+ KB\n"
     ]
    }
   ],
   "source": [
    "orders['date'] = orders['date'].map(lambda x: dt.datetime.strptime(x, '%Y-%m-%d'))\n",
    "orders.info()"
   ]
  },
  {
   "cell_type": "markdown",
   "id": "1d8bd04d",
   "metadata": {},
   "source": [
    "Let's check that the data is collected correctly and the same users are not in both groups"
   ]
  },
  {
   "cell_type": "code",
   "execution_count": 7,
   "id": "9d4a4fc5",
   "metadata": {},
   "outputs": [
    {
     "name": "stdout",
     "output_type": "stream",
     "text": [
      "<class 'pandas.core.frame.DataFrame'>\n",
      "Int64Index: 1016 entries, 0 to 1196\n",
      "Data columns (total 5 columns):\n",
      " #   Column         Non-Null Count  Dtype         \n",
      "---  ------         --------------  -----         \n",
      " 0   transactionId  1016 non-null   int64         \n",
      " 1   visitorId      1016 non-null   int64         \n",
      " 2   date           1016 non-null   datetime64[ns]\n",
      " 3   revenue        1016 non-null   int64         \n",
      " 4   group          1016 non-null   object        \n",
      "dtypes: datetime64[ns](1), int64(3), object(1)\n",
      "memory usage: 47.6+ KB\n"
     ]
    }
   ],
   "source": [
    "crossing = np.intersect1d(\n",
    "    orders.query('group == \"A\"')['visitorId'].unique(),\n",
    "    orders.query('group == \"B\"')['visitorId'].unique())\n",
    "orders = orders.query('visitorId not in @crossing')\n",
    "orders.info()"
   ]
  },
  {
   "cell_type": "markdown",
   "id": "abebeaba",
   "metadata": {},
   "source": [
    "It turned out that there are such IDs. They are removed from the calculation."
   ]
  },
  {
   "cell_type": "markdown",
   "id": "b45574cb",
   "metadata": {},
   "source": [
    "Next, we remove duplicates"
   ]
  },
  {
   "cell_type": "code",
   "execution_count": 8,
   "id": "1005d782",
   "metadata": {},
   "outputs": [],
   "source": [
    "visitors = visitors.drop_duplicates().reset_index(drop=True)\n",
    "orders = orders.drop_duplicates().reset_index(drop=True)"
   ]
  },
  {
   "cell_type": "code",
   "execution_count": 9,
   "id": "74d22bf7",
   "metadata": {},
   "outputs": [
    {
     "data": {
      "text/html": [
       "<div>\n",
       "<style scoped>\n",
       "    .dataframe tbody tr th:only-of-type {\n",
       "        vertical-align: middle;\n",
       "    }\n",
       "\n",
       "    .dataframe tbody tr th {\n",
       "        vertical-align: top;\n",
       "    }\n",
       "\n",
       "    .dataframe thead th {\n",
       "        text-align: right;\n",
       "    }\n",
       "</style>\n",
       "<table border=\"1\" class=\"dataframe\">\n",
       "  <thead>\n",
       "    <tr style=\"text-align: right;\">\n",
       "      <th></th>\n",
       "      <th>date</th>\n",
       "      <th>group</th>\n",
       "      <th>visitors</th>\n",
       "    </tr>\n",
       "  </thead>\n",
       "  <tbody>\n",
       "    <tr>\n",
       "      <th>0</th>\n",
       "      <td>2019-08-01</td>\n",
       "      <td>A</td>\n",
       "      <td>719</td>\n",
       "    </tr>\n",
       "    <tr>\n",
       "      <th>1</th>\n",
       "      <td>2019-08-02</td>\n",
       "      <td>A</td>\n",
       "      <td>619</td>\n",
       "    </tr>\n",
       "    <tr>\n",
       "      <th>2</th>\n",
       "      <td>2019-08-03</td>\n",
       "      <td>A</td>\n",
       "      <td>507</td>\n",
       "    </tr>\n",
       "    <tr>\n",
       "      <th>3</th>\n",
       "      <td>2019-08-04</td>\n",
       "      <td>A</td>\n",
       "      <td>717</td>\n",
       "    </tr>\n",
       "    <tr>\n",
       "      <th>4</th>\n",
       "      <td>2019-08-05</td>\n",
       "      <td>A</td>\n",
       "      <td>756</td>\n",
       "    </tr>\n",
       "  </tbody>\n",
       "</table>\n",
       "</div>"
      ],
      "text/plain": [
       "         date group  visitors\n",
       "0  2019-08-01     A       719\n",
       "1  2019-08-02     A       619\n",
       "2  2019-08-03     A       507\n",
       "3  2019-08-04     A       717\n",
       "4  2019-08-05     A       756"
      ]
     },
     "metadata": {},
     "output_type": "display_data"
    },
    {
     "name": "stdout",
     "output_type": "stream",
     "text": [
      "<class 'pandas.core.frame.DataFrame'>\n",
      "RangeIndex: 62 entries, 0 to 61\n",
      "Data columns (total 3 columns):\n",
      " #   Column    Non-Null Count  Dtype \n",
      "---  ------    --------------  ----- \n",
      " 0   date      62 non-null     object\n",
      " 1   group     62 non-null     object\n",
      " 2   visitors  62 non-null     int64 \n",
      "dtypes: int64(1), object(2)\n",
      "memory usage: 1.6+ KB\n"
     ]
    }
   ],
   "source": [
    "display(visitors.head())\n",
    "visitors.info()"
   ]
  },
  {
   "cell_type": "markdown",
   "id": "3f5a6050",
   "metadata": {},
   "source": [
    "Also, as in the previous data set, we transform date"
   ]
  },
  {
   "cell_type": "code",
   "execution_count": 10,
   "id": "f525a8a0",
   "metadata": {},
   "outputs": [
    {
     "name": "stdout",
     "output_type": "stream",
     "text": [
      "<class 'pandas.core.frame.DataFrame'>\n",
      "RangeIndex: 62 entries, 0 to 61\n",
      "Data columns (total 3 columns):\n",
      " #   Column    Non-Null Count  Dtype         \n",
      "---  ------    --------------  -----         \n",
      " 0   date      62 non-null     datetime64[ns]\n",
      " 1   group     62 non-null     object        \n",
      " 2   visitors  62 non-null     int64         \n",
      "dtypes: datetime64[ns](1), int64(1), object(1)\n",
      "memory usage: 1.6+ KB\n"
     ]
    }
   ],
   "source": [
    "visitors['date'] = visitors['date'].map(lambda x: dt.datetime.strptime(x, '%Y-%m-%d'))\n",
    "visitors.info()"
   ]
  },
  {
   "cell_type": "markdown",
   "id": "6be6af20",
   "metadata": {},
   "source": [
    "There is enough data for analysis."
   ]
  },
  {
   "cell_type": "markdown",
   "id": "de284397",
   "metadata": {},
   "source": [
    "#### Cumulative revenue graph by group"
   ]
  },
  {
   "cell_type": "markdown",
   "id": "7425bb67",
   "metadata": {},
   "source": [
    "Next, we will build the cumulative revenue graph itself by groups"
   ]
  },
  {
   "cell_type": "code",
   "execution_count": 11,
   "id": "1dcaa026",
   "metadata": {},
   "outputs": [
    {
     "data": {
      "text/html": [
       "<div>\n",
       "<style scoped>\n",
       "    .dataframe tbody tr th:only-of-type {\n",
       "        vertical-align: middle;\n",
       "    }\n",
       "\n",
       "    .dataframe tbody tr th {\n",
       "        vertical-align: top;\n",
       "    }\n",
       "\n",
       "    .dataframe thead th {\n",
       "        text-align: right;\n",
       "    }\n",
       "</style>\n",
       "<table border=\"1\" class=\"dataframe\">\n",
       "  <thead>\n",
       "    <tr style=\"text-align: right;\">\n",
       "      <th></th>\n",
       "      <th>date</th>\n",
       "      <th>group</th>\n",
       "      <th>visitors</th>\n",
       "    </tr>\n",
       "  </thead>\n",
       "  <tbody>\n",
       "    <tr>\n",
       "      <th>0</th>\n",
       "      <td>2019-08-01</td>\n",
       "      <td>A</td>\n",
       "      <td>719</td>\n",
       "    </tr>\n",
       "    <tr>\n",
       "      <th>1</th>\n",
       "      <td>2019-08-02</td>\n",
       "      <td>A</td>\n",
       "      <td>619</td>\n",
       "    </tr>\n",
       "    <tr>\n",
       "      <th>2</th>\n",
       "      <td>2019-08-03</td>\n",
       "      <td>A</td>\n",
       "      <td>507</td>\n",
       "    </tr>\n",
       "    <tr>\n",
       "      <th>3</th>\n",
       "      <td>2019-08-04</td>\n",
       "      <td>A</td>\n",
       "      <td>717</td>\n",
       "    </tr>\n",
       "    <tr>\n",
       "      <th>4</th>\n",
       "      <td>2019-08-05</td>\n",
       "      <td>A</td>\n",
       "      <td>756</td>\n",
       "    </tr>\n",
       "  </tbody>\n",
       "</table>\n",
       "</div>"
      ],
      "text/plain": [
       "        date group  visitors\n",
       "0 2019-08-01     A       719\n",
       "1 2019-08-02     A       619\n",
       "2 2019-08-03     A       507\n",
       "3 2019-08-04     A       717\n",
       "4 2019-08-05     A       756"
      ]
     },
     "execution_count": 11,
     "metadata": {},
     "output_type": "execute_result"
    }
   ],
   "source": [
    "visitors.head()"
   ]
  },
  {
   "cell_type": "code",
   "execution_count": 12,
   "id": "34229766",
   "metadata": {},
   "outputs": [],
   "source": [
    "datesGroups = orders[['date','group']].drop_duplicates()"
   ]
  },
  {
   "cell_type": "code",
   "execution_count": 13,
   "id": "4d60ceb4",
   "metadata": {},
   "outputs": [],
   "source": [
    "ordersAggregated = datesGroups.apply(lambda x: orders[np.logical_and(orders['date'] <= x['date'], orders['group'] == x['group'])].agg({'date' : 'max', 'group' : 'max', 'transactionId' : 'nunique', 'visitorId' : 'nunique', 'revenue' : 'sum'}), axis=1).sort_values(by=['date','group'])"
   ]
  },
  {
   "cell_type": "code",
   "execution_count": 14,
   "id": "118a5c62",
   "metadata": {},
   "outputs": [],
   "source": [
    "visitorsAggregated = datesGroups.apply(lambda x: visitors[np.logical_and(visitors['date'] <= x['date'], visitors['group'] == x['group'])].agg({'date' : 'max', 'group' : 'max', 'visitors' : 'sum'}), axis=1).sort_values(by=['date','group'])"
   ]
  },
  {
   "cell_type": "code",
   "execution_count": 15,
   "id": "f80d5c8a",
   "metadata": {},
   "outputs": [],
   "source": [
    "cumulativeData = ordersAggregated.merge(visitorsAggregated, left_on=['date', 'group'], right_on=['date', 'group'])\n",
    "cumulativeData.columns = ['date', 'group', 'orders', 'buyers', 'revenue', 'visitors']"
   ]
  },
  {
   "cell_type": "code",
   "execution_count": 35,
   "id": "fe967e0b",
   "metadata": {},
   "outputs": [
    {
     "data": {
      "image/png": "[encoded data removed]",
      "text/plain": [
       "<Figure size 432x288 with 1 Axes>"
      ]
     },
     "metadata": {
      "needs_background": "light"
     },
     "output_type": "display_data"
    }
   ],
   "source": [
    "cumulativeRevenueA = cumulativeData[cumulativeData['group']=='A'][['date','revenue', 'orders']]\n",
    "cumulativeRevenueB = cumulativeData[cumulativeData['group']=='B'][['date','revenue', 'orders']]\n",
    "plt.plot(cumulativeRevenueA['date'], cumulativeRevenueA['revenue'], label='A')\n",
    "plt.plot(cumulativeRevenueB['date'], cumulativeRevenueB['revenue'], label='B')\n",
    "plt.legend()\n",
    "degrees = 70\n",
    "plt.xticks(rotation=degrees)\n",
    "plt.title(\"Cumulative revenue by group\",fontsize=15)\n",
    "plt.xlabel(\"Date\",fontsize=10)\n",
    "plt.ylabel(\"Revenue\",fontsize=10)\n",
    "plt.grid(True)"
   ]
  },
  {
   "cell_type": "markdown",
   "id": "9750f6eb",
   "metadata": {},
   "source": [
    "At first, the graph rises quite smoothly for both subgroups, but then a strong jump is noticeable for group B in the second part of the experiment. This may indicate outliers that distort the result. It's too early to draw any conclusions."
   ]
  },
  {
   "cell_type": "markdown",
   "id": "fee8a03e",
   "metadata": {},
   "source": [
    "#### Graph of cumulative average check by groups"
   ]
  },
  {
   "cell_type": "markdown",
   "id": "b63b7eac",
   "metadata": {},
   "source": [
    "Let's plot the cumulative average check by groups and analyze it."
   ]
  },
  {
   "cell_type": "code",
   "execution_count": 36,
   "id": "0668a80a",
   "metadata": {},
   "outputs": [
    {
     "data": {
      "image/png": "[encoded data removed]",
      "text/plain": [
       "<Figure size 432x288 with 1 Axes>"
      ]
     },
     "metadata": {
      "needs_background": "light"
     },
     "output_type": "display_data"
    }
   ],
   "source": [
    "plt.plot(cumulativeRevenueA['date'], cumulativeRevenueA['revenue']/cumulativeRevenueA['orders'], label='A')\n",
    "plt.plot(cumulativeRevenueB['date'], cumulativeRevenueB['revenue']/cumulativeRevenueB['orders'], label='B')\n",
    "plt.legend() \n",
    "plt.xticks(rotation=degrees)\n",
    "plt.title(\"Average check by groups\",fontsize=15)\n",
    "plt.xlabel(\"Date\",fontsize=10)\n",
    "plt.ylabel(\"Average check\",fontsize=10)\n",
    "plt.grid(True)"
   ]
  },
  {
   "cell_type": "markdown",
   "id": "f9c2c7dd",
   "metadata": {},
   "source": [
    "A sharp spike in the indicator of group B is also noticeable here. But the reason becomes clearer - the surge in revenue was influenced rather by a small number of ordinary checks, but by one or more large purchases."
   ]
  },
  {
   "cell_type": "markdown",
   "id": "f3d3abc0",
   "metadata": {},
   "source": [
    "#### Graph of the relative change in the cumulative average check of group B to group A"
   ]
  },
  {
   "cell_type": "code",
   "execution_count": 37,
   "id": "2a2f7d77",
   "metadata": {},
   "outputs": [
    {
     "data": {
      "image/png": "[encoded data removed]",
      "text/plain": [
       "<Figure size 432x288 with 1 Axes>"
      ]
     },
     "metadata": {
      "needs_background": "light"
     },
     "output_type": "display_data"
    }
   ],
   "source": [
    "mergedCumulativeRevenue = cumulativeRevenueA.merge(cumulativeRevenueB, left_on='date', right_on='date', how='left', suffixes=['A', 'B'])\n",
    "plt.plot(mergedCumulativeRevenue['date'], (mergedCumulativeRevenue['revenueB']/mergedCumulativeRevenue['ordersB'])/(mergedCumulativeRevenue['revenueA']/mergedCumulativeRevenue['ordersA'])-1)\n",
    "plt.axhline(y=0, color='black', linestyle='--')\n",
    "plt.xticks(rotation=degrees)\n",
    "plt.title(\"Cumulative average check changing\",fontsize=15)\n",
    "plt.xlabel(\"Date\",fontsize=10)\n",
    "plt.ylabel(\"Relative change of Group B to Group A\",fontsize=10)\n",
    "plt.grid(True)"
   ]
  },
  {
   "cell_type": "markdown",
   "id": "8dde9c09",
   "metadata": {},
   "source": [
    "The situation has not become clearer. The ratio changes dramatically during the experiment. According to such data, correct conclusions cannot be drawn."
   ]
  },
  {
   "cell_type": "markdown",
   "id": "079d761e",
   "metadata": {},
   "source": [
    "#### Graph of cumulative average number of orders per visitor by groups"
   ]
  },
  {
   "cell_type": "code",
   "execution_count": 38,
   "id": "bce9a10f",
   "metadata": {},
   "outputs": [
    {
     "data": {
      "image/png": "[encoded data removed]",
      "text/plain": [
       "<Figure size 432x288 with 1 Axes>"
      ]
     },
     "metadata": {
      "needs_background": "light"
     },
     "output_type": "display_data"
    }
   ],
   "source": [
    "cumulativeOrderA = cumulativeData[cumulativeData['group']=='A'][['date','visitors', 'orders']]\n",
    "cumulativeOrderB = cumulativeData[cumulativeData['group']=='B'][['date','visitors', 'orders']]\n",
    "plt.plot(cumulativeOrderA['date'], cumulativeOrderA['orders']/cumulativeOrderA['visitors'], label='A')\n",
    "plt.plot(cumulativeOrderB['date'], cumulativeOrderB['orders']/cumulativeOrderB['visitors'], label='B')\n",
    "plt.legend()\n",
    "plt.xticks(rotation=degrees)\n",
    "plt.title(\"Cumulative average check per visitor\",fontsize=15)\n",
    "plt.xlabel(\"Date\",fontsize=10)\n",
    "plt.ylabel(\"Cumulative average check\",fontsize=10)\n",
    "plt.grid(True)"
   ]
  },
  {
   "cell_type": "markdown",
   "id": "1b4cd37b",
   "metadata": {},
   "source": [
    "Another graph that confirms our theory that the results of the experiment distorted a few orders, but for large amounts. In addition, the graph data shows that there are no strong outliers with respect to the number of orders. If at the beginning the chart is very \"mobile\", then with the passage of time and the accumulation of results, the curves return to normal and show stable results - the number of orders in group B exceeds that in group A"
   ]
  },
  {
   "cell_type": "markdown",
   "id": "cb0839dc",
   "metadata": {},
   "source": [
    "#### Graph of the relative change in the cumulative average number of orders per visitor of group B to group A"
   ]
  },
  {
   "cell_type": "code",
   "execution_count": 39,
   "id": "b721d1f5",
   "metadata": {},
   "outputs": [
    {
     "data": {
      "image/png": "[encoded data removed]",
      "text/plain": [
       "<Figure size 432x288 with 1 Axes>"
      ]
     },
     "metadata": {
      "needs_background": "light"
     },
     "output_type": "display_data"
    }
   ],
   "source": [
    "mergedCumulativeOrder = cumulativeOrderA.merge(cumulativeOrderB, left_on='date', right_on='date', how='left', suffixes=['A', 'B'])\n",
    "plt.plot(mergedCumulativeOrder['date'], (mergedCumulativeOrder['ordersB']/mergedCumulativeOrder['visitorsB'])/(mergedCumulativeOrder['ordersA']/mergedCumulativeOrder['visitorsA'])-1)\n",
    "plt.axhline(y=0, color='black', linestyle='--')\n",
    "plt.xticks(rotation=degrees)\n",
    "plt.title(\"Cumulative average check per visitor\",fontsize=15)\n",
    "plt.xlabel(\"Date\",fontsize=10)\n",
    "plt.ylabel(\"Relative change of Group B to Group A\",fontsize=10)\n",
    "plt.grid(True)"
   ]
  },
  {
   "cell_type": "markdown",
   "id": "1ba7d49a",
   "metadata": {},
   "source": [
    "The graph shows that the average number of Group B orders is consistently higher than Group A"
   ]
  },
  {
   "cell_type": "markdown",
   "id": "1fd3ca0d",
   "metadata": {},
   "source": [
    "#### Dot graph of the number of orders by users"
   ]
  },
  {
   "cell_type": "markdown",
   "id": "ba70667f",
   "metadata": {},
   "source": [
    "Let's look in more detail at the number and amounts of user orders."
   ]
  },
  {
   "cell_type": "markdown",
   "id": "a2d05562",
   "metadata": {},
   "source": [
    "First, let's build a graph based on the number of orders per user"
   ]
  },
  {
   "cell_type": "code",
   "execution_count": 40,
   "id": "f322bfea",
   "metadata": {},
   "outputs": [
    {
     "data": {
      "image/png": "[encoded data removed]",
      "text/plain": [
       "<Figure size 432x288 with 1 Axes>"
      ]
     },
     "metadata": {
      "needs_background": "light"
     },
     "output_type": "display_data"
    }
   ],
   "source": [
    "ordersByUsers = (orders.groupby('visitorId', as_index=False).agg({'transactionId': 'nunique'}))\n",
    "ordersByUsers.columns = ['userId', 'orders']\n",
    "x_values = pd.Series(range(0,len(ordersByUsers)))\n",
    "plt.scatter(x_values, ordersByUsers['orders'])\n",
    "plt.xlabel(\"Users\",fontsize=10)\n",
    "plt.ylabel(\"Orders\",fontsize=10)\n",
    "plt.grid(True)"
   ]
  },
  {
   "cell_type": "markdown",
   "id": "3b30febb",
   "metadata": {},
   "source": [
    "The graph shows that the majority of users have placed one order. Some more - two at a time. The maximum number of orders per user is 3, which is not a lot at all. There are no significant emissions."
   ]
  },
  {
   "cell_type": "markdown",
   "id": "10995a4d",
   "metadata": {},
   "source": [
    "#### 95th and 99th percentiles of the number of orders per user"
   ]
  },
  {
   "cell_type": "markdown",
   "id": "5808e88f",
   "metadata": {},
   "source": [
    "Let's calculate the 95th and 99th percentiles of the number of orders per user and determine the boundary of abnormal values"
   ]
  },
  {
   "cell_type": "code",
   "execution_count": 22,
   "id": "77e14fe6",
   "metadata": {},
   "outputs": [
    {
     "data": {
      "text/plain": [
       "array([1., 2.])"
      ]
     },
     "execution_count": 22,
     "metadata": {},
     "output_type": "execute_result"
    }
   ],
   "source": [
    "np.percentile(ordersByUsers['orders'], [95, 99])"
   ]
  },
  {
   "cell_type": "markdown",
   "id": "ad38cceb",
   "metadata": {},
   "source": [
    "There are no strong attacks. Let's limit the sample to 99% percent of users."
   ]
  },
  {
   "cell_type": "markdown",
   "id": "2ee62848",
   "metadata": {},
   "source": [
    "#### Dot chart of order values"
   ]
  },
  {
   "cell_type": "markdown",
   "id": "3e6900a1",
   "metadata": {},
   "source": [
    "Let's look at the cost of orders."
   ]
  },
  {
   "cell_type": "code",
   "execution_count": 23,
   "id": "61b21a0e",
   "metadata": {},
   "outputs": [
    {
     "data": {
      "image/png": "[encoded data removed]",
      "text/plain": [
       "<Figure size 432x288 with 1 Axes>"
      ]
     },
     "metadata": {
      "needs_background": "light"
     },
     "output_type": "display_data"
    }
   ],
   "source": [
    "x_values = pd.Series(range(0,len(orders['revenue'])))\n",
    "plt.scatter(x_values, orders['revenue']) \n",
    "plt.xlabel(\"Orders\",fontsize=10)\n",
    "plt.ylabel(\"Revenue\",fontsize=10)\n",
    "plt.grid(True)"
   ]
  },
  {
   "cell_type": "markdown",
   "id": "1aa1c0e0",
   "metadata": {},
   "source": [
    "The order which greatly distorted the selection is immediately visible. It's interesting to see him."
   ]
  },
  {
   "cell_type": "code",
   "execution_count": 24,
   "id": "3f7e0a13",
   "metadata": {},
   "outputs": [
    {
     "data": {
      "text/plain": [
       "365    1294500\n",
       "Name: revenue, dtype: int64"
      ]
     },
     "metadata": {},
     "output_type": "display_data"
    },
    {
     "data": {
      "text/plain": [
       "2955.0"
      ]
     },
     "execution_count": 24,
     "metadata": {},
     "output_type": "execute_result"
    }
   ],
   "source": [
    "display(orders['revenue'].sort_values(ascending=False).head(1))\n",
    "orders['revenue'].median()"
   ]
  },
  {
   "cell_type": "markdown",
   "id": "d351f050",
   "metadata": {},
   "source": [
    "Almost 1.3 million! With a median value of three thousand. Perhaps this is a technical error. It would be advisable to check the data collection system, but this is not included in the authority of the current project. For the purposes of our project, of course, such an order must be excluded."
   ]
  },
  {
   "cell_type": "markdown",
   "id": "0f558253",
   "metadata": {},
   "source": [
    "#### 95th and 99th percentiles of the cost of orders"
   ]
  },
  {
   "cell_type": "markdown",
   "id": "5ba429f5",
   "metadata": {},
   "source": [
    "To better estimate the cutoff boundary, let's look at the remaining orders in 95 and 99 percentiles"
   ]
  },
  {
   "cell_type": "code",
   "execution_count": 25,
   "id": "94f8994c",
   "metadata": {},
   "outputs": [
    {
     "data": {
      "text/plain": [
       "array([26785., 53904.])"
      ]
     },
     "execution_count": 25,
     "metadata": {},
     "output_type": "execute_result"
    }
   ],
   "source": [
    "np.percentile(orders['revenue'], [95, 99])"
   ]
  },
  {
   "cell_type": "markdown",
   "id": "4cbf4553",
   "metadata": {},
   "source": [
    "Given the median value of 3 thousand, it is more logical to limit under 95 percentile."
   ]
  },
  {
   "cell_type": "markdown",
   "id": "b45d14cc",
   "metadata": {},
   "source": [
    "#### Statistical significance of differences in the average number of orders per visitor between groups based on \"raw\" data"
   ]
  },
  {
   "cell_type": "markdown",
   "id": "cc32f556",
   "metadata": {},
   "source": [
    "In subsequent tests, we will determine the level of statistical significance at 5%, that is, 0.05 of this threshold is sufficient for conducting experiments with A/B test data. Greater precision is not necessary.\n",
    "\n",
    "In addition, here and further we will conduct A/B testing using the nonparametric Mann-Whitney test\n",
    "\n",
    "The null hypothesis is defined in the fact that there are no statistically significant differences between the groups. It will also apply to all subsequent text."
   ]
  },
  {
   "cell_type": "code",
   "execution_count": 41,
   "id": "25ee48b6",
   "metadata": {},
   "outputs": [
    {
     "name": "stdout",
     "output_type": "stream",
     "text": [
      "Coefficient p-value: 0.011\n",
      "There are statistically significant differences in the average number of orders between the groups\n",
      "Relative gain of Group B: 15.98 %\n"
     ]
    }
   ],
   "source": [
    "VisitorsPerDateA = visitors[visitors['group'] == 'A']\n",
    "VisitorsPerDateB = visitors[visitors['group'] == 'B']\n",
    "\n",
    "UnfiltOrdersByUsersA = (\n",
    "    orders[orders['group'] == 'A'].groupby('visitorId', as_index=False).agg({'transactionId': pd.Series.nunique}))\n",
    "UnfiltOrdersByUsersA.columns = ['userId', 'orders']\n",
    "\n",
    "UnfiltOrdersByUsersB = (\n",
    "    orders[orders['group'] == 'B'].groupby('visitorId', as_index=False).agg({'transactionId': pd.Series.nunique}))\n",
    "UnfiltOrdersByUsersB.columns = ['userId', 'orders']\n",
    "\n",
    "sampleA = pd.concat(\n",
    "    [UnfiltOrdersByUsersA['orders'],pd.Series(\n",
    "        0, index=np.arange(VisitorsPerDateA['visitors'].sum() - len(\n",
    "            UnfiltOrdersByUsersA['orders'])), name='orders')],axis=0)\n",
    "\n",
    "sampleB = pd.concat(\n",
    "    [UnfiltOrdersByUsersB['orders'],pd.Series(\n",
    "        0, index=np.arange(VisitorsPerDateB['visitors'].sum() - len(\n",
    "            UnfiltOrdersByUsersB['orders'])), name='orders')],axis=0)\n",
    " \n",
    "alpha = 0.05\n",
    "   \n",
    "result_1 = stats.mannwhitneyu(sampleA, sampleB)[1]\n",
    "print('Coefficient p-value:', \"{0:.3f}\".format(result_1))\n",
    "if result_1 < alpha:\n",
    "    print(\"There are statistically significant differences in the average number of orders between the groups\")\n",
    "else:\n",
    "    print(\"There are no statistically significant differences in the average number of orders between the groups\")\n",
    "\n",
    "print('Relative gain of Group B:', \"{0:.2f}\".format((sampleB.mean() / sampleA.mean() - 1) * 100), '%')"
   ]
  },
  {
   "cell_type": "markdown",
   "id": "db7de72f",
   "metadata": {},
   "source": [
    "As we can see, the outliers affected the reliability of the test. According to the filtered data, the average number of orders in group B is higher, but the samples are distorted, which is why such an experiment cannot be considered as the final result.\n",
    "However, it is interesting that the differences appeared where there are not many attacks."
   ]
  },
  {
   "cell_type": "markdown",
   "id": "52371334",
   "metadata": {},
   "source": [
    "#### Statistical significance of differences in the average order receipt between groups based on \"raw\" data"
   ]
  },
  {
   "cell_type": "code",
   "execution_count": 42,
   "id": "a07660bf",
   "metadata": {},
   "outputs": [
    {
     "name": "stdout",
     "output_type": "stream",
     "text": [
      "Coefficient p-value: 0.829\n",
      "There are no statistically significant differences in the average order receipt between the groups\n",
      "Relative gain of Group B: 28.66 %\n"
     ]
    }
   ],
   "source": [
    "result_2 = stats.mannwhitneyu(orders[orders['group']=='A']['revenue'], orders[orders['group']=='B']['revenue'])[1]\n",
    "print('Coefficient p-value:', \"{0:.3f}\".format(result_2))\n",
    "if result_2 < alpha:\n",
    "    print(\"There are statistically significant differences in the average order receipt between the groups\")\n",
    "else:\n",
    "    print(\"There are no statistically significant differences in the average order receipt between the groups\")\n",
    "    \n",
    "print('Relative gain of Group B:', '{0:.2f}'.format((orders[orders['group']=='B']['revenue'].mean()/orders[orders['group']=='A']['revenue'].mean()-1) * 100), '%') "
   ]
  },
  {
   "cell_type": "markdown",
   "id": "fdd725dc",
   "metadata": {},
   "source": [
    "Here is the opposite situation. There is a giant outburst, but the analysis showed that there are no statistically significant differences in the average order receipt between the groups. The more interesting it will be to look at the unfiltered data. As for winning Group B by 28%, this is quite a serious result. But the final conclusion can be made after all the tests."
   ]
  },
  {
   "cell_type": "markdown",
   "id": "80d7b164",
   "metadata": {},
   "source": [
    "#### Statistical significance of differences in the average number of orders per visitor between groups based on \"cleared\" data"
   ]
  },
  {
   "cell_type": "markdown",
   "id": "ef9c8236",
   "metadata": {},
   "source": [
    "The cleared data will contain orders with a value of up to 26,785 in revenue and up to 2 orders per user inclusive."
   ]
  },
  {
   "cell_type": "code",
   "execution_count": 28,
   "id": "adc0171d",
   "metadata": {},
   "outputs": [],
   "source": [
    "max_revenue = orders['revenue'].quantile(0.95)\n",
    "max_order = ordersByUsers['orders'].quantile(0.99)\n",
    "usersWithManyOrders = pd.concat(\n",
    "    [   UnfiltOrdersByUsersA[UnfiltOrdersByUsersA['orders'] > max_order]['userId'],\n",
    "        UnfiltOrdersByUsersB[UnfiltOrdersByUsersB['orders'] > max_order]['userId'],\n",
    "    ],\n",
    "    axis=0,)\n",
    "usersWithExpensiveOrders = orders[orders['revenue'] > max_revenue]['visitorId']\n",
    "abnormalUsers = (\n",
    "    pd.concat([usersWithManyOrders, usersWithExpensiveOrders], axis=0)\n",
    "    .drop_duplicates()\n",
    "    .sort_values())"
   ]
  },
  {
   "cell_type": "code",
   "execution_count": 29,
   "id": "4eec3b46",
   "metadata": {},
   "outputs": [],
   "source": [
    "sampleAFiltered = pd.concat([UnfiltOrdersByUsersA[np.logical_not(UnfiltOrdersByUsersA['userId'].isin(abnormalUsers))]['orders'],\n",
    "        pd.Series(0, index=np.arange(VisitorsPerDateA['visitors'].sum() - len(UnfiltOrdersByUsersA['orders'])),\n",
    "            name='orders',),],axis=0,)\n",
    "\n",
    "sampleBFiltered = pd.concat([UnfiltOrdersByUsersB[np.logical_not(UnfiltOrdersByUsersB['userId'].isin(abnormalUsers))]['orders'],\n",
    "        pd.Series(0, index=np.arange(VisitorsPerDateB['visitors'].sum() - len(UnfiltOrdersByUsersB['orders'])),\n",
    "            name='orders',),],axis=0,)"
   ]
  },
  {
   "cell_type": "code",
   "execution_count": 30,
   "id": "4cde9781",
   "metadata": {},
   "outputs": [
    {
     "data": {
      "text/plain": [
       "0        1\n",
       "1        1\n",
       "2        1\n",
       "3        1\n",
       "4        1\n",
       "        ..\n",
       "18286    0\n",
       "18287    0\n",
       "18288    0\n",
       "18289    0\n",
       "18290    0\n",
       "Name: orders, Length: 18709, dtype: int64"
      ]
     },
     "execution_count": 30,
     "metadata": {},
     "output_type": "execute_result"
    }
   ],
   "source": [
    "sampleAFiltered"
   ]
  },
  {
   "cell_type": "code",
   "execution_count": 31,
   "id": "6b0d041d",
   "metadata": {},
   "outputs": [
    {
     "data": {
      "text/html": [
       "<div>\n",
       "<style scoped>\n",
       "    .dataframe tbody tr th:only-of-type {\n",
       "        vertical-align: middle;\n",
       "    }\n",
       "\n",
       "    .dataframe tbody tr th {\n",
       "        vertical-align: top;\n",
       "    }\n",
       "\n",
       "    .dataframe thead th {\n",
       "        text-align: right;\n",
       "    }\n",
       "</style>\n",
       "<table border=\"1\" class=\"dataframe\">\n",
       "  <thead>\n",
       "    <tr style=\"text-align: right;\">\n",
       "      <th></th>\n",
       "      <th>userId</th>\n",
       "      <th>orders</th>\n",
       "    </tr>\n",
       "  </thead>\n",
       "  <tbody>\n",
       "    <tr>\n",
       "      <th>0</th>\n",
       "      <td>5114589</td>\n",
       "      <td>1</td>\n",
       "    </tr>\n",
       "    <tr>\n",
       "      <th>1</th>\n",
       "      <td>6958315</td>\n",
       "      <td>1</td>\n",
       "    </tr>\n",
       "    <tr>\n",
       "      <th>2</th>\n",
       "      <td>39475350</td>\n",
       "      <td>1</td>\n",
       "    </tr>\n",
       "    <tr>\n",
       "      <th>3</th>\n",
       "      <td>47206413</td>\n",
       "      <td>1</td>\n",
       "    </tr>\n",
       "    <tr>\n",
       "      <th>4</th>\n",
       "      <td>48147722</td>\n",
       "      <td>1</td>\n",
       "    </tr>\n",
       "    <tr>\n",
       "      <th>...</th>\n",
       "      <td>...</td>\n",
       "      <td>...</td>\n",
       "    </tr>\n",
       "    <tr>\n",
       "      <th>523</th>\n",
       "      <td>4251115836</td>\n",
       "      <td>1</td>\n",
       "    </tr>\n",
       "    <tr>\n",
       "      <th>524</th>\n",
       "      <td>4258103007</td>\n",
       "      <td>1</td>\n",
       "    </tr>\n",
       "    <tr>\n",
       "      <th>525</th>\n",
       "      <td>4279090005</td>\n",
       "      <td>1</td>\n",
       "    </tr>\n",
       "    <tr>\n",
       "      <th>526</th>\n",
       "      <td>4281247801</td>\n",
       "      <td>1</td>\n",
       "    </tr>\n",
       "    <tr>\n",
       "      <th>527</th>\n",
       "      <td>4283872382</td>\n",
       "      <td>1</td>\n",
       "    </tr>\n",
       "  </tbody>\n",
       "</table>\n",
       "<p>528 rows × 2 columns</p>\n",
       "</div>"
      ],
      "text/plain": [
       "         userId  orders\n",
       "0       5114589       1\n",
       "1       6958315       1\n",
       "2      39475350       1\n",
       "3      47206413       1\n",
       "4      48147722       1\n",
       "..          ...     ...\n",
       "523  4251115836       1\n",
       "524  4258103007       1\n",
       "525  4279090005       1\n",
       "526  4281247801       1\n",
       "527  4283872382       1\n",
       "\n",
       "[528 rows x 2 columns]"
      ]
     },
     "execution_count": 31,
     "metadata": {},
     "output_type": "execute_result"
    }
   ],
   "source": [
    "UnfiltOrdersByUsersB"
   ]
  },
  {
   "cell_type": "code",
   "execution_count": 43,
   "id": "6825a4ce",
   "metadata": {},
   "outputs": [
    {
     "name": "stdout",
     "output_type": "stream",
     "text": [
      "Coefficient p-value: 0.012\n",
      "There are statistically significant differences in the average number of orders between the groups\n",
      "Relative gain of Group B: 18.19 %\n"
     ]
    }
   ],
   "source": [
    "result_3 = stats.mannwhitneyu(sampleAFiltered, sampleBFiltered)[1]\n",
    "print('Coefficient p-value:', \"{0:.3f}\".format(result_3))\n",
    "if result_3 < alpha:\n",
    "    print(\"There are statistically significant differences in the average number of orders between the groups\")\n",
    "else:\n",
    "    print(\"There are no statistically significant differences in the average number of orders between the groups\")\n",
    "    \n",
    "print('Relative gain of Group B:', '{0:.2f}'.format((sampleBFiltered.mean()/sampleAFiltered.mean()-1) * 100), '%') "
   ]
  },
  {
   "cell_type": "markdown",
   "id": "9d69f492",
   "metadata": {},
   "source": [
    "The results have changed slightly compared to the raw data. The p-value coefficient still shows that there are differences. But Group B still shows an advantage."
   ]
  },
  {
   "cell_type": "code",
   "execution_count": 33,
   "id": "41ac446c",
   "metadata": {},
   "outputs": [
    {
     "data": {
      "text/html": [
       "<div>\n",
       "<style scoped>\n",
       "    .dataframe tbody tr th:only-of-type {\n",
       "        vertical-align: middle;\n",
       "    }\n",
       "\n",
       "    .dataframe tbody tr th {\n",
       "        vertical-align: top;\n",
       "    }\n",
       "\n",
       "    .dataframe thead th {\n",
       "        text-align: right;\n",
       "    }\n",
       "</style>\n",
       "<table border=\"1\" class=\"dataframe\">\n",
       "  <thead>\n",
       "    <tr style=\"text-align: right;\">\n",
       "      <th></th>\n",
       "      <th>transactionId</th>\n",
       "      <th>visitorId</th>\n",
       "      <th>date</th>\n",
       "      <th>revenue</th>\n",
       "      <th>group</th>\n",
       "    </tr>\n",
       "  </thead>\n",
       "  <tbody>\n",
       "    <tr>\n",
       "      <th>0</th>\n",
       "      <td>3667963787</td>\n",
       "      <td>3312258926</td>\n",
       "      <td>2019-08-15</td>\n",
       "      <td>1650</td>\n",
       "      <td>B</td>\n",
       "    </tr>\n",
       "    <tr>\n",
       "      <th>1</th>\n",
       "      <td>2804400009</td>\n",
       "      <td>3642806036</td>\n",
       "      <td>2019-08-15</td>\n",
       "      <td>730</td>\n",
       "      <td>B</td>\n",
       "    </tr>\n",
       "    <tr>\n",
       "      <th>2</th>\n",
       "      <td>3797467345</td>\n",
       "      <td>1196621759</td>\n",
       "      <td>2019-08-15</td>\n",
       "      <td>9759</td>\n",
       "      <td>B</td>\n",
       "    </tr>\n",
       "    <tr>\n",
       "      <th>3</th>\n",
       "      <td>2282983706</td>\n",
       "      <td>2322279887</td>\n",
       "      <td>2019-08-15</td>\n",
       "      <td>2308</td>\n",
       "      <td>B</td>\n",
       "    </tr>\n",
       "    <tr>\n",
       "      <th>4</th>\n",
       "      <td>182168103</td>\n",
       "      <td>935554773</td>\n",
       "      <td>2019-08-15</td>\n",
       "      <td>2210</td>\n",
       "      <td>B</td>\n",
       "    </tr>\n",
       "  </tbody>\n",
       "</table>\n",
       "</div>"
      ],
      "text/plain": [
       "   transactionId   visitorId       date  revenue group\n",
       "0     3667963787  3312258926 2019-08-15     1650     B\n",
       "1     2804400009  3642806036 2019-08-15      730     B\n",
       "2     3797467345  1196621759 2019-08-15     9759     B\n",
       "3     2282983706  2322279887 2019-08-15     2308     B\n",
       "4      182168103   935554773 2019-08-15     2210     B"
      ]
     },
     "execution_count": 33,
     "metadata": {},
     "output_type": "execute_result"
    }
   ],
   "source": [
    "orders.head()"
   ]
  },
  {
   "cell_type": "markdown",
   "id": "3a24915f",
   "metadata": {},
   "source": [
    "#### Statistical significance of differences in the average order receipt between groups based on \"cleared\" data"
   ]
  },
  {
   "cell_type": "code",
   "execution_count": 44,
   "id": "cac96601",
   "metadata": {},
   "outputs": [
    {
     "name": "stdout",
     "output_type": "stream",
     "text": [
      "Коэффициент p-value: 0.646\n",
      "There are no statistically significant differences in the average order receipt between the groups\n",
      "Relative gain of Group B: -4.847\n"
     ]
    }
   ],
   "source": [
    "result_3 = stats.mannwhitneyu(\n",
    "        orders[np.logical_and(\n",
    "            orders['group'] == 'A', np.logical_not(\n",
    "                orders['visitorId'].isin(abnormalUsers)),)]['revenue'], orders[np.logical_and(\n",
    "            orders['group'] == 'B', np.logical_not(\n",
    "                orders['visitorId'].isin(abnormalUsers)),)]['revenue'],)[1]\n",
    "print('Коэффициент p-value:', \"{0:.3f}\".format(result_3))\n",
    "if result_3 < alpha:\n",
    "    print(\"There are statistically significant differences in the average order receipt between the groups\")\n",
    "else:\n",
    "    print(\"There are no statistically significant differences in the average order receipt between the groups\")\n",
    "    \n",
    "print('Relative gain of Group B:', \"{0:.3f}\".format(((\n",
    "        orders[np.logical_and(orders['group'] == 'B', np.logical_not(orders['visitorId'].isin(abnormalUsers)),)]['revenue'].mean()\n",
    "        / orders[np.logical_and(orders['group'] == 'A', np.logical_not(orders['visitorId'].isin(abnormalUsers)),)]['revenue'].mean()\n",
    "        - 1) * 100), '%'))"
   ]
  },
  {
   "cell_type": "markdown",
   "id": "4948f92f",
   "metadata": {},
   "source": [
    "The first metric by which group B loses to group A. In addition, the p-value coefficient indicates that there are no significant differences between the two groups."
   ]
  },
  {
   "cell_type": "markdown",
   "id": "cd3115f4",
   "metadata": {},
   "source": [
    "### Conclusions"
   ]
  },
  {
   "cell_type": "markdown",
   "id": "e0acb790",
   "metadata": {},
   "source": [
    "In my opinion, the test needs to be stopped. There are several reasons for this:\n",
    "\n",
    "    1. Significant statistical differences are observed in half of the tests performed.\n",
    "    \n",
    "    2. The results are contradictory. The most reliable test is based on purified data and in which there are no statistically significant differences, group A is better than group B, although in all other tests B is better than A.\n",
    "    \n",
    "    3. Users are poorly divided. Slightly less than 10% of users fall into both groups at once.\n",
    "    \n",
    "    4. Possible technical error with the purchase of 1.3 million. Other errors are also possible.\n",
    "    \n",
    "    5. After setting up the test, its results will be different and the current data will be irrelevant and unrelated to future results."
   ]
  },
  {
   "cell_type": "markdown",
   "id": "27dc74cc",
   "metadata": {},
   "source": [
    "Thus, we can conclude that the test is not successful. It requires improvement on the points that I described above. In addition, the results are ambiguous due to the last test, which is the most accurate (cleared data + normal p-value level), showed different results from other tests. Nevertheless, it is worth restarting the test, since group B showed significant superiority in 3 out of 4 metrics."
   ]
  }
 ],
 "metadata": {
  "ExecuteTimeLog": [
   {
    "duration": 1588,
    "start_time": "2022-12-24T05:01:57.608Z"
   },
   {
    "duration": 20,
    "start_time": "2022-12-24T05:01:59.199Z"
   },
   {
    "duration": 12,
    "start_time": "2022-12-24T05:01:59.220Z"
   },
   {
    "duration": 12,
    "start_time": "2022-12-24T05:01:59.234Z"
   },
   {
    "duration": 23,
    "start_time": "2022-12-24T05:01:59.249Z"
   },
   {
    "duration": 53,
    "start_time": "2022-12-24T05:01:59.274Z"
   },
   {
    "duration": 33,
    "start_time": "2022-12-24T05:01:59.329Z"
   },
   {
    "duration": 21,
    "start_time": "2022-12-24T05:01:59.364Z"
   },
   {
    "duration": 31,
    "start_time": "2022-12-24T05:01:59.388Z"
   },
   {
    "duration": 11,
    "start_time": "2022-12-24T05:01:59.422Z"
   },
   {
    "duration": 27,
    "start_time": "2022-12-24T05:01:59.434Z"
   },
   {
    "duration": 163,
    "start_time": "2022-12-24T05:01:59.463Z"
   },
   {
    "duration": 130,
    "start_time": "2022-12-24T05:01:59.628Z"
   },
   {
    "duration": 8,
    "start_time": "2022-12-24T05:01:59.761Z"
   },
   {
    "duration": 272,
    "start_time": "2022-12-24T05:01:59.772Z"
   },
   {
    "duration": 207,
    "start_time": "2022-12-24T05:02:00.046Z"
   },
   {
    "duration": 357,
    "start_time": "2022-12-24T05:02:00.255Z"
   },
   {
    "duration": 203,
    "start_time": "2022-12-24T05:02:00.614Z"
   },
   {
    "duration": 281,
    "start_time": "2022-12-24T05:02:00.819Z"
   },
   {
    "duration": 154,
    "start_time": "2022-12-24T05:02:01.102Z"
   },
   {
    "duration": 6,
    "start_time": "2022-12-24T05:02:01.258Z"
   },
   {
    "duration": 148,
    "start_time": "2022-12-24T05:02:01.265Z"
   },
   {
    "duration": 10,
    "start_time": "2022-12-24T05:02:01.415Z"
   },
   {
    "duration": 14,
    "start_time": "2022-12-24T05:02:01.427Z"
   },
   {
    "duration": 181,
    "start_time": "2022-12-24T05:02:01.443Z"
   },
   {
    "duration": 12,
    "start_time": "2022-12-24T05:02:01.627Z"
   },
   {
    "duration": 31,
    "start_time": "2022-12-24T05:02:01.642Z"
   },
   {
    "duration": 21,
    "start_time": "2022-12-24T05:02:01.675Z"
   },
   {
    "duration": 35,
    "start_time": "2022-12-24T05:02:01.698Z"
   },
   {
    "duration": 9,
    "start_time": "2022-12-24T05:02:01.735Z"
   },
   {
    "duration": 33,
    "start_time": "2022-12-24T05:02:01.746Z"
   },
   {
    "duration": 2125,
    "start_time": "2022-12-24T11:05:36.502Z"
   },
   {
    "duration": 18,
    "start_time": "2022-12-24T11:08:11.547Z"
   },
   {
    "duration": 1559,
    "start_time": "2022-12-24T11:08:20.401Z"
   },
   {
    "duration": 41,
    "start_time": "2022-12-24T11:08:21.968Z"
   },
   {
    "duration": 14,
    "start_time": "2022-12-24T11:08:22.010Z"
   },
   {
    "duration": 20,
    "start_time": "2022-12-24T11:08:22.027Z"
   },
   {
    "duration": 70,
    "start_time": "2022-12-24T11:08:22.049Z"
   },
   {
    "duration": 22,
    "start_time": "2022-12-24T11:08:22.121Z"
   },
   {
    "duration": 27,
    "start_time": "2022-12-24T11:08:22.144Z"
   },
   {
    "duration": 57,
    "start_time": "2022-12-24T11:08:22.173Z"
   },
   {
    "duration": 13,
    "start_time": "2022-12-24T11:08:22.232Z"
   },
   {
    "duration": 30,
    "start_time": "2022-12-24T11:08:22.248Z"
   },
   {
    "duration": 32,
    "start_time": "2022-12-24T11:08:22.280Z"
   },
   {
    "duration": 12,
    "start_time": "2022-12-24T11:08:22.315Z"
   },
   {
    "duration": 240,
    "start_time": "2022-12-24T11:08:22.329Z"
   },
   {
    "duration": 157,
    "start_time": "2022-12-24T11:08:22.571Z"
   },
   {
    "duration": 7,
    "start_time": "2022-12-24T11:08:22.730Z"
   },
   {
    "duration": 370,
    "start_time": "2022-12-24T11:08:22.739Z"
   },
   {
    "duration": 233,
    "start_time": "2022-12-24T11:08:23.111Z"
   },
   {
    "duration": 362,
    "start_time": "2022-12-24T11:08:23.346Z"
   },
   {
    "duration": 240,
    "start_time": "2022-12-24T11:08:23.710Z"
   },
   {
    "duration": 350,
    "start_time": "2022-12-24T11:08:23.952Z"
   },
   {
    "duration": 184,
    "start_time": "2022-12-24T11:08:24.304Z"
   },
   {
    "duration": 7,
    "start_time": "2022-12-24T11:08:24.490Z"
   },
   {
    "duration": 169,
    "start_time": "2022-12-24T11:08:24.500Z"
   },
   {
    "duration": 9,
    "start_time": "2022-12-24T11:08:24.671Z"
   },
   {
    "duration": 30,
    "start_time": "2022-12-24T11:08:24.682Z"
   },
   {
    "duration": 201,
    "start_time": "2022-12-24T11:08:24.714Z"
   },
   {
    "duration": 12,
    "start_time": "2022-12-24T11:08:24.917Z"
   },
   {
    "duration": 9,
    "start_time": "2022-12-24T11:08:24.932Z"
   },
   {
    "duration": 24,
    "start_time": "2022-12-24T11:08:24.943Z"
   },
   {
    "duration": 56,
    "start_time": "2022-12-24T11:08:24.970Z"
   },
   {
    "duration": 9,
    "start_time": "2022-12-24T11:08:25.028Z"
   },
   {
    "duration": 34,
    "start_time": "2022-12-24T11:08:25.039Z"
   },
   {
    "duration": 133,
    "start_time": "2022-12-24T11:09:45.509Z"
   },
   {
    "duration": 344,
    "start_time": "2022-12-24T11:09:55.026Z"
   },
   {
    "duration": 270,
    "start_time": "2022-12-24T11:10:39.772Z"
   },
   {
    "duration": 238,
    "start_time": "2022-12-24T11:13:41.401Z"
   },
   {
    "duration": 442,
    "start_time": "2022-12-24T11:14:29.871Z"
   },
   {
    "duration": 238,
    "start_time": "2022-12-24T11:14:53.373Z"
   },
   {
    "duration": 202,
    "start_time": "2022-12-24T11:15:04.484Z"
   },
   {
    "duration": 284,
    "start_time": "2022-12-24T11:15:09.472Z"
   },
   {
    "duration": 231,
    "start_time": "2022-12-24T11:15:29.376Z"
   },
   {
    "duration": 250,
    "start_time": "2022-12-24T11:15:45.780Z"
   },
   {
    "duration": 252,
    "start_time": "2022-12-24T11:16:51.920Z"
   },
   {
    "duration": 125,
    "start_time": "2022-12-24T11:17:03.773Z"
   },
   {
    "duration": 73,
    "start_time": "2022-12-24T11:17:08.877Z"
   },
   {
    "duration": 254,
    "start_time": "2022-12-24T11:17:13.989Z"
   },
   {
    "duration": 226,
    "start_time": "2022-12-24T11:17:34.065Z"
   },
   {
    "duration": 265,
    "start_time": "2022-12-24T11:18:38.203Z"
   },
   {
    "duration": 414,
    "start_time": "2022-12-24T11:20:05.881Z"
   },
   {
    "duration": 296,
    "start_time": "2022-12-24T11:20:18.013Z"
   },
   {
    "duration": 277,
    "start_time": "2022-12-24T11:20:22.866Z"
   },
   {
    "duration": 355,
    "start_time": "2022-12-24T11:20:41.749Z"
   },
   {
    "duration": 295,
    "start_time": "2022-12-24T11:21:27.585Z"
   },
   {
    "duration": 316,
    "start_time": "2022-12-24T11:21:48.876Z"
   },
   {
    "duration": 275,
    "start_time": "2022-12-24T11:22:52.045Z"
   },
   {
    "duration": 356,
    "start_time": "2022-12-24T11:24:15.976Z"
   },
   {
    "duration": 355,
    "start_time": "2022-12-24T11:24:41.328Z"
   },
   {
    "duration": 6,
    "start_time": "2022-12-24T11:32:48.418Z"
   },
   {
    "duration": 5,
    "start_time": "2022-12-24T11:32:53.512Z"
   },
   {
    "duration": 14,
    "start_time": "2022-12-24T11:33:02.272Z"
   },
   {
    "duration": 3,
    "start_time": "2022-12-24T11:33:15.332Z"
   },
   {
    "duration": 6,
    "start_time": "2022-12-24T11:33:19.363Z"
   },
   {
    "duration": 22,
    "start_time": "2022-12-24T11:43:55.707Z"
   },
   {
    "duration": 10,
    "start_time": "2022-12-24T11:44:44.817Z"
   },
   {
    "duration": 12,
    "start_time": "2022-12-24T11:45:14.826Z"
   },
   {
    "duration": 17,
    "start_time": "2022-12-24T11:46:54.607Z"
   },
   {
    "duration": 1458,
    "start_time": "2022-12-24T17:32:09.527Z"
   },
   {
    "duration": 20,
    "start_time": "2022-12-24T17:32:10.987Z"
   },
   {
    "duration": 12,
    "start_time": "2022-12-24T17:32:11.009Z"
   },
   {
    "duration": 13,
    "start_time": "2022-12-24T17:32:11.023Z"
   },
   {
    "duration": 31,
    "start_time": "2022-12-24T17:32:11.037Z"
   },
   {
    "duration": 19,
    "start_time": "2022-12-24T17:32:11.069Z"
   },
   {
    "duration": 17,
    "start_time": "2022-12-24T17:32:11.090Z"
   },
   {
    "duration": 26,
    "start_time": "2022-12-24T17:32:11.109Z"
   },
   {
    "duration": 11,
    "start_time": "2022-12-24T17:32:11.137Z"
   },
   {
    "duration": 10,
    "start_time": "2022-12-24T17:32:11.150Z"
   },
   {
    "duration": 15,
    "start_time": "2022-12-24T17:32:11.161Z"
   },
   {
    "duration": 11,
    "start_time": "2022-12-24T17:32:11.178Z"
   },
   {
    "duration": 186,
    "start_time": "2022-12-24T17:32:11.190Z"
   },
   {
    "duration": 143,
    "start_time": "2022-12-24T17:32:11.378Z"
   },
   {
    "duration": 6,
    "start_time": "2022-12-24T17:32:11.523Z"
   },
   {
    "duration": 290,
    "start_time": "2022-12-24T17:32:11.531Z"
   },
   {
    "duration": 200,
    "start_time": "2022-12-24T17:32:11.823Z"
   },
   {
    "duration": 334,
    "start_time": "2022-12-24T17:32:12.025Z"
   },
   {
    "duration": 215,
    "start_time": "2022-12-24T17:32:12.361Z"
   },
   {
    "duration": 289,
    "start_time": "2022-12-24T17:32:12.578Z"
   },
   {
    "duration": 132,
    "start_time": "2022-12-24T17:32:12.869Z"
   },
   {
    "duration": 5,
    "start_time": "2022-12-24T17:32:13.002Z"
   },
   {
    "duration": 123,
    "start_time": "2022-12-24T17:32:13.021Z"
   },
   {
    "duration": 8,
    "start_time": "2022-12-24T17:32:13.145Z"
   },
   {
    "duration": 7,
    "start_time": "2022-12-24T17:32:13.154Z"
   },
   {
    "duration": 174,
    "start_time": "2022-12-24T17:32:13.163Z"
   },
   {
    "duration": 11,
    "start_time": "2022-12-24T17:32:13.338Z"
   },
   {
    "duration": 9,
    "start_time": "2022-12-24T17:32:13.352Z"
   },
   {
    "duration": 6,
    "start_time": "2022-12-24T17:32:13.363Z"
   },
   {
    "duration": 52,
    "start_time": "2022-12-24T17:32:13.370Z"
   },
   {
    "duration": 8,
    "start_time": "2022-12-24T17:32:13.424Z"
   },
   {
    "duration": 16,
    "start_time": "2022-12-24T17:32:13.434Z"
   },
   {
    "duration": 44,
    "start_time": "2022-12-25T19:42:54.703Z"
   },
   {
    "duration": 1425,
    "start_time": "2022-12-25T19:43:01.481Z"
   },
   {
    "duration": 27,
    "start_time": "2022-12-25T19:43:02.908Z"
   },
   {
    "duration": 13,
    "start_time": "2022-12-25T19:43:02.936Z"
   },
   {
    "duration": 10,
    "start_time": "2022-12-25T19:43:02.951Z"
   },
   {
    "duration": 19,
    "start_time": "2022-12-25T19:43:02.962Z"
   },
   {
    "duration": 43,
    "start_time": "2022-12-25T19:43:02.982Z"
   },
   {
    "duration": 17,
    "start_time": "2022-12-25T19:43:03.026Z"
   },
   {
    "duration": 14,
    "start_time": "2022-12-25T19:43:03.044Z"
   },
   {
    "duration": 11,
    "start_time": "2022-12-25T19:43:03.059Z"
   },
   {
    "duration": 7,
    "start_time": "2022-12-25T19:43:03.073Z"
   },
   {
    "duration": 9,
    "start_time": "2022-12-25T19:43:03.081Z"
   },
   {
    "duration": 6,
    "start_time": "2022-12-25T19:43:03.122Z"
   },
   {
    "duration": 162,
    "start_time": "2022-12-25T19:43:03.129Z"
   },
   {
    "duration": 118,
    "start_time": "2022-12-25T19:43:03.292Z"
   },
   {
    "duration": 14,
    "start_time": "2022-12-25T19:43:03.412Z"
   },
   {
    "duration": 273,
    "start_time": "2022-12-25T19:43:03.428Z"
   },
   {
    "duration": 198,
    "start_time": "2022-12-25T19:43:03.703Z"
   },
   {
    "duration": 383,
    "start_time": "2022-12-25T19:43:03.903Z"
   },
   {
    "duration": 209,
    "start_time": "2022-12-25T19:43:04.288Z"
   },
   {
    "duration": 302,
    "start_time": "2022-12-25T19:43:04.499Z"
   },
   {
    "duration": 139,
    "start_time": "2022-12-25T19:43:04.802Z"
   },
   {
    "duration": 7,
    "start_time": "2022-12-25T19:43:04.943Z"
   },
   {
    "duration": 127,
    "start_time": "2022-12-25T19:43:04.952Z"
   },
   {
    "duration": 7,
    "start_time": "2022-12-25T19:43:05.081Z"
   },
   {
    "duration": 6,
    "start_time": "2022-12-25T19:43:05.089Z"
   },
   {
    "duration": 172,
    "start_time": "2022-12-25T19:43:05.096Z"
   },
   {
    "duration": 11,
    "start_time": "2022-12-25T19:43:05.269Z"
   },
   {
    "duration": 9,
    "start_time": "2022-12-25T19:43:05.283Z"
   },
   {
    "duration": 31,
    "start_time": "2022-12-25T19:43:05.294Z"
   },
   {
    "duration": 6,
    "start_time": "2022-12-25T19:43:05.327Z"
   },
   {
    "duration": 25,
    "start_time": "2022-12-25T19:43:05.335Z"
   },
   {
    "duration": 8,
    "start_time": "2022-12-25T19:43:05.362Z"
   },
   {
    "duration": 15,
    "start_time": "2022-12-25T19:43:05.372Z"
   },
   {
    "duration": 8,
    "start_time": "2022-12-25T19:44:29.114Z"
   }
  ],
  "kernelspec": {
   "display_name": "Python 3 (ipykernel)",
   "language": "python",
   "name": "python3"
  },
  "language_info": {
   "codemirror_mode": {
    "name": "ipython",
    "version": 3
   },
   "file_extension": ".py",
   "mimetype": "text/x-python",
   "name": "python",
   "nbconvert_exporter": "python",
   "pygments_lexer": "ipython3",
   "version": "3.9.7"
  },
  "toc": {
   "base_numbering": 1,
   "nav_menu": {},
   "number_sections": true,
   "sideBar": true,
   "skip_h1_title": true,
   "title_cell": "Table of Contents",
   "title_sidebar": "Contents",
   "toc_cell": false,
   "toc_position": {},
   "toc_section_display": true,
   "toc_window_display": false
  }
 },
 "nbformat": 4,
 "nbformat_minor": 5
}
